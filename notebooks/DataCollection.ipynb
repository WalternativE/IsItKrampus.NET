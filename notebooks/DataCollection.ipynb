{
 "cells": [
  {
   "cell_type": "code",
   "execution_count": 1,
   "metadata": {},
   "source": [
    "#!fsharp\n",
    "#r \"nuget: canopy\"\n",
    "#r \"nuget: Selenium.WebDriver.ChromeDriver, 87.0.4280.8800\"\n",
    "#r \"nuget: SixLabors.ImageSharp, 1.0.2\""
   ],
   "outputs": [
    {
     "output_type": "execute_result",
     "data": {
      "text/plain": "Installing package Selenium.WebDriver.ChromeDriver, version 87.0.4280.8800............."
     },
     "execution_count": 1,
     "metadata": {}
    },
    {
     "output_type": "execute_result",
     "data": {
      "text/plain": "Installed package SixLabors.ImageSharp version 1.0.2"
     },
     "execution_count": 1,
     "metadata": {}
    },
    {
     "output_type": "execute_result",
     "data": {
      "text/plain": "Installed package canopy version 2.1.5"
     },
     "execution_count": 1,
     "metadata": {}
    }
   ]
  },
  {
   "cell_type": "code",
   "execution_count": 1,
   "metadata": {},
   "source": [
    "#!fsharp\n",
    "let getSearchUrl (query: string) =\n",
    "    $\"https://www.google.com/search?q={query}&sclient=img&source=lnms&tbm=isch&sa=X&ved=2ahUKEwiJwLa-7s_tAhUH9IUKHfwYCaYQ_AUoAXoECBIQAw&biw=1536&bih=719&dpr=1.25\""
   ],
   "outputs": []
  },
  {
   "cell_type": "code",
   "execution_count": 1,
   "metadata": {},
   "source": [
    "#!fsharp\n",
    "open System\n",
    "open canopy.configuration\n",
    "open canopy.classic\n",
    "open OpenQA.Selenium\n",
    "open SixLabors.ImageSharp\n",
    "open SixLabors.ImageSharp.Processing"
   ],
   "outputs": []
  },
  {
   "cell_type": "code",
   "execution_count": 1,
   "metadata": {},
   "source": [
    "#!fsharp\n",
    "canopy.configuration.chromeDir <- @\"C:\\Users\\grego\\.nuget\\packages\\selenium.webdriver.chromedriver\\87.0.4280.8800\\driver\\win32\"\n",
    "start chrome"
   ],
   "outputs": []
  },
  {
   "cell_type": "code",
   "execution_count": 1,
   "metadata": {},
   "source": [
    "#!fsharp\n",
    "url (getSearchUrl \"nikolaus\")"
   ],
   "outputs": []
  },
  {
   "cell_type": "code",
   "execution_count": 1,
   "metadata": {},
   "source": [
    "#!fsharp\n",
    "let elem =\n",
    "    elements \"div#islmp img\"\n",
    "    |> List.head\n",
    "\n",
    "click elem"
   ],
   "outputs": []
  },
  {
   "cell_type": "code",
   "execution_count": 1,
   "metadata": {},
   "source": [
    "#!fsharp\n",
    "let img_elem =\n",
    "    element \"div#islsp img\"\n",
    "\n",
    "img_elem.GetAttribute(\"src\")"
   ],
   "outputs": []
  },
  {
   "cell_type": "code",
   "execution_count": 1,
   "metadata": {},
   "source": [
    "#!fsharp\n",
    "let getImgUrls (n: int) (query: string) =\n",
    "    let searchUrl = getSearchUrl query\n",
    "    url searchUrl\n",
    "    sleep 1\n",
    "\n",
    "    let imagesToClick =\n",
    "        elements \"div#islmp a.wXeWr.islib.nfEiy.mM5pbd img\"\n",
    "\n",
    "    let toTake = min (List.length imagesToClick) n\n",
    "\n",
    "    let getImageUrl (elem : IWebElement) =\n",
    "        try\n",
    "            click elem\n",
    "            sleep 1\n",
    "\n",
    "            // nah this is not brittle and hacky as hell at all\n",
    "            elem |> parent |> parent |> fun e -> e.GetAttribute(\"href\")\n",
    "            |> fun s -> s.Split('?').[1].Split('&').[0].Substring(7)\n",
    "            |> Uri.UnescapeDataString\n",
    "            |> Some\n",
    "        with\n",
    "        | e -> None\n",
    "\n",
    "    imagesToClick\n",
    "    |> List.take toTake\n",
    "    |> List.map getImageUrl\n",
    "    |> List.filter Option.isSome\n",
    "    |> List.map (Option.defaultValue String.Empty)\n",
    "\n",
    "let queryString = \"person+in+summer\"\n",
    "let imgUrls = getImgUrls 50 queryString"
   ],
   "outputs": []
  },
  {
   "cell_type": "code",
   "execution_count": 1,
   "metadata": {},
   "source": [
    "#!fsharp\n",
    "DisplayFunctions.display imgUrls\n",
    "\n",
    "DisplayFunctions.HTML $\"<img src=\\\"%s{imgUrls |> List.skip 6 |> List.head}\\\"></img>\""
   ],
   "outputs": [
    {
     "output_type": "execute_result",
     "data": {
      "text/html": "<table><thead><tr><th><i>index</i></th><th>value</th></tr></thead><tbody><tr><td>0</td><td><div class=\"dni-plaintext\">https://imgix.bustle.com/uploads/getty/2020/1/30/421b844f-3adb-441f-87ac-15712a2f685c-getty-1201679705.jpg</div></td></tr><tr><td>1</td><td><div class=\"dni-plaintext\">https://previews.123rf.com/images/olesiabilkei/olesiabilkei1505/olesiabilkei150500186/40593756-happy-fashionable-kid-boy-enjoys-life-on-summer-beach.jpg</div></td></tr><tr><td>2</td><td><div class=\"dni-plaintext\">https://cdn.pixabay.com/photo/2015/08/28/14/55/girl-911983_960_720.jpg</div></td></tr><tr><td>3</td><td><div class=\"dni-plaintext\">https://www.raleighmedicalgroup.com/Portals/15/Blog%20Pictures/10%20Ways%20To%20Stay%20Hydrated%20This%20Summer.jpg</div></td></tr><tr><td>4</td><td><div class=\"dni-plaintext\">https://www.jetsetter.com/wp-content/uploads/sites/7/2018/06/GettyImages-627010960.jpg</div></td></tr><tr><td>5</td><td><div class=\"dni-plaintext\">https://www.jacuzzisaunas.ca/wp-content/uploads/2017/07/Fit-Woman-Standing-on-the-Beach-in-Summer.jpg</div></td></tr><tr><td>6</td><td><div class=\"dni-plaintext\">https://images.theconversation.com/files/283408/original/file-20190709-44487-zuosr4.jpg?ixlib=rb-1.1.0&amp;q=45&amp;auto=format&amp;w=1200&amp;h=675.0&amp;fit=crop</div></td></tr><tr><td>7</td><td><div class=\"dni-plaintext\">https://2zadtx2dccrd43bc0r18hhqj-wpengine.netdna-ssl.com/wp-content/uploads/sites/8/2019/09/Sitting-At-Beach_G_1055265486.jpg</div></td></tr><tr><td>8</td><td><div class=\"dni-plaintext\">https://wilsonkubwayo.com/wp-content/uploads/2017/09/Wilson-Beach-1080x675.jpg</div></td></tr><tr><td>9</td><td><div class=\"dni-plaintext\">https://us.123rf.com/450wm/maridav/maridav1902/maridav190200935/117964219-beach-summer-beach-people-lifestyle-happy-couple-enjoying-sunset-walk-on-shelling-beach-famous-touri.jpg?ver=6</div></td></tr><tr><td>10</td><td><div class=\"dni-plaintext\">http://www.thedaycollections.com/wp-content/uploads/2017/07/summer-men-outfit-1.jpg</div></td></tr><tr><td>11</td><td><div class=\"dni-plaintext\">https://www.mensjournal.com/wp-content/uploads/mf/man-surfing-beach-1280.jpg?w=900&amp;h=506&amp;crop=1&amp;quality=86&amp;strip=all&amp;iswp=1</div></td></tr><tr><td>12</td><td><div class=\"dni-plaintext\">http://www.wa11papers.com/assets/previews/nature-sky-girl-water-beautiful-person-young-sea-hot-beach-wallpaper-2304-preview-0a61f8ee.jpg</div></td></tr><tr><td>13</td><td><div class=\"dni-plaintext\">https://i.pinimg.com/originals/36/d8/d4/36d8d4be72ff69922312c36daf0f499d.jpg</div></td></tr><tr><td>14</td><td><div class=\"dni-plaintext\">https://media.gq.com/photos/5583c45f09f0bee564423be6/master/pass/style-blogs-the-gq-eye-Jake-Woolf-Seasonal-Clothes-Essay-635.jpg</div></td></tr><tr><td>15</td><td><div class=\"dni-plaintext\">https://cdn.pixabay.com/photo/2015/08/28/14/54/girl-911976_960_720.jpg</div></td></tr><tr><td>16</td><td><div class=\"dni-plaintext\">https://cdn.shopify.com/s/files/1/1303/2917/products/summer-5_800x.jpg?v=1557424234</div></td></tr><tr><td>17</td><td><div class=\"dni-plaintext\">https://i.pinimg.com/originals/05/28/37/052837c0ad600d98bec9f254ebe42d4a.jpg</div></td></tr><tr><td>18</td><td><div class=\"dni-plaintext\">https://now.tufts.edu/sites/default/files/190604_running_hydration_lg.jpg</div></td></tr><tr><td>19</td><td><div class=\"dni-plaintext\">https://thefashiontag.com/wp-content/uploads/2017/06/mens-beach-trends-tshirts-1.jpg</div></td></tr><tr><td colspan=\"2\">(28 more)</td></tr></tbody></table>"
     },
     "execution_count": 1,
     "metadata": {}
    },
    {
     "output_type": "execute_result",
     "data": {
      "text/html": "<img src=\"https://images.theconversation.com/files/283408/original/file-20190709-44487-zuosr4.jpg?ixlib=rb-1.1.0&q=45&auto=format&w=1200&h=675.0&fit=crop\"></img>"
     },
     "execution_count": 1,
     "metadata": {}
    }
   ]
  },
  {
   "cell_type": "code",
   "execution_count": 1,
   "metadata": {},
   "source": [
    "#!fsharp\n",
    "let imageSourcesTarget = @\"C:\\Users\\grego\\source\\repos\\IsItKrampus.NET\\data\\image_sources.tsv\""
   ],
   "outputs": []
  },
  {
   "cell_type": "code",
   "execution_count": 1,
   "metadata": {},
   "source": [
    "#!fsharp\n",
    "imgUrls\n",
    "|> List.map (fun s -> $\"{queryString}\\t{s}\")\n",
    "|> fun lines -> File.AppendAllLines(imageSourcesTarget, lines)"
   ],
   "outputs": []
  },
  {
   "cell_type": "code",
   "execution_count": 1,
   "metadata": {},
   "source": [
    "#!fsharp\n",
    "// in case you need to recreate the whole dataset again from the sources\n",
    "// let urls =\n",
    "//     File.ReadAllLines imageSourcesTarget\n",
    "//     |> Array.skip 1\n",
    "//     |> Array.map (fun s -> s.Split('\\t').[1])\n",
    "\n",
    "let urls =\n",
    "    imgUrls\n",
    "    |> Array.ofList"
   ],
   "outputs": []
  },
  {
   "cell_type": "code",
   "execution_count": 1,
   "metadata": {},
   "source": [
    "#!fsharp\n",
    "open System.Net.Http\n",
    "\n",
    "let httpClient = new HttpClient()"
   ],
   "outputs": []
  },
  {
   "cell_type": "code",
   "execution_count": 1,
   "metadata": {},
   "source": [
    "#!fsharp\n",
    "let req =\n",
    "    urls\n",
    "    |> Array.head\n",
    "    |> httpClient.GetAsync\n",
    "    |> Async.AwaitTask\n",
    "    |> Async.RunSynchronously"
   ],
   "outputs": []
  },
  {
   "cell_type": "code",
   "execution_count": 1,
   "metadata": {},
   "source": [
    "#!fsharp\n",
    "let bytes =\n",
    "    req.Content.ReadAsByteArrayAsync()\n",
    "    |> Async.AwaitTask\n",
    "    |> Async.RunSynchronously"
   ],
   "outputs": []
  },
  {
   "cell_type": "code",
   "execution_count": 1,
   "metadata": {},
   "source": [
    "#!fsharp\n",
    "let format = Image.DetectFormat(bytes)\n",
    "display <| format.Name.ToLower()"
   ],
   "outputs": [
    {
     "output_type": "execute_result",
     "data": {
      "text/plain": "jpeg"
     },
     "execution_count": 1,
     "metadata": {}
    }
   ]
  },
  {
   "cell_type": "code",
   "execution_count": 1,
   "metadata": {},
   "source": [
    "#!fsharp\n",
    "let rawFolder = @\"C:\\Users\\grego\\source\\repos\\IsItKrampus.NET\\data\\raw\""
   ],
   "outputs": []
  },
  {
   "cell_type": "code",
   "execution_count": 1,
   "metadata": {},
   "source": [
    "#!fsharp\n",
    "let downloadImage (uri: string) =\n",
    "    let req =\n",
    "        try\n",
    "            httpClient.GetAsync uri\n",
    "            |> Async.AwaitTask\n",
    "            |> Async.RunSynchronously\n",
    "            |> Some\n",
    "        with e ->\n",
    "            display $\"Req failed. Message: {e.Message}\" |> ignore\n",
    "            None\n",
    "\n",
    "    match req with\n",
    "    | Some req when req.IsSuccessStatusCode && (isNull req.Content |> not) ->\n",
    "        let bytes =\n",
    "            req.Content.ReadAsByteArrayAsync()\n",
    "            |> Async.AwaitTask\n",
    "            |> Async.RunSynchronously\n",
    "\n",
    "        let format = Image.DetectFormat(bytes)\n",
    "\n",
    "        let guid = Guid.NewGuid()\n",
    "\n",
    "        let ext = if isNull format || isNull format.Name then String.Empty else \".\" + format.Name.ToLower()\n",
    "        let fileName = $\"{guid}{ext}\"\n",
    "        File.WriteAllBytes(Path.Combine(rawFolder, fileName), bytes)\n",
    "\n",
    "        Some (uri, guid, fileName)\n",
    "    | _ ->\n",
    "        display $\"{uri}: could not be processed\" |> ignore\n",
    "        None"
   ],
   "outputs": []
  },
  {
   "cell_type": "code",
   "execution_count": 1,
   "metadata": {},
   "source": [
    "#!fsharp\n",
    "let processedImages =\n",
    "    urls\n",
    "    |> Array.map downloadImage"
   ],
   "outputs": []
  },
  {
   "cell_type": "code",
   "execution_count": 1,
   "metadata": {},
   "source": [
    "#!fsharp\n",
    "let imageDownloadsPathFile = @\"C:\\Users\\grego\\source\\repos\\IsItKrampus.NET\\data\\image_downloads.tsv\"\n",
    "\n",
    "processedImages\n",
    "|> Array.filter Option.isSome\n",
    "|> Array.map (Option.defaultValue (String.Empty, Guid.Empty, String.Empty))\n",
    "|> Array.map (fun (uri, id, name) -> $\"{uri}\\t{id}\\t{name}\")\n",
    "|> fun lines -> File.AppendAllLines(imageDownloadsPathFile, lines)"
   ],
   "outputs": []
  }
 ],
 "metadata": {
  "kernelspec": {
   "display_name": ".NET (C#)",
   "language": "C#",
   "name": ".net-csharp"
  },
  "language_info": {
   "file_extension": ".cs",
   "mimetype": "text/x-csharp",
   "name": "C#",
   "pygments_lexer": "csharp",
   "version": "8.0"
  }
 },
 "nbformat": 4,
 "nbformat_minor": 4
}