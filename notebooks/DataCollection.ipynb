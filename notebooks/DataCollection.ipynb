{
 "cells": [
  {
   "cell_type": "code",
   "execution_count": 1,
   "metadata": {},
   "source": [
    "#!fsharp\n",
    "#r \"nuget: canopy\"\n",
    "#r \"nuget: Selenium.WebDriver.ChromeDriver, 87.0.4280.8800\"\n",
    "#r \"nuget: SixLabors.ImageSharp, 1.0.2\""
   ],
   "outputs": [
    {
     "output_type": "execute_result",
     "data": {
      "text/plain": "Installed package SixLabors.ImageSharp version 1.0.2"
     },
     "execution_count": 1,
     "metadata": {}
    },
    {
     "output_type": "execute_result",
     "data": {
      "text/plain": "Installed package canopy version 2.1.5"
     },
     "execution_count": 1,
     "metadata": {}
    },
    {
     "output_type": "execute_result",
     "data": {
      "text/plain": "Installing package Selenium.WebDriver.ChromeDriver, version 87.0.4280.8800................"
     },
     "execution_count": 1,
     "metadata": {}
    }
   ]
  },
  {
   "cell_type": "code",
   "execution_count": 1,
   "metadata": {},
   "source": [
    "#!fsharp\n",
    "let getSearchUrl (query: string) =\n",
    "    $\"https://www.google.com/search?q={query}&sclient=img&source=lnms&tbm=isch&sa=X&ved=2ahUKEwiJwLa-7s_tAhUH9IUKHfwYCaYQ_AUoAXoECBIQAw&biw=1536&bih=719&dpr=1.25\""
   ],
   "outputs": []
  },
  {
   "cell_type": "code",
   "execution_count": 1,
   "metadata": {},
   "source": [
    "#!fsharp\n",
    "open System\n",
    "open canopy.configuration\n",
    "open canopy.classic\n",
    "open OpenQA.Selenium\n",
    "open SixLabors.ImageSharp\n",
    "open SixLabors.ImageSharp.Processing"
   ],
   "outputs": []
  },
  {
   "cell_type": "code",
   "execution_count": 1,
   "metadata": {},
   "source": [
    "#!fsharp\n",
    "canopy.configuration.chromeDir <- @\"C:\\Users\\grego\\.nuget\\packages\\selenium.webdriver.chromedriver\\87.0.4280.8800\\driver\\win32\"\n",
    "start chrome"
   ],
   "outputs": []
  },
  {
   "cell_type": "code",
   "execution_count": 1,
   "metadata": {},
   "source": [
    "#!fsharp\n",
    "url (getSearchUrl \"nikolaus\")"
   ],
   "outputs": []
  },
  {
   "cell_type": "code",
   "execution_count": 1,
   "metadata": {},
   "source": [
    "#!fsharp\n",
    "let elem =\n",
    "    elements \"div#islmp img\"\n",
    "    |> List.head\n",
    "\n",
    "click elem"
   ],
   "outputs": []
  },
  {
   "cell_type": "code",
   "execution_count": 1,
   "metadata": {},
   "source": [
    "#!fsharp\n",
    "let img_elem =\n",
    "    element \"div#islsp img\"\n",
    "\n",
    "img_elem.GetAttribute(\"src\")"
   ],
   "outputs": []
  },
  {
   "cell_type": "code",
   "execution_count": 1,
   "metadata": {},
   "source": [
    "#!fsharp\n",
    "let getImgUrls (n: int) (query: string) =\n",
    "    let searchUrl = getSearchUrl query\n",
    "    url searchUrl\n",
    "    sleep 1\n",
    "\n",
    "    let imagesToClick =\n",
    "        elements \"div#islmp a.wXeWr.islib.nfEiy.mM5pbd img\"\n",
    "\n",
    "    let toTake = min (List.length imagesToClick) n\n",
    "\n",
    "    let getImageUrl (elem : IWebElement) =\n",
    "        try\n",
    "            click elem\n",
    "            sleep 1\n",
    "\n",
    "            // nah this is not brittle and hacky as hell at all\n",
    "            elem |> parent |> parent |> fun e -> e.GetAttribute(\"href\")\n",
    "            |> fun s -> s.Split('?').[1].Split('&').[0].Substring(7)\n",
    "            |> Uri.UnescapeDataString\n",
    "            |> Some\n",
    "        with\n",
    "        | e -> None\n",
    "\n",
    "    imagesToClick\n",
    "    |> List.take toTake\n",
    "    |> List.map getImageUrl\n",
    "    |> List.filter Option.isSome\n",
    "    |> List.map (Option.defaultValue String.Empty)\n",
    "\n",
    "let queryString = \"person+standing+in+front+of+door\"\n",
    "let imgUrls = getImgUrls 50 queryString"
   ],
   "outputs": []
  },
  {
   "cell_type": "code",
   "execution_count": 1,
   "metadata": {},
   "source": [
    "#!fsharp\n",
    "DisplayFunctions.display imgUrls\n",
    "\n",
    "DisplayFunctions.HTML $\"<img src=\\\"{imgUrls |> List.skip 8 |> List.head}\\\"></img>\""
   ],
   "outputs": [
    {
     "output_type": "execute_result",
     "data": {
      "text/html": "<table><thead><tr><th><i>index</i></th><th>value</th></tr></thead><tbody><tr><td>0</td><td><div class=\"dni-plaintext\">https://as1.ftcdn.net/jpg/00/73/66/14/500_F_73661493_gbPKqQ0ngt2oQXFCJp1k9PBkdjr9f7RC.jpg</div></td></tr><tr><td>1</td><td><div class=\"dni-plaintext\">https://c8.alamy.com/comp/C788MG/silhouette-of-a-man-standing-in-front-of-an-open-door-C788MG.jpg</div></td></tr><tr><td>2</td><td><div class=\"dni-plaintext\">https://st3.depositphotos.com/2299955/14949/i/1600/depositphotos_149493202-stock-photo-mature-man-standing-in-front.jpg</div></td></tr><tr><td>3</td><td><div class=\"dni-plaintext\">https://previews.123rf.com/images/enki/enki1303/enki130300009/18708238-business-man-standing-in-front-of-the-door.jpg</div></td></tr><tr><td>4</td><td><div class=\"dni-plaintext\">https://image.freepik.com/free-photo/man-casual-outfit-standing-front-door_23-2148248475.jpg</div></td></tr><tr><td>5</td><td><div class=\"dni-plaintext\">https://previews.123rf.com/images/dglimages/dglimages1705/dglimages170500043/78146911-happy-senior-man-standing-outside-the-front-door-of-his-home-he-has-his-arms-crossed-and-is-looking-.jpg</div></td></tr><tr><td>6</td><td><div class=\"dni-plaintext\">https://c8.alamy.com/comp/C788NB/silhouette-of-a-man-standing-in-front-of-an-open-door-C788NB.jpg</div></td></tr><tr><td>7</td><td><div class=\"dni-plaintext\">https://st.focusedcollection.com/14026668/i/1800/focused_183337978-stock-photo-mature-man-standing-front-door.jpg</div></td></tr><tr><td>8</td><td><div class=\"dni-plaintext\">https://c8.alamy.com/comp/C3HKTA/young-woman-standing-at-front-door-C3HKTA.jpg</div></td></tr><tr><td>9</td><td><div class=\"dni-plaintext\">https://cdn7.dissolve.com/p/D943_217_971/D943_217_971_1200.jpg</div></td></tr><tr><td>10</td><td><div class=\"dni-plaintext\">https://image.shutterstock.com/image-photo/businessman-standing-front-closed-doors-260nw-145244965.jpg</div></td></tr><tr><td>11</td><td><div class=\"dni-plaintext\">https://image.shutterstock.com/image-photo/man-standing-front-door-his-600w-53533051.jpg</div></td></tr><tr><td>12</td><td><div class=\"dni-plaintext\">https://previews.123rf.com/images/andreypopov/andreypopov1909/andreypopov190900830/130637264-man-standing-in-front-of-the-house-knocking-the-door.jpg</div></td></tr><tr><td>13</td><td><div class=\"dni-plaintext\">https://miro.medium.com/max/6000/1*vCUrCkp9nq1F1Cj6KQbTvw.jpeg</div></td></tr><tr><td>14</td><td><div class=\"dni-plaintext\">https://thumbs.dreamstime.com/z/businessman-standing-front-doors-symbolizing-different-options-68758470.jpg</div></td></tr><tr><td>15</td><td><div class=\"dni-plaintext\">https://comps.canstockphoto.com/businessman-standing-in-front-of-open-stock-image_csp65105763.jpg</div></td></tr><tr><td>16</td><td><div class=\"dni-plaintext\">https://images.unsplash.com/photo-1519918609088-32b1dce446bc?ixlib=rb-1.2.1&amp;ixid=MXwxMjA3fDB8MHxwaG90by1wYWdlfHx8fGVufDB8fHw%3D&amp;auto=format&amp;fit=crop&amp;w=1000&amp;q=80</div></td></tr><tr><td>17</td><td><div class=\"dni-plaintext\">https://thumbs.dreamstime.com/z/young-business-man-front-open-door-28566415.jpg</div></td></tr><tr><td>18</td><td><div class=\"dni-plaintext\">https://i.pinimg.com/originals/87/3a/65/873a65e1451798fa95eb5e545e04e9d8.jpg</div></td></tr><tr><td>19</td><td><div class=\"dni-plaintext\">https://media01.living4media.com/largepreviews/MzkyOTE2MjU4/12674718-Person-standing-in-open-front-door.jpg</div></td></tr><tr><td colspan=\"2\">(30 more)</td></tr></tbody></table>"
     },
     "execution_count": 1,
     "metadata": {}
    },
    {
     "output_type": "execute_result",
     "data": {
      "text/html": "<img src=\"https://c8.alamy.com/comp/C3HKTA/young-woman-standing-at-front-door-C3HKTA.jpg\"></img>"
     },
     "execution_count": 1,
     "metadata": {}
    }
   ]
  },
  {
   "cell_type": "code",
   "execution_count": 1,
   "metadata": {},
   "source": [
    "#!fsharp\n",
    "let imageSourcesTarget = @\"C:\\Users\\grego\\source\\repos\\IsItKrampus.NET\\data\\image_sources.tsv\""
   ],
   "outputs": []
  },
  {
   "cell_type": "code",
   "execution_count": 1,
   "metadata": {},
   "source": [
    "#!fsharp\n",
    "imgUrls\n",
    "|> List.map (fun s -> $\"{queryString}\\t{s}\")\n",
    "|> fun lines -> File.AppendAllLines(imageSourcesTarget, lines)"
   ],
   "outputs": []
  },
  {
   "cell_type": "code",
   "execution_count": 1,
   "metadata": {},
   "source": [
    "#!fsharp\n",
    "// in case you need to recreate the whole dataset again from the sources\n",
    "// let urls =\n",
    "//     File.ReadAllLines imageSourcesTarget\n",
    "//     |> Array.skip 1\n",
    "//     |> Array.map (fun s -> s.Split('\\t').[1])\n",
    "\n",
    "let urls =\n",
    "    imgUrls\n",
    "    |> Array.ofList"
   ],
   "outputs": []
  },
  {
   "cell_type": "code",
   "execution_count": 1,
   "metadata": {},
   "source": [
    "#!fsharp\n",
    "open System.Net.Http\n",
    "\n",
    "let httpClient = new HttpClient()"
   ],
   "outputs": []
  },
  {
   "cell_type": "code",
   "execution_count": 1,
   "metadata": {},
   "source": [
    "#!fsharp\n",
    "let req =\n",
    "    urls\n",
    "    |> Array.head\n",
    "    |> httpClient.GetAsync\n",
    "    |> Async.AwaitTask\n",
    "    |> Async.RunSynchronously"
   ],
   "outputs": []
  },
  {
   "cell_type": "code",
   "execution_count": 1,
   "metadata": {},
   "source": [
    "#!fsharp\n",
    "let bytes =\n",
    "    req.Content.ReadAsByteArrayAsync()\n",
    "    |> Async.AwaitTask\n",
    "    |> Async.RunSynchronously"
   ],
   "outputs": []
  },
  {
   "cell_type": "code",
   "execution_count": 1,
   "metadata": {},
   "source": [
    "#!fsharp\n",
    "let format = Image.DetectFormat(bytes)\n",
    "display <| format.Name.ToLower()"
   ],
   "outputs": [
    {
     "output_type": "execute_result",
     "data": {
      "text/plain": "jpeg"
     },
     "execution_count": 1,
     "metadata": {}
    }
   ]
  },
  {
   "cell_type": "code",
   "execution_count": 1,
   "metadata": {},
   "source": [
    "#!fsharp\n",
    "let rawFolder = @\"C:\\Users\\grego\\source\\repos\\IsItKrampus.NET\\data\\raw\""
   ],
   "outputs": []
  },
  {
   "cell_type": "code",
   "execution_count": 1,
   "metadata": {},
   "source": [
    "#!fsharp\n",
    "let downloadImage (uri: string) =\n",
    "    let req =\n",
    "        try\n",
    "            httpClient.GetAsync uri\n",
    "            |> Async.AwaitTask\n",
    "            |> Async.RunSynchronously\n",
    "            |> Some\n",
    "        with e ->\n",
    "            display $\"Req failed. Message: {e.Message}\" |> ignore\n",
    "            None\n",
    "\n",
    "    match req with\n",
    "    | Some req when req.IsSuccessStatusCode && (isNull req.Content |> not) ->\n",
    "        let bytes =\n",
    "            req.Content.ReadAsByteArrayAsync()\n",
    "            |> Async.AwaitTask\n",
    "            |> Async.RunSynchronously\n",
    "\n",
    "        let format = Image.DetectFormat(bytes)\n",
    "\n",
    "        let guid = Guid.NewGuid()\n",
    "\n",
    "        let ext = if isNull format || isNull format.Name then String.Empty else \".\" + format.Name.ToLower()\n",
    "        let fileName = $\"{guid}{ext}\"\n",
    "        File.WriteAllBytes(Path.Combine(rawFolder, fileName), bytes)\n",
    "\n",
    "        Some (uri, guid, fileName)\n",
    "    | _ ->\n",
    "        display $\"{uri}: could not be processed\" |> ignore\n",
    "        None"
   ],
   "outputs": []
  },
  {
   "cell_type": "code",
   "execution_count": 1,
   "metadata": {},
   "source": [
    "#!fsharp\n",
    "let processedImages =\n",
    "    urls\n",
    "    |> Array.map downloadImage"
   ],
   "outputs": []
  },
  {
   "cell_type": "code",
   "execution_count": 1,
   "metadata": {},
   "source": [
    "#!fsharp\n",
    "let imageDownloadsPathFile = @\"C:\\Users\\grego\\source\\repos\\IsItKrampus.NET\\data\\image_downloads.tsv\"\n",
    "\n",
    "processedImages\n",
    "|> Array.filter Option.isSome\n",
    "|> Array.map (Option.defaultValue (String.Empty, Guid.Empty, String.Empty))\n",
    "|> Array.map (fun (uri, id, name) -> $\"{uri}\\t{id}\\t{name}\")\n",
    "|> fun lines -> File.AppendAllLines(imageDownloadsPathFile, lines)"
   ],
   "outputs": []
  }
 ],
 "metadata": {
  "kernelspec": {
   "display_name": ".NET (C#)",
   "language": "C#",
   "name": ".net-csharp"
  },
  "language_info": {
   "file_extension": ".cs",
   "mimetype": "text/x-csharp",
   "name": "C#",
   "pygments_lexer": "csharp",
   "version": "8.0"
  }
 },
 "nbformat": 4,
 "nbformat_minor": 4
}