{
 "cells": [
  {
   "cell_type": "markdown",
   "metadata": {},
   "source": [
    "# Data collection\n",
    "\n",
    "This notebook holds the code to scrape Google image search for image urls and download the images. You should also be able to use this notebook to generate the dataset if you need to recreate it from the already scraped URIs.\n",
    "\n",
    "As usual the first two cells are there to load external libraries via nuget (in this case canopy, ImageSharp and the native Selenium Chrome webdriver) and open the used namespaces."
   ]
  },
  {
   "cell_type": "code",
   "execution_count": 1,
   "metadata": {},
   "source": [
    "#!fsharp\n",
    "#r \"nuget: canopy\"\n",
    "#r \"nuget: Selenium.WebDriver.ChromeDriver, 87.0.4280.8800\"\n",
    "#r \"nuget: SixLabors.ImageSharp, 1.0.2\""
   ],
   "outputs": [
    {
     "output_type": "execute_result",
     "data": {
      "text/plain": "Installed package canopy version 2.1.5"
     },
     "execution_count": 1,
     "metadata": {}
    },
    {
     "output_type": "execute_result",
     "data": {
      "text/plain": "Installed package SixLabors.ImageSharp version 1.0.2"
     },
     "execution_count": 1,
     "metadata": {}
    },
    {
     "output_type": "execute_result",
     "data": {
      "text/plain": "Installing package Selenium.WebDriver.ChromeDriver, version 87.0.4280.8800............"
     },
     "execution_count": 1,
     "metadata": {}
    }
   ]
  },
  {
   "cell_type": "code",
   "execution_count": 1,
   "metadata": {},
   "source": [
    "#!fsharp\n",
    "open System\n",
    "open canopy.configuration\n",
    "open canopy.classic\n",
    "open OpenQA.Selenium\n",
    "open SixLabors.ImageSharp\n",
    "open SixLabors.ImageSharp.Processing"
   ],
   "outputs": []
  },
  {
   "cell_type": "markdown",
   "metadata": {},
   "source": [
    "There are a couple of paths you need to save your search results, the dowloaded raw files and the results of your dowload attempts. .NET Interactive uses paths relative to the Kernel location (at least in the current VS Code build) and not to the notebook location. Because of this it makes more sense to keep the paths absolute. Change this according to your setup."
   ]
  },
  {
   "cell_type": "code",
   "execution_count": 1,
   "metadata": {},
   "source": [
    "#!fsharp\n",
    "let rootDirectory = @\"C:\\Users\\grego\\source\\repos\\IsItKrampus.NET\" // change this to reflect your setup\n",
    "\n",
    "let dataDir = Path.Combine(rootDirectory, \"data\")\n",
    "let imageSourcesTarget = Path.Combine(dataDir, \"image_sources.tsv\")\n",
    "let rawFolder = Path.Combine(dataDir, \"raw\")\n",
    "let imageDownloadsPathFile = Path.Combine(dataDir, \"image_downloads.tsv\")"
   ],
   "outputs": []
  },
  {
   "cell_type": "markdown",
   "metadata": {},
   "source": [
    "The search URL is pretty much just taken out of my browser. It doesn't really need all the query parameters but it was the URL I used to create the dataset so I wanted to document it as closely as possible."
   ]
  },
  {
   "cell_type": "code",
   "execution_count": 1,
   "metadata": {},
   "source": [
    "#!fsharp\n",
    "let getSearchUrl (query: string) =\n",
    "    $\"https://www.google.com/search?q={query}&sclient=img&source=lnms&tbm=isch&sa=X&ved=2ahUKEwiJwLa-7s_tAhUH9IUKHfwYCaYQ_AUoAXoECBIQAw&biw=1536&bih=719&dpr=1.25\""
   ],
   "outputs": []
  },
  {
   "cell_type": "markdown",
   "metadata": {},
   "source": [
    "Canopy is a nice DSL over Selenium. To use it you'll need to use the correct Selenium webdriver for your browser and yoru operating system. I used Chrome on a 64bit Windows 10 build. If you want to use something else (like Firefox on Linux) you need to reference the correct nuget package for your browser and configure the correct native webdriver directory.\n",
    "\n",
    ".NET interactive - per default - uses your global Nuget settings. This means, that packages are cached in your `~/.nuget/packages` directory."
   ]
  },
  {
   "cell_type": "code",
   "execution_count": 1,
   "metadata": {},
   "source": [
    "#!fsharp\n",
    "canopy.configuration.chromeDir <- @\"C:\\Users\\grego\\.nuget\\packages\\selenium.webdriver.chromedriver\\87.0.4280.8800\\driver\\win32\" // change this to reflect your system\n",
    "start chrome"
   ],
   "outputs": []
  },
  {
   "cell_type": "markdown",
   "metadata": {},
   "source": [
    "This cell starts a new image search and looks for the thumbnails on the page. I try to get 50 samples for each search term (because that's roughly how many you can get withouth scrolling and forcing the web app to load more images). The DOM queries aren't very generalized, so they might break when Google deploys a new version with new mangled class names. It shouldn't be too hard to adapt the query the the new markup. Selenium is pretty dependent on the actual viewport of your machine - so better expand your remote controlled browser window to the full screen size."
   ]
  },
  {
   "cell_type": "code",
   "execution_count": 1,
   "metadata": {},
   "source": [
    "#!fsharp\n",
    "let getImgUrls (n: int) (query: string) =\n",
    "    let searchUrl = getSearchUrl query\n",
    "    url searchUrl\n",
    "    // let the browser load the page before going further\n",
    "    sleep 1\n",
    "\n",
    "    let imagesToClick =\n",
    "        elements \"div#islmp a.wXeWr.islib.nfEiy.mM5pbd img\"\n",
    "\n",
    "    let toTake = min (List.length imagesToClick) n\n",
    "\n",
    "    let getImageUrl (elem : IWebElement) =\n",
    "        try\n",
    "            click elem\n",
    "\n",
    "            sleep 1\n",
    "\n",
    "            // nah this is not brittle and hacky as hell at all\n",
    "            elem |> parent |> parent |> fun e -> e.GetAttribute(\"href\")\n",
    "            |> fun s -> s.Split('?').[1].Split('&').[0].Substring(7)\n",
    "            |> Uri.UnescapeDataString\n",
    "            |> Some\n",
    "        with\n",
    "        | e -> None\n",
    "\n",
    "    imagesToClick\n",
    "    |> List.take toTake\n",
    "    |> List.map getImageUrl\n",
    "    |> List.filter Option.isSome\n",
    "    |> List.map (Option.defaultValue String.Empty)\n",
    "\n",
    "let queryString = \"person+in+autumn\"\n",
    "let imgUrls = getImgUrls 50 queryString"
   ],
   "outputs": []
  },
  {
   "cell_type": "markdown",
   "metadata": {},
   "source": [
    "You can always visually inspect the images in your notbeook. .NET Interactive is using web technologies which allows you to use most HTML tags, CSS as well as JavaScript to visualize your data."
   ]
  },
  {
   "cell_type": "code",
   "execution_count": 1,
   "metadata": {},
   "source": [
    "#!fsharp\n",
    "DisplayFunctions.display imgUrls\n",
    "\n",
    "DisplayFunctions.HTML $\"<img src=\\\"%s{imgUrls |> List.skip 6 |> List.head}\\\"></img>\""
   ],
   "outputs": [
    {
     "output_type": "execute_result",
     "data": {
      "text/html": "<table><thead><tr><th><i>index</i></th><th>value</th></tr></thead><tbody><tr><td>0</td><td><div class=\"dni-plaintext\">https://cdn.psychologytoday.com/sites/default/files/field_blog_entry_images/2019-09/happy-woman-fall-leaves_istock-1016602340_martinan.jpg</div></td></tr><tr><td>1</td><td><div class=\"dni-plaintext\">https://previews.123rf.com/images/stakhov/stakhov1409/stakhov140900008/31482501-curly-man-in-blue-jacket-with-computer-tablet-in-autumn.jpg</div></td></tr><tr><td>2</td><td><div class=\"dni-plaintext\">https://previews.123rf.com/images/kmphotography/kmphotography1810/kmphotography181000025/110439368-lonely-man-walking-in-park-alone-in-autumn.jpg</div></td></tr><tr><td>3</td><td><div class=\"dni-plaintext\">https://envato-shoebox-0.imgix.net/5ec0/e148-d102-4350-80f4-fef10d587aab/ya+na+ozere+osen+2.jpg?auto=compress%2Cformat&amp;fit=max&amp;mark=https%3A%2F%2Felements-assets.envato.com%2Fstatic%2Fwatermark2.png&amp;markalign=center%2Cmiddle&amp;markalpha=18&amp;w=700&amp;s=184dd8e279f93f3bfeb9c1bb3b90808e</div></td></tr><tr><td>4</td><td><div class=\"dni-plaintext\">https://previews.123rf.com/images/kmphotography/kmphotography1810/kmphotography181000063/110628447-handsome-man-leaning-against-a-tree-in-a-park-in-autumn-while-smiling.jpg</div></td></tr><tr><td>5</td><td><div class=\"dni-plaintext\">https://media1.s-nbcnews.com/i/newscms/2016_43/1169044/autumn-today-161024-tease_902b5b66bed0e272b41c35cf72828389.jpg</div></td></tr><tr><td>6</td><td><div class=\"dni-plaintext\">https://static.urbandaddy.com/uploads/assets/image/articles/standard/77f1f860154b12ce617912ee96ed2286.jpg</div></td></tr><tr><td>7</td><td><div class=\"dni-plaintext\">https://get.pxhere.com/photo/man-tree-person-people-fall-guy-portrait-spring-red-color-autumn-season-avenue-human-action-981181.jpg</div></td></tr><tr><td>8</td><td><div class=\"dni-plaintext\">https://images.snapwi.re/bbfb/5bf2bfa1b9a48b64bfe91216.w800.jpg</div></td></tr><tr><td>9</td><td><div class=\"dni-plaintext\">https://image.shutterstock.com/image-photo/young-handsome-man-posing-autumn-260nw-475992364.jpg</div></td></tr><tr><td>10</td><td><div class=\"dni-plaintext\">https://res.cloudinary.com/twenty20/private_images/t_watermark-criss-cross-10/v1542477937000/photosp/9a59afa6-52d5-4486-971a-202c39a841a0/stock-photo-park-autumn-fun-joy-child-female-fashion-girl-leaves-9a59afa6-52d5-4486-971a-202c39a841a0.jpg</div></td></tr><tr><td>11</td><td><div class=\"dni-plaintext\">https://previews.123rf.com/images/victorias/victorias1208/victorias120800034/14886795-young-man-sitting-on-the-bench-autumn.jpg</div></td></tr><tr><td>12</td><td><div class=\"dni-plaintext\">https://images.everydayhealth.com/images/emotional-health/5-techniques-to-manage-autumn-anxiety-722x406.jpg</div></td></tr><tr><td>13</td><td><div class=\"dni-plaintext\">https://rimage.gnst.jp/livejapan.com/public/article/detail/a/00/02/a0002646/img/basic/a0002646_main.jpg</div></td></tr><tr><td>14</td><td><div class=\"dni-plaintext\">https://get.pxhere.com/photo/nature-forest-outdoor-person-people-girl-woman-hair-photography-leaf-fall-cute-motion-female-foliage-portrait-young-spring-golden-sitting-autumn-park-romantic-fashion-playing-colorful-yellow-lifestyle-season-smiling-smile-maple-trees-laughing-face-happy-happiness-seasonal-funny-beauty-day-habitat-october-feeling-beautiful-girl-in-the-park-photo-shoot-in-love-portrait-photography-human-positions-throwing-leaves-autumn-portrait-leaves-carpet-stylish-make-up-1198262.jpg</div></td></tr><tr><td>15</td><td><div class=\"dni-plaintext\">https://www.narcity.com/u/2020/08/26/634ba190451ea78b5a821e774f9c1387.jpg_1200x630.jpg</div></td></tr><tr><td>16</td><td><div class=\"dni-plaintext\">https://c1.wallpaperflare.com/preview/231/204/1006/autumn-fall-man-walking.jpg</div></td></tr><tr><td>17</td><td><div class=\"dni-plaintext\">https://i0.wp.com/www.society19.com/wp-content/uploads/2018/09/Fall.jpg?fit=1600%2C1200&amp;ssl=1</div></td></tr><tr><td>18</td><td><div class=\"dni-plaintext\">https://www.incimages.com/uploaded_files/image/1920x1080/getty_686720855_404308.jpg</div></td></tr><tr><td>19</td><td><div class=\"dni-plaintext\">https://pixnio.com/free-images/2017/04/06/2017-04-06-12-36-16.jpg</div></td></tr><tr><td colspan=\"2\">(30 more)</td></tr></tbody></table>"
     },
     "execution_count": 1,
     "metadata": {}
    },
    {
     "output_type": "execute_result",
     "data": {
      "text/html": "<img src=\"https://static.urbandaddy.com/uploads/assets/image/articles/standard/77f1f860154b12ce617912ee96ed2286.jpg\"></img>"
     },
     "execution_count": 1,
     "metadata": {}
    }
   ]
  },
  {
   "cell_type": "markdown",
   "metadata": {},
   "source": [
    "If you're happy with what you got you should save your search results (the query string you used and the resulting image URLs). If you loose all your data (or have to create it in the first place - I'm not allowed to share the images because I don't own them) this helps you to recreate it."
   ]
  },
  {
   "cell_type": "code",
   "execution_count": 1,
   "metadata": {},
   "source": [
    "#!fsharp\n",
    "imgUrls\n",
    "|> List.map (fun s -> $\"{queryString}\\t{s}\")\n",
    "|> fun lines -> File.AppendAllLines(imageSourcesTarget, lines)\n",
    "\n",
    "let urls =\n",
    "    imgUrls\n",
    "    |> Array.ofList"
   ],
   "outputs": []
  },
  {
   "cell_type": "markdown",
   "metadata": {},
   "source": [
    "Create a HttpClient to use for all web requests. If they didn't change it in .NET 5 it should still be the \"correct\" way to reuse the client for the life time of your Kernel instance (rather than using a new client for each request and disposing of them)."
   ]
  },
  {
   "cell_type": "code",
   "execution_count": 1,
   "metadata": {},
   "source": [
    "#!fsharp\n",
    "open System.Net.Http\n",
    "\n",
    "let httpClient = new HttpClient()"
   ],
   "outputs": []
  },
  {
   "cell_type": "markdown",
   "metadata": {},
   "source": [
    "Download the images as raw data. If - for whatever reason - the request fails (URLs can be scraped incorreclty, some hosts block you from loading their images without a user agent, etc) it just logs, that it failed and goes on. In practice it really doesn't matter if a small set of images are lost in the process."
   ]
  },
  {
   "cell_type": "code",
   "execution_count": 1,
   "metadata": {},
   "source": [
    "#!fsharp\n",
    "let downloadImage (uri: string) =\n",
    "    let req =\n",
    "        try\n",
    "            httpClient.GetAsync uri\n",
    "            |> Async.AwaitTask\n",
    "            |> Async.RunSynchronously\n",
    "            |> Some\n",
    "        with e ->\n",
    "            display $\"Req failed. Message: {e.Message}\" |> ignore\n",
    "            None\n",
    "\n",
    "    match req with\n",
    "    | Some req when req.IsSuccessStatusCode && (isNull req.Content |> not) ->\n",
    "        let bytes =\n",
    "            req.Content.ReadAsByteArrayAsync()\n",
    "            |> Async.AwaitTask\n",
    "            |> Async.RunSynchronously\n",
    "\n",
    "        let format = Image.DetectFormat(bytes)\n",
    "\n",
    "        let guid = Guid.NewGuid()\n",
    "\n",
    "        let ext = if isNull format || isNull format.Name then String.Empty else \".\" + format.Name.ToLower()\n",
    "        let fileName = $\"{guid}{ext}\"\n",
    "        File.WriteAllBytes(Path.Combine(rawFolder, fileName), bytes)\n",
    "\n",
    "        Some (uri, guid, fileName)\n",
    "    | _ ->\n",
    "        display $\"{uri}: could not be processed\" |> ignore\n",
    "        None\n",
    "\n",
    "let processedImages =\n",
    "    urls\n",
    "    |> Array.map downloadImage"
   ],
   "outputs": [
    {
     "output_type": "execute_result",
     "data": {
      "text/plain": "Req failed. Message: Invalid URI: The hostname could not be parsed."
     },
     "execution_count": 1,
     "metadata": {}
    },
    {
     "output_type": "execute_result",
     "data": {
      "text/plain": "https://www.h%C3%A4ngemattewelt.at/media/catalog/product/cache/832edbc25b6b9f06432b6b25a7301d05/h/a/hammock-grenada-autumn-2.jpg: could not be processed"
     },
     "execution_count": 1,
     "metadata": {}
    }
   ]
  },
  {
   "cell_type": "markdown",
   "metadata": {},
   "source": [
    "For every successfully downloaded image save away the source URL, the associated GUID as well as the image name including the extension (if there is one). Some of the images might get saved in a format, that can't be processed in the future but the bulk will be jpegs anyway."
   ]
  },
  {
   "cell_type": "code",
   "execution_count": 1,
   "metadata": {},
   "source": [
    "#!fsharp\n",
    "processedImages\n",
    "|> Array.filter Option.isSome\n",
    "|> Array.map (Option.defaultValue (String.Empty, Guid.Empty, String.Empty))\n",
    "|> Array.map (fun (uri, id, name) -> $\"{uri}\\t{id}\\t{name}\")\n",
    "|> fun lines -> File.AppendAllLines(imageDownloadsPathFile, lines)"
   ],
   "outputs": []
  },
  {
   "cell_type": "markdown",
   "metadata": {},
   "source": [
    "If you want to recreate the dataset I'd suggest to start with the `image_downloads.tsv` file, download all of the images (URI given in the first column) and save them with the same names given in the thrid column. From there you can use the `image_prep.csv` file to apply the correct crops (look at `src/IsItKrampus.NET.DataSet.Server/Startup.fs` - especially the `applyProcessing` implementation - if you need a template) to all included images. If there are images you can't download from the the sources (maybe because they were deleted from the host) just throw them out of the `image_prep.csv` file. If for some reason you experience major problems recreating the dataset please get in touch with me. I can't publicly host my training data set because I hold no rights to the images I used but I'm sure we can find away to get you going while still holding the owners' copyright."
   ]
  }
 ],
 "metadata": {
  "kernelspec": {
   "display_name": ".NET (C#)",
   "language": "C#",
   "name": ".net-csharp"
  },
  "language_info": {
   "file_extension": ".cs",
   "mimetype": "text/x-csharp",
   "name": "C#",
   "pygments_lexer": "csharp",
   "version": "8.0"
  }
 },
 "nbformat": 4,
 "nbformat_minor": 4
}