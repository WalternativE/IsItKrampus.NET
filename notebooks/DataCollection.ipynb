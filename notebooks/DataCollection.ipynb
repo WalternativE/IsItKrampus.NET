{
 "cells": [
  {
   "cell_type": "code",
   "execution_count": 1,
   "metadata": {},
   "source": [
    "#!fsharp\n",
    "#r \"nuget: canopy\"\n",
    "#r \"nuget: Selenium.WebDriver.ChromeDriver, 87.0.4280.8800\"\n",
    "#r \"nuget: SixLabors.ImageSharp, 1.0.2\""
   ],
   "outputs": [
    {
     "output_type": "execute_result",
     "data": {
      "text/plain": "Installed package Selenium.WebDriver.ChromeDriver version 87.0.4280.8800"
     },
     "execution_count": 1,
     "metadata": {}
    }
   ]
  },
  {
   "cell_type": "code",
   "execution_count": 1,
   "metadata": {},
   "source": [
    "#!fsharp\n",
    "let getSearchUrl (query: string) =\n",
    "    $\"https://www.google.com/search?q={query}&sclient=img&source=lnms&tbm=isch&sa=X&ved=2ahUKEwiJwLa-7s_tAhUH9IUKHfwYCaYQ_AUoAXoECBIQAw&biw=1536&bih=719&dpr=1.25\""
   ],
   "outputs": []
  },
  {
   "cell_type": "code",
   "execution_count": 1,
   "metadata": {},
   "source": [
    "#!fsharp\n",
    "open System\n",
    "open canopy.configuration\n",
    "open canopy.classic\n",
    "open OpenQA.Selenium\n",
    "open SixLabors.ImageSharp\n",
    "open SixLabors.ImageSharp.Processing"
   ],
   "outputs": []
  },
  {
   "cell_type": "code",
   "execution_count": 1,
   "metadata": {},
   "source": [
    "#!fsharp\n",
    "canopy.configuration.chromeDir <- @\"C:\\Users\\grego\\.nuget\\packages\\selenium.webdriver.chromedriver\\87.0.4280.8800\\driver\\win32\"\n",
    "start chrome"
   ],
   "outputs": []
  },
  {
   "cell_type": "code",
   "execution_count": 1,
   "metadata": {},
   "source": [
    "#!fsharp\n",
    "url (getSearchUrl \"nikolaus\")"
   ],
   "outputs": []
  },
  {
   "cell_type": "code",
   "execution_count": 1,
   "metadata": {},
   "source": [
    "#!fsharp\n",
    "let elem =\n",
    "    elements \"div#islmp img\"\n",
    "    |> List.head\n",
    "\n",
    "click elem"
   ],
   "outputs": []
  },
  {
   "cell_type": "code",
   "execution_count": 1,
   "metadata": {},
   "source": [
    "#!fsharp\n",
    "let img_elem =\n",
    "    element \"div#islsp img\"\n",
    "\n",
    "img_elem.GetAttribute(\"src\")"
   ],
   "outputs": []
  },
  {
   "cell_type": "code",
   "execution_count": 1,
   "metadata": {},
   "source": [
    "#!fsharp\n",
    "let getImgUrls (n: int) (query: string) =\n",
    "    let searchUrl = getSearchUrl query\n",
    "    url searchUrl\n",
    "    sleep 1\n",
    "\n",
    "    let imagesToClick =\n",
    "        elements \"div#islmp a.wXeWr.islib.nfEiy.mM5pbd img\"\n",
    "\n",
    "    let toTake = min (List.length imagesToClick) n\n",
    "\n",
    "    let getImageUrl (elem : IWebElement) =\n",
    "        try\n",
    "            click elem\n",
    "            sleep 1\n",
    "\n",
    "            // nah this is not brittle and hacky as hell at all\n",
    "            elem |> parent |> parent |> fun e -> e.GetAttribute(\"href\")\n",
    "            |> fun s -> s.Split('?').[1].Split('&').[0].Substring(7)\n",
    "            |> Uri.UnescapeDataString\n",
    "            |> Some\n",
    "        with\n",
    "        | e -> None\n",
    "\n",
    "    imagesToClick\n",
    "    |> List.take toTake\n",
    "    |> List.map getImageUrl\n",
    "    |> List.filter Option.isSome\n",
    "    |> List.map (Option.defaultValue String.Empty)\n",
    "\n",
    "let queryString = \"african+person+fur+clothing\"\n",
    "let imgUrls = getImgUrls 50 queryString"
   ],
   "outputs": []
  },
  {
   "cell_type": "code",
   "execution_count": 1,
   "metadata": {},
   "source": [
    "#!fsharp\n",
    "DisplayFunctions.display imgUrls\n",
    "\n",
    "DisplayFunctions.HTML $\"<img src=\\\"{imgUrls |> List.skip 8 |> List.head}\\\"></img>\""
   ],
   "outputs": [
    {
     "output_type": "execute_result",
     "data": {
      "text/html": "<table><thead><tr><th><i>index</i></th><th>value</th></tr></thead><tbody><tr><td>0</td><td><div class=\"dni-plaintext\">https://d279m997dpfwgl.cloudfront.net/wp/2019/03/IMG_0589-e1551711522339-1000x1180.jpg</div></td></tr><tr><td>1</td><td><div class=\"dni-plaintext\">https://static01.nyt.com/images/2019/01/31/fashion/31FUR1/31FUR1-superJumbo-v2.jpg</div></td></tr><tr><td>2</td><td><div class=\"dni-plaintext\">https://d279m997dpfwgl.cloudfront.net/wp/2019/03/AP_19031558773838.jpg</div></td></tr><tr><td>3</td><td><div class=\"dni-plaintext\">https://static01.nyt.com/images/2019/01/31/fashion/31FUR4/merlin_148714461_7f00a1a2-7f83-4860-995d-15c19e79a6cc-jumbo.jpg</div></td></tr><tr><td>4</td><td><div class=\"dni-plaintext\">https://i.pinimg.com/236x/23/f1/83/23f1831e4154ecb83a0c96c4a7612885.jpg</div></td></tr><tr><td>5</td><td><div class=\"dni-plaintext\">https://i.pinimg.com/236x/65/9d/44/659d44699fbe8abc5e1f0435d82c708b.jpg</div></td></tr><tr><td>6</td><td><div class=\"dni-plaintext\">https://i.pinimg.com/564x/3d/de/89/3dde890950976ad89ad7a57ff807d769.jpg</div></td></tr><tr><td>7</td><td><div class=\"dni-plaintext\">https://media.istockphoto.com/photos/its-this-big-picture-id184910757</div></td></tr><tr><td>8</td><td><div class=\"dni-plaintext\">https://static.messynessychic.com/wp-content/uploads/2020/02/The_negro_who_reached_the_Pole.jpg</div></td></tr><tr><td>9</td><td><div class=\"dni-plaintext\">https://static01.nyt.com/images/2019/01/31/fashion/31FUR6/merlin_149951085_f7eb4bc6-78a7-4dfa-b39c-fe87e6ce5ce2-jumbo.jpg</div></td></tr><tr><td>10</td><td><div class=\"dni-plaintext\">https://static.independent.co.uk/s3fs-public/thumbnails/image/2019/10/04/12/press-shot-toya-delazy-credit-augustin.png?width=982&amp;height=726</div></td></tr><tr><td>11</td><td><div class=\"dni-plaintext\">https://i.pinimg.com/564x/07/14/48/0714484c0e8b8d79c5d48acee421fdd0.jpg</div></td></tr><tr><td>12</td><td><div class=\"dni-plaintext\">https://c8.alamy.com/comp/JAEAMJ/young-african-american-wearing-winter-clothing-but-feeling-cold-in-JAEAMJ.jpg</div></td></tr><tr><td>13</td><td><div class=\"dni-plaintext\">https://c8.alamy.com/comp/DGEEMG/young-african-american-wearing-winter-clothing-but-feeling-cold-in-DGEEMG.jpg</div></td></tr><tr><td>14</td><td><div class=\"dni-plaintext\">https://lookaside.fbsbx.com/lookaside/crawler/media/?media_id=10158081528493850</div></td></tr><tr><td>15</td><td><div class=\"dni-plaintext\">https://media.istockphoto.com/photos/mature-african-man-in-warm-clothing-smiling-at-camera-picture-id187571444</div></td></tr><tr><td>16</td><td><div class=\"dni-plaintext\">https://www.familysearch.org/blog/en/wp-content/uploads/sites/2/2020/06/1920s-fashion-actors-1.jpg</div></td></tr><tr><td>17</td><td><div class=\"dni-plaintext\">https://i.pinimg.com/236x/57/57/87/575787983862407c02fa63a490389ce8.jpg</div></td></tr><tr><td>18</td><td><div class=\"dni-plaintext\">https://static.messynessychic.com/wp-content/uploads/2020/02/01matthewhenson.jpg</div></td></tr><tr><td>19</td><td><div class=\"dni-plaintext\">https://upload.wikimedia.org/wikipedia/commons/a/a4/KangaSiyu1.jpg</div></td></tr><tr><td colspan=\"2\">(30 more)</td></tr></tbody></table>"
     },
     "execution_count": 1,
     "metadata": {}
    },
    {
     "output_type": "execute_result",
     "data": {
      "text/html": "<img src=\"https://static.messynessychic.com/wp-content/uploads/2020/02/The_negro_who_reached_the_Pole.jpg\"></img>"
     },
     "execution_count": 1,
     "metadata": {}
    }
   ]
  },
  {
   "cell_type": "code",
   "execution_count": 1,
   "metadata": {},
   "source": [
    "#!fsharp\n",
    "let imageSourcesTarget = @\"C:\\Users\\grego\\source\\repos\\IsItKrampus.NET\\data\\image_sources.tsv\""
   ],
   "outputs": []
  },
  {
   "cell_type": "code",
   "execution_count": 1,
   "metadata": {},
   "source": [
    "#!fsharp\n",
    "imgUrls\n",
    "|> List.map (fun s -> $\"{queryString}\\t{s}\")\n",
    "|> fun lines -> File.AppendAllLines(imageSourcesTarget, lines)"
   ],
   "outputs": []
  },
  {
   "cell_type": "code",
   "execution_count": 1,
   "metadata": {},
   "source": [
    "#!fsharp\n",
    "// in case you need to recreate the whole dataset again from the sources\n",
    "// let urls =\n",
    "//     File.ReadAllLines imageSourcesTarget\n",
    "//     |> Array.skip 1\n",
    "//     |> Array.map (fun s -> s.Split('\\t').[1])\n",
    "\n",
    "let urls =\n",
    "    imgUrls\n",
    "    |> Array.ofList"
   ],
   "outputs": []
  },
  {
   "cell_type": "code",
   "execution_count": 1,
   "metadata": {},
   "source": [
    "#!fsharp\n",
    "open System.Net.Http\n",
    "\n",
    "let httpClient = new HttpClient()"
   ],
   "outputs": []
  },
  {
   "cell_type": "code",
   "execution_count": 1,
   "metadata": {},
   "source": [
    "#!fsharp\n",
    "let req =\n",
    "    urls\n",
    "    |> Array.head\n",
    "    |> httpClient.GetAsync\n",
    "    |> Async.AwaitTask\n",
    "    |> Async.RunSynchronously"
   ],
   "outputs": []
  },
  {
   "cell_type": "code",
   "execution_count": 1,
   "metadata": {},
   "source": [
    "#!fsharp\n",
    "let bytes =\n",
    "    req.Content.ReadAsByteArrayAsync()\n",
    "    |> Async.AwaitTask\n",
    "    |> Async.RunSynchronously"
   ],
   "outputs": []
  },
  {
   "cell_type": "code",
   "execution_count": 1,
   "metadata": {},
   "source": [
    "#!fsharp\n",
    "let format = Image.DetectFormat(bytes)\n",
    "display <| format.Name.ToLower()"
   ],
   "outputs": [
    {
     "output_type": "execute_result",
     "data": {
      "text/plain": "jpeg"
     },
     "execution_count": 1,
     "metadata": {}
    }
   ]
  },
  {
   "cell_type": "code",
   "execution_count": 1,
   "metadata": {},
   "source": [
    "#!fsharp\n",
    "let rawFolder = @\"C:\\Users\\grego\\source\\repos\\IsItKrampus.NET\\data\\raw\""
   ],
   "outputs": []
  },
  {
   "cell_type": "code",
   "execution_count": 1,
   "metadata": {},
   "source": [
    "#!fsharp\n",
    "let downloadImage (uri: string) =\n",
    "    let req =\n",
    "        httpClient.GetAsync uri\n",
    "        |> Async.AwaitTask\n",
    "        |> Async.RunSynchronously\n",
    "\n",
    "    if req.IsSuccessStatusCode && isNull req.Content |> not then\n",
    "        let bytes =\n",
    "            req.Content.ReadAsByteArrayAsync()\n",
    "            |> Async.AwaitTask\n",
    "            |> Async.RunSynchronously\n",
    "\n",
    "        let format = Image.DetectFormat(bytes)\n",
    "\n",
    "        let guid = Guid.NewGuid()\n",
    "\n",
    "        let ext = if isNull format || isNull format.Name then String.Empty else \".\" + format.Name.ToLower()\n",
    "        let fileName = $\"{guid}{ext}\"\n",
    "        File.WriteAllBytes(Path.Combine(rawFolder, fileName), bytes)\n",
    "\n",
    "        Some (uri, guid, fileName)\n",
    "    else\n",
    "        display $\"{uri}: status code {req.StatusCode}\" |> ignore\n",
    "        None"
   ],
   "outputs": []
  },
  {
   "cell_type": "code",
   "execution_count": 1,
   "metadata": {},
   "source": [
    "#!fsharp\n",
    "let processedImages =\n",
    "    urls\n",
    "    |> Array.map downloadImage"
   ],
   "outputs": []
  },
  {
   "cell_type": "code",
   "execution_count": 1,
   "metadata": {},
   "source": [
    "#!fsharp\n",
    "let imageDownloadsPathFile = @\"C:\\Users\\grego\\source\\repos\\IsItKrampus.NET\\data\\image_downloads.tsv\"\n",
    "\n",
    "processedImages\n",
    "|> Array.filter Option.isSome\n",
    "|> Array.map (Option.defaultValue (String.Empty, Guid.Empty, String.Empty))\n",
    "|> Array.map (fun (uri, id, name) -> $\"{uri}\\t{id}\\t{name}\")\n",
    "|> fun lines -> File.AppendAllLines(imageDownloadsPathFile, lines)"
   ],
   "outputs": []
  }
 ],
 "metadata": {
  "kernelspec": {
   "display_name": ".NET (C#)",
   "language": "C#",
   "name": ".net-csharp"
  },
  "language_info": {
   "file_extension": ".cs",
   "mimetype": "text/x-csharp",
   "name": "C#",
   "pygments_lexer": "csharp",
   "version": "8.0"
  }
 },
 "nbformat": 4,
 "nbformat_minor": 4
}