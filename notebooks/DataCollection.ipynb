{
 "cells": [
  {
   "cell_type": "code",
   "execution_count": 1,
   "metadata": {},
   "source": [
    "#!fsharp\n",
    "#r \"nuget: canopy\"\n",
    "#r \"nuget: Selenium.WebDriver.ChromeDriver, 87.0.4280.8800\"\n",
    "#r \"nuget: FSharp.Data\"\n",
    "#r \"nuget: SixLabors.ImageSharp, 1.0.2\""
   ],
   "outputs": [
    {
     "output_type": "execute_result",
     "data": {
      "text/plain": "Installed package canopy version 2.1.5"
     },
     "execution_count": 1,
     "metadata": {}
    },
    {
     "output_type": "execute_result",
     "data": {
      "text/plain": "Installing package Selenium.WebDriver.ChromeDriver, version 87.0.4280.8800............"
     },
     "execution_count": 1,
     "metadata": {}
    },
    {
     "output_type": "execute_result",
     "data": {
      "text/plain": "Installed package SixLabors.ImageSharp version 1.0.2"
     },
     "execution_count": 1,
     "metadata": {}
    },
    {
     "output_type": "execute_result",
     "data": {
      "text/plain": "Installed package FSharp.Data version 3.3.3"
     },
     "execution_count": 1,
     "metadata": {}
    }
   ]
  },
  {
   "cell_type": "code",
   "execution_count": 1,
   "metadata": {},
   "source": [
    "#!fsharp\n",
    "let getSearchUrl (query: string) =\n",
    "    $\"https://www.google.com/search?q={query}&sclient=img&source=lnms&tbm=isch&sa=X&ved=2ahUKEwiJwLa-7s_tAhUH9IUKHfwYCaYQ_AUoAXoECBIQAw&biw=1536&bih=719&dpr=1.25\""
   ],
   "outputs": []
  },
  {
   "cell_type": "code",
   "execution_count": 1,
   "metadata": {},
   "source": [
    "#!fsharp\n",
    "open System\n",
    "open y.configuration\n",
    "open canopy.classic\n",
    "open OpenQA.Selenium"
   ],
   "outputs": []
  },
  {
   "cell_type": "code",
   "execution_count": 1,
   "metadata": {},
   "source": [
    "#!fsharp\n",
    "canopy.configuration.chromeDir <- @\"C:\\Users\\grego\\.nuget\\packages\\selenium.webdriver.chromedriver\\87.0.4280.8800\\driver\\win32\"\n",
    "start chrome"
   ],
   "outputs": []
  },
  {
   "cell_type": "code",
   "execution_count": 1,
   "metadata": {},
   "source": [
    "#!fsharp\n",
    "url (getSearchUrl \"nikolaus\")"
   ],
   "outputs": []
  },
  {
   "cell_type": "code",
   "execution_count": 1,
   "metadata": {},
   "source": [
    "#!fsharp\n",
    "let elem =\n",
    "    elements \"div#islmp img\"\n",
    "    |> List.head\n",
    "\n",
    "click elem"
   ],
   "outputs": []
  },
  {
   "cell_type": "code",
   "execution_count": 1,
   "metadata": {},
   "source": [
    "#!fsharp\n",
    "let img_elem =\n",
    "    element \"div#islsp img\"\n",
    "\n",
    "img_elem.GetAttribute(\"src\")"
   ],
   "outputs": [
    {
     "output_type": "execute_result",
     "data": {
      "text/plain": "https://bilder.t-online.de/b/82/85/69/34/id_82856934/c_Master-1-1-Large/tid_da/mann-als-bischof-von-myra-verkleidet-der-6-dezember-gilt-als-todestag-des-heiligen-nikolaus-.jpg"
     },
     "execution_count": 1,
     "metadata": {}
    }
   ]
  },
  {
   "cell_type": "code",
   "execution_count": 1,
   "metadata": {},
   "source": [
    "#!fsharp\n",
    "let getImgUrls (n: int) (query: string) =\n",
    "    let searchUrl = getSearchUrl query\n",
    "    url searchUrl\n",
    "    sleep 1\n",
    "\n",
    "    let imagesToClick =\n",
    "        elements \"div#islmp a.wXeWr.islib.nfEiy.mM5pbd img\"\n",
    "\n",
    "    let toTake = min (List.length imagesToClick) n\n",
    "\n",
    "    let getImageUrl (elem : IWebElement) =\n",
    "        try\n",
    "            click elem\n",
    "            sleep 1\n",
    "\n",
    "            // nah this is not brittle and hacky as hell at all\n",
    "            elem |> parent |> parent |> fun e -> e.GetAttribute(\"href\")\n",
    "            |> fun s -> s.Split('?').[1].Split('&').[0].Substring(7)\n",
    "            |> Uri.UnescapeDataString\n",
    "            |> Some\n",
    "        with\n",
    "        | e -> None\n",
    "\n",
    "    imagesToClick\n",
    "    |> List.take toTake\n",
    "    |> List.map getImageUrl\n",
    "    |> List.filter Option.isSome\n",
    "    |> List.map (Option.defaultValue String.Empty)\n",
    "\n",
    "let queryString = \"person+in+fur+clothes\"\n",
    "let imgUrls = getImgUrls 50 queryString"
   ],
   "outputs": []
  },
  {
   "cell_type": "code",
   "execution_count": 1,
   "metadata": {},
   "source": [
    "#!fsharp\n",
    "DisplayFunctions.display imgUrls\n",
    "\n",
    "DisplayFunctions.HTML $\"<img src=\\\"{imgUrls |> List.skip 8 |> List.head}\\\"></img>\""
   ],
   "outputs": [
    {
     "output_type": "execute_result",
     "data": {
      "text/html": "<table><thead><tr><th><i>index</i></th><th>value</th></tr></thead><tbody><tr><td>0</td><td><div class=\"dni-plaintext\">https://media.glamour.com/photos/5695cd49d9dab9ff41b45410/master/pass/fashion-blogs-slaves-to-fashion-2010-01-21-0122kanye-west-fur-coat_fa.jpg</div></td></tr><tr><td>1</td><td><div class=\"dni-plaintext\">https://upload.wikimedia.org/wikipedia/commons/e/e8/Sherbrooke%2C_Canada_%28Unsplash_S2sWHoVZF8s%29_%28cut%29.jpg</div></td></tr><tr><td>2</td><td><div class=\"dni-plaintext\">https://assets.vogue.com/photos/5c3e4c518470062d5f41599d/master/w_2560%2Cc_limit/00-story-fur-coat.jpg</div></td></tr><tr><td>3</td><td><div class=\"dni-plaintext\">https://assets.vogue.com/photos/5c3e4c5063f8482d552fbf04/4:3/w_3000,h_2250,c_limit/00-promo-fur-coat.jpg</div></td></tr><tr><td>4</td><td><div class=\"dni-plaintext\">https://i.pinimg.com/originals/38/f7/f7/38f7f70a16663adf2dd7ae2c237964c2.jpg</div></td></tr><tr><td>5</td><td><div class=\"dni-plaintext\">http://www.johntyman.com/arctic/pics/201.jpg</div></td></tr><tr><td>6</td><td><div class=\"dni-plaintext\">https://media.glamour.com/photos/5696550016d0dc3747efc6e7/master/pass/fashion-blogs-slaves-to-fashion-2010-03-17-0318vintage-fur-coat_fa.jpg</div></td></tr><tr><td>7</td><td><div class=\"dni-plaintext\">https://previews.123rf.com/images/feedough/feedough1312/feedough131200043/24144848-young-man-dressed-in-winter-clothes-and-warm-fur-hat-is-scared-about-the-cold-of-winter-on-white-bac.jpg</div></td></tr><tr><td>8</td><td><div class=\"dni-plaintext\">https://i.pinimg.com/originals/2d/0e/04/2d0e04685433acb63e20c9bad14f6e7f.jpg</div></td></tr><tr><td>9</td><td><div class=\"dni-plaintext\">https://theirturn.net/wp-content/uploads/2015/02/Fur_coat_activists.jpg</div></td></tr><tr><td>10</td><td><div class=\"dni-plaintext\">https://i1.wp.com/www.truthaboutfur.com/blog/wp-content/uploads/2016/11/RecycledFurs_Before_After_2-1.jpg?resize=650%2C569</div></td></tr><tr><td>11</td><td><div class=\"dni-plaintext\">https://www.gannett-cdn.com/presto/2020/06/29/USAT/11be9622-419f-444d-971a-c0e820bbed4d-ShoppingHero.png?width=660&amp;height=372&amp;fit=crop&amp;format=pjpg&amp;auto=webp</div></td></tr><tr><td>12</td><td><div class=\"dni-plaintext\">https://hips.hearstapps.com/mac.h-cdn.co/assets/cm/14/49/480x400/5485277d533d5_-_mcx-famous-fashion-lyrics-016-de.jpg?resize=480:*</div></td></tr><tr><td>13</td><td><div class=\"dni-plaintext\">https://i.pinimg.com/originals/c5/56/b1/c556b1c85fc8d62d9d9f1527dd99bf0f.jpg</div></td></tr><tr><td>14</td><td><div class=\"dni-plaintext\">https://theirturn.net/wp-content/uploads/2015/02/fur_nyc1.jpg</div></td></tr><tr><td>15</td><td><div class=\"dni-plaintext\">https://www.apetogentleman.com/wp-content/uploads/2018/10/Winter-Coats.png</div></td></tr><tr><td>16</td><td><div class=\"dni-plaintext\">https://ae01.alicdn.com/kf/H447414c5d1d54a6db9fd11a3f93af22aM/100-Real-Sheepskin-Fur-Shearling-Overcoat-for-Male-Long-Slim-Genuine-Leather-Garment-winter-thick-coat.jpg_Q90.jpg_.webp</div></td></tr><tr><td>17</td><td><div class=\"dni-plaintext\">http://d279m997dpfwgl.cloudfront.net/wp/2019/11/GettyImages-935895480-1000x670.jpg</div></td></tr><tr><td>18</td><td><div class=\"dni-plaintext\">https://thumbs.dreamstime.com/b/luxury-fur-clothes-female-fashion-trend-concept-winter-fashionable-wardrobe-female-boutique-selling-fur-luxury-fur-clothes-180371129.jpg</div></td></tr><tr><td>19</td><td><div class=\"dni-plaintext\">https://upload.wikimedia.org/wikipedia/commons/thumb/5/52/Canadian_man_fur_coat_1910.jpeg/170px-Canadian_man_fur_coat_1910.jpeg</div></td></tr><tr><td colspan=\"2\">(30 more)</td></tr></tbody></table>"
     },
     "execution_count": 1,
     "metadata": {}
    },
    {
     "output_type": "execute_result",
     "data": {
      "text/html": "<img src=\"https://i.pinimg.com/originals/2d/0e/04/2d0e04685433acb63e20c9bad14f6e7f.jpg\"></img>"
     },
     "execution_count": 1,
     "metadata": {}
    }
   ]
  },
  {
   "cell_type": "code",
   "execution_count": 1,
   "metadata": {},
   "source": [
    "#!fsharp\n",
    "let imageSourcesTarget = @\"C:\\Users\\grego\\source\\repos\\IsItKrampus.NET\\data\\image_sources.tsv\""
   ],
   "outputs": []
  },
  {
   "cell_type": "code",
   "execution_count": 1,
   "metadata": {},
   "source": [
    "#!fsharp\n",
    "imgUrls\n",
    "|> List.map (fun s -> $\"{queryString}\\t{s}\")\n",
    "|> fun lines -> File.AppendAllLines(imageSourcesTarget, lines)"
   ],
   "outputs": []
  },
  {
   "cell_type": "code",
   "execution_count": 1,
   "metadata": {},
   "source": [
    "#!fsharp\n",
    "// in case you need to recreate the whole dataset again from the sources\n",
    "// let urls =\n",
    "//     File.ReadAllLines imageSourcesTarget\n",
    "//     |> Array.skip 1\n",
    "//     |> Array.map (fun s -> s.Split('\\t').[1])\n",
    "\n",
    "let urls =\n",
    "    imgUrls\n",
    "    |> Array.ofList"
   ],
   "outputs": []
  },
  {
   "cell_type": "code",
   "execution_count": 1,
   "metadata": {},
   "source": [
    "#!fsharp\n",
    "open System.Net.Http\n",
    "\n",
    "let httpClient = new HttpClient()"
   ],
   "outputs": []
  },
  {
   "cell_type": "code",
   "execution_count": 1,
   "metadata": {},
   "source": [
    "#!fsharp\n",
    "let req =\n",
    "    urls\n",
    "    |> Array.head\n",
    "    |> httpClient.GetAsync\n",
    "    |> Async.AwaitTask\n",
    "    |> Async.RunSynchronously"
   ],
   "outputs": []
  },
  {
   "cell_type": "code",
   "execution_count": 1,
   "metadata": {},
   "source": [
    "#!fsharp\n",
    "let bytes =\n",
    "    req.Content.ReadAsByteArrayAsync()\n",
    "    |> Async.AwaitTask\n",
    "    |> Async.RunSynchronously"
   ],
   "outputs": []
  },
  {
   "cell_type": "code",
   "execution_count": 1,
   "metadata": {},
   "source": [
    "#!fsharp\n",
    "open SixLabors.ImageSharp\n",
    "open SixLabors.ImageSharp.Processing\n",
    "\n",
    "let format = Image.DetectFormat(bytes)\n",
    "display <| format.Name.ToLower()"
   ],
   "outputs": [
    {
     "output_type": "execute_result",
     "data": {
      "text/plain": "jpeg"
     },
     "execution_count": 1,
     "metadata": {}
    }
   ]
  },
  {
   "cell_type": "code",
   "execution_count": 1,
   "metadata": {},
   "source": [
    "#!fsharp\n",
    "let rawFolder = @\"C:\\Users\\grego\\source\\repos\\IsItKrampus.NET\\data\\raw\""
   ],
   "outputs": []
  },
  {
   "cell_type": "code",
   "execution_count": 1,
   "metadata": {},
   "source": [
    "#!fsharp\n",
    "let downloadImage (uri: string) =\n",
    "    let req =\n",
    "        httpClient.GetAsync uri\n",
    "        |> Async.AwaitTask\n",
    "        |> Async.RunSynchronously\n",
    "\n",
    "    if req.IsSuccessStatusCode && isNull req.Content |> not then\n",
    "        let bytes =\n",
    "            req.Content.ReadAsByteArrayAsync()\n",
    "            |> Async.AwaitTask\n",
    "            |> Async.RunSynchronously\n",
    "\n",
    "        let format = Image.DetectFormat(bytes)\n",
    "\n",
    "        let guid = Guid.NewGuid()\n",
    "\n",
    "        let ext = if isNull format || isNull format.Name then String.Empty else \".\" + format.Name.ToLower()\n",
    "        let fileName = $\"{guid}{ext}\"\n",
    "        File.WriteAllBytes(Path.Combine(rawFolder, fileName), bytes)\n",
    "\n",
    "        Some (uri, guid, fileName)\n",
    "    else\n",
    "        display $\"{uri}: status code {req.StatusCode}\" |> ignore\n",
    "        None"
   ],
   "outputs": []
  },
  {
   "cell_type": "code",
   "execution_count": 1,
   "metadata": {},
   "source": [
    "#!fsharp\n",
    "let processedImages =\n",
    "    urls\n",
    "    |> Array.map downloadImage"
   ],
   "outputs": []
  },
  {
   "cell_type": "code",
   "execution_count": 1,
   "metadata": {},
   "source": [
    "#!fsharp\n",
    "let imageDownloadsPathFile = @\"C:\\Users\\grego\\source\\repos\\IsItKrampus.NET\\data\\image_downloads.tsv\"\n",
    "\n",
    "processedImages\n",
    "|> Array.filter Option.isSome\n",
    "|> Array.map (Option.defaultValue (String.Empty, Guid.Empty, String.Empty))\n",
    "|> Array.map (fun (uri, id, name) -> $\"{uri}\\t{id}\\t{name}\")\n",
    "|> fun lines -> File.AppendAllLines(imageDownloadsPathFile, lines)"
   ],
   "outputs": []
  }
 ],
 "metadata": {
  "kernelspec": {
   "display_name": ".NET (C#)",
   "language": "C#",
   "name": ".net-csharp"
  },
  "language_info": {
   "file_extension": ".cs",
   "mimetype": "text/x-csharp",
   "name": "C#",
   "pygments_lexer": "csharp",
   "version": "8.0"
  }
 },
 "nbformat": 4,
 "nbformat_minor": 4
}