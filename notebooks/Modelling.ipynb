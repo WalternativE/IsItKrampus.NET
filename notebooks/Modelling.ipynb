{
 "cells": [
  {
   "cell_type": "code",
   "execution_count": 1,
   "metadata": {},
   "source": [
    "#!fsharp\n",
    "#r \"nuget: Microsoft.ML.ImageAnalytics, 1.5.2\"\n",
    "#r \"nuget: Microsoft.ML.Vision, 1.5.2\"\n",
    "#r \"nuget: SciSharp.TensorFlow.Redist, 2.3.1\"\n",
    "#r \"nuget: SixLabors.ImageSharp, 1.0.2\"\n",
    "#r \"nuget: MLOps.NET, 1.3.0\"\n",
    "#r \"nuget: MLOps.NET.SQLite, 1.3.0\""
   ],
   "outputs": [
    {
     "output_type": "execute_result",
     "data": {
      "text/plain": "Installed package MLOps.NET version 1.3.0"
     },
     "execution_count": 1,
     "metadata": {}
    },
    {
     "output_type": "execute_result",
     "data": {
      "text/plain": "Installed package Microsoft.ML.ImageAnalytics version 1.5.2"
     },
     "execution_count": 1,
     "metadata": {}
    },
    {
     "output_type": "execute_result",
     "data": {
      "text/plain": "Installed package MLOps.NET.SQLite version 1.3.0"
     },
     "execution_count": 1,
     "metadata": {}
    },
    {
     "output_type": "execute_result",
     "data": {
      "text/plain": "Installed package SciSharp.TensorFlow.Redist version 2.3.1"
     },
     "execution_count": 1,
     "metadata": {}
    },
    {
     "output_type": "execute_result",
     "data": {
      "text/plain": "Installed package SixLabors.ImageSharp version 1.0.2"
     },
     "execution_count": 1,
     "metadata": {}
    },
    {
     "output_type": "execute_result",
     "data": {
      "text/plain": "Installed package Microsoft.ML.Vision version 1.5.2"
     },
     "execution_count": 1,
     "metadata": {}
    }
   ]
  },
  {
   "cell_type": "code",
   "execution_count": 1,
   "metadata": {},
   "source": [
    "#!fsharp\n",
    "open System\n",
    "open System.IO\n",
    "open Microsoft.ML\n",
    "open Microsoft.ML.Vision\n",
    "open Microsoft.ML.Transforms\n",
    "open Microsoft.ML.Data\n",
    "open SixLabors.ImageSharp\n",
    "open SixLabors.ImageSharp.Processing\n",
    "open Microsoft.DotNet.Interactive.FSharp.FSharpKernelHelpers"
   ],
   "outputs": []
  },
  {
   "cell_type": "code",
   "execution_count": 1,
   "metadata": {},
   "source": [
    "#!fsharp\n",
    "type ImageData =\n",
    "    { ImagePath: string\n",
    "      Label: string }\n",
    "\n",
    "[<CLIMutable>]\n",
    "type ImageDataAfterPreprocessing =\n",
    "  { ImagePath: string\n",
    "    Image: byte[]\n",
    "    Label: string }\n",
    "\n",
    "[<CLIMutable>]\n",
    "type ModelInput =\n",
    "    { Image: byte[]\n",
    "      Label: string }\n",
    "\n",
    "[<CLIMutable>]\n",
    "type ModelOutput =\n",
    "    { Image: byte[]\n",
    "      Label: string\n",
    "      PredictedLabel: string }"
   ],
   "outputs": []
  },
  {
   "cell_type": "code",
   "execution_count": 1,
   "metadata": {},
   "source": [
    "#!fsharp\n",
    "[<Literal>]\n",
    "let projectRoot = @\"C:\\Users\\grego\\source\\repos\\IsItKrampus.NET\"\n",
    "\n",
    "let dataDir = Path.Combine(projectRoot, \"data\")\n",
    "let prepDir = Path.Combine(dataDir, \"prepared\")\n",
    "let workspaceDir = Path.Combine(projectRoot, \"workspace\")"
   ],
   "outputs": []
  },
  {
   "cell_type": "code",
   "execution_count": 1,
   "metadata": {},
   "source": [
    "#!fsharp\n",
    "// I want to seed my global MLContext\n",
    "// and my global uniform random generator\n",
    "// to have at least some reproducibility\n",
    "let mlContext = MLContext(1)\n",
    "let rnd = Random(1)"
   ],
   "outputs": []
  },
  {
   "cell_type": "code",
   "execution_count": 1,
   "metadata": {},
   "source": [
    "#!fsharp\n",
    "let loadImagesFromPreparedDir () =\n",
    "    File.ReadAllLines (Path.Combine(dataDir, \"image_prep.csv\"))\n",
    "    |> Array.skip 1\n",
    "    |> Array.map (fun line ->\n",
    "        let parts = line.Split(',')\n",
    "        (parts.[0], parts.[1], bool.Parse parts.[6]))\n",
    "    |> Array.filter (fun (_, _, isIncluded) -> isIncluded)\n",
    "    |> Array.map (fun (fileName, label, _) ->\n",
    "        { ImagePath = fileName\n",
    "          Label = label })"
   ],
   "outputs": []
  },
  {
   "cell_type": "code",
   "execution_count": 1,
   "metadata": {},
   "source": [
    "#!fsharp\n",
    "let imageData = mlContext.Data.LoadFromEnumerable(loadImagesFromPreparedDir())\n",
    "let shuffledData = mlContext.Data.ShuffleRows(imageData)"
   ],
   "outputs": []
  },
  {
   "cell_type": "code",
   "execution_count": 1,
   "metadata": {},
   "source": [
    "#!fsharp\n",
    "let preprocessingPipeline =\n",
    "    EstimatorChain()\n",
    "        .Append(mlContext.Transforms.Conversion.MapValueToKey(inputColumnName = \"Label\",\n",
    "                                                              outputColumnName = \"LabelAsKey\"))\n",
    "        .Append(mlContext.Transforms\n",
    "            .LoadRawImageBytes(outputColumnName = \"Image\",\n",
    "                               imageFolder = prepDir,\n",
    "                               inputColumnName = \"ImagePath\"))"
   ],
   "outputs": []
  },
  {
   "cell_type": "code",
   "execution_count": 1,
   "metadata": {},
   "source": [
    "#!fsharp\n",
    "let preProcessedData =\n",
    "    preprocessingPipeline.Fit(shuffledData)\n",
    "        .Transform(shuffledData)"
   ],
   "outputs": []
  },
  {
   "cell_type": "code",
   "execution_count": 1,
   "metadata": {},
   "source": [
    "#!fsharp\n",
    "let trainSplit = mlContext.Data.TrainTestSplit(data = preProcessedData, testFraction = 0.3)\n",
    "// I need a bigger test fraction because my dataset is relatively small\n",
    "let validationTestSplit = mlContext.Data.TrainTestSplit(trainSplit.TestSet, testFraction = 0.5)\n",
    "\n",
    "let trainSet = trainSplit.TrainSet;\n",
    "let validationSet = validationTestSplit.TrainSet\n",
    "let testSet = validationTestSplit.TestSet"
   ],
   "outputs": []
  },
  {
   "cell_type": "code",
   "execution_count": 1,
   "metadata": {},
   "source": [
    "#!fsharp\n",
    "let preprocessedImagesTrainSet = mlContext.Data.CreateEnumerable<ImageDataAfterPreprocessing>(trainSet, reuseRowObject = false)\n",
    "\n",
    "preprocessedImagesTrainSet\n",
    "|> Seq.head\n",
    "|> fun img -> Convert.ToBase64String img.Image\n",
    "|> ((sprintf \"<img src=\\\"data:image/png;base64,%s\\\"></img>\") >> DisplayFunctions.HTML)"
   ],
   "outputs": [
    {
     "output_type": "execute_result",
     "data": {
      "text/html": "<img src=\"data:image/png;base64,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\"></img>"
     },
     "execution_count": 1,
     "metadata": {}
    }
   ]
  },
  {
   "cell_type": "code",
   "execution_count": 1,
   "metadata": {},
   "source": [
    "#!fsharp\n",
    "let imgBytes =\n",
    "    preprocessedImagesTrainSet\n",
    "    |> Seq.head\n",
    "    |> fun img -> img.Image\n",
    "\n",
    "let turnRight (imgBytes: byte[]) =\n",
    "    use img = Image.Load(imgBytes)\n",
    "\n",
    "    let newImage = img.Clone(fun img -> img.Rotate(90f) |> ignore)\n",
    "\n",
    "    use ms = new MemoryStream()\n",
    "    newImage.SaveAsJpeg(ms)\n",
    "\n",
    "    ms.ToArray()\n",
    "\n",
    "turnRight imgBytes\n",
    "|> fun img -> Convert.ToBase64String img\n",
    "|> ((sprintf \"<img src=\\\"data:image/png;base64,%s\\\"></img>\") >> DisplayFunctions.HTML)"
   ],
   "outputs": [
    {
     "output_type": "execute_result",
     "data": {
      "text/html": "<img src=\"data:image/png;base64,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\"></img>"
     },
     "execution_count": 1,
     "metadata": {}
    }
   ]
  },
  {
   "cell_type": "code",
   "execution_count": 1,
   "metadata": {},
   "source": [
    "#!fsharp\n",
    "let randomIndexesToTurnRight =\n",
    "    let n = Seq.length preprocessedImagesTrainSet\n",
    "    Seq.init (n / 10) (fun _ -> rnd.Next(0, n - 1))\n",
    "\n",
    "let pick (idxs: int seq) (s: seq<'a>) =\n",
    "    let arr = Array.ofSeq s\n",
    "    seq { for idx in idxs -> arr.[idx] }\n",
    "\n",
    "let augmentedImages =\n",
    "    preprocessedImagesTrainSet\n",
    "    |> pick randomIndexesToTurnRight\n",
    "    |> Seq.map (fun img -> { img with Image = turnRight img.Image })\n",
    "\n",
    "// hacky hacky hack because Key Column types in ML.NET are weird\n",
    "let postAugmentationPipeline =\n",
    "    mlContext.Transforms.Conversion.MapValueToKey(inputColumnName = \"Label\",\n",
    "                                                  outputColumnName = \"LabelAsKey\")\n",
    "\n",
    "let augmentedTrain =\n",
    "    Seq.concat [ preprocessedImagesTrainSet; augmentedImages ]\n",
    "    |> fun dataset -> mlContext.Data.LoadFromEnumerable(dataset)\n",
    "    |> fun dv -> mlContext.Data.ShuffleRows(dv)\n",
    "    |> fun dv -> postAugmentationPipeline.Fit(dv).Transform(dv)"
   ],
   "outputs": []
  },
  {
   "cell_type": "code",
   "execution_count": 1,
   "metadata": {},
   "source": [
    "#!fsharp\n",
    "let imageClassifierOptions =\n",
    "    ImageClassificationTrainer.Options(FeatureColumnName = \"Image\",\n",
    "                                       LabelColumnName = \"LabelAsKey\",\n",
    "                                       ValidationSet = validationSet,\n",
    "                                       Arch = ImageClassificationTrainer.Architecture.InceptionV3,\n",
    "                                       TestOnTrainSet = false,\n",
    "                                       ReuseTrainSetBottleneckCachedValues = false,\n",
    "                                       ReuseValidationSetBottleneckCachedValues = false,\n",
    "                                       Epoch = 400,\n",
    "                                       MetricsCallback = (fun metrics -> display $\"%A{metrics}\" |> ignore),\n",
    "                                       WorkspacePath = workspaceDir)"
   ],
   "outputs": []
  },
  {
   "cell_type": "code",
   "execution_count": 1,
   "metadata": {},
   "source": [
    "#!fsharp\n",
    "let trainingPipeline =\n",
    "    EstimatorChain()\n",
    "        .Append(mlContext.MulticlassClassification.Trainers.ImageClassification(imageClassifierOptions))\n",
    "        .Append(mlContext.Transforms.Conversion.MapKeyToValue(\"PredictedLabel\", \"PredictedLabel\"))"
   ],
   "outputs": []
  },
  {
   "cell_type": "code",
   "execution_count": 1,
   "metadata": {},
   "source": [
    "#!fsharp\n",
    "let trainedModel = trainingPipeline.Fit augmentedTrain"
   ],
   "outputs": [
    {
     "output_type": "execute_result",
     "data": {
      "text/plain": "Saver not created because there are no variables in the graph to restore\r\n"
     },
     "execution_count": 1,
     "metadata": {}
    },
    {
     "output_type": "execute_result",
     "data": {
      "text/plain": "Phase: Bottleneck Computation, Dataset used: Validation, Image Index:   1"
     },
     "execution_count": 1,
     "metadata": {}
    },
    {
     "output_type": "execute_result",
     "data": {
      "text/plain": "Phase: Bottleneck Computation, Dataset used: Validation, Image Index:   2"
     },
     "execution_count": 1,
     "metadata": {}
    },
    {
     "output_type": "execute_result",
     "data": {
      "text/plain": "Phase: Bottleneck Computation, Dataset used: Validation, Image Index:   3"
     },
     "execution_count": 1,
     "metadata": {}
    },
    {
     "output_type": "execute_result",
     "data": {
      "text/plain": "Phase: Bottleneck Computation, Dataset used: Validation, Image Index:   4"
     },
     "execution_count": 1,
     "metadata": {}
    },
    {
     "output_type": "execute_result",
     "data": {
      "text/plain": "Phase: Bottleneck Computation, Dataset used: Validation, Image Index:   5"
     },
     "execution_count": 1,
     "metadata": {}
    },
    {
     "output_type": "execute_result",
     "data": {
      "text/plain": "Phase: Bottleneck Computation, Dataset used: Validation, Image Index:   6"
     },
     "execution_count": 1,
     "metadata": {}
    },
    {
     "output_type": "execute_result",
     "data": {
      "text/plain": "Phase: Bottleneck Computation, Dataset used: Validation, Image Index:   7"
     },
     "execution_count": 1,
     "metadata": {}
    },
    {
     "output_type": "execute_result",
     "data": {
      "text/plain": "Phase: Bottleneck Computation, Dataset used: Validation, Image Index:   8"
     },
     "execution_count": 1,
     "metadata": {}
    },
    {
     "output_type": "execute_result",
     "data": {
      "text/plain": "Phase: Bottleneck Computation, Dataset used: Validation, Image Index:   9"
     },
     "execution_count": 1,
     "metadata": {}
    },
    {
     "output_type": "execute_result",
     "data": {
      "text/plain": "Phase: Bottleneck Computation, Dataset used: Validation, Image Index:  10"
     },
     "execution_count": 1,
     "metadata": {}
    },
    {
     "output_type": "execute_result",
     "data": {
      "text/plain": "Phase: Bottleneck Computation, Dataset used: Validation, Image Index:  11"
     },
     "execution_count": 1,
     "metadata": {}
    },
    {
     "output_type": "execute_result",
     "data": {
      "text/plain": "Phase: Bottleneck Computation, Dataset used: Validation, Image Index:  12"
     },
     "execution_count": 1,
     "metadata": {}
    },
    {
     "output_type": "execute_result",
     "data": {
      "text/plain": "Phase: Bottleneck Computation, Dataset used: Validation, Image Index:  13"
     },
     "execution_count": 1,
     "metadata": {}
    },
    {
     "output_type": "execute_result",
     "data": {
      "text/plain": "Phase: Bottleneck Computation, Dataset used: Validation, Image Index:  14"
     },
     "execution_count": 1,
     "metadata": {}
    },
    {
     "output_type": "execute_result",
     "data": {
      "text/plain": "Phase: Bottleneck Computation, Dataset used: Validation, Image Index:  15"
     },
     "execution_count": 1,
     "metadata": {}
    },
    {
     "output_type": "execute_result",
     "data": {
      "text/plain": "Phase: Bottleneck Computation, Dataset used: Validation, Image Index:  16"
     },
     "execution_count": 1,
     "metadata": {}
    },
    {
     "output_type": "execute_result",
     "data": {
      "text/plain": "Phase: Bottleneck Computation, Dataset used: Validation, Image Index:  17"
     },
     "execution_count": 1,
     "metadata": {}
    },
    {
     "output_type": "execute_result",
     "data": {
      "text/plain": "Phase: Bottleneck Computation, Dataset used: Validation, Image Index:  18"
     },
     "execution_count": 1,
     "metadata": {}
    },
    {
     "output_type": "execute_result",
     "data": {
      "text/plain": "Phase: Bottleneck Computation, Dataset used: Validation, Image Index:  19"
     },
     "execution_count": 1,
     "metadata": {}
    },
    {
     "output_type": "execute_result",
     "data": {
      "text/plain": "Phase: Bottleneck Computation, Dataset used: Validation, Image Index:  20"
     },
     "execution_count": 1,
     "metadata": {}
    },
    {
     "output_type": "execute_result",
     "data": {
      "text/plain": "Phase: Bottleneck Computation, Dataset used: Validation, Image Index:  21"
     },
     "execution_count": 1,
     "metadata": {}
    },
    {
     "output_type": "execute_result",
     "data": {
      "text/plain": "Phase: Bottleneck Computation, Dataset used: Validation, Image Index:  22"
     },
     "execution_count": 1,
     "metadata": {}
    },
    {
     "output_type": "execute_result",
     "data": {
      "text/plain": "Phase: Bottleneck Computation, Dataset used: Validation, Image Index:  23"
     },
     "execution_count": 1,
     "metadata": {}
    },
    {
     "output_type": "execute_result",
     "data": {
      "text/plain": "Phase: Bottleneck Computation, Dataset used: Validation, Image Index:  24"
     },
     "execution_count": 1,
     "metadata": {}
    },
    {
     "output_type": "execute_result",
     "data": {
      "text/plain": "Phase: Bottleneck Computation, Dataset used: Validation, Image Index:  25"
     },
     "execution_count": 1,
     "metadata": {}
    },
    {
     "output_type": "execute_result",
     "data": {
      "text/plain": "Phase: Bottleneck Computation, Dataset used: Validation, Image Index:  26"
     },
     "execution_count": 1,
     "metadata": {}
    },
    {
     "output_type": "execute_result",
     "data": {
      "text/plain": "Phase: Bottleneck Computation, Dataset used: Validation, Image Index:  27"
     },
     "execution_count": 1,
     "metadata": {}
    },
    {
     "output_type": "execute_result",
     "data": {
      "text/plain": "Phase: Bottleneck Computation, Dataset used: Validation, Image Index:  28"
     },
     "execution_count": 1,
     "metadata": {}
    },
    {
     "output_type": "execute_result",
     "data": {
      "text/plain": "Phase: Bottleneck Computation, Dataset used: Validation, Image Index:  29"
     },
     "execution_count": 1,
     "metadata": {}
    },
    {
     "output_type": "execute_result",
     "data": {
      "text/plain": "Phase: Bottleneck Computation, Dataset used: Validation, Image Index:  30"
     },
     "execution_count": 1,
     "metadata": {}
    },
    {
     "output_type": "execute_result",
     "data": {
      "text/plain": "Phase: Bottleneck Computation, Dataset used: Validation, Image Index:  31"
     },
     "execution_count": 1,
     "metadata": {}
    },
    {
     "output_type": "execute_result",
     "data": {
      "text/plain": "Phase: Bottleneck Computation, Dataset used: Validation, Image Index:  32"
     },
     "execution_count": 1,
     "metadata": {}
    },
    {
     "output_type": "execute_result",
     "data": {
      "text/plain": "Phase: Bottleneck Computation, Dataset used: Validation, Image Index:  33"
     },
     "execution_count": 1,
     "metadata": {}
    },
    {
     "output_type": "execute_result",
     "data": {
      "text/plain": "Phase: Bottleneck Computation, Dataset used: Validation, Image Index:  34"
     },
     "execution_count": 1,
     "metadata": {}
    },
    {
     "output_type": "execute_result",
     "data": {
      "text/plain": "Phase: Bottleneck Computation, Dataset used: Validation, Image Index:  35"
     },
     "execution_count": 1,
     "metadata": {}
    },
    {
     "output_type": "execute_result",
     "data": {
      "text/plain": "Phase: Bottleneck Computation, Dataset used: Validation, Image Index:  36"
     },
     "execution_count": 1,
     "metadata": {}
    },
    {
     "output_type": "execute_result",
     "data": {
      "text/plain": "Phase: Bottleneck Computation, Dataset used: Validation, Image Index:  37"
     },
     "execution_count": 1,
     "metadata": {}
    },
    {
     "output_type": "execute_result",
     "data": {
      "text/plain": "Phase: Bottleneck Computation, Dataset used: Validation, Image Index:  38"
     },
     "execution_count": 1,
     "metadata": {}
    },
    {
     "output_type": "execute_result",
     "data": {
      "text/plain": "Phase: Bottleneck Computation, Dataset used: Validation, Image Index:  39"
     },
     "execution_count": 1,
     "metadata": {}
    },
    {
     "output_type": "execute_result",
     "data": {
      "text/plain": "Phase: Bottleneck Computation, Dataset used: Validation, Image Index:  40"
     },
     "execution_count": 1,
     "metadata": {}
    },
    {
     "output_type": "execute_result",
     "data": {
      "text/plain": "Phase: Bottleneck Computation, Dataset used: Validation, Image Index:  41"
     },
     "execution_count": 1,
     "metadata": {}
    },
    {
     "output_type": "execute_result",
     "data": {
      "text/plain": "Phase: Bottleneck Computation, Dataset used: Validation, Image Index:  42"
     },
     "execution_count": 1,
     "metadata": {}
    },
    {
     "output_type": "execute_result",
     "data": {
      "text/plain": "Phase: Bottleneck Computation, Dataset used: Validation, Image Index:  43"
     },
     "execution_count": 1,
     "metadata": {}
    },
    {
     "output_type": "execute_result",
     "data": {
      "text/plain": "Phase: Bottleneck Computation, Dataset used: Validation, Image Index:  44"
     },
     "execution_count": 1,
     "metadata": {}
    },
    {
     "output_type": "execute_result",
     "data": {
      "text/plain": "Phase: Bottleneck Computation, Dataset used: Validation, Image Index:  45"
     },
     "execution_count": 1,
     "metadata": {}
    },
    {
     "output_type": "execute_result",
     "data": {
      "text/plain": "Phase: Bottleneck Computation, Dataset used: Validation, Image Index:  46"
     },
     "execution_count": 1,
     "metadata": {}
    },
    {
     "output_type": "execute_result",
     "data": {
      "text/plain": "Phase: Bottleneck Computation, Dataset used: Validation, Image Index:  47"
     },
     "execution_count": 1,
     "metadata": {}
    },
    {
     "output_type": "execute_result",
     "data": {
      "text/plain": "Phase: Bottleneck Computation, Dataset used: Validation, Image Index:  48"
     },
     "execution_count": 1,
     "metadata": {}
    },
    {
     "output_type": "execute_result",
     "data": {
      "text/plain": "Phase: Bottleneck Computation, Dataset used: Validation, Image Index:  49"
     },
     "execution_count": 1,
     "metadata": {}
    },
    {
     "output_type": "execute_result",
     "data": {
      "text/plain": "Phase: Bottleneck Computation, Dataset used: Validation, Image Index:  50"
     },
     "execution_count": 1,
     "metadata": {}
    },
    {
     "output_type": "execute_result",
     "data": {
      "text/plain": "Phase: Bottleneck Computation, Dataset used: Validation, Image Index:  51"
     },
     "execution_count": 1,
     "metadata": {}
    },
    {
     "output_type": "execute_result",
     "data": {
      "text/plain": "Phase: Bottleneck Computation, Dataset used: Validation, Image Index:  52"
     },
     "execution_count": 1,
     "metadata": {}
    },
    {
     "output_type": "execute_result",
     "data": {
      "text/plain": "Phase: Bottleneck Computation, Dataset used: Validation, Image Index:  53"
     },
     "execution_count": 1,
     "metadata": {}
    },
    {
     "output_type": "execute_result",
     "data": {
      "text/plain": "Phase: Bottleneck Computation, Dataset used: Validation, Image Index:  54"
     },
     "execution_count": 1,
     "metadata": {}
    },
    {
     "output_type": "execute_result",
     "data": {
      "text/plain": "Phase: Bottleneck Computation, Dataset used: Validation, Image Index:  55"
     },
     "execution_count": 1,
     "metadata": {}
    },
    {
     "output_type": "execute_result",
     "data": {
      "text/plain": "Phase: Bottleneck Computation, Dataset used: Validation, Image Index:  56"
     },
     "execution_count": 1,
     "metadata": {}
    },
    {
     "output_type": "execute_result",
     "data": {
      "text/plain": "Phase: Bottleneck Computation, Dataset used: Validation, Image Index:  57"
     },
     "execution_count": 1,
     "metadata": {}
    },
    {
     "output_type": "execute_result",
     "data": {
      "text/plain": "Phase: Bottleneck Computation, Dataset used: Validation, Image Index:  58"
     },
     "execution_count": 1,
     "metadata": {}
    },
    {
     "output_type": "execute_result",
     "data": {
      "text/plain": "Phase: Bottleneck Computation, Dataset used: Validation, Image Index:  59"
     },
     "execution_count": 1,
     "metadata": {}
    },
    {
     "output_type": "execute_result",
     "data": {
      "text/plain": "Phase: Bottleneck Computation, Dataset used: Validation, Image Index:  60"
     },
     "execution_count": 1,
     "metadata": {}
    },
    {
     "output_type": "execute_result",
     "data": {
      "text/plain": "Phase: Bottleneck Computation, Dataset used: Validation, Image Index:  61"
     },
     "execution_count": 1,
     "metadata": {}
    },
    {
     "output_type": "execute_result",
     "data": {
      "text/plain": "Phase: Bottleneck Computation, Dataset used: Validation, Image Index:  62"
     },
     "execution_count": 1,
     "metadata": {}
    },
    {
     "output_type": "execute_result",
     "data": {
      "text/plain": "Phase: Bottleneck Computation, Dataset used: Validation, Image Index:  63"
     },
     "execution_count": 1,
     "metadata": {}
    },
    {
     "output_type": "execute_result",
     "data": {
      "text/plain": "Phase: Bottleneck Computation, Dataset used: Validation, Image Index:  64"
     },
     "execution_count": 1,
     "metadata": {}
    },
    {
     "output_type": "execute_result",
     "data": {
      "text/plain": "Phase: Bottleneck Computation, Dataset used: Validation, Image Index:  65"
     },
     "execution_count": 1,
     "metadata": {}
    },
    {
     "output_type": "execute_result",
     "data": {
      "text/plain": "Phase: Bottleneck Computation, Dataset used: Validation, Image Index:  66"
     },
     "execution_count": 1,
     "metadata": {}
    },
    {
     "output_type": "execute_result",
     "data": {
      "text/plain": "Phase: Bottleneck Computation, Dataset used: Validation, Image Index:  67"
     },
     "execution_count": 1,
     "metadata": {}
    },
    {
     "output_type": "execute_result",
     "data": {
      "text/plain": "Phase: Bottleneck Computation, Dataset used: Validation, Image Index:  68"
     },
     "execution_count": 1,
     "metadata": {}
    },
    {
     "output_type": "execute_result",
     "data": {
      "text/plain": "Phase: Bottleneck Computation, Dataset used: Validation, Image Index:  69"
     },
     "execution_count": 1,
     "metadata": {}
    },
    {
     "output_type": "execute_result",
     "data": {
      "text/plain": "Phase: Bottleneck Computation, Dataset used: Validation, Image Index:  70"
     },
     "execution_count": 1,
     "metadata": {}
    },
    {
     "output_type": "execute_result",
     "data": {
      "text/plain": "Phase: Bottleneck Computation, Dataset used: Validation, Image Index:  71"
     },
     "execution_count": 1,
     "metadata": {}
    },
    {
     "output_type": "execute_result",
     "data": {
      "text/plain": "Phase: Bottleneck Computation, Dataset used: Validation, Image Index:  72"
     },
     "execution_count": 1,
     "metadata": {}
    },
    {
     "output_type": "execute_result",
     "data": {
      "text/plain": "Phase: Bottleneck Computation, Dataset used: Validation, Image Index:  73"
     },
     "execution_count": 1,
     "metadata": {}
    },
    {
     "output_type": "execute_result",
     "data": {
      "text/plain": "Phase: Bottleneck Computation, Dataset used: Validation, Image Index:  74"
     },
     "execution_count": 1,
     "metadata": {}
    },
    {
     "output_type": "execute_result",
     "data": {
      "text/plain": "Phase: Bottleneck Computation, Dataset used: Validation, Image Index:  75"
     },
     "execution_count": 1,
     "metadata": {}
    },
    {
     "output_type": "execute_result",
     "data": {
      "text/plain": "Phase: Bottleneck Computation, Dataset used: Validation, Image Index:  76"
     },
     "execution_count": 1,
     "metadata": {}
    },
    {
     "output_type": "execute_result",
     "data": {
      "text/plain": "Phase: Bottleneck Computation, Dataset used: Validation, Image Index:  77"
     },
     "execution_count": 1,
     "metadata": {}
    },
    {
     "output_type": "execute_result",
     "data": {
      "text/plain": "Phase: Bottleneck Computation, Dataset used:      Train, Image Index:   1"
     },
     "execution_count": 1,
     "metadata": {}
    },
    {
     "output_type": "execute_result",
     "data": {
      "text/plain": "Phase: Bottleneck Computation, Dataset used:      Train, Image Index:   2"
     },
     "execution_count": 1,
     "metadata": {}
    },
    {
     "output_type": "execute_result",
     "data": {
      "text/plain": "Phase: Bottleneck Computation, Dataset used:      Train, Image Index:   3"
     },
     "execution_count": 1,
     "metadata": {}
    },
    {
     "output_type": "execute_result",
     "data": {
      "text/plain": "Phase: Bottleneck Computation, Dataset used:      Train, Image Index:   4"
     },
     "execution_count": 1,
     "metadata": {}
    },
    {
     "output_type": "execute_result",
     "data": {
      "text/plain": "Phase: Bottleneck Computation, Dataset used:      Train, Image Index:   5"
     },
     "execution_count": 1,
     "metadata": {}
    },
    {
     "output_type": "execute_result",
     "data": {
      "text/plain": "Phase: Bottleneck Computation, Dataset used:      Train, Image Index:   6"
     },
     "execution_count": 1,
     "metadata": {}
    },
    {
     "output_type": "execute_result",
     "data": {
      "text/plain": "Phase: Bottleneck Computation, Dataset used:      Train, Image Index:   7"
     },
     "execution_count": 1,
     "metadata": {}
    },
    {
     "output_type": "execute_result",
     "data": {
      "text/plain": "Phase: Bottleneck Computation, Dataset used:      Train, Image Index:   8"
     },
     "execution_count": 1,
     "metadata": {}
    },
    {
     "output_type": "execute_result",
     "data": {
      "text/plain": "Phase: Bottleneck Computation, Dataset used:      Train, Image Index:   9"
     },
     "execution_count": 1,
     "metadata": {}
    },
    {
     "output_type": "execute_result",
     "data": {
      "text/plain": "Phase: Bottleneck Computation, Dataset used:      Train, Image Index:  10"
     },
     "execution_count": 1,
     "metadata": {}
    },
    {
     "output_type": "execute_result",
     "data": {
      "text/plain": "Phase: Bottleneck Computation, Dataset used:      Train, Image Index:  11"
     },
     "execution_count": 1,
     "metadata": {}
    },
    {
     "output_type": "execute_result",
     "data": {
      "text/plain": "Phase: Bottleneck Computation, Dataset used:      Train, Image Index:  12"
     },
     "execution_count": 1,
     "metadata": {}
    },
    {
     "output_type": "execute_result",
     "data": {
      "text/plain": "Phase: Bottleneck Computation, Dataset used:      Train, Image Index:  13"
     },
     "execution_count": 1,
     "metadata": {}
    },
    {
     "output_type": "execute_result",
     "data": {
      "text/plain": "Phase: Bottleneck Computation, Dataset used:      Train, Image Index:  14"
     },
     "execution_count": 1,
     "metadata": {}
    },
    {
     "output_type": "execute_result",
     "data": {
      "text/plain": "Phase: Bottleneck Computation, Dataset used:      Train, Image Index:  15"
     },
     "execution_count": 1,
     "metadata": {}
    },
    {
     "output_type": "execute_result",
     "data": {
      "text/plain": "Phase: Bottleneck Computation, Dataset used:      Train, Image Index:  16"
     },
     "execution_count": 1,
     "metadata": {}
    },
    {
     "output_type": "execute_result",
     "data": {
      "text/plain": "Phase: Bottleneck Computation, Dataset used:      Train, Image Index:  17"
     },
     "execution_count": 1,
     "metadata": {}
    },
    {
     "output_type": "execute_result",
     "data": {
      "text/plain": "Phase: Bottleneck Computation, Dataset used:      Train, Image Index:  18"
     },
     "execution_count": 1,
     "metadata": {}
    },
    {
     "output_type": "execute_result",
     "data": {
      "text/plain": "Phase: Bottleneck Computation, Dataset used:      Train, Image Index:  19"
     },
     "execution_count": 1,
     "metadata": {}
    },
    {
     "output_type": "execute_result",
     "data": {
      "text/plain": "Phase: Bottleneck Computation, Dataset used:      Train, Image Index:  20"
     },
     "execution_count": 1,
     "metadata": {}
    },
    {
     "output_type": "execute_result",
     "data": {
      "text/plain": "Phase: Bottleneck Computation, Dataset used:      Train, Image Index:  21"
     },
     "execution_count": 1,
     "metadata": {}
    },
    {
     "output_type": "execute_result",
     "data": {
      "text/plain": "Phase: Bottleneck Computation, Dataset used:      Train, Image Index:  22"
     },
     "execution_count": 1,
     "metadata": {}
    },
    {
     "output_type": "execute_result",
     "data": {
      "text/plain": "Phase: Bottleneck Computation, Dataset used:      Train, Image Index:  23"
     },
     "execution_count": 1,
     "metadata": {}
    },
    {
     "output_type": "execute_result",
     "data": {
      "text/plain": "Phase: Bottleneck Computation, Dataset used:      Train, Image Index:  24"
     },
     "execution_count": 1,
     "metadata": {}
    },
    {
     "output_type": "execute_result",
     "data": {
      "text/plain": "Phase: Bottleneck Computation, Dataset used:      Train, Image Index:  25"
     },
     "execution_count": 1,
     "metadata": {}
    },
    {
     "output_type": "execute_result",
     "data": {
      "text/plain": "Phase: Bottleneck Computation, Dataset used:      Train, Image Index:  26"
     },
     "execution_count": 1,
     "metadata": {}
    },
    {
     "output_type": "execute_result",
     "data": {
      "text/plain": "Phase: Bottleneck Computation, Dataset used:      Train, Image Index:  27"
     },
     "execution_count": 1,
     "metadata": {}
    },
    {
     "output_type": "execute_result",
     "data": {
      "text/plain": "Phase: Bottleneck Computation, Dataset used:      Train, Image Index:  28"
     },
     "execution_count": 1,
     "metadata": {}
    },
    {
     "output_type": "execute_result",
     "data": {
      "text/plain": "Phase: Bottleneck Computation, Dataset used:      Train, Image Index:  29"
     },
     "execution_count": 1,
     "metadata": {}
    },
    {
     "output_type": "execute_result",
     "data": {
      "text/plain": "Phase: Bottleneck Computation, Dataset used:      Train, Image Index:  30"
     },
     "execution_count": 1,
     "metadata": {}
    },
    {
     "output_type": "execute_result",
     "data": {
      "text/plain": "Phase: Bottleneck Computation, Dataset used:      Train, Image Index:  31"
     },
     "execution_count": 1,
     "metadata": {}
    },
    {
     "output_type": "execute_result",
     "data": {
      "text/plain": "Phase: Bottleneck Computation, Dataset used:      Train, Image Index:  32"
     },
     "execution_count": 1,
     "metadata": {}
    },
    {
     "output_type": "execute_result",
     "data": {
      "text/plain": "Phase: Bottleneck Computation, Dataset used:      Train, Image Index:  33"
     },
     "execution_count": 1,
     "metadata": {}
    },
    {
     "output_type": "execute_result",
     "data": {
      "text/plain": "Phase: Bottleneck Computation, Dataset used:      Train, Image Index:  34"
     },
     "execution_count": 1,
     "metadata": {}
    },
    {
     "output_type": "execute_result",
     "data": {
      "text/plain": "Phase: Bottleneck Computation, Dataset used:      Train, Image Index:  35"
     },
     "execution_count": 1,
     "metadata": {}
    },
    {
     "output_type": "execute_result",
     "data": {
      "text/plain": "Phase: Bottleneck Computation, Dataset used:      Train, Image Index:  36"
     },
     "execution_count": 1,
     "metadata": {}
    },
    {
     "output_type": "execute_result",
     "data": {
      "text/plain": "Phase: Bottleneck Computation, Dataset used:      Train, Image Index:  37"
     },
     "execution_count": 1,
     "metadata": {}
    },
    {
     "output_type": "execute_result",
     "data": {
      "text/plain": "Phase: Bottleneck Computation, Dataset used:      Train, Image Index:  38"
     },
     "execution_count": 1,
     "metadata": {}
    },
    {
     "output_type": "execute_result",
     "data": {
      "text/plain": "Phase: Bottleneck Computation, Dataset used:      Train, Image Index:  39"
     },
     "execution_count": 1,
     "metadata": {}
    },
    {
     "output_type": "execute_result",
     "data": {
      "text/plain": "Phase: Bottleneck Computation, Dataset used:      Train, Image Index:  40"
     },
     "execution_count": 1,
     "metadata": {}
    },
    {
     "output_type": "execute_result",
     "data": {
      "text/plain": "Phase: Bottleneck Computation, Dataset used:      Train, Image Index:  41"
     },
     "execution_count": 1,
     "metadata": {}
    },
    {
     "output_type": "execute_result",
     "data": {
      "text/plain": "Phase: Bottleneck Computation, Dataset used:      Train, Image Index:  42"
     },
     "execution_count": 1,
     "metadata": {}
    },
    {
     "output_type": "execute_result",
     "data": {
      "text/plain": "Phase: Bottleneck Computation, Dataset used:      Train, Image Index:  43"
     },
     "execution_count": 1,
     "metadata": {}
    },
    {
     "output_type": "execute_result",
     "data": {
      "text/plain": "Phase: Bottleneck Computation, Dataset used:      Train, Image Index:  44"
     },
     "execution_count": 1,
     "metadata": {}
    },
    {
     "output_type": "execute_result",
     "data": {
      "text/plain": "Phase: Bottleneck Computation, Dataset used:      Train, Image Index:  45"
     },
     "execution_count": 1,
     "metadata": {}
    },
    {
     "output_type": "execute_result",
     "data": {
      "text/plain": "Phase: Bottleneck Computation, Dataset used:      Train, Image Index:  46"
     },
     "execution_count": 1,
     "metadata": {}
    },
    {
     "output_type": "execute_result",
     "data": {
      "text/plain": "Phase: Bottleneck Computation, Dataset used:      Train, Image Index:  47"
     },
     "execution_count": 1,
     "metadata": {}
    },
    {
     "output_type": "execute_result",
     "data": {
      "text/plain": "Phase: Bottleneck Computation, Dataset used:      Train, Image Index:  48"
     },
     "execution_count": 1,
     "metadata": {}
    },
    {
     "output_type": "execute_result",
     "data": {
      "text/plain": "Phase: Bottleneck Computation, Dataset used:      Train, Image Index:  49"
     },
     "execution_count": 1,
     "metadata": {}
    },
    {
     "output_type": "execute_result",
     "data": {
      "text/plain": "Phase: Bottleneck Computation, Dataset used:      Train, Image Index:  50"
     },
     "execution_count": 1,
     "metadata": {}
    },
    {
     "output_type": "execute_result",
     "data": {
      "text/plain": "Phase: Bottleneck Computation, Dataset used:      Train, Image Index:  51"
     },
     "execution_count": 1,
     "metadata": {}
    },
    {
     "output_type": "execute_result",
     "data": {
      "text/plain": "Phase: Bottleneck Computation, Dataset used:      Train, Image Index:  52"
     },
     "execution_count": 1,
     "metadata": {}
    },
    {
     "output_type": "execute_result",
     "data": {
      "text/plain": "Phase: Bottleneck Computation, Dataset used:      Train, Image Index:  53"
     },
     "execution_count": 1,
     "metadata": {}
    },
    {
     "output_type": "execute_result",
     "data": {
      "text/plain": "Phase: Bottleneck Computation, Dataset used:      Train, Image Index:  54"
     },
     "execution_count": 1,
     "metadata": {}
    },
    {
     "output_type": "execute_result",
     "data": {
      "text/plain": "Phase: Bottleneck Computation, Dataset used:      Train, Image Index:  55"
     },
     "execution_count": 1,
     "metadata": {}
    },
    {
     "output_type": "execute_result",
     "data": {
      "text/plain": "Phase: Bottleneck Computation, Dataset used:      Train, Image Index:  56"
     },
     "execution_count": 1,
     "metadata": {}
    },
    {
     "output_type": "execute_result",
     "data": {
      "text/plain": "Phase: Bottleneck Computation, Dataset used:      Train, Image Index:  57"
     },
     "execution_count": 1,
     "metadata": {}
    },
    {
     "output_type": "execute_result",
     "data": {
      "text/plain": "Phase: Bottleneck Computation, Dataset used:      Train, Image Index:  58"
     },
     "execution_count": 1,
     "metadata": {}
    },
    {
     "output_type": "execute_result",
     "data": {
      "text/plain": "Phase: Bottleneck Computation, Dataset used:      Train, Image Index:  59"
     },
     "execution_count": 1,
     "metadata": {}
    },
    {
     "output_type": "execute_result",
     "data": {
      "text/plain": "Phase: Bottleneck Computation, Dataset used:      Train, Image Index:  60"
     },
     "execution_count": 1,
     "metadata": {}
    },
    {
     "output_type": "execute_result",
     "data": {
      "text/plain": "Phase: Bottleneck Computation, Dataset used:      Train, Image Index:  61"
     },
     "execution_count": 1,
     "metadata": {}
    },
    {
     "output_type": "execute_result",
     "data": {
      "text/plain": "Phase: Bottleneck Computation, Dataset used:      Train, Image Index:  62"
     },
     "execution_count": 1,
     "metadata": {}
    },
    {
     "output_type": "execute_result",
     "data": {
      "text/plain": "Phase: Bottleneck Computation, Dataset used:      Train, Image Index:  63"
     },
     "execution_count": 1,
     "metadata": {}
    },
    {
     "output_type": "execute_result",
     "data": {
      "text/plain": "Phase: Bottleneck Computation, Dataset used:      Train, Image Index:  64"
     },
     "execution_count": 1,
     "metadata": {}
    },
    {
     "output_type": "execute_result",
     "data": {
      "text/plain": "Phase: Bottleneck Computation, Dataset used:      Train, Image Index:  65"
     },
     "execution_count": 1,
     "metadata": {}
    },
    {
     "output_type": "execute_result",
     "data": {
      "text/plain": "Phase: Bottleneck Computation, Dataset used:      Train, Image Index:  66"
     },
     "execution_count": 1,
     "metadata": {}
    },
    {
     "output_type": "execute_result",
     "data": {
      "text/plain": "Phase: Bottleneck Computation, Dataset used:      Train, Image Index:  67"
     },
     "execution_count": 1,
     "metadata": {}
    },
    {
     "output_type": "execute_result",
     "data": {
      "text/plain": "Phase: Bottleneck Computation, Dataset used:      Train, Image Index:  68"
     },
     "execution_count": 1,
     "metadata": {}
    },
    {
     "output_type": "execute_result",
     "data": {
      "text/plain": "Phase: Bottleneck Computation, Dataset used:      Train, Image Index:  69"
     },
     "execution_count": 1,
     "metadata": {}
    },
    {
     "output_type": "execute_result",
     "data": {
      "text/plain": "Phase: Bottleneck Computation, Dataset used:      Train, Image Index:  70"
     },
     "execution_count": 1,
     "metadata": {}
    },
    {
     "output_type": "execute_result",
     "data": {
      "text/plain": "Phase: Bottleneck Computation, Dataset used:      Train, Image Index:  71"
     },
     "execution_count": 1,
     "metadata": {}
    },
    {
     "output_type": "execute_result",
     "data": {
      "text/plain": "Phase: Bottleneck Computation, Dataset used:      Train, Image Index:  72"
     },
     "execution_count": 1,
     "metadata": {}
    },
    {
     "output_type": "execute_result",
     "data": {
      "text/plain": "Phase: Bottleneck Computation, Dataset used:      Train, Image Index:  73"
     },
     "execution_count": 1,
     "metadata": {}
    },
    {
     "output_type": "execute_result",
     "data": {
      "text/plain": "Phase: Bottleneck Computation, Dataset used:      Train, Image Index:  74"
     },
     "execution_count": 1,
     "metadata": {}
    },
    {
     "output_type": "execute_result",
     "data": {
      "text/plain": "Phase: Bottleneck Computation, Dataset used:      Train, Image Index:  75"
     },
     "execution_count": 1,
     "metadata": {}
    },
    {
     "output_type": "execute_result",
     "data": {
      "text/plain": "Phase: Bottleneck Computation, Dataset used:      Train, Image Index:  76"
     },
     "execution_count": 1,
     "metadata": {}
    },
    {
     "output_type": "execute_result",
     "data": {
      "text/plain": "Phase: Bottleneck Computation, Dataset used:      Train, Image Index:  77"
     },
     "execution_count": 1,
     "metadata": {}
    },
    {
     "output_type": "execute_result",
     "data": {
      "text/plain": "Phase: Bottleneck Computation, Dataset used:      Train, Image Index:  78"
     },
     "execution_count": 1,
     "metadata": {}
    },
    {
     "output_type": "execute_result",
     "data": {
      "text/plain": "Phase: Bottleneck Computation, Dataset used:      Train, Image Index:  79"
     },
     "execution_count": 1,
     "metadata": {}
    },
    {
     "output_type": "execute_result",
     "data": {
      "text/plain": "Phase: Bottleneck Computation, Dataset used:      Train, Image Index:  80"
     },
     "execution_count": 1,
     "metadata": {}
    },
    {
     "output_type": "execute_result",
     "data": {
      "text/plain": "Phase: Bottleneck Computation, Dataset used:      Train, Image Index:  81"
     },
     "execution_count": 1,
     "metadata": {}
    },
    {
     "output_type": "execute_result",
     "data": {
      "text/plain": "Phase: Bottleneck Computation, Dataset used:      Train, Image Index:  82"
     },
     "execution_count": 1,
     "metadata": {}
    },
    {
     "output_type": "execute_result",
     "data": {
      "text/plain": "Phase: Bottleneck Computation, Dataset used:      Train, Image Index:  83"
     },
     "execution_count": 1,
     "metadata": {}
    },
    {
     "output_type": "execute_result",
     "data": {
      "text/plain": "Phase: Bottleneck Computation, Dataset used:      Train, Image Index:  84"
     },
     "execution_count": 1,
     "metadata": {}
    },
    {
     "output_type": "execute_result",
     "data": {
      "text/plain": "Phase: Bottleneck Computation, Dataset used:      Train, Image Index:  85"
     },
     "execution_count": 1,
     "metadata": {}
    },
    {
     "output_type": "execute_result",
     "data": {
      "text/plain": "Phase: Bottleneck Computation, Dataset used:      Train, Image Index:  86"
     },
     "execution_count": 1,
     "metadata": {}
    },
    {
     "output_type": "execute_result",
     "data": {
      "text/plain": "Phase: Bottleneck Computation, Dataset used:      Train, Image Index:  87"
     },
     "execution_count": 1,
     "metadata": {}
    },
    {
     "output_type": "execute_result",
     "data": {
      "text/plain": "Phase: Bottleneck Computation, Dataset used:      Train, Image Index:  88"
     },
     "execution_count": 1,
     "metadata": {}
    },
    {
     "output_type": "execute_result",
     "data": {
      "text/plain": "Phase: Bottleneck Computation, Dataset used:      Train, Image Index:  89"
     },
     "execution_count": 1,
     "metadata": {}
    },
    {
     "output_type": "execute_result",
     "data": {
      "text/plain": "Phase: Bottleneck Computation, Dataset used:      Train, Image Index:  90"
     },
     "execution_count": 1,
     "metadata": {}
    },
    {
     "output_type": "execute_result",
     "data": {
      "text/plain": "Phase: Bottleneck Computation, Dataset used:      Train, Image Index:  91"
     },
     "execution_count": 1,
     "metadata": {}
    },
    {
     "output_type": "execute_result",
     "data": {
      "text/plain": "Phase: Bottleneck Computation, Dataset used:      Train, Image Index:  92"
     },
     "execution_count": 1,
     "metadata": {}
    },
    {
     "output_type": "execute_result",
     "data": {
      "text/plain": "Phase: Bottleneck Computation, Dataset used:      Train, Image Index:  93"
     },
     "execution_count": 1,
     "metadata": {}
    },
    {
     "output_type": "execute_result",
     "data": {
      "text/plain": "Phase: Bottleneck Computation, Dataset used:      Train, Image Index:  94"
     },
     "execution_count": 1,
     "metadata": {}
    },
    {
     "output_type": "execute_result",
     "data": {
      "text/plain": "Phase: Bottleneck Computation, Dataset used:      Train, Image Index:  95"
     },
     "execution_count": 1,
     "metadata": {}
    },
    {
     "output_type": "execute_result",
     "data": {
      "text/plain": "Phase: Bottleneck Computation, Dataset used:      Train, Image Index:  96"
     },
     "execution_count": 1,
     "metadata": {}
    },
    {
     "output_type": "execute_result",
     "data": {
      "text/plain": "Phase: Bottleneck Computation, Dataset used:      Train, Image Index:  97"
     },
     "execution_count": 1,
     "metadata": {}
    },
    {
     "output_type": "execute_result",
     "data": {
      "text/plain": "Phase: Bottleneck Computation, Dataset used:      Train, Image Index:  98"
     },
     "execution_count": 1,
     "metadata": {}
    },
    {
     "output_type": "execute_result",
     "data": {
      "text/plain": "Phase: Bottleneck Computation, Dataset used:      Train, Image Index:  99"
     },
     "execution_count": 1,
     "metadata": {}
    },
    {
     "output_type": "execute_result",
     "data": {
      "text/plain": "Phase: Bottleneck Computation, Dataset used:      Train, Image Index: 100"
     },
     "execution_count": 1,
     "metadata": {}
    },
    {
     "output_type": "execute_result",
     "data": {
      "text/plain": "Phase: Bottleneck Computation, Dataset used:      Train, Image Index: 101"
     },
     "execution_count": 1,
     "metadata": {}
    },
    {
     "output_type": "execute_result",
     "data": {
      "text/plain": "Phase: Bottleneck Computation, Dataset used:      Train, Image Index: 102"
     },
     "execution_count": 1,
     "metadata": {}
    },
    {
     "output_type": "execute_result",
     "data": {
      "text/plain": "Phase: Bottleneck Computation, Dataset used:      Train, Image Index: 103"
     },
     "execution_count": 1,
     "metadata": {}
    },
    {
     "output_type": "execute_result",
     "data": {
      "text/plain": "Phase: Bottleneck Computation, Dataset used:      Train, Image Index: 104"
     },
     "execution_count": 1,
     "metadata": {}
    },
    {
     "output_type": "execute_result",
     "data": {
      "text/plain": "Phase: Bottleneck Computation, Dataset used:      Train, Image Index: 105"
     },
     "execution_count": 1,
     "metadata": {}
    },
    {
     "output_type": "execute_result",
     "data": {
      "text/plain": "Phase: Bottleneck Computation, Dataset used:      Train, Image Index: 106"
     },
     "execution_count": 1,
     "metadata": {}
    },
    {
     "output_type": "execute_result",
     "data": {
      "text/plain": "Phase: Bottleneck Computation, Dataset used:      Train, Image Index: 107"
     },
     "execution_count": 1,
     "metadata": {}
    },
    {
     "output_type": "execute_result",
     "data": {
      "text/plain": "Phase: Bottleneck Computation, Dataset used:      Train, Image Index: 108"
     },
     "execution_count": 1,
     "metadata": {}
    },
    {
     "output_type": "execute_result",
     "data": {
      "text/plain": "Phase: Bottleneck Computation, Dataset used:      Train, Image Index: 109"
     },
     "execution_count": 1,
     "metadata": {}
    },
    {
     "output_type": "execute_result",
     "data": {
      "text/plain": "Phase: Bottleneck Computation, Dataset used:      Train, Image Index: 110"
     },
     "execution_count": 1,
     "metadata": {}
    },
    {
     "output_type": "execute_result",
     "data": {
      "text/plain": "Phase: Bottleneck Computation, Dataset used:      Train, Image Index: 111"
     },
     "execution_count": 1,
     "metadata": {}
    },
    {
     "output_type": "execute_result",
     "data": {
      "text/plain": "Phase: Bottleneck Computation, Dataset used:      Train, Image Index: 112"
     },
     "execution_count": 1,
     "metadata": {}
    },
    {
     "output_type": "execute_result",
     "data": {
      "text/plain": "Phase: Bottleneck Computation, Dataset used:      Train, Image Index: 113"
     },
     "execution_count": 1,
     "metadata": {}
    },
    {
     "output_type": "execute_result",
     "data": {
      "text/plain": "Phase: Bottleneck Computation, Dataset used:      Train, Image Index: 114"
     },
     "execution_count": 1,
     "metadata": {}
    },
    {
     "output_type": "execute_result",
     "data": {
      "text/plain": "Phase: Bottleneck Computation, Dataset used:      Train, Image Index: 115"
     },
     "execution_count": 1,
     "metadata": {}
    },
    {
     "output_type": "execute_result",
     "data": {
      "text/plain": "Phase: Bottleneck Computation, Dataset used:      Train, Image Index: 116"
     },
     "execution_count": 1,
     "metadata": {}
    },
    {
     "output_type": "execute_result",
     "data": {
      "text/plain": "Phase: Bottleneck Computation, Dataset used:      Train, Image Index: 117"
     },
     "execution_count": 1,
     "metadata": {}
    },
    {
     "output_type": "execute_result",
     "data": {
      "text/plain": "Phase: Bottleneck Computation, Dataset used:      Train, Image Index: 118"
     },
     "execution_count": 1,
     "metadata": {}
    },
    {
     "output_type": "execute_result",
     "data": {
      "text/plain": "Phase: Bottleneck Computation, Dataset used:      Train, Image Index: 119"
     },
     "execution_count": 1,
     "metadata": {}
    },
    {
     "output_type": "execute_result",
     "data": {
      "text/plain": "Phase: Bottleneck Computation, Dataset used:      Train, Image Index: 120"
     },
     "execution_count": 1,
     "metadata": {}
    },
    {
     "output_type": "execute_result",
     "data": {
      "text/plain": "Phase: Bottleneck Computation, Dataset used:      Train, Image Index: 121"
     },
     "execution_count": 1,
     "metadata": {}
    },
    {
     "output_type": "execute_result",
     "data": {
      "text/plain": "Phase: Bottleneck Computation, Dataset used:      Train, Image Index: 122"
     },
     "execution_count": 1,
     "metadata": {}
    },
    {
     "output_type": "execute_result",
     "data": {
      "text/plain": "Phase: Bottleneck Computation, Dataset used:      Train, Image Index: 123"
     },
     "execution_count": 1,
     "metadata": {}
    },
    {
     "output_type": "execute_result",
     "data": {
      "text/plain": "Phase: Bottleneck Computation, Dataset used:      Train, Image Index: 124"
     },
     "execution_count": 1,
     "metadata": {}
    },
    {
     "output_type": "execute_result",
     "data": {
      "text/plain": "Phase: Bottleneck Computation, Dataset used:      Train, Image Index: 125"
     },
     "execution_count": 1,
     "metadata": {}
    },
    {
     "output_type": "execute_result",
     "data": {
      "text/plain": "Phase: Bottleneck Computation, Dataset used:      Train, Image Index: 126"
     },
     "execution_count": 1,
     "metadata": {}
    },
    {
     "output_type": "execute_result",
     "data": {
      "text/plain": "Phase: Bottleneck Computation, Dataset used:      Train, Image Index: 127"
     },
     "execution_count": 1,
     "metadata": {}
    },
    {
     "output_type": "execute_result",
     "data": {
      "text/plain": "Phase: Bottleneck Computation, Dataset used:      Train, Image Index: 128"
     },
     "execution_count": 1,
     "metadata": {}
    },
    {
     "output_type": "execute_result",
     "data": {
      "text/plain": "Phase: Bottleneck Computation, Dataset used:      Train, Image Index: 129"
     },
     "execution_count": 1,
     "metadata": {}
    },
    {
     "output_type": "execute_result",
     "data": {
      "text/plain": "Phase: Bottleneck Computation, Dataset used:      Train, Image Index: 130"
     },
     "execution_count": 1,
     "metadata": {}
    },
    {
     "output_type": "execute_result",
     "data": {
      "text/plain": "Phase: Bottleneck Computation, Dataset used:      Train, Image Index: 131"
     },
     "execution_count": 1,
     "metadata": {}
    },
    {
     "output_type": "execute_result",
     "data": {
      "text/plain": "Phase: Bottleneck Computation, Dataset used:      Train, Image Index: 132"
     },
     "execution_count": 1,
     "metadata": {}
    },
    {
     "output_type": "execute_result",
     "data": {
      "text/plain": "Phase: Bottleneck Computation, Dataset used:      Train, Image Index: 133"
     },
     "execution_count": 1,
     "metadata": {}
    },
    {
     "output_type": "execute_result",
     "data": {
      "text/plain": "Phase: Bottleneck Computation, Dataset used:      Train, Image Index: 134"
     },
     "execution_count": 1,
     "metadata": {}
    },
    {
     "output_type": "execute_result",
     "data": {
      "text/plain": "Phase: Bottleneck Computation, Dataset used:      Train, Image Index: 135"
     },
     "execution_count": 1,
     "metadata": {}
    },
    {
     "output_type": "execute_result",
     "data": {
      "text/plain": "Phase: Bottleneck Computation, Dataset used:      Train, Image Index: 136"
     },
     "execution_count": 1,
     "metadata": {}
    },
    {
     "output_type": "execute_result",
     "data": {
      "text/plain": "Phase: Bottleneck Computation, Dataset used:      Train, Image Index: 137"
     },
     "execution_count": 1,
     "metadata": {}
    },
    {
     "output_type": "execute_result",
     "data": {
      "text/plain": "Phase: Bottleneck Computation, Dataset used:      Train, Image Index: 138"
     },
     "execution_count": 1,
     "metadata": {}
    },
    {
     "output_type": "execute_result",
     "data": {
      "text/plain": "Phase: Bottleneck Computation, Dataset used:      Train, Image Index: 139"
     },
     "execution_count": 1,
     "metadata": {}
    },
    {
     "output_type": "execute_result",
     "data": {
      "text/plain": "Phase: Bottleneck Computation, Dataset used:      Train, Image Index: 140"
     },
     "execution_count": 1,
     "metadata": {}
    },
    {
     "output_type": "execute_result",
     "data": {
      "text/plain": "Phase: Bottleneck Computation, Dataset used:      Train, Image Index: 141"
     },
     "execution_count": 1,
     "metadata": {}
    },
    {
     "output_type": "execute_result",
     "data": {
      "text/plain": "Phase: Bottleneck Computation, Dataset used:      Train, Image Index: 142"
     },
     "execution_count": 1,
     "metadata": {}
    },
    {
     "output_type": "execute_result",
     "data": {
      "text/plain": "Phase: Bottleneck Computation, Dataset used:      Train, Image Index: 143"
     },
     "execution_count": 1,
     "metadata": {}
    },
    {
     "output_type": "execute_result",
     "data": {
      "text/plain": "Phase: Bottleneck Computation, Dataset used:      Train, Image Index: 144"
     },
     "execution_count": 1,
     "metadata": {}
    },
    {
     "output_type": "execute_result",
     "data": {
      "text/plain": "Phase: Bottleneck Computation, Dataset used:      Train, Image Index: 145"
     },
     "execution_count": 1,
     "metadata": {}
    },
    {
     "output_type": "execute_result",
     "data": {
      "text/plain": "Phase: Bottleneck Computation, Dataset used:      Train, Image Index: 146"
     },
     "execution_count": 1,
     "metadata": {}
    },
    {
     "output_type": "execute_result",
     "data": {
      "text/plain": "Phase: Bottleneck Computation, Dataset used:      Train, Image Index: 147"
     },
     "execution_count": 1,
     "metadata": {}
    },
    {
     "output_type": "execute_result",
     "data": {
      "text/plain": "Phase: Bottleneck Computation, Dataset used:      Train, Image Index: 148"
     },
     "execution_count": 1,
     "metadata": {}
    },
    {
     "output_type": "execute_result",
     "data": {
      "text/plain": "Phase: Bottleneck Computation, Dataset used:      Train, Image Index: 149"
     },
     "execution_count": 1,
     "metadata": {}
    },
    {
     "output_type": "execute_result",
     "data": {
      "text/plain": "Phase: Bottleneck Computation, Dataset used:      Train, Image Index: 150"
     },
     "execution_count": 1,
     "metadata": {}
    },
    {
     "output_type": "execute_result",
     "data": {
      "text/plain": "Phase: Bottleneck Computation, Dataset used:      Train, Image Index: 151"
     },
     "execution_count": 1,
     "metadata": {}
    },
    {
     "output_type": "execute_result",
     "data": {
      "text/plain": "Phase: Bottleneck Computation, Dataset used:      Train, Image Index: 152"
     },
     "execution_count": 1,
     "metadata": {}
    },
    {
     "output_type": "execute_result",
     "data": {
      "text/plain": "Phase: Bottleneck Computation, Dataset used:      Train, Image Index: 153"
     },
     "execution_count": 1,
     "metadata": {}
    },
    {
     "output_type": "execute_result",
     "data": {
      "text/plain": "Phase: Bottleneck Computation, Dataset used:      Train, Image Index: 154"
     },
     "execution_count": 1,
     "metadata": {}
    },
    {
     "output_type": "execute_result",
     "data": {
      "text/plain": "Phase: Bottleneck Computation, Dataset used:      Train, Image Index: 155"
     },
     "execution_count": 1,
     "metadata": {}
    },
    {
     "output_type": "execute_result",
     "data": {
      "text/plain": "Phase: Bottleneck Computation, Dataset used:      Train, Image Index: 156"
     },
     "execution_count": 1,
     "metadata": {}
    },
    {
     "output_type": "execute_result",
     "data": {
      "text/plain": "Phase: Bottleneck Computation, Dataset used:      Train, Image Index: 157"
     },
     "execution_count": 1,
     "metadata": {}
    },
    {
     "output_type": "execute_result",
     "data": {
      "text/plain": "Phase: Bottleneck Computation, Dataset used:      Train, Image Index: 158"
     },
     "execution_count": 1,
     "metadata": {}
    },
    {
     "output_type": "execute_result",
     "data": {
      "text/plain": "Phase: Bottleneck Computation, Dataset used:      Train, Image Index: 159"
     },
     "execution_count": 1,
     "metadata": {}
    },
    {
     "output_type": "execute_result",
     "data": {
      "text/plain": "Phase: Bottleneck Computation, Dataset used:      Train, Image Index: 160"
     },
     "execution_count": 1,
     "metadata": {}
    },
    {
     "output_type": "execute_result",
     "data": {
      "text/plain": "Phase: Bottleneck Computation, Dataset used:      Train, Image Index: 161"
     },
     "execution_count": 1,
     "metadata": {}
    },
    {
     "output_type": "execute_result",
     "data": {
      "text/plain": "Phase: Bottleneck Computation, Dataset used:      Train, Image Index: 162"
     },
     "execution_count": 1,
     "metadata": {}
    },
    {
     "output_type": "execute_result",
     "data": {
      "text/plain": "Phase: Bottleneck Computation, Dataset used:      Train, Image Index: 163"
     },
     "execution_count": 1,
     "metadata": {}
    },
    {
     "output_type": "execute_result",
     "data": {
      "text/plain": "Phase: Bottleneck Computation, Dataset used:      Train, Image Index: 164"
     },
     "execution_count": 1,
     "metadata": {}
    },
    {
     "output_type": "execute_result",
     "data": {
      "text/plain": "Phase: Bottleneck Computation, Dataset used:      Train, Image Index: 165"
     },
     "execution_count": 1,
     "metadata": {}
    },
    {
     "output_type": "execute_result",
     "data": {
      "text/plain": "Phase: Bottleneck Computation, Dataset used:      Train, Image Index: 166"
     },
     "execution_count": 1,
     "metadata": {}
    },
    {
     "output_type": "execute_result",
     "data": {
      "text/plain": "Phase: Bottleneck Computation, Dataset used:      Train, Image Index: 167"
     },
     "execution_count": 1,
     "metadata": {}
    },
    {
     "output_type": "execute_result",
     "data": {
      "text/plain": "Phase: Bottleneck Computation, Dataset used:      Train, Image Index: 168"
     },
     "execution_count": 1,
     "metadata": {}
    },
    {
     "output_type": "execute_result",
     "data": {
      "text/plain": "Phase: Bottleneck Computation, Dataset used:      Train, Image Index: 169"
     },
     "execution_count": 1,
     "metadata": {}
    },
    {
     "output_type": "execute_result",
     "data": {
      "text/plain": "Phase: Bottleneck Computation, Dataset used:      Train, Image Index: 170"
     },
     "execution_count": 1,
     "metadata": {}
    },
    {
     "output_type": "execute_result",
     "data": {
      "text/plain": "Phase: Bottleneck Computation, Dataset used:      Train, Image Index: 171"
     },
     "execution_count": 1,
     "metadata": {}
    },
    {
     "output_type": "execute_result",
     "data": {
      "text/plain": "Phase: Bottleneck Computation, Dataset used:      Train, Image Index: 172"
     },
     "execution_count": 1,
     "metadata": {}
    },
    {
     "output_type": "execute_result",
     "data": {
      "text/plain": "Phase: Bottleneck Computation, Dataset used:      Train, Image Index: 173"
     },
     "execution_count": 1,
     "metadata": {}
    },
    {
     "output_type": "execute_result",
     "data": {
      "text/plain": "Phase: Bottleneck Computation, Dataset used:      Train, Image Index: 174"
     },
     "execution_count": 1,
     "metadata": {}
    },
    {
     "output_type": "execute_result",
     "data": {
      "text/plain": "Phase: Bottleneck Computation, Dataset used:      Train, Image Index: 175"
     },
     "execution_count": 1,
     "metadata": {}
    },
    {
     "output_type": "execute_result",
     "data": {
      "text/plain": "Phase: Bottleneck Computation, Dataset used:      Train, Image Index: 176"
     },
     "execution_count": 1,
     "metadata": {}
    },
    {
     "output_type": "execute_result",
     "data": {
      "text/plain": "Phase: Bottleneck Computation, Dataset used:      Train, Image Index: 177"
     },
     "execution_count": 1,
     "metadata": {}
    },
    {
     "output_type": "execute_result",
     "data": {
      "text/plain": "Phase: Bottleneck Computation, Dataset used:      Train, Image Index: 178"
     },
     "execution_count": 1,
     "metadata": {}
    },
    {
     "output_type": "execute_result",
     "data": {
      "text/plain": "Phase: Bottleneck Computation, Dataset used:      Train, Image Index: 179"
     },
     "execution_count": 1,
     "metadata": {}
    },
    {
     "output_type": "execute_result",
     "data": {
      "text/plain": "Phase: Bottleneck Computation, Dataset used:      Train, Image Index: 180"
     },
     "execution_count": 1,
     "metadata": {}
    },
    {
     "output_type": "execute_result",
     "data": {
      "text/plain": "Phase: Bottleneck Computation, Dataset used:      Train, Image Index: 181"
     },
     "execution_count": 1,
     "metadata": {}
    },
    {
     "output_type": "execute_result",
     "data": {
      "text/plain": "Phase: Bottleneck Computation, Dataset used:      Train, Image Index: 182"
     },
     "execution_count": 1,
     "metadata": {}
    },
    {
     "output_type": "execute_result",
     "data": {
      "text/plain": "Phase: Bottleneck Computation, Dataset used:      Train, Image Index: 183"
     },
     "execution_count": 1,
     "metadata": {}
    },
    {
     "output_type": "execute_result",
     "data": {
      "text/plain": "Phase: Bottleneck Computation, Dataset used:      Train, Image Index: 184"
     },
     "execution_count": 1,
     "metadata": {}
    },
    {
     "output_type": "execute_result",
     "data": {
      "text/plain": "Phase: Bottleneck Computation, Dataset used:      Train, Image Index: 185"
     },
     "execution_count": 1,
     "metadata": {}
    },
    {
     "output_type": "execute_result",
     "data": {
      "text/plain": "Phase: Bottleneck Computation, Dataset used:      Train, Image Index: 186"
     },
     "execution_count": 1,
     "metadata": {}
    },
    {
     "output_type": "execute_result",
     "data": {
      "text/plain": "Phase: Bottleneck Computation, Dataset used:      Train, Image Index: 187"
     },
     "execution_count": 1,
     "metadata": {}
    },
    {
     "output_type": "execute_result",
     "data": {
      "text/plain": "Phase: Bottleneck Computation, Dataset used:      Train, Image Index: 188"
     },
     "execution_count": 1,
     "metadata": {}
    },
    {
     "output_type": "execute_result",
     "data": {
      "text/plain": "Phase: Bottleneck Computation, Dataset used:      Train, Image Index: 189"
     },
     "execution_count": 1,
     "metadata": {}
    },
    {
     "output_type": "execute_result",
     "data": {
      "text/plain": "Phase: Bottleneck Computation, Dataset used:      Train, Image Index: 190"
     },
     "execution_count": 1,
     "metadata": {}
    },
    {
     "output_type": "execute_result",
     "data": {
      "text/plain": "Phase: Bottleneck Computation, Dataset used:      Train, Image Index: 191"
     },
     "execution_count": 1,
     "metadata": {}
    },
    {
     "output_type": "execute_result",
     "data": {
      "text/plain": "Phase: Bottleneck Computation, Dataset used:      Train, Image Index: 192"
     },
     "execution_count": 1,
     "metadata": {}
    },
    {
     "output_type": "execute_result",
     "data": {
      "text/plain": "Phase: Bottleneck Computation, Dataset used:      Train, Image Index: 193"
     },
     "execution_count": 1,
     "metadata": {}
    },
    {
     "output_type": "execute_result",
     "data": {
      "text/plain": "Phase: Bottleneck Computation, Dataset used:      Train, Image Index: 194"
     },
     "execution_count": 1,
     "metadata": {}
    },
    {
     "output_type": "execute_result",
     "data": {
      "text/plain": "Phase: Bottleneck Computation, Dataset used:      Train, Image Index: 195"
     },
     "execution_count": 1,
     "metadata": {}
    },
    {
     "output_type": "execute_result",
     "data": {
      "text/plain": "Phase: Bottleneck Computation, Dataset used:      Train, Image Index: 196"
     },
     "execution_count": 1,
     "metadata": {}
    },
    {
     "output_type": "execute_result",
     "data": {
      "text/plain": "Phase: Bottleneck Computation, Dataset used:      Train, Image Index: 197"
     },
     "execution_count": 1,
     "metadata": {}
    },
    {
     "output_type": "execute_result",
     "data": {
      "text/plain": "Phase: Bottleneck Computation, Dataset used:      Train, Image Index: 198"
     },
     "execution_count": 1,
     "metadata": {}
    },
    {
     "output_type": "execute_result",
     "data": {
      "text/plain": "Phase: Bottleneck Computation, Dataset used:      Train, Image Index: 199"
     },
     "execution_count": 1,
     "metadata": {}
    },
    {
     "output_type": "execute_result",
     "data": {
      "text/plain": "Phase: Bottleneck Computation, Dataset used:      Train, Image Index: 200"
     },
     "execution_count": 1,
     "metadata": {}
    },
    {
     "output_type": "execute_result",
     "data": {
      "text/plain": "Phase: Bottleneck Computation, Dataset used:      Train, Image Index: 201"
     },
     "execution_count": 1,
     "metadata": {}
    },
    {
     "output_type": "execute_result",
     "data": {
      "text/plain": "Phase: Bottleneck Computation, Dataset used:      Train, Image Index: 202"
     },
     "execution_count": 1,
     "metadata": {}
    },
    {
     "output_type": "execute_result",
     "data": {
      "text/plain": "Phase: Bottleneck Computation, Dataset used:      Train, Image Index: 203"
     },
     "execution_count": 1,
     "metadata": {}
    },
    {
     "output_type": "execute_result",
     "data": {
      "text/plain": "Phase: Bottleneck Computation, Dataset used:      Train, Image Index: 204"
     },
     "execution_count": 1,
     "metadata": {}
    },
    {
     "output_type": "execute_result",
     "data": {
      "text/plain": "Phase: Bottleneck Computation, Dataset used:      Train, Image Index: 205"
     },
     "execution_count": 1,
     "metadata": {}
    },
    {
     "output_type": "execute_result",
     "data": {
      "text/plain": "Phase: Bottleneck Computation, Dataset used:      Train, Image Index: 206"
     },
     "execution_count": 1,
     "metadata": {}
    },
    {
     "output_type": "execute_result",
     "data": {
      "text/plain": "Phase: Bottleneck Computation, Dataset used:      Train, Image Index: 207"
     },
     "execution_count": 1,
     "metadata": {}
    },
    {
     "output_type": "execute_result",
     "data": {
      "text/plain": "Phase: Bottleneck Computation, Dataset used:      Train, Image Index: 208"
     },
     "execution_count": 1,
     "metadata": {}
    },
    {
     "output_type": "execute_result",
     "data": {
      "text/plain": "Phase: Bottleneck Computation, Dataset used:      Train, Image Index: 209"
     },
     "execution_count": 1,
     "metadata": {}
    },
    {
     "output_type": "execute_result",
     "data": {
      "text/plain": "Phase: Bottleneck Computation, Dataset used:      Train, Image Index: 210"
     },
     "execution_count": 1,
     "metadata": {}
    },
    {
     "output_type": "execute_result",
     "data": {
      "text/plain": "Phase: Bottleneck Computation, Dataset used:      Train, Image Index: 211"
     },
     "execution_count": 1,
     "metadata": {}
    },
    {
     "output_type": "execute_result",
     "data": {
      "text/plain": "Phase: Bottleneck Computation, Dataset used:      Train, Image Index: 212"
     },
     "execution_count": 1,
     "metadata": {}
    },
    {
     "output_type": "execute_result",
     "data": {
      "text/plain": "Phase: Bottleneck Computation, Dataset used:      Train, Image Index: 213"
     },
     "execution_count": 1,
     "metadata": {}
    },
    {
     "output_type": "execute_result",
     "data": {
      "text/plain": "Phase: Bottleneck Computation, Dataset used:      Train, Image Index: 214"
     },
     "execution_count": 1,
     "metadata": {}
    },
    {
     "output_type": "execute_result",
     "data": {
      "text/plain": "Phase: Bottleneck Computation, Dataset used:      Train, Image Index: 215"
     },
     "execution_count": 1,
     "metadata": {}
    },
    {
     "output_type": "execute_result",
     "data": {
      "text/plain": "Phase: Bottleneck Computation, Dataset used:      Train, Image Index: 216"
     },
     "execution_count": 1,
     "metadata": {}
    },
    {
     "output_type": "execute_result",
     "data": {
      "text/plain": "Phase: Bottleneck Computation, Dataset used:      Train, Image Index: 217"
     },
     "execution_count": 1,
     "metadata": {}
    },
    {
     "output_type": "execute_result",
     "data": {
      "text/plain": "Phase: Bottleneck Computation, Dataset used:      Train, Image Index: 218"
     },
     "execution_count": 1,
     "metadata": {}
    },
    {
     "output_type": "execute_result",
     "data": {
      "text/plain": "Phase: Bottleneck Computation, Dataset used:      Train, Image Index: 219"
     },
     "execution_count": 1,
     "metadata": {}
    },
    {
     "output_type": "execute_result",
     "data": {
      "text/plain": "Phase: Bottleneck Computation, Dataset used:      Train, Image Index: 220"
     },
     "execution_count": 1,
     "metadata": {}
    },
    {
     "output_type": "execute_result",
     "data": {
      "text/plain": "Phase: Bottleneck Computation, Dataset used:      Train, Image Index: 221"
     },
     "execution_count": 1,
     "metadata": {}
    },
    {
     "output_type": "execute_result",
     "data": {
      "text/plain": "Phase: Bottleneck Computation, Dataset used:      Train, Image Index: 222"
     },
     "execution_count": 1,
     "metadata": {}
    },
    {
     "output_type": "execute_result",
     "data": {
      "text/plain": "Phase: Bottleneck Computation, Dataset used:      Train, Image Index: 223"
     },
     "execution_count": 1,
     "metadata": {}
    },
    {
     "output_type": "execute_result",
     "data": {
      "text/plain": "Phase: Bottleneck Computation, Dataset used:      Train, Image Index: 224"
     },
     "execution_count": 1,
     "metadata": {}
    },
    {
     "output_type": "execute_result",
     "data": {
      "text/plain": "Phase: Bottleneck Computation, Dataset used:      Train, Image Index: 225"
     },
     "execution_count": 1,
     "metadata": {}
    },
    {
     "output_type": "execute_result",
     "data": {
      "text/plain": "Phase: Bottleneck Computation, Dataset used:      Train, Image Index: 226"
     },
     "execution_count": 1,
     "metadata": {}
    },
    {
     "output_type": "execute_result",
     "data": {
      "text/plain": "Phase: Bottleneck Computation, Dataset used:      Train, Image Index: 227"
     },
     "execution_count": 1,
     "metadata": {}
    },
    {
     "output_type": "execute_result",
     "data": {
      "text/plain": "Phase: Bottleneck Computation, Dataset used:      Train, Image Index: 228"
     },
     "execution_count": 1,
     "metadata": {}
    },
    {
     "output_type": "execute_result",
     "data": {
      "text/plain": "Phase: Bottleneck Computation, Dataset used:      Train, Image Index: 229"
     },
     "execution_count": 1,
     "metadata": {}
    },
    {
     "output_type": "execute_result",
     "data": {
      "text/plain": "Phase: Bottleneck Computation, Dataset used:      Train, Image Index: 230"
     },
     "execution_count": 1,
     "metadata": {}
    },
    {
     "output_type": "execute_result",
     "data": {
      "text/plain": "Phase: Bottleneck Computation, Dataset used:      Train, Image Index: 231"
     },
     "execution_count": 1,
     "metadata": {}
    },
    {
     "output_type": "execute_result",
     "data": {
      "text/plain": "Phase: Bottleneck Computation, Dataset used:      Train, Image Index: 232"
     },
     "execution_count": 1,
     "metadata": {}
    },
    {
     "output_type": "execute_result",
     "data": {
      "text/plain": "Phase: Bottleneck Computation, Dataset used:      Train, Image Index: 233"
     },
     "execution_count": 1,
     "metadata": {}
    },
    {
     "output_type": "execute_result",
     "data": {
      "text/plain": "Phase: Bottleneck Computation, Dataset used:      Train, Image Index: 234"
     },
     "execution_count": 1,
     "metadata": {}
    },
    {
     "output_type": "execute_result",
     "data": {
      "text/plain": "Phase: Bottleneck Computation, Dataset used:      Train, Image Index: 235"
     },
     "execution_count": 1,
     "metadata": {}
    },
    {
     "output_type": "execute_result",
     "data": {
      "text/plain": "Phase: Bottleneck Computation, Dataset used:      Train, Image Index: 236"
     },
     "execution_count": 1,
     "metadata": {}
    },
    {
     "output_type": "execute_result",
     "data": {
      "text/plain": "Phase: Bottleneck Computation, Dataset used:      Train, Image Index: 237"
     },
     "execution_count": 1,
     "metadata": {}
    },
    {
     "output_type": "execute_result",
     "data": {
      "text/plain": "Phase: Bottleneck Computation, Dataset used:      Train, Image Index: 238"
     },
     "execution_count": 1,
     "metadata": {}
    },
    {
     "output_type": "execute_result",
     "data": {
      "text/plain": "Phase: Bottleneck Computation, Dataset used:      Train, Image Index: 239"
     },
     "execution_count": 1,
     "metadata": {}
    },
    {
     "output_type": "execute_result",
     "data": {
      "text/plain": "Phase: Bottleneck Computation, Dataset used:      Train, Image Index: 240"
     },
     "execution_count": 1,
     "metadata": {}
    },
    {
     "output_type": "execute_result",
     "data": {
      "text/plain": "Phase: Bottleneck Computation, Dataset used:      Train, Image Index: 241"
     },
     "execution_count": 1,
     "metadata": {}
    },
    {
     "output_type": "execute_result",
     "data": {
      "text/plain": "Phase: Bottleneck Computation, Dataset used:      Train, Image Index: 242"
     },
     "execution_count": 1,
     "metadata": {}
    },
    {
     "output_type": "execute_result",
     "data": {
      "text/plain": "Phase: Bottleneck Computation, Dataset used:      Train, Image Index: 243"
     },
     "execution_count": 1,
     "metadata": {}
    },
    {
     "output_type": "execute_result",
     "data": {
      "text/plain": "Phase: Bottleneck Computation, Dataset used:      Train, Image Index: 244"
     },
     "execution_count": 1,
     "metadata": {}
    },
    {
     "output_type": "execute_result",
     "data": {
      "text/plain": "Phase: Bottleneck Computation, Dataset used:      Train, Image Index: 245"
     },
     "execution_count": 1,
     "metadata": {}
    },
    {
     "output_type": "execute_result",
     "data": {
      "text/plain": "Phase: Bottleneck Computation, Dataset used:      Train, Image Index: 246"
     },
     "execution_count": 1,
     "metadata": {}
    },
    {
     "output_type": "execute_result",
     "data": {
      "text/plain": "Phase: Bottleneck Computation, Dataset used:      Train, Image Index: 247"
     },
     "execution_count": 1,
     "metadata": {}
    },
    {
     "output_type": "execute_result",
     "data": {
      "text/plain": "Phase: Bottleneck Computation, Dataset used:      Train, Image Index: 248"
     },
     "execution_count": 1,
     "metadata": {}
    },
    {
     "output_type": "execute_result",
     "data": {
      "text/plain": "Phase: Bottleneck Computation, Dataset used:      Train, Image Index: 249"
     },
     "execution_count": 1,
     "metadata": {}
    },
    {
     "output_type": "execute_result",
     "data": {
      "text/plain": "Phase: Bottleneck Computation, Dataset used:      Train, Image Index: 250"
     },
     "execution_count": 1,
     "metadata": {}
    },
    {
     "output_type": "execute_result",
     "data": {
      "text/plain": "Phase: Bottleneck Computation, Dataset used:      Train, Image Index: 251"
     },
     "execution_count": 1,
     "metadata": {}
    },
    {
     "output_type": "execute_result",
     "data": {
      "text/plain": "Phase: Bottleneck Computation, Dataset used:      Train, Image Index: 252"
     },
     "execution_count": 1,
     "metadata": {}
    },
    {
     "output_type": "execute_result",
     "data": {
      "text/plain": "Phase: Bottleneck Computation, Dataset used:      Train, Image Index: 253"
     },
     "execution_count": 1,
     "metadata": {}
    },
    {
     "output_type": "execute_result",
     "data": {
      "text/plain": "Phase: Bottleneck Computation, Dataset used:      Train, Image Index: 254"
     },
     "execution_count": 1,
     "metadata": {}
    },
    {
     "output_type": "execute_result",
     "data": {
      "text/plain": "Phase: Bottleneck Computation, Dataset used:      Train, Image Index: 255"
     },
     "execution_count": 1,
     "metadata": {}
    },
    {
     "output_type": "execute_result",
     "data": {
      "text/plain": "Phase: Bottleneck Computation, Dataset used:      Train, Image Index: 256"
     },
     "execution_count": 1,
     "metadata": {}
    },
    {
     "output_type": "execute_result",
     "data": {
      "text/plain": "Phase: Bottleneck Computation, Dataset used:      Train, Image Index: 257"
     },
     "execution_count": 1,
     "metadata": {}
    },
    {
     "output_type": "execute_result",
     "data": {
      "text/plain": "Phase: Bottleneck Computation, Dataset used:      Train, Image Index: 258"
     },
     "execution_count": 1,
     "metadata": {}
    },
    {
     "output_type": "execute_result",
     "data": {
      "text/plain": "Phase: Bottleneck Computation, Dataset used:      Train, Image Index: 259"
     },
     "execution_count": 1,
     "metadata": {}
    },
    {
     "output_type": "execute_result",
     "data": {
      "text/plain": "Phase: Bottleneck Computation, Dataset used:      Train, Image Index: 260"
     },
     "execution_count": 1,
     "metadata": {}
    },
    {
     "output_type": "execute_result",
     "data": {
      "text/plain": "Phase: Bottleneck Computation, Dataset used:      Train, Image Index: 261"
     },
     "execution_count": 1,
     "metadata": {}
    },
    {
     "output_type": "execute_result",
     "data": {
      "text/plain": "Phase: Bottleneck Computation, Dataset used:      Train, Image Index: 262"
     },
     "execution_count": 1,
     "metadata": {}
    },
    {
     "output_type": "execute_result",
     "data": {
      "text/plain": "Phase: Bottleneck Computation, Dataset used:      Train, Image Index: 263"
     },
     "execution_count": 1,
     "metadata": {}
    },
    {
     "output_type": "execute_result",
     "data": {
      "text/plain": "Phase: Bottleneck Computation, Dataset used:      Train, Image Index: 264"
     },
     "execution_count": 1,
     "metadata": {}
    },
    {
     "output_type": "execute_result",
     "data": {
      "text/plain": "Phase: Bottleneck Computation, Dataset used:      Train, Image Index: 265"
     },
     "execution_count": 1,
     "metadata": {}
    },
    {
     "output_type": "execute_result",
     "data": {
      "text/plain": "Phase: Bottleneck Computation, Dataset used:      Train, Image Index: 266"
     },
     "execution_count": 1,
     "metadata": {}
    },
    {
     "output_type": "execute_result",
     "data": {
      "text/plain": "Phase: Bottleneck Computation, Dataset used:      Train, Image Index: 267"
     },
     "execution_count": 1,
     "metadata": {}
    },
    {
     "output_type": "execute_result",
     "data": {
      "text/plain": "Phase: Bottleneck Computation, Dataset used:      Train, Image Index: 268"
     },
     "execution_count": 1,
     "metadata": {}
    },
    {
     "output_type": "execute_result",
     "data": {
      "text/plain": "Phase: Bottleneck Computation, Dataset used:      Train, Image Index: 269"
     },
     "execution_count": 1,
     "metadata": {}
    },
    {
     "output_type": "execute_result",
     "data": {
      "text/plain": "Phase: Bottleneck Computation, Dataset used:      Train, Image Index: 270"
     },
     "execution_count": 1,
     "metadata": {}
    },
    {
     "output_type": "execute_result",
     "data": {
      "text/plain": "Phase: Bottleneck Computation, Dataset used:      Train, Image Index: 271"
     },
     "execution_count": 1,
     "metadata": {}
    },
    {
     "output_type": "execute_result",
     "data": {
      "text/plain": "Phase: Bottleneck Computation, Dataset used:      Train, Image Index: 272"
     },
     "execution_count": 1,
     "metadata": {}
    },
    {
     "output_type": "execute_result",
     "data": {
      "text/plain": "Phase: Bottleneck Computation, Dataset used:      Train, Image Index: 273"
     },
     "execution_count": 1,
     "metadata": {}
    },
    {
     "output_type": "execute_result",
     "data": {
      "text/plain": "Phase: Bottleneck Computation, Dataset used:      Train, Image Index: 274"
     },
     "execution_count": 1,
     "metadata": {}
    },
    {
     "output_type": "execute_result",
     "data": {
      "text/plain": "Phase: Bottleneck Computation, Dataset used:      Train, Image Index: 275"
     },
     "execution_count": 1,
     "metadata": {}
    },
    {
     "output_type": "execute_result",
     "data": {
      "text/plain": "Phase: Bottleneck Computation, Dataset used:      Train, Image Index: 276"
     },
     "execution_count": 1,
     "metadata": {}
    },
    {
     "output_type": "execute_result",
     "data": {
      "text/plain": "Phase: Bottleneck Computation, Dataset used:      Train, Image Index: 277"
     },
     "execution_count": 1,
     "metadata": {}
    },
    {
     "output_type": "execute_result",
     "data": {
      "text/plain": "Phase: Bottleneck Computation, Dataset used:      Train, Image Index: 278"
     },
     "execution_count": 1,
     "metadata": {}
    },
    {
     "output_type": "execute_result",
     "data": {
      "text/plain": "Phase: Bottleneck Computation, Dataset used:      Train, Image Index: 279"
     },
     "execution_count": 1,
     "metadata": {}
    },
    {
     "output_type": "execute_result",
     "data": {
      "text/plain": "Phase: Bottleneck Computation, Dataset used:      Train, Image Index: 280"
     },
     "execution_count": 1,
     "metadata": {}
    },
    {
     "output_type": "execute_result",
     "data": {
      "text/plain": "Phase: Bottleneck Computation, Dataset used:      Train, Image Index: 281"
     },
     "execution_count": 1,
     "metadata": {}
    },
    {
     "output_type": "execute_result",
     "data": {
      "text/plain": "Phase: Bottleneck Computation, Dataset used:      Train, Image Index: 282"
     },
     "execution_count": 1,
     "metadata": {}
    },
    {
     "output_type": "execute_result",
     "data": {
      "text/plain": "Phase: Bottleneck Computation, Dataset used:      Train, Image Index: 283"
     },
     "execution_count": 1,
     "metadata": {}
    },
    {
     "output_type": "execute_result",
     "data": {
      "text/plain": "Phase: Bottleneck Computation, Dataset used:      Train, Image Index: 284"
     },
     "execution_count": 1,
     "metadata": {}
    },
    {
     "output_type": "execute_result",
     "data": {
      "text/plain": "Phase: Bottleneck Computation, Dataset used:      Train, Image Index: 285"
     },
     "execution_count": 1,
     "metadata": {}
    },
    {
     "output_type": "execute_result",
     "data": {
      "text/plain": "Phase: Bottleneck Computation, Dataset used:      Train, Image Index: 286"
     },
     "execution_count": 1,
     "metadata": {}
    },
    {
     "output_type": "execute_result",
     "data": {
      "text/plain": "Phase: Bottleneck Computation, Dataset used:      Train, Image Index: 287"
     },
     "execution_count": 1,
     "metadata": {}
    },
    {
     "output_type": "execute_result",
     "data": {
      "text/plain": "Phase: Bottleneck Computation, Dataset used:      Train, Image Index: 288"
     },
     "execution_count": 1,
     "metadata": {}
    },
    {
     "output_type": "execute_result",
     "data": {
      "text/plain": "Phase: Bottleneck Computation, Dataset used:      Train, Image Index: 289"
     },
     "execution_count": 1,
     "metadata": {}
    },
    {
     "output_type": "execute_result",
     "data": {
      "text/plain": "Phase: Bottleneck Computation, Dataset used:      Train, Image Index: 290"
     },
     "execution_count": 1,
     "metadata": {}
    },
    {
     "output_type": "execute_result",
     "data": {
      "text/plain": "Phase: Bottleneck Computation, Dataset used:      Train, Image Index: 291"
     },
     "execution_count": 1,
     "metadata": {}
    },
    {
     "output_type": "execute_result",
     "data": {
      "text/plain": "Phase: Bottleneck Computation, Dataset used:      Train, Image Index: 292"
     },
     "execution_count": 1,
     "metadata": {}
    },
    {
     "output_type": "execute_result",
     "data": {
      "text/plain": "Phase: Bottleneck Computation, Dataset used:      Train, Image Index: 293"
     },
     "execution_count": 1,
     "metadata": {}
    },
    {
     "output_type": "execute_result",
     "data": {
      "text/plain": "Phase: Bottleneck Computation, Dataset used:      Train, Image Index: 294"
     },
     "execution_count": 1,
     "metadata": {}
    },
    {
     "output_type": "execute_result",
     "data": {
      "text/plain": "Phase: Bottleneck Computation, Dataset used:      Train, Image Index: 295"
     },
     "execution_count": 1,
     "metadata": {}
    },
    {
     "output_type": "execute_result",
     "data": {
      "text/plain": "Phase: Bottleneck Computation, Dataset used:      Train, Image Index: 296"
     },
     "execution_count": 1,
     "metadata": {}
    },
    {
     "output_type": "execute_result",
     "data": {
      "text/plain": "Phase: Bottleneck Computation, Dataset used:      Train, Image Index: 297"
     },
     "execution_count": 1,
     "metadata": {}
    },
    {
     "output_type": "execute_result",
     "data": {
      "text/plain": "Phase: Bottleneck Computation, Dataset used:      Train, Image Index: 298"
     },
     "execution_count": 1,
     "metadata": {}
    },
    {
     "output_type": "execute_result",
     "data": {
      "text/plain": "Phase: Bottleneck Computation, Dataset used:      Train, Image Index: 299"
     },
     "execution_count": 1,
     "metadata": {}
    },
    {
     "output_type": "execute_result",
     "data": {
      "text/plain": "Phase: Bottleneck Computation, Dataset used:      Train, Image Index: 300"
     },
     "execution_count": 1,
     "metadata": {}
    },
    {
     "output_type": "execute_result",
     "data": {
      "text/plain": "Phase: Bottleneck Computation, Dataset used:      Train, Image Index: 301"
     },
     "execution_count": 1,
     "metadata": {}
    },
    {
     "output_type": "execute_result",
     "data": {
      "text/plain": "Phase: Bottleneck Computation, Dataset used:      Train, Image Index: 302"
     },
     "execution_count": 1,
     "metadata": {}
    },
    {
     "output_type": "execute_result",
     "data": {
      "text/plain": "Phase: Bottleneck Computation, Dataset used:      Train, Image Index: 303"
     },
     "execution_count": 1,
     "metadata": {}
    },
    {
     "output_type": "execute_result",
     "data": {
      "text/plain": "Phase: Bottleneck Computation, Dataset used:      Train, Image Index: 304"
     },
     "execution_count": 1,
     "metadata": {}
    },
    {
     "output_type": "execute_result",
     "data": {
      "text/plain": "Phase: Bottleneck Computation, Dataset used:      Train, Image Index: 305"
     },
     "execution_count": 1,
     "metadata": {}
    },
    {
     "output_type": "execute_result",
     "data": {
      "text/plain": "Phase: Bottleneck Computation, Dataset used:      Train, Image Index: 306"
     },
     "execution_count": 1,
     "metadata": {}
    },
    {
     "output_type": "execute_result",
     "data": {
      "text/plain": "Phase: Bottleneck Computation, Dataset used:      Train, Image Index: 307"
     },
     "execution_count": 1,
     "metadata": {}
    },
    {
     "output_type": "execute_result",
     "data": {
      "text/plain": "Phase: Bottleneck Computation, Dataset used:      Train, Image Index: 308"
     },
     "execution_count": 1,
     "metadata": {}
    },
    {
     "output_type": "execute_result",
     "data": {
      "text/plain": "Phase: Bottleneck Computation, Dataset used:      Train, Image Index: 309"
     },
     "execution_count": 1,
     "metadata": {}
    },
    {
     "output_type": "execute_result",
     "data": {
      "text/plain": "Phase: Bottleneck Computation, Dataset used:      Train, Image Index: 310"
     },
     "execution_count": 1,
     "metadata": {}
    },
    {
     "output_type": "execute_result",
     "data": {
      "text/plain": "Phase: Bottleneck Computation, Dataset used:      Train, Image Index: 311"
     },
     "execution_count": 1,
     "metadata": {}
    },
    {
     "output_type": "execute_result",
     "data": {
      "text/plain": "Phase: Bottleneck Computation, Dataset used:      Train, Image Index: 312"
     },
     "execution_count": 1,
     "metadata": {}
    },
    {
     "output_type": "execute_result",
     "data": {
      "text/plain": "Phase: Bottleneck Computation, Dataset used:      Train, Image Index: 313"
     },
     "execution_count": 1,
     "metadata": {}
    },
    {
     "output_type": "execute_result",
     "data": {
      "text/plain": "Phase: Bottleneck Computation, Dataset used:      Train, Image Index: 314"
     },
     "execution_count": 1,
     "metadata": {}
    },
    {
     "output_type": "execute_result",
     "data": {
      "text/plain": "Phase: Bottleneck Computation, Dataset used:      Train, Image Index: 315"
     },
     "execution_count": 1,
     "metadata": {}
    },
    {
     "output_type": "execute_result",
     "data": {
      "text/plain": "Phase: Bottleneck Computation, Dataset used:      Train, Image Index: 316"
     },
     "execution_count": 1,
     "metadata": {}
    },
    {
     "output_type": "execute_result",
     "data": {
      "text/plain": "Phase: Bottleneck Computation, Dataset used:      Train, Image Index: 317"
     },
     "execution_count": 1,
     "metadata": {}
    },
    {
     "output_type": "execute_result",
     "data": {
      "text/plain": "Phase: Bottleneck Computation, Dataset used:      Train, Image Index: 318"
     },
     "execution_count": 1,
     "metadata": {}
    },
    {
     "output_type": "execute_result",
     "data": {
      "text/plain": "Phase: Bottleneck Computation, Dataset used:      Train, Image Index: 319"
     },
     "execution_count": 1,
     "metadata": {}
    },
    {
     "output_type": "execute_result",
     "data": {
      "text/plain": "Phase: Bottleneck Computation, Dataset used:      Train, Image Index: 320"
     },
     "execution_count": 1,
     "metadata": {}
    },
    {
     "output_type": "execute_result",
     "data": {
      "text/plain": "Phase: Bottleneck Computation, Dataset used:      Train, Image Index: 321"
     },
     "execution_count": 1,
     "metadata": {}
    },
    {
     "output_type": "execute_result",
     "data": {
      "text/plain": "Phase: Bottleneck Computation, Dataset used:      Train, Image Index: 322"
     },
     "execution_count": 1,
     "metadata": {}
    },
    {
     "output_type": "execute_result",
     "data": {
      "text/plain": "Phase: Bottleneck Computation, Dataset used:      Train, Image Index: 323"
     },
     "execution_count": 1,
     "metadata": {}
    },
    {
     "output_type": "execute_result",
     "data": {
      "text/plain": "Phase: Bottleneck Computation, Dataset used:      Train, Image Index: 324"
     },
     "execution_count": 1,
     "metadata": {}
    },
    {
     "output_type": "execute_result",
     "data": {
      "text/plain": "Phase: Bottleneck Computation, Dataset used:      Train, Image Index: 325"
     },
     "execution_count": 1,
     "metadata": {}
    },
    {
     "output_type": "execute_result",
     "data": {
      "text/plain": "Phase: Bottleneck Computation, Dataset used:      Train, Image Index: 326"
     },
     "execution_count": 1,
     "metadata": {}
    },
    {
     "output_type": "execute_result",
     "data": {
      "text/plain": "Phase: Bottleneck Computation, Dataset used:      Train, Image Index: 327"
     },
     "execution_count": 1,
     "metadata": {}
    },
    {
     "output_type": "execute_result",
     "data": {
      "text/plain": "Phase: Bottleneck Computation, Dataset used:      Train, Image Index: 328"
     },
     "execution_count": 1,
     "metadata": {}
    },
    {
     "output_type": "execute_result",
     "data": {
      "text/plain": "Phase: Bottleneck Computation, Dataset used:      Train, Image Index: 329"
     },
     "execution_count": 1,
     "metadata": {}
    },
    {
     "output_type": "execute_result",
     "data": {
      "text/plain": "Phase: Bottleneck Computation, Dataset used:      Train, Image Index: 330"
     },
     "execution_count": 1,
     "metadata": {}
    },
    {
     "output_type": "execute_result",
     "data": {
      "text/plain": "Phase: Bottleneck Computation, Dataset used:      Train, Image Index: 331"
     },
     "execution_count": 1,
     "metadata": {}
    },
    {
     "output_type": "execute_result",
     "data": {
      "text/plain": "Phase: Bottleneck Computation, Dataset used:      Train, Image Index: 332"
     },
     "execution_count": 1,
     "metadata": {}
    },
    {
     "output_type": "execute_result",
     "data": {
      "text/plain": "Phase: Bottleneck Computation, Dataset used:      Train, Image Index: 333"
     },
     "execution_count": 1,
     "metadata": {}
    },
    {
     "output_type": "execute_result",
     "data": {
      "text/plain": "Phase: Bottleneck Computation, Dataset used:      Train, Image Index: 334"
     },
     "execution_count": 1,
     "metadata": {}
    },
    {
     "output_type": "execute_result",
     "data": {
      "text/plain": "Phase: Bottleneck Computation, Dataset used:      Train, Image Index: 335"
     },
     "execution_count": 1,
     "metadata": {}
    },
    {
     "output_type": "execute_result",
     "data": {
      "text/plain": "Phase: Bottleneck Computation, Dataset used:      Train, Image Index: 336"
     },
     "execution_count": 1,
     "metadata": {}
    },
    {
     "output_type": "execute_result",
     "data": {
      "text/plain": "Phase: Bottleneck Computation, Dataset used:      Train, Image Index: 337"
     },
     "execution_count": 1,
     "metadata": {}
    },
    {
     "output_type": "execute_result",
     "data": {
      "text/plain": "Phase: Bottleneck Computation, Dataset used:      Train, Image Index: 338"
     },
     "execution_count": 1,
     "metadata": {}
    },
    {
     "output_type": "execute_result",
     "data": {
      "text/plain": "Phase: Bottleneck Computation, Dataset used:      Train, Image Index: 339"
     },
     "execution_count": 1,
     "metadata": {}
    },
    {
     "output_type": "execute_result",
     "data": {
      "text/plain": "Phase: Bottleneck Computation, Dataset used:      Train, Image Index: 340"
     },
     "execution_count": 1,
     "metadata": {}
    },
    {
     "output_type": "execute_result",
     "data": {
      "text/plain": "Phase: Bottleneck Computation, Dataset used:      Train, Image Index: 341"
     },
     "execution_count": 1,
     "metadata": {}
    },
    {
     "output_type": "execute_result",
     "data": {
      "text/plain": "Phase: Bottleneck Computation, Dataset used:      Train, Image Index: 342"
     },
     "execution_count": 1,
     "metadata": {}
    },
    {
     "output_type": "execute_result",
     "data": {
      "text/plain": "Phase: Bottleneck Computation, Dataset used:      Train, Image Index: 343"
     },
     "execution_count": 1,
     "metadata": {}
    },
    {
     "output_type": "execute_result",
     "data": {
      "text/plain": "Phase: Bottleneck Computation, Dataset used:      Train, Image Index: 344"
     },
     "execution_count": 1,
     "metadata": {}
    },
    {
     "output_type": "execute_result",
     "data": {
      "text/plain": "Phase: Bottleneck Computation, Dataset used:      Train, Image Index: 345"
     },
     "execution_count": 1,
     "metadata": {}
    },
    {
     "output_type": "execute_result",
     "data": {
      "text/plain": "Phase: Bottleneck Computation, Dataset used:      Train, Image Index: 346"
     },
     "execution_count": 1,
     "metadata": {}
    },
    {
     "output_type": "execute_result",
     "data": {
      "text/plain": "Phase: Bottleneck Computation, Dataset used:      Train, Image Index: 347"
     },
     "execution_count": 1,
     "metadata": {}
    },
    {
     "output_type": "execute_result",
     "data": {
      "text/plain": "Phase: Bottleneck Computation, Dataset used:      Train, Image Index: 348"
     },
     "execution_count": 1,
     "metadata": {}
    },
    {
     "output_type": "execute_result",
     "data": {
      "text/plain": "Phase: Bottleneck Computation, Dataset used:      Train, Image Index: 349"
     },
     "execution_count": 1,
     "metadata": {}
    },
    {
     "output_type": "execute_result",
     "data": {
      "text/plain": "Phase: Bottleneck Computation, Dataset used:      Train, Image Index: 350"
     },
     "execution_count": 1,
     "metadata": {}
    },
    {
     "output_type": "execute_result",
     "data": {
      "text/plain": "Phase: Bottleneck Computation, Dataset used:      Train, Image Index: 351"
     },
     "execution_count": 1,
     "metadata": {}
    },
    {
     "output_type": "execute_result",
     "data": {
      "text/plain": "Phase: Bottleneck Computation, Dataset used:      Train, Image Index: 352"
     },
     "execution_count": 1,
     "metadata": {}
    },
    {
     "output_type": "execute_result",
     "data": {
      "text/plain": "Phase: Bottleneck Computation, Dataset used:      Train, Image Index: 353"
     },
     "execution_count": 1,
     "metadata": {}
    },
    {
     "output_type": "execute_result",
     "data": {
      "text/plain": "Phase: Bottleneck Computation, Dataset used:      Train, Image Index: 354"
     },
     "execution_count": 1,
     "metadata": {}
    },
    {
     "output_type": "execute_result",
     "data": {
      "text/plain": "Phase: Bottleneck Computation, Dataset used:      Train, Image Index: 355"
     },
     "execution_count": 1,
     "metadata": {}
    },
    {
     "output_type": "execute_result",
     "data": {
      "text/plain": "Phase: Bottleneck Computation, Dataset used:      Train, Image Index: 356"
     },
     "execution_count": 1,
     "metadata": {}
    },
    {
     "output_type": "execute_result",
     "data": {
      "text/plain": "Phase: Bottleneck Computation, Dataset used:      Train, Image Index: 357"
     },
     "execution_count": 1,
     "metadata": {}
    },
    {
     "output_type": "execute_result",
     "data": {
      "text/plain": "Phase: Bottleneck Computation, Dataset used:      Train, Image Index: 358"
     },
     "execution_count": 1,
     "metadata": {}
    },
    {
     "output_type": "execute_result",
     "data": {
      "text/plain": "Phase: Bottleneck Computation, Dataset used:      Train, Image Index: 359"
     },
     "execution_count": 1,
     "metadata": {}
    },
    {
     "output_type": "execute_result",
     "data": {
      "text/plain": "Phase: Bottleneck Computation, Dataset used:      Train, Image Index: 360"
     },
     "execution_count": 1,
     "metadata": {}
    },
    {
     "output_type": "execute_result",
     "data": {
      "text/plain": "Phase: Bottleneck Computation, Dataset used:      Train, Image Index: 361"
     },
     "execution_count": 1,
     "metadata": {}
    },
    {
     "output_type": "execute_result",
     "data": {
      "text/plain": "Phase: Bottleneck Computation, Dataset used:      Train, Image Index: 362"
     },
     "execution_count": 1,
     "metadata": {}
    },
    {
     "output_type": "execute_result",
     "data": {
      "text/plain": "Phase: Bottleneck Computation, Dataset used:      Train, Image Index: 363"
     },
     "execution_count": 1,
     "metadata": {}
    },
    {
     "output_type": "execute_result",
     "data": {
      "text/plain": "Phase: Bottleneck Computation, Dataset used:      Train, Image Index: 364"
     },
     "execution_count": 1,
     "metadata": {}
    },
    {
     "output_type": "execute_result",
     "data": {
      "text/plain": "Phase: Bottleneck Computation, Dataset used:      Train, Image Index: 365"
     },
     "execution_count": 1,
     "metadata": {}
    },
    {
     "output_type": "execute_result",
     "data": {
      "text/plain": "Phase: Bottleneck Computation, Dataset used:      Train, Image Index: 366"
     },
     "execution_count": 1,
     "metadata": {}
    },
    {
     "output_type": "execute_result",
     "data": {
      "text/plain": "Phase: Bottleneck Computation, Dataset used:      Train, Image Index: 367"
     },
     "execution_count": 1,
     "metadata": {}
    },
    {
     "output_type": "execute_result",
     "data": {
      "text/plain": "Phase: Bottleneck Computation, Dataset used:      Train, Image Index: 368"
     },
     "execution_count": 1,
     "metadata": {}
    },
    {
     "output_type": "execute_result",
     "data": {
      "text/plain": "Phase: Bottleneck Computation, Dataset used:      Train, Image Index: 369"
     },
     "execution_count": 1,
     "metadata": {}
    },
    {
     "output_type": "execute_result",
     "data": {
      "text/plain": "Phase: Bottleneck Computation, Dataset used:      Train, Image Index: 370"
     },
     "execution_count": 1,
     "metadata": {}
    },
    {
     "output_type": "execute_result",
     "data": {
      "text/plain": "Phase: Bottleneck Computation, Dataset used:      Train, Image Index: 371"
     },
     "execution_count": 1,
     "metadata": {}
    },
    {
     "output_type": "execute_result",
     "data": {
      "text/plain": "Phase: Bottleneck Computation, Dataset used:      Train, Image Index: 372"
     },
     "execution_count": 1,
     "metadata": {}
    },
    {
     "output_type": "execute_result",
     "data": {
      "text/plain": "Phase: Bottleneck Computation, Dataset used:      Train, Image Index: 373"
     },
     "execution_count": 1,
     "metadata": {}
    },
    {
     "output_type": "execute_result",
     "data": {
      "text/plain": "Phase: Bottleneck Computation, Dataset used:      Train, Image Index: 374"
     },
     "execution_count": 1,
     "metadata": {}
    },
    {
     "output_type": "execute_result",
     "data": {
      "text/plain": "Phase: Bottleneck Computation, Dataset used:      Train, Image Index: 375"
     },
     "execution_count": 1,
     "metadata": {}
    },
    {
     "output_type": "execute_result",
     "data": {
      "text/plain": "Phase: Bottleneck Computation, Dataset used:      Train, Image Index: 376"
     },
     "execution_count": 1,
     "metadata": {}
    },
    {
     "output_type": "execute_result",
     "data": {
      "text/plain": "Phase: Bottleneck Computation, Dataset used:      Train, Image Index: 377"
     },
     "execution_count": 1,
     "metadata": {}
    },
    {
     "output_type": "execute_result",
     "data": {
      "text/plain": "Phase: Bottleneck Computation, Dataset used:      Train, Image Index: 378"
     },
     "execution_count": 1,
     "metadata": {}
    },
    {
     "output_type": "execute_result",
     "data": {
      "text/plain": "Phase: Bottleneck Computation, Dataset used:      Train, Image Index: 379"
     },
     "execution_count": 1,
     "metadata": {}
    },
    {
     "output_type": "execute_result",
     "data": {
      "text/plain": "Phase: Bottleneck Computation, Dataset used:      Train, Image Index: 380"
     },
     "execution_count": 1,
     "metadata": {}
    },
    {
     "output_type": "execute_result",
     "data": {
      "text/plain": "Phase: Bottleneck Computation, Dataset used:      Train, Image Index: 381"
     },
     "execution_count": 1,
     "metadata": {}
    },
    {
     "output_type": "execute_result",
     "data": {
      "text/plain": "Phase: Bottleneck Computation, Dataset used:      Train, Image Index: 382"
     },
     "execution_count": 1,
     "metadata": {}
    },
    {
     "output_type": "execute_result",
     "data": {
      "text/plain": "Phase: Training, Dataset used: Validation, Batch Processed Count:   8, Epoch:   0, Accuracy: 0,44642857, Cross-Entropy:  1,9367336"
     },
     "execution_count": 1,
     "metadata": {}
    },
    {
     "output_type": "execute_result",
     "data": {
      "text/plain": "Phase: Training, Dataset used: Validation, Batch Processed Count:   8, Epoch:   1, Accuracy: 0,44642857, Cross-Entropy:  2,2515886"
     },
     "execution_count": 1,
     "metadata": {}
    },
    {
     "output_type": "execute_result",
     "data": {
      "text/plain": "Phase: Training, Dataset used: Validation, Batch Processed Count:   8, Epoch:   2, Accuracy: 0,44642857, Cross-Entropy:  2,4441593"
     },
     "execution_count": 1,
     "metadata": {}
    },
    {
     "output_type": "execute_result",
     "data": {
      "text/plain": "Phase: Training, Dataset used: Validation, Batch Processed Count:   8, Epoch:   3, Accuracy: 0,44642857, Cross-Entropy:   2,589658"
     },
     "execution_count": 1,
     "metadata": {}
    },
    {
     "output_type": "execute_result",
     "data": {
      "text/plain": "Phase: Training, Dataset used: Validation, Batch Processed Count:   8, Epoch:   4, Accuracy: 0,44642857, Cross-Entropy:  2,7004504"
     },
     "execution_count": 1,
     "metadata": {}
    },
    {
     "output_type": "execute_result",
     "data": {
      "text/plain": "Phase: Training, Dataset used: Validation, Batch Processed Count:   8, Epoch:   5, Accuracy: 0,44642857, Cross-Entropy:  2,7942796"
     },
     "execution_count": 1,
     "metadata": {}
    },
    {
     "output_type": "execute_result",
     "data": {
      "text/plain": "Phase: Training, Dataset used: Validation, Batch Processed Count:   8, Epoch:   6, Accuracy: 0,44642857, Cross-Entropy:  2,8710535"
     },
     "execution_count": 1,
     "metadata": {}
    },
    {
     "output_type": "execute_result",
     "data": {
      "text/plain": "Phase: Training, Dataset used: Validation, Batch Processed Count:   8, Epoch:   7, Accuracy: 0,44642857, Cross-Entropy:  2,9393785"
     },
     "execution_count": 1,
     "metadata": {}
    },
    {
     "output_type": "execute_result",
     "data": {
      "text/plain": "Phase: Training, Dataset used: Validation, Batch Processed Count:   8, Epoch:   8, Accuracy: 0,44642857, Cross-Entropy:  2,9973798"
     },
     "execution_count": 1,
     "metadata": {}
    },
    {
     "output_type": "execute_result",
     "data": {
      "text/plain": "Phase: Training, Dataset used: Validation, Batch Processed Count:   8, Epoch:   9, Accuracy: 0,44642857, Cross-Entropy:  3,0504663"
     },
     "execution_count": 1,
     "metadata": {}
    },
    {
     "output_type": "execute_result",
     "data": {
      "text/plain": "Phase: Training, Dataset used: Validation, Batch Processed Count:   8, Epoch:  10, Accuracy: 0,44642857, Cross-Entropy:  3,0965533"
     },
     "execution_count": 1,
     "metadata": {}
    },
    {
     "output_type": "execute_result",
     "data": {
      "text/plain": "Phase: Training, Dataset used: Validation, Batch Processed Count:   8, Epoch:  11, Accuracy: 0,44642857, Cross-Entropy:  3,1395035"
     },
     "execution_count": 1,
     "metadata": {}
    },
    {
     "output_type": "execute_result",
     "data": {
      "text/plain": "Phase: Training, Dataset used: Validation, Batch Processed Count:   8, Epoch:  12, Accuracy: 0,44642857, Cross-Entropy:  3,1773562"
     },
     "execution_count": 1,
     "metadata": {}
    },
    {
     "output_type": "execute_result",
     "data": {
      "text/plain": "Phase: Training, Dataset used: Validation, Batch Processed Count:   8, Epoch:  13, Accuracy: 0,44642857, Cross-Entropy:  3,2130785"
     },
     "execution_count": 1,
     "metadata": {}
    },
    {
     "output_type": "execute_result",
     "data": {
      "text/plain": "Phase: Training, Dataset used: Validation, Batch Processed Count:   8, Epoch:  14, Accuracy: 0,44642857, Cross-Entropy:  3,2449026"
     },
     "execution_count": 1,
     "metadata": {}
    },
    {
     "output_type": "execute_result",
     "data": {
      "text/plain": "Phase: Training, Dataset used: Validation, Batch Processed Count:   8, Epoch:  15, Accuracy: 0,44642857, Cross-Entropy:  3,2752144"
     },
     "execution_count": 1,
     "metadata": {}
    },
    {
     "output_type": "execute_result",
     "data": {
      "text/plain": "Phase: Training, Dataset used: Validation, Batch Processed Count:   8, Epoch:  16, Accuracy: 0,44642857, Cross-Entropy:  3,3024383"
     },
     "execution_count": 1,
     "metadata": {}
    },
    {
     "output_type": "execute_result",
     "data": {
      "text/plain": "Phase: Training, Dataset used: Validation, Batch Processed Count:   8, Epoch:  17, Accuracy: 0,44642857, Cross-Entropy:  3,3285515"
     },
     "execution_count": 1,
     "metadata": {}
    },
    {
     "output_type": "execute_result",
     "data": {
      "text/plain": "Phase: Training, Dataset used: Validation, Batch Processed Count:   8, Epoch:  18, Accuracy: 0,44642857, Cross-Entropy:  3,3521533"
     },
     "execution_count": 1,
     "metadata": {}
    },
    {
     "output_type": "execute_result",
     "data": {
      "text/plain": "Phase: Training, Dataset used: Validation, Batch Processed Count:   8, Epoch:  19, Accuracy: 0,44642857, Cross-Entropy:   3,374918"
     },
     "execution_count": 1,
     "metadata": {}
    },
    {
     "output_type": "execute_result",
     "data": {
      "text/plain": "Phase: Training, Dataset used: Validation, Batch Processed Count:   8, Epoch:  20, Accuracy: 0,44642857, Cross-Entropy:  3,3955972"
     },
     "execution_count": 1,
     "metadata": {}
    },
    {
     "output_type": "execute_result",
     "data": {
      "text/plain": "Saver not created because there are no variables in the graph to restore\r\n"
     },
     "execution_count": 1,
     "metadata": {}
    },
    {
     "output_type": "execute_result",
     "data": {
      "text/plain": "Restoring parameters from C:\\Users\\grego\\source\\repos\\IsItKrampus.NET\\workspace\\custom_retrained_model_based_on_inception_v3.meta\r\n"
     },
     "execution_count": 1,
     "metadata": {}
    },
    {
     "output_type": "execute_result",
     "data": {
      "text/plain": "Froze 2 variables.\r\n"
     },
     "execution_count": 1,
     "metadata": {}
    },
    {
     "output_type": "execute_result",
     "data": {
      "text/plain": "Converted 2 variables to const ops.\r\n"
     },
     "execution_count": 1,
     "metadata": {}
    }
   ]
  },
  {
   "cell_type": "code",
   "execution_count": 1,
   "metadata": {},
   "source": [
    "#!fsharp\n",
    "let predictions = trainedModel.Transform testSet"
   ],
   "outputs": []
  },
  {
   "cell_type": "code",
   "execution_count": 1,
   "metadata": {},
   "source": [
    "#!fsharp\n",
    "let metrics = mlContext.MulticlassClassification.Evaluate(predictions, labelColumnName = \"LabelAsKey\")"
   ],
   "outputs": []
  },
  {
   "cell_type": "code",
   "execution_count": 1,
   "metadata": {},
   "source": [
    "#!fsharp\n",
    "display $\"Micro Accuracy: %f{metrics.MicroAccuracy} Macro Accuracy: %f{metrics.MacroAccuracy} Log Loss: %f{metrics.LogLoss}\""
   ],
   "outputs": [
    {
     "output_type": "execute_result",
     "data": {
      "text/plain": "Micro Accuracy: 0.291667 Macro Accuracy: 0.328213 Log Loss: 5.174757"
     },
     "execution_count": 1,
     "metadata": {}
    }
   ]
  },
  {
   "cell_type": "code",
   "execution_count": 1,
   "metadata": {},
   "source": [
    "#!fsharp\n",
    "metrics"
   ],
   "outputs": [
    {
     "output_type": "execute_result",
     "data": {
      "text/html": "<table><thead><tr><th>LogLoss</th><th>LogLossReduction</th><th>MacroAccuracy</th><th>MicroAccuracy</th><th>TopKAccuracy</th><th>TopKPredictionCount</th><th>PerClassLogLoss</th><th>ConfusionMatrix</th></tr></thead><tbody><tr><td><div class=\"dni-plaintext\">5.174757374064586</div></td><td><div class=\"dni-plaintext\">-3.800285714288354</div></td><td><div class=\"dni-plaintext\">0.32821300563236044</div></td><td><div class=\"dni-plaintext\">0.2916666666666667</div></td><td><div class=\"dni-plaintext\">0</div></td><td><div class=\"dni-plaintext\">0</div></td><td><div class=\"dni-plaintext\">[ 6.973060506479251, 7.643735157271919, 0.16871200411213647 ]</div></td><td><div class=\"dni-plaintext\">Microsoft.ML.Data.ConfusionMatrix</div></td></tr></tbody></table>"
     },
     "execution_count": 1,
     "metadata": {}
    }
   ]
  },
  {
   "cell_type": "code",
   "execution_count": 1,
   "metadata": {},
   "source": [
    "#!fsharp\n",
    "let wronglyPredictedOutputs =\n",
    "    mlContext.Data.CreateEnumerable<ModelOutput>(predictions, reuseRowObject = false)\n",
    "    |> Seq.filter (fun output -> output.Label <> output.PredictedLabel)\n",
    "    |> Seq.toList"
   ],
   "outputs": []
  },
  {
   "cell_type": "code",
   "execution_count": 1,
   "metadata": {},
   "source": [
    "#!fsharp\n",
    "display wronglyPredictedOutputs\n",
    "\n",
    "let wronglyPredictedBase64 = Convert.ToBase64String wronglyPredictedOutputs.[1].Image\n",
    "DisplayFunctions.HTML$\"<img src=\\\"data:image/png;base64,{wronglyPredictedBase64}\\\"></img>\""
   ],
   "outputs": [
    {
     "output_type": "execute_result",
     "data": {
      "text/html": "<table><thead><tr><th><i>index</i></th><th>Image</th><th>Label</th><th>PredictedLabel</th></tr></thead><tbody><tr><td>0</td><td><div class=\"dni-plaintext\">[ 255, 216, 255, 224, 0, 16, 74, 70, 73, 70, 0, 1, 1, 1, 0, 96, 0, 96, 0, 0 ... (16181 more) ]</div></td><td><div class=\"dni-plaintext\">Other</div></td><td><div class=\"dni-plaintext\">Santa</div></td></tr><tr><td>1</td><td><div class=\"dni-plaintext\">[ 255, 216, 255, 224, 0, 16, 74, 70, 73, 70, 0, 1, 1, 1, 1, 44, 1, 44, 0, 0 ... (31489 more) ]</div></td><td><div class=\"dni-plaintext\">Krampus</div></td><td><div class=\"dni-plaintext\">Other</div></td></tr></tbody></table>"
     },
     "execution_count": 1,
     "metadata": {}
    },
    {
     "output_type": "execute_result",
     "data": {
      "text/html": "<img src=\"data:image/png;base64,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\"></img>"
     },
     "execution_count": 1,
     "metadata": {}
    }
   ]
  },
  {
   "cell_type": "code",
   "execution_count": 1,
   "metadata": {},
   "source": [
    "#!fsharp\n",
    "open MLOps.NET\n",
    "open MLOps.NET.SQLite\n",
    "open MLOps.NET.Storage\n",
    "open MLOps.NET.Extensions\n",
    "\n",
    "let dbFolder = Path.Combine(projectRoot, \"data\", \"mlops-data\")\n",
    "let modelRepo = Path.Combine(dbFolder, \"model-repo\")\n",
    "let dbFile = Path.Combine(dbFolder, \"localmlops.db\")\n",
    "\n",
    "[<Literal>]\n",
    "let experimentName = \"IsItKrampus.NET\"\n",
    "\n",
    "let mlOps =\n",
    "    MLOpsBuilder()\n",
    "        .UseSQLite(dbFile)\n",
    "        .UseLocalFileModelRepository(modelRepo)\n",
    "        .Build()"
   ],
   "outputs": []
  },
  {
   "cell_type": "code",
   "execution_count": 1,
   "metadata": {},
   "source": [
    "#!fsharp\n",
    "open System.Threading.Tasks\n",
    "\n",
    "let doSync (task: Task<'a>) =\n",
    "    task\n",
    "    |> Async.AwaitTask\n",
    "    |> Async.RunSynchronously\n",
    "\n",
    "let doSyncUnit (task: Task) =\n",
    "    task\n",
    "    |> Async.AwaitTask\n",
    "    |> Async.RunSynchronously"
   ],
   "outputs": []
  },
  {
   "cell_type": "code",
   "execution_count": 1,
   "metadata": {},
   "source": [
    "#!fsharp\n",
    "let run =\n",
    "    mlOps.LifeCycle.CreateRunAsync(experimentName)\n",
    "    |> doSync"
   ],
   "outputs": []
  },
  {
   "cell_type": "code",
   "execution_count": 1,
   "metadata": {},
   "source": [
    "#!fsharp\n",
    "let modelDir = Path.Combine(projectRoot, \"models\")\n",
    "let modelPath = Path.Combine(modelDir, \"model.zip\")\n",
    "mlContext.Model.Save(trainedModel, preProcessedData.Schema, modelPath)"
   ],
   "outputs": []
  },
  {
   "cell_type": "code",
   "execution_count": 1,
   "metadata": {},
   "source": [
    "#!fsharp\n",
    "mlOps.Data.LogDataAsync(run.RunId, imageData)\n",
    "|> doSyncUnit\n",
    "\n",
    "mlOps.Training.LogHyperParametersAsync(run.RunId, trainedModel)\n",
    "|> doSyncUnit\n",
    "\n",
    "mlOps.Evaluation.LogConfusionMatrixAsync(run.RunId, metrics.ConfusionMatrix)\n",
    "|> doSyncUnit\n",
    "\n",
    "mlOps.Evaluation.LogMetricsAsync(run.RunId, metrics)\n",
    "|> doSyncUnit"
   ],
   "outputs": []
  },
  {
   "cell_type": "code",
   "execution_count": 1,
   "metadata": {},
   "source": [
    "#!fsharp\n",
    "let runArtifact =\n",
    "    mlOps.Model.UploadAsync(run.RunId, Path.Combine(modelPath))\n",
    "    |> doSync\n",
    "\n",
    "let registeredModel =\n",
    "    mlOps.Model.RegisterModel(run.ExperimentId, runArtifact.RunArtifactId, \"@GBeyerle\")\n",
    "    |> doSync"
   ],
   "outputs": []
  },
  {
   "cell_type": "code",
   "execution_count": 1,
   "metadata": {},
   "source": [
    "#!fsharp\n",
    "let mutable predictionPipelineSchema : DataViewSchema = null\n",
    "let loadedModel = mlContext.Model.Load(modelPath, &predictionPipelineSchema)"
   ],
   "outputs": []
  },
  {
   "cell_type": "code",
   "execution_count": 1,
   "metadata": {},
   "source": [
    "#!fsharp\n",
    "let predictionEngine = mlContext.Model.CreatePredictionEngine<ModelInput, ModelOutput>(loadedModel)"
   ],
   "outputs": []
  },
  {
   "cell_type": "code",
   "execution_count": 1,
   "metadata": {},
   "source": [
    "#!fsharp\n",
    "let getRandom (a: 'a array) =\n",
    "    let rnd = System.Random()\n",
    "    let idx = rnd.Next(0, Array.length a - 1)\n",
    "    a.[idx]\n",
    "\n",
    "let image =\n",
    "    loadImagesFromPreparedDir()\n",
    "    |> getRandom\n",
    "    |> fun i -> Path.Combine(prepDir, i.ImagePath)\n",
    "    |> File.ReadAllBytes\n",
    "\n",
    "let base64 = Convert.ToBase64String image\n",
    "\n",
    "DisplayFunctions.HTML $\"<img src=\\\"data:image/png;base64,{base64}\\\"></img>\""
   ],
   "outputs": [
    {
     "output_type": "execute_result",
     "data": {
      "text/html": "<img src=\"data:image/png;base64,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\"></img>"
     },
     "execution_count": 1,
     "metadata": {}
    }
   ]
  },
  {
   "cell_type": "code",
   "execution_count": 1,
   "metadata": {},
   "source": [
    "#!fsharp\n",
    "let input : ModelInput =\n",
    "    { Image = image\n",
    "      Label = null }\n",
    "\n",
    "let output = predictionEngine.Predict input\n",
    "\n",
    "output"
   ],
   "outputs": [
    {
     "output_type": "execute_result",
     "data": {
      "text/html": "<table><thead><tr><th>Image</th><th>Label</th><th>PredictedLabel</th></tr></thead><tbody><tr><td><div class=\"dni-plaintext\">[ 255, 216, 255, 224, 0, 16, 74, 70, 73, 70, 0, 1, 1, 0, 0, 1, 0, 1, 0, 0 ... (26650 more) ]</div></td><td></td><td><div class=\"dni-plaintext\">Other</div></td></tr></tbody></table>"
     },
     "execution_count": 1,
     "metadata": {}
    }
   ]
  }
 ],
 "metadata": {
  "kernelspec": {
   "display_name": ".NET (C#)",
   "language": "C#",
   "name": ".net-csharp"
  },
  "language_info": {
   "file_extension": ".cs",
   "mimetype": "text/x-csharp",
   "name": "C#",
   "pygments_lexer": "csharp",
   "version": "8.0"
  }
 },
 "nbformat": 4,
 "nbformat_minor": 4
}