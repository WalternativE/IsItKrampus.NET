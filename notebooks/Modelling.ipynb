{
 "cells": [
  {
   "cell_type": "code",
   "execution_count": 1,
   "metadata": {},
   "source": [
    "#!fsharp\n",
    "#r \"nuget: Microsoft.ML.ImageAnalytics, 1.5.2\"\n",
    "#r \"nuget: Microsoft.ML.Vision, 1.5.2\"\n",
    "#r \"nuget: SciSharp.TensorFlow.Redist, 2.3.1\"\n",
    "#r \"nuget: SixLabors.ImageSharp, 1.0.2\""
   ],
   "outputs": [
    {
     "output_type": "execute_result",
     "data": {
      "text/plain": "Installed package SixLabors.ImageSharp version 1.0.2"
     },
     "execution_count": 1,
     "metadata": {}
    },
    {
     "output_type": "execute_result",
     "data": {
      "text/plain": "Installed package Microsoft.ML.ImageAnalytics version 1.5.2"
     },
     "execution_count": 1,
     "metadata": {}
    },
    {
     "output_type": "execute_result",
     "data": {
      "text/plain": "Installed package Microsoft.ML.Vision version 1.5.2"
     },
     "execution_count": 1,
     "metadata": {}
    },
    {
     "output_type": "execute_result",
     "data": {
      "text/plain": "Installed package SciSharp.TensorFlow.Redist version 2.3.1"
     },
     "execution_count": 1,
     "metadata": {}
    }
   ]
  },
  {
   "cell_type": "code",
   "execution_count": 1,
   "metadata": {},
   "source": [
    "#!fsharp\n",
    "open System\n",
    "open System.IO\n",
    "open Microsoft.ML\n",
    "open Microsoft.ML.Vision\n",
    "open Microsoft.ML.Transforms\n",
    "open Microsoft.ML.Data\n",
    "open SixLabors.ImageSharp\n",
    "open SixLabors.ImageSharp.Processing"
   ],
   "outputs": []
  },
  {
   "cell_type": "code",
   "execution_count": 1,
   "metadata": {},
   "source": [
    "#!fsharp\n",
    "type ImageData =\n",
    "    { ImagePath: string\n",
    "      Label: string }\n",
    "\n",
    "[<CLIMutable>]\n",
    "type ModelInput =\n",
    "    { Image: byte[]\n",
    "      Label: string }\n",
    "\n",
    "[<CLIMutable>]\n",
    "type ModelOutput =\n",
    "    { PredictedLabel: string }"
   ],
   "outputs": []
  },
  {
   "cell_type": "code",
   "execution_count": 1,
   "metadata": {},
   "source": [
    "#!fsharp\n",
    "[<Literal>]\n",
    "let projectRoot = @\"C:\\Users\\grego\\source\\repos\\IsItKrampus.NET\"\n",
    "\n",
    "let dataDir = Path.Combine(projectRoot, \"data\")\n",
    "let prepDir = Path.Combine(dataDir, \"prepared\")\n",
    "let workspaceDir = Path.Combine(projectRoot, \"workspace\")"
   ],
   "outputs": []
  },
  {
   "cell_type": "code",
   "execution_count": 1,
   "metadata": {},
   "source": [
    "#!fsharp\n",
    "let mlContext = MLContext(1)"
   ],
   "outputs": []
  },
  {
   "cell_type": "code",
   "execution_count": 1,
   "metadata": {},
   "source": [
    "#!fsharp\n",
    "let loadImagesFromPreparedDir () =\n",
    "    File.ReadAllLines (Path.Combine(dataDir, \"image_prep.csv\"))\n",
    "    |> Array.skip 1\n",
    "    |> Array.map (fun line ->\n",
    "        let parts = line.Split(',')\n",
    "        (parts.[0], parts.[1], bool.Parse parts.[6]))\n",
    "    |> Array.filter (fun (_, _, isIncluded) -> isIncluded)\n",
    "    |> Array.map (fun (fileName, label, _) ->\n",
    "        { ImagePath = fileName\n",
    "          Label = label })"
   ],
   "outputs": []
  },
  {
   "cell_type": "code",
   "execution_count": 1,
   "metadata": {},
   "source": [
    "#!fsharp\n",
    "let imageData = mlContext.Data.LoadFromEnumerable(loadImagesFromPreparedDir())\n",
    "let shuffledData = mlContext.Data.ShuffleRows(imageData)"
   ],
   "outputs": []
  },
  {
   "cell_type": "code",
   "execution_count": 1,
   "metadata": {},
   "source": [
    "#!fsharp\n",
    "let preprocessingPipeline =\n",
    "    EstimatorChain()\n",
    "        .Append(mlContext.Transforms\n",
    "            .LoadRawImageBytes(outputColumnName = \"Image\",\n",
    "                               imageFolder = prepDir,\n",
    "                               inputColumnName = \"ImagePath\"))"
   ],
   "outputs": []
  },
  {
   "cell_type": "code",
   "execution_count": 1,
   "metadata": {},
   "source": [
    "#!fsharp\n",
    "let preProcessedData =\n",
    "    preprocessingPipeline.Fit(shuffledData)\n",
    "        .Transform(shuffledData)"
   ],
   "outputs": []
  },
  {
   "cell_type": "code",
   "execution_count": 1,
   "metadata": {},
   "source": [
    "#!fsharp\n",
    "let trainSplit = mlContext.Data.TrainTestSplit(data = preProcessedData, testFraction = 0.3)\n",
    "let validationTestSplit = mlContext.Data.TrainTestSplit(trainSplit.TestSet)\n",
    "\n",
    "let trainSet = trainSplit.TrainSet;\n",
    "let validationSet = validationTestSplit.TrainSet\n",
    "let testSet = validationTestSplit.TestSet"
   ],
   "outputs": []
  },
  {
   "cell_type": "code",
   "execution_count": 1,
   "metadata": {},
   "source": [
    "#!fsharp\n",
    "let imageClassifierOptions =\n",
    "    ImageClassificationTrainer.Options(FeatureColumnName = \"Image\",\n",
    "                                       LabelColumnName = \"LabelAsKey\",\n",
    "                                       ValidationSet = validationSet,\n",
    "                                       Arch = ImageClassificationTrainer.Architecture.InceptionV3,\n",
    "                                       TestOnTrainSet = false,\n",
    "                                       ReuseTrainSetBottleneckCachedValues = true,\n",
    "                                       ReuseValidationSetBottleneckCachedValues = true,\n",
    "                                       MetricsCallback = (fun metrics -> display $\"%A{metrics}\" |> ignore),\n",
    "                                       WorkspacePath = workspaceDir)"
   ],
   "outputs": []
  },
  {
   "cell_type": "code",
   "execution_count": 1,
   "metadata": {},
   "source": [
    "#!fsharp\n",
    "let trainingPipeline =\n",
    "    EstimatorChain()\n",
    "        .Append(mlContext.Transforms.Conversion.MapValueToKey(inputColumnName = \"Label\",\n",
    "                                                              outputColumnName = \"LabelAsKey\"))\n",
    "        .Append(mlContext.MulticlassClassification.Trainers.ImageClassification(imageClassifierOptions))\n",
    "        .Append(mlContext.Transforms.Conversion.MapKeyToValue(\"PredictedLabel\", \"PredictedLabel\"))"
   ],
   "outputs": []
  },
  {
   "cell_type": "code",
   "execution_count": 1,
   "metadata": {},
   "source": [
    "#!fsharp\n",
    "let trainedModel = trainingPipeline.Fit trainSet"
   ],
   "outputs": [
    {
     "output_type": "execute_result",
     "data": {
      "text/plain": "Saver not created because there are no variables in the graph to restore\r\n"
     },
     "execution_count": 1,
     "metadata": {}
    },
    {
     "output_type": "execute_result",
     "data": {
      "text/plain": "Phase: Training, Dataset used: Validation, Batch Processed Count:   4, Epoch:   0, Accuracy:      0,975, Cross-Entropy: 0,19896469"
     },
     "execution_count": 1,
     "metadata": {}
    },
    {
     "output_type": "execute_result",
     "data": {
      "text/plain": "Phase: Training, Dataset used: Validation, Batch Processed Count:   4, Epoch:   1, Accuracy:      0,975, Cross-Entropy:  0,1409826"
     },
     "execution_count": 1,
     "metadata": {}
    },
    {
     "output_type": "execute_result",
     "data": {
      "text/plain": "Phase: Training, Dataset used: Validation, Batch Processed Count:   4, Epoch:   2, Accuracy:      0,975, Cross-Entropy: 0,12082022"
     },
     "execution_count": 1,
     "metadata": {}
    },
    {
     "output_type": "execute_result",
     "data": {
      "text/plain": "Phase: Training, Dataset used: Validation, Batch Processed Count:   4, Epoch:   3, Accuracy:      0,975, Cross-Entropy: 0,108920194"
     },
     "execution_count": 1,
     "metadata": {}
    },
    {
     "output_type": "execute_result",
     "data": {
      "text/plain": "Phase: Training, Dataset used: Validation, Batch Processed Count:   4, Epoch:   4, Accuracy:      0,975, Cross-Entropy: 0,10130601"
     },
     "execution_count": 1,
     "metadata": {}
    },
    {
     "output_type": "execute_result",
     "data": {
      "text/plain": "Phase: Training, Dataset used: Validation, Batch Processed Count:   4, Epoch:   5, Accuracy:      0,975, Cross-Entropy: 0,095598795"
     },
     "execution_count": 1,
     "metadata": {}
    },
    {
     "output_type": "execute_result",
     "data": {
      "text/plain": "Phase: Training, Dataset used: Validation, Batch Processed Count:   4, Epoch:   6, Accuracy:      0,975, Cross-Entropy: 0,091386385"
     },
     "execution_count": 1,
     "metadata": {}
    },
    {
     "output_type": "execute_result",
     "data": {
      "text/plain": "Phase: Training, Dataset used: Validation, Batch Processed Count:   4, Epoch:   7, Accuracy:      0,975, Cross-Entropy: 0,08791892"
     },
     "execution_count": 1,
     "metadata": {}
    },
    {
     "output_type": "execute_result",
     "data": {
      "text/plain": "Phase: Training, Dataset used: Validation, Batch Processed Count:   4, Epoch:   8, Accuracy:      0,975, Cross-Entropy: 0,08517941"
     },
     "execution_count": 1,
     "metadata": {}
    },
    {
     "output_type": "execute_result",
     "data": {
      "text/plain": "Phase: Training, Dataset used: Validation, Batch Processed Count:   4, Epoch:   9, Accuracy:      0,975, Cross-Entropy: 0,08280762"
     },
     "execution_count": 1,
     "metadata": {}
    },
    {
     "output_type": "execute_result",
     "data": {
      "text/plain": "Phase: Training, Dataset used: Validation, Batch Processed Count:   4, Epoch:  10, Accuracy:      0,975, Cross-Entropy: 0,080857515"
     },
     "execution_count": 1,
     "metadata": {}
    },
    {
     "output_type": "execute_result",
     "data": {
      "text/plain": "Phase: Training, Dataset used: Validation, Batch Processed Count:   4, Epoch:  11, Accuracy:      0,975, Cross-Entropy: 0,07911514"
     },
     "execution_count": 1,
     "metadata": {}
    },
    {
     "output_type": "execute_result",
     "data": {
      "text/plain": "Phase: Training, Dataset used: Validation, Batch Processed Count:   4, Epoch:  12, Accuracy:      0,975, Cross-Entropy: 0,07764451"
     },
     "execution_count": 1,
     "metadata": {}
    },
    {
     "output_type": "execute_result",
     "data": {
      "text/plain": "Phase: Training, Dataset used: Validation, Batch Processed Count:   4, Epoch:  13, Accuracy:      0,975, Cross-Entropy: 0,07630203"
     },
     "execution_count": 1,
     "metadata": {}
    },
    {
     "output_type": "execute_result",
     "data": {
      "text/plain": "Phase: Training, Dataset used: Validation, Batch Processed Count:   4, Epoch:  14, Accuracy:      0,975, Cross-Entropy:  0,0751478"
     },
     "execution_count": 1,
     "metadata": {}
    },
    {
     "output_type": "execute_result",
     "data": {
      "text/plain": "Phase: Training, Dataset used: Validation, Batch Processed Count:   4, Epoch:  15, Accuracy:      0,975, Cross-Entropy: 0,074077636"
     },
     "execution_count": 1,
     "metadata": {}
    },
    {
     "output_type": "execute_result",
     "data": {
      "text/plain": "Phase: Training, Dataset used: Validation, Batch Processed Count:   4, Epoch:  16, Accuracy:      0,975, Cross-Entropy: 0,07314487"
     },
     "execution_count": 1,
     "metadata": {}
    },
    {
     "output_type": "execute_result",
     "data": {
      "text/plain": "Phase: Training, Dataset used: Validation, Batch Processed Count:   4, Epoch:  17, Accuracy:      0,975, Cross-Entropy: 0,07226981"
     },
     "execution_count": 1,
     "metadata": {}
    },
    {
     "output_type": "execute_result",
     "data": {
      "text/plain": "Phase: Training, Dataset used: Validation, Batch Processed Count:   4, Epoch:  18, Accuracy:      0,975, Cross-Entropy: 0,07149904"
     },
     "execution_count": 1,
     "metadata": {}
    },
    {
     "output_type": "execute_result",
     "data": {
      "text/plain": "Phase: Training, Dataset used: Validation, Batch Processed Count:   4, Epoch:  19, Accuracy:      0,975, Cross-Entropy: 0,07076931"
     },
     "execution_count": 1,
     "metadata": {}
    },
    {
     "output_type": "execute_result",
     "data": {
      "text/plain": "Phase: Training, Dataset used: Validation, Batch Processed Count:   4, Epoch:  20, Accuracy:      0,975, Cross-Entropy: 0,07012116"
     },
     "execution_count": 1,
     "metadata": {}
    },
    {
     "output_type": "execute_result",
     "data": {
      "text/plain": "Saver not created because there are no variables in the graph to restore\r\n"
     },
     "execution_count": 1,
     "metadata": {}
    },
    {
     "output_type": "execute_result",
     "data": {
      "text/plain": "Restoring parameters from C:\\Users\\grego\\source\\repos\\IsItKrampus.NET\\workspace\\custom_retrained_model_based_on_inception_v3.meta\r\n"
     },
     "execution_count": 1,
     "metadata": {}
    },
    {
     "output_type": "execute_result",
     "data": {
      "text/plain": "Froze 2 variables.\r\n"
     },
     "execution_count": 1,
     "metadata": {}
    },
    {
     "output_type": "execute_result",
     "data": {
      "text/plain": "Converted 2 variables to const ops.\r\n"
     },
     "execution_count": 1,
     "metadata": {}
    }
   ]
  },
  {
   "cell_type": "code",
   "execution_count": 1,
   "metadata": {},
   "source": [
    "#!fsharp\n",
    "let predictions = trainedModel.Transform testSet"
   ],
   "outputs": []
  },
  {
   "cell_type": "code",
   "execution_count": 1,
   "metadata": {},
   "source": [
    "#!fsharp\n",
    "let metrics = mlContext.MulticlassClassification.Evaluate(predictions, labelColumnName = \"LabelAsKey\")"
   ],
   "outputs": []
  },
  {
   "cell_type": "code",
   "execution_count": 1,
   "metadata": {},
   "source": [
    "#!fsharp\n",
    "display $\"Macro Accuracy: %f{metrics.MacroAccuracy} Log Loss: %f{metrics.LogLoss}\""
   ],
   "outputs": [
    {
     "output_type": "execute_result",
     "data": {
      "text/plain": "Macro Accuracy: 1.000000 Log Loss: 0.015156"
     },
     "execution_count": 1,
     "metadata": {}
    }
   ]
  },
  {
   "cell_type": "code",
   "execution_count": 1,
   "metadata": {},
   "source": [
    "#!fsharp\n",
    "metrics"
   ],
   "outputs": [
    {
     "output_type": "execute_result",
     "data": {
      "text/html": "<table><thead><tr><th>LogLoss</th><th>LogLossReduction</th><th>MacroAccuracy</th><th>MicroAccuracy</th><th>TopKAccuracy</th><th>TopKPredictionCount</th><th>PerClassLogLoss</th><th>ConfusionMatrix</th></tr></thead><tbody><tr><td><div class=\"dni-plaintext\">0.015156306931909908</div></td><td><div class=\"dni-plaintext\">0.9854227141007618</div></td><td><div class=\"dni-plaintext\">1</div></td><td><div class=\"dni-plaintext\">1</div></td><td><div class=\"dni-plaintext\">0</div></td><td><div class=\"dni-plaintext\">0</div></td><td><div class=\"dni-plaintext\">[ 0.029577204693467495, 0.0006360049540991499, 0.0008348133866054923 ]</div></td><td><div class=\"dni-plaintext\">Microsoft.ML.Data.ConfusionMatrix</div></td></tr></tbody></table>"
     },
     "execution_count": 1,
     "metadata": {}
    }
   ]
  },
  {
   "cell_type": "code",
   "execution_count": 1,
   "metadata": {},
   "source": [
    "#!fsharp\n",
    "let modelDir = @\"C:\\Users\\grego\\source\\repos\\IsItKrampus.NET\\models\"\n",
    "let modelPath = Path.Combine(modelDir, \"model.zip\")\n",
    "mlContext.Model.Save(trainedModel, preProcessedData.Schema, modelPath)"
   ],
   "outputs": []
  },
  {
   "cell_type": "code",
   "execution_count": 1,
   "metadata": {},
   "source": [
    "#!fsharp\n",
    "let mutable predictionPipelineSchema : DataViewSchema = null\n",
    "let loadedModel = mlContext.Model.Load(modelPath, &predictionPipelineSchema)"
   ],
   "outputs": []
  },
  {
   "cell_type": "code",
   "execution_count": 1,
   "metadata": {},
   "source": [
    "#!fsharp\n",
    "let predictionEngine = mlContext.Model.CreatePredictionEngine<ModelInput, ModelOutput>(loadedModel)"
   ],
   "outputs": []
  },
  {
   "cell_type": "code",
   "execution_count": 1,
   "metadata": {},
   "source": [
    "#!fsharp\n",
    "let image =\n",
    "    @\"C:\\Users\\grego\\source\\repos\\IsItKrampus.NET\\data\\prepared\\d5efde7e-7eb6-4564-a385-80533e5363d5.jpg\"\n",
    "    |> File.ReadAllBytes\n",
    "\n",
    "let base64 = Convert.ToBase64String image\n",
    "\n",
    "DisplayFunctions.HTML $\"<img src=\\\"data:image/png;base64,{base64}\\\"></img>\""
   ],
   "outputs": [
    {
     "output_type": "execute_result",
     "data": {
      "text/html": "<img src=\"data:image/png;base64,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\"></img>"
     },
     "execution_count": 1,
     "metadata": {}
    }
   ]
  },
  {
   "cell_type": "code",
   "execution_count": 1,
   "metadata": {},
   "source": [
    "#!fsharp\n",
    "let input : ModelInput =\n",
    "    { Image = image\n",
    "      Label = null }\n",
    "\n",
    "let output = predictionEngine.Predict input\n",
    "\n",
    "output"
   ],
   "outputs": [
    {
     "output_type": "execute_result",
     "data": {
      "text/html": "<table><thead><tr><th>PredictedLabel</th></tr></thead><tbody><tr><td><div class=\"dni-plaintext\">Other</div></td></tr></tbody></table>"
     },
     "execution_count": 1,
     "metadata": {}
    }
   ]
  }
 ],
 "metadata": {
  "kernelspec": {
   "display_name": ".NET (C#)",
   "language": "C#",
   "name": ".net-csharp"
  },
  "language_info": {
   "file_extension": ".cs",
   "mimetype": "text/x-csharp",
   "name": "C#",
   "pygments_lexer": "csharp",
   "version": "8.0"
  }
 },
 "nbformat": 4,
 "nbformat_minor": 4
}