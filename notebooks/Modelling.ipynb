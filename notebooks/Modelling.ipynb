{
 "cells": [
  {
   "cell_type": "code",
   "execution_count": 1,
   "metadata": {},
   "source": [
    "#!fsharp\n",
    "#r \"nuget: Microsoft.ML.ImageAnalytics, 1.5.2\"\n",
    "#r \"nuget: Microsoft.ML.Vision, 1.5.2\"\n",
    "#r \"nuget: SciSharp.TensorFlow.Redist, 2.3.1\"\n",
    "#r \"nuget: SixLabors.ImageSharp, 1.0.2\"\n",
    "#r \"nuget: MLOps.NET, 1.3.0\"\n",
    "#r \"nuget: MLOps.NET.SQLite, 1.3.0\""
   ],
   "outputs": [
    {
     "output_type": "execute_result",
     "data": {
      "text/plain": "Installed package SciSharp.TensorFlow.Redist version 2.3.1"
     },
     "execution_count": 1,
     "metadata": {}
    },
    {
     "output_type": "execute_result",
     "data": {
      "text/plain": "Installed package MLOps.NET version 1.3.0"
     },
     "execution_count": 1,
     "metadata": {}
    },
    {
     "output_type": "execute_result",
     "data": {
      "text/plain": "Installed package SixLabors.ImageSharp version 1.0.2"
     },
     "execution_count": 1,
     "metadata": {}
    },
    {
     "output_type": "execute_result",
     "data": {
      "text/plain": "Installed package MLOps.NET.SQLite version 1.3.0"
     },
     "execution_count": 1,
     "metadata": {}
    },
    {
     "output_type": "execute_result",
     "data": {
      "text/plain": "Installed package Microsoft.ML.Vision version 1.5.2"
     },
     "execution_count": 1,
     "metadata": {}
    },
    {
     "output_type": "execute_result",
     "data": {
      "text/plain": "Installed package Microsoft.ML.ImageAnalytics version 1.5.2"
     },
     "execution_count": 1,
     "metadata": {}
    }
   ]
  },
  {
   "cell_type": "code",
   "execution_count": 1,
   "metadata": {},
   "source": [
    "#!fsharp\n",
    "open System\n",
    "open System.IO\n",
    "open Microsoft.ML\n",
    "open Microsoft.ML.Vision\n",
    "open Microsoft.ML.Transforms\n",
    "open Microsoft.ML.Data\n",
    "open SixLabors.ImageSharp\n",
    "open SixLabors.ImageSharp.Processing\n",
    "open Microsoft.DotNet.Interactive.FSharp.FSharpKernelHelpers"
   ],
   "outputs": []
  },
  {
   "cell_type": "code",
   "execution_count": 1,
   "metadata": {},
   "source": [
    "#!fsharp\n",
    "type ImageData =\n",
    "    { ImagePath: string\n",
    "      Label: string }\n",
    "\n",
    "[<CLIMutable>]\n",
    "type ModelInput =\n",
    "    { Image: byte[]\n",
    "      Label: string }\n",
    "\n",
    "[<CLIMutable>]\n",
    "type ModelOutput =\n",
    "    { Image: byte[]\n",
    "      Label: string\n",
    "      PredictedLabel: string }"
   ],
   "outputs": []
  },
  {
   "cell_type": "code",
   "execution_count": 1,
   "metadata": {},
   "source": [
    "#!fsharp\n",
    "[<Literal>]\n",
    "let projectRoot = @\"C:\\Users\\grego\\source\\repos\\IsItKrampus.NET\"\n",
    "\n",
    "let dataDir = Path.Combine(projectRoot, \"data\")\n",
    "let prepDir = Path.Combine(dataDir, \"prepared\")\n",
    "let workspaceDir = Path.Combine(projectRoot, \"workspace\")"
   ],
   "outputs": []
  },
  {
   "cell_type": "code",
   "execution_count": 1,
   "metadata": {},
   "source": [
    "#!fsharp\n",
    "let mlContext = MLContext(1)"
   ],
   "outputs": []
  },
  {
   "cell_type": "code",
   "execution_count": 1,
   "metadata": {},
   "source": [
    "#!fsharp\n",
    "let loadImagesFromPreparedDir () =\n",
    "    File.ReadAllLines (Path.Combine(dataDir, \"image_prep.csv\"))\n",
    "    |> Array.skip 1\n",
    "    |> Array.map (fun line ->\n",
    "        let parts = line.Split(',')\n",
    "        (parts.[0], parts.[1], bool.Parse parts.[6]))\n",
    "    |> Array.filter (fun (_, _, isIncluded) -> isIncluded)\n",
    "    |> Array.map (fun (fileName, label, _) ->\n",
    "        { ImagePath = fileName\n",
    "          Label = label })"
   ],
   "outputs": []
  },
  {
   "cell_type": "code",
   "execution_count": 1,
   "metadata": {},
   "source": [
    "#!fsharp\n",
    "let imageData = mlContext.Data.LoadFromEnumerable(loadImagesFromPreparedDir())\n",
    "let shuffledData = mlContext.Data.ShuffleRows(imageData)"
   ],
   "outputs": []
  },
  {
   "cell_type": "code",
   "execution_count": 1,
   "metadata": {},
   "source": [
    "#!fsharp\n",
    "let preprocessingPipeline =\n",
    "    EstimatorChain()\n",
    "        .Append(mlContext.Transforms.Conversion.MapValueToKey(inputColumnName = \"Label\",\n",
    "                                                              outputColumnName = \"LabelAsKey\"))\n",
    "        .Append(mlContext.Transforms\n",
    "            .LoadRawImageBytes(outputColumnName = \"Image\",\n",
    "                               imageFolder = prepDir,\n",
    "                               inputColumnName = \"ImagePath\"))"
   ],
   "outputs": []
  },
  {
   "cell_type": "code",
   "execution_count": 1,
   "metadata": {},
   "source": [
    "#!fsharp\n",
    "let preProcessedData =\n",
    "    preprocessingPipeline.Fit(shuffledData)\n",
    "        .Transform(shuffledData)"
   ],
   "outputs": []
  },
  {
   "cell_type": "code",
   "execution_count": 1,
   "metadata": {},
   "source": [
    "#!fsharp\n",
    "let trainSplit = mlContext.Data.TrainTestSplit(data = preProcessedData, testFraction = 0.3)\n",
    "// I need a bigger test fraction because my dataset is relatively small\n",
    "let validationTestSplit = mlContext.Data.TrainTestSplit(trainSplit.TestSet, testFraction = 0.5)\n",
    "\n",
    "let trainSet = trainSplit.TrainSet;\n",
    "let validationSet = validationTestSplit.TrainSet\n",
    "let testSet = validationTestSplit.TestSet"
   ],
   "outputs": []
  },
  {
   "cell_type": "code",
   "execution_count": 1,
   "metadata": {},
   "source": [
    "#!fsharp\n",
    "let imageClassifierOptions =\n",
    "    ImageClassificationTrainer.Options(FeatureColumnName = \"Image\",\n",
    "                                       LabelColumnName = \"LabelAsKey\",\n",
    "                                       ValidationSet = validationSet,\n",
    "                                       Arch = ImageClassificationTrainer.Architecture.InceptionV3,\n",
    "                                       TestOnTrainSet = false,\n",
    "                                       ReuseTrainSetBottleneckCachedValues = false,\n",
    "                                       ReuseValidationSetBottleneckCachedValues = false,\n",
    "                                       Epoch = 400,\n",
    "                                       MetricsCallback = (fun metrics -> display $\"%A{metrics}\" |> ignore),\n",
    "                                       WorkspacePath = workspaceDir)"
   ],
   "outputs": []
  },
  {
   "cell_type": "code",
   "execution_count": 1,
   "metadata": {},
   "source": [
    "#!fsharp\n",
    "let trainingPipeline =\n",
    "    EstimatorChain()\n",
    "        .Append(mlContext.MulticlassClassification.Trainers.ImageClassification(imageClassifierOptions))\n",
    "        .Append(mlContext.Transforms.Conversion.MapKeyToValue(\"PredictedLabel\", \"PredictedLabel\"))"
   ],
   "outputs": []
  },
  {
   "cell_type": "code",
   "execution_count": 1,
   "metadata": {},
   "source": [
    "#!fsharp\n",
    "let trainedModel = trainingPipeline.Fit trainSet"
   ],
   "outputs": [
    {
     "output_type": "execute_result",
     "data": {
      "text/plain": "Saver not created because there are no variables in the graph to restore\r\n"
     },
     "execution_count": 1,
     "metadata": {}
    },
    {
     "output_type": "execute_result",
     "data": {
      "text/plain": "Phase: Bottleneck Computation, Dataset used: Validation, Image Index:   1"
     },
     "execution_count": 1,
     "metadata": {}
    },
    {
     "output_type": "execute_result",
     "data": {
      "text/plain": "Phase: Bottleneck Computation, Dataset used: Validation, Image Index:   2"
     },
     "execution_count": 1,
     "metadata": {}
    },
    {
     "output_type": "execute_result",
     "data": {
      "text/plain": "Phase: Bottleneck Computation, Dataset used: Validation, Image Index:   3"
     },
     "execution_count": 1,
     "metadata": {}
    },
    {
     "output_type": "execute_result",
     "data": {
      "text/plain": "Phase: Bottleneck Computation, Dataset used: Validation, Image Index:   4"
     },
     "execution_count": 1,
     "metadata": {}
    },
    {
     "output_type": "execute_result",
     "data": {
      "text/plain": "Phase: Bottleneck Computation, Dataset used: Validation, Image Index:   5"
     },
     "execution_count": 1,
     "metadata": {}
    },
    {
     "output_type": "execute_result",
     "data": {
      "text/plain": "Phase: Bottleneck Computation, Dataset used: Validation, Image Index:   6"
     },
     "execution_count": 1,
     "metadata": {}
    },
    {
     "output_type": "execute_result",
     "data": {
      "text/plain": "Phase: Bottleneck Computation, Dataset used: Validation, Image Index:   7"
     },
     "execution_count": 1,
     "metadata": {}
    },
    {
     "output_type": "execute_result",
     "data": {
      "text/plain": "Phase: Bottleneck Computation, Dataset used: Validation, Image Index:   8"
     },
     "execution_count": 1,
     "metadata": {}
    },
    {
     "output_type": "execute_result",
     "data": {
      "text/plain": "Phase: Bottleneck Computation, Dataset used: Validation, Image Index:   9"
     },
     "execution_count": 1,
     "metadata": {}
    },
    {
     "output_type": "execute_result",
     "data": {
      "text/plain": "Phase: Bottleneck Computation, Dataset used: Validation, Image Index:  10"
     },
     "execution_count": 1,
     "metadata": {}
    },
    {
     "output_type": "execute_result",
     "data": {
      "text/plain": "Phase: Bottleneck Computation, Dataset used: Validation, Image Index:  11"
     },
     "execution_count": 1,
     "metadata": {}
    },
    {
     "output_type": "execute_result",
     "data": {
      "text/plain": "Phase: Bottleneck Computation, Dataset used: Validation, Image Index:  12"
     },
     "execution_count": 1,
     "metadata": {}
    },
    {
     "output_type": "execute_result",
     "data": {
      "text/plain": "Phase: Bottleneck Computation, Dataset used: Validation, Image Index:  13"
     },
     "execution_count": 1,
     "metadata": {}
    },
    {
     "output_type": "execute_result",
     "data": {
      "text/plain": "Phase: Bottleneck Computation, Dataset used: Validation, Image Index:  14"
     },
     "execution_count": 1,
     "metadata": {}
    },
    {
     "output_type": "execute_result",
     "data": {
      "text/plain": "Phase: Bottleneck Computation, Dataset used: Validation, Image Index:  15"
     },
     "execution_count": 1,
     "metadata": {}
    },
    {
     "output_type": "execute_result",
     "data": {
      "text/plain": "Phase: Bottleneck Computation, Dataset used: Validation, Image Index:  16"
     },
     "execution_count": 1,
     "metadata": {}
    },
    {
     "output_type": "execute_result",
     "data": {
      "text/plain": "Phase: Bottleneck Computation, Dataset used: Validation, Image Index:  17"
     },
     "execution_count": 1,
     "metadata": {}
    },
    {
     "output_type": "execute_result",
     "data": {
      "text/plain": "Phase: Bottleneck Computation, Dataset used: Validation, Image Index:  18"
     },
     "execution_count": 1,
     "metadata": {}
    },
    {
     "output_type": "execute_result",
     "data": {
      "text/plain": "Phase: Bottleneck Computation, Dataset used: Validation, Image Index:  19"
     },
     "execution_count": 1,
     "metadata": {}
    },
    {
     "output_type": "execute_result",
     "data": {
      "text/plain": "Phase: Bottleneck Computation, Dataset used: Validation, Image Index:  20"
     },
     "execution_count": 1,
     "metadata": {}
    },
    {
     "output_type": "execute_result",
     "data": {
      "text/plain": "Phase: Bottleneck Computation, Dataset used: Validation, Image Index:  21"
     },
     "execution_count": 1,
     "metadata": {}
    },
    {
     "output_type": "execute_result",
     "data": {
      "text/plain": "Phase: Bottleneck Computation, Dataset used: Validation, Image Index:  22"
     },
     "execution_count": 1,
     "metadata": {}
    },
    {
     "output_type": "execute_result",
     "data": {
      "text/plain": "Phase: Bottleneck Computation, Dataset used: Validation, Image Index:  23"
     },
     "execution_count": 1,
     "metadata": {}
    },
    {
     "output_type": "execute_result",
     "data": {
      "text/plain": "Phase: Bottleneck Computation, Dataset used: Validation, Image Index:  24"
     },
     "execution_count": 1,
     "metadata": {}
    },
    {
     "output_type": "execute_result",
     "data": {
      "text/plain": "Phase: Bottleneck Computation, Dataset used: Validation, Image Index:  25"
     },
     "execution_count": 1,
     "metadata": {}
    },
    {
     "output_type": "execute_result",
     "data": {
      "text/plain": "Phase: Bottleneck Computation, Dataset used: Validation, Image Index:  26"
     },
     "execution_count": 1,
     "metadata": {}
    },
    {
     "output_type": "execute_result",
     "data": {
      "text/plain": "Phase: Bottleneck Computation, Dataset used: Validation, Image Index:  27"
     },
     "execution_count": 1,
     "metadata": {}
    },
    {
     "output_type": "execute_result",
     "data": {
      "text/plain": "Phase: Bottleneck Computation, Dataset used: Validation, Image Index:  28"
     },
     "execution_count": 1,
     "metadata": {}
    },
    {
     "output_type": "execute_result",
     "data": {
      "text/plain": "Phase: Bottleneck Computation, Dataset used: Validation, Image Index:  29"
     },
     "execution_count": 1,
     "metadata": {}
    },
    {
     "output_type": "execute_result",
     "data": {
      "text/plain": "Phase: Bottleneck Computation, Dataset used: Validation, Image Index:  30"
     },
     "execution_count": 1,
     "metadata": {}
    },
    {
     "output_type": "execute_result",
     "data": {
      "text/plain": "Phase: Bottleneck Computation, Dataset used: Validation, Image Index:  31"
     },
     "execution_count": 1,
     "metadata": {}
    },
    {
     "output_type": "execute_result",
     "data": {
      "text/plain": "Phase: Bottleneck Computation, Dataset used: Validation, Image Index:  32"
     },
     "execution_count": 1,
     "metadata": {}
    },
    {
     "output_type": "execute_result",
     "data": {
      "text/plain": "Phase: Bottleneck Computation, Dataset used: Validation, Image Index:  33"
     },
     "execution_count": 1,
     "metadata": {}
    },
    {
     "output_type": "execute_result",
     "data": {
      "text/plain": "Phase: Bottleneck Computation, Dataset used: Validation, Image Index:  34"
     },
     "execution_count": 1,
     "metadata": {}
    },
    {
     "output_type": "execute_result",
     "data": {
      "text/plain": "Phase: Bottleneck Computation, Dataset used: Validation, Image Index:  35"
     },
     "execution_count": 1,
     "metadata": {}
    },
    {
     "output_type": "execute_result",
     "data": {
      "text/plain": "Phase: Bottleneck Computation, Dataset used: Validation, Image Index:  36"
     },
     "execution_count": 1,
     "metadata": {}
    },
    {
     "output_type": "execute_result",
     "data": {
      "text/plain": "Phase: Bottleneck Computation, Dataset used: Validation, Image Index:  37"
     },
     "execution_count": 1,
     "metadata": {}
    },
    {
     "output_type": "execute_result",
     "data": {
      "text/plain": "Phase: Bottleneck Computation, Dataset used:      Train, Image Index:   1"
     },
     "execution_count": 1,
     "metadata": {}
    },
    {
     "output_type": "execute_result",
     "data": {
      "text/plain": "Phase: Bottleneck Computation, Dataset used:      Train, Image Index:   2"
     },
     "execution_count": 1,
     "metadata": {}
    },
    {
     "output_type": "execute_result",
     "data": {
      "text/plain": "Phase: Bottleneck Computation, Dataset used:      Train, Image Index:   3"
     },
     "execution_count": 1,
     "metadata": {}
    },
    {
     "output_type": "execute_result",
     "data": {
      "text/plain": "Phase: Bottleneck Computation, Dataset used:      Train, Image Index:   4"
     },
     "execution_count": 1,
     "metadata": {}
    },
    {
     "output_type": "execute_result",
     "data": {
      "text/plain": "Phase: Bottleneck Computation, Dataset used:      Train, Image Index:   5"
     },
     "execution_count": 1,
     "metadata": {}
    },
    {
     "output_type": "execute_result",
     "data": {
      "text/plain": "Phase: Bottleneck Computation, Dataset used:      Train, Image Index:   6"
     },
     "execution_count": 1,
     "metadata": {}
    },
    {
     "output_type": "execute_result",
     "data": {
      "text/plain": "Phase: Bottleneck Computation, Dataset used:      Train, Image Index:   7"
     },
     "execution_count": 1,
     "metadata": {}
    },
    {
     "output_type": "execute_result",
     "data": {
      "text/plain": "Phase: Bottleneck Computation, Dataset used:      Train, Image Index:   8"
     },
     "execution_count": 1,
     "metadata": {}
    },
    {
     "output_type": "execute_result",
     "data": {
      "text/plain": "Phase: Bottleneck Computation, Dataset used:      Train, Image Index:   9"
     },
     "execution_count": 1,
     "metadata": {}
    },
    {
     "output_type": "execute_result",
     "data": {
      "text/plain": "Phase: Bottleneck Computation, Dataset used:      Train, Image Index:  10"
     },
     "execution_count": 1,
     "metadata": {}
    },
    {
     "output_type": "execute_result",
     "data": {
      "text/plain": "Phase: Bottleneck Computation, Dataset used:      Train, Image Index:  11"
     },
     "execution_count": 1,
     "metadata": {}
    },
    {
     "output_type": "execute_result",
     "data": {
      "text/plain": "Phase: Bottleneck Computation, Dataset used:      Train, Image Index:  12"
     },
     "execution_count": 1,
     "metadata": {}
    },
    {
     "output_type": "execute_result",
     "data": {
      "text/plain": "Phase: Bottleneck Computation, Dataset used:      Train, Image Index:  13"
     },
     "execution_count": 1,
     "metadata": {}
    },
    {
     "output_type": "execute_result",
     "data": {
      "text/plain": "Phase: Bottleneck Computation, Dataset used:      Train, Image Index:  14"
     },
     "execution_count": 1,
     "metadata": {}
    },
    {
     "output_type": "execute_result",
     "data": {
      "text/plain": "Phase: Bottleneck Computation, Dataset used:      Train, Image Index:  15"
     },
     "execution_count": 1,
     "metadata": {}
    },
    {
     "output_type": "execute_result",
     "data": {
      "text/plain": "Phase: Bottleneck Computation, Dataset used:      Train, Image Index:  16"
     },
     "execution_count": 1,
     "metadata": {}
    },
    {
     "output_type": "execute_result",
     "data": {
      "text/plain": "Phase: Bottleneck Computation, Dataset used:      Train, Image Index:  17"
     },
     "execution_count": 1,
     "metadata": {}
    },
    {
     "output_type": "execute_result",
     "data": {
      "text/plain": "Phase: Bottleneck Computation, Dataset used:      Train, Image Index:  18"
     },
     "execution_count": 1,
     "metadata": {}
    },
    {
     "output_type": "execute_result",
     "data": {
      "text/plain": "Phase: Bottleneck Computation, Dataset used:      Train, Image Index:  19"
     },
     "execution_count": 1,
     "metadata": {}
    },
    {
     "output_type": "execute_result",
     "data": {
      "text/plain": "Phase: Bottleneck Computation, Dataset used:      Train, Image Index:  20"
     },
     "execution_count": 1,
     "metadata": {}
    },
    {
     "output_type": "execute_result",
     "data": {
      "text/plain": "Phase: Bottleneck Computation, Dataset used:      Train, Image Index:  21"
     },
     "execution_count": 1,
     "metadata": {}
    },
    {
     "output_type": "execute_result",
     "data": {
      "text/plain": "Phase: Bottleneck Computation, Dataset used:      Train, Image Index:  22"
     },
     "execution_count": 1,
     "metadata": {}
    },
    {
     "output_type": "execute_result",
     "data": {
      "text/plain": "Phase: Bottleneck Computation, Dataset used:      Train, Image Index:  23"
     },
     "execution_count": 1,
     "metadata": {}
    },
    {
     "output_type": "execute_result",
     "data": {
      "text/plain": "Phase: Bottleneck Computation, Dataset used:      Train, Image Index:  24"
     },
     "execution_count": 1,
     "metadata": {}
    },
    {
     "output_type": "execute_result",
     "data": {
      "text/plain": "Phase: Bottleneck Computation, Dataset used:      Train, Image Index:  25"
     },
     "execution_count": 1,
     "metadata": {}
    },
    {
     "output_type": "execute_result",
     "data": {
      "text/plain": "Phase: Bottleneck Computation, Dataset used:      Train, Image Index:  26"
     },
     "execution_count": 1,
     "metadata": {}
    },
    {
     "output_type": "execute_result",
     "data": {
      "text/plain": "Phase: Bottleneck Computation, Dataset used:      Train, Image Index:  27"
     },
     "execution_count": 1,
     "metadata": {}
    },
    {
     "output_type": "execute_result",
     "data": {
      "text/plain": "Phase: Bottleneck Computation, Dataset used:      Train, Image Index:  28"
     },
     "execution_count": 1,
     "metadata": {}
    },
    {
     "output_type": "execute_result",
     "data": {
      "text/plain": "Phase: Bottleneck Computation, Dataset used:      Train, Image Index:  29"
     },
     "execution_count": 1,
     "metadata": {}
    },
    {
     "output_type": "execute_result",
     "data": {
      "text/plain": "Phase: Bottleneck Computation, Dataset used:      Train, Image Index:  30"
     },
     "execution_count": 1,
     "metadata": {}
    },
    {
     "output_type": "execute_result",
     "data": {
      "text/plain": "Phase: Bottleneck Computation, Dataset used:      Train, Image Index:  31"
     },
     "execution_count": 1,
     "metadata": {}
    },
    {
     "output_type": "execute_result",
     "data": {
      "text/plain": "Phase: Bottleneck Computation, Dataset used:      Train, Image Index:  32"
     },
     "execution_count": 1,
     "metadata": {}
    },
    {
     "output_type": "execute_result",
     "data": {
      "text/plain": "Phase: Bottleneck Computation, Dataset used:      Train, Image Index:  33"
     },
     "execution_count": 1,
     "metadata": {}
    },
    {
     "output_type": "execute_result",
     "data": {
      "text/plain": "Phase: Bottleneck Computation, Dataset used:      Train, Image Index:  34"
     },
     "execution_count": 1,
     "metadata": {}
    },
    {
     "output_type": "execute_result",
     "data": {
      "text/plain": "Phase: Bottleneck Computation, Dataset used:      Train, Image Index:  35"
     },
     "execution_count": 1,
     "metadata": {}
    },
    {
     "output_type": "execute_result",
     "data": {
      "text/plain": "Phase: Bottleneck Computation, Dataset used:      Train, Image Index:  36"
     },
     "execution_count": 1,
     "metadata": {}
    },
    {
     "output_type": "execute_result",
     "data": {
      "text/plain": "Phase: Bottleneck Computation, Dataset used:      Train, Image Index:  37"
     },
     "execution_count": 1,
     "metadata": {}
    },
    {
     "output_type": "execute_result",
     "data": {
      "text/plain": "Phase: Bottleneck Computation, Dataset used:      Train, Image Index:  38"
     },
     "execution_count": 1,
     "metadata": {}
    },
    {
     "output_type": "execute_result",
     "data": {
      "text/plain": "Phase: Bottleneck Computation, Dataset used:      Train, Image Index:  39"
     },
     "execution_count": 1,
     "metadata": {}
    },
    {
     "output_type": "execute_result",
     "data": {
      "text/plain": "Phase: Bottleneck Computation, Dataset used:      Train, Image Index:  40"
     },
     "execution_count": 1,
     "metadata": {}
    },
    {
     "output_type": "execute_result",
     "data": {
      "text/plain": "Phase: Bottleneck Computation, Dataset used:      Train, Image Index:  41"
     },
     "execution_count": 1,
     "metadata": {}
    },
    {
     "output_type": "execute_result",
     "data": {
      "text/plain": "Phase: Bottleneck Computation, Dataset used:      Train, Image Index:  42"
     },
     "execution_count": 1,
     "metadata": {}
    },
    {
     "output_type": "execute_result",
     "data": {
      "text/plain": "Phase: Bottleneck Computation, Dataset used:      Train, Image Index:  43"
     },
     "execution_count": 1,
     "metadata": {}
    },
    {
     "output_type": "execute_result",
     "data": {
      "text/plain": "Phase: Bottleneck Computation, Dataset used:      Train, Image Index:  44"
     },
     "execution_count": 1,
     "metadata": {}
    },
    {
     "output_type": "execute_result",
     "data": {
      "text/plain": "Phase: Bottleneck Computation, Dataset used:      Train, Image Index:  45"
     },
     "execution_count": 1,
     "metadata": {}
    },
    {
     "output_type": "execute_result",
     "data": {
      "text/plain": "Phase: Bottleneck Computation, Dataset used:      Train, Image Index:  46"
     },
     "execution_count": 1,
     "metadata": {}
    },
    {
     "output_type": "execute_result",
     "data": {
      "text/plain": "Phase: Bottleneck Computation, Dataset used:      Train, Image Index:  47"
     },
     "execution_count": 1,
     "metadata": {}
    },
    {
     "output_type": "execute_result",
     "data": {
      "text/plain": "Phase: Bottleneck Computation, Dataset used:      Train, Image Index:  48"
     },
     "execution_count": 1,
     "metadata": {}
    },
    {
     "output_type": "execute_result",
     "data": {
      "text/plain": "Phase: Bottleneck Computation, Dataset used:      Train, Image Index:  49"
     },
     "execution_count": 1,
     "metadata": {}
    },
    {
     "output_type": "execute_result",
     "data": {
      "text/plain": "Phase: Bottleneck Computation, Dataset used:      Train, Image Index:  50"
     },
     "execution_count": 1,
     "metadata": {}
    },
    {
     "output_type": "execute_result",
     "data": {
      "text/plain": "Phase: Bottleneck Computation, Dataset used:      Train, Image Index:  51"
     },
     "execution_count": 1,
     "metadata": {}
    },
    {
     "output_type": "execute_result",
     "data": {
      "text/plain": "Phase: Bottleneck Computation, Dataset used:      Train, Image Index:  52"
     },
     "execution_count": 1,
     "metadata": {}
    },
    {
     "output_type": "execute_result",
     "data": {
      "text/plain": "Phase: Bottleneck Computation, Dataset used:      Train, Image Index:  53"
     },
     "execution_count": 1,
     "metadata": {}
    },
    {
     "output_type": "execute_result",
     "data": {
      "text/plain": "Phase: Bottleneck Computation, Dataset used:      Train, Image Index:  54"
     },
     "execution_count": 1,
     "metadata": {}
    },
    {
     "output_type": "execute_result",
     "data": {
      "text/plain": "Phase: Bottleneck Computation, Dataset used:      Train, Image Index:  55"
     },
     "execution_count": 1,
     "metadata": {}
    },
    {
     "output_type": "execute_result",
     "data": {
      "text/plain": "Phase: Bottleneck Computation, Dataset used:      Train, Image Index:  56"
     },
     "execution_count": 1,
     "metadata": {}
    },
    {
     "output_type": "execute_result",
     "data": {
      "text/plain": "Phase: Bottleneck Computation, Dataset used:      Train, Image Index:  57"
     },
     "execution_count": 1,
     "metadata": {}
    },
    {
     "output_type": "execute_result",
     "data": {
      "text/plain": "Phase: Bottleneck Computation, Dataset used:      Train, Image Index:  58"
     },
     "execution_count": 1,
     "metadata": {}
    },
    {
     "output_type": "execute_result",
     "data": {
      "text/plain": "Phase: Bottleneck Computation, Dataset used:      Train, Image Index:  59"
     },
     "execution_count": 1,
     "metadata": {}
    },
    {
     "output_type": "execute_result",
     "data": {
      "text/plain": "Phase: Bottleneck Computation, Dataset used:      Train, Image Index:  60"
     },
     "execution_count": 1,
     "metadata": {}
    },
    {
     "output_type": "execute_result",
     "data": {
      "text/plain": "Phase: Bottleneck Computation, Dataset used:      Train, Image Index:  61"
     },
     "execution_count": 1,
     "metadata": {}
    },
    {
     "output_type": "execute_result",
     "data": {
      "text/plain": "Phase: Bottleneck Computation, Dataset used:      Train, Image Index:  62"
     },
     "execution_count": 1,
     "metadata": {}
    },
    {
     "output_type": "execute_result",
     "data": {
      "text/plain": "Phase: Bottleneck Computation, Dataset used:      Train, Image Index:  63"
     },
     "execution_count": 1,
     "metadata": {}
    },
    {
     "output_type": "execute_result",
     "data": {
      "text/plain": "Phase: Bottleneck Computation, Dataset used:      Train, Image Index:  64"
     },
     "execution_count": 1,
     "metadata": {}
    },
    {
     "output_type": "execute_result",
     "data": {
      "text/plain": "Phase: Bottleneck Computation, Dataset used:      Train, Image Index:  65"
     },
     "execution_count": 1,
     "metadata": {}
    },
    {
     "output_type": "execute_result",
     "data": {
      "text/plain": "Phase: Bottleneck Computation, Dataset used:      Train, Image Index:  66"
     },
     "execution_count": 1,
     "metadata": {}
    },
    {
     "output_type": "execute_result",
     "data": {
      "text/plain": "Phase: Bottleneck Computation, Dataset used:      Train, Image Index:  67"
     },
     "execution_count": 1,
     "metadata": {}
    },
    {
     "output_type": "execute_result",
     "data": {
      "text/plain": "Phase: Bottleneck Computation, Dataset used:      Train, Image Index:  68"
     },
     "execution_count": 1,
     "metadata": {}
    },
    {
     "output_type": "execute_result",
     "data": {
      "text/plain": "Phase: Bottleneck Computation, Dataset used:      Train, Image Index:  69"
     },
     "execution_count": 1,
     "metadata": {}
    },
    {
     "output_type": "execute_result",
     "data": {
      "text/plain": "Phase: Bottleneck Computation, Dataset used:      Train, Image Index:  70"
     },
     "execution_count": 1,
     "metadata": {}
    },
    {
     "output_type": "execute_result",
     "data": {
      "text/plain": "Phase: Bottleneck Computation, Dataset used:      Train, Image Index:  71"
     },
     "execution_count": 1,
     "metadata": {}
    },
    {
     "output_type": "execute_result",
     "data": {
      "text/plain": "Phase: Bottleneck Computation, Dataset used:      Train, Image Index:  72"
     },
     "execution_count": 1,
     "metadata": {}
    },
    {
     "output_type": "execute_result",
     "data": {
      "text/plain": "Phase: Bottleneck Computation, Dataset used:      Train, Image Index:  73"
     },
     "execution_count": 1,
     "metadata": {}
    },
    {
     "output_type": "execute_result",
     "data": {
      "text/plain": "Phase: Bottleneck Computation, Dataset used:      Train, Image Index:  74"
     },
     "execution_count": 1,
     "metadata": {}
    },
    {
     "output_type": "execute_result",
     "data": {
      "text/plain": "Phase: Bottleneck Computation, Dataset used:      Train, Image Index:  75"
     },
     "execution_count": 1,
     "metadata": {}
    },
    {
     "output_type": "execute_result",
     "data": {
      "text/plain": "Phase: Bottleneck Computation, Dataset used:      Train, Image Index:  76"
     },
     "execution_count": 1,
     "metadata": {}
    },
    {
     "output_type": "execute_result",
     "data": {
      "text/plain": "Phase: Bottleneck Computation, Dataset used:      Train, Image Index:  77"
     },
     "execution_count": 1,
     "metadata": {}
    },
    {
     "output_type": "execute_result",
     "data": {
      "text/plain": "Phase: Bottleneck Computation, Dataset used:      Train, Image Index:  78"
     },
     "execution_count": 1,
     "metadata": {}
    },
    {
     "output_type": "execute_result",
     "data": {
      "text/plain": "Phase: Bottleneck Computation, Dataset used:      Train, Image Index:  79"
     },
     "execution_count": 1,
     "metadata": {}
    },
    {
     "output_type": "execute_result",
     "data": {
      "text/plain": "Phase: Bottleneck Computation, Dataset used:      Train, Image Index:  80"
     },
     "execution_count": 1,
     "metadata": {}
    },
    {
     "output_type": "execute_result",
     "data": {
      "text/plain": "Phase: Bottleneck Computation, Dataset used:      Train, Image Index:  81"
     },
     "execution_count": 1,
     "metadata": {}
    },
    {
     "output_type": "execute_result",
     "data": {
      "text/plain": "Phase: Bottleneck Computation, Dataset used:      Train, Image Index:  82"
     },
     "execution_count": 1,
     "metadata": {}
    },
    {
     "output_type": "execute_result",
     "data": {
      "text/plain": "Phase: Bottleneck Computation, Dataset used:      Train, Image Index:  83"
     },
     "execution_count": 1,
     "metadata": {}
    },
    {
     "output_type": "execute_result",
     "data": {
      "text/plain": "Phase: Bottleneck Computation, Dataset used:      Train, Image Index:  84"
     },
     "execution_count": 1,
     "metadata": {}
    },
    {
     "output_type": "execute_result",
     "data": {
      "text/plain": "Phase: Bottleneck Computation, Dataset used:      Train, Image Index:  85"
     },
     "execution_count": 1,
     "metadata": {}
    },
    {
     "output_type": "execute_result",
     "data": {
      "text/plain": "Phase: Bottleneck Computation, Dataset used:      Train, Image Index:  86"
     },
     "execution_count": 1,
     "metadata": {}
    },
    {
     "output_type": "execute_result",
     "data": {
      "text/plain": "Phase: Bottleneck Computation, Dataset used:      Train, Image Index:  87"
     },
     "execution_count": 1,
     "metadata": {}
    },
    {
     "output_type": "execute_result",
     "data": {
      "text/plain": "Phase: Bottleneck Computation, Dataset used:      Train, Image Index:  88"
     },
     "execution_count": 1,
     "metadata": {}
    },
    {
     "output_type": "execute_result",
     "data": {
      "text/plain": "Phase: Bottleneck Computation, Dataset used:      Train, Image Index:  89"
     },
     "execution_count": 1,
     "metadata": {}
    },
    {
     "output_type": "execute_result",
     "data": {
      "text/plain": "Phase: Bottleneck Computation, Dataset used:      Train, Image Index:  90"
     },
     "execution_count": 1,
     "metadata": {}
    },
    {
     "output_type": "execute_result",
     "data": {
      "text/plain": "Phase: Bottleneck Computation, Dataset used:      Train, Image Index:  91"
     },
     "execution_count": 1,
     "metadata": {}
    },
    {
     "output_type": "execute_result",
     "data": {
      "text/plain": "Phase: Bottleneck Computation, Dataset used:      Train, Image Index:  92"
     },
     "execution_count": 1,
     "metadata": {}
    },
    {
     "output_type": "execute_result",
     "data": {
      "text/plain": "Phase: Bottleneck Computation, Dataset used:      Train, Image Index:  93"
     },
     "execution_count": 1,
     "metadata": {}
    },
    {
     "output_type": "execute_result",
     "data": {
      "text/plain": "Phase: Bottleneck Computation, Dataset used:      Train, Image Index:  94"
     },
     "execution_count": 1,
     "metadata": {}
    },
    {
     "output_type": "execute_result",
     "data": {
      "text/plain": "Phase: Bottleneck Computation, Dataset used:      Train, Image Index:  95"
     },
     "execution_count": 1,
     "metadata": {}
    },
    {
     "output_type": "execute_result",
     "data": {
      "text/plain": "Phase: Bottleneck Computation, Dataset used:      Train, Image Index:  96"
     },
     "execution_count": 1,
     "metadata": {}
    },
    {
     "output_type": "execute_result",
     "data": {
      "text/plain": "Phase: Bottleneck Computation, Dataset used:      Train, Image Index:  97"
     },
     "execution_count": 1,
     "metadata": {}
    },
    {
     "output_type": "execute_result",
     "data": {
      "text/plain": "Phase: Bottleneck Computation, Dataset used:      Train, Image Index:  98"
     },
     "execution_count": 1,
     "metadata": {}
    },
    {
     "output_type": "execute_result",
     "data": {
      "text/plain": "Phase: Bottleneck Computation, Dataset used:      Train, Image Index:  99"
     },
     "execution_count": 1,
     "metadata": {}
    },
    {
     "output_type": "execute_result",
     "data": {
      "text/plain": "Phase: Bottleneck Computation, Dataset used:      Train, Image Index: 100"
     },
     "execution_count": 1,
     "metadata": {}
    },
    {
     "output_type": "execute_result",
     "data": {
      "text/plain": "Phase: Bottleneck Computation, Dataset used:      Train, Image Index: 101"
     },
     "execution_count": 1,
     "metadata": {}
    },
    {
     "output_type": "execute_result",
     "data": {
      "text/plain": "Phase: Bottleneck Computation, Dataset used:      Train, Image Index: 102"
     },
     "execution_count": 1,
     "metadata": {}
    },
    {
     "output_type": "execute_result",
     "data": {
      "text/plain": "Phase: Bottleneck Computation, Dataset used:      Train, Image Index: 103"
     },
     "execution_count": 1,
     "metadata": {}
    },
    {
     "output_type": "execute_result",
     "data": {
      "text/plain": "Phase: Bottleneck Computation, Dataset used:      Train, Image Index: 104"
     },
     "execution_count": 1,
     "metadata": {}
    },
    {
     "output_type": "execute_result",
     "data": {
      "text/plain": "Phase: Bottleneck Computation, Dataset used:      Train, Image Index: 105"
     },
     "execution_count": 1,
     "metadata": {}
    },
    {
     "output_type": "execute_result",
     "data": {
      "text/plain": "Phase: Bottleneck Computation, Dataset used:      Train, Image Index: 106"
     },
     "execution_count": 1,
     "metadata": {}
    },
    {
     "output_type": "execute_result",
     "data": {
      "text/plain": "Phase: Bottleneck Computation, Dataset used:      Train, Image Index: 107"
     },
     "execution_count": 1,
     "metadata": {}
    },
    {
     "output_type": "execute_result",
     "data": {
      "text/plain": "Phase: Bottleneck Computation, Dataset used:      Train, Image Index: 108"
     },
     "execution_count": 1,
     "metadata": {}
    },
    {
     "output_type": "execute_result",
     "data": {
      "text/plain": "Phase: Bottleneck Computation, Dataset used:      Train, Image Index: 109"
     },
     "execution_count": 1,
     "metadata": {}
    },
    {
     "output_type": "execute_result",
     "data": {
      "text/plain": "Phase: Bottleneck Computation, Dataset used:      Train, Image Index: 110"
     },
     "execution_count": 1,
     "metadata": {}
    },
    {
     "output_type": "execute_result",
     "data": {
      "text/plain": "Phase: Bottleneck Computation, Dataset used:      Train, Image Index: 111"
     },
     "execution_count": 1,
     "metadata": {}
    },
    {
     "output_type": "execute_result",
     "data": {
      "text/plain": "Phase: Bottleneck Computation, Dataset used:      Train, Image Index: 112"
     },
     "execution_count": 1,
     "metadata": {}
    },
    {
     "output_type": "execute_result",
     "data": {
      "text/plain": "Phase: Bottleneck Computation, Dataset used:      Train, Image Index: 113"
     },
     "execution_count": 1,
     "metadata": {}
    },
    {
     "output_type": "execute_result",
     "data": {
      "text/plain": "Phase: Bottleneck Computation, Dataset used:      Train, Image Index: 114"
     },
     "execution_count": 1,
     "metadata": {}
    },
    {
     "output_type": "execute_result",
     "data": {
      "text/plain": "Phase: Bottleneck Computation, Dataset used:      Train, Image Index: 115"
     },
     "execution_count": 1,
     "metadata": {}
    },
    {
     "output_type": "execute_result",
     "data": {
      "text/plain": "Phase: Bottleneck Computation, Dataset used:      Train, Image Index: 116"
     },
     "execution_count": 1,
     "metadata": {}
    },
    {
     "output_type": "execute_result",
     "data": {
      "text/plain": "Phase: Bottleneck Computation, Dataset used:      Train, Image Index: 117"
     },
     "execution_count": 1,
     "metadata": {}
    },
    {
     "output_type": "execute_result",
     "data": {
      "text/plain": "Phase: Bottleneck Computation, Dataset used:      Train, Image Index: 118"
     },
     "execution_count": 1,
     "metadata": {}
    },
    {
     "output_type": "execute_result",
     "data": {
      "text/plain": "Phase: Bottleneck Computation, Dataset used:      Train, Image Index: 119"
     },
     "execution_count": 1,
     "metadata": {}
    },
    {
     "output_type": "execute_result",
     "data": {
      "text/plain": "Phase: Bottleneck Computation, Dataset used:      Train, Image Index: 120"
     },
     "execution_count": 1,
     "metadata": {}
    },
    {
     "output_type": "execute_result",
     "data": {
      "text/plain": "Phase: Bottleneck Computation, Dataset used:      Train, Image Index: 121"
     },
     "execution_count": 1,
     "metadata": {}
    },
    {
     "output_type": "execute_result",
     "data": {
      "text/plain": "Phase: Bottleneck Computation, Dataset used:      Train, Image Index: 122"
     },
     "execution_count": 1,
     "metadata": {}
    },
    {
     "output_type": "execute_result",
     "data": {
      "text/plain": "Phase: Bottleneck Computation, Dataset used:      Train, Image Index: 123"
     },
     "execution_count": 1,
     "metadata": {}
    },
    {
     "output_type": "execute_result",
     "data": {
      "text/plain": "Phase: Bottleneck Computation, Dataset used:      Train, Image Index: 124"
     },
     "execution_count": 1,
     "metadata": {}
    },
    {
     "output_type": "execute_result",
     "data": {
      "text/plain": "Phase: Bottleneck Computation, Dataset used:      Train, Image Index: 125"
     },
     "execution_count": 1,
     "metadata": {}
    },
    {
     "output_type": "execute_result",
     "data": {
      "text/plain": "Phase: Bottleneck Computation, Dataset used:      Train, Image Index: 126"
     },
     "execution_count": 1,
     "metadata": {}
    },
    {
     "output_type": "execute_result",
     "data": {
      "text/plain": "Phase: Bottleneck Computation, Dataset used:      Train, Image Index: 127"
     },
     "execution_count": 1,
     "metadata": {}
    },
    {
     "output_type": "execute_result",
     "data": {
      "text/plain": "Phase: Bottleneck Computation, Dataset used:      Train, Image Index: 128"
     },
     "execution_count": 1,
     "metadata": {}
    },
    {
     "output_type": "execute_result",
     "data": {
      "text/plain": "Phase: Bottleneck Computation, Dataset used:      Train, Image Index: 129"
     },
     "execution_count": 1,
     "metadata": {}
    },
    {
     "output_type": "execute_result",
     "data": {
      "text/plain": "Phase: Bottleneck Computation, Dataset used:      Train, Image Index: 130"
     },
     "execution_count": 1,
     "metadata": {}
    },
    {
     "output_type": "execute_result",
     "data": {
      "text/plain": "Phase: Bottleneck Computation, Dataset used:      Train, Image Index: 131"
     },
     "execution_count": 1,
     "metadata": {}
    },
    {
     "output_type": "execute_result",
     "data": {
      "text/plain": "Phase: Bottleneck Computation, Dataset used:      Train, Image Index: 132"
     },
     "execution_count": 1,
     "metadata": {}
    },
    {
     "output_type": "execute_result",
     "data": {
      "text/plain": "Phase: Bottleneck Computation, Dataset used:      Train, Image Index: 133"
     },
     "execution_count": 1,
     "metadata": {}
    },
    {
     "output_type": "execute_result",
     "data": {
      "text/plain": "Phase: Bottleneck Computation, Dataset used:      Train, Image Index: 134"
     },
     "execution_count": 1,
     "metadata": {}
    },
    {
     "output_type": "execute_result",
     "data": {
      "text/plain": "Phase: Bottleneck Computation, Dataset used:      Train, Image Index: 135"
     },
     "execution_count": 1,
     "metadata": {}
    },
    {
     "output_type": "execute_result",
     "data": {
      "text/plain": "Phase: Bottleneck Computation, Dataset used:      Train, Image Index: 136"
     },
     "execution_count": 1,
     "metadata": {}
    },
    {
     "output_type": "execute_result",
     "data": {
      "text/plain": "Phase: Bottleneck Computation, Dataset used:      Train, Image Index: 137"
     },
     "execution_count": 1,
     "metadata": {}
    },
    {
     "output_type": "execute_result",
     "data": {
      "text/plain": "Phase: Bottleneck Computation, Dataset used:      Train, Image Index: 138"
     },
     "execution_count": 1,
     "metadata": {}
    },
    {
     "output_type": "execute_result",
     "data": {
      "text/plain": "Phase: Bottleneck Computation, Dataset used:      Train, Image Index: 139"
     },
     "execution_count": 1,
     "metadata": {}
    },
    {
     "output_type": "execute_result",
     "data": {
      "text/plain": "Phase: Bottleneck Computation, Dataset used:      Train, Image Index: 140"
     },
     "execution_count": 1,
     "metadata": {}
    },
    {
     "output_type": "execute_result",
     "data": {
      "text/plain": "Phase: Bottleneck Computation, Dataset used:      Train, Image Index: 141"
     },
     "execution_count": 1,
     "metadata": {}
    },
    {
     "output_type": "execute_result",
     "data": {
      "text/plain": "Phase: Bottleneck Computation, Dataset used:      Train, Image Index: 142"
     },
     "execution_count": 1,
     "metadata": {}
    },
    {
     "output_type": "execute_result",
     "data": {
      "text/plain": "Phase: Bottleneck Computation, Dataset used:      Train, Image Index: 143"
     },
     "execution_count": 1,
     "metadata": {}
    },
    {
     "output_type": "execute_result",
     "data": {
      "text/plain": "Phase: Bottleneck Computation, Dataset used:      Train, Image Index: 144"
     },
     "execution_count": 1,
     "metadata": {}
    },
    {
     "output_type": "execute_result",
     "data": {
      "text/plain": "Phase: Bottleneck Computation, Dataset used:      Train, Image Index: 145"
     },
     "execution_count": 1,
     "metadata": {}
    },
    {
     "output_type": "execute_result",
     "data": {
      "text/plain": "Phase: Bottleneck Computation, Dataset used:      Train, Image Index: 146"
     },
     "execution_count": 1,
     "metadata": {}
    },
    {
     "output_type": "execute_result",
     "data": {
      "text/plain": "Phase: Bottleneck Computation, Dataset used:      Train, Image Index: 147"
     },
     "execution_count": 1,
     "metadata": {}
    },
    {
     "output_type": "execute_result",
     "data": {
      "text/plain": "Phase: Bottleneck Computation, Dataset used:      Train, Image Index: 148"
     },
     "execution_count": 1,
     "metadata": {}
    },
    {
     "output_type": "execute_result",
     "data": {
      "text/plain": "Phase: Bottleneck Computation, Dataset used:      Train, Image Index: 149"
     },
     "execution_count": 1,
     "metadata": {}
    },
    {
     "output_type": "execute_result",
     "data": {
      "text/plain": "Phase: Bottleneck Computation, Dataset used:      Train, Image Index: 150"
     },
     "execution_count": 1,
     "metadata": {}
    },
    {
     "output_type": "execute_result",
     "data": {
      "text/plain": "Phase: Bottleneck Computation, Dataset used:      Train, Image Index: 151"
     },
     "execution_count": 1,
     "metadata": {}
    },
    {
     "output_type": "execute_result",
     "data": {
      "text/plain": "Phase: Bottleneck Computation, Dataset used:      Train, Image Index: 152"
     },
     "execution_count": 1,
     "metadata": {}
    },
    {
     "output_type": "execute_result",
     "data": {
      "text/plain": "Phase: Bottleneck Computation, Dataset used:      Train, Image Index: 153"
     },
     "execution_count": 1,
     "metadata": {}
    },
    {
     "output_type": "execute_result",
     "data": {
      "text/plain": "Phase: Bottleneck Computation, Dataset used:      Train, Image Index: 154"
     },
     "execution_count": 1,
     "metadata": {}
    },
    {
     "output_type": "execute_result",
     "data": {
      "text/plain": "Phase: Bottleneck Computation, Dataset used:      Train, Image Index: 155"
     },
     "execution_count": 1,
     "metadata": {}
    },
    {
     "output_type": "execute_result",
     "data": {
      "text/plain": "Phase: Bottleneck Computation, Dataset used:      Train, Image Index: 156"
     },
     "execution_count": 1,
     "metadata": {}
    },
    {
     "output_type": "execute_result",
     "data": {
      "text/plain": "Phase: Bottleneck Computation, Dataset used:      Train, Image Index: 157"
     },
     "execution_count": 1,
     "metadata": {}
    },
    {
     "output_type": "execute_result",
     "data": {
      "text/plain": "Phase: Bottleneck Computation, Dataset used:      Train, Image Index: 158"
     },
     "execution_count": 1,
     "metadata": {}
    },
    {
     "output_type": "execute_result",
     "data": {
      "text/plain": "Phase: Bottleneck Computation, Dataset used:      Train, Image Index: 159"
     },
     "execution_count": 1,
     "metadata": {}
    },
    {
     "output_type": "execute_result",
     "data": {
      "text/plain": "Phase: Bottleneck Computation, Dataset used:      Train, Image Index: 160"
     },
     "execution_count": 1,
     "metadata": {}
    },
    {
     "output_type": "execute_result",
     "data": {
      "text/plain": "Phase: Bottleneck Computation, Dataset used:      Train, Image Index: 161"
     },
     "execution_count": 1,
     "metadata": {}
    },
    {
     "output_type": "execute_result",
     "data": {
      "text/plain": "Phase: Bottleneck Computation, Dataset used:      Train, Image Index: 162"
     },
     "execution_count": 1,
     "metadata": {}
    },
    {
     "output_type": "execute_result",
     "data": {
      "text/plain": "Phase: Bottleneck Computation, Dataset used:      Train, Image Index: 163"
     },
     "execution_count": 1,
     "metadata": {}
    },
    {
     "output_type": "execute_result",
     "data": {
      "text/plain": "Phase: Bottleneck Computation, Dataset used:      Train, Image Index: 164"
     },
     "execution_count": 1,
     "metadata": {}
    },
    {
     "output_type": "execute_result",
     "data": {
      "text/plain": "Phase: Bottleneck Computation, Dataset used:      Train, Image Index: 165"
     },
     "execution_count": 1,
     "metadata": {}
    },
    {
     "output_type": "execute_result",
     "data": {
      "text/plain": "Phase: Bottleneck Computation, Dataset used:      Train, Image Index: 166"
     },
     "execution_count": 1,
     "metadata": {}
    },
    {
     "output_type": "execute_result",
     "data": {
      "text/plain": "Phase: Bottleneck Computation, Dataset used:      Train, Image Index: 167"
     },
     "execution_count": 1,
     "metadata": {}
    },
    {
     "output_type": "execute_result",
     "data": {
      "text/plain": "Phase: Bottleneck Computation, Dataset used:      Train, Image Index: 168"
     },
     "execution_count": 1,
     "metadata": {}
    },
    {
     "output_type": "execute_result",
     "data": {
      "text/plain": "Phase: Bottleneck Computation, Dataset used:      Train, Image Index: 169"
     },
     "execution_count": 1,
     "metadata": {}
    },
    {
     "output_type": "execute_result",
     "data": {
      "text/plain": "Phase: Bottleneck Computation, Dataset used:      Train, Image Index: 170"
     },
     "execution_count": 1,
     "metadata": {}
    },
    {
     "output_type": "execute_result",
     "data": {
      "text/plain": "Phase: Bottleneck Computation, Dataset used:      Train, Image Index: 171"
     },
     "execution_count": 1,
     "metadata": {}
    },
    {
     "output_type": "execute_result",
     "data": {
      "text/plain": "Phase: Bottleneck Computation, Dataset used:      Train, Image Index: 172"
     },
     "execution_count": 1,
     "metadata": {}
    },
    {
     "output_type": "execute_result",
     "data": {
      "text/plain": "Phase: Bottleneck Computation, Dataset used:      Train, Image Index: 173"
     },
     "execution_count": 1,
     "metadata": {}
    },
    {
     "output_type": "execute_result",
     "data": {
      "text/plain": "Phase: Bottleneck Computation, Dataset used:      Train, Image Index: 174"
     },
     "execution_count": 1,
     "metadata": {}
    },
    {
     "output_type": "execute_result",
     "data": {
      "text/plain": "Phase: Bottleneck Computation, Dataset used:      Train, Image Index: 175"
     },
     "execution_count": 1,
     "metadata": {}
    },
    {
     "output_type": "execute_result",
     "data": {
      "text/plain": "Phase: Bottleneck Computation, Dataset used:      Train, Image Index: 176"
     },
     "execution_count": 1,
     "metadata": {}
    },
    {
     "output_type": "execute_result",
     "data": {
      "text/plain": "Phase: Bottleneck Computation, Dataset used:      Train, Image Index: 177"
     },
     "execution_count": 1,
     "metadata": {}
    },
    {
     "output_type": "execute_result",
     "data": {
      "text/plain": "Phase: Bottleneck Computation, Dataset used:      Train, Image Index: 178"
     },
     "execution_count": 1,
     "metadata": {}
    },
    {
     "output_type": "execute_result",
     "data": {
      "text/plain": "Phase: Bottleneck Computation, Dataset used:      Train, Image Index: 179"
     },
     "execution_count": 1,
     "metadata": {}
    },
    {
     "output_type": "execute_result",
     "data": {
      "text/plain": "Phase: Bottleneck Computation, Dataset used:      Train, Image Index: 180"
     },
     "execution_count": 1,
     "metadata": {}
    },
    {
     "output_type": "execute_result",
     "data": {
      "text/plain": "Phase: Bottleneck Computation, Dataset used:      Train, Image Index: 181"
     },
     "execution_count": 1,
     "metadata": {}
    },
    {
     "output_type": "execute_result",
     "data": {
      "text/plain": "Phase: Training, Dataset used: Validation, Batch Processed Count:   4, Epoch:   0, Accuracy:          1, Cross-Entropy: 0,13555433"
     },
     "execution_count": 1,
     "metadata": {}
    },
    {
     "output_type": "execute_result",
     "data": {
      "text/plain": "Phase: Training, Dataset used: Validation, Batch Processed Count:   4, Epoch:   1, Accuracy:          1, Cross-Entropy: 0,09466961"
     },
     "execution_count": 1,
     "metadata": {}
    },
    {
     "output_type": "execute_result",
     "data": {
      "text/plain": "Phase: Training, Dataset used: Validation, Batch Processed Count:   4, Epoch:   2, Accuracy:          1, Cross-Entropy: 0,07911981"
     },
     "execution_count": 1,
     "metadata": {}
    },
    {
     "output_type": "execute_result",
     "data": {
      "text/plain": "Phase: Training, Dataset used: Validation, Batch Processed Count:   4, Epoch:   3, Accuracy:          1, Cross-Entropy: 0,07002884"
     },
     "execution_count": 1,
     "metadata": {}
    },
    {
     "output_type": "execute_result",
     "data": {
      "text/plain": "Phase: Training, Dataset used: Validation, Batch Processed Count:   4, Epoch:   4, Accuracy:          1, Cross-Entropy: 0,06419786"
     },
     "execution_count": 1,
     "metadata": {}
    },
    {
     "output_type": "execute_result",
     "data": {
      "text/plain": "Phase: Training, Dataset used: Validation, Batch Processed Count:   4, Epoch:   5, Accuracy:          1, Cross-Entropy: 0,059857205"
     },
     "execution_count": 1,
     "metadata": {}
    },
    {
     "output_type": "execute_result",
     "data": {
      "text/plain": "Phase: Training, Dataset used: Validation, Batch Processed Count:   4, Epoch:   6, Accuracy:          1, Cross-Entropy: 0,05664449"
     },
     "execution_count": 1,
     "metadata": {}
    },
    {
     "output_type": "execute_result",
     "data": {
      "text/plain": "Phase: Training, Dataset used: Validation, Batch Processed Count:   4, Epoch:   7, Accuracy:          1, Cross-Entropy: 0,054014213"
     },
     "execution_count": 1,
     "metadata": {}
    },
    {
     "output_type": "execute_result",
     "data": {
      "text/plain": "Phase: Training, Dataset used: Validation, Batch Processed Count:   4, Epoch:   8, Accuracy:          1, Cross-Entropy: 0,051930107"
     },
     "execution_count": 1,
     "metadata": {}
    },
    {
     "output_type": "execute_result",
     "data": {
      "text/plain": "Phase: Training, Dataset used: Validation, Batch Processed Count:   4, Epoch:   9, Accuracy:          1, Cross-Entropy: 0,05013425"
     },
     "execution_count": 1,
     "metadata": {}
    },
    {
     "output_type": "execute_result",
     "data": {
      "text/plain": "Phase: Training, Dataset used: Validation, Batch Processed Count:   4, Epoch:  10, Accuracy:          1, Cross-Entropy: 0,04865344"
     },
     "execution_count": 1,
     "metadata": {}
    },
    {
     "output_type": "execute_result",
     "data": {
      "text/plain": "Phase: Training, Dataset used: Validation, Batch Processed Count:   4, Epoch:  11, Accuracy:          1, Cross-Entropy: 0,047335986"
     },
     "execution_count": 1,
     "metadata": {}
    },
    {
     "output_type": "execute_result",
     "data": {
      "text/plain": "Phase: Training, Dataset used: Validation, Batch Processed Count:   4, Epoch:  12, Accuracy:          1, Cross-Entropy: 0,046220914"
     },
     "execution_count": 1,
     "metadata": {}
    },
    {
     "output_type": "execute_result",
     "data": {
      "text/plain": "Phase: Training, Dataset used: Validation, Batch Processed Count:   4, Epoch:  13, Accuracy:          1, Cross-Entropy: 0,045207027"
     },
     "execution_count": 1,
     "metadata": {}
    },
    {
     "output_type": "execute_result",
     "data": {
      "text/plain": "Phase: Training, Dataset used: Validation, Batch Processed Count:   4, Epoch:  14, Accuracy:          1, Cross-Entropy: 0,044332936"
     },
     "execution_count": 1,
     "metadata": {}
    },
    {
     "output_type": "execute_result",
     "data": {
      "text/plain": "Phase: Training, Dataset used: Validation, Batch Processed Count:   4, Epoch:  15, Accuracy:          1, Cross-Entropy: 0,043525517"
     },
     "execution_count": 1,
     "metadata": {}
    },
    {
     "output_type": "execute_result",
     "data": {
      "text/plain": "Phase: Training, Dataset used: Validation, Batch Processed Count:   4, Epoch:  16, Accuracy:          1, Cross-Entropy: 0,042819917"
     },
     "execution_count": 1,
     "metadata": {}
    },
    {
     "output_type": "execute_result",
     "data": {
      "text/plain": "Phase: Training, Dataset used: Validation, Batch Processed Count:   4, Epoch:  17, Accuracy:          1, Cross-Entropy: 0,04216031"
     },
     "execution_count": 1,
     "metadata": {}
    },
    {
     "output_type": "execute_result",
     "data": {
      "text/plain": "Phase: Training, Dataset used: Validation, Batch Processed Count:   4, Epoch:  18, Accuracy:          1, Cross-Entropy: 0,041577764"
     },
     "execution_count": 1,
     "metadata": {}
    },
    {
     "output_type": "execute_result",
     "data": {
      "text/plain": "Phase: Training, Dataset used: Validation, Batch Processed Count:   4, Epoch:  19, Accuracy:          1, Cross-Entropy: 0,04102814"
     },
     "execution_count": 1,
     "metadata": {}
    },
    {
     "output_type": "execute_result",
     "data": {
      "text/plain": "Phase: Training, Dataset used: Validation, Batch Processed Count:   4, Epoch:  20, Accuracy:          1, Cross-Entropy: 0,04053869"
     },
     "execution_count": 1,
     "metadata": {}
    },
    {
     "output_type": "execute_result",
     "data": {
      "text/plain": "Saver not created because there are no variables in the graph to restore\r\n"
     },
     "execution_count": 1,
     "metadata": {}
    },
    {
     "output_type": "execute_result",
     "data": {
      "text/plain": "Restoring parameters from C:\\Users\\grego\\source\\repos\\IsItKrampus.NET\\workspace\\custom_retrained_model_based_on_inception_v3.meta\r\n"
     },
     "execution_count": 1,
     "metadata": {}
    },
    {
     "output_type": "execute_result",
     "data": {
      "text/plain": "Froze 2 variables.\r\n"
     },
     "execution_count": 1,
     "metadata": {}
    },
    {
     "output_type": "execute_result",
     "data": {
      "text/plain": "Converted 2 variables to const ops.\r\n"
     },
     "execution_count": 1,
     "metadata": {}
    }
   ]
  },
  {
   "cell_type": "code",
   "execution_count": 1,
   "metadata": {},
   "source": [
    "#!fsharp\n",
    "let predictions = trainedModel.Transform testSet"
   ],
   "outputs": []
  },
  {
   "cell_type": "code",
   "execution_count": 1,
   "metadata": {},
   "source": [
    "#!fsharp\n",
    "let metrics = mlContext.MulticlassClassification.Evaluate(predictions, labelColumnName = \"LabelAsKey\")"
   ],
   "outputs": []
  },
  {
   "cell_type": "code",
   "execution_count": 1,
   "metadata": {},
   "source": [
    "#!fsharp\n",
    "display $\"Micro Accuracy: %f{metrics.MicroAccuracy} Macro Accuracy: %f{metrics.MacroAccuracy} Log Loss: %f{metrics.LogLoss}\""
   ],
   "outputs": [
    {
     "output_type": "execute_result",
     "data": {
      "text/plain": "Micro Accuracy: 1.000000 Macro Accuracy: 1.000000 Log Loss: 0.045728"
     },
     "execution_count": 1,
     "metadata": {}
    }
   ]
  },
  {
   "cell_type": "code",
   "execution_count": 1,
   "metadata": {},
   "source": [
    "#!fsharp\n",
    "metrics"
   ],
   "outputs": [
    {
     "output_type": "execute_result",
     "data": {
      "text/html": "<table><thead><tr><th>LogLoss</th><th>LogLossReduction</th><th>MacroAccuracy</th><th>MicroAccuracy</th><th>TopKAccuracy</th><th>TopKPredictionCount</th><th>PerClassLogLoss</th><th>ConfusionMatrix</th></tr></thead><tbody><tr><td><div class=\"dni-plaintext\">0.04572824016294066</div></td><td><div class=\"dni-plaintext\">0.9560232506312076</div></td><td><div class=\"dni-plaintext\">1</div></td><td><div class=\"dni-plaintext\">1</div></td><td><div class=\"dni-plaintext\">0</div></td><td><div class=\"dni-plaintext\">0</div></td><td><div class=\"dni-plaintext\">[ 0.02148157523929432, 0.028247291261625486, 0.08684823600995559 ]</div></td><td><div class=\"dni-plaintext\">Microsoft.ML.Data.ConfusionMatrix</div></td></tr></tbody></table>"
     },
     "execution_count": 1,
     "metadata": {}
    }
   ]
  },
  {
   "cell_type": "code",
   "execution_count": 1,
   "metadata": {},
   "source": [
    "#!fsharp\n",
    "open MLOps.NET\n",
    "open MLOps.NET.SQLite\n",
    "open MLOps.NET.Storage\n",
    "open MLOps.NET.Extensions\n",
    "\n",
    "let dbFolder = Path.Combine(projectRoot, \"data\", \"mlops-data\")\n",
    "let modelRepo = Path.Combine(dbFolder, \"model-repo\")\n",
    "let dbFile = Path.Combine(dbFolder, \"localmlops.db\")\n",
    "\n",
    "[<Literal>]\n",
    "let experimentName = \"IsItKrampus.NET\"\n",
    "\n",
    "let mlOps =\n",
    "    MLOpsBuilder()\n",
    "        .UseSQLite(dbFile)\n",
    "        .UseLocalFileModelRepository(modelRepo)\n",
    "        .Build()"
   ],
   "outputs": []
  },
  {
   "cell_type": "code",
   "execution_count": 1,
   "metadata": {},
   "source": [
    "#!fsharp\n",
    "open System.Threading.Tasks\n",
    "\n",
    "let doSync (task: Task<'a>) =\n",
    "    task\n",
    "    |> Async.AwaitTask\n",
    "    |> Async.RunSynchronously\n",
    "\n",
    "let doSyncUnit (task: Task) =\n",
    "    task\n",
    "    |> Async.AwaitTask\n",
    "    |> Async.RunSynchronously"
   ],
   "outputs": []
  },
  {
   "cell_type": "code",
   "execution_count": 1,
   "metadata": {},
   "source": [
    "#!fsharp\n",
    "let run =\n",
    "    mlOps.LifeCycle.CreateRunAsync(experimentName)\n",
    "    |> doSync"
   ],
   "outputs": []
  },
  {
   "cell_type": "code",
   "execution_count": 1,
   "metadata": {},
   "source": [
    "#!fsharp\n",
    "let modelDir = Path.Combine(projectRoot, \"models\")\n",
    "let modelPath = Path.Combine(modelDir, \"model.zip\")\n",
    "mlContext.Model.Save(trainedModel, preProcessedData.Schema, modelPath)"
   ],
   "outputs": []
  },
  {
   "cell_type": "code",
   "execution_count": 1,
   "metadata": {},
   "source": [
    "#!fsharp\n",
    "mlOps.Data.LogDataAsync(run.RunId, imageData)\n",
    "|> doSyncUnit\n",
    "\n",
    "mlOps.Training.LogHyperParametersAsync(run.RunId, trainedModel)\n",
    "|> doSyncUnit\n",
    "\n",
    "mlOps.Evaluation.LogConfusionMatrixAsync(run.RunId, metrics.ConfusionMatrix)\n",
    "|> doSyncUnit\n",
    "\n",
    "mlOps.Evaluation.LogMetricsAsync(run.RunId, metrics)\n",
    "|> doSyncUnit"
   ],
   "outputs": []
  },
  {
   "cell_type": "code",
   "execution_count": 1,
   "metadata": {},
   "source": [
    "#!fsharp\n",
    "let runArtifact =\n",
    "    mlOps.Model.UploadAsync(run.RunId, Path.Combine(modelPath))\n",
    "    |> doSync\n",
    "\n",
    "let registeredModel =\n",
    "    mlOps.Model.RegisterModel(run.ExperimentId, runArtifact.RunArtifactId, \"@GBeyerle\")\n",
    "    |> doSync"
   ],
   "outputs": []
  },
  {
   "cell_type": "code",
   "execution_count": 1,
   "metadata": {},
   "source": [
    "#!fsharp\n",
    "let mutable predictionPipelineSchema : DataViewSchema = null\n",
    "let loadedModel = mlContext.Model.Load(modelPath, &predictionPipelineSchema)"
   ],
   "outputs": []
  },
  {
   "cell_type": "code",
   "execution_count": 1,
   "metadata": {},
   "source": [
    "#!fsharp\n",
    "let predictionEngine = mlContext.Model.CreatePredictionEngine<ModelInput, ModelOutput>(loadedModel)"
   ],
   "outputs": []
  },
  {
   "cell_type": "code",
   "execution_count": 1,
   "metadata": {},
   "source": [
    "#!fsharp\n",
    "let getRandom (a: 'a array) =\n",
    "    let rnd = System.Random()\n",
    "    let idx = rnd.Next(0, Array.length a - 1)\n",
    "    a.[idx]\n",
    "\n",
    "let image =\n",
    "    loadImagesFromPreparedDir()\n",
    "    |> getRandom\n",
    "    |> fun i -> Path.Combine(prepDir, i.ImagePath)\n",
    "    |> File.ReadAllBytes\n",
    "\n",
    "let base64 = Convert.ToBase64String image\n",
    "\n",
    "DisplayFunctions.HTML $\"<img src=\\\"data:image/png;base64,{base64}\\\"></img>\""
   ],
   "outputs": [
    {
     "output_type": "execute_result",
     "data": {
      "text/html": "<img src=\"data:image/png;base64,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\"></img>"
     },
     "execution_count": 1,
     "metadata": {}
    }
   ]
  },
  {
   "cell_type": "code",
   "execution_count": 1,
   "metadata": {},
   "source": [
    "#!fsharp\n",
    "let input : ModelInput =\n",
    "    { Image = image\n",
    "      Label = null }\n",
    "\n",
    "let output = predictionEngine.Predict input\n",
    "\n",
    "output"
   ],
   "outputs": [
    {
     "output_type": "execute_result",
     "data": {
      "text/html": "<table><thead><tr><th>Image</th><th>Label</th><th>PredictedLabel</th></tr></thead><tbody><tr><td><div class=\"dni-plaintext\">[ 255, 216, 255, 224, 0, 16, 74, 70, 73, 70, 0, 1, 1, 0, 0, 1, 0, 1, 0, 0 ... (17469 more) ]</div></td><td></td><td><div class=\"dni-plaintext\">Other</div></td></tr></tbody></table>"
     },
     "execution_count": 1,
     "metadata": {}
    }
   ]
  },
  {
   "cell_type": "code",
   "execution_count": 1,
   "metadata": {},
   "source": [
    "#!fsharp\n",
    "let predictedOutputs = mlContext.Data.CreateEnumerable<ModelOutput>(predictions, reuseRowObject = false)\n",
    "\n",
    "predictedOutputs"
   ],
   "outputs": [
    {
     "output_type": "execute_result",
     "data": {
      "text/html": "<table><thead><tr><th><i>index</i></th><th>Image</th><th>Label</th><th>PredictedLabel</th></tr></thead><tbody><tr><td>0</td><td><div class=\"dni-plaintext\">[ 255, 216, 255, 224, 0, 16, 74, 70, 73, 70, 0, 1, 1, 1, 0, 96, 0, 96, 0, 0 ... (15369 more) ]</div></td><td><div class=\"dni-plaintext\">Other</div></td><td><div class=\"dni-plaintext\">Other</div></td></tr><tr><td>1</td><td><div class=\"dni-plaintext\">[ 255, 216, 255, 224, 0, 16, 74, 70, 73, 70, 0, 1, 1, 0, 0, 1, 0, 1, 0, 0 ... (26249 more) ]</div></td><td><div class=\"dni-plaintext\">Santa</div></td><td><div class=\"dni-plaintext\">Santa</div></td></tr><tr><td>2</td><td><div class=\"dni-plaintext\">[ 255, 216, 255, 224, 0, 16, 74, 70, 73, 70, 0, 1, 1, 1, 0, 96, 0, 96, 0, 0 ... (26363 more) ]</div></td><td><div class=\"dni-plaintext\">Krampus</div></td><td><div class=\"dni-plaintext\">Krampus</div></td></tr><tr><td>3</td><td><div class=\"dni-plaintext\">[ 255, 216, 255, 224, 0, 16, 74, 70, 73, 70, 0, 1, 1, 1, 1, 44, 1, 44, 0, 0 ... (24657 more) ]</div></td><td><div class=\"dni-plaintext\">Other</div></td><td><div class=\"dni-plaintext\">Other</div></td></tr><tr><td>4</td><td><div class=\"dni-plaintext\">[ 255, 216, 255, 224, 0, 16, 74, 70, 73, 70, 0, 1, 1, 0, 0, 1, 0, 1, 0, 0 ... (15327 more) ]</div></td><td><div class=\"dni-plaintext\">Santa</div></td><td><div class=\"dni-plaintext\">Santa</div></td></tr><tr><td>5</td><td><div class=\"dni-plaintext\">[ 255, 216, 255, 224, 0, 16, 74, 70, 73, 70, 0, 1, 1, 0, 0, 1, 0, 1, 0, 0 ... (22257 more) ]</div></td><td><div class=\"dni-plaintext\">Santa</div></td><td><div class=\"dni-plaintext\">Santa</div></td></tr><tr><td>6</td><td><div class=\"dni-plaintext\">[ 255, 216, 255, 224, 0, 16, 74, 70, 73, 70, 0, 1, 1, 1, 1, 44, 1, 44, 0, 0 ... (18200 more) ]</div></td><td><div class=\"dni-plaintext\">Other</div></td><td><div class=\"dni-plaintext\">Other</div></td></tr><tr><td>7</td><td><div class=\"dni-plaintext\">[ 255, 216, 255, 224, 0, 16, 74, 70, 73, 70, 0, 1, 1, 1, 0, 96, 0, 96, 0, 0 ... (96533 more) ]</div></td><td><div class=\"dni-plaintext\">Other</div></td><td><div class=\"dni-plaintext\">Other</div></td></tr><tr><td>8</td><td><div class=\"dni-plaintext\">[ 255, 216, 255, 224, 0, 16, 74, 70, 73, 70, 0, 1, 1, 1, 0, 96, 0, 96, 0, 0 ... (115454 more) ]</div></td><td><div class=\"dni-plaintext\">Krampus</div></td><td><div class=\"dni-plaintext\">Krampus</div></td></tr><tr><td>9</td><td><div class=\"dni-plaintext\">[ 255, 216, 255, 224, 0, 16, 74, 70, 73, 70, 0, 1, 1, 0, 0, 1, 0, 1, 0, 0 ... (14928 more) ]</div></td><td><div class=\"dni-plaintext\">Santa</div></td><td><div class=\"dni-plaintext\">Santa</div></td></tr><tr><td>10</td><td><div class=\"dni-plaintext\">[ 255, 216, 255, 224, 0, 16, 74, 70, 73, 70, 0, 1, 1, 1, 0, 72, 0, 72, 0, 0 ... (33791 more) ]</div></td><td><div class=\"dni-plaintext\">Other</div></td><td><div class=\"dni-plaintext\">Other</div></td></tr><tr><td>11</td><td><div class=\"dni-plaintext\">[ 255, 216, 255, 224, 0, 16, 74, 70, 73, 70, 0, 1, 1, 1, 0, 72, 0, 72, 0, 0 ... (88954 more) ]</div></td><td><div class=\"dni-plaintext\">Other</div></td><td><div class=\"dni-plaintext\">Other</div></td></tr><tr><td>12</td><td><div class=\"dni-plaintext\">[ 255, 216, 255, 224, 0, 16, 74, 70, 73, 70, 0, 1, 1, 2, 0, 37, 0, 37, 0, 0 ... (13130 more) ]</div></td><td><div class=\"dni-plaintext\">Santa</div></td><td><div class=\"dni-plaintext\">Santa</div></td></tr><tr><td>13</td><td><div class=\"dni-plaintext\">[ 255, 216, 255, 224, 0, 16, 74, 70, 73, 70, 0, 1, 1, 1, 0, 72, 0, 72, 0, 0 ... (21317 more) ]</div></td><td><div class=\"dni-plaintext\">Krampus</div></td><td><div class=\"dni-plaintext\">Krampus</div></td></tr><tr><td>14</td><td><div class=\"dni-plaintext\">[ 255, 216, 255, 224, 0, 16, 74, 70, 73, 70, 0, 1, 1, 0, 0, 1, 0, 1, 0, 0 ... (27745 more) ]</div></td><td><div class=\"dni-plaintext\">Santa</div></td><td><div class=\"dni-plaintext\">Santa</div></td></tr><tr><td>15</td><td><div class=\"dni-plaintext\">[ 255, 216, 255, 224, 0, 16, 74, 70, 73, 70, 0, 1, 1, 0, 0, 1, 0, 1, 0, 0 ... (17632 more) ]</div></td><td><div class=\"dni-plaintext\">Other</div></td><td><div class=\"dni-plaintext\">Other</div></td></tr><tr><td>16</td><td><div class=\"dni-plaintext\">[ 255, 216, 255, 224, 0, 16, 74, 70, 73, 70, 0, 1, 1, 1, 0, 72, 0, 72, 0, 0 ... (17528 more) ]</div></td><td><div class=\"dni-plaintext\">Other</div></td><td><div class=\"dni-plaintext\">Other</div></td></tr><tr><td>17</td><td><div class=\"dni-plaintext\">[ 255, 216, 255, 224, 0, 16, 74, 70, 73, 70, 0, 1, 1, 0, 0, 1, 0, 1, 0, 0 ... (25800 more) ]</div></td><td><div class=\"dni-plaintext\">Krampus</div></td><td><div class=\"dni-plaintext\">Krampus</div></td></tr><tr><td>18</td><td><div class=\"dni-plaintext\">[ 255, 216, 255, 224, 0, 16, 74, 70, 73, 70, 0, 1, 1, 1, 1, 44, 1, 44, 0, 0 ... (13028 more) ]</div></td><td><div class=\"dni-plaintext\">Santa</div></td><td><div class=\"dni-plaintext\">Santa</div></td></tr><tr><td>19</td><td><div class=\"dni-plaintext\">[ 255, 216, 255, 224, 0, 16, 74, 70, 73, 70, 0, 1, 1, 1, 1, 44, 1, 44, 0, 0 ... (31635 more) ]</div></td><td><div class=\"dni-plaintext\">Santa</div></td><td><div class=\"dni-plaintext\">Santa</div></td></tr><tr><td colspan=\"4\">(17 more)</td></tr></tbody></table>"
     },
     "execution_count": 1,
     "metadata": {}
    }
   ]
  }
 ],
 "metadata": {
  "kernelspec": {
   "display_name": ".NET (C#)",
   "language": "C#",
   "name": ".net-csharp"
  },
  "language_info": {
   "file_extension": ".cs",
   "mimetype": "text/x-csharp",
   "name": "C#",
   "pygments_lexer": "csharp",
   "version": "8.0"
  }
 },
 "nbformat": 4,
 "nbformat_minor": 4
}