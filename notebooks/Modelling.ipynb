{
 "cells": [
  {
   "cell_type": "code",
   "execution_count": 1,
   "metadata": {},
   "source": [
    "#!fsharp\n",
    "#r \"nuget: Microsoft.ML.ImageAnalytics, 1.5.2\"\n",
    "#r \"nuget: Microsoft.ML.Vision, 1.5.2\"\n",
    "#r \"nuget: SciSharp.TensorFlow.Redist, 2.3.1\"\n",
    "#r \"nuget: SixLabors.ImageSharp, 1.0.2\""
   ],
   "outputs": [
    {
     "output_type": "execute_result",
     "data": {
      "text/plain": "Installed package SixLabors.ImageSharp version 1.0.2"
     },
     "execution_count": 1,
     "metadata": {}
    },
    {
     "output_type": "execute_result",
     "data": {
      "text/plain": "Installed package Microsoft.ML.Vision version 1.5.2"
     },
     "execution_count": 1,
     "metadata": {}
    },
    {
     "output_type": "execute_result",
     "data": {
      "text/plain": "Installed package Microsoft.ML.ImageAnalytics version 1.5.2"
     },
     "execution_count": 1,
     "metadata": {}
    },
    {
     "output_type": "execute_result",
     "data": {
      "text/plain": "Installed package SciSharp.TensorFlow.Redist version 2.3.1"
     },
     "execution_count": 1,
     "metadata": {}
    }
   ]
  },
  {
   "cell_type": "code",
   "execution_count": 1,
   "metadata": {},
   "source": [
    "#!fsharp\n",
    "open System\n",
    "open System.IO\n",
    "open Microsoft.ML\n",
    "open Microsoft.ML.Vision\n",
    "open SixLabors.ImageSharp\n",
    "open SixLabors.ImageSharp.Processing"
   ],
   "outputs": []
  },
  {
   "cell_type": "code",
   "execution_count": 1,
   "metadata": {},
   "source": [
    "#!fsharp\n",
    "let testImage = \"/home/gregor/source/repos/IsItKrampus.NET/data/raw/dog_test_image.jpeg\"\n",
    "let testImageTarget = \"/home/gregor/source/repos/IsItKrampus.NET/data/prepared/dog_test_image.jpg\"\n",
    "\n",
    "let cropAndResizeImage () =\n",
    "    let bytes = File.ReadAllBytes testImage\n",
    "    use image = Image.Load(bytes)\n",
    "\n",
    "    let newImage =\n",
    "        image.Clone(fun i ->\n",
    "            i.Crop(Rectangle(734, 377, 464, 348)).Resize(299, 299)\n",
    "            |> ignore)\n",
    "\n",
    "    newImage.SaveAsJpeg(testImageTarget)\n",
    "\n",
    "cropAndResizeImage ()\n",
    "\n",
    "let croppedBytes = File.ReadAllBytes testImageTarget\n",
    "let base64 = Convert.ToBase64String croppedBytes\n",
    "\n",
    "DisplayFunctions.HTML $\"<img src=\\\"data:image/jpg;base64,{base64}\\\"></img>\"\n",
    ""
   ],
   "outputs": [
    {
     "output_type": "execute_result",
     "data": {
      "text/html": "<img src=\"data:image/jpg;base64,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\"></img>"
     },
     "execution_count": 1,
     "metadata": {}
    }
   ]
  },
  {
   "cell_type": "code",
   "execution_count": 1,
   "metadata": {},
   "source": [
    "#!fsharp\n",
    "type ImageData =\n",
    "    { ImagePath: string\n",
    "      Label: string }\n",
    "\n",
    "type ModelInput =\n",
    "    { Image: byte[]\n",
    "      LabelAsKey: UInt32\n",
    "      Label: string\n",
    "      ImagePath: string }\n",
    "\n",
    "type ModelOutput =\n",
    "    { ImagePath: string\n",
    "      Label: string\n",
    "      PredictedLabel: string }"
   ],
   "outputs": []
  },
  {
   "cell_type": "code",
   "execution_count": 1,
   "metadata": {},
   "source": [
    "#!fsharp\n",
    "[<Literal>]\n",
    "let projectRoot = \"/home/gregor/source/repos/IsItKrampus.NET\"\n",
    "\n",
    "let dataDir = Path.Combine(projectRoot, \"data\", \"prepared\")\n",
    "let workspaceDir = Path.Combine(projectRoot, \"workspace\")"
   ],
   "outputs": []
  },
  {
   "cell_type": "code",
   "execution_count": 1,
   "metadata": {},
   "source": [
    "#!fsharp\n",
    "let mlContext = MLContext(1)"
   ],
   "outputs": []
  },
  {
   "cell_type": "code",
   "execution_count": 1,
   "metadata": {},
   "source": [
    "#!fsharp\n",
    "let imageClassifierOptions =\n",
    "    ImageClassificationTrainer.Options(FeatureColumnName = \"Image\",\n",
    "                                       LabelColumnName = \"LabelAsKey\",\n",
    "                                       ValidationSet = null,\n",
    "                                       Arch = ImageClassificationTrainer.Architecture.InceptionV3)"
   ],
   "outputs": []
  }
 ],
 "metadata": {
  "kernelspec": {
   "display_name": ".NET (C#)",
   "language": "C#",
   "name": ".net-csharp"
  },
  "language_info": {
   "file_extension": ".cs",
   "mimetype": "text/x-csharp",
   "name": "C#",
   "pygments_lexer": "csharp",
   "version": "8.0"
  }
 },
 "nbformat": 4,
 "nbformat_minor": 4
}