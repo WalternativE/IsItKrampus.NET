{
 "cells": [
  {
   "cell_type": "code",
   "execution_count": 1,
   "metadata": {},
   "source": [
    "#!fsharp\n",
    "#r \"nuget: Microsoft.ML.ImageAnalytics, 1.5.4\"\n",
    "#r \"nuget: Microsoft.ML.Vision, 1.5.4\"\n",
    "#r \"nuget: SciSharp.TensorFlow.Redist, 2.3.1\"\n",
    "#r \"nuget: SixLabors.ImageSharp, 1.0.2\""
   ],
   "outputs": [
    {
     "output_type": "execute_result",
     "data": {
      "text/plain": "Installed package Microsoft.ML.Vision version 1.5.4"
     },
     "execution_count": 1,
     "metadata": {}
    },
    {
     "output_type": "execute_result",
     "data": {
      "text/plain": "Installed package Microsoft.ML.ImageAnalytics version 1.5.4"
     },
     "execution_count": 1,
     "metadata": {}
    },
    {
     "output_type": "execute_result",
     "data": {
      "text/plain": "Installed package SixLabors.ImageSharp version 1.0.2"
     },
     "execution_count": 1,
     "metadata": {}
    },
    {
     "output_type": "execute_result",
     "data": {
      "text/plain": "Installed package SciSharp.TensorFlow.Redist version 2.3.1"
     },
     "execution_count": 1,
     "metadata": {}
    }
   ]
  },
  {
   "cell_type": "code",
   "execution_count": 1,
   "metadata": {},
   "source": [
    "#!fsharp\n",
    "open System\n",
    "open System.IO\n",
    "open Microsoft.ML\n",
    "open Microsoft.ML.Vision\n",
    "open Microsoft.ML.Transforms\n",
    "open Microsoft.ML.Data\n",
    "open SixLabors.ImageSharp\n",
    "open SixLabors.ImageSharp.Processing\n",
    "open Microsoft.DotNet.Interactive.FSharp.FSharpKernelHelpers"
   ],
   "outputs": []
  },
  {
   "cell_type": "code",
   "execution_count": 1,
   "metadata": {},
   "source": [
    "#!fsharp\n",
    "type ImageData =\n",
    "    { ImagePath: string\n",
    "      Label: string }\n",
    "\n",
    "[<CLIMutable>]\n",
    "type ImageDataAfterPreprocessing =\n",
    "  { ImagePath: string\n",
    "    Image: byte[]\n",
    "    Label: string\n",
    "    LabelAsKey: UInt32 }\n",
    "\n",
    "[<CLIMutable>]\n",
    "type ModelInput =\n",
    "    { Image: byte[]\n",
    "      Label: string }\n",
    "\n",
    "[<CLIMutable>]\n",
    "type ModelOutput =\n",
    "    { Image: byte[]\n",
    "      Label: string\n",
    "      PredictedLabel: string }"
   ],
   "outputs": []
  },
  {
   "cell_type": "code",
   "execution_count": 1,
   "metadata": {},
   "source": [
    "#!fsharp\n",
    "[<Literal>]\n",
    "let projectRoot = @\"C:\\Users\\grego\\source\\repos\\IsItKrampus.NET\"\n",
    "\n",
    "let dataDir = Path.Combine(projectRoot, \"data\")\n",
    "let prepDir = Path.Combine(dataDir, \"prepared\")\n",
    "let workspaceDir = Path.Combine(projectRoot, \"workspace\")"
   ],
   "outputs": []
  },
  {
   "cell_type": "code",
   "execution_count": 1,
   "metadata": {},
   "source": [
    "#!fsharp\n",
    "// I want to seed my global MLContext\n",
    "// and my global uniform random generator\n",
    "// to have at least some reproducibility\n",
    "let mlContext = MLContext(1)\n",
    "let rnd = Random(1)"
   ],
   "outputs": []
  },
  {
   "cell_type": "code",
   "execution_count": 1,
   "metadata": {},
   "source": [
    "#!fsharp\n",
    "let loadImagesFromPreparedDir () =\n",
    "    File.ReadAllLines (Path.Combine(dataDir, \"image_prep.csv\"))\n",
    "    |> Array.skip 1\n",
    "    |> Array.map (fun line ->\n",
    "        let parts = line.Split(',')\n",
    "        (parts.[0], parts.[1], bool.Parse parts.[6]))\n",
    "    |> Array.filter (fun (_, _, isIncluded) -> isIncluded)\n",
    "    |> Array.map (fun (fileName, label, _) ->\n",
    "        { ImagePath = fileName\n",
    "          Label = label })"
   ],
   "outputs": []
  },
  {
   "cell_type": "code",
   "execution_count": 1,
   "metadata": {},
   "source": [
    "#!fsharp\n",
    "let imageData = mlContext.Data.LoadFromEnumerable(loadImagesFromPreparedDir())\n",
    "let shuffledData = mlContext.Data.ShuffleRows(imageData)"
   ],
   "outputs": []
  },
  {
   "cell_type": "code",
   "execution_count": 1,
   "metadata": {},
   "source": [
    "#!fsharp\n",
    "let preprocessingPipeline =\n",
    "    EstimatorChain()\n",
    "        .Append(mlContext.Transforms.Conversion.MapValueToKey(inputColumnName = \"Label\",\n",
    "                                                  outputColumnName = \"LabelAsKey\",\n",
    "                                                  keyOrdinality = ValueToKeyMappingEstimator.KeyOrdinality.ByValue))\n",
    "        .Append(mlContext.Transforms\n",
    "            .LoadRawImageBytes(outputColumnName = \"Image\",\n",
    "                               imageFolder = prepDir,\n",
    "                               inputColumnName = \"ImagePath\"))"
   ],
   "outputs": []
  },
  {
   "cell_type": "code",
   "execution_count": 1,
   "metadata": {},
   "source": [
    "#!fsharp\n",
    "let preProcessedData =\n",
    "    preprocessingPipeline.Fit(shuffledData)\n",
    "        .Transform(shuffledData)"
   ],
   "outputs": []
  },
  {
   "cell_type": "code",
   "execution_count": 1,
   "metadata": {},
   "source": [
    "#!fsharp\n",
    "let trainSplit = mlContext.Data.TrainTestSplit(data = preProcessedData, testFraction = 0.3)\n",
    "// I need a bigger test fraction because my dataset is relatively small\n",
    "let validationTestSplit = mlContext.Data.TrainTestSplit(trainSplit.TestSet, testFraction = 0.5)\n",
    "\n",
    "let trainSet = trainSplit.TrainSet;\n",
    "let validationSet = validationTestSplit.TrainSet\n",
    "let testSet = validationTestSplit.TestSet"
   ],
   "outputs": []
  },
  {
   "cell_type": "code",
   "execution_count": 1,
   "metadata": {},
   "source": [
    "#!fsharp\n",
    "let turnRight (imgBytes: byte[]) =\n",
    "    use img = Image.Load(imgBytes)\n",
    "\n",
    "    let newImage = img.Clone(fun img -> img.Rotate(90f) |> ignore)\n",
    "\n",
    "    use ms = new MemoryStream()\n",
    "    newImage.SaveAsJpeg(ms)\n",
    "\n",
    "    ms.ToArray()\n",
    "\n",
    "let turnLeft (imgBytes: byte[]) =\n",
    "    use img = Image.Load(imgBytes)\n",
    "\n",
    "    let newImage = img.Clone(fun img -> img.Rotate(-90f) |> ignore)\n",
    "\n",
    "    use ms = new MemoryStream()\n",
    "    newImage.SaveAsJpeg(ms)\n",
    "\n",
    "    ms.ToArray()\n",
    "\n",
    "let flipHorizontally (imgBytes: byte[]) =\n",
    "    use img = Image.Load(imgBytes)\n",
    "\n",
    "    let newImage = img.Clone(fun img -> img.RotateFlip(RotateMode.None, FlipMode.Horizontal) |> ignore)\n",
    "\n",
    "    use ms = new MemoryStream()\n",
    "    newImage.SaveAsJpeg(ms)\n",
    "\n",
    "    ms.ToArray()\n",
    "\n",
    "let grayScale (imgBytes: byte[]) =\n",
    "    use img = Image.Load(imgBytes)\n",
    "\n",
    "    let newImage = img.Clone(fun img -> img.Grayscale() |> ignore)\n",
    "\n",
    "    use ms = new MemoryStream()\n",
    "    newImage.SaveAsJpeg(ms)\n",
    "\n",
    "    ms.ToArray()"
   ],
   "outputs": []
  },
  {
   "cell_type": "code",
   "execution_count": 1,
   "metadata": {},
   "source": [
    "#!fsharp\n",
    "let randomlyAugment (augmentationBase: ImageDataAfterPreprocessing seq) (percentage: float) (augmentation: byte[] -> byte[]) =\n",
    "    let randomIndexesToAugment =\n",
    "        let n = Seq.length augmentationBase\n",
    "        Seq.init (int ((float n) * percentage)) (fun _ -> rnd.Next(0, n - 1))\n",
    "\n",
    "    let pick (idxs: int seq) (s: seq<'a>) =\n",
    "        let arr = Array.ofSeq s\n",
    "        seq { for idx in idxs -> arr.[idx] }\n",
    "\n",
    "    let augmentedImages =\n",
    "        augmentationBase\n",
    "        |> pick randomIndexesToAugment\n",
    "        |> Seq.map (fun img -> { img with Image = augmentation img.Image })\n",
    "\n",
    "    augmentedImages\n",
    "\n",
    "let preprocessedImagesTrainSet = mlContext.Data.CreateEnumerable<ImageDataAfterPreprocessing>(trainSet, reuseRowObject = false)\n",
    "\n",
    "let augmentedImages =\n",
    "    [ turnRight; turnLeft; flipHorizontally; grayScale ]\n",
    "    |> Seq.map (randomlyAugment preprocessedImagesTrainSet 0.1)\n",
    "    |> Seq.concat\n",
    "\n",
    "// hacky hacky hack because Key Column types in ML.NET are weird\n",
    "let postAugmentationPipeline =\n",
    "    mlContext.Transforms.Conversion.MapValueToKey(inputColumnName = \"Label\",\n",
    "                                                  outputColumnName = \"LabelAsKey\",\n",
    "                                                  // super important to use `keyOrdinality` consistently\n",
    "                                                  // otherwise you kill your network performance\n",
    "                                                  keyOrdinality = ValueToKeyMappingEstimator.KeyOrdinality.ByValue)\n",
    "\n",
    "let augmentedTrain =\n",
    "    Seq.concat [ preprocessedImagesTrainSet; augmentedImages ]\n",
    "    |> fun dataset -> mlContext.Data.LoadFromEnumerable(dataset)\n",
    "    |> fun dv -> mlContext.Data.ShuffleRows(dv)\n",
    "    |> fun dv -> postAugmentationPipeline.Fit(dv).Transform(dv)"
   ],
   "outputs": []
  },
  {
   "cell_type": "code",
   "execution_count": 1,
   "metadata": {},
   "source": [
    "#!fsharp\n",
    "let imageClassifierOptions =\n",
    "    ImageClassificationTrainer.Options(FeatureColumnName = \"Image\",\n",
    "                                       LabelColumnName = \"LabelAsKey\",\n",
    "                                       ValidationSet = validationSet,\n",
    "                                       Arch = ImageClassificationTrainer.Architecture.InceptionV3,\n",
    "                                       TestOnTrainSet = false,\n",
    "                                       ReuseTrainSetBottleneckCachedValues = false,\n",
    "                                       ReuseValidationSetBottleneckCachedValues = false,\n",
    "                                       MetricsCallback = (fun metrics -> display $\"%A{metrics}\" |> ignore),\n",
    "                                       WorkspacePath = workspaceDir)"
   ],
   "outputs": []
  },
  {
   "cell_type": "code",
   "execution_count": 1,
   "metadata": {},
   "source": [
    "#!fsharp\n",
    "let trainingPipeline =\n",
    "    EstimatorChain()\n",
    "        .Append(mlContext.MulticlassClassification.Trainers.ImageClassification(imageClassifierOptions))\n",
    "        .Append(mlContext.Transforms.Conversion.MapKeyToValue(\"PredictedLabel\", \"PredictedLabel\"))"
   ],
   "outputs": []
  },
  {
   "cell_type": "code",
   "execution_count": 1,
   "metadata": {},
   "source": [
    "#!fsharp\n",
    "let trainedModel = trainingPipeline.Fit augmentedTrain"
   ],
   "outputs": [
    {
     "output_type": "execute_result",
     "data": {
      "text/plain": "Saver not created because there are no variables in the graph to restore\r\n"
     },
     "execution_count": 1,
     "metadata": {}
    },
    {
     "output_type": "execute_result",
     "data": {
      "text/plain": "Phase: Bottleneck Computation, Dataset used: Validation, Image Index:   1"
     },
     "execution_count": 1,
     "metadata": {}
    },
    {
     "output_type": "execute_result",
     "data": {
      "text/plain": "Phase: Bottleneck Computation, Dataset used: Validation, Image Index:   2"
     },
     "execution_count": 1,
     "metadata": {}
    },
    {
     "output_type": "execute_result",
     "data": {
      "text/plain": "Phase: Bottleneck Computation, Dataset used: Validation, Image Index:   3"
     },
     "execution_count": 1,
     "metadata": {}
    },
    {
     "output_type": "execute_result",
     "data": {
      "text/plain": "Phase: Bottleneck Computation, Dataset used: Validation, Image Index:   4"
     },
     "execution_count": 1,
     "metadata": {}
    },
    {
     "output_type": "execute_result",
     "data": {
      "text/plain": "Phase: Bottleneck Computation, Dataset used: Validation, Image Index:   5"
     },
     "execution_count": 1,
     "metadata": {}
    },
    {
     "output_type": "execute_result",
     "data": {
      "text/plain": "Phase: Bottleneck Computation, Dataset used: Validation, Image Index:   6"
     },
     "execution_count": 1,
     "metadata": {}
    },
    {
     "output_type": "execute_result",
     "data": {
      "text/plain": "Phase: Bottleneck Computation, Dataset used: Validation, Image Index:   7"
     },
     "execution_count": 1,
     "metadata": {}
    },
    {
     "output_type": "execute_result",
     "data": {
      "text/plain": "Phase: Bottleneck Computation, Dataset used: Validation, Image Index:   8"
     },
     "execution_count": 1,
     "metadata": {}
    },
    {
     "output_type": "execute_result",
     "data": {
      "text/plain": "Phase: Bottleneck Computation, Dataset used: Validation, Image Index:   9"
     },
     "execution_count": 1,
     "metadata": {}
    },
    {
     "output_type": "execute_result",
     "data": {
      "text/plain": "Phase: Bottleneck Computation, Dataset used: Validation, Image Index:  10"
     },
     "execution_count": 1,
     "metadata": {}
    },
    {
     "output_type": "execute_result",
     "data": {
      "text/plain": "Phase: Bottleneck Computation, Dataset used: Validation, Image Index:  11"
     },
     "execution_count": 1,
     "metadata": {}
    },
    {
     "output_type": "execute_result",
     "data": {
      "text/plain": "Phase: Bottleneck Computation, Dataset used: Validation, Image Index:  12"
     },
     "execution_count": 1,
     "metadata": {}
    },
    {
     "output_type": "execute_result",
     "data": {
      "text/plain": "Phase: Bottleneck Computation, Dataset used: Validation, Image Index:  13"
     },
     "execution_count": 1,
     "metadata": {}
    },
    {
     "output_type": "execute_result",
     "data": {
      "text/plain": "Phase: Bottleneck Computation, Dataset used: Validation, Image Index:  14"
     },
     "execution_count": 1,
     "metadata": {}
    },
    {
     "output_type": "execute_result",
     "data": {
      "text/plain": "Phase: Bottleneck Computation, Dataset used: Validation, Image Index:  15"
     },
     "execution_count": 1,
     "metadata": {}
    },
    {
     "output_type": "execute_result",
     "data": {
      "text/plain": "Phase: Bottleneck Computation, Dataset used: Validation, Image Index:  16"
     },
     "execution_count": 1,
     "metadata": {}
    },
    {
     "output_type": "execute_result",
     "data": {
      "text/plain": "Phase: Bottleneck Computation, Dataset used: Validation, Image Index:  17"
     },
     "execution_count": 1,
     "metadata": {}
    },
    {
     "output_type": "execute_result",
     "data": {
      "text/plain": "Phase: Bottleneck Computation, Dataset used: Validation, Image Index:  18"
     },
     "execution_count": 1,
     "metadata": {}
    },
    {
     "output_type": "execute_result",
     "data": {
      "text/plain": "Phase: Bottleneck Computation, Dataset used: Validation, Image Index:  19"
     },
     "execution_count": 1,
     "metadata": {}
    },
    {
     "output_type": "execute_result",
     "data": {
      "text/plain": "Phase: Bottleneck Computation, Dataset used: Validation, Image Index:  20"
     },
     "execution_count": 1,
     "metadata": {}
    },
    {
     "output_type": "execute_result",
     "data": {
      "text/plain": "Phase: Bottleneck Computation, Dataset used: Validation, Image Index:  21"
     },
     "execution_count": 1,
     "metadata": {}
    },
    {
     "output_type": "execute_result",
     "data": {
      "text/plain": "Phase: Bottleneck Computation, Dataset used: Validation, Image Index:  22"
     },
     "execution_count": 1,
     "metadata": {}
    },
    {
     "output_type": "execute_result",
     "data": {
      "text/plain": "Phase: Bottleneck Computation, Dataset used: Validation, Image Index:  23"
     },
     "execution_count": 1,
     "metadata": {}
    },
    {
     "output_type": "execute_result",
     "data": {
      "text/plain": "Phase: Bottleneck Computation, Dataset used: Validation, Image Index:  24"
     },
     "execution_count": 1,
     "metadata": {}
    },
    {
     "output_type": "execute_result",
     "data": {
      "text/plain": "Phase: Bottleneck Computation, Dataset used: Validation, Image Index:  25"
     },
     "execution_count": 1,
     "metadata": {}
    },
    {
     "output_type": "execute_result",
     "data": {
      "text/plain": "Phase: Bottleneck Computation, Dataset used: Validation, Image Index:  26"
     },
     "execution_count": 1,
     "metadata": {}
    },
    {
     "output_type": "execute_result",
     "data": {
      "text/plain": "Phase: Bottleneck Computation, Dataset used: Validation, Image Index:  27"
     },
     "execution_count": 1,
     "metadata": {}
    },
    {
     "output_type": "execute_result",
     "data": {
      "text/plain": "Phase: Bottleneck Computation, Dataset used: Validation, Image Index:  28"
     },
     "execution_count": 1,
     "metadata": {}
    },
    {
     "output_type": "execute_result",
     "data": {
      "text/plain": "Phase: Bottleneck Computation, Dataset used: Validation, Image Index:  29"
     },
     "execution_count": 1,
     "metadata": {}
    },
    {
     "output_type": "execute_result",
     "data": {
      "text/plain": "Phase: Bottleneck Computation, Dataset used: Validation, Image Index:  30"
     },
     "execution_count": 1,
     "metadata": {}
    },
    {
     "output_type": "execute_result",
     "data": {
      "text/plain": "Phase: Bottleneck Computation, Dataset used: Validation, Image Index:  31"
     },
     "execution_count": 1,
     "metadata": {}
    },
    {
     "output_type": "execute_result",
     "data": {
      "text/plain": "Phase: Bottleneck Computation, Dataset used: Validation, Image Index:  32"
     },
     "execution_count": 1,
     "metadata": {}
    },
    {
     "output_type": "execute_result",
     "data": {
      "text/plain": "Phase: Bottleneck Computation, Dataset used: Validation, Image Index:  33"
     },
     "execution_count": 1,
     "metadata": {}
    },
    {
     "output_type": "execute_result",
     "data": {
      "text/plain": "Phase: Bottleneck Computation, Dataset used: Validation, Image Index:  34"
     },
     "execution_count": 1,
     "metadata": {}
    },
    {
     "output_type": "execute_result",
     "data": {
      "text/plain": "Phase: Bottleneck Computation, Dataset used: Validation, Image Index:  35"
     },
     "execution_count": 1,
     "metadata": {}
    },
    {
     "output_type": "execute_result",
     "data": {
      "text/plain": "Phase: Bottleneck Computation, Dataset used: Validation, Image Index:  36"
     },
     "execution_count": 1,
     "metadata": {}
    },
    {
     "output_type": "execute_result",
     "data": {
      "text/plain": "Phase: Bottleneck Computation, Dataset used: Validation, Image Index:  37"
     },
     "execution_count": 1,
     "metadata": {}
    },
    {
     "output_type": "execute_result",
     "data": {
      "text/plain": "Phase: Bottleneck Computation, Dataset used: Validation, Image Index:  38"
     },
     "execution_count": 1,
     "metadata": {}
    },
    {
     "output_type": "execute_result",
     "data": {
      "text/plain": "Phase: Bottleneck Computation, Dataset used: Validation, Image Index:  39"
     },
     "execution_count": 1,
     "metadata": {}
    },
    {
     "output_type": "execute_result",
     "data": {
      "text/plain": "Phase: Bottleneck Computation, Dataset used: Validation, Image Index:  40"
     },
     "execution_count": 1,
     "metadata": {}
    },
    {
     "output_type": "execute_result",
     "data": {
      "text/plain": "Phase: Bottleneck Computation, Dataset used: Validation, Image Index:  41"
     },
     "execution_count": 1,
     "metadata": {}
    },
    {
     "output_type": "execute_result",
     "data": {
      "text/plain": "Phase: Bottleneck Computation, Dataset used: Validation, Image Index:  42"
     },
     "execution_count": 1,
     "metadata": {}
    },
    {
     "output_type": "execute_result",
     "data": {
      "text/plain": "Phase: Bottleneck Computation, Dataset used: Validation, Image Index:  43"
     },
     "execution_count": 1,
     "metadata": {}
    },
    {
     "output_type": "execute_result",
     "data": {
      "text/plain": "Phase: Bottleneck Computation, Dataset used: Validation, Image Index:  44"
     },
     "execution_count": 1,
     "metadata": {}
    },
    {
     "output_type": "execute_result",
     "data": {
      "text/plain": "Phase: Bottleneck Computation, Dataset used: Validation, Image Index:  45"
     },
     "execution_count": 1,
     "metadata": {}
    },
    {
     "output_type": "execute_result",
     "data": {
      "text/plain": "Phase: Bottleneck Computation, Dataset used: Validation, Image Index:  46"
     },
     "execution_count": 1,
     "metadata": {}
    },
    {
     "output_type": "execute_result",
     "data": {
      "text/plain": "Phase: Bottleneck Computation, Dataset used: Validation, Image Index:  47"
     },
     "execution_count": 1,
     "metadata": {}
    },
    {
     "output_type": "execute_result",
     "data": {
      "text/plain": "Phase: Bottleneck Computation, Dataset used: Validation, Image Index:  48"
     },
     "execution_count": 1,
     "metadata": {}
    },
    {
     "output_type": "execute_result",
     "data": {
      "text/plain": "Phase: Bottleneck Computation, Dataset used: Validation, Image Index:  49"
     },
     "execution_count": 1,
     "metadata": {}
    },
    {
     "output_type": "execute_result",
     "data": {
      "text/plain": "Phase: Bottleneck Computation, Dataset used: Validation, Image Index:  50"
     },
     "execution_count": 1,
     "metadata": {}
    },
    {
     "output_type": "execute_result",
     "data": {
      "text/plain": "Phase: Bottleneck Computation, Dataset used: Validation, Image Index:  51"
     },
     "execution_count": 1,
     "metadata": {}
    },
    {
     "output_type": "execute_result",
     "data": {
      "text/plain": "Phase: Bottleneck Computation, Dataset used: Validation, Image Index:  52"
     },
     "execution_count": 1,
     "metadata": {}
    },
    {
     "output_type": "execute_result",
     "data": {
      "text/plain": "Phase: Bottleneck Computation, Dataset used: Validation, Image Index:  53"
     },
     "execution_count": 1,
     "metadata": {}
    },
    {
     "output_type": "execute_result",
     "data": {
      "text/plain": "Phase: Bottleneck Computation, Dataset used: Validation, Image Index:  54"
     },
     "execution_count": 1,
     "metadata": {}
    },
    {
     "output_type": "execute_result",
     "data": {
      "text/plain": "Phase: Bottleneck Computation, Dataset used: Validation, Image Index:  55"
     },
     "execution_count": 1,
     "metadata": {}
    },
    {
     "output_type": "execute_result",
     "data": {
      "text/plain": "Phase: Bottleneck Computation, Dataset used: Validation, Image Index:  56"
     },
     "execution_count": 1,
     "metadata": {}
    },
    {
     "output_type": "execute_result",
     "data": {
      "text/plain": "Phase: Bottleneck Computation, Dataset used: Validation, Image Index:  57"
     },
     "execution_count": 1,
     "metadata": {}
    },
    {
     "output_type": "execute_result",
     "data": {
      "text/plain": "Phase: Bottleneck Computation, Dataset used: Validation, Image Index:  58"
     },
     "execution_count": 1,
     "metadata": {}
    },
    {
     "output_type": "execute_result",
     "data": {
      "text/plain": "Phase: Bottleneck Computation, Dataset used: Validation, Image Index:  59"
     },
     "execution_count": 1,
     "metadata": {}
    },
    {
     "output_type": "execute_result",
     "data": {
      "text/plain": "Phase: Bottleneck Computation, Dataset used: Validation, Image Index:  60"
     },
     "execution_count": 1,
     "metadata": {}
    },
    {
     "output_type": "execute_result",
     "data": {
      "text/plain": "Phase: Bottleneck Computation, Dataset used: Validation, Image Index:  61"
     },
     "execution_count": 1,
     "metadata": {}
    },
    {
     "output_type": "execute_result",
     "data": {
      "text/plain": "Phase: Bottleneck Computation, Dataset used: Validation, Image Index:  62"
     },
     "execution_count": 1,
     "metadata": {}
    },
    {
     "output_type": "execute_result",
     "data": {
      "text/plain": "Phase: Bottleneck Computation, Dataset used: Validation, Image Index:  63"
     },
     "execution_count": 1,
     "metadata": {}
    },
    {
     "output_type": "execute_result",
     "data": {
      "text/plain": "Phase: Bottleneck Computation, Dataset used: Validation, Image Index:  64"
     },
     "execution_count": 1,
     "metadata": {}
    },
    {
     "output_type": "execute_result",
     "data": {
      "text/plain": "Phase: Bottleneck Computation, Dataset used: Validation, Image Index:  65"
     },
     "execution_count": 1,
     "metadata": {}
    },
    {
     "output_type": "execute_result",
     "data": {
      "text/plain": "Phase: Bottleneck Computation, Dataset used: Validation, Image Index:  66"
     },
     "execution_count": 1,
     "metadata": {}
    },
    {
     "output_type": "execute_result",
     "data": {
      "text/plain": "Phase: Bottleneck Computation, Dataset used: Validation, Image Index:  67"
     },
     "execution_count": 1,
     "metadata": {}
    },
    {
     "output_type": "execute_result",
     "data": {
      "text/plain": "Phase: Bottleneck Computation, Dataset used: Validation, Image Index:  68"
     },
     "execution_count": 1,
     "metadata": {}
    },
    {
     "output_type": "execute_result",
     "data": {
      "text/plain": "Phase: Bottleneck Computation, Dataset used: Validation, Image Index:  69"
     },
     "execution_count": 1,
     "metadata": {}
    },
    {
     "output_type": "execute_result",
     "data": {
      "text/plain": "Phase: Bottleneck Computation, Dataset used: Validation, Image Index:  70"
     },
     "execution_count": 1,
     "metadata": {}
    },
    {
     "output_type": "execute_result",
     "data": {
      "text/plain": "Phase: Bottleneck Computation, Dataset used: Validation, Image Index:  71"
     },
     "execution_count": 1,
     "metadata": {}
    },
    {
     "output_type": "execute_result",
     "data": {
      "text/plain": "Phase: Bottleneck Computation, Dataset used: Validation, Image Index:  72"
     },
     "execution_count": 1,
     "metadata": {}
    },
    {
     "output_type": "execute_result",
     "data": {
      "text/plain": "Phase: Bottleneck Computation, Dataset used: Validation, Image Index:  73"
     },
     "execution_count": 1,
     "metadata": {}
    },
    {
     "output_type": "execute_result",
     "data": {
      "text/plain": "Phase: Bottleneck Computation, Dataset used: Validation, Image Index:  74"
     },
     "execution_count": 1,
     "metadata": {}
    },
    {
     "output_type": "execute_result",
     "data": {
      "text/plain": "Phase: Bottleneck Computation, Dataset used: Validation, Image Index:  75"
     },
     "execution_count": 1,
     "metadata": {}
    },
    {
     "output_type": "execute_result",
     "data": {
      "text/plain": "Phase: Bottleneck Computation, Dataset used: Validation, Image Index:  76"
     },
     "execution_count": 1,
     "metadata": {}
    },
    {
     "output_type": "execute_result",
     "data": {
      "text/plain": "Phase: Bottleneck Computation, Dataset used: Validation, Image Index:  77"
     },
     "execution_count": 1,
     "metadata": {}
    },
    {
     "output_type": "execute_result",
     "data": {
      "text/plain": "Phase: Bottleneck Computation, Dataset used: Validation, Image Index:  78"
     },
     "execution_count": 1,
     "metadata": {}
    },
    {
     "output_type": "execute_result",
     "data": {
      "text/plain": "Phase: Bottleneck Computation, Dataset used: Validation, Image Index:  79"
     },
     "execution_count": 1,
     "metadata": {}
    },
    {
     "output_type": "execute_result",
     "data": {
      "text/plain": "Phase: Bottleneck Computation, Dataset used: Validation, Image Index:  80"
     },
     "execution_count": 1,
     "metadata": {}
    },
    {
     "output_type": "execute_result",
     "data": {
      "text/plain": "Phase: Bottleneck Computation, Dataset used: Validation, Image Index:  81"
     },
     "execution_count": 1,
     "metadata": {}
    },
    {
     "output_type": "execute_result",
     "data": {
      "text/plain": "Phase: Bottleneck Computation, Dataset used: Validation, Image Index:  82"
     },
     "execution_count": 1,
     "metadata": {}
    },
    {
     "output_type": "execute_result",
     "data": {
      "text/plain": "Phase: Bottleneck Computation, Dataset used: Validation, Image Index:  83"
     },
     "execution_count": 1,
     "metadata": {}
    },
    {
     "output_type": "execute_result",
     "data": {
      "text/plain": "Phase: Bottleneck Computation, Dataset used: Validation, Image Index:  84"
     },
     "execution_count": 1,
     "metadata": {}
    },
    {
     "output_type": "execute_result",
     "data": {
      "text/plain": "Phase: Bottleneck Computation, Dataset used: Validation, Image Index:  85"
     },
     "execution_count": 1,
     "metadata": {}
    },
    {
     "output_type": "execute_result",
     "data": {
      "text/plain": "Phase: Bottleneck Computation, Dataset used: Validation, Image Index:  86"
     },
     "execution_count": 1,
     "metadata": {}
    },
    {
     "output_type": "execute_result",
     "data": {
      "text/plain": "Phase: Bottleneck Computation, Dataset used: Validation, Image Index:  87"
     },
     "execution_count": 1,
     "metadata": {}
    },
    {
     "output_type": "execute_result",
     "data": {
      "text/plain": "Phase: Bottleneck Computation, Dataset used: Validation, Image Index:  88"
     },
     "execution_count": 1,
     "metadata": {}
    },
    {
     "output_type": "execute_result",
     "data": {
      "text/plain": "Phase: Bottleneck Computation, Dataset used: Validation, Image Index:  89"
     },
     "execution_count": 1,
     "metadata": {}
    },
    {
     "output_type": "execute_result",
     "data": {
      "text/plain": "Phase: Bottleneck Computation, Dataset used: Validation, Image Index:  90"
     },
     "execution_count": 1,
     "metadata": {}
    },
    {
     "output_type": "execute_result",
     "data": {
      "text/plain": "Phase: Bottleneck Computation, Dataset used: Validation, Image Index:  91"
     },
     "execution_count": 1,
     "metadata": {}
    },
    {
     "output_type": "execute_result",
     "data": {
      "text/plain": "Phase: Bottleneck Computation, Dataset used: Validation, Image Index:  92"
     },
     "execution_count": 1,
     "metadata": {}
    },
    {
     "output_type": "execute_result",
     "data": {
      "text/plain": "Phase: Bottleneck Computation, Dataset used:      Train, Image Index:   1"
     },
     "execution_count": 1,
     "metadata": {}
    },
    {
     "output_type": "execute_result",
     "data": {
      "text/plain": "Phase: Bottleneck Computation, Dataset used:      Train, Image Index:   2"
     },
     "execution_count": 1,
     "metadata": {}
    },
    {
     "output_type": "execute_result",
     "data": {
      "text/plain": "Phase: Bottleneck Computation, Dataset used:      Train, Image Index:   3"
     },
     "execution_count": 1,
     "metadata": {}
    },
    {
     "output_type": "execute_result",
     "data": {
      "text/plain": "Phase: Bottleneck Computation, Dataset used:      Train, Image Index:   4"
     },
     "execution_count": 1,
     "metadata": {}
    },
    {
     "output_type": "execute_result",
     "data": {
      "text/plain": "Phase: Bottleneck Computation, Dataset used:      Train, Image Index:   5"
     },
     "execution_count": 1,
     "metadata": {}
    },
    {
     "output_type": "execute_result",
     "data": {
      "text/plain": "Phase: Bottleneck Computation, Dataset used:      Train, Image Index:   6"
     },
     "execution_count": 1,
     "metadata": {}
    },
    {
     "output_type": "execute_result",
     "data": {
      "text/plain": "Phase: Bottleneck Computation, Dataset used:      Train, Image Index:   7"
     },
     "execution_count": 1,
     "metadata": {}
    },
    {
     "output_type": "execute_result",
     "data": {
      "text/plain": "Phase: Bottleneck Computation, Dataset used:      Train, Image Index:   8"
     },
     "execution_count": 1,
     "metadata": {}
    },
    {
     "output_type": "execute_result",
     "data": {
      "text/plain": "Phase: Bottleneck Computation, Dataset used:      Train, Image Index:   9"
     },
     "execution_count": 1,
     "metadata": {}
    },
    {
     "output_type": "execute_result",
     "data": {
      "text/plain": "Phase: Bottleneck Computation, Dataset used:      Train, Image Index:  10"
     },
     "execution_count": 1,
     "metadata": {}
    },
    {
     "output_type": "execute_result",
     "data": {
      "text/plain": "Phase: Bottleneck Computation, Dataset used:      Train, Image Index:  11"
     },
     "execution_count": 1,
     "metadata": {}
    },
    {
     "output_type": "execute_result",
     "data": {
      "text/plain": "Phase: Bottleneck Computation, Dataset used:      Train, Image Index:  12"
     },
     "execution_count": 1,
     "metadata": {}
    },
    {
     "output_type": "execute_result",
     "data": {
      "text/plain": "Phase: Bottleneck Computation, Dataset used:      Train, Image Index:  13"
     },
     "execution_count": 1,
     "metadata": {}
    },
    {
     "output_type": "execute_result",
     "data": {
      "text/plain": "Phase: Bottleneck Computation, Dataset used:      Train, Image Index:  14"
     },
     "execution_count": 1,
     "metadata": {}
    },
    {
     "output_type": "execute_result",
     "data": {
      "text/plain": "Phase: Bottleneck Computation, Dataset used:      Train, Image Index:  15"
     },
     "execution_count": 1,
     "metadata": {}
    },
    {
     "output_type": "execute_result",
     "data": {
      "text/plain": "Phase: Bottleneck Computation, Dataset used:      Train, Image Index:  16"
     },
     "execution_count": 1,
     "metadata": {}
    },
    {
     "output_type": "execute_result",
     "data": {
      "text/plain": "Phase: Bottleneck Computation, Dataset used:      Train, Image Index:  17"
     },
     "execution_count": 1,
     "metadata": {}
    },
    {
     "output_type": "execute_result",
     "data": {
      "text/plain": "Phase: Bottleneck Computation, Dataset used:      Train, Image Index:  18"
     },
     "execution_count": 1,
     "metadata": {}
    },
    {
     "output_type": "execute_result",
     "data": {
      "text/plain": "Phase: Bottleneck Computation, Dataset used:      Train, Image Index:  19"
     },
     "execution_count": 1,
     "metadata": {}
    },
    {
     "output_type": "execute_result",
     "data": {
      "text/plain": "Phase: Bottleneck Computation, Dataset used:      Train, Image Index:  20"
     },
     "execution_count": 1,
     "metadata": {}
    },
    {
     "output_type": "execute_result",
     "data": {
      "text/plain": "Phase: Bottleneck Computation, Dataset used:      Train, Image Index:  21"
     },
     "execution_count": 1,
     "metadata": {}
    },
    {
     "output_type": "execute_result",
     "data": {
      "text/plain": "Phase: Bottleneck Computation, Dataset used:      Train, Image Index:  22"
     },
     "execution_count": 1,
     "metadata": {}
    },
    {
     "output_type": "execute_result",
     "data": {
      "text/plain": "Phase: Bottleneck Computation, Dataset used:      Train, Image Index:  23"
     },
     "execution_count": 1,
     "metadata": {}
    },
    {
     "output_type": "execute_result",
     "data": {
      "text/plain": "Phase: Bottleneck Computation, Dataset used:      Train, Image Index:  24"
     },
     "execution_count": 1,
     "metadata": {}
    },
    {
     "output_type": "execute_result",
     "data": {
      "text/plain": "Phase: Bottleneck Computation, Dataset used:      Train, Image Index:  25"
     },
     "execution_count": 1,
     "metadata": {}
    },
    {
     "output_type": "execute_result",
     "data": {
      "text/plain": "Phase: Bottleneck Computation, Dataset used:      Train, Image Index:  26"
     },
     "execution_count": 1,
     "metadata": {}
    },
    {
     "output_type": "execute_result",
     "data": {
      "text/plain": "Phase: Bottleneck Computation, Dataset used:      Train, Image Index:  27"
     },
     "execution_count": 1,
     "metadata": {}
    },
    {
     "output_type": "execute_result",
     "data": {
      "text/plain": "Phase: Bottleneck Computation, Dataset used:      Train, Image Index:  28"
     },
     "execution_count": 1,
     "metadata": {}
    },
    {
     "output_type": "execute_result",
     "data": {
      "text/plain": "Phase: Bottleneck Computation, Dataset used:      Train, Image Index:  29"
     },
     "execution_count": 1,
     "metadata": {}
    },
    {
     "output_type": "execute_result",
     "data": {
      "text/plain": "Phase: Bottleneck Computation, Dataset used:      Train, Image Index:  30"
     },
     "execution_count": 1,
     "metadata": {}
    },
    {
     "output_type": "execute_result",
     "data": {
      "text/plain": "Phase: Bottleneck Computation, Dataset used:      Train, Image Index:  31"
     },
     "execution_count": 1,
     "metadata": {}
    },
    {
     "output_type": "execute_result",
     "data": {
      "text/plain": "Phase: Bottleneck Computation, Dataset used:      Train, Image Index:  32"
     },
     "execution_count": 1,
     "metadata": {}
    },
    {
     "output_type": "execute_result",
     "data": {
      "text/plain": "Phase: Bottleneck Computation, Dataset used:      Train, Image Index:  33"
     },
     "execution_count": 1,
     "metadata": {}
    },
    {
     "output_type": "execute_result",
     "data": {
      "text/plain": "Phase: Bottleneck Computation, Dataset used:      Train, Image Index:  34"
     },
     "execution_count": 1,
     "metadata": {}
    },
    {
     "output_type": "execute_result",
     "data": {
      "text/plain": "Phase: Bottleneck Computation, Dataset used:      Train, Image Index:  35"
     },
     "execution_count": 1,
     "metadata": {}
    },
    {
     "output_type": "execute_result",
     "data": {
      "text/plain": "Phase: Bottleneck Computation, Dataset used:      Train, Image Index:  36"
     },
     "execution_count": 1,
     "metadata": {}
    },
    {
     "output_type": "execute_result",
     "data": {
      "text/plain": "Phase: Bottleneck Computation, Dataset used:      Train, Image Index:  37"
     },
     "execution_count": 1,
     "metadata": {}
    },
    {
     "output_type": "execute_result",
     "data": {
      "text/plain": "Phase: Bottleneck Computation, Dataset used:      Train, Image Index:  38"
     },
     "execution_count": 1,
     "metadata": {}
    },
    {
     "output_type": "execute_result",
     "data": {
      "text/plain": "Phase: Bottleneck Computation, Dataset used:      Train, Image Index:  39"
     },
     "execution_count": 1,
     "metadata": {}
    },
    {
     "output_type": "execute_result",
     "data": {
      "text/plain": "Phase: Bottleneck Computation, Dataset used:      Train, Image Index:  40"
     },
     "execution_count": 1,
     "metadata": {}
    },
    {
     "output_type": "execute_result",
     "data": {
      "text/plain": "Phase: Bottleneck Computation, Dataset used:      Train, Image Index:  41"
     },
     "execution_count": 1,
     "metadata": {}
    },
    {
     "output_type": "execute_result",
     "data": {
      "text/plain": "Phase: Bottleneck Computation, Dataset used:      Train, Image Index:  42"
     },
     "execution_count": 1,
     "metadata": {}
    },
    {
     "output_type": "execute_result",
     "data": {
      "text/plain": "Phase: Bottleneck Computation, Dataset used:      Train, Image Index:  43"
     },
     "execution_count": 1,
     "metadata": {}
    },
    {
     "output_type": "execute_result",
     "data": {
      "text/plain": "Phase: Bottleneck Computation, Dataset used:      Train, Image Index:  44"
     },
     "execution_count": 1,
     "metadata": {}
    },
    {
     "output_type": "execute_result",
     "data": {
      "text/plain": "Phase: Bottleneck Computation, Dataset used:      Train, Image Index:  45"
     },
     "execution_count": 1,
     "metadata": {}
    },
    {
     "output_type": "execute_result",
     "data": {
      "text/plain": "Phase: Bottleneck Computation, Dataset used:      Train, Image Index:  46"
     },
     "execution_count": 1,
     "metadata": {}
    },
    {
     "output_type": "execute_result",
     "data": {
      "text/plain": "Phase: Bottleneck Computation, Dataset used:      Train, Image Index:  47"
     },
     "execution_count": 1,
     "metadata": {}
    },
    {
     "output_type": "execute_result",
     "data": {
      "text/plain": "Phase: Bottleneck Computation, Dataset used:      Train, Image Index:  48"
     },
     "execution_count": 1,
     "metadata": {}
    },
    {
     "output_type": "execute_result",
     "data": {
      "text/plain": "Phase: Bottleneck Computation, Dataset used:      Train, Image Index:  49"
     },
     "execution_count": 1,
     "metadata": {}
    },
    {
     "output_type": "execute_result",
     "data": {
      "text/plain": "Phase: Bottleneck Computation, Dataset used:      Train, Image Index:  50"
     },
     "execution_count": 1,
     "metadata": {}
    },
    {
     "output_type": "execute_result",
     "data": {
      "text/plain": "Phase: Bottleneck Computation, Dataset used:      Train, Image Index:  51"
     },
     "execution_count": 1,
     "metadata": {}
    },
    {
     "output_type": "execute_result",
     "data": {
      "text/plain": "Phase: Bottleneck Computation, Dataset used:      Train, Image Index:  52"
     },
     "execution_count": 1,
     "metadata": {}
    },
    {
     "output_type": "execute_result",
     "data": {
      "text/plain": "Phase: Bottleneck Computation, Dataset used:      Train, Image Index:  53"
     },
     "execution_count": 1,
     "metadata": {}
    },
    {
     "output_type": "execute_result",
     "data": {
      "text/plain": "Phase: Bottleneck Computation, Dataset used:      Train, Image Index:  54"
     },
     "execution_count": 1,
     "metadata": {}
    },
    {
     "output_type": "execute_result",
     "data": {
      "text/plain": "Phase: Bottleneck Computation, Dataset used:      Train, Image Index:  55"
     },
     "execution_count": 1,
     "metadata": {}
    },
    {
     "output_type": "execute_result",
     "data": {
      "text/plain": "Phase: Bottleneck Computation, Dataset used:      Train, Image Index:  56"
     },
     "execution_count": 1,
     "metadata": {}
    },
    {
     "output_type": "execute_result",
     "data": {
      "text/plain": "Phase: Bottleneck Computation, Dataset used:      Train, Image Index:  57"
     },
     "execution_count": 1,
     "metadata": {}
    },
    {
     "output_type": "execute_result",
     "data": {
      "text/plain": "Phase: Bottleneck Computation, Dataset used:      Train, Image Index:  58"
     },
     "execution_count": 1,
     "metadata": {}
    },
    {
     "output_type": "execute_result",
     "data": {
      "text/plain": "Phase: Bottleneck Computation, Dataset used:      Train, Image Index:  59"
     },
     "execution_count": 1,
     "metadata": {}
    },
    {
     "output_type": "execute_result",
     "data": {
      "text/plain": "Phase: Bottleneck Computation, Dataset used:      Train, Image Index:  60"
     },
     "execution_count": 1,
     "metadata": {}
    },
    {
     "output_type": "execute_result",
     "data": {
      "text/plain": "Phase: Bottleneck Computation, Dataset used:      Train, Image Index:  61"
     },
     "execution_count": 1,
     "metadata": {}
    },
    {
     "output_type": "execute_result",
     "data": {
      "text/plain": "Phase: Bottleneck Computation, Dataset used:      Train, Image Index:  62"
     },
     "execution_count": 1,
     "metadata": {}
    },
    {
     "output_type": "execute_result",
     "data": {
      "text/plain": "Phase: Bottleneck Computation, Dataset used:      Train, Image Index:  63"
     },
     "execution_count": 1,
     "metadata": {}
    },
    {
     "output_type": "execute_result",
     "data": {
      "text/plain": "Phase: Bottleneck Computation, Dataset used:      Train, Image Index:  64"
     },
     "execution_count": 1,
     "metadata": {}
    },
    {
     "output_type": "execute_result",
     "data": {
      "text/plain": "Phase: Bottleneck Computation, Dataset used:      Train, Image Index:  65"
     },
     "execution_count": 1,
     "metadata": {}
    },
    {
     "output_type": "execute_result",
     "data": {
      "text/plain": "Phase: Bottleneck Computation, Dataset used:      Train, Image Index:  66"
     },
     "execution_count": 1,
     "metadata": {}
    },
    {
     "output_type": "execute_result",
     "data": {
      "text/plain": "Phase: Bottleneck Computation, Dataset used:      Train, Image Index:  67"
     },
     "execution_count": 1,
     "metadata": {}
    },
    {
     "output_type": "execute_result",
     "data": {
      "text/plain": "Phase: Bottleneck Computation, Dataset used:      Train, Image Index:  68"
     },
     "execution_count": 1,
     "metadata": {}
    },
    {
     "output_type": "execute_result",
     "data": {
      "text/plain": "Phase: Bottleneck Computation, Dataset used:      Train, Image Index:  69"
     },
     "execution_count": 1,
     "metadata": {}
    },
    {
     "output_type": "execute_result",
     "data": {
      "text/plain": "Phase: Bottleneck Computation, Dataset used:      Train, Image Index:  70"
     },
     "execution_count": 1,
     "metadata": {}
    },
    {
     "output_type": "execute_result",
     "data": {
      "text/plain": "Phase: Bottleneck Computation, Dataset used:      Train, Image Index:  71"
     },
     "execution_count": 1,
     "metadata": {}
    },
    {
     "output_type": "execute_result",
     "data": {
      "text/plain": "Phase: Bottleneck Computation, Dataset used:      Train, Image Index:  72"
     },
     "execution_count": 1,
     "metadata": {}
    },
    {
     "output_type": "execute_result",
     "data": {
      "text/plain": "Phase: Bottleneck Computation, Dataset used:      Train, Image Index:  73"
     },
     "execution_count": 1,
     "metadata": {}
    },
    {
     "output_type": "execute_result",
     "data": {
      "text/plain": "Phase: Bottleneck Computation, Dataset used:      Train, Image Index:  74"
     },
     "execution_count": 1,
     "metadata": {}
    },
    {
     "output_type": "execute_result",
     "data": {
      "text/plain": "Phase: Bottleneck Computation, Dataset used:      Train, Image Index:  75"
     },
     "execution_count": 1,
     "metadata": {}
    },
    {
     "output_type": "execute_result",
     "data": {
      "text/plain": "Phase: Bottleneck Computation, Dataset used:      Train, Image Index:  76"
     },
     "execution_count": 1,
     "metadata": {}
    },
    {
     "output_type": "execute_result",
     "data": {
      "text/plain": "Phase: Bottleneck Computation, Dataset used:      Train, Image Index:  77"
     },
     "execution_count": 1,
     "metadata": {}
    },
    {
     "output_type": "execute_result",
     "data": {
      "text/plain": "Phase: Bottleneck Computation, Dataset used:      Train, Image Index:  78"
     },
     "execution_count": 1,
     "metadata": {}
    },
    {
     "output_type": "execute_result",
     "data": {
      "text/plain": "Phase: Bottleneck Computation, Dataset used:      Train, Image Index:  79"
     },
     "execution_count": 1,
     "metadata": {}
    },
    {
     "output_type": "execute_result",
     "data": {
      "text/plain": "Phase: Bottleneck Computation, Dataset used:      Train, Image Index:  80"
     },
     "execution_count": 1,
     "metadata": {}
    },
    {
     "output_type": "execute_result",
     "data": {
      "text/plain": "Phase: Bottleneck Computation, Dataset used:      Train, Image Index:  81"
     },
     "execution_count": 1,
     "metadata": {}
    },
    {
     "output_type": "execute_result",
     "data": {
      "text/plain": "Phase: Bottleneck Computation, Dataset used:      Train, Image Index:  82"
     },
     "execution_count": 1,
     "metadata": {}
    },
    {
     "output_type": "execute_result",
     "data": {
      "text/plain": "Phase: Bottleneck Computation, Dataset used:      Train, Image Index:  83"
     },
     "execution_count": 1,
     "metadata": {}
    },
    {
     "output_type": "execute_result",
     "data": {
      "text/plain": "Phase: Bottleneck Computation, Dataset used:      Train, Image Index:  84"
     },
     "execution_count": 1,
     "metadata": {}
    },
    {
     "output_type": "execute_result",
     "data": {
      "text/plain": "Phase: Bottleneck Computation, Dataset used:      Train, Image Index:  85"
     },
     "execution_count": 1,
     "metadata": {}
    },
    {
     "output_type": "execute_result",
     "data": {
      "text/plain": "Phase: Bottleneck Computation, Dataset used:      Train, Image Index:  86"
     },
     "execution_count": 1,
     "metadata": {}
    },
    {
     "output_type": "execute_result",
     "data": {
      "text/plain": "Phase: Bottleneck Computation, Dataset used:      Train, Image Index:  87"
     },
     "execution_count": 1,
     "metadata": {}
    },
    {
     "output_type": "execute_result",
     "data": {
      "text/plain": "Phase: Bottleneck Computation, Dataset used:      Train, Image Index:  88"
     },
     "execution_count": 1,
     "metadata": {}
    },
    {
     "output_type": "execute_result",
     "data": {
      "text/plain": "Phase: Bottleneck Computation, Dataset used:      Train, Image Index:  89"
     },
     "execution_count": 1,
     "metadata": {}
    },
    {
     "output_type": "execute_result",
     "data": {
      "text/plain": "Phase: Bottleneck Computation, Dataset used:      Train, Image Index:  90"
     },
     "execution_count": 1,
     "metadata": {}
    },
    {
     "output_type": "execute_result",
     "data": {
      "text/plain": "Phase: Bottleneck Computation, Dataset used:      Train, Image Index:  91"
     },
     "execution_count": 1,
     "metadata": {}
    },
    {
     "output_type": "execute_result",
     "data": {
      "text/plain": "Phase: Bottleneck Computation, Dataset used:      Train, Image Index:  92"
     },
     "execution_count": 1,
     "metadata": {}
    },
    {
     "output_type": "execute_result",
     "data": {
      "text/plain": "Phase: Bottleneck Computation, Dataset used:      Train, Image Index:  93"
     },
     "execution_count": 1,
     "metadata": {}
    },
    {
     "output_type": "execute_result",
     "data": {
      "text/plain": "Phase: Bottleneck Computation, Dataset used:      Train, Image Index:  94"
     },
     "execution_count": 1,
     "metadata": {}
    },
    {
     "output_type": "execute_result",
     "data": {
      "text/plain": "Phase: Bottleneck Computation, Dataset used:      Train, Image Index:  95"
     },
     "execution_count": 1,
     "metadata": {}
    },
    {
     "output_type": "execute_result",
     "data": {
      "text/plain": "Phase: Bottleneck Computation, Dataset used:      Train, Image Index:  96"
     },
     "execution_count": 1,
     "metadata": {}
    },
    {
     "output_type": "execute_result",
     "data": {
      "text/plain": "Phase: Bottleneck Computation, Dataset used:      Train, Image Index:  97"
     },
     "execution_count": 1,
     "metadata": {}
    },
    {
     "output_type": "execute_result",
     "data": {
      "text/plain": "Phase: Bottleneck Computation, Dataset used:      Train, Image Index:  98"
     },
     "execution_count": 1,
     "metadata": {}
    },
    {
     "output_type": "execute_result",
     "data": {
      "text/plain": "Phase: Bottleneck Computation, Dataset used:      Train, Image Index:  99"
     },
     "execution_count": 1,
     "metadata": {}
    },
    {
     "output_type": "execute_result",
     "data": {
      "text/plain": "Phase: Bottleneck Computation, Dataset used:      Train, Image Index: 100"
     },
     "execution_count": 1,
     "metadata": {}
    },
    {
     "output_type": "execute_result",
     "data": {
      "text/plain": "Phase: Bottleneck Computation, Dataset used:      Train, Image Index: 101"
     },
     "execution_count": 1,
     "metadata": {}
    },
    {
     "output_type": "execute_result",
     "data": {
      "text/plain": "Phase: Bottleneck Computation, Dataset used:      Train, Image Index: 102"
     },
     "execution_count": 1,
     "metadata": {}
    },
    {
     "output_type": "execute_result",
     "data": {
      "text/plain": "Phase: Bottleneck Computation, Dataset used:      Train, Image Index: 103"
     },
     "execution_count": 1,
     "metadata": {}
    },
    {
     "output_type": "execute_result",
     "data": {
      "text/plain": "Phase: Bottleneck Computation, Dataset used:      Train, Image Index: 104"
     },
     "execution_count": 1,
     "metadata": {}
    },
    {
     "output_type": "execute_result",
     "data": {
      "text/plain": "Phase: Bottleneck Computation, Dataset used:      Train, Image Index: 105"
     },
     "execution_count": 1,
     "metadata": {}
    },
    {
     "output_type": "execute_result",
     "data": {
      "text/plain": "Phase: Bottleneck Computation, Dataset used:      Train, Image Index: 106"
     },
     "execution_count": 1,
     "metadata": {}
    },
    {
     "output_type": "execute_result",
     "data": {
      "text/plain": "Phase: Bottleneck Computation, Dataset used:      Train, Image Index: 107"
     },
     "execution_count": 1,
     "metadata": {}
    },
    {
     "output_type": "execute_result",
     "data": {
      "text/plain": "Phase: Bottleneck Computation, Dataset used:      Train, Image Index: 108"
     },
     "execution_count": 1,
     "metadata": {}
    },
    {
     "output_type": "execute_result",
     "data": {
      "text/plain": "Phase: Bottleneck Computation, Dataset used:      Train, Image Index: 109"
     },
     "execution_count": 1,
     "metadata": {}
    },
    {
     "output_type": "execute_result",
     "data": {
      "text/plain": "Phase: Bottleneck Computation, Dataset used:      Train, Image Index: 110"
     },
     "execution_count": 1,
     "metadata": {}
    },
    {
     "output_type": "execute_result",
     "data": {
      "text/plain": "Phase: Bottleneck Computation, Dataset used:      Train, Image Index: 111"
     },
     "execution_count": 1,
     "metadata": {}
    },
    {
     "output_type": "execute_result",
     "data": {
      "text/plain": "Phase: Bottleneck Computation, Dataset used:      Train, Image Index: 112"
     },
     "execution_count": 1,
     "metadata": {}
    },
    {
     "output_type": "execute_result",
     "data": {
      "text/plain": "Phase: Bottleneck Computation, Dataset used:      Train, Image Index: 113"
     },
     "execution_count": 1,
     "metadata": {}
    },
    {
     "output_type": "execute_result",
     "data": {
      "text/plain": "Phase: Bottleneck Computation, Dataset used:      Train, Image Index: 114"
     },
     "execution_count": 1,
     "metadata": {}
    },
    {
     "output_type": "execute_result",
     "data": {
      "text/plain": "Phase: Bottleneck Computation, Dataset used:      Train, Image Index: 115"
     },
     "execution_count": 1,
     "metadata": {}
    },
    {
     "output_type": "execute_result",
     "data": {
      "text/plain": "Phase: Bottleneck Computation, Dataset used:      Train, Image Index: 116"
     },
     "execution_count": 1,
     "metadata": {}
    },
    {
     "output_type": "execute_result",
     "data": {
      "text/plain": "Phase: Bottleneck Computation, Dataset used:      Train, Image Index: 117"
     },
     "execution_count": 1,
     "metadata": {}
    },
    {
     "output_type": "execute_result",
     "data": {
      "text/plain": "Phase: Bottleneck Computation, Dataset used:      Train, Image Index: 118"
     },
     "execution_count": 1,
     "metadata": {}
    },
    {
     "output_type": "execute_result",
     "data": {
      "text/plain": "Phase: Bottleneck Computation, Dataset used:      Train, Image Index: 119"
     },
     "execution_count": 1,
     "metadata": {}
    },
    {
     "output_type": "execute_result",
     "data": {
      "text/plain": "Phase: Bottleneck Computation, Dataset used:      Train, Image Index: 120"
     },
     "execution_count": 1,
     "metadata": {}
    },
    {
     "output_type": "execute_result",
     "data": {
      "text/plain": "Phase: Bottleneck Computation, Dataset used:      Train, Image Index: 121"
     },
     "execution_count": 1,
     "metadata": {}
    },
    {
     "output_type": "execute_result",
     "data": {
      "text/plain": "Phase: Bottleneck Computation, Dataset used:      Train, Image Index: 122"
     },
     "execution_count": 1,
     "metadata": {}
    },
    {
     "output_type": "execute_result",
     "data": {
      "text/plain": "Phase: Bottleneck Computation, Dataset used:      Train, Image Index: 123"
     },
     "execution_count": 1,
     "metadata": {}
    },
    {
     "output_type": "execute_result",
     "data": {
      "text/plain": "Phase: Bottleneck Computation, Dataset used:      Train, Image Index: 124"
     },
     "execution_count": 1,
     "metadata": {}
    },
    {
     "output_type": "execute_result",
     "data": {
      "text/plain": "Phase: Bottleneck Computation, Dataset used:      Train, Image Index: 125"
     },
     "execution_count": 1,
     "metadata": {}
    },
    {
     "output_type": "execute_result",
     "data": {
      "text/plain": "Phase: Bottleneck Computation, Dataset used:      Train, Image Index: 126"
     },
     "execution_count": 1,
     "metadata": {}
    },
    {
     "output_type": "execute_result",
     "data": {
      "text/plain": "Phase: Bottleneck Computation, Dataset used:      Train, Image Index: 127"
     },
     "execution_count": 1,
     "metadata": {}
    },
    {
     "output_type": "execute_result",
     "data": {
      "text/plain": "Phase: Bottleneck Computation, Dataset used:      Train, Image Index: 128"
     },
     "execution_count": 1,
     "metadata": {}
    },
    {
     "output_type": "execute_result",
     "data": {
      "text/plain": "Phase: Bottleneck Computation, Dataset used:      Train, Image Index: 129"
     },
     "execution_count": 1,
     "metadata": {}
    },
    {
     "output_type": "execute_result",
     "data": {
      "text/plain": "Phase: Bottleneck Computation, Dataset used:      Train, Image Index: 130"
     },
     "execution_count": 1,
     "metadata": {}
    },
    {
     "output_type": "execute_result",
     "data": {
      "text/plain": "Phase: Bottleneck Computation, Dataset used:      Train, Image Index: 131"
     },
     "execution_count": 1,
     "metadata": {}
    },
    {
     "output_type": "execute_result",
     "data": {
      "text/plain": "Phase: Bottleneck Computation, Dataset used:      Train, Image Index: 132"
     },
     "execution_count": 1,
     "metadata": {}
    },
    {
     "output_type": "execute_result",
     "data": {
      "text/plain": "Phase: Bottleneck Computation, Dataset used:      Train, Image Index: 133"
     },
     "execution_count": 1,
     "metadata": {}
    },
    {
     "output_type": "execute_result",
     "data": {
      "text/plain": "Phase: Bottleneck Computation, Dataset used:      Train, Image Index: 134"
     },
     "execution_count": 1,
     "metadata": {}
    },
    {
     "output_type": "execute_result",
     "data": {
      "text/plain": "Phase: Bottleneck Computation, Dataset used:      Train, Image Index: 135"
     },
     "execution_count": 1,
     "metadata": {}
    },
    {
     "output_type": "execute_result",
     "data": {
      "text/plain": "Phase: Bottleneck Computation, Dataset used:      Train, Image Index: 136"
     },
     "execution_count": 1,
     "metadata": {}
    },
    {
     "output_type": "execute_result",
     "data": {
      "text/plain": "Phase: Bottleneck Computation, Dataset used:      Train, Image Index: 137"
     },
     "execution_count": 1,
     "metadata": {}
    },
    {
     "output_type": "execute_result",
     "data": {
      "text/plain": "Phase: Bottleneck Computation, Dataset used:      Train, Image Index: 138"
     },
     "execution_count": 1,
     "metadata": {}
    },
    {
     "output_type": "execute_result",
     "data": {
      "text/plain": "Phase: Bottleneck Computation, Dataset used:      Train, Image Index: 139"
     },
     "execution_count": 1,
     "metadata": {}
    },
    {
     "output_type": "execute_result",
     "data": {
      "text/plain": "Phase: Bottleneck Computation, Dataset used:      Train, Image Index: 140"
     },
     "execution_count": 1,
     "metadata": {}
    },
    {
     "output_type": "execute_result",
     "data": {
      "text/plain": "Phase: Bottleneck Computation, Dataset used:      Train, Image Index: 141"
     },
     "execution_count": 1,
     "metadata": {}
    },
    {
     "output_type": "execute_result",
     "data": {
      "text/plain": "Phase: Bottleneck Computation, Dataset used:      Train, Image Index: 142"
     },
     "execution_count": 1,
     "metadata": {}
    },
    {
     "output_type": "execute_result",
     "data": {
      "text/plain": "Phase: Bottleneck Computation, Dataset used:      Train, Image Index: 143"
     },
     "execution_count": 1,
     "metadata": {}
    },
    {
     "output_type": "execute_result",
     "data": {
      "text/plain": "Phase: Bottleneck Computation, Dataset used:      Train, Image Index: 144"
     },
     "execution_count": 1,
     "metadata": {}
    },
    {
     "output_type": "execute_result",
     "data": {
      "text/plain": "Phase: Bottleneck Computation, Dataset used:      Train, Image Index: 145"
     },
     "execution_count": 1,
     "metadata": {}
    },
    {
     "output_type": "execute_result",
     "data": {
      "text/plain": "Phase: Bottleneck Computation, Dataset used:      Train, Image Index: 146"
     },
     "execution_count": 1,
     "metadata": {}
    },
    {
     "output_type": "execute_result",
     "data": {
      "text/plain": "Phase: Bottleneck Computation, Dataset used:      Train, Image Index: 147"
     },
     "execution_count": 1,
     "metadata": {}
    },
    {
     "output_type": "execute_result",
     "data": {
      "text/plain": "Phase: Bottleneck Computation, Dataset used:      Train, Image Index: 148"
     },
     "execution_count": 1,
     "metadata": {}
    },
    {
     "output_type": "execute_result",
     "data": {
      "text/plain": "Phase: Bottleneck Computation, Dataset used:      Train, Image Index: 149"
     },
     "execution_count": 1,
     "metadata": {}
    },
    {
     "output_type": "execute_result",
     "data": {
      "text/plain": "Phase: Bottleneck Computation, Dataset used:      Train, Image Index: 150"
     },
     "execution_count": 1,
     "metadata": {}
    },
    {
     "output_type": "execute_result",
     "data": {
      "text/plain": "Phase: Bottleneck Computation, Dataset used:      Train, Image Index: 151"
     },
     "execution_count": 1,
     "metadata": {}
    },
    {
     "output_type": "execute_result",
     "data": {
      "text/plain": "Phase: Bottleneck Computation, Dataset used:      Train, Image Index: 152"
     },
     "execution_count": 1,
     "metadata": {}
    },
    {
     "output_type": "execute_result",
     "data": {
      "text/plain": "Phase: Bottleneck Computation, Dataset used:      Train, Image Index: 153"
     },
     "execution_count": 1,
     "metadata": {}
    },
    {
     "output_type": "execute_result",
     "data": {
      "text/plain": "Phase: Bottleneck Computation, Dataset used:      Train, Image Index: 154"
     },
     "execution_count": 1,
     "metadata": {}
    },
    {
     "output_type": "execute_result",
     "data": {
      "text/plain": "Phase: Bottleneck Computation, Dataset used:      Train, Image Index: 155"
     },
     "execution_count": 1,
     "metadata": {}
    },
    {
     "output_type": "execute_result",
     "data": {
      "text/plain": "Phase: Bottleneck Computation, Dataset used:      Train, Image Index: 156"
     },
     "execution_count": 1,
     "metadata": {}
    },
    {
     "output_type": "execute_result",
     "data": {
      "text/plain": "Phase: Bottleneck Computation, Dataset used:      Train, Image Index: 157"
     },
     "execution_count": 1,
     "metadata": {}
    },
    {
     "output_type": "execute_result",
     "data": {
      "text/plain": "Phase: Bottleneck Computation, Dataset used:      Train, Image Index: 158"
     },
     "execution_count": 1,
     "metadata": {}
    },
    {
     "output_type": "execute_result",
     "data": {
      "text/plain": "Phase: Bottleneck Computation, Dataset used:      Train, Image Index: 159"
     },
     "execution_count": 1,
     "metadata": {}
    },
    {
     "output_type": "execute_result",
     "data": {
      "text/plain": "Phase: Bottleneck Computation, Dataset used:      Train, Image Index: 160"
     },
     "execution_count": 1,
     "metadata": {}
    },
    {
     "output_type": "execute_result",
     "data": {
      "text/plain": "Phase: Bottleneck Computation, Dataset used:      Train, Image Index: 161"
     },
     "execution_count": 1,
     "metadata": {}
    },
    {
     "output_type": "execute_result",
     "data": {
      "text/plain": "Phase: Bottleneck Computation, Dataset used:      Train, Image Index: 162"
     },
     "execution_count": 1,
     "metadata": {}
    },
    {
     "output_type": "execute_result",
     "data": {
      "text/plain": "Phase: Bottleneck Computation, Dataset used:      Train, Image Index: 163"
     },
     "execution_count": 1,
     "metadata": {}
    },
    {
     "output_type": "execute_result",
     "data": {
      "text/plain": "Phase: Bottleneck Computation, Dataset used:      Train, Image Index: 164"
     },
     "execution_count": 1,
     "metadata": {}
    },
    {
     "output_type": "execute_result",
     "data": {
      "text/plain": "Phase: Bottleneck Computation, Dataset used:      Train, Image Index: 165"
     },
     "execution_count": 1,
     "metadata": {}
    },
    {
     "output_type": "execute_result",
     "data": {
      "text/plain": "Phase: Bottleneck Computation, Dataset used:      Train, Image Index: 166"
     },
     "execution_count": 1,
     "metadata": {}
    },
    {
     "output_type": "execute_result",
     "data": {
      "text/plain": "Phase: Bottleneck Computation, Dataset used:      Train, Image Index: 167"
     },
     "execution_count": 1,
     "metadata": {}
    },
    {
     "output_type": "execute_result",
     "data": {
      "text/plain": "Phase: Bottleneck Computation, Dataset used:      Train, Image Index: 168"
     },
     "execution_count": 1,
     "metadata": {}
    },
    {
     "output_type": "execute_result",
     "data": {
      "text/plain": "Phase: Bottleneck Computation, Dataset used:      Train, Image Index: 169"
     },
     "execution_count": 1,
     "metadata": {}
    },
    {
     "output_type": "execute_result",
     "data": {
      "text/plain": "Phase: Bottleneck Computation, Dataset used:      Train, Image Index: 170"
     },
     "execution_count": 1,
     "metadata": {}
    },
    {
     "output_type": "execute_result",
     "data": {
      "text/plain": "Phase: Bottleneck Computation, Dataset used:      Train, Image Index: 171"
     },
     "execution_count": 1,
     "metadata": {}
    },
    {
     "output_type": "execute_result",
     "data": {
      "text/plain": "Phase: Bottleneck Computation, Dataset used:      Train, Image Index: 172"
     },
     "execution_count": 1,
     "metadata": {}
    },
    {
     "output_type": "execute_result",
     "data": {
      "text/plain": "Phase: Bottleneck Computation, Dataset used:      Train, Image Index: 173"
     },
     "execution_count": 1,
     "metadata": {}
    },
    {
     "output_type": "execute_result",
     "data": {
      "text/plain": "Phase: Bottleneck Computation, Dataset used:      Train, Image Index: 174"
     },
     "execution_count": 1,
     "metadata": {}
    },
    {
     "output_type": "execute_result",
     "data": {
      "text/plain": "Phase: Bottleneck Computation, Dataset used:      Train, Image Index: 175"
     },
     "execution_count": 1,
     "metadata": {}
    },
    {
     "output_type": "execute_result",
     "data": {
      "text/plain": "Phase: Bottleneck Computation, Dataset used:      Train, Image Index: 176"
     },
     "execution_count": 1,
     "metadata": {}
    },
    {
     "output_type": "execute_result",
     "data": {
      "text/plain": "Phase: Bottleneck Computation, Dataset used:      Train, Image Index: 177"
     },
     "execution_count": 1,
     "metadata": {}
    },
    {
     "output_type": "execute_result",
     "data": {
      "text/plain": "Phase: Bottleneck Computation, Dataset used:      Train, Image Index: 178"
     },
     "execution_count": 1,
     "metadata": {}
    },
    {
     "output_type": "execute_result",
     "data": {
      "text/plain": "Phase: Bottleneck Computation, Dataset used:      Train, Image Index: 179"
     },
     "execution_count": 1,
     "metadata": {}
    },
    {
     "output_type": "execute_result",
     "data": {
      "text/plain": "Phase: Bottleneck Computation, Dataset used:      Train, Image Index: 180"
     },
     "execution_count": 1,
     "metadata": {}
    },
    {
     "output_type": "execute_result",
     "data": {
      "text/plain": "Phase: Bottleneck Computation, Dataset used:      Train, Image Index: 181"
     },
     "execution_count": 1,
     "metadata": {}
    },
    {
     "output_type": "execute_result",
     "data": {
      "text/plain": "Phase: Bottleneck Computation, Dataset used:      Train, Image Index: 182"
     },
     "execution_count": 1,
     "metadata": {}
    },
    {
     "output_type": "execute_result",
     "data": {
      "text/plain": "Phase: Bottleneck Computation, Dataset used:      Train, Image Index: 183"
     },
     "execution_count": 1,
     "metadata": {}
    },
    {
     "output_type": "execute_result",
     "data": {
      "text/plain": "Phase: Bottleneck Computation, Dataset used:      Train, Image Index: 184"
     },
     "execution_count": 1,
     "metadata": {}
    },
    {
     "output_type": "execute_result",
     "data": {
      "text/plain": "Phase: Bottleneck Computation, Dataset used:      Train, Image Index: 185"
     },
     "execution_count": 1,
     "metadata": {}
    },
    {
     "output_type": "execute_result",
     "data": {
      "text/plain": "Phase: Bottleneck Computation, Dataset used:      Train, Image Index: 186"
     },
     "execution_count": 1,
     "metadata": {}
    },
    {
     "output_type": "execute_result",
     "data": {
      "text/plain": "Phase: Bottleneck Computation, Dataset used:      Train, Image Index: 187"
     },
     "execution_count": 1,
     "metadata": {}
    },
    {
     "output_type": "execute_result",
     "data": {
      "text/plain": "Phase: Bottleneck Computation, Dataset used:      Train, Image Index: 188"
     },
     "execution_count": 1,
     "metadata": {}
    },
    {
     "output_type": "execute_result",
     "data": {
      "text/plain": "Phase: Bottleneck Computation, Dataset used:      Train, Image Index: 189"
     },
     "execution_count": 1,
     "metadata": {}
    },
    {
     "output_type": "execute_result",
     "data": {
      "text/plain": "Phase: Bottleneck Computation, Dataset used:      Train, Image Index: 190"
     },
     "execution_count": 1,
     "metadata": {}
    },
    {
     "output_type": "execute_result",
     "data": {
      "text/plain": "Phase: Bottleneck Computation, Dataset used:      Train, Image Index: 191"
     },
     "execution_count": 1,
     "metadata": {}
    },
    {
     "output_type": "execute_result",
     "data": {
      "text/plain": "Phase: Bottleneck Computation, Dataset used:      Train, Image Index: 192"
     },
     "execution_count": 1,
     "metadata": {}
    },
    {
     "output_type": "execute_result",
     "data": {
      "text/plain": "Phase: Bottleneck Computation, Dataset used:      Train, Image Index: 193"
     },
     "execution_count": 1,
     "metadata": {}
    },
    {
     "output_type": "execute_result",
     "data": {
      "text/plain": "Phase: Bottleneck Computation, Dataset used:      Train, Image Index: 194"
     },
     "execution_count": 1,
     "metadata": {}
    },
    {
     "output_type": "execute_result",
     "data": {
      "text/plain": "Phase: Bottleneck Computation, Dataset used:      Train, Image Index: 195"
     },
     "execution_count": 1,
     "metadata": {}
    },
    {
     "output_type": "execute_result",
     "data": {
      "text/plain": "Phase: Bottleneck Computation, Dataset used:      Train, Image Index: 196"
     },
     "execution_count": 1,
     "metadata": {}
    },
    {
     "output_type": "execute_result",
     "data": {
      "text/plain": "Phase: Bottleneck Computation, Dataset used:      Train, Image Index: 197"
     },
     "execution_count": 1,
     "metadata": {}
    },
    {
     "output_type": "execute_result",
     "data": {
      "text/plain": "Phase: Bottleneck Computation, Dataset used:      Train, Image Index: 198"
     },
     "execution_count": 1,
     "metadata": {}
    },
    {
     "output_type": "execute_result",
     "data": {
      "text/plain": "Phase: Bottleneck Computation, Dataset used:      Train, Image Index: 199"
     },
     "execution_count": 1,
     "metadata": {}
    },
    {
     "output_type": "execute_result",
     "data": {
      "text/plain": "Phase: Bottleneck Computation, Dataset used:      Train, Image Index: 200"
     },
     "execution_count": 1,
     "metadata": {}
    },
    {
     "output_type": "execute_result",
     "data": {
      "text/plain": "Phase: Bottleneck Computation, Dataset used:      Train, Image Index: 201"
     },
     "execution_count": 1,
     "metadata": {}
    },
    {
     "output_type": "execute_result",
     "data": {
      "text/plain": "Phase: Bottleneck Computation, Dataset used:      Train, Image Index: 202"
     },
     "execution_count": 1,
     "metadata": {}
    },
    {
     "output_type": "execute_result",
     "data": {
      "text/plain": "Phase: Bottleneck Computation, Dataset used:      Train, Image Index: 203"
     },
     "execution_count": 1,
     "metadata": {}
    },
    {
     "output_type": "execute_result",
     "data": {
      "text/plain": "Phase: Bottleneck Computation, Dataset used:      Train, Image Index: 204"
     },
     "execution_count": 1,
     "metadata": {}
    },
    {
     "output_type": "execute_result",
     "data": {
      "text/plain": "Phase: Bottleneck Computation, Dataset used:      Train, Image Index: 205"
     },
     "execution_count": 1,
     "metadata": {}
    },
    {
     "output_type": "execute_result",
     "data": {
      "text/plain": "Phase: Bottleneck Computation, Dataset used:      Train, Image Index: 206"
     },
     "execution_count": 1,
     "metadata": {}
    },
    {
     "output_type": "execute_result",
     "data": {
      "text/plain": "Phase: Bottleneck Computation, Dataset used:      Train, Image Index: 207"
     },
     "execution_count": 1,
     "metadata": {}
    },
    {
     "output_type": "execute_result",
     "data": {
      "text/plain": "Phase: Bottleneck Computation, Dataset used:      Train, Image Index: 208"
     },
     "execution_count": 1,
     "metadata": {}
    },
    {
     "output_type": "execute_result",
     "data": {
      "text/plain": "Phase: Bottleneck Computation, Dataset used:      Train, Image Index: 209"
     },
     "execution_count": 1,
     "metadata": {}
    },
    {
     "output_type": "execute_result",
     "data": {
      "text/plain": "Phase: Bottleneck Computation, Dataset used:      Train, Image Index: 210"
     },
     "execution_count": 1,
     "metadata": {}
    },
    {
     "output_type": "execute_result",
     "data": {
      "text/plain": "Phase: Bottleneck Computation, Dataset used:      Train, Image Index: 211"
     },
     "execution_count": 1,
     "metadata": {}
    },
    {
     "output_type": "execute_result",
     "data": {
      "text/plain": "Phase: Bottleneck Computation, Dataset used:      Train, Image Index: 212"
     },
     "execution_count": 1,
     "metadata": {}
    },
    {
     "output_type": "execute_result",
     "data": {
      "text/plain": "Phase: Bottleneck Computation, Dataset used:      Train, Image Index: 213"
     },
     "execution_count": 1,
     "metadata": {}
    },
    {
     "output_type": "execute_result",
     "data": {
      "text/plain": "Phase: Bottleneck Computation, Dataset used:      Train, Image Index: 214"
     },
     "execution_count": 1,
     "metadata": {}
    },
    {
     "output_type": "execute_result",
     "data": {
      "text/plain": "Phase: Bottleneck Computation, Dataset used:      Train, Image Index: 215"
     },
     "execution_count": 1,
     "metadata": {}
    },
    {
     "output_type": "execute_result",
     "data": {
      "text/plain": "Phase: Bottleneck Computation, Dataset used:      Train, Image Index: 216"
     },
     "execution_count": 1,
     "metadata": {}
    },
    {
     "output_type": "execute_result",
     "data": {
      "text/plain": "Phase: Bottleneck Computation, Dataset used:      Train, Image Index: 217"
     },
     "execution_count": 1,
     "metadata": {}
    },
    {
     "output_type": "execute_result",
     "data": {
      "text/plain": "Phase: Bottleneck Computation, Dataset used:      Train, Image Index: 218"
     },
     "execution_count": 1,
     "metadata": {}
    },
    {
     "output_type": "execute_result",
     "data": {
      "text/plain": "Phase: Bottleneck Computation, Dataset used:      Train, Image Index: 219"
     },
     "execution_count": 1,
     "metadata": {}
    },
    {
     "output_type": "execute_result",
     "data": {
      "text/plain": "Phase: Bottleneck Computation, Dataset used:      Train, Image Index: 220"
     },
     "execution_count": 1,
     "metadata": {}
    },
    {
     "output_type": "execute_result",
     "data": {
      "text/plain": "Phase: Bottleneck Computation, Dataset used:      Train, Image Index: 221"
     },
     "execution_count": 1,
     "metadata": {}
    },
    {
     "output_type": "execute_result",
     "data": {
      "text/plain": "Phase: Bottleneck Computation, Dataset used:      Train, Image Index: 222"
     },
     "execution_count": 1,
     "metadata": {}
    },
    {
     "output_type": "execute_result",
     "data": {
      "text/plain": "Phase: Bottleneck Computation, Dataset used:      Train, Image Index: 223"
     },
     "execution_count": 1,
     "metadata": {}
    },
    {
     "output_type": "execute_result",
     "data": {
      "text/plain": "Phase: Bottleneck Computation, Dataset used:      Train, Image Index: 224"
     },
     "execution_count": 1,
     "metadata": {}
    },
    {
     "output_type": "execute_result",
     "data": {
      "text/plain": "Phase: Bottleneck Computation, Dataset used:      Train, Image Index: 225"
     },
     "execution_count": 1,
     "metadata": {}
    },
    {
     "output_type": "execute_result",
     "data": {
      "text/plain": "Phase: Bottleneck Computation, Dataset used:      Train, Image Index: 226"
     },
     "execution_count": 1,
     "metadata": {}
    },
    {
     "output_type": "execute_result",
     "data": {
      "text/plain": "Phase: Bottleneck Computation, Dataset used:      Train, Image Index: 227"
     },
     "execution_count": 1,
     "metadata": {}
    },
    {
     "output_type": "execute_result",
     "data": {
      "text/plain": "Phase: Bottleneck Computation, Dataset used:      Train, Image Index: 228"
     },
     "execution_count": 1,
     "metadata": {}
    },
    {
     "output_type": "execute_result",
     "data": {
      "text/plain": "Phase: Bottleneck Computation, Dataset used:      Train, Image Index: 229"
     },
     "execution_count": 1,
     "metadata": {}
    },
    {
     "output_type": "execute_result",
     "data": {
      "text/plain": "Phase: Bottleneck Computation, Dataset used:      Train, Image Index: 230"
     },
     "execution_count": 1,
     "metadata": {}
    },
    {
     "output_type": "execute_result",
     "data": {
      "text/plain": "Phase: Bottleneck Computation, Dataset used:      Train, Image Index: 231"
     },
     "execution_count": 1,
     "metadata": {}
    },
    {
     "output_type": "execute_result",
     "data": {
      "text/plain": "Phase: Bottleneck Computation, Dataset used:      Train, Image Index: 232"
     },
     "execution_count": 1,
     "metadata": {}
    },
    {
     "output_type": "execute_result",
     "data": {
      "text/plain": "Phase: Bottleneck Computation, Dataset used:      Train, Image Index: 233"
     },
     "execution_count": 1,
     "metadata": {}
    },
    {
     "output_type": "execute_result",
     "data": {
      "text/plain": "Phase: Bottleneck Computation, Dataset used:      Train, Image Index: 234"
     },
     "execution_count": 1,
     "metadata": {}
    },
    {
     "output_type": "execute_result",
     "data": {
      "text/plain": "Phase: Bottleneck Computation, Dataset used:      Train, Image Index: 235"
     },
     "execution_count": 1,
     "metadata": {}
    },
    {
     "output_type": "execute_result",
     "data": {
      "text/plain": "Phase: Bottleneck Computation, Dataset used:      Train, Image Index: 236"
     },
     "execution_count": 1,
     "metadata": {}
    },
    {
     "output_type": "execute_result",
     "data": {
      "text/plain": "Phase: Bottleneck Computation, Dataset used:      Train, Image Index: 237"
     },
     "execution_count": 1,
     "metadata": {}
    },
    {
     "output_type": "execute_result",
     "data": {
      "text/plain": "Phase: Bottleneck Computation, Dataset used:      Train, Image Index: 238"
     },
     "execution_count": 1,
     "metadata": {}
    },
    {
     "output_type": "execute_result",
     "data": {
      "text/plain": "Phase: Bottleneck Computation, Dataset used:      Train, Image Index: 239"
     },
     "execution_count": 1,
     "metadata": {}
    },
    {
     "output_type": "execute_result",
     "data": {
      "text/plain": "Phase: Bottleneck Computation, Dataset used:      Train, Image Index: 240"
     },
     "execution_count": 1,
     "metadata": {}
    },
    {
     "output_type": "execute_result",
     "data": {
      "text/plain": "Phase: Bottleneck Computation, Dataset used:      Train, Image Index: 241"
     },
     "execution_count": 1,
     "metadata": {}
    },
    {
     "output_type": "execute_result",
     "data": {
      "text/plain": "Phase: Bottleneck Computation, Dataset used:      Train, Image Index: 242"
     },
     "execution_count": 1,
     "metadata": {}
    },
    {
     "output_type": "execute_result",
     "data": {
      "text/plain": "Phase: Bottleneck Computation, Dataset used:      Train, Image Index: 243"
     },
     "execution_count": 1,
     "metadata": {}
    },
    {
     "output_type": "execute_result",
     "data": {
      "text/plain": "Phase: Bottleneck Computation, Dataset used:      Train, Image Index: 244"
     },
     "execution_count": 1,
     "metadata": {}
    },
    {
     "output_type": "execute_result",
     "data": {
      "text/plain": "Phase: Bottleneck Computation, Dataset used:      Train, Image Index: 245"
     },
     "execution_count": 1,
     "metadata": {}
    },
    {
     "output_type": "execute_result",
     "data": {
      "text/plain": "Phase: Bottleneck Computation, Dataset used:      Train, Image Index: 246"
     },
     "execution_count": 1,
     "metadata": {}
    },
    {
     "output_type": "execute_result",
     "data": {
      "text/plain": "Phase: Bottleneck Computation, Dataset used:      Train, Image Index: 247"
     },
     "execution_count": 1,
     "metadata": {}
    },
    {
     "output_type": "execute_result",
     "data": {
      "text/plain": "Phase: Bottleneck Computation, Dataset used:      Train, Image Index: 248"
     },
     "execution_count": 1,
     "metadata": {}
    },
    {
     "output_type": "execute_result",
     "data": {
      "text/plain": "Phase: Bottleneck Computation, Dataset used:      Train, Image Index: 249"
     },
     "execution_count": 1,
     "metadata": {}
    },
    {
     "output_type": "execute_result",
     "data": {
      "text/plain": "Phase: Bottleneck Computation, Dataset used:      Train, Image Index: 250"
     },
     "execution_count": 1,
     "metadata": {}
    },
    {
     "output_type": "execute_result",
     "data": {
      "text/plain": "Phase: Bottleneck Computation, Dataset used:      Train, Image Index: 251"
     },
     "execution_count": 1,
     "metadata": {}
    },
    {
     "output_type": "execute_result",
     "data": {
      "text/plain": "Phase: Bottleneck Computation, Dataset used:      Train, Image Index: 252"
     },
     "execution_count": 1,
     "metadata": {}
    },
    {
     "output_type": "execute_result",
     "data": {
      "text/plain": "Phase: Bottleneck Computation, Dataset used:      Train, Image Index: 253"
     },
     "execution_count": 1,
     "metadata": {}
    },
    {
     "output_type": "execute_result",
     "data": {
      "text/plain": "Phase: Bottleneck Computation, Dataset used:      Train, Image Index: 254"
     },
     "execution_count": 1,
     "metadata": {}
    },
    {
     "output_type": "execute_result",
     "data": {
      "text/plain": "Phase: Bottleneck Computation, Dataset used:      Train, Image Index: 255"
     },
     "execution_count": 1,
     "metadata": {}
    },
    {
     "output_type": "execute_result",
     "data": {
      "text/plain": "Phase: Bottleneck Computation, Dataset used:      Train, Image Index: 256"
     },
     "execution_count": 1,
     "metadata": {}
    },
    {
     "output_type": "execute_result",
     "data": {
      "text/plain": "Phase: Bottleneck Computation, Dataset used:      Train, Image Index: 257"
     },
     "execution_count": 1,
     "metadata": {}
    },
    {
     "output_type": "execute_result",
     "data": {
      "text/plain": "Phase: Bottleneck Computation, Dataset used:      Train, Image Index: 258"
     },
     "execution_count": 1,
     "metadata": {}
    },
    {
     "output_type": "execute_result",
     "data": {
      "text/plain": "Phase: Bottleneck Computation, Dataset used:      Train, Image Index: 259"
     },
     "execution_count": 1,
     "metadata": {}
    },
    {
     "output_type": "execute_result",
     "data": {
      "text/plain": "Phase: Bottleneck Computation, Dataset used:      Train, Image Index: 260"
     },
     "execution_count": 1,
     "metadata": {}
    },
    {
     "output_type": "execute_result",
     "data": {
      "text/plain": "Phase: Bottleneck Computation, Dataset used:      Train, Image Index: 261"
     },
     "execution_count": 1,
     "metadata": {}
    },
    {
     "output_type": "execute_result",
     "data": {
      "text/plain": "Phase: Bottleneck Computation, Dataset used:      Train, Image Index: 262"
     },
     "execution_count": 1,
     "metadata": {}
    },
    {
     "output_type": "execute_result",
     "data": {
      "text/plain": "Phase: Bottleneck Computation, Dataset used:      Train, Image Index: 263"
     },
     "execution_count": 1,
     "metadata": {}
    },
    {
     "output_type": "execute_result",
     "data": {
      "text/plain": "Phase: Bottleneck Computation, Dataset used:      Train, Image Index: 264"
     },
     "execution_count": 1,
     "metadata": {}
    },
    {
     "output_type": "execute_result",
     "data": {
      "text/plain": "Phase: Bottleneck Computation, Dataset used:      Train, Image Index: 265"
     },
     "execution_count": 1,
     "metadata": {}
    },
    {
     "output_type": "execute_result",
     "data": {
      "text/plain": "Phase: Bottleneck Computation, Dataset used:      Train, Image Index: 266"
     },
     "execution_count": 1,
     "metadata": {}
    },
    {
     "output_type": "execute_result",
     "data": {
      "text/plain": "Phase: Bottleneck Computation, Dataset used:      Train, Image Index: 267"
     },
     "execution_count": 1,
     "metadata": {}
    },
    {
     "output_type": "execute_result",
     "data": {
      "text/plain": "Phase: Bottleneck Computation, Dataset used:      Train, Image Index: 268"
     },
     "execution_count": 1,
     "metadata": {}
    },
    {
     "output_type": "execute_result",
     "data": {
      "text/plain": "Phase: Bottleneck Computation, Dataset used:      Train, Image Index: 269"
     },
     "execution_count": 1,
     "metadata": {}
    },
    {
     "output_type": "execute_result",
     "data": {
      "text/plain": "Phase: Bottleneck Computation, Dataset used:      Train, Image Index: 270"
     },
     "execution_count": 1,
     "metadata": {}
    },
    {
     "output_type": "execute_result",
     "data": {
      "text/plain": "Phase: Bottleneck Computation, Dataset used:      Train, Image Index: 271"
     },
     "execution_count": 1,
     "metadata": {}
    },
    {
     "output_type": "execute_result",
     "data": {
      "text/plain": "Phase: Bottleneck Computation, Dataset used:      Train, Image Index: 272"
     },
     "execution_count": 1,
     "metadata": {}
    },
    {
     "output_type": "execute_result",
     "data": {
      "text/plain": "Phase: Bottleneck Computation, Dataset used:      Train, Image Index: 273"
     },
     "execution_count": 1,
     "metadata": {}
    },
    {
     "output_type": "execute_result",
     "data": {
      "text/plain": "Phase: Bottleneck Computation, Dataset used:      Train, Image Index: 274"
     },
     "execution_count": 1,
     "metadata": {}
    },
    {
     "output_type": "execute_result",
     "data": {
      "text/plain": "Phase: Bottleneck Computation, Dataset used:      Train, Image Index: 275"
     },
     "execution_count": 1,
     "metadata": {}
    },
    {
     "output_type": "execute_result",
     "data": {
      "text/plain": "Phase: Bottleneck Computation, Dataset used:      Train, Image Index: 276"
     },
     "execution_count": 1,
     "metadata": {}
    },
    {
     "output_type": "execute_result",
     "data": {
      "text/plain": "Phase: Bottleneck Computation, Dataset used:      Train, Image Index: 277"
     },
     "execution_count": 1,
     "metadata": {}
    },
    {
     "output_type": "execute_result",
     "data": {
      "text/plain": "Phase: Bottleneck Computation, Dataset used:      Train, Image Index: 278"
     },
     "execution_count": 1,
     "metadata": {}
    },
    {
     "output_type": "execute_result",
     "data": {
      "text/plain": "Phase: Bottleneck Computation, Dataset used:      Train, Image Index: 279"
     },
     "execution_count": 1,
     "metadata": {}
    },
    {
     "output_type": "execute_result",
     "data": {
      "text/plain": "Phase: Bottleneck Computation, Dataset used:      Train, Image Index: 280"
     },
     "execution_count": 1,
     "metadata": {}
    },
    {
     "output_type": "execute_result",
     "data": {
      "text/plain": "Phase: Bottleneck Computation, Dataset used:      Train, Image Index: 281"
     },
     "execution_count": 1,
     "metadata": {}
    },
    {
     "output_type": "execute_result",
     "data": {
      "text/plain": "Phase: Bottleneck Computation, Dataset used:      Train, Image Index: 282"
     },
     "execution_count": 1,
     "metadata": {}
    },
    {
     "output_type": "execute_result",
     "data": {
      "text/plain": "Phase: Bottleneck Computation, Dataset used:      Train, Image Index: 283"
     },
     "execution_count": 1,
     "metadata": {}
    },
    {
     "output_type": "execute_result",
     "data": {
      "text/plain": "Phase: Bottleneck Computation, Dataset used:      Train, Image Index: 284"
     },
     "execution_count": 1,
     "metadata": {}
    },
    {
     "output_type": "execute_result",
     "data": {
      "text/plain": "Phase: Bottleneck Computation, Dataset used:      Train, Image Index: 285"
     },
     "execution_count": 1,
     "metadata": {}
    },
    {
     "output_type": "execute_result",
     "data": {
      "text/plain": "Phase: Bottleneck Computation, Dataset used:      Train, Image Index: 286"
     },
     "execution_count": 1,
     "metadata": {}
    },
    {
     "output_type": "execute_result",
     "data": {
      "text/plain": "Phase: Bottleneck Computation, Dataset used:      Train, Image Index: 287"
     },
     "execution_count": 1,
     "metadata": {}
    },
    {
     "output_type": "execute_result",
     "data": {
      "text/plain": "Phase: Bottleneck Computation, Dataset used:      Train, Image Index: 288"
     },
     "execution_count": 1,
     "metadata": {}
    },
    {
     "output_type": "execute_result",
     "data": {
      "text/plain": "Phase: Bottleneck Computation, Dataset used:      Train, Image Index: 289"
     },
     "execution_count": 1,
     "metadata": {}
    },
    {
     "output_type": "execute_result",
     "data": {
      "text/plain": "Phase: Bottleneck Computation, Dataset used:      Train, Image Index: 290"
     },
     "execution_count": 1,
     "metadata": {}
    },
    {
     "output_type": "execute_result",
     "data": {
      "text/plain": "Phase: Bottleneck Computation, Dataset used:      Train, Image Index: 291"
     },
     "execution_count": 1,
     "metadata": {}
    },
    {
     "output_type": "execute_result",
     "data": {
      "text/plain": "Phase: Bottleneck Computation, Dataset used:      Train, Image Index: 292"
     },
     "execution_count": 1,
     "metadata": {}
    },
    {
     "output_type": "execute_result",
     "data": {
      "text/plain": "Phase: Bottleneck Computation, Dataset used:      Train, Image Index: 293"
     },
     "execution_count": 1,
     "metadata": {}
    },
    {
     "output_type": "execute_result",
     "data": {
      "text/plain": "Phase: Bottleneck Computation, Dataset used:      Train, Image Index: 294"
     },
     "execution_count": 1,
     "metadata": {}
    },
    {
     "output_type": "execute_result",
     "data": {
      "text/plain": "Phase: Bottleneck Computation, Dataset used:      Train, Image Index: 295"
     },
     "execution_count": 1,
     "metadata": {}
    },
    {
     "output_type": "execute_result",
     "data": {
      "text/plain": "Phase: Bottleneck Computation, Dataset used:      Train, Image Index: 296"
     },
     "execution_count": 1,
     "metadata": {}
    },
    {
     "output_type": "execute_result",
     "data": {
      "text/plain": "Phase: Bottleneck Computation, Dataset used:      Train, Image Index: 297"
     },
     "execution_count": 1,
     "metadata": {}
    },
    {
     "output_type": "execute_result",
     "data": {
      "text/plain": "Phase: Bottleneck Computation, Dataset used:      Train, Image Index: 298"
     },
     "execution_count": 1,
     "metadata": {}
    },
    {
     "output_type": "execute_result",
     "data": {
      "text/plain": "Phase: Bottleneck Computation, Dataset used:      Train, Image Index: 299"
     },
     "execution_count": 1,
     "metadata": {}
    },
    {
     "output_type": "execute_result",
     "data": {
      "text/plain": "Phase: Bottleneck Computation, Dataset used:      Train, Image Index: 300"
     },
     "execution_count": 1,
     "metadata": {}
    },
    {
     "output_type": "execute_result",
     "data": {
      "text/plain": "Phase: Bottleneck Computation, Dataset used:      Train, Image Index: 301"
     },
     "execution_count": 1,
     "metadata": {}
    },
    {
     "output_type": "execute_result",
     "data": {
      "text/plain": "Phase: Bottleneck Computation, Dataset used:      Train, Image Index: 302"
     },
     "execution_count": 1,
     "metadata": {}
    },
    {
     "output_type": "execute_result",
     "data": {
      "text/plain": "Phase: Bottleneck Computation, Dataset used:      Train, Image Index: 303"
     },
     "execution_count": 1,
     "metadata": {}
    },
    {
     "output_type": "execute_result",
     "data": {
      "text/plain": "Phase: Bottleneck Computation, Dataset used:      Train, Image Index: 304"
     },
     "execution_count": 1,
     "metadata": {}
    },
    {
     "output_type": "execute_result",
     "data": {
      "text/plain": "Phase: Bottleneck Computation, Dataset used:      Train, Image Index: 305"
     },
     "execution_count": 1,
     "metadata": {}
    },
    {
     "output_type": "execute_result",
     "data": {
      "text/plain": "Phase: Bottleneck Computation, Dataset used:      Train, Image Index: 306"
     },
     "execution_count": 1,
     "metadata": {}
    },
    {
     "output_type": "execute_result",
     "data": {
      "text/plain": "Phase: Bottleneck Computation, Dataset used:      Train, Image Index: 307"
     },
     "execution_count": 1,
     "metadata": {}
    },
    {
     "output_type": "execute_result",
     "data": {
      "text/plain": "Phase: Bottleneck Computation, Dataset used:      Train, Image Index: 308"
     },
     "execution_count": 1,
     "metadata": {}
    },
    {
     "output_type": "execute_result",
     "data": {
      "text/plain": "Phase: Bottleneck Computation, Dataset used:      Train, Image Index: 309"
     },
     "execution_count": 1,
     "metadata": {}
    },
    {
     "output_type": "execute_result",
     "data": {
      "text/plain": "Phase: Bottleneck Computation, Dataset used:      Train, Image Index: 310"
     },
     "execution_count": 1,
     "metadata": {}
    },
    {
     "output_type": "execute_result",
     "data": {
      "text/plain": "Phase: Bottleneck Computation, Dataset used:      Train, Image Index: 311"
     },
     "execution_count": 1,
     "metadata": {}
    },
    {
     "output_type": "execute_result",
     "data": {
      "text/plain": "Phase: Bottleneck Computation, Dataset used:      Train, Image Index: 312"
     },
     "execution_count": 1,
     "metadata": {}
    },
    {
     "output_type": "execute_result",
     "data": {
      "text/plain": "Phase: Bottleneck Computation, Dataset used:      Train, Image Index: 313"
     },
     "execution_count": 1,
     "metadata": {}
    },
    {
     "output_type": "execute_result",
     "data": {
      "text/plain": "Phase: Bottleneck Computation, Dataset used:      Train, Image Index: 314"
     },
     "execution_count": 1,
     "metadata": {}
    },
    {
     "output_type": "execute_result",
     "data": {
      "text/plain": "Phase: Bottleneck Computation, Dataset used:      Train, Image Index: 315"
     },
     "execution_count": 1,
     "metadata": {}
    },
    {
     "output_type": "execute_result",
     "data": {
      "text/plain": "Phase: Bottleneck Computation, Dataset used:      Train, Image Index: 316"
     },
     "execution_count": 1,
     "metadata": {}
    },
    {
     "output_type": "execute_result",
     "data": {
      "text/plain": "Phase: Bottleneck Computation, Dataset used:      Train, Image Index: 317"
     },
     "execution_count": 1,
     "metadata": {}
    },
    {
     "output_type": "execute_result",
     "data": {
      "text/plain": "Phase: Bottleneck Computation, Dataset used:      Train, Image Index: 318"
     },
     "execution_count": 1,
     "metadata": {}
    },
    {
     "output_type": "execute_result",
     "data": {
      "text/plain": "Phase: Bottleneck Computation, Dataset used:      Train, Image Index: 319"
     },
     "execution_count": 1,
     "metadata": {}
    },
    {
     "output_type": "execute_result",
     "data": {
      "text/plain": "Phase: Bottleneck Computation, Dataset used:      Train, Image Index: 320"
     },
     "execution_count": 1,
     "metadata": {}
    },
    {
     "output_type": "execute_result",
     "data": {
      "text/plain": "Phase: Bottleneck Computation, Dataset used:      Train, Image Index: 321"
     },
     "execution_count": 1,
     "metadata": {}
    },
    {
     "output_type": "execute_result",
     "data": {
      "text/plain": "Phase: Bottleneck Computation, Dataset used:      Train, Image Index: 322"
     },
     "execution_count": 1,
     "metadata": {}
    },
    {
     "output_type": "execute_result",
     "data": {
      "text/plain": "Phase: Bottleneck Computation, Dataset used:      Train, Image Index: 323"
     },
     "execution_count": 1,
     "metadata": {}
    },
    {
     "output_type": "execute_result",
     "data": {
      "text/plain": "Phase: Bottleneck Computation, Dataset used:      Train, Image Index: 324"
     },
     "execution_count": 1,
     "metadata": {}
    },
    {
     "output_type": "execute_result",
     "data": {
      "text/plain": "Phase: Bottleneck Computation, Dataset used:      Train, Image Index: 325"
     },
     "execution_count": 1,
     "metadata": {}
    },
    {
     "output_type": "execute_result",
     "data": {
      "text/plain": "Phase: Bottleneck Computation, Dataset used:      Train, Image Index: 326"
     },
     "execution_count": 1,
     "metadata": {}
    },
    {
     "output_type": "execute_result",
     "data": {
      "text/plain": "Phase: Bottleneck Computation, Dataset used:      Train, Image Index: 327"
     },
     "execution_count": 1,
     "metadata": {}
    },
    {
     "output_type": "execute_result",
     "data": {
      "text/plain": "Phase: Bottleneck Computation, Dataset used:      Train, Image Index: 328"
     },
     "execution_count": 1,
     "metadata": {}
    },
    {
     "output_type": "execute_result",
     "data": {
      "text/plain": "Phase: Bottleneck Computation, Dataset used:      Train, Image Index: 329"
     },
     "execution_count": 1,
     "metadata": {}
    },
    {
     "output_type": "execute_result",
     "data": {
      "text/plain": "Phase: Bottleneck Computation, Dataset used:      Train, Image Index: 330"
     },
     "execution_count": 1,
     "metadata": {}
    },
    {
     "output_type": "execute_result",
     "data": {
      "text/plain": "Phase: Bottleneck Computation, Dataset used:      Train, Image Index: 331"
     },
     "execution_count": 1,
     "metadata": {}
    },
    {
     "output_type": "execute_result",
     "data": {
      "text/plain": "Phase: Bottleneck Computation, Dataset used:      Train, Image Index: 332"
     },
     "execution_count": 1,
     "metadata": {}
    },
    {
     "output_type": "execute_result",
     "data": {
      "text/plain": "Phase: Bottleneck Computation, Dataset used:      Train, Image Index: 333"
     },
     "execution_count": 1,
     "metadata": {}
    },
    {
     "output_type": "execute_result",
     "data": {
      "text/plain": "Phase: Bottleneck Computation, Dataset used:      Train, Image Index: 334"
     },
     "execution_count": 1,
     "metadata": {}
    },
    {
     "output_type": "execute_result",
     "data": {
      "text/plain": "Phase: Bottleneck Computation, Dataset used:      Train, Image Index: 335"
     },
     "execution_count": 1,
     "metadata": {}
    },
    {
     "output_type": "execute_result",
     "data": {
      "text/plain": "Phase: Bottleneck Computation, Dataset used:      Train, Image Index: 336"
     },
     "execution_count": 1,
     "metadata": {}
    },
    {
     "output_type": "execute_result",
     "data": {
      "text/plain": "Phase: Bottleneck Computation, Dataset used:      Train, Image Index: 337"
     },
     "execution_count": 1,
     "metadata": {}
    },
    {
     "output_type": "execute_result",
     "data": {
      "text/plain": "Phase: Bottleneck Computation, Dataset used:      Train, Image Index: 338"
     },
     "execution_count": 1,
     "metadata": {}
    },
    {
     "output_type": "execute_result",
     "data": {
      "text/plain": "Phase: Bottleneck Computation, Dataset used:      Train, Image Index: 339"
     },
     "execution_count": 1,
     "metadata": {}
    },
    {
     "output_type": "execute_result",
     "data": {
      "text/plain": "Phase: Bottleneck Computation, Dataset used:      Train, Image Index: 340"
     },
     "execution_count": 1,
     "metadata": {}
    },
    {
     "output_type": "execute_result",
     "data": {
      "text/plain": "Phase: Bottleneck Computation, Dataset used:      Train, Image Index: 341"
     },
     "execution_count": 1,
     "metadata": {}
    },
    {
     "output_type": "execute_result",
     "data": {
      "text/plain": "Phase: Bottleneck Computation, Dataset used:      Train, Image Index: 342"
     },
     "execution_count": 1,
     "metadata": {}
    },
    {
     "output_type": "execute_result",
     "data": {
      "text/plain": "Phase: Bottleneck Computation, Dataset used:      Train, Image Index: 343"
     },
     "execution_count": 1,
     "metadata": {}
    },
    {
     "output_type": "execute_result",
     "data": {
      "text/plain": "Phase: Bottleneck Computation, Dataset used:      Train, Image Index: 344"
     },
     "execution_count": 1,
     "metadata": {}
    },
    {
     "output_type": "execute_result",
     "data": {
      "text/plain": "Phase: Bottleneck Computation, Dataset used:      Train, Image Index: 345"
     },
     "execution_count": 1,
     "metadata": {}
    },
    {
     "output_type": "execute_result",
     "data": {
      "text/plain": "Phase: Bottleneck Computation, Dataset used:      Train, Image Index: 346"
     },
     "execution_count": 1,
     "metadata": {}
    },
    {
     "output_type": "execute_result",
     "data": {
      "text/plain": "Phase: Bottleneck Computation, Dataset used:      Train, Image Index: 347"
     },
     "execution_count": 1,
     "metadata": {}
    },
    {
     "output_type": "execute_result",
     "data": {
      "text/plain": "Phase: Bottleneck Computation, Dataset used:      Train, Image Index: 348"
     },
     "execution_count": 1,
     "metadata": {}
    },
    {
     "output_type": "execute_result",
     "data": {
      "text/plain": "Phase: Bottleneck Computation, Dataset used:      Train, Image Index: 349"
     },
     "execution_count": 1,
     "metadata": {}
    },
    {
     "output_type": "execute_result",
     "data": {
      "text/plain": "Phase: Bottleneck Computation, Dataset used:      Train, Image Index: 350"
     },
     "execution_count": 1,
     "metadata": {}
    },
    {
     "output_type": "execute_result",
     "data": {
      "text/plain": "Phase: Bottleneck Computation, Dataset used:      Train, Image Index: 351"
     },
     "execution_count": 1,
     "metadata": {}
    },
    {
     "output_type": "execute_result",
     "data": {
      "text/plain": "Phase: Bottleneck Computation, Dataset used:      Train, Image Index: 352"
     },
     "execution_count": 1,
     "metadata": {}
    },
    {
     "output_type": "execute_result",
     "data": {
      "text/plain": "Phase: Bottleneck Computation, Dataset used:      Train, Image Index: 353"
     },
     "execution_count": 1,
     "metadata": {}
    },
    {
     "output_type": "execute_result",
     "data": {
      "text/plain": "Phase: Bottleneck Computation, Dataset used:      Train, Image Index: 354"
     },
     "execution_count": 1,
     "metadata": {}
    },
    {
     "output_type": "execute_result",
     "data": {
      "text/plain": "Phase: Bottleneck Computation, Dataset used:      Train, Image Index: 355"
     },
     "execution_count": 1,
     "metadata": {}
    },
    {
     "output_type": "execute_result",
     "data": {
      "text/plain": "Phase: Bottleneck Computation, Dataset used:      Train, Image Index: 356"
     },
     "execution_count": 1,
     "metadata": {}
    },
    {
     "output_type": "execute_result",
     "data": {
      "text/plain": "Phase: Bottleneck Computation, Dataset used:      Train, Image Index: 357"
     },
     "execution_count": 1,
     "metadata": {}
    },
    {
     "output_type": "execute_result",
     "data": {
      "text/plain": "Phase: Bottleneck Computation, Dataset used:      Train, Image Index: 358"
     },
     "execution_count": 1,
     "metadata": {}
    },
    {
     "output_type": "execute_result",
     "data": {
      "text/plain": "Phase: Bottleneck Computation, Dataset used:      Train, Image Index: 359"
     },
     "execution_count": 1,
     "metadata": {}
    },
    {
     "output_type": "execute_result",
     "data": {
      "text/plain": "Phase: Bottleneck Computation, Dataset used:      Train, Image Index: 360"
     },
     "execution_count": 1,
     "metadata": {}
    },
    {
     "output_type": "execute_result",
     "data": {
      "text/plain": "Phase: Bottleneck Computation, Dataset used:      Train, Image Index: 361"
     },
     "execution_count": 1,
     "metadata": {}
    },
    {
     "output_type": "execute_result",
     "data": {
      "text/plain": "Phase: Bottleneck Computation, Dataset used:      Train, Image Index: 362"
     },
     "execution_count": 1,
     "metadata": {}
    },
    {
     "output_type": "execute_result",
     "data": {
      "text/plain": "Phase: Bottleneck Computation, Dataset used:      Train, Image Index: 363"
     },
     "execution_count": 1,
     "metadata": {}
    },
    {
     "output_type": "execute_result",
     "data": {
      "text/plain": "Phase: Bottleneck Computation, Dataset used:      Train, Image Index: 364"
     },
     "execution_count": 1,
     "metadata": {}
    },
    {
     "output_type": "execute_result",
     "data": {
      "text/plain": "Phase: Bottleneck Computation, Dataset used:      Train, Image Index: 365"
     },
     "execution_count": 1,
     "metadata": {}
    },
    {
     "output_type": "execute_result",
     "data": {
      "text/plain": "Phase: Bottleneck Computation, Dataset used:      Train, Image Index: 366"
     },
     "execution_count": 1,
     "metadata": {}
    },
    {
     "output_type": "execute_result",
     "data": {
      "text/plain": "Phase: Bottleneck Computation, Dataset used:      Train, Image Index: 367"
     },
     "execution_count": 1,
     "metadata": {}
    },
    {
     "output_type": "execute_result",
     "data": {
      "text/plain": "Phase: Bottleneck Computation, Dataset used:      Train, Image Index: 368"
     },
     "execution_count": 1,
     "metadata": {}
    },
    {
     "output_type": "execute_result",
     "data": {
      "text/plain": "Phase: Bottleneck Computation, Dataset used:      Train, Image Index: 369"
     },
     "execution_count": 1,
     "metadata": {}
    },
    {
     "output_type": "execute_result",
     "data": {
      "text/plain": "Phase: Bottleneck Computation, Dataset used:      Train, Image Index: 370"
     },
     "execution_count": 1,
     "metadata": {}
    },
    {
     "output_type": "execute_result",
     "data": {
      "text/plain": "Phase: Bottleneck Computation, Dataset used:      Train, Image Index: 371"
     },
     "execution_count": 1,
     "metadata": {}
    },
    {
     "output_type": "execute_result",
     "data": {
      "text/plain": "Phase: Bottleneck Computation, Dataset used:      Train, Image Index: 372"
     },
     "execution_count": 1,
     "metadata": {}
    },
    {
     "output_type": "execute_result",
     "data": {
      "text/plain": "Phase: Bottleneck Computation, Dataset used:      Train, Image Index: 373"
     },
     "execution_count": 1,
     "metadata": {}
    },
    {
     "output_type": "execute_result",
     "data": {
      "text/plain": "Phase: Bottleneck Computation, Dataset used:      Train, Image Index: 374"
     },
     "execution_count": 1,
     "metadata": {}
    },
    {
     "output_type": "execute_result",
     "data": {
      "text/plain": "Phase: Bottleneck Computation, Dataset used:      Train, Image Index: 375"
     },
     "execution_count": 1,
     "metadata": {}
    },
    {
     "output_type": "execute_result",
     "data": {
      "text/plain": "Phase: Bottleneck Computation, Dataset used:      Train, Image Index: 376"
     },
     "execution_count": 1,
     "metadata": {}
    },
    {
     "output_type": "execute_result",
     "data": {
      "text/plain": "Phase: Bottleneck Computation, Dataset used:      Train, Image Index: 377"
     },
     "execution_count": 1,
     "metadata": {}
    },
    {
     "output_type": "execute_result",
     "data": {
      "text/plain": "Phase: Bottleneck Computation, Dataset used:      Train, Image Index: 378"
     },
     "execution_count": 1,
     "metadata": {}
    },
    {
     "output_type": "execute_result",
     "data": {
      "text/plain": "Phase: Bottleneck Computation, Dataset used:      Train, Image Index: 379"
     },
     "execution_count": 1,
     "metadata": {}
    },
    {
     "output_type": "execute_result",
     "data": {
      "text/plain": "Phase: Bottleneck Computation, Dataset used:      Train, Image Index: 380"
     },
     "execution_count": 1,
     "metadata": {}
    },
    {
     "output_type": "execute_result",
     "data": {
      "text/plain": "Phase: Bottleneck Computation, Dataset used:      Train, Image Index: 381"
     },
     "execution_count": 1,
     "metadata": {}
    },
    {
     "output_type": "execute_result",
     "data": {
      "text/plain": "Phase: Bottleneck Computation, Dataset used:      Train, Image Index: 382"
     },
     "execution_count": 1,
     "metadata": {}
    },
    {
     "output_type": "execute_result",
     "data": {
      "text/plain": "Phase: Bottleneck Computation, Dataset used:      Train, Image Index: 383"
     },
     "execution_count": 1,
     "metadata": {}
    },
    {
     "output_type": "execute_result",
     "data": {
      "text/plain": "Phase: Bottleneck Computation, Dataset used:      Train, Image Index: 384"
     },
     "execution_count": 1,
     "metadata": {}
    },
    {
     "output_type": "execute_result",
     "data": {
      "text/plain": "Phase: Bottleneck Computation, Dataset used:      Train, Image Index: 385"
     },
     "execution_count": 1,
     "metadata": {}
    },
    {
     "output_type": "execute_result",
     "data": {
      "text/plain": "Phase: Bottleneck Computation, Dataset used:      Train, Image Index: 386"
     },
     "execution_count": 1,
     "metadata": {}
    },
    {
     "output_type": "execute_result",
     "data": {
      "text/plain": "Phase: Bottleneck Computation, Dataset used:      Train, Image Index: 387"
     },
     "execution_count": 1,
     "metadata": {}
    },
    {
     "output_type": "execute_result",
     "data": {
      "text/plain": "Phase: Bottleneck Computation, Dataset used:      Train, Image Index: 388"
     },
     "execution_count": 1,
     "metadata": {}
    },
    {
     "output_type": "execute_result",
     "data": {
      "text/plain": "Phase: Bottleneck Computation, Dataset used:      Train, Image Index: 389"
     },
     "execution_count": 1,
     "metadata": {}
    },
    {
     "output_type": "execute_result",
     "data": {
      "text/plain": "Phase: Bottleneck Computation, Dataset used:      Train, Image Index: 390"
     },
     "execution_count": 1,
     "metadata": {}
    },
    {
     "output_type": "execute_result",
     "data": {
      "text/plain": "Phase: Bottleneck Computation, Dataset used:      Train, Image Index: 391"
     },
     "execution_count": 1,
     "metadata": {}
    },
    {
     "output_type": "execute_result",
     "data": {
      "text/plain": "Phase: Bottleneck Computation, Dataset used:      Train, Image Index: 392"
     },
     "execution_count": 1,
     "metadata": {}
    },
    {
     "output_type": "execute_result",
     "data": {
      "text/plain": "Phase: Bottleneck Computation, Dataset used:      Train, Image Index: 393"
     },
     "execution_count": 1,
     "metadata": {}
    },
    {
     "output_type": "execute_result",
     "data": {
      "text/plain": "Phase: Bottleneck Computation, Dataset used:      Train, Image Index: 394"
     },
     "execution_count": 1,
     "metadata": {}
    },
    {
     "output_type": "execute_result",
     "data": {
      "text/plain": "Phase: Bottleneck Computation, Dataset used:      Train, Image Index: 395"
     },
     "execution_count": 1,
     "metadata": {}
    },
    {
     "output_type": "execute_result",
     "data": {
      "text/plain": "Phase: Bottleneck Computation, Dataset used:      Train, Image Index: 396"
     },
     "execution_count": 1,
     "metadata": {}
    },
    {
     "output_type": "execute_result",
     "data": {
      "text/plain": "Phase: Bottleneck Computation, Dataset used:      Train, Image Index: 397"
     },
     "execution_count": 1,
     "metadata": {}
    },
    {
     "output_type": "execute_result",
     "data": {
      "text/plain": "Phase: Bottleneck Computation, Dataset used:      Train, Image Index: 398"
     },
     "execution_count": 1,
     "metadata": {}
    },
    {
     "output_type": "execute_result",
     "data": {
      "text/plain": "Phase: Bottleneck Computation, Dataset used:      Train, Image Index: 399"
     },
     "execution_count": 1,
     "metadata": {}
    },
    {
     "output_type": "execute_result",
     "data": {
      "text/plain": "Phase: Bottleneck Computation, Dataset used:      Train, Image Index: 400"
     },
     "execution_count": 1,
     "metadata": {}
    },
    {
     "output_type": "execute_result",
     "data": {
      "text/plain": "Phase: Bottleneck Computation, Dataset used:      Train, Image Index: 401"
     },
     "execution_count": 1,
     "metadata": {}
    },
    {
     "output_type": "execute_result",
     "data": {
      "text/plain": "Phase: Bottleneck Computation, Dataset used:      Train, Image Index: 402"
     },
     "execution_count": 1,
     "metadata": {}
    },
    {
     "output_type": "execute_result",
     "data": {
      "text/plain": "Phase: Bottleneck Computation, Dataset used:      Train, Image Index: 403"
     },
     "execution_count": 1,
     "metadata": {}
    },
    {
     "output_type": "execute_result",
     "data": {
      "text/plain": "Phase: Bottleneck Computation, Dataset used:      Train, Image Index: 404"
     },
     "execution_count": 1,
     "metadata": {}
    },
    {
     "output_type": "execute_result",
     "data": {
      "text/plain": "Phase: Bottleneck Computation, Dataset used:      Train, Image Index: 405"
     },
     "execution_count": 1,
     "metadata": {}
    },
    {
     "output_type": "execute_result",
     "data": {
      "text/plain": "Phase: Bottleneck Computation, Dataset used:      Train, Image Index: 406"
     },
     "execution_count": 1,
     "metadata": {}
    },
    {
     "output_type": "execute_result",
     "data": {
      "text/plain": "Phase: Bottleneck Computation, Dataset used:      Train, Image Index: 407"
     },
     "execution_count": 1,
     "metadata": {}
    },
    {
     "output_type": "execute_result",
     "data": {
      "text/plain": "Phase: Bottleneck Computation, Dataset used:      Train, Image Index: 408"
     },
     "execution_count": 1,
     "metadata": {}
    },
    {
     "output_type": "execute_result",
     "data": {
      "text/plain": "Phase: Bottleneck Computation, Dataset used:      Train, Image Index: 409"
     },
     "execution_count": 1,
     "metadata": {}
    },
    {
     "output_type": "execute_result",
     "data": {
      "text/plain": "Phase: Bottleneck Computation, Dataset used:      Train, Image Index: 410"
     },
     "execution_count": 1,
     "metadata": {}
    },
    {
     "output_type": "execute_result",
     "data": {
      "text/plain": "Phase: Bottleneck Computation, Dataset used:      Train, Image Index: 411"
     },
     "execution_count": 1,
     "metadata": {}
    },
    {
     "output_type": "execute_result",
     "data": {
      "text/plain": "Phase: Bottleneck Computation, Dataset used:      Train, Image Index: 412"
     },
     "execution_count": 1,
     "metadata": {}
    },
    {
     "output_type": "execute_result",
     "data": {
      "text/plain": "Phase: Bottleneck Computation, Dataset used:      Train, Image Index: 413"
     },
     "execution_count": 1,
     "metadata": {}
    },
    {
     "output_type": "execute_result",
     "data": {
      "text/plain": "Phase: Bottleneck Computation, Dataset used:      Train, Image Index: 414"
     },
     "execution_count": 1,
     "metadata": {}
    },
    {
     "output_type": "execute_result",
     "data": {
      "text/plain": "Phase: Bottleneck Computation, Dataset used:      Train, Image Index: 415"
     },
     "execution_count": 1,
     "metadata": {}
    },
    {
     "output_type": "execute_result",
     "data": {
      "text/plain": "Phase: Bottleneck Computation, Dataset used:      Train, Image Index: 416"
     },
     "execution_count": 1,
     "metadata": {}
    },
    {
     "output_type": "execute_result",
     "data": {
      "text/plain": "Phase: Bottleneck Computation, Dataset used:      Train, Image Index: 417"
     },
     "execution_count": 1,
     "metadata": {}
    },
    {
     "output_type": "execute_result",
     "data": {
      "text/plain": "Phase: Bottleneck Computation, Dataset used:      Train, Image Index: 418"
     },
     "execution_count": 1,
     "metadata": {}
    },
    {
     "output_type": "execute_result",
     "data": {
      "text/plain": "Phase: Bottleneck Computation, Dataset used:      Train, Image Index: 419"
     },
     "execution_count": 1,
     "metadata": {}
    },
    {
     "output_type": "execute_result",
     "data": {
      "text/plain": "Phase: Bottleneck Computation, Dataset used:      Train, Image Index: 420"
     },
     "execution_count": 1,
     "metadata": {}
    },
    {
     "output_type": "execute_result",
     "data": {
      "text/plain": "Phase: Bottleneck Computation, Dataset used:      Train, Image Index: 421"
     },
     "execution_count": 1,
     "metadata": {}
    },
    {
     "output_type": "execute_result",
     "data": {
      "text/plain": "Phase: Bottleneck Computation, Dataset used:      Train, Image Index: 422"
     },
     "execution_count": 1,
     "metadata": {}
    },
    {
     "output_type": "execute_result",
     "data": {
      "text/plain": "Phase: Bottleneck Computation, Dataset used:      Train, Image Index: 423"
     },
     "execution_count": 1,
     "metadata": {}
    },
    {
     "output_type": "execute_result",
     "data": {
      "text/plain": "Phase: Bottleneck Computation, Dataset used:      Train, Image Index: 424"
     },
     "execution_count": 1,
     "metadata": {}
    },
    {
     "output_type": "execute_result",
     "data": {
      "text/plain": "Phase: Bottleneck Computation, Dataset used:      Train, Image Index: 425"
     },
     "execution_count": 1,
     "metadata": {}
    },
    {
     "output_type": "execute_result",
     "data": {
      "text/plain": "Phase: Bottleneck Computation, Dataset used:      Train, Image Index: 426"
     },
     "execution_count": 1,
     "metadata": {}
    },
    {
     "output_type": "execute_result",
     "data": {
      "text/plain": "Phase: Bottleneck Computation, Dataset used:      Train, Image Index: 427"
     },
     "execution_count": 1,
     "metadata": {}
    },
    {
     "output_type": "execute_result",
     "data": {
      "text/plain": "Phase: Bottleneck Computation, Dataset used:      Train, Image Index: 428"
     },
     "execution_count": 1,
     "metadata": {}
    },
    {
     "output_type": "execute_result",
     "data": {
      "text/plain": "Phase: Bottleneck Computation, Dataset used:      Train, Image Index: 429"
     },
     "execution_count": 1,
     "metadata": {}
    },
    {
     "output_type": "execute_result",
     "data": {
      "text/plain": "Phase: Bottleneck Computation, Dataset used:      Train, Image Index: 430"
     },
     "execution_count": 1,
     "metadata": {}
    },
    {
     "output_type": "execute_result",
     "data": {
      "text/plain": "Phase: Bottleneck Computation, Dataset used:      Train, Image Index: 431"
     },
     "execution_count": 1,
     "metadata": {}
    },
    {
     "output_type": "execute_result",
     "data": {
      "text/plain": "Phase: Bottleneck Computation, Dataset used:      Train, Image Index: 432"
     },
     "execution_count": 1,
     "metadata": {}
    },
    {
     "output_type": "execute_result",
     "data": {
      "text/plain": "Phase: Bottleneck Computation, Dataset used:      Train, Image Index: 433"
     },
     "execution_count": 1,
     "metadata": {}
    },
    {
     "output_type": "execute_result",
     "data": {
      "text/plain": "Phase: Bottleneck Computation, Dataset used:      Train, Image Index: 434"
     },
     "execution_count": 1,
     "metadata": {}
    },
    {
     "output_type": "execute_result",
     "data": {
      "text/plain": "Phase: Bottleneck Computation, Dataset used:      Train, Image Index: 435"
     },
     "execution_count": 1,
     "metadata": {}
    },
    {
     "output_type": "execute_result",
     "data": {
      "text/plain": "Phase: Bottleneck Computation, Dataset used:      Train, Image Index: 436"
     },
     "execution_count": 1,
     "metadata": {}
    },
    {
     "output_type": "execute_result",
     "data": {
      "text/plain": "Phase: Bottleneck Computation, Dataset used:      Train, Image Index: 437"
     },
     "execution_count": 1,
     "metadata": {}
    },
    {
     "output_type": "execute_result",
     "data": {
      "text/plain": "Phase: Bottleneck Computation, Dataset used:      Train, Image Index: 438"
     },
     "execution_count": 1,
     "metadata": {}
    },
    {
     "output_type": "execute_result",
     "data": {
      "text/plain": "Phase: Bottleneck Computation, Dataset used:      Train, Image Index: 439"
     },
     "execution_count": 1,
     "metadata": {}
    },
    {
     "output_type": "execute_result",
     "data": {
      "text/plain": "Phase: Bottleneck Computation, Dataset used:      Train, Image Index: 440"
     },
     "execution_count": 1,
     "metadata": {}
    },
    {
     "output_type": "execute_result",
     "data": {
      "text/plain": "Phase: Bottleneck Computation, Dataset used:      Train, Image Index: 441"
     },
     "execution_count": 1,
     "metadata": {}
    },
    {
     "output_type": "execute_result",
     "data": {
      "text/plain": "Phase: Bottleneck Computation, Dataset used:      Train, Image Index: 442"
     },
     "execution_count": 1,
     "metadata": {}
    },
    {
     "output_type": "execute_result",
     "data": {
      "text/plain": "Phase: Bottleneck Computation, Dataset used:      Train, Image Index: 443"
     },
     "execution_count": 1,
     "metadata": {}
    },
    {
     "output_type": "execute_result",
     "data": {
      "text/plain": "Phase: Bottleneck Computation, Dataset used:      Train, Image Index: 444"
     },
     "execution_count": 1,
     "metadata": {}
    },
    {
     "output_type": "execute_result",
     "data": {
      "text/plain": "Phase: Bottleneck Computation, Dataset used:      Train, Image Index: 445"
     },
     "execution_count": 1,
     "metadata": {}
    },
    {
     "output_type": "execute_result",
     "data": {
      "text/plain": "Phase: Bottleneck Computation, Dataset used:      Train, Image Index: 446"
     },
     "execution_count": 1,
     "metadata": {}
    },
    {
     "output_type": "execute_result",
     "data": {
      "text/plain": "Phase: Bottleneck Computation, Dataset used:      Train, Image Index: 447"
     },
     "execution_count": 1,
     "metadata": {}
    },
    {
     "output_type": "execute_result",
     "data": {
      "text/plain": "Phase: Bottleneck Computation, Dataset used:      Train, Image Index: 448"
     },
     "execution_count": 1,
     "metadata": {}
    },
    {
     "output_type": "execute_result",
     "data": {
      "text/plain": "Phase: Bottleneck Computation, Dataset used:      Train, Image Index: 449"
     },
     "execution_count": 1,
     "metadata": {}
    },
    {
     "output_type": "execute_result",
     "data": {
      "text/plain": "Phase: Bottleneck Computation, Dataset used:      Train, Image Index: 450"
     },
     "execution_count": 1,
     "metadata": {}
    },
    {
     "output_type": "execute_result",
     "data": {
      "text/plain": "Phase: Bottleneck Computation, Dataset used:      Train, Image Index: 451"
     },
     "execution_count": 1,
     "metadata": {}
    },
    {
     "output_type": "execute_result",
     "data": {
      "text/plain": "Phase: Bottleneck Computation, Dataset used:      Train, Image Index: 452"
     },
     "execution_count": 1,
     "metadata": {}
    },
    {
     "output_type": "execute_result",
     "data": {
      "text/plain": "Phase: Bottleneck Computation, Dataset used:      Train, Image Index: 453"
     },
     "execution_count": 1,
     "metadata": {}
    },
    {
     "output_type": "execute_result",
     "data": {
      "text/plain": "Phase: Bottleneck Computation, Dataset used:      Train, Image Index: 454"
     },
     "execution_count": 1,
     "metadata": {}
    },
    {
     "output_type": "execute_result",
     "data": {
      "text/plain": "Phase: Bottleneck Computation, Dataset used:      Train, Image Index: 455"
     },
     "execution_count": 1,
     "metadata": {}
    },
    {
     "output_type": "execute_result",
     "data": {
      "text/plain": "Phase: Bottleneck Computation, Dataset used:      Train, Image Index: 456"
     },
     "execution_count": 1,
     "metadata": {}
    },
    {
     "output_type": "execute_result",
     "data": {
      "text/plain": "Phase: Bottleneck Computation, Dataset used:      Train, Image Index: 457"
     },
     "execution_count": 1,
     "metadata": {}
    },
    {
     "output_type": "execute_result",
     "data": {
      "text/plain": "Phase: Bottleneck Computation, Dataset used:      Train, Image Index: 458"
     },
     "execution_count": 1,
     "metadata": {}
    },
    {
     "output_type": "execute_result",
     "data": {
      "text/plain": "Phase: Bottleneck Computation, Dataset used:      Train, Image Index: 459"
     },
     "execution_count": 1,
     "metadata": {}
    },
    {
     "output_type": "execute_result",
     "data": {
      "text/plain": "Phase: Bottleneck Computation, Dataset used:      Train, Image Index: 460"
     },
     "execution_count": 1,
     "metadata": {}
    },
    {
     "output_type": "execute_result",
     "data": {
      "text/plain": "Phase: Bottleneck Computation, Dataset used:      Train, Image Index: 461"
     },
     "execution_count": 1,
     "metadata": {}
    },
    {
     "output_type": "execute_result",
     "data": {
      "text/plain": "Phase: Bottleneck Computation, Dataset used:      Train, Image Index: 462"
     },
     "execution_count": 1,
     "metadata": {}
    },
    {
     "output_type": "execute_result",
     "data": {
      "text/plain": "Phase: Bottleneck Computation, Dataset used:      Train, Image Index: 463"
     },
     "execution_count": 1,
     "metadata": {}
    },
    {
     "output_type": "execute_result",
     "data": {
      "text/plain": "Phase: Bottleneck Computation, Dataset used:      Train, Image Index: 464"
     },
     "execution_count": 1,
     "metadata": {}
    },
    {
     "output_type": "execute_result",
     "data": {
      "text/plain": "Phase: Bottleneck Computation, Dataset used:      Train, Image Index: 465"
     },
     "execution_count": 1,
     "metadata": {}
    },
    {
     "output_type": "execute_result",
     "data": {
      "text/plain": "Phase: Bottleneck Computation, Dataset used:      Train, Image Index: 466"
     },
     "execution_count": 1,
     "metadata": {}
    },
    {
     "output_type": "execute_result",
     "data": {
      "text/plain": "Phase: Bottleneck Computation, Dataset used:      Train, Image Index: 467"
     },
     "execution_count": 1,
     "metadata": {}
    },
    {
     "output_type": "execute_result",
     "data": {
      "text/plain": "Phase: Bottleneck Computation, Dataset used:      Train, Image Index: 468"
     },
     "execution_count": 1,
     "metadata": {}
    },
    {
     "output_type": "execute_result",
     "data": {
      "text/plain": "Phase: Bottleneck Computation, Dataset used:      Train, Image Index: 469"
     },
     "execution_count": 1,
     "metadata": {}
    },
    {
     "output_type": "execute_result",
     "data": {
      "text/plain": "Phase: Bottleneck Computation, Dataset used:      Train, Image Index: 470"
     },
     "execution_count": 1,
     "metadata": {}
    },
    {
     "output_type": "execute_result",
     "data": {
      "text/plain": "Phase: Bottleneck Computation, Dataset used:      Train, Image Index: 471"
     },
     "execution_count": 1,
     "metadata": {}
    },
    {
     "output_type": "execute_result",
     "data": {
      "text/plain": "Phase: Bottleneck Computation, Dataset used:      Train, Image Index: 472"
     },
     "execution_count": 1,
     "metadata": {}
    },
    {
     "output_type": "execute_result",
     "data": {
      "text/plain": "Phase: Bottleneck Computation, Dataset used:      Train, Image Index: 473"
     },
     "execution_count": 1,
     "metadata": {}
    },
    {
     "output_type": "execute_result",
     "data": {
      "text/plain": "Phase: Bottleneck Computation, Dataset used:      Train, Image Index: 474"
     },
     "execution_count": 1,
     "metadata": {}
    },
    {
     "output_type": "execute_result",
     "data": {
      "text/plain": "Phase: Bottleneck Computation, Dataset used:      Train, Image Index: 475"
     },
     "execution_count": 1,
     "metadata": {}
    },
    {
     "output_type": "execute_result",
     "data": {
      "text/plain": "Phase: Bottleneck Computation, Dataset used:      Train, Image Index: 476"
     },
     "execution_count": 1,
     "metadata": {}
    },
    {
     "output_type": "execute_result",
     "data": {
      "text/plain": "Phase: Bottleneck Computation, Dataset used:      Train, Image Index: 477"
     },
     "execution_count": 1,
     "metadata": {}
    },
    {
     "output_type": "execute_result",
     "data": {
      "text/plain": "Phase: Bottleneck Computation, Dataset used:      Train, Image Index: 478"
     },
     "execution_count": 1,
     "metadata": {}
    },
    {
     "output_type": "execute_result",
     "data": {
      "text/plain": "Phase: Bottleneck Computation, Dataset used:      Train, Image Index: 479"
     },
     "execution_count": 1,
     "metadata": {}
    },
    {
     "output_type": "execute_result",
     "data": {
      "text/plain": "Phase: Bottleneck Computation, Dataset used:      Train, Image Index: 480"
     },
     "execution_count": 1,
     "metadata": {}
    },
    {
     "output_type": "execute_result",
     "data": {
      "text/plain": "Phase: Bottleneck Computation, Dataset used:      Train, Image Index: 481"
     },
     "execution_count": 1,
     "metadata": {}
    },
    {
     "output_type": "execute_result",
     "data": {
      "text/plain": "Phase: Bottleneck Computation, Dataset used:      Train, Image Index: 482"
     },
     "execution_count": 1,
     "metadata": {}
    },
    {
     "output_type": "execute_result",
     "data": {
      "text/plain": "Phase: Bottleneck Computation, Dataset used:      Train, Image Index: 483"
     },
     "execution_count": 1,
     "metadata": {}
    },
    {
     "output_type": "execute_result",
     "data": {
      "text/plain": "Phase: Bottleneck Computation, Dataset used:      Train, Image Index: 484"
     },
     "execution_count": 1,
     "metadata": {}
    },
    {
     "output_type": "execute_result",
     "data": {
      "text/plain": "Phase: Bottleneck Computation, Dataset used:      Train, Image Index: 485"
     },
     "execution_count": 1,
     "metadata": {}
    },
    {
     "output_type": "execute_result",
     "data": {
      "text/plain": "Phase: Bottleneck Computation, Dataset used:      Train, Image Index: 486"
     },
     "execution_count": 1,
     "metadata": {}
    },
    {
     "output_type": "execute_result",
     "data": {
      "text/plain": "Phase: Bottleneck Computation, Dataset used:      Train, Image Index: 487"
     },
     "execution_count": 1,
     "metadata": {}
    },
    {
     "output_type": "execute_result",
     "data": {
      "text/plain": "Phase: Bottleneck Computation, Dataset used:      Train, Image Index: 488"
     },
     "execution_count": 1,
     "metadata": {}
    },
    {
     "output_type": "execute_result",
     "data": {
      "text/plain": "Phase: Bottleneck Computation, Dataset used:      Train, Image Index: 489"
     },
     "execution_count": 1,
     "metadata": {}
    },
    {
     "output_type": "execute_result",
     "data": {
      "text/plain": "Phase: Bottleneck Computation, Dataset used:      Train, Image Index: 490"
     },
     "execution_count": 1,
     "metadata": {}
    },
    {
     "output_type": "execute_result",
     "data": {
      "text/plain": "Phase: Bottleneck Computation, Dataset used:      Train, Image Index: 491"
     },
     "execution_count": 1,
     "metadata": {}
    },
    {
     "output_type": "execute_result",
     "data": {
      "text/plain": "Phase: Bottleneck Computation, Dataset used:      Train, Image Index: 492"
     },
     "execution_count": 1,
     "metadata": {}
    },
    {
     "output_type": "execute_result",
     "data": {
      "text/plain": "Phase: Bottleneck Computation, Dataset used:      Train, Image Index: 493"
     },
     "execution_count": 1,
     "metadata": {}
    },
    {
     "output_type": "execute_result",
     "data": {
      "text/plain": "Phase: Bottleneck Computation, Dataset used:      Train, Image Index: 494"
     },
     "execution_count": 1,
     "metadata": {}
    },
    {
     "output_type": "execute_result",
     "data": {
      "text/plain": "Phase: Bottleneck Computation, Dataset used:      Train, Image Index: 495"
     },
     "execution_count": 1,
     "metadata": {}
    },
    {
     "output_type": "execute_result",
     "data": {
      "text/plain": "Phase: Bottleneck Computation, Dataset used:      Train, Image Index: 496"
     },
     "execution_count": 1,
     "metadata": {}
    },
    {
     "output_type": "execute_result",
     "data": {
      "text/plain": "Phase: Bottleneck Computation, Dataset used:      Train, Image Index: 497"
     },
     "execution_count": 1,
     "metadata": {}
    },
    {
     "output_type": "execute_result",
     "data": {
      "text/plain": "Phase: Bottleneck Computation, Dataset used:      Train, Image Index: 498"
     },
     "execution_count": 1,
     "metadata": {}
    },
    {
     "output_type": "execute_result",
     "data": {
      "text/plain": "Phase: Bottleneck Computation, Dataset used:      Train, Image Index: 499"
     },
     "execution_count": 1,
     "metadata": {}
    },
    {
     "output_type": "execute_result",
     "data": {
      "text/plain": "Phase: Bottleneck Computation, Dataset used:      Train, Image Index: 500"
     },
     "execution_count": 1,
     "metadata": {}
    },
    {
     "output_type": "execute_result",
     "data": {
      "text/plain": "Phase: Bottleneck Computation, Dataset used:      Train, Image Index: 501"
     },
     "execution_count": 1,
     "metadata": {}
    },
    {
     "output_type": "execute_result",
     "data": {
      "text/plain": "Phase: Bottleneck Computation, Dataset used:      Train, Image Index: 502"
     },
     "execution_count": 1,
     "metadata": {}
    },
    {
     "output_type": "execute_result",
     "data": {
      "text/plain": "Phase: Bottleneck Computation, Dataset used:      Train, Image Index: 503"
     },
     "execution_count": 1,
     "metadata": {}
    },
    {
     "output_type": "execute_result",
     "data": {
      "text/plain": "Phase: Bottleneck Computation, Dataset used:      Train, Image Index: 504"
     },
     "execution_count": 1,
     "metadata": {}
    },
    {
     "output_type": "execute_result",
     "data": {
      "text/plain": "Phase: Bottleneck Computation, Dataset used:      Train, Image Index: 505"
     },
     "execution_count": 1,
     "metadata": {}
    },
    {
     "output_type": "execute_result",
     "data": {
      "text/plain": "Phase: Bottleneck Computation, Dataset used:      Train, Image Index: 506"
     },
     "execution_count": 1,
     "metadata": {}
    },
    {
     "output_type": "execute_result",
     "data": {
      "text/plain": "Phase: Bottleneck Computation, Dataset used:      Train, Image Index: 507"
     },
     "execution_count": 1,
     "metadata": {}
    },
    {
     "output_type": "execute_result",
     "data": {
      "text/plain": "Phase: Bottleneck Computation, Dataset used:      Train, Image Index: 508"
     },
     "execution_count": 1,
     "metadata": {}
    },
    {
     "output_type": "execute_result",
     "data": {
      "text/plain": "Phase: Bottleneck Computation, Dataset used:      Train, Image Index: 509"
     },
     "execution_count": 1,
     "metadata": {}
    },
    {
     "output_type": "execute_result",
     "data": {
      "text/plain": "Phase: Bottleneck Computation, Dataset used:      Train, Image Index: 510"
     },
     "execution_count": 1,
     "metadata": {}
    },
    {
     "output_type": "execute_result",
     "data": {
      "text/plain": "Phase: Bottleneck Computation, Dataset used:      Train, Image Index: 511"
     },
     "execution_count": 1,
     "metadata": {}
    },
    {
     "output_type": "execute_result",
     "data": {
      "text/plain": "Phase: Bottleneck Computation, Dataset used:      Train, Image Index: 512"
     },
     "execution_count": 1,
     "metadata": {}
    },
    {
     "output_type": "execute_result",
     "data": {
      "text/plain": "Phase: Bottleneck Computation, Dataset used:      Train, Image Index: 513"
     },
     "execution_count": 1,
     "metadata": {}
    },
    {
     "output_type": "execute_result",
     "data": {
      "text/plain": "Phase: Bottleneck Computation, Dataset used:      Train, Image Index: 514"
     },
     "execution_count": 1,
     "metadata": {}
    },
    {
     "output_type": "execute_result",
     "data": {
      "text/plain": "Phase: Bottleneck Computation, Dataset used:      Train, Image Index: 515"
     },
     "execution_count": 1,
     "metadata": {}
    },
    {
     "output_type": "execute_result",
     "data": {
      "text/plain": "Phase: Bottleneck Computation, Dataset used:      Train, Image Index: 516"
     },
     "execution_count": 1,
     "metadata": {}
    },
    {
     "output_type": "execute_result",
     "data": {
      "text/plain": "Phase: Bottleneck Computation, Dataset used:      Train, Image Index: 517"
     },
     "execution_count": 1,
     "metadata": {}
    },
    {
     "output_type": "execute_result",
     "data": {
      "text/plain": "Phase: Bottleneck Computation, Dataset used:      Train, Image Index: 518"
     },
     "execution_count": 1,
     "metadata": {}
    },
    {
     "output_type": "execute_result",
     "data": {
      "text/plain": "Phase: Bottleneck Computation, Dataset used:      Train, Image Index: 519"
     },
     "execution_count": 1,
     "metadata": {}
    },
    {
     "output_type": "execute_result",
     "data": {
      "text/plain": "Phase: Bottleneck Computation, Dataset used:      Train, Image Index: 520"
     },
     "execution_count": 1,
     "metadata": {}
    },
    {
     "output_type": "execute_result",
     "data": {
      "text/plain": "Phase: Bottleneck Computation, Dataset used:      Train, Image Index: 521"
     },
     "execution_count": 1,
     "metadata": {}
    },
    {
     "output_type": "execute_result",
     "data": {
      "text/plain": "Phase: Bottleneck Computation, Dataset used:      Train, Image Index: 522"
     },
     "execution_count": 1,
     "metadata": {}
    },
    {
     "output_type": "execute_result",
     "data": {
      "text/plain": "Phase: Bottleneck Computation, Dataset used:      Train, Image Index: 523"
     },
     "execution_count": 1,
     "metadata": {}
    },
    {
     "output_type": "execute_result",
     "data": {
      "text/plain": "Phase: Bottleneck Computation, Dataset used:      Train, Image Index: 524"
     },
     "execution_count": 1,
     "metadata": {}
    },
    {
     "output_type": "execute_result",
     "data": {
      "text/plain": "Phase: Bottleneck Computation, Dataset used:      Train, Image Index: 525"
     },
     "execution_count": 1,
     "metadata": {}
    },
    {
     "output_type": "execute_result",
     "data": {
      "text/plain": "Phase: Bottleneck Computation, Dataset used:      Train, Image Index: 526"
     },
     "execution_count": 1,
     "metadata": {}
    },
    {
     "output_type": "execute_result",
     "data": {
      "text/plain": "Phase: Bottleneck Computation, Dataset used:      Train, Image Index: 527"
     },
     "execution_count": 1,
     "metadata": {}
    },
    {
     "output_type": "execute_result",
     "data": {
      "text/plain": "Phase: Bottleneck Computation, Dataset used:      Train, Image Index: 528"
     },
     "execution_count": 1,
     "metadata": {}
    },
    {
     "output_type": "execute_result",
     "data": {
      "text/plain": "Phase: Bottleneck Computation, Dataset used:      Train, Image Index: 529"
     },
     "execution_count": 1,
     "metadata": {}
    },
    {
     "output_type": "execute_result",
     "data": {
      "text/plain": "Phase: Bottleneck Computation, Dataset used:      Train, Image Index: 530"
     },
     "execution_count": 1,
     "metadata": {}
    },
    {
     "output_type": "execute_result",
     "data": {
      "text/plain": "Phase: Bottleneck Computation, Dataset used:      Train, Image Index: 531"
     },
     "execution_count": 1,
     "metadata": {}
    },
    {
     "output_type": "execute_result",
     "data": {
      "text/plain": "Phase: Bottleneck Computation, Dataset used:      Train, Image Index: 532"
     },
     "execution_count": 1,
     "metadata": {}
    },
    {
     "output_type": "execute_result",
     "data": {
      "text/plain": "Phase: Bottleneck Computation, Dataset used:      Train, Image Index: 533"
     },
     "execution_count": 1,
     "metadata": {}
    },
    {
     "output_type": "execute_result",
     "data": {
      "text/plain": "Phase: Bottleneck Computation, Dataset used:      Train, Image Index: 534"
     },
     "execution_count": 1,
     "metadata": {}
    },
    {
     "output_type": "execute_result",
     "data": {
      "text/plain": "Phase: Bottleneck Computation, Dataset used:      Train, Image Index: 535"
     },
     "execution_count": 1,
     "metadata": {}
    },
    {
     "output_type": "execute_result",
     "data": {
      "text/plain": "Phase: Bottleneck Computation, Dataset used:      Train, Image Index: 536"
     },
     "execution_count": 1,
     "metadata": {}
    },
    {
     "output_type": "execute_result",
     "data": {
      "text/plain": "Phase: Bottleneck Computation, Dataset used:      Train, Image Index: 537"
     },
     "execution_count": 1,
     "metadata": {}
    },
    {
     "output_type": "execute_result",
     "data": {
      "text/plain": "Phase: Bottleneck Computation, Dataset used:      Train, Image Index: 538"
     },
     "execution_count": 1,
     "metadata": {}
    },
    {
     "output_type": "execute_result",
     "data": {
      "text/plain": "Phase: Bottleneck Computation, Dataset used:      Train, Image Index: 539"
     },
     "execution_count": 1,
     "metadata": {}
    },
    {
     "output_type": "execute_result",
     "data": {
      "text/plain": "Phase: Bottleneck Computation, Dataset used:      Train, Image Index: 540"
     },
     "execution_count": 1,
     "metadata": {}
    },
    {
     "output_type": "execute_result",
     "data": {
      "text/plain": "Phase: Bottleneck Computation, Dataset used:      Train, Image Index: 541"
     },
     "execution_count": 1,
     "metadata": {}
    },
    {
     "output_type": "execute_result",
     "data": {
      "text/plain": "Phase: Bottleneck Computation, Dataset used:      Train, Image Index: 542"
     },
     "execution_count": 1,
     "metadata": {}
    },
    {
     "output_type": "execute_result",
     "data": {
      "text/plain": "Phase: Bottleneck Computation, Dataset used:      Train, Image Index: 543"
     },
     "execution_count": 1,
     "metadata": {}
    },
    {
     "output_type": "execute_result",
     "data": {
      "text/plain": "Phase: Bottleneck Computation, Dataset used:      Train, Image Index: 544"
     },
     "execution_count": 1,
     "metadata": {}
    },
    {
     "output_type": "execute_result",
     "data": {
      "text/plain": "Phase: Bottleneck Computation, Dataset used:      Train, Image Index: 545"
     },
     "execution_count": 1,
     "metadata": {}
    },
    {
     "output_type": "execute_result",
     "data": {
      "text/plain": "Phase: Bottleneck Computation, Dataset used:      Train, Image Index: 546"
     },
     "execution_count": 1,
     "metadata": {}
    },
    {
     "output_type": "execute_result",
     "data": {
      "text/plain": "Phase: Bottleneck Computation, Dataset used:      Train, Image Index: 547"
     },
     "execution_count": 1,
     "metadata": {}
    },
    {
     "output_type": "execute_result",
     "data": {
      "text/plain": "Phase: Bottleneck Computation, Dataset used:      Train, Image Index: 548"
     },
     "execution_count": 1,
     "metadata": {}
    },
    {
     "output_type": "execute_result",
     "data": {
      "text/plain": "Phase: Bottleneck Computation, Dataset used:      Train, Image Index: 549"
     },
     "execution_count": 1,
     "metadata": {}
    },
    {
     "output_type": "execute_result",
     "data": {
      "text/plain": "Phase: Bottleneck Computation, Dataset used:      Train, Image Index: 550"
     },
     "execution_count": 1,
     "metadata": {}
    },
    {
     "output_type": "execute_result",
     "data": {
      "text/plain": "Phase: Bottleneck Computation, Dataset used:      Train, Image Index: 551"
     },
     "execution_count": 1,
     "metadata": {}
    },
    {
     "output_type": "execute_result",
     "data": {
      "text/plain": "Phase: Bottleneck Computation, Dataset used:      Train, Image Index: 552"
     },
     "execution_count": 1,
     "metadata": {}
    },
    {
     "output_type": "execute_result",
     "data": {
      "text/plain": "Phase: Bottleneck Computation, Dataset used:      Train, Image Index: 553"
     },
     "execution_count": 1,
     "metadata": {}
    },
    {
     "output_type": "execute_result",
     "data": {
      "text/plain": "Phase: Bottleneck Computation, Dataset used:      Train, Image Index: 554"
     },
     "execution_count": 1,
     "metadata": {}
    },
    {
     "output_type": "execute_result",
     "data": {
      "text/plain": "Phase: Bottleneck Computation, Dataset used:      Train, Image Index: 555"
     },
     "execution_count": 1,
     "metadata": {}
    },
    {
     "output_type": "execute_result",
     "data": {
      "text/plain": "Phase: Bottleneck Computation, Dataset used:      Train, Image Index: 556"
     },
     "execution_count": 1,
     "metadata": {}
    },
    {
     "output_type": "execute_result",
     "data": {
      "text/plain": "Phase: Bottleneck Computation, Dataset used:      Train, Image Index: 557"
     },
     "execution_count": 1,
     "metadata": {}
    },
    {
     "output_type": "execute_result",
     "data": {
      "text/plain": "Phase: Bottleneck Computation, Dataset used:      Train, Image Index: 558"
     },
     "execution_count": 1,
     "metadata": {}
    },
    {
     "output_type": "execute_result",
     "data": {
      "text/plain": "Phase: Bottleneck Computation, Dataset used:      Train, Image Index: 559"
     },
     "execution_count": 1,
     "metadata": {}
    },
    {
     "output_type": "execute_result",
     "data": {
      "text/plain": "Phase: Bottleneck Computation, Dataset used:      Train, Image Index: 560"
     },
     "execution_count": 1,
     "metadata": {}
    },
    {
     "output_type": "execute_result",
     "data": {
      "text/plain": "Phase: Bottleneck Computation, Dataset used:      Train, Image Index: 561"
     },
     "execution_count": 1,
     "metadata": {}
    },
    {
     "output_type": "execute_result",
     "data": {
      "text/plain": "Phase: Bottleneck Computation, Dataset used:      Train, Image Index: 562"
     },
     "execution_count": 1,
     "metadata": {}
    },
    {
     "output_type": "execute_result",
     "data": {
      "text/plain": "Phase: Bottleneck Computation, Dataset used:      Train, Image Index: 563"
     },
     "execution_count": 1,
     "metadata": {}
    },
    {
     "output_type": "execute_result",
     "data": {
      "text/plain": "Phase: Bottleneck Computation, Dataset used:      Train, Image Index: 564"
     },
     "execution_count": 1,
     "metadata": {}
    },
    {
     "output_type": "execute_result",
     "data": {
      "text/plain": "Phase: Bottleneck Computation, Dataset used:      Train, Image Index: 565"
     },
     "execution_count": 1,
     "metadata": {}
    },
    {
     "output_type": "execute_result",
     "data": {
      "text/plain": "Phase: Bottleneck Computation, Dataset used:      Train, Image Index: 566"
     },
     "execution_count": 1,
     "metadata": {}
    },
    {
     "output_type": "execute_result",
     "data": {
      "text/plain": "Phase: Bottleneck Computation, Dataset used:      Train, Image Index: 567"
     },
     "execution_count": 1,
     "metadata": {}
    },
    {
     "output_type": "execute_result",
     "data": {
      "text/plain": "Phase: Bottleneck Computation, Dataset used:      Train, Image Index: 568"
     },
     "execution_count": 1,
     "metadata": {}
    },
    {
     "output_type": "execute_result",
     "data": {
      "text/plain": "Phase: Bottleneck Computation, Dataset used:      Train, Image Index: 569"
     },
     "execution_count": 1,
     "metadata": {}
    },
    {
     "output_type": "execute_result",
     "data": {
      "text/plain": "Phase: Bottleneck Computation, Dataset used:      Train, Image Index: 570"
     },
     "execution_count": 1,
     "metadata": {}
    },
    {
     "output_type": "execute_result",
     "data": {
      "text/plain": "Phase: Bottleneck Computation, Dataset used:      Train, Image Index: 571"
     },
     "execution_count": 1,
     "metadata": {}
    },
    {
     "output_type": "execute_result",
     "data": {
      "text/plain": "Phase: Bottleneck Computation, Dataset used:      Train, Image Index: 572"
     },
     "execution_count": 1,
     "metadata": {}
    },
    {
     "output_type": "execute_result",
     "data": {
      "text/plain": "Phase: Bottleneck Computation, Dataset used:      Train, Image Index: 573"
     },
     "execution_count": 1,
     "metadata": {}
    },
    {
     "output_type": "execute_result",
     "data": {
      "text/plain": "Phase: Bottleneck Computation, Dataset used:      Train, Image Index: 574"
     },
     "execution_count": 1,
     "metadata": {}
    },
    {
     "output_type": "execute_result",
     "data": {
      "text/plain": "Phase: Bottleneck Computation, Dataset used:      Train, Image Index: 575"
     },
     "execution_count": 1,
     "metadata": {}
    },
    {
     "output_type": "execute_result",
     "data": {
      "text/plain": "Phase: Bottleneck Computation, Dataset used:      Train, Image Index: 576"
     },
     "execution_count": 1,
     "metadata": {}
    },
    {
     "output_type": "execute_result",
     "data": {
      "text/plain": "Phase: Bottleneck Computation, Dataset used:      Train, Image Index: 577"
     },
     "execution_count": 1,
     "metadata": {}
    },
    {
     "output_type": "execute_result",
     "data": {
      "text/plain": "Phase: Bottleneck Computation, Dataset used:      Train, Image Index: 578"
     },
     "execution_count": 1,
     "metadata": {}
    },
    {
     "output_type": "execute_result",
     "data": {
      "text/plain": "Phase: Bottleneck Computation, Dataset used:      Train, Image Index: 579"
     },
     "execution_count": 1,
     "metadata": {}
    },
    {
     "output_type": "execute_result",
     "data": {
      "text/plain": "Phase: Bottleneck Computation, Dataset used:      Train, Image Index: 580"
     },
     "execution_count": 1,
     "metadata": {}
    },
    {
     "output_type": "execute_result",
     "data": {
      "text/plain": "Phase: Bottleneck Computation, Dataset used:      Train, Image Index: 581"
     },
     "execution_count": 1,
     "metadata": {}
    },
    {
     "output_type": "execute_result",
     "data": {
      "text/plain": "Phase: Bottleneck Computation, Dataset used:      Train, Image Index: 582"
     },
     "execution_count": 1,
     "metadata": {}
    },
    {
     "output_type": "execute_result",
     "data": {
      "text/plain": "Phase: Bottleneck Computation, Dataset used:      Train, Image Index: 583"
     },
     "execution_count": 1,
     "metadata": {}
    },
    {
     "output_type": "execute_result",
     "data": {
      "text/plain": "Phase: Bottleneck Computation, Dataset used:      Train, Image Index: 584"
     },
     "execution_count": 1,
     "metadata": {}
    },
    {
     "output_type": "execute_result",
     "data": {
      "text/plain": "Phase: Bottleneck Computation, Dataset used:      Train, Image Index: 585"
     },
     "execution_count": 1,
     "metadata": {}
    },
    {
     "output_type": "execute_result",
     "data": {
      "text/plain": "Phase: Bottleneck Computation, Dataset used:      Train, Image Index: 586"
     },
     "execution_count": 1,
     "metadata": {}
    },
    {
     "output_type": "execute_result",
     "data": {
      "text/plain": "Phase: Bottleneck Computation, Dataset used:      Train, Image Index: 587"
     },
     "execution_count": 1,
     "metadata": {}
    },
    {
     "output_type": "execute_result",
     "data": {
      "text/plain": "Phase: Bottleneck Computation, Dataset used:      Train, Image Index: 588"
     },
     "execution_count": 1,
     "metadata": {}
    },
    {
     "output_type": "execute_result",
     "data": {
      "text/plain": "Phase: Bottleneck Computation, Dataset used:      Train, Image Index: 589"
     },
     "execution_count": 1,
     "metadata": {}
    },
    {
     "output_type": "execute_result",
     "data": {
      "text/plain": "Phase: Bottleneck Computation, Dataset used:      Train, Image Index: 590"
     },
     "execution_count": 1,
     "metadata": {}
    },
    {
     "output_type": "execute_result",
     "data": {
      "text/plain": "Phase: Bottleneck Computation, Dataset used:      Train, Image Index: 591"
     },
     "execution_count": 1,
     "metadata": {}
    },
    {
     "output_type": "execute_result",
     "data": {
      "text/plain": "Phase: Bottleneck Computation, Dataset used:      Train, Image Index: 592"
     },
     "execution_count": 1,
     "metadata": {}
    },
    {
     "output_type": "execute_result",
     "data": {
      "text/plain": "Phase: Bottleneck Computation, Dataset used:      Train, Image Index: 593"
     },
     "execution_count": 1,
     "metadata": {}
    },
    {
     "output_type": "execute_result",
     "data": {
      "text/plain": "Phase: Bottleneck Computation, Dataset used:      Train, Image Index: 594"
     },
     "execution_count": 1,
     "metadata": {}
    },
    {
     "output_type": "execute_result",
     "data": {
      "text/plain": "Phase: Bottleneck Computation, Dataset used:      Train, Image Index: 595"
     },
     "execution_count": 1,
     "metadata": {}
    },
    {
     "output_type": "execute_result",
     "data": {
      "text/plain": "Phase: Bottleneck Computation, Dataset used:      Train, Image Index: 596"
     },
     "execution_count": 1,
     "metadata": {}
    },
    {
     "output_type": "execute_result",
     "data": {
      "text/plain": "Phase: Bottleneck Computation, Dataset used:      Train, Image Index: 597"
     },
     "execution_count": 1,
     "metadata": {}
    },
    {
     "output_type": "execute_result",
     "data": {
      "text/plain": "Phase: Bottleneck Computation, Dataset used:      Train, Image Index: 598"
     },
     "execution_count": 1,
     "metadata": {}
    },
    {
     "output_type": "execute_result",
     "data": {
      "text/plain": "Phase: Bottleneck Computation, Dataset used:      Train, Image Index: 599"
     },
     "execution_count": 1,
     "metadata": {}
    },
    {
     "output_type": "execute_result",
     "data": {
      "text/plain": "Phase: Bottleneck Computation, Dataset used:      Train, Image Index: 600"
     },
     "execution_count": 1,
     "metadata": {}
    },
    {
     "output_type": "execute_result",
     "data": {
      "text/plain": "Phase: Bottleneck Computation, Dataset used:      Train, Image Index: 601"
     },
     "execution_count": 1,
     "metadata": {}
    },
    {
     "output_type": "execute_result",
     "data": {
      "text/plain": "Phase: Bottleneck Computation, Dataset used:      Train, Image Index: 602"
     },
     "execution_count": 1,
     "metadata": {}
    },
    {
     "output_type": "execute_result",
     "data": {
      "text/plain": "Phase: Bottleneck Computation, Dataset used:      Train, Image Index: 603"
     },
     "execution_count": 1,
     "metadata": {}
    },
    {
     "output_type": "execute_result",
     "data": {
      "text/plain": "Phase: Bottleneck Computation, Dataset used:      Train, Image Index: 604"
     },
     "execution_count": 1,
     "metadata": {}
    },
    {
     "output_type": "execute_result",
     "data": {
      "text/plain": "Phase: Bottleneck Computation, Dataset used:      Train, Image Index: 605"
     },
     "execution_count": 1,
     "metadata": {}
    },
    {
     "output_type": "execute_result",
     "data": {
      "text/plain": "Phase: Bottleneck Computation, Dataset used:      Train, Image Index: 606"
     },
     "execution_count": 1,
     "metadata": {}
    },
    {
     "output_type": "execute_result",
     "data": {
      "text/plain": "Phase: Bottleneck Computation, Dataset used:      Train, Image Index: 607"
     },
     "execution_count": 1,
     "metadata": {}
    },
    {
     "output_type": "execute_result",
     "data": {
      "text/plain": "Phase: Bottleneck Computation, Dataset used:      Train, Image Index: 608"
     },
     "execution_count": 1,
     "metadata": {}
    },
    {
     "output_type": "execute_result",
     "data": {
      "text/plain": "Phase: Bottleneck Computation, Dataset used:      Train, Image Index: 609"
     },
     "execution_count": 1,
     "metadata": {}
    },
    {
     "output_type": "execute_result",
     "data": {
      "text/plain": "Phase: Bottleneck Computation, Dataset used:      Train, Image Index: 610"
     },
     "execution_count": 1,
     "metadata": {}
    },
    {
     "output_type": "execute_result",
     "data": {
      "text/plain": "Phase: Bottleneck Computation, Dataset used:      Train, Image Index: 611"
     },
     "execution_count": 1,
     "metadata": {}
    },
    {
     "output_type": "execute_result",
     "data": {
      "text/plain": "Phase: Training, Dataset used: Validation, Batch Processed Count:  10, Epoch:   0, Accuracy: 0,96000004, Cross-Entropy: 0,15176167"
     },
     "execution_count": 1,
     "metadata": {}
    },
    {
     "output_type": "execute_result",
     "data": {
      "text/plain": "Phase: Training, Dataset used: Validation, Batch Processed Count:  10, Epoch:   1, Accuracy:  0,9700001, Cross-Entropy: 0,09116091"
     },
     "execution_count": 1,
     "metadata": {}
    },
    {
     "output_type": "execute_result",
     "data": {
      "text/plain": "Phase: Training, Dataset used: Validation, Batch Processed Count:  10, Epoch:   2, Accuracy:  0,9700001, Cross-Entropy: 0,08683997"
     },
     "execution_count": 1,
     "metadata": {}
    },
    {
     "output_type": "execute_result",
     "data": {
      "text/plain": "Phase: Training, Dataset used: Validation, Batch Processed Count:  10, Epoch:   3, Accuracy:  0,9700001, Cross-Entropy: 0,08410997"
     },
     "execution_count": 1,
     "metadata": {}
    },
    {
     "output_type": "execute_result",
     "data": {
      "text/plain": "Phase: Training, Dataset used: Validation, Batch Processed Count:  10, Epoch:   4, Accuracy:  0,9700001, Cross-Entropy: 0,08261241"
     },
     "execution_count": 1,
     "metadata": {}
    },
    {
     "output_type": "execute_result",
     "data": {
      "text/plain": "Phase: Training, Dataset used: Validation, Batch Processed Count:  10, Epoch:   5, Accuracy:  0,9700001, Cross-Entropy: 0,08163479"
     },
     "execution_count": 1,
     "metadata": {}
    },
    {
     "output_type": "execute_result",
     "data": {
      "text/plain": "Phase: Training, Dataset used: Validation, Batch Processed Count:  10, Epoch:   6, Accuracy:  0,9700001, Cross-Entropy: 0,081227526"
     },
     "execution_count": 1,
     "metadata": {}
    },
    {
     "output_type": "execute_result",
     "data": {
      "text/plain": "Phase: Training, Dataset used: Validation, Batch Processed Count:  10, Epoch:   7, Accuracy:  0,9700001, Cross-Entropy: 0,08094474"
     },
     "execution_count": 1,
     "metadata": {}
    },
    {
     "output_type": "execute_result",
     "data": {
      "text/plain": "Phase: Training, Dataset used: Validation, Batch Processed Count:  10, Epoch:   8, Accuracy:  0,9700001, Cross-Entropy: 0,08092661"
     },
     "execution_count": 1,
     "metadata": {}
    },
    {
     "output_type": "execute_result",
     "data": {
      "text/plain": "Phase: Training, Dataset used: Validation, Batch Processed Count:  10, Epoch:   9, Accuracy:  0,9700001, Cross-Entropy: 0,08086217"
     },
     "execution_count": 1,
     "metadata": {}
    },
    {
     "output_type": "execute_result",
     "data": {
      "text/plain": "Phase: Training, Dataset used: Validation, Batch Processed Count:  10, Epoch:  10, Accuracy:  0,9700001, Cross-Entropy: 0,080941424"
     },
     "execution_count": 1,
     "metadata": {}
    },
    {
     "output_type": "execute_result",
     "data": {
      "text/plain": "Phase: Training, Dataset used: Validation, Batch Processed Count:  10, Epoch:  11, Accuracy:  0,9700001, Cross-Entropy:  0,0809397"
     },
     "execution_count": 1,
     "metadata": {}
    },
    {
     "output_type": "execute_result",
     "data": {
      "text/plain": "Phase: Training, Dataset used: Validation, Batch Processed Count:  10, Epoch:  12, Accuracy:  0,9700001, Cross-Entropy: 0,08103421"
     },
     "execution_count": 1,
     "metadata": {}
    },
    {
     "output_type": "execute_result",
     "data": {
      "text/plain": "Phase: Training, Dataset used: Validation, Batch Processed Count:  10, Epoch:  13, Accuracy:  0,9700001, Cross-Entropy: 0,08105352"
     },
     "execution_count": 1,
     "metadata": {}
    },
    {
     "output_type": "execute_result",
     "data": {
      "text/plain": "Phase: Training, Dataset used: Validation, Batch Processed Count:  10, Epoch:  14, Accuracy:  0,9700001, Cross-Entropy: 0,08114415"
     },
     "execution_count": 1,
     "metadata": {}
    },
    {
     "output_type": "execute_result",
     "data": {
      "text/plain": "Phase: Training, Dataset used: Validation, Batch Processed Count:  10, Epoch:  15, Accuracy:  0,9700001, Cross-Entropy: 0,08117221"
     },
     "execution_count": 1,
     "metadata": {}
    },
    {
     "output_type": "execute_result",
     "data": {
      "text/plain": "Phase: Training, Dataset used: Validation, Batch Processed Count:  10, Epoch:  16, Accuracy:  0,9700001, Cross-Entropy: 0,08125509"
     },
     "execution_count": 1,
     "metadata": {}
    },
    {
     "output_type": "execute_result",
     "data": {
      "text/plain": "Phase: Training, Dataset used: Validation, Batch Processed Count:  10, Epoch:  17, Accuracy:  0,9700001, Cross-Entropy: 0,08128728"
     },
     "execution_count": 1,
     "metadata": {}
    },
    {
     "output_type": "execute_result",
     "data": {
      "text/plain": "Phase: Training, Dataset used: Validation, Batch Processed Count:  10, Epoch:  18, Accuracy:  0,9700001, Cross-Entropy: 0,08136225"
     },
     "execution_count": 1,
     "metadata": {}
    },
    {
     "output_type": "execute_result",
     "data": {
      "text/plain": "Phase: Training, Dataset used: Validation, Batch Processed Count:  10, Epoch:  19, Accuracy:  0,9700001, Cross-Entropy: 0,08139629"
     },
     "execution_count": 1,
     "metadata": {}
    },
    {
     "output_type": "execute_result",
     "data": {
      "text/plain": "Phase: Training, Dataset used: Validation, Batch Processed Count:  10, Epoch:  20, Accuracy:  0,9700001, Cross-Entropy: 0,08146401"
     },
     "execution_count": 1,
     "metadata": {}
    },
    {
     "output_type": "execute_result",
     "data": {
      "text/plain": "Phase: Training, Dataset used: Validation, Batch Processed Count:  10, Epoch:  21, Accuracy:  0,9700001, Cross-Entropy: 0,08149856"
     },
     "execution_count": 1,
     "metadata": {}
    },
    {
     "output_type": "execute_result",
     "data": {
      "text/plain": "Saver not created because there are no variables in the graph to restore\r\n"
     },
     "execution_count": 1,
     "metadata": {}
    },
    {
     "output_type": "execute_result",
     "data": {
      "text/plain": "Restoring parameters from C:\\Users\\grego\\source\\repos\\IsItKrampus.NET\\workspace\\custom_retrained_model_based_on_inception_v3.meta\r\n"
     },
     "execution_count": 1,
     "metadata": {}
    },
    {
     "output_type": "execute_result",
     "data": {
      "text/plain": "Froze 2 variables. \r\n"
     },
     "execution_count": 1,
     "metadata": {}
    },
    {
     "output_type": "execute_result",
     "data": {
      "text/plain": "Converted 2 variables to const ops. \r\n"
     },
     "execution_count": 1,
     "metadata": {}
    }
   ]
  },
  {
   "cell_type": "code",
   "execution_count": 1,
   "metadata": {},
   "source": [
    "#!fsharp\n",
    "let predictions = trainedModel.Transform testSet"
   ],
   "outputs": []
  },
  {
   "cell_type": "code",
   "execution_count": 1,
   "metadata": {},
   "source": [
    "#!fsharp\n",
    "let metrics = mlContext.MulticlassClassification.Evaluate(predictions, labelColumnName = \"LabelAsKey\")"
   ],
   "outputs": []
  },
  {
   "cell_type": "code",
   "execution_count": 1,
   "metadata": {},
   "source": [
    "#!fsharp\n",
    "metrics"
   ],
   "outputs": [
    {
     "output_type": "execute_result",
     "data": {
      "text/html": "<table><thead><tr><th>LogLoss</th><th>LogLossReduction</th><th>MacroAccuracy</th><th>MicroAccuracy</th><th>TopKAccuracy</th><th>TopKPredictionCount</th><th>TopKAccuracyForAllK</th><th>PerClassLogLoss</th><th>ConfusionMatrix</th></tr></thead><tbody><tr><td><div class=\"dni-plaintext\">0.1127389634151637</div></td><td><div class=\"dni-plaintext\">0.8951205256380843</div></td><td><div class=\"dni-plaintext\">0.981117230527144</div></td><td><div class=\"dni-plaintext\">0.9791666666666666</div></td><td><div class=\"dni-plaintext\">0</div></td><td><div class=\"dni-plaintext\">0</div></td><td><div class=\"dni-plaintext\">&lt;null&gt;</div></td><td><div class=\"dni-plaintext\">[ 0.1992808272009952, 0.09509097160940937, 0.031104375359961786 ]</div></td><td><div class=\"dni-plaintext\">Microsoft.ML.Data.ConfusionMatrix</div></td></tr></tbody></table>"
     },
     "execution_count": 1,
     "metadata": {}
    }
   ]
  },
  {
   "cell_type": "code",
   "execution_count": 1,
   "metadata": {},
   "source": [
    "#!fsharp\n",
    "let wronglyPredictedOutputs =\n",
    "    mlContext.Data.CreateEnumerable<ModelOutput>(predictions, reuseRowObject = false)\n",
    "    |> Seq.filter (fun output -> output.Label <> output.PredictedLabel)\n",
    "    |> Seq.toList"
   ],
   "outputs": []
  },
  {
   "cell_type": "code",
   "execution_count": 1,
   "metadata": {},
   "source": [
    "#!fsharp\n",
    "display wronglyPredictedOutputs\n",
    "\n",
    "let wronglyPredictedBase64 = Convert.ToBase64String wronglyPredictedOutputs.[1].Image\n",
    "DisplayFunctions.HTML$\"<img src=\\\"data:image/png;base64,{wronglyPredictedBase64}\\\"></img>\""
   ],
   "outputs": [
    {
     "output_type": "execute_result",
     "data": {
      "text/html": "<table><thead><tr><th><i>index</i></th><th>Image</th><th>Label</th><th>PredictedLabel</th></tr></thead><tbody><tr><td>0</td><td><div class=\"dni-plaintext\">[ 255, 216, 255, 224, 0, 16, 74, 70, 73, 70, 0, 1, 1, 1, 1, 44, 1, 44, 0, 0 ... (31489 more) ]</div></td><td><div class=\"dni-plaintext\">Krampus</div></td><td><div class=\"dni-plaintext\">Other</div></td></tr><tr><td>1</td><td><div class=\"dni-plaintext\">[ 255, 216, 255, 224, 0, 16, 74, 70, 73, 70, 0, 1, 1, 1, 0, 135, 0, 135, 0, 0 ... (22224 more) ]</div></td><td><div class=\"dni-plaintext\">Other</div></td><td><div class=\"dni-plaintext\">Krampus</div></td></tr></tbody></table>"
     },
     "execution_count": 1,
     "metadata": {}
    },
    {
     "output_type": "execute_result",
     "data": {
      "text/html": "<img src=\"data:image/png;base64,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\"></img>"
     },
     "execution_count": 1,
     "metadata": {}
    }
   ]
  },
  {
   "cell_type": "code",
   "execution_count": 1,
   "metadata": {},
   "source": [
    "#!fsharp\n",
    "let modelDir = Path.Combine(projectRoot, \"models\")\n",
    "let modelPath = Path.Combine(modelDir, \"model.zip\")\n",
    "mlContext.Model.Save(trainedModel, preProcessedData.Schema, modelPath)"
   ],
   "outputs": []
  },
  {
   "cell_type": "code",
   "execution_count": 1,
   "metadata": {},
   "source": [
    "#!fsharp\n",
    "let mutable predictionPipelineSchema : DataViewSchema = null\n",
    "let loadedModel = mlContext.Model.Load(modelPath, &predictionPipelineSchema)"
   ],
   "outputs": []
  },
  {
   "cell_type": "code",
   "execution_count": 1,
   "metadata": {},
   "source": [
    "#!fsharp\n",
    "let predictionEngine = mlContext.Model.CreatePredictionEngine<ModelInput, ModelOutput>(loadedModel)"
   ],
   "outputs": []
  },
  {
   "cell_type": "code",
   "execution_count": 1,
   "metadata": {},
   "source": [
    "#!fsharp\n",
    "let getRandom (a: 'a array) =\n",
    "    let rnd = System.Random()\n",
    "    let idx = rnd.Next(0, Array.length a - 1)\n",
    "    a.[idx]\n",
    "\n",
    "let image =\n",
    "    loadImagesFromPreparedDir()\n",
    "    |> getRandom\n",
    "    |> fun i -> Path.Combine(prepDir, i.ImagePath)\n",
    "    |> File.ReadAllBytes\n",
    "\n",
    "let base64 = Convert.ToBase64String image\n",
    "\n",
    "DisplayFunctions.HTML $\"<img src=\\\"data:image/png;base64,{base64}\\\"></img>\""
   ],
   "outputs": [
    {
     "output_type": "execute_result",
     "data": {
      "text/html": "<img src=\"data:image/png;base64,/9j/4AAQSkZJRgABAQAAAQABAAD/4gxYSUNDX1BST0ZJTEUAAQEAAAxITGlubwIQAABtbnRyUkdCIFhZWiAHzgACAAkABgAxAABhY3NwTVNGVAAAAABJRUMgc1JHQgAAAAAAAAAAAAAAAAAA9tYAAQAAAADTLUhQICAAAAAAAAAAAAAAAAAAAAAAAAAAAAAAAAAAAAAAAAAAAAAAAAAAAAAAAAAAAAAAABFjcHJ0AAABUAAAADNkZXNjAAABhAAAAGx3dHB0AAAB8AAAABRia3B0AAACBAAAABRyWFlaAAACGAAAABRnWFlaAAACLAAAABRiWFlaAAACQAAAABRkbW5kAAACVAAAAHBkbWRkAAACxAAAAIh2dWVkAAADTAAAAIZ2aWV3AAAD1AAAACRsdW1pAAAD+AAAABRtZWFzAAAEDAAAACR0ZWNoAAAEMAAAAAxyVFJDAAAEPAAACAxnVFJDAAAEPAAACAxiVFJDAAAEPAAACAx0ZXh0AAAAAENvcHlyaWdodCAoYykgMTk5OCBIZXdsZXR0LVBhY2thcmQgQ29tcGFueQAAZGVzYwAAAAAAAAASc1JHQiBJRUM2MTk2Ni0yLjEAAAAAAAAAAAAAABJzUkdCIElFQzYxOTY2LTIuMQAAAAAAAAAAAAAAAAAAAAAAAAAAAAAAAAAAAAAAAAAAAAAAAAAAAAAAAAAAAAAAAAAAWFlaIAAAAAAAAPNRAAEAAAABFsxYWVogAAAAAAAAAAAAAAAAAAAAAFhZWiAAAAAAAABvogAAOPUAAAOQWFlaIAAAAAAAAGKZAAC3hQAAGNpYWVogAAAAAAAAJKAAAA+EAAC2z2Rlc2MAAAAAAAAAFklFQyBodHRwOi8vd3d3LmllYy5jaAAAAAAAAAAAAAAAFklFQyBodHRwOi8vd3d3LmllYy5jaAAAAAAAAAAAAAAAAAAAAAAAAAAAAAAAAAAAAAAAAAAAAAAAAAAAAAAAAAAAAABkZXNjAAAAAAAAAC5JRUMgNjE5NjYtMi4xIERlZmF1bHQgUkdCIGNvbG91ciBzcGFjZSAtIHNSR0IAAAAAAAAAAAAAAC5JRUMgNjE5NjYtMi4xIERlZmF1bHQgUkdCIGNvbG91ciBzcGFjZSAtIHNSR0IAAAAAAAAAAAAAAAAAAAAAAAAAAAAAZGVzYwAAAAAAAAAsUmVmZXJlbmNlIFZpZXdpbmcgQ29uZGl0aW9uIGluIElFQzYxOTY2LTIuMQAAAAAAAAAAAAAALFJlZmVyZW5jZSBWaWV3aW5nIENvbmRpdGlvbiBpbiBJRUM2MTk2Ni0yLjEAAAAAAAAAAAAAAAAAAAAAAAAAAAAAAAAAAHZpZXcAAAAAABOk/gAUXy4AEM8UAAPtzAAEEwsAA1yeAAAAAVhZWiAAAAAAAEwJVgBQAAAAVx/nbWVhcwAAAAAAAAABAAAAAAAAAAAAAAAAAAAAAAAAAo8AAAACc2lnIAAAAABDUlQgY3VydgAAAAAAAAQAAAAABQAKAA8AFAAZAB4AIwAoAC0AMgA3ADsAQABFAEoATwBUAFkAXgBjAGgAbQByAHcAfACBAIYAiwCQAJUAmgCfAKQAqQCuALIAtwC8AMEAxgDLANAA1QDbAOAA5QDrAPAA9gD7AQEBBwENARMBGQEfASUBKwEyATgBPgFFAUwBUgFZAWABZwFuAXUBfAGDAYsBkgGaAaEBqQGxAbkBwQHJAdEB2QHhAekB8gH6AgMCDAIUAh0CJgIvAjgCQQJLAlQCXQJnAnECegKEAo4CmAKiAqwCtgLBAssC1QLgAusC9QMAAwsDFgMhAy0DOANDA08DWgNmA3IDfgOKA5YDogOuA7oDxwPTA+AD7AP5BAYEEwQgBC0EOwRIBFUEYwRxBH4EjASaBKgEtgTEBNME4QTwBP4FDQUcBSsFOgVJBVgFZwV3BYYFlgWmBbUFxQXVBeUF9gYGBhYGJwY3BkgGWQZqBnsGjAadBq8GwAbRBuMG9QcHBxkHKwc9B08HYQd0B4YHmQesB78H0gflB/gICwgfCDIIRghaCG4IggiWCKoIvgjSCOcI+wkQCSUJOglPCWQJeQmPCaQJugnPCeUJ+woRCicKPQpUCmoKgQqYCq4KxQrcCvMLCwsiCzkLUQtpC4ALmAuwC8gL4Qv5DBIMKgxDDFwMdQyODKcMwAzZDPMNDQ0mDUANWg10DY4NqQ3DDd4N+A4TDi4OSQ5kDn8Omw62DtIO7g8JDyUPQQ9eD3oPlg+zD88P7BAJECYQQxBhEH4QmxC5ENcQ9RETETERTxFtEYwRqhHJEegSBxImEkUSZBKEEqMSwxLjEwMTIxNDE2MTgxOkE8UT5RQGFCcUSRRqFIsUrRTOFPAVEhU0FVYVeBWbFb0V4BYDFiYWSRZsFo8WshbWFvoXHRdBF2UXiReuF9IX9xgbGEAYZRiKGK8Y1Rj6GSAZRRlrGZEZtxndGgQaKhpRGncanhrFGuwbFBs7G2MbihuyG9ocAhwqHFIcexyjHMwc9R0eHUcdcB2ZHcMd7B4WHkAeah6UHr4e6R8THz4faR+UH78f6iAVIEEgbCCYIMQg8CEcIUghdSGhIc4h+yInIlUigiKvIt0jCiM4I2YjlCPCI/AkHyRNJHwkqyTaJQklOCVoJZclxyX3JicmVyaHJrcm6CcYJ0kneierJ9woDSg/KHEooijUKQYpOClrKZ0p0CoCKjUqaCqbKs8rAis2K2krnSvRLAUsOSxuLKIs1y0MLUEtdi2rLeEuFi5MLoIuty7uLyQvWi+RL8cv/jA1MGwwpDDbMRIxSjGCMbox8jIqMmMymzLUMw0zRjN/M7gz8TQrNGU0njTYNRM1TTWHNcI1/TY3NnI2rjbpNyQ3YDecN9c4FDhQOIw4yDkFOUI5fzm8Ofk6Njp0OrI67zstO2s7qjvoPCc8ZTykPOM9Ij1hPaE94D4gPmA+oD7gPyE/YT+iP+JAI0BkQKZA50EpQWpBrEHuQjBCckK1QvdDOkN9Q8BEA0RHRIpEzkUSRVVFmkXeRiJGZ0arRvBHNUd7R8BIBUhLSJFI10kdSWNJqUnwSjdKfUrESwxLU0uaS+JMKkxyTLpNAk1KTZNN3E4lTm5Ot08AT0lPk0/dUCdQcVC7UQZRUFGbUeZSMVJ8UsdTE1NfU6pT9lRCVI9U21UoVXVVwlYPVlxWqVb3V0RXklfgWC9YfVjLWRpZaVm4WgdaVlqmWvVbRVuVW+VcNVyGXNZdJ114XcleGl5sXr1fD19hX7NgBWBXYKpg/GFPYaJh9WJJYpxi8GNDY5dj62RAZJRk6WU9ZZJl52Y9ZpJm6Gc9Z5Nn6Wg/aJZo7GlDaZpp8WpIap9q92tPa6dr/2xXbK9tCG1gbbluEm5rbsRvHm94b9FwK3CGcOBxOnGVcfByS3KmcwFzXXO4dBR0cHTMdSh1hXXhdj52m3b4d1Z3s3gReG54zHkqeYl553pGeqV7BHtje8J8IXyBfOF9QX2hfgF+Yn7CfyN/hH/lgEeAqIEKgWuBzYIwgpKC9INXg7qEHYSAhOOFR4Wrhg6GcobXhzuHn4gEiGmIzokziZmJ/opkisqLMIuWi/yMY4zKjTGNmI3/jmaOzo82j56QBpBukNaRP5GokhGSepLjk02TtpQglIqU9JVflcmWNJaflwqXdZfgmEyYuJkkmZCZ/JpomtWbQpuvnByciZz3nWSd0p5Anq6fHZ+Ln/qgaaDYoUehtqImopajBqN2o+akVqTHpTilqaYapoum/adup+CoUqjEqTepqaocqo+rAqt1q+msXKzQrUStuK4trqGvFq+LsACwdbDqsWCx1rJLssKzOLOutCW0nLUTtYq2AbZ5tvC3aLfguFm40blKucK6O7q1uy67p7whvJu9Fb2Pvgq+hL7/v3q/9cBwwOzBZ8Hjwl/C28NYw9TEUcTOxUvFyMZGxsPHQce/yD3IvMk6ybnKOMq3yzbLtsw1zLXNNc21zjbOts83z7jQOdC60TzRvtI/0sHTRNPG1EnUy9VO1dHWVdbY11zX4Nhk2OjZbNnx2nba+9uA3AXcit0Q3ZbeHN6i3ynfr+A24L3hROHM4lPi2+Nj4+vkc+T85YTmDeaW5x/nqegy6LzpRunQ6lvq5etw6/vshu0R7ZzuKO6070DvzPBY8OXxcvH/8ozzGfOn9DT0wvVQ9d72bfb794r4Gfio+Tj5x/pX+uf7d/wH/Jj9Kf26/kv+3P9t////2wCEAAYEBQYFBAYGBQYHBwYIChAKCgkJChQODwwQFxQYGBcUFhYaHSUfGhsjHBYWICwgIyYnKSopGR8tMC0oMCUoKSgBBwcHCggKEwoKEygaFhooKCgoKCgoKCgoKCgoKCgoKCgoKCgoKCgoKCgoKCgoKCgoKCgoKCgoKCgoKCgoKCgoKP/AABEIASsBKwMBIgACEQEDEQH/xAGiAAABBQEBAQEBAQAAAAAAAAAAAQIDBAUGBwgJCgsQAAIBAwMCBAMFBQQEAAABfQECAwAEEQUSITFBBhNRYQcicRQygZGhCCNCscEVUtHwJDNicoIJChYXGBkaJSYnKCkqNDU2Nzg5OkNERUZHSElKU1RVVldYWVpjZGVmZ2hpanN0dXZ3eHl6g4SFhoeIiYqSk5SVlpeYmZqio6Slpqeoqaqys7S1tre4ubrCw8TFxsfIycrS09TV1tfY2drh4uPk5ebn6Onq8fLz9PX29/j5+gEAAwEBAQEBAQEBAQAAAAAAAAECAwQFBgcICQoLEQACAQIEBAMEBwUEBAABAncAAQIDEQQFITEGEkFRB2FxEyIygQgUQpGhscEJIzNS8BVictEKFiQ04SXxFxgZGiYnKCkqNTY3ODk6Q0RFRkdISUpTVFVWV1hZWmNkZWZnaGlqc3R1dnd4eXqCg4SFhoeIiYqSk5SVlpeYmZqio6Slpqeoqaqys7S1tre4ubrCw8TFxsfIycrS09TV1tfY2dri4+Tl5ufo6ery8/T19vf4+fr/2gAMAwEAAhEDEQA/APlSlxxSU4UxiYoxTqKAG0lPooAaOtez6K5k+COuRTZLwoCmR0UsMf1rxrFexWkm34RXxdcebb4Dr0bB5B9wf5152YbU/wDEj08t/wCXn+FnnumIWtkKgkY5q5lI4JpDjhcisvR5nKmJc5HStSWAtZzqowCpPHQGnVVp2YUXeF0Y8l+xbI4NOg1BuAT+NZrdaac11eyjaxx+2kmdFFd+acEg56+9U7/TswtcQYxuwVHr7VlpIykYNadleEYR2+XrWbpunrA1VSNVWmZXQ0Ctq+sEnjM0GA/cD+KsYgg4I5FbQmpq6MZ03TdmKOtdl4M0U6hayyKCW3heO3BNcfBG80yRxKXkchVUDJJPavpLwJoVp4W8E3U+pRLJdRMVdScAysoyPwBx+defmWI9jSsnqz0Mro+0q8zWiOL8NeDjPcNNdsiQxn05Y+gr1fwvpEuneILO6icJHHG6tEO6sMc/j/KuJ8K3rXHi+KJYjHaOQo3dq9r0y2hlvWZCvAwx9CK+cxFSpOa5mfQxjThTehLoUMfmu5G0h/Xqa1baWSeVofmCA88dRVMukKERLgjqx/WtI3UVvb8DMzLmsEclZuTulvsRQRfa5n+zfejwgB7e9dRZ2f2aLb1dhyx61z2jCRJlMeAGcMx9a6V5S8m4DjO2toWtd7nm4yUubkWw77PsjPPGOaZYxxw2+XIwScZpLq4ALx5/hrhPG2rTJDaW6M6RCUF2RscdOtaOUYO6MsPh513yXtc35NRX7TBaQy5jyRkDqa1AXlt3jdeFbp+WP61w3htQt4MAvz1Zsk13trKhZsHnvms4yvudGMpKi1GJyF7G9r4juTHGWSYBVZR93Axj880mtW0kWgzLEmZnwuPQZ5/lW/cWhjnUvKNkjZH09KqMGl1Ex7CbTGGJPX3H0oUWbwrXUWun42MjRLIXcKx7CsYUEgjkmrdvBLasbcxYDN19q6qy0+2s1LoxOeSSfSkdVlZ3C4Azg1o6dldmM8dzSdloVtHgCDI425NbFrIs0RAPfFc0mpR2qOV5XOBV3Qbos7Mx+UgsSa2oTUZJHNiKM2nNnzL+1hKo8YWsSE/8e4J9uTXi0AKWyKw+8ucemele3/tN28UmuR37ZZXDQrj1HP8AU/lXiV7JtjAYfvF4yOhAFerhpKVNJd2aVYctm+yMG6/1rVBViRgxYE4OarV6sdjy5bkVOHSm04dK0MhaKKKBhRRRQAten6fqEz/CTV7IKHjhMbbwOgZuleX16h4YjDfCfxPIwyojjX8d+RXDjrcsG/5l+Z6GXt800v5Wedac+25AJODxxXQsNgUF8sy5xggfnXLoxjlRx1BrqbVReurRK7KvzcECqxKs+YjCu6cepzV1EYZ3Q9jx9Kirb8TW5EsdwiOqMNpz2NYdb0pc8VI560OSbQtAODxSUtWQX7K9MTjP3T1Bq3qVnHMfMtvmbbuIHQ1ijrWjpl+1vJhvmQ8EVjODT5o7nRTmpLknsV7GSW3u4pbcss6MChXqGzxivfdbWe+0axgjkKzmIT3EWekjH5v0ri/h/odtea0+q7VaK2jaYoRkBh0rQTxFBDrUs1zKSRCRtx95iRwPbGa8XH1PbzSgtY6/8A9vL6X1eDc3pIc+rv8AYpkt38uS2mALDgkgevtxXoHw88VTy2sr3TuyPxubqWC8n9BXlGlNBPeXiqjBLiVpVH90Hmuu0xhNpSW9uPLKMUGPrk1wYmnGCskd9GTnqz2CC9fUVgZpAobBUA1qJbzNqEcjzny1j+ZR3ryPRNd+zXX2V5SdkirHz1wa9X8PrdXMiuylYpGLuW9OwrhcWnZmtRpRbWiR2OmFdySBMRoBmpptSWOF5CON3y1YhtlNqsajHrWbfvaxW7CdwscRLOT2A61urpWPn1y1J6o5nV9bkZn8l8SycDn7vvXl/iHXLnW9Azpt1i8hkMcmDyeecfhg5q9rGuWyeMVs7IH5993cs5JwiAsqj06V4XYalNa380pdsOcum772T/Ot6GGlU97qtT1pVIUEopbntHgvxibPULNbhzuQiBie6jGCfcV77bxGeJZd4Uvg4Br5V8PaTeanqkIsY2lduQo7+5r6J0x7m30uOCWU74lCZB6nFZTjGLMK8HVSd9f0NvWXEdrHA8gXfIVDZ6E9qgtreK0YRLM0ikdGOefrXNTvNfTQq7nEMokwT19a6W1t2mUseDnj2/zimncznSdCHLJmvYs8jeVJkDuKi1C75EUH8IKnHc4qWTKo7o2HPYfSq2h2zSM6zKeSSCavV+6tzgSjrUfQy30xpYYU/i3kn2FXkAt9GvZBwsULkD1wK3jAuG24G0YrnfEksVlot7LP/wAe6QOXX1UdRQocm5osQ6zUX3Pnf44Xsd1pVhaMAZ/N8zPso5x9Sa8L1OXbnBOfp3rsPGGry65rEl1IDGqAJHH/AHAO1cVqspklCtgt6ivZwFNwiosvMJqTbRmOd3NR9KmZfWm7M16yZ47RWpw6U2nDpVmQtFFFAwoopQOM0gDFes6EmfgprjhsAFQQO53Dr+teTV6lo0fl/BTW5CTmWaMAfQ1w47aH+Jfmehl+jn/hZ5a1bmg3GI2XPIH41iHmrWlu0dyGXkDqPWumrHmi0ctGfLUTOounabT5bdwjhhxjnB7VxxBViCMEV2ltAspjCSExyc7gPujqfx6Vg+ILAW9zJJE4eMtyR/OubDTUZOB14qm5RU+xk0UlLXacAuOakjhkcZRHYZxkKTTIwGdQSACcZPavW5tMt/DFhEtpfrcwyorl1AA3EdRzXLicSqFla7Z2YTCPEXd7JGZ4S1A6HpX2ZyRcXTsso/uLgYB9+akg0Xz9QeWVGaE9Pqa5/wAPwvcS3DuCVjk3Nn1P+Ne1aLpbweH47i+QeZIGZUJ5GOFzXjY2fsJuUXq9z3MJBVYJPZbGdo/hu2kgD2cTh2Hl7m6DFW9L8PStrltYoW8soZWIHdjgVf8ADFhfT2sRiZkRJd2a9SsrK3tpYLnCBiRux1Y9hXkupJt3dzvm4046IzpfBelyPawwWygwEfMBy2OuTXe6fp6W9uG2k5woxUkFvFDFHIACZTnJ96tTymOHgEAdaaXc8Ovip1UoLYduaFS/8KjpXj3xe1uXTbBokdUW6yZW/uKMfzya9Se7SGydnOVPfNfJnxT8QTavq1xtc/Z/uhSecAVtRh7SaiXhIuHNNkHiPVktfFviKZSd8tkLeFR1BZEB/TNcbolg+o3ZWQMAD1x1PpWt41lMHiR3twC0sELbifWNeldr8DtCm1bxNbTSQExwzCeQlcjaByD9a9Pm9lR5l1SKqe/UfN0uez/Cvwb/AGLpcdxdDbdTAOUI5ReoX+tdnLaRJDOxA2k5Nb8CJL+92jpzVO7tPNiljz8j84rzJQduY5PrTlP3tDmzbwg7o8DK5BFaunlvJHcu3HtVdtOaC9ChgyqmB71qWMQyqrx3I96UU07G1eqnHe5dsLUhAHOeKvRxLGSVGCabaqV4NTNwa9bD0Yqnzvc8ic3JkJjEayNyc81yXjiGO70K5tpQfLeNi56fKBk/yrsiQRz0Nc54mMQtGjdAyyBonH+ywINYYmCilY3wkn7Rdz4M1aVYN4Tpkkfn+tcyXLPk9Sa7v4s6Avh/X1tYSxhkiEq5+pGP0qHwF8NtZ8ZwST2HlQ2yMV8yUnDEdQMda9ShUhCkqknozavCcqrppHEzbiSSOKiB4r6X039nVRaRrqusM9xIekCAKo4z15r511OyW21G6gifdHFKyKxxyASAa2oYmFVtR6HPUouCTZj04dKbT16V2HGFFKaDQMTtSqaBSUgFxXpelyOfg3qyk5UToB7c15p1Fel6Uyw/BrWvM4MlxGE/OuLGrSH+Jfmd+A3n/hZ5r34q9DHsix/H1NR2kQB3uOnQVYd+cjIPrXROXRGFONldnQeFPIuJp7W6cxloy8TA7eR1Ge3/ANatSSwt7y2aKSPaZV+Vs8jof8K4sh1gMgJVh6Ht3rqdPv1ubSGcqWMKiPGenv8A1rz8RTknzxZ6WHqRa9nJHGXVrJbSFJRggkdfSoDXb6qljfWu+NwzJ1U/eGOuK425j8qUjKkHkFTxiu2jV9qtdGcGIoeyejuhkQBkUMcKSATXeWuh39zNDYXfmtbgD7POozHg85J6VwNa8PiHVIbZbeO9mWFRjYG4pYinUml7Nr5l4StTpt+0v8j0mOzHhG5iu7qOKezlMUV2gcFkcH5WA69K9JihbVNOu5rC4LYZfLb+6vpj3r5fmupp33SyMzdeTmvqf4WazDfeEdP3W6pOU2SFRwduQGPvxXg5lhXShGpJ3f8AVj3cBi1WlKEFZf1c3/DTNHogWXrEM56Vc+0/KTvZnX5h6CmadF/oU0Fwf3iOThe6npS2RgLkx429xnmvG6nqpLU9BtLtTpELMMlEB+lQi+lmR23fuj0z6+lZ3h24W7spFI+4wUg+natD7Odny8Kcgitbto8CVONOcove5xfjzXU0jRLqSR87dpZc8kZxxXzHPd/2jqczuoUMDnjtXr/jcx67HrAM+394qoD3CtivI9RVLGIRQHMrjLHvj39K7sDy2dviOyvBwiuwtuH1m+hyjMqRrEp9dvAr7D+GmgHQ/CdpHeJHHcsgLhR68gH6Zrwv4HeDJdR1O21K+iP2ONxsXHDHqR9On519HXckhmKoRgEZx2qsRUV7LZHn127cnV6s2o4hCjAdDzTnjDhQvbFQQTCaMru5C1Lbl8kHp2PrWkHGWltGeU01q9yjeWuyROTtJzUulRYy/XJNWLk+ah24yvHNPtYfIi25z3ohRXtbrYp1G6dmSmRUODjNJJIDkdSBnFZl+0ilGzjnJA9Kak43iUtkAU5YuWsLaCVG6uXZ2djGkf1NZWsWrSL5h6KQGz6Vq20omkLYx2pbq289ZEbhXGKlwdVc61Kp1HSkjyrx34M0PUYd99FHOjwmLcRyoHzZB7Ec1mfAm609vCGlQ28bKVMsSgjkhZGOfqcjmvTNe8Ox3liIY3KqFcMPXcMV5Z8OtHn8MafG9yCkVlJK6qDy5LthfoFANYyvCPJLuv1PXpTjiKbad3Zrz8j1e4s7i4jVB+7bY3TqM96+ZdW8C+ANI1K4sdX1hhfQtiXLYOTyP0Ir1T4p/GK18HWUMNjEL2/uInDYcDyHwMBvfJ6e1fGuoalLf3s93dsZbiZy7u3JYnvXoYTDyleSbSOJVXSVppGJT1HFMp69BXvHkoWigUUFC9TxR2xQKU9aQ0gXAOTWy07x6csMMriGbDSRk8EjpWVbxeaW5CgckmrV5EbabynYHAByDkHNZzSbSNqbcU2SIYs/MSW9BSyAMyoRgHvVZRhh1z7CrG3LJ83Hfmoa1NU7lojyyqY3K3OD6dKb4dvBC81pJ/qpxjB/vDp/M0254lXDducGsmRitwzKSDuJBHbmlGCnFxfUVSp7OSkuh3mp6YdLjt5SceYoIYHls9SPbPH5Vha7aRvYx3Fum1o2KyDvgnIP8/0rasdZg1rSYLTUZljniO1cLjI46HoOn+c1qyaXDDYraOvnShQX445PTNcCqyoyXtNz0HSjXi+TZo8402xudRvYbOxgee5mbbHGgyWNJfWstjez2twoWaFzG6g5wwOCK9N86HwtAmp+GbVLe7u0e2kaVjI0PAyE/u5B68mvO20q/aVfNtp1MhJDOpG7HXnvXdSxCq3lsvxOGrhXSSju/LYr2VrLdzCOFck9/Svo74UeRbab/YUsirLHtm8wfqDXjugbdOuYm8tAI2BZnHX16100OsSPcTy2yqNzguqnkjtzXl5jKVdci2R6+XUY0Peb95nt9lJdR6nJDPKrxrHkepOTio4tRWHUBNMpRMYKgdTWJ4Y16y1Gd2MjrIE3fOOOOoz+datyVuissMLOSobg9B1r55xcdGe4rPY7fQZVeN5IUZCwzj1x7Vta7ei30A3CHa7jCn0Jrg/CGvLPqxtrgG3wvG8cucHp+FXfiddE+FEisGDsD5hcH7oGTx71a1Vjyq1G+IirdTh9Qsmt7cyRqnzBwxI9CST+VcVr3hrT5Db3enPumkjDyRMeTzgED8DXe6Rba34q0q3s7OFYkdGF1ePjCKR2Hqan8NeDrjS/E1rbain2qaTCllB2xIM85/z1rWk5UveTOutOErxfTX0O6+E2n3Gj+FI3vWdmm+4h6IoOAB7nkmujllaG4WTb8rcsK0r1ILXTIkhCokYwirVAMJzGTnYwxiqnva54cZ+0bqW3NANiGSWM9RjitBLmOOyBBA4wM+tVViENnjB2sSckdK5/UrkxRhpG2qMAMegycEn6VrGbpbHPGkqzsjooZ3S1DP8Af3fnV22kdss4AWvOdU8RSWulXEkjbfIRhx6r3q94S8Yx6tpVg4JYXOAxH8DA4YGrpVrPU0q4Cpy8yR0mq3RSXcpXCj16g1AsLCRXBzE8ece9ReKJ4LXyDIucD5j/ALPaqfhjWF1FlUMDHG2Bnrj0rObvNpjhSl7D2kVodBpG58P0B4rVlYJHuPSqFvbm3l2IflOSKvuAUIPIxXpYROMJR6nnVmpSuim/mLM8g+aIrkD3rzTx+JodI1JdMfE0MblF/vSMCQSa9NkLrFICABjg+2K8H+MnjXTPDlpcW6zZ1IoxhgXksxBUM3sOT71y1IOcoqK1Z6GAkoycpbJHzlf69DceEtTttQJl1me9RgzryqjcXOfc7RiuK3VLOxd2Zjkk5JPc1Fg19FSpqmrI4a1WVR3ZWpw6U2nDpXQcotKKSlHWkMeuAOetKy8ZpFx3/Kl3YPI4qSx8DrsZCcZNLIxZzkk1AOta2q6a9mllPj9zdwiVCPrgj8xUtpPXqXFSlF26FVSfvZGcVNGoLZ7Cq8YxmrKkADbgHj8KiRrEllAUlsjr0rHbkk1fu5sIVHuPeqFVTTSM6zu7IdC5SQHuDXq+gMZbdbmbzDYlF2XBHYdVPPUHIryat/w3rclnFJYzTyLZSkMQDwreuKwxtB1Ye7ujfA11SnaWzO+uYre70qeCKR/MfbNtVcgEA+vsTz9a2PCNhqOuaXe2mTLCtuNiPMD9n2n5n5Pyg+tctaXxjvIJlIZNoXI744/lXVaP4mj0jTdWhgiIkvIhCWUDIUHJx714k+aK5Ue/BqXvHM6/pkVqTYqwYQHc1x/eB6Y9qTQ0itwWcnDnsM5Wo/EO7UY4b61tWisnbYJM8MwAyv4DFTSI0djHMgGEI3D0Hp+NaO/s1GT1Y1bncktjvdK0kjR57m1ZUkcFsE4wu2uk8EajPc27RfIJEi3KVHUZxzXnz6hNrtqL5JNqgmCULwE4+UY9OuK7XwRFcLBCYgpiI2b1POc9/wAq8qrBx+Lc76ck9tjpVjgnmW8uIyt1aYdtvcc1b1e+tvsMRbOFCnYPStq30mOTT8ysFdlO7HU49a841+5uvMykJERk2lfYcCuezQKUZttdDdvvEdp4aSC4tZJLd7hSvlKuUcA5zjsfm6+9dF4e1Zr7T5L9F8tTIqgjqe5/pXnnjixS5tdEckb1jKYHUE4r0LwnpTWvhawt7k7TIzSsMY4xxWytyqxzVuVatbnazyh7aCXaWAQjaPU0mnw+XaiTkEH5Qab4aUvamKcZC8Ct37MGkXHCCtYRclc8OrUVJumK7KLePze4yQK5LxE8F3BLcW0jGOEMNinIdgOhHpXXX0eYMlclR0HcVw1/AJHeK3XylDZATgg1rWutB4CKlLmvY851aHUNbtUhhUwR+cGcZJ3D0J9K2/CGjnS7MJC7BlfOO2eK7RdOjhtI9ygMTkmktbNTbMYz8zMSxHX2FYWZ68sTFptFWW+h1B2hvmc7AMY9vWrPhuG3uJ2+yoyITjJ4zjv+lZE9iySyEZBcba6zw1ZfZ4th++HGRjtVQTlIwxLhSpPlZ1QAKA9wOtVoZSJFDZ2n170hk8uUpjgD5f8ACqa3bASrcJsZSSrdseld8qyuntY+fjTbuReKNestI02V7qaKMDgmVsAD1NfDHxS1iPxH4+1K7tWeSGaXbDu67RwPz619N/ELwxceMbM21zKRsDPEw4+bsK+cLXwLrNprTi6024VYd7bjnD7fT1rXDYiLbqTeqPS+puMFCOt9zkL7Qr6KZ41tnfyl3tsXPHXNYpAzzX178P8ARYDpFvNc22Lm4iO4OOQvQA/5718xeKdCns/EepW+1Ygk7gJyMDPHb0rtweN9s3GeljPF4H2aUoanKU4dKbTh0r1Tx0LQOtLikHWkMtwRbssRwBTLk/OPYVJZy4DKTwBkCoJQc/N1PNZq/NqbO3KrCRglgAM11viyTGm+HrfoYrPOPq5P+FcvYyNFdxurFWBwCDjrxXWfEdBBqGkRqNoGnxHH1yaxq61YL1/I3oq1GcvRficxwAcd6j3bWH50BuD6VEzZzWyRjKQs0hkck0yiirWhk3fViUDiijpQB0vhi8Ev+hzyMAeYz6HuK3dRkd0jXkiEbOD79f1rgYJngmSWM4dDkGu4s7qO9tFuQwUqpLoO544xXm4qlyz51setgq/PD2b3Rs280V3o8ViEmaWAPOjK3yrxlgV98A5/xqKa4FzZXEca+UrIrYPY9D/KqUXmKsd1BkqSVI9Mdvyp0Lsryo4UBwR16c5xXFKGtz06c9LHQ+CIZJluLW2BKXMLK6Y5LrypH4j9a9H8JGSXQIkitjZywSbJMdx3b6/Wsz4QpBcYLIqzwozA47Y61r69LLE0z6ZOITIpWQ4z1OeK8fFVOabT7npYeFkrdj0Lw3LHPJJE5JIUnn+LNcrrtl9l1FbVoiwJ49Ov/wCqsbVvGq6TbafHaoBctHl2PbHGfx5puh+K5LuSS61FC8YfgjqD/hzWbi+VMiK5ajffodbZeHVmNuHj3yoQqsem411nimFY/IihJwiDGO/+cVJpk8N3qdibbi3ihZ29C54/TmrF+ySxrKeRG4z/ACpuPu2POqV5yrRbW36ljwvdI9uox8zDJ/Kuq2fugBXNWKW8JVIl2uCCQO9dEZSiJnqxxXo4NxSameNjNZ3j1HMPlYHpiucubaOK5Ix8zGtueXbAxc44yay51WcRTc5Bw1FdqQsM3G76GD4i1JIbi3tV+84xx2q54fRWgdRzjJz61w3i+Cc6211bSEyHCrnooHX+ddfocpg0+OZ/vFeQO9cifvHsVaPLh0o9SW7t/wB9Fxn5hmuojSONS6D5j3rl9dvRptnHe8EHbw3vipbPxE19ZNJaxbwvBI6VcJKLOKrSqVoRa2N6JsOztlmHIpl7ZmZN68sSMgntVax1CLYEP+uc4KmtdfnjUL0rWEVJWOOfNSl2OcvLTZGkUOSwbrVOa0RHNxKgdlj2BcZ5J5rq3gRC7kA57ehqtNLb4ETKAFG5vrUOlbdm9PFS6I5VLAxW5cRhXHzE+grgvEXgPSNT1m5vJm/eSkE8+wH9K7zWdVaCYwkriVvlA7KP/r15j4j8VSwa1cx26B4lIw2OvyjNTG6funsUFKXvT2Z8g09elMp69K+yPkULSDrS0g60FDgcHNOdixyaZS0gJ7L5rqIdiwrrvivMkviK1EZysdlCn/jtcfanFzGfetTxVKZdUDMcnykH6VzzjevF+T/Q64Sth5rzRkliBim0lFdBy3FpKWj6UAJRQaKACtDRtQawuVLDfCeHTPUVnUUpRUlZlRm4SUke9eDE0eXwdq1xG5W4ijL+ZIQQUweVGMqexFcLpim5dY8FllO2PA5Lew9u9c1oE++UWcsxjilI5LYUfWvS/AGim5vLy4tp2dLQNEgJBIzySP8APevDxFNYXnk3ufQ4Wq8U4JKx13hEto9tct5ZWWWMwK3sep/HtV60mYPIbsFFQbmOM4Hp9ao2WpRTI884KIi87vXFZN7rP2xZ1tyxXAYsRxXgOEqkm2j6BOMFoZPiS7in1OW4gXFvgRx5PTFaGm3n2fQolV9sjSMwzznoP6Vir9nurm0t25COTIB7n/AVs+I5bQ/PCFWOFVjCdPmruklaNOx597tzPePhxqkU+gW8l0yea6sgC8YwcVpWuo2l8Lm1jcCSGQbiT2rh/D+mLYWFiEnZ8QqXx2Yjcf51z/i29m0wx6lp0rLIT5coHdc9/wAa4uZt8qB4SMr1L6s9sstQWWXO3DjhT7CusRfMZXPRRx9a8W8Ea/Ib0i5+aIwhgcZww6/z/SvYNJmlaLbMvX5lI7jtXXgpqbs+p4mZ4d0ZaEOrAtbuo7riszzWt9L3Dhm659a2bnDzuhHBFYWvWv2nR3UOUI4wPXNE9JMxw9naD2uYN3brJfcj5SN351HNO9vPHGOIgMD61paUyyxqsq4kxjce9ZPiSX7IzCQANjIz3rG3U9qnLmn7OXQyfGV22s6E1jG+2eFt5AONyitT4S6jEsDabJt8xUWVfXB4YfmP1ry976S61y7mDYWFAzc9BVW71K60bVRrNk5iKklRnhhngGqjdO5VahGdJ046H01PpEEk63EPyOCDx0NW5UeJiyHhiOK4Twf4/g1jw1Fe3G2OUusThTkKzdPwrsFaS7hkXftYHKn6V2c8Oi1Pn6tKrDSo9ENurnbL5bAk5ycV578UPEp0bRry6tmUTOFSIH+8TivRLyFChmz+8K4Poa8l+I/hw+IfCtzAjlZ87kYHkFeQP0rF/EubY7MDGL95br8zw+3+LuuQ3N5JIIri4kj2I0g4iG7J2j39/QVwGr+IZdS1Ke7mmn3ytkhZCAOMYA9OKpXaNbXDRsUeUNhwTjp2rMeJy5OxuvYV9BQw1KHvRRjWxNTYo09elMqVnBSMBFXaMEjPzcnk+/b8K9A8hCUg60GigYtFAopDJrXm4T61e8RjGpc/3F6/SqVmN1ygHXNXPETFtVkBOdqqv/jorF/xF6P9Dpj/AAH6r9TNNFJRWpzC0tIKKBhRQaSgQUtGaM0AKvWvXvhHcTmOWON0IkVsk8EsO35V5Egya9Y+F2pW+nWMUbKytOx+Y9GPpkdDjHBrzM2XNh2krnsZM+XEXbOys9ClmkZXd5YHfIVBjAJI5J6d6ta9pHlaTcRWUAjYEElf4sV0dncWa2QlLCOTuQc/hjvT4bjzo3EaSSB+hEZ5FfJ+1le/Y+u5VY4Pwf4dtEvI575SrOwdQ33Sef8A61aGo2NlM85MaSeUQobGB5jEc13mpaZaLZKbfGQuArfezjtXMxWcK2FrFcgEvcqxYj0yT+grWVWUpc0mYwjFRtFFXQ/ETrYqtupaaOWV5Cx6oOB/P9KtaxGupLcRQfdnjDLzwD1/pWP4eiEM11bylR56uikdgfmFbVpp1xNPKukxu8UD7FYMOAfx9c1NSyd4hTdl7xq+DLj7HpavMqiUErMjdQMYFep6Lr4fTLKGJg1xGSr89AOR+h/SvD7+x8WW3mSf2TEwAP7yIhjj/dB6133watZm0C8nu8s6knc3XJ61dNTi7prX/hzix8aVSnzy1t/wx6xIiXEIuI22vwxH4Vh6jcxvJKg5II4/HFWrK4Z7KKZDgIdrD3HFZeo6ttufMW1g6gAkc/WuipNSV+p4eHoy52kr2ImVI7yNCSNxz+lct8R4zGPtLSkRJjPfAPFdLOssvlsVy7uSD3B71Vm0v7VYGK8G9WyCD6dhWbXQ9KlJQkpNngulvcRXWqPOr7Li0LxORjdtNZ2spd6to2nojFRvYP8AQgYr2rxloMMWmx/Z4lzCAMAc7cciuf03wqtxaxMp2rksFI6VpGpyu/U6UlON09Cj8H9NZYtS0uXdJFIflP8Au5xXt635stHYSKTIiABxXnvhy1j0HUY5YAzRk7W+ueT/ADrofFepbPD16gIUMwTeD0U4yf50ue7cjlxFFylGDWhtQ67F5WAN8IGd3481natEIpNkOGWcb1wO1Z9pZx/2J9gtrgeeqhM98d/xq1a3xgfybhcyDCquM4NJtvcUaKpycqf3fqfM/wAV/A8miXzalAd0U0zE8D5c8/4159JOxc4K/lX1X8VVtb7S5mjMT+QDI8bH74APA9818l3SStcykAjLE4HavYwNR1YuMuhniIqCU0rXOdp+cgCmU4V7p80LRSiikMKD0z2pVGSO1T+WMPzhB3pNlxi2O0oZvYwMZzTtXJOpT56hsUujDN9H9aXWdv8Aalzt6bqy/wCXvyN7f7P8/wBCjRmlpp5PFbHMw60o4qwLSQx7jtA9zUBBXIPWkmnsU4SjugoNJmnUEiCniIlc5pmKnXsuTik2XCKe5dguIk04W8cf79z8zYyT6AV0ekyTw2xs3aIxjkLIdmce/HIye+RyORXM6NHDNqcMdwWERcZK9a9b0rRbXVJpJ7oSwXCD5+VMbsB1xyPftXm42tGirS66nsZdRlW96PTQZoV6LO3jCLiRjkhOSM+rEmvSfCWqrNBLHOCzbPlVcHB/z3Jrh7LSbS7uJAbh5Co4iLCMN9cc10mnSWENs0OoyQ28cYyscRwv4kfePtXzeIcZO63PpKaajyvY6CeaRojHMWVlUsm9QOf9kj+lZu55tQ0a3KEwbXkkk7DOBg/hn86V3gOlpPppfa7YMMme/GQD0q1aXAj01bmT93DFDtC9WdwTwK5r2NXY2Eg0fw7HGQI/PmcqjsAzMf7o9K49vHT2OtzXk1qBF5XliMEAnDd/ccisDW72XUDDuEwa3yEG3AOecgnr6Vy9/I6Xbfa8s8kZcYYHqTycfSuyjQ5viOWo1Hc9Uk+JN3NMhs7KMxZBYMSWPsMdK9u0uC3i0dZLZQFuT5ki9D05r480m8ntZQzqPLDA89jX1r4N1NdT8I2lyqbCeuac6XspWR52O1pRlHvqalimYLqOFSI9+/8AE1l6hbA+WrnBY5z6VuWkqQWsq5BZmrN1VNx4ONoxmpklZHDRm/aMy59QMENq0gw8bNkY6itQXkD2SzN/q1Qsxx0rhPEF/M99DBGhEaqQ8mOoNamn3gltbeGUkQSPtdfY5AJpxkehUwycUy9dWwvo55Q527Av6VR0kASkE8K+Ku6TcoRLbW7rJAGKqw5p5sDHude7hjSeupalypwl8jH8cs+n2ZurWPckWZJADjgDJNcz4211tP8ACcc8Q89rhYnVPdhkV1HiiCa90W8gmDcxFePfgfqRXnt5oGq6jNbxRKWt7eOEJv4X5EAyfxBOKacb3ZpBS5UjufDNs8uh6VqWq3H2O4lCW9zuPAfJAb6nIzXVeJbVILKaDzCJ5ITGJx97GOo9647wGtlqnhq9sfEN2scGn3AkOZOVRTwWPvtzU3jHxTc2UNpPp2nQ6rpxwI7lCW8vPQkDqMd81dtHocknKVVK+39LU4iO0sYdMkCTz3F5Em14psnD98fhwB71lW+j/D2/t4rq9stQtrmVA0kUIyitjnHFaWp+NrP/AIWDYWjtBHDbnNw5xgORyDj0rK8U6yW166bTdQiisyVMaBeg2j3qqaqU32udlTlqJI+aqUdKSlzX2J8UOBpaZS0guOp7N8mB0NRZqSPBRs9cilYuL6FzSjsv4sdMim6qmLyVwchnNP01f+JlGB6g1FqDlrqUckBjWX/Ly/kdTsqFn3KxoiG6QU2ljOHBNbHInqjSHBCM3FVrxQHB7dKnGSRsweOtMvFyOO1Yx0Z21dYMrOF2jbSbGC5I4qzZRbhyKty242EDuKbmk7GSpOS5jKp4JVTuFRsNj4PUGpWIc/L0q2YxGRNtkBBII54rufCWpagisC8rLN/CSTkVxNnC091HGg3Fm6V6toGm7rVpZJDDOJI8Y42ZPBrz8xqQjC0luevlFKc5uSexX8TX9zYarJK0clrLIittOQegzj8qxrHUbq/vg0jOAfugHnPr9a9M8Z+HLPUFt5dSujFbogzcE5C8DkVyekaQ1peBtHv7a+QHessTAOAP9k85+leZRr0pUr21PXq0qqq7+6dH4C1G7up7+3vHZ4kUBPUEGtu3kK+ItRSSTdBCMIpPGDzj/PpXPW+pWum2U91YM0k9yMnK4wSMEYra+HyLdR3wv3DhAWYnqRg159aN+aaVlsdkJWtFu5zGq6qqyGPzSqI5Yg9AP6cVzjanBqGtyyxx+XahOFP0x/Oq/j6I/wDCUX0Vm7G1Rt4UHjnn+tZOmy/MT/y0PH1r16GGjGlzrdr8zyq+Kk6nI9kz0rwbpUOvXrWLttjQGTd0JUYBH619F6DbLp+gRWltyIowqqp7V8y+F1urWWK8t5UjmiOMHkH2P5V7z4c1g3OyWMFIWjXI/unuP5/lXlYhqM9zrnCVWmvI7FZ1t4o4ixeQnc1aslqLmAuvIcZrEitSRJM54dSF9q2NLucJFaryxQc1ENdGeXXVlzQ3W5zd9YLHFJvX5+McVz0+8al5TqPs7gLxxye4+ld3rkamMsDymAa5K7haR1ZccNupS02PRw1T2sLsboEB08+Vt2ormuvtP9It945yQOK5Y3Ma2iySOF2nkE+hrc0e7S38oFh5btx+NOJni4Nx5luXbrYDKVUEEY5rg/FPiix0LTfNLo8hJ2Roeta3j7Xm0q3+0QhWRCQ49h/9avnnWr/7TFLNIwKrnYv1ORVpc0rIeGp2hzMy73Ukv9VYSyvGtw+XUccE9/wrPufHWp2c6jQLqSxiRSgRZDhhz1B4puk6Te+I9Ulj0yMm5lJ2YIAHryegrF8Q6dJD5jMALiB9kuCCGwcZGPevZo0qSkoyObEzqODlHYp2Mh89riaYt8xJKnOT71pjVTjiTj3FU9NjQWgIIDHkgit2x8N61fWqXNnYzzQSZKukZIPOOuPUVvVcG/eMqMZKCszziiilxxXqHz4ClpKVjQAUCljjaQ4QE1oWcMbxlGXc6tz9KmUkkXCDkxukndfxk+tI0DT3MxDY+Y/zqeyiC6myoCAp4zSROyXD8cFzk/jWLera7HZCCcEpd2UJYmhcq/B/nSR4zhuhq/eo8kZYqTtPDe1UYl3Sqvqa0jK6uzmqU+SdlsT27MJVUnv+dWLzJQ7Oc8GgIBNGTjPNJdsFGAKzveSL1tqSWrBIcnPHYVOsokU5Urj1qhbyPtGwgADmry+Uqs/c96ia7nXS1WhmXybZs+tRD5VqzODKwxyB3qKSFgu7jFbReiTOOcHdtGr4Qt3n1dSvCIrFj+HSu1RpLVnjnb55ihK5+6oPFV/h1bQyWKsY8ZJDv9CO/wBKZ4lcT+I5DaMzo5Khh0GOgrx8RU9tiHDokfQ4SmsPhYz6t/mereVp17YRjWHEllAuVj3fKe+T9M15nqumINeeXw0XFkWEkRGQVHt+OaLi8ni8OPGwZi0gVvQAev6VmjxCIRGslss6AYPJByPp/KuXDUKkL8jv5dDor1qcrc+h2dlbTXgM32ZooVbdIZBhWPqK3tEu4Vi1Oe3TETYhUqDgnnNcJpt4L+OMROVaQksgOAPp68V2VnqEQ8ITJFB5agMkYHUydP65rkxFNxdn6HXRlF6o868SXyW17+4VTiQ7yep571g6fMo1JXmX9yzbmUema19W0yWRgxO4lfMYdxzyf1qrc6TJYpiX/WuBtFe1RdOMFFPc8WvGpKpdrRHottbi3s2vkOLQjK88/hXoHgfUIrrS5o4HcliOvUfhXglvrs8No9lIzGHYyY7LkYzXqf7OsbXtrfPcSMVhIUZPrz+hrycVgpRpubfX8D0KGLi5cnl+R9AWO57RYmP8I71b04rbyrI+QUU8ms/RstMytyAMVtXdr5kDndhVX865Ydzz67UZOD6mRqEguLK4XOXkbcuO1c+z/ZoAsrdOMmtWeN41DEcAZrHvZo57gxyYII/EVMmehh4JKy2OL1cXEsUkm47YJSykchueQf0NddaXEdzBYxA4YlGbn3xWHfI1tDPg/IwO4Hv/AJxUXhOQXWoTLvbbbgFQffpRc6pR01MX4tvcg3tkkh8lDvYZ53H+nFeIPJd3OVdiq/d/GvSPi7c3beIZ54yw3BQ+O46dK8g1fUJPPZIHbYcjcOCa9fL6TktP+GPOxdaNNLm6G3/a8Olw+RDMySYIZlzn8cVg3uqiWJki53cc/rUdtLaQwssimWQ8OP8APaqawmaaQ20bbAcjPb0FepToQi22vmeXWxVSaUVa3ZGjaTLFCQ+CoGeRWhD471u3hSG11CeCCNQqRo5UKB2AFctPIzAc8HqKuWuj3dzAk0UeUbocVq6VNe9UMfrNV+5S6GTWjYRxvEd4BNZ9W7d1SIMSARW802tDjotKWo+7t441LKDVUKCODz3qWa5LoU7HqagU4NEU7ahUcXL3TXgQRRhR1IzUoiBkDDGR1qurk7SPSnPJKEzGqn271ztO51aWFsMDVXHvQ5aJSXAyXOPpUGmuWvd54J61eumSbYBySec+1EtJGtLWlfzIZpiLZwuMY5rPsl3Tj25qW8lGzy1GDnmm6ef35+laRVotnNXnzzSLknyyo31/lVO7JIz61cmGTGT/AHqheEyKAB7VMWlZktN6Iq2pYPwM54x61rW1rvGJm4UdB2qTT7VYx8o3P3NaCQYXe33Rzj1NZVa2tkdlCg1HUgjs4lTIXjsPWg24YYZAAxx0zirEauSS2fm4Aqa6Tckcajjk1z87udapq2x1OgH7GtnZy+VHarKAcAKT3OT9BXL6vustafCnyJ/3qjOSoPvXSpD/AGjp0F0JAChCsoHO7oTWX4yhiN1ZeVhJFBjeHugGCpP1Briw8l7Vp9b3PSxMbUk49LWKWpXskFkbQyny52VmX0I9ar6XBLdNcKIhtLBwVGRwCKp3X7y4DEBhjgZ611HhlLq7KxKpS2PVR3rpqP2VO6OSmlVq67EdlposbaNX/wBYcs2e2egq3PrBjhlsrYqYwd3TkHjOPxFaviyAWWkmZCCVG0Dvn2rzvRmkNyXZyrMSFz0YgdK5qEfrMXVl0N60/q8lSitzqLpJfLVX42LliOu3I4/UV0Gp6fBfaK9zOJFvLVWxsUYYL0z7VlwuJdMEksWZ5Qsec9FzkfqB+VdTfL9j0C6Mzg3M9sbcDvu45/KuWpPlcUt7nRCPMm32PMtC0/8AtCS73N8pPrxmvb/hPpU/h22udOm2+ZM4myjbgBt9a8osDb6Vp0izHO4BPdm6kj2HSuw+EN9er4tiln8z7BOjRKzHow5HX6YrbFynUjKz938znoxjTtde8e8aPcsrMy5yrYI710NvczTJh1wrNjHtXMLdQLKHtnXDHLf7ua2ra7VVUE8Dj+VebB2JxNPm96xd1G33qqLj0+lcfrOn7LpeqsTkNXYRTG4QsBjBwf8AGuc17zBLnJxnpRN6XFgnJS5Gcx4hhkEJQZBPWuZ8IXMtt4hvIZBgTwlV9NwrttTnDoW4E0abgP73tXI3t/Z/bUlEkcbkE8HDZx6Uos9Fq9mzB8eyQjxfaW83P2mGNWwM8GvDNfg/s/Wr6yIVlilZdw7jPpXpvjvXZpkj1m0CtcW2bV1xyMfMrj8Cfyrye+mnvrp5ZiS7nzHJ7k17+W03Fc3T9TxMxmn7vUh8uONiwO4Y45xT47sxSKE4A5x2J9TVm+tktrgwyoPkVW4OCQQD/WswLvdtgwDkgZ7V6cbTVzy5XpuyCSMHpkEnpXqGmxiGwgj242qBXnVntYxllyUYHg9s/wD662m8R3m5vKhUoDgZzmuXGUp1kox6HXgpwo3lLqcdThzTaUV6R44YozxRSUAWbWfyzhvun9K0rS9W1vYWPKqfmrFHWpYmXzAZAWA7ZrOVNS3NqVaUGrHUzaZv1WW6hU/Y3XzQVGOvUfzqO4tbISq1uW2sh/d7slX+vpUVpPPIs0djMkcDrjy5Gzt+lZ1jJN55DOMIcnPrXJGM+stj1Z1aaslHd/1byLWsWqJEBGgLqeWB71T0a0NxdbmB8uPlvc9hWhJGX2YkJBcbiD1PpWpYRRwQ7FABySfc0SrOFO3UwdBVKnNbQhmsVk6jBHzcVUW3ZH2uQoXq3tWuZVjBYsM1FFCZQzyrtiz1PeueNRpanQqKb0Qyyt2dlSIH5v5VoyokalRysfVj/E1VherAWEWN7fKPb3qBrnzBGq52rlyfX0qGpSd3sdKcYKy3L6LgBB/rG5LH+GqVzOBOqKMBuCfboKuWXO0E5Yt8/wDOsPUC37t2PzSP5h9l7U6Ubysya0+WF0dHpV2bZLuN5vLUruXJ7/5NcrFfO1280jNKWkOS7ZJB71tXgDxuf4vL/pXOQRZcfWtcPCPvS7mOKqyXLFdDWaSCCdCAxjPIz6V12m+KVtLby4bZTIBuRmPGK4W73MkSjJbP6Vt6HaefZsf41zj3GQazxFGnKCczXDVpqbUDd8UahMzwNOSS4LFc8VzEM5vNai8tQkcRwqgYyf8A69avi+SR4bScDBIKkfTj+lZ5gV70G0n8ncgcEr37/iKzw0VGlf1NcTJyq2XSx1ULxItip/dmKcGSM/x85FdH4uurWB5SpLFwC2enTt+dctbQCbQJElybknduJ7YrJv7md9N/eOWETBOT6CuH2KqTWuzO51XTjtuje8G2NrqmsRnUpE8o52xnvjoK19T1y5/ti3tbSKGCKCYAGNccA1yPhK7jM8QdVJD9z2NdukNpE0t1ct5cgbjcM5PrUYr3Kr5lfTQqhadO6PStE5c+c3ytCRj0IOa7DTXi+zQCRss+Sx+nSvJ/7T/s7R0mcki4jLJuHJOelaGna5Omh6eblnimmmaJCewK8N+ea8yClF3N6tNVFa565BcJBESpzzhvxNZl/chnLYBjHyNWVbavAZHtFk3SYGR71ZG4Wkhdcq5BP1q5Sujjjh+SV2YniW2NvC1zG2UA5OPug968uu4nu7uNVYLdRMHHo46f4V7JcXEH2d0lJKnO0j+VcrN4NEzx3tk5VkG8R47dcVdJqLudEruNpHjGsR+RJcSDmNZAHT+8p7fhWZ4y0L7PrVrLpgL6ZcLG4Zeg9Qa3/EsRRr6XBQqxyreuSK674OaTZeI/BWoWGpXkUd0BIkAYjcqhQd2PQE169Kq6cPaLpp9/+R5leMZS5Jep4LqlxJd6rI03V22DPHy9BWcQ8UxU5DKccVNqMbQX0qM25lcjcOhweophcyTKz9f4ia96CSirbHgVHzSd97j7ZnQPIobZg5OOM09bnaMZqXY7RSRQEGORhjmtKOz05EVXkBYDnjNZzmlujopwl0Zy1FFKOtdJ54lFLxSUAKKcOG5pop3oaQI2NPubNICLi13EdWViKjjjXy7iWMlY1bCg98/4VVjuZGRkzhCPmAp9vKxh8sfd3ZJrFwtdo7vaqSS7eRetJhHEHYcIxb6nHH61s2zBoXDNyCMDPqK5yMl7fZ/tZNbdpxEPl+bHp1x2rmrxR14abehKY1jnVpCdo+Y/hQs811MrNlYhyB2pt/IGmjAGFIxj8KeZhHdRQ5/eOAoB/hrC2l+p0u17X0KVzGVuCN2Wxlv9ken1qaJtqp/fJplwoRxErbmZssT1JpsoMdygPpnH6VrukjH4W2W9PnMWoyRMeDtJ/wA/jVK/H7mPPB2AHPtUWoSGHUN6fe4qvrNx5kp2n7x4+lVCneSa6mdSqlBp9DXhuxL5T5BBADfiMGs20gYzEHOA22mI3lWXX5nwBV/Tzvuot3HzAsfU0NcidhKXtHHmLL2OJPm4UYI/OtixDWeyVAAgbY3p9ar35zOo3cABsVo2wWaKVMfeTeB7jrXBUm3FX2PRpU4xk+UXWFjuNNt2cjCzZB/CsKEwT3CqD86HoBWlqrA6ScckFTx9cVS023ZXeWQZY8KAOST2+tFL3abLn71RKxcu7sp5cPm+WjEeYy8/KetYrvvkkghyYS3yep9zXrthoeh+HtKt7jxAscl7fsYR5nIjypBwPQZAJ9a47SfDcmbjeUMkTYwB1rOniKcIt/0zSpRnOSSM/wAM6NJDqSSSg+Vjqf513c2p2kd9brNEskki7drfcyO9ONkttDEF2/MoIPcHuKzIbS01PUWhnufJaDgYI5bgivPqVliJ889l2OylR9hHlgVPEeqX12XiLbl8zcFA6ccY9KqyeKLxYLO0kcubZydrDoT710tjaR23nXMgWSW25C+p5x+HeuT8Lw2F/eXT6l5m7PmKY+TtGScfpWtF05QbcdImdXnU0k9Wes+GxKb6C5uVKyTABge2RXfarqENtbGIkHC5I6ZFeL3vixr7XrYaUwezVl3MFwSR6+leiT7NSvo42cEmP5iO3FcU4Onv1NbKo79i5pzQfYYp3RpI/O+TLjcB1IPrW158YjaKx3Kjj5j7CuXjhfSNKHmfPtbJGMg571XsNba61QW1qQifd2k85Jwaz5ndJFSpprmbOI1yzhv9UuLdI8xZZAFPU561zNks/gfxOLmN8BonRWAyOR0xXo8MCRarcfIDHlgrY6muR8eQJcQoxOSmSDXfQquL5Hszmq0lJcy3R4x4gV11W4Lrgs27j35pun2y3JWR8bEIVlx61JqpV5g5YlzxzVzSEWOykU8SNySf0r6XmcaS7nzkKanXd9iVbH538kHEfAB45rM/05CVUMAD0Aret2jjErvMSexHrULLDIS7Ty5PtWMKjT1OipCm0raHH0pGBQKe2DEuCMjtivQPFQykpaKYAKeBkYp0ChickDimspU0rlculySF9oYeoqbBjhG7gv8AdH9arw8MTgE+9PRmmmyxyalo0i9EW7fAQDrWo0yxnYH2sDWbYpvuokPTNM1FylzLFnJVjzWEoqcrHXCfs4cxuWMnnSmSXHlxnPJqFH8+8kvJshQwWOotLdZUSOU4ViWb3AFW9SuIo0Ty0JHWudq07JHUnzQUm9imj/6YskmdoPGfWo72YvNlcZU5J9hRelvssEpGC7biB2FZlxJndg8NW8Iczuc1Wpyq3zLF/cq8xIJ3EAk/hVSSRXcEljjAqI0gFdEYJKyOKdRyepbilaW4XJwBwBWhHIUIYf3qyrT/AFoPpWjDyCO+6sqiR0UJPc1Lu5LSIQSfl5q7Y3hia1lDHOefpnFZZQmXBz9081LBhNkZzuQnJB9//r1xygnGx3xnJSudK8e2G6AAbYSR7d6i8Na1HbazFLIqnyVZlBGRu28HHrVyzi8xXY8hkGc/Ssuw0Nv7TVWzsx81cMXDlkps9GSneLgdt4umj8QaLZlVKTQR4BPcEk/1rnfD2sTaPeQpcktG2FYYycdjXYWOkxr4d1G7kfH2dUREB6At1rgdajdLlJIxnnOa5sPyzTpPY6K14tVFudrPeRX0s09vcRyoDgFDwrDtjtXHxTK2tNK8mxN+T659KwbbVLrR9QZrYqytzIrcqfX8a3pbaOewi1K3BRJTveM8lfpW6wv1fd6PRGKxPt9lqtzo5dTnt7CaHAE1yMMfQHjFeeXt5cabfA27FGyeR1wa9B0xI7yayNwc8YcCsfxzoQbUvNt0+YDLKO4rPCVYU6ns5LcvF0p1Ic8HsbHw1SCDUoZbxSkTgOS4wG9MV7hLYRgnUrf7uNrj0Ir5w8LRXc90sNpFLPKRhVXnaP6V7t4N15X8Py2N+wW6tiEkGcnAOM/h0rlx1O022zahN8kbGrqN5CdLErBGQE4DeoryQ69b6Z4oe8Kkpu3ZznBzXo/jPTXttFS7tz8iqfMT1B6EV4T4utZoFVhnEi7uKzwlJTnyz6lV6ihT5oHrtrqlre2iyLjfJklfcn/69cr4wIOjtP8Axb9uD+Nct4RvpkmhaQnYpGfwrp/GrZtrcH/VSEk47HBrV0nTqqJnCfPDmR4frPOpyRr0DbRWvIkMUaxI5ZtoyFP61jyRvDfzmVSzIx+99a0LNHlVhIqKCOoNfTzXursj5eF+eV92PYr5DKZPmzjgetW4ooVjUHrjvmse4kEN4HjX5FPSoP7RuhwsrhewqHRclozpjiKdN+8rmfTgcDpTKe33V+ldh5AoYnPHTmk3Zoj6n6Ug4NAXLVsgHLnjriiYqEZj95+g9BTRPiMIqgep7mo+WyzdahJ3uzdyXLyobGeealtVJmAH8XFRxDc2KuW21bqNR0HU+9OTsmKmrtF6xiK3qn0OKzbwM1w7tzlia6C2UYJHLbSfzrH1KBorqRX6ZzXPTneZ2VqdqaGWcrLIrD5RtbH5VfuJhcaINh+dWXd69xWMjEE46VaiBjhZTnDDkfjWk4K6ZlSqOzj5EqziSzVW6KCh/mD/ADrOlbLbR0FOZ/lKj7ucii3wZhuGRz/KrjG2pjUnz2RGaTHGaU07biIH1qzKw+D73tWxpUYefB77j+lZFsNzewra0k/6WpXtXPXfus7MKrtGxJEFmI7EAAfjiqccYfV5QPunj6VoTOEuQSOM8/Q1HaxgakWx1xz7V58ZNJvyPVlFOSXmb+l8zJFyAwK/j1H9a3YbcLe+Zz5cuPwOOa5u2lEdzEyHjzFP9K6DVL5rK2WRWJV12EZ4znI/Hg15deLckl1PTotKLv0OlnsP7P0a4jd981yNwi6/KB3rkLixeG3uFuIyJFwcMPUZB/Kkn16a/wBVSYsQTGq49OMV6v4i0G11O1g1CMNJEIlWRV7Aj5W/DvXPaVH4upvzRmfOGoW4YmNQFAyW9eK6TT5l/sx4JTgxYyWPO2oPEOlyWU8gKneDtUqMg54qjf2t5bXSSzQukEsQAyOox/8AWNeu3GtBK55iTozbsdX4eK7vlPDAMh9s/wCNXNdkMJEjfM+7afcVheHrmLMTLkIm7Jzx16V2s0cOpW2ESPccBWJ/KvJxH7utdrQ9Og+enozO8I376RdCW0iWKN8lsDOWxxk1d8Nj7Pdu8jbmZWZj/eJ5Nc1aaibN7+KZfmXKgH64zWzpF6lyXMQG1QB9RU14zSbLpuN0kdJ4w8eW8lxbWkRZbOa32ygrko4xx7jiuW1q+g1zVbS1ijjt4DGIuB0A5J+vWszWokluYBt5Und7CsC8vJbe5SeE4eJsg/jXVRoqdpLc46s/Zpxexoapeiy8ST2WmqDbicpH0OVzgc/Sp9U8RI13LHeymKKIlCypu/SqdrbtdXCarI6maS4wIx9M5+n+FcrrsjNd3WDx5hx+ddtOhCrJJrZHHUrzpRbXUbrOrvJfyypHFtbGDsAyMfzqidYc/wDLKLP+4KoyBhCCc43UxVyuRXrxowStY8OdapKTdzUGsyEHMEBAH9wVH/a3/TGH/vmqCAkPjOMVdTT/AJBz29KHCnHdBGpVlszJpx+4v402nf8ALMfWug4wT71J3oX7woPWgBwPFTYyoA7CoBxU8ZyGHFSy4dgiUK2SeantU3MWHYcfnVaQbXIxgVraHCJ2ZSCeKzqS5Y8x0UI881E1LSMmMdugqlrkRMh9SoJNbkMXl2rEfeVv8az7zEkTO6/MQR9K4Kc/fuj1atP93Y5eN2ifK8H3qSVpGj5bIPPFRzIUPI5PNJG5AI7V6W+p4t7e6MpYjiRfrSNQn31PvVGfUJBhiKnfH2OIjruNRTD942ORmpmU/YEJ4+c0hpbjYGCsK2bE+XMGB6f41hRnDA4rRtJT5n1//XWVWN0dGHnZo6OWQNeqp6HH86YkwS6Yg+oH+frVG4m2ujDqF/rUdxJi5H1yPzriVO6PTlVs7+Z0kcnltuxkdR/Or+pz+fZRHquMgH9Ky4pA1on94CltpfN01kZgPLYKfz4rilC7UuzO6M7K3cvRqk1+DbxlA2NqA57Yr0iXXNU0iw0uHSnWY+WRcKcMN2clTXlek37/AG35V+50OO9dFb3hMkgnl2g5cgHnpmuXE0pcyutjpo1IuLsdDcaz4d1u4mi1SxuLLUIRvKI+FkI681W8UapYau5sI0RTbxBBECf9WV4565rDvry1ksPtrIGuuI4gDkxg8En14rBiMen65dTPve5jYsWc8EHt+VFOgpK6umtl5/5CnVadnZp/kSabALWRbdWLKG4Pqc10sdvMuWLMqggg5rZtLXStd8Dz3FlZx22qW0o3MnymRMjnH0P6VReWP7IjzvxH/AD96s69Vzl59TSjBJeRy/i7MmvrDbAruRRIfUmus8E2g3XACgxxjJJ71yLXjTa7cSugLPhlJ/l+FegeEp47TT5YpCpll6Z9KeLbhRUPIeHipVHLzMHVVCSTNOhDKemetc5eQx7SEG5ZOntXSeMJ2e42/dJyCB7Vh2sXmaf5ucsoJAHrVYdtQUmZYhJzcUUI5JIEUqcCPp7Vx+rSnzJME/M2c106y77d9xxkn9K5TVQwJb+EsR9K9jCR953PGxk2oWKkjkwAZzz1qOPLEgHA70gyYW9iKt2sDfZi7o3lZ5I716LfKjyUnNiqAkYU/XIrVikBjXDMBjtxWe8arCu1T1xzWjHu2DBjx71z1Hc7qUNWmcxTv4PxptO/gNdZ5gg60HqaO9KfvGgBBUkTbW5NRr3p3+FIa0dySVg7cHPGK2/DbhLjb3YVgr1rX0D/AI/l/wB4VjXX7to68HL96mdjIo+dAMY5+tZl/tz935e/5VpOeT/un+dYupuwilwT0FeTRV5HvV3aJz8/7wyv1NVCjgA7Tj1q2JGztzwQD+lSt/x7t9K9dS5dDwHBTbZnN0Wmj7wpzfcH1pnetTlZKzbWwR0qR33WgGP4utRT/fp4/wCPQ/71Kxd90RpxmrVu+2UD3qqKmi/4+E+tKSuODs0aFxJkD6Ukz7ihPpUc3LfgaUcolYJKyOxyd2btpLhmQngAEU22kx9pXOFxn9arQf65/pRCf30vuhzXK4rU7lN6GmLjbCwixuZg7YGcCopb4i480NwW6E9qZ4dYvLKjHKlDx+ArPuyfJDdz3/GpjBc7izSVR+zUv60Nm1BlkiEDPIXfoB1rV1SEWspkvkmt7iYjL5wPYjNZ/gZQL+M455P481v/ABjYtd6IGOR9mP8A6Ga55/7wqRpGVqDqmr4Y82yhZrEfadoDSAcjA9e2TVbVbQ3d3awqWgjui0kJIwVHU/lirvw1uZktbxFchDNEpHthq1Pi1Glv4/0COBRHGtuuFUYHO/NecrqtJdVd/gd7l+7j5/5mVPolv+7uoZFLpHtcHoT6/nSabL5CLcSsW8tucDjBNXG4spwOAE3D65qjqhKxFF4XYpwPWuaM3P3ZHZyKKujP8XyIbwSjO1xuH41lw3Ij0orz82Qav6589pAXAJ245/Cs+MD+zH9gRXo0Yr2aXY8+u2qja6nNXcjQylC2Ryc/Wsa7LTHaoyOuK0tRHyRN3IOTWPKSJlx6V7dCOlz5/EyexBghHB6giujjXOiA9tgArno+YZSevFbKsTo1sCeM/wBRV1le3qZ4WXLf0IbgMkSgkED+dWdzHksg9s4rPlJIOamR22DkflUyWhrTlzSaP//Z\"></img>"
     },
     "execution_count": 1,
     "metadata": {}
    }
   ]
  },
  {
   "cell_type": "code",
   "execution_count": 1,
   "metadata": {},
   "source": [
    "#!fsharp\n",
    "let input : ModelInput =\n",
    "    { Image = image\n",
    "      Label = null }\n",
    "\n",
    "let output = predictionEngine.Predict input\n",
    "\n",
    "$\"Let me see. This could be {output.PredictedLabel}.\""
   ],
   "outputs": [
    {
     "output_type": "execute_result",
     "data": {
      "text/plain": "Let me see. This could be Krampus."
     },
     "execution_count": 1,
     "metadata": {}
    }
   ]
  }
 ],
 "metadata": {
  "kernelspec": {
   "display_name": ".NET (C#)",
   "language": "C#",
   "name": ".net-csharp"
  },
  "language_info": {
   "file_extension": ".cs",
   "mimetype": "text/x-csharp",
   "name": "C#",
   "pygments_lexer": "csharp",
   "version": "8.0"
  }
 },
 "nbformat": 4,
 "nbformat_minor": 4
}