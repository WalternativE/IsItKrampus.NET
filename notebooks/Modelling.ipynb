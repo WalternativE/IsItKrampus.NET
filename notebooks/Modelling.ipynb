{
 "cells": [
  {
   "cell_type": "markdown",
   "metadata": {},
   "source": [
    "# Modelling\n",
    "\n",
    "This notebook holds the code to loading the prepared data, augmenting it to get more data points and training a convolutional neural network.\n",
    "\n",
    "As usual the first two cells are there to load external libraries via nuget (in this case ML.NET, a Tensorflow Redistribution and ImageSharp) and open the used namespaces."
   ]
  },
  {
   "cell_type": "code",
   "execution_count": 1,
   "metadata": {},
   "source": [
    "#!fsharp\n",
    "#r \"nuget: Microsoft.ML.ImageAnalytics, 1.5.4\"\n",
    "#r \"nuget: Microsoft.ML.Vision, 1.5.4\"\n",
    "#r \"nuget: SciSharp.TensorFlow.Redist, 2.3.1\"\n",
    "#r \"nuget: SixLabors.ImageSharp, 1.0.2\""
   ],
   "outputs": [
    {
     "output_type": "execute_result",
     "data": {
      "text/plain": "Installed package Microsoft.ML.ImageAnalytics version 1.5.4"
     },
     "execution_count": 1,
     "metadata": {}
    },
    {
     "output_type": "execute_result",
     "data": {
      "text/plain": "Installed package SixLabors.ImageSharp version 1.0.2"
     },
     "execution_count": 1,
     "metadata": {}
    },
    {
     "output_type": "execute_result",
     "data": {
      "text/plain": "Installed package Microsoft.ML.Vision version 1.5.4"
     },
     "execution_count": 1,
     "metadata": {}
    },
    {
     "output_type": "execute_result",
     "data": {
      "text/plain": "Installed package SciSharp.TensorFlow.Redist version 2.3.1"
     },
     "execution_count": 1,
     "metadata": {}
    }
   ]
  },
  {
   "cell_type": "code",
   "execution_count": 1,
   "metadata": {},
   "source": [
    "#!fsharp\n",
    "open System\n",
    "open System.IO\n",
    "open Microsoft.ML\n",
    "open Microsoft.ML.Vision\n",
    "open Microsoft.ML.Transforms\n",
    "open Microsoft.ML.Data\n",
    "open SixLabors.ImageSharp\n",
    "open SixLabors.ImageSharp.Processing\n",
    "open Microsoft.DotNet.Interactive.FSharp.FSharpKernelHelpers"
   ],
   "outputs": []
  },
  {
   "cell_type": "markdown",
   "metadata": {},
   "source": [
    "In the next cell I define a couple of data types I use while interacting with the model. As there isn't a lot of transformation happening they are all pretty similar."
   ]
  },
  {
   "cell_type": "code",
   "execution_count": 1,
   "metadata": {},
   "source": [
    "#!fsharp\n",
    "type ImageData =\n",
    "    { ImagePath: string\n",
    "      Label: string }\n",
    "\n",
    "[<CLIMutable>]\n",
    "type ImageDataAfterPreprocessing =\n",
    "  { ImagePath: string\n",
    "    Image: byte[]\n",
    "    Label: string\n",
    "    LabelAsKey: UInt32 }\n",
    "\n",
    "[<CLIMutable>]\n",
    "type ModelInput =\n",
    "    { Image: byte[]\n",
    "      Label: string }\n",
    "\n",
    "[<CLIMutable>]\n",
    "type ModelOutput =\n",
    "    { Image: byte[]\n",
    "      Label: string\n",
    "      PredictedLabel: string }"
   ],
   "outputs": []
  },
  {
   "cell_type": "markdown",
   "metadata": {},
   "source": [
    "There are a couple of paths you need to load your data and to save your model. .NET Interactive uses paths relative to the Kernel location (at least in the current VS Code build) and not to the notebook location. Because of this it makes more sense to keep the paths absolute. Change this according to your setup."
   ]
  },
  {
   "cell_type": "code",
   "execution_count": 1,
   "metadata": {},
   "source": [
    "#!fsharp\n",
    "let projectRoot = @\"C:\\Users\\grego\\source\\repos\\IsItKrampus.NET\" // change this according to your setup\n",
    "\n",
    "let dataDir = Path.Combine(projectRoot, \"data\")\n",
    "let prepDir = Path.Combine(dataDir, \"prepared\")\n",
    "let workspaceDir = Path.Combine(projectRoot, \"workspace\")"
   ],
   "outputs": []
  },
  {
   "cell_type": "markdown",
   "metadata": {},
   "source": [
    "Throughout the notebook I often use ML.NET's `MlContext` (which uses \"randomness\" internally for a lot of methods) as well as a standard .NET random generator. To get consistent results between notebook executions (given, that the data is the same) I seed them (the value of the seed doesn't really matter)."
   ]
  },
  {
   "cell_type": "code",
   "execution_count": 1,
   "metadata": {},
   "source": [
    "#!fsharp\n",
    "let mlContext = MLContext(1)\n",
    "let rnd = Random(1)"
   ],
   "outputs": []
  },
  {
   "cell_type": "markdown",
   "metadata": {},
   "source": [
    "ML.NET has a couple of different dataloaders to create `IDataView` instances. The most flexible one is `LoadFromEnumerable` which takes any sequence we provide. As the images are currently ordered (by our search term batches) we shuffle them."
   ]
  },
  {
   "cell_type": "code",
   "execution_count": 1,
   "metadata": {},
   "source": [
    "#!fsharp\n",
    "let loadImagesFromPreparedDir () =\n",
    "    File.ReadAllLines (Path.Combine(dataDir, \"image_prep.csv\"))\n",
    "    |> Array.skip 1\n",
    "    |> Array.map (fun line ->\n",
    "        let parts = line.Split(',')\n",
    "        (parts.[0], parts.[1], bool.Parse parts.[6]))\n",
    "    |> Array.filter (fun (_, _, isIncluded) -> isIncluded)\n",
    "    |> Array.map (fun (fileName, label, _) ->\n",
    "        { ImagePath = fileName\n",
    "          Label = label })\n",
    "\n",
    "let imageData = mlContext.Data.LoadFromEnumerable(loadImagesFromPreparedDir())\n",
    "let shuffledData = mlContext.Data.ShuffleRows(imageData)"
   ],
   "outputs": []
  },
  {
   "cell_type": "markdown",
   "metadata": {},
   "source": [
    "To train the classifier we need to prepare two things:\n",
    "\n",
    "- The images as raw byte arrays\n",
    "- The labels encoded as numeric values (from string labels)\n",
    "\n",
    "ML.NET offers a lot of different transformers for our dataset. In our case we are happy with two basic ones."
   ]
  },
  {
   "cell_type": "code",
   "execution_count": 1,
   "metadata": {},
   "source": [
    "#!fsharp\n",
    "let preprocessingPipeline =\n",
    "    EstimatorChain()\n",
    "        .Append(mlContext.Transforms.Conversion.MapValueToKey(inputColumnName = \"Label\",\n",
    "                                                  outputColumnName = \"LabelAsKey\",\n",
    "                                                  keyOrdinality = ValueToKeyMappingEstimator.KeyOrdinality.ByValue))\n",
    "        .Append(mlContext.Transforms\n",
    "            .LoadRawImageBytes(outputColumnName = \"Image\",\n",
    "                               imageFolder = prepDir,\n",
    "                               inputColumnName = \"ImagePath\"))"
   ],
   "outputs": []
  },
  {
   "cell_type": "markdown",
   "metadata": {},
   "source": [
    "After applying the preprocessing we split the dataset into three different partitions: train, validation and test."
   ]
  },
  {
   "cell_type": "code",
   "execution_count": 1,
   "metadata": {},
   "source": [
    "#!fsharp\n",
    "let preProcessedData =\n",
    "    preprocessingPipeline.Fit(shuffledData)\n",
    "        .Transform(shuffledData)\n",
    "\n",
    "let trainSplit = mlContext.Data.TrainTestSplit(data = preProcessedData, testFraction = 0.3)\n",
    "// I need a bigger test fraction because my dataset is relatively small\n",
    "let validationTestSplit = mlContext.Data.TrainTestSplit(trainSplit.TestSet, testFraction = 0.5)\n",
    "\n",
    "let trainSet = trainSplit.TrainSet;\n",
    "let validationSet = validationTestSplit.TrainSet\n",
    "let testSet = validationTestSplit.TestSet"
   ],
   "outputs": []
  },
  {
   "cell_type": "markdown",
   "metadata": {},
   "source": [
    "To augment the dataset I define a couple of functions which take the raw image files, use ImageSharp to clone a new image instance, manipulate them and return the new image as raw bytes. On the one hand I use these extra images to have more data (because in neural-networks-land more data is just better) as well as to have images, that would be easily classifiable by a human but could throw off a machine."
   ]
  },
  {
   "cell_type": "code",
   "execution_count": 1,
   "metadata": {},
   "source": [
    "#!fsharp\n",
    "let turnRight (imgBytes: byte[]) =\n",
    "    use img = Image.Load(imgBytes)\n",
    "\n",
    "    let newImage = img.Clone(fun img -> img.Rotate(90f) |> ignore)\n",
    "\n",
    "    use ms = new MemoryStream()\n",
    "    newImage.SaveAsJpeg(ms)\n",
    "\n",
    "    ms.ToArray()\n",
    "\n",
    "let turnLeft (imgBytes: byte[]) =\n",
    "    use img = Image.Load(imgBytes)\n",
    "\n",
    "    let newImage = img.Clone(fun img -> img.Rotate(-90f) |> ignore)\n",
    "\n",
    "    use ms = new MemoryStream()\n",
    "    newImage.SaveAsJpeg(ms)\n",
    "\n",
    "    ms.ToArray()\n",
    "\n",
    "let flipHorizontally (imgBytes: byte[]) =\n",
    "    use img = Image.Load(imgBytes)\n",
    "\n",
    "    let newImage = img.Clone(fun img -> img.RotateFlip(RotateMode.None, FlipMode.Horizontal) |> ignore)\n",
    "\n",
    "    use ms = new MemoryStream()\n",
    "    newImage.SaveAsJpeg(ms)\n",
    "\n",
    "    ms.ToArray()\n",
    "\n",
    "let grayScale (imgBytes: byte[]) =\n",
    "    use img = Image.Load(imgBytes)\n",
    "\n",
    "    let newImage = img.Clone(fun img -> img.Grayscale() |> ignore)\n",
    "\n",
    "    use ms = new MemoryStream()\n",
    "    newImage.SaveAsJpeg(ms)\n",
    "\n",
    "    ms.ToArray()"
   ],
   "outputs": []
  },
  {
   "cell_type": "markdown",
   "metadata": {},
   "source": [
    "In the next step I randomly pick a certain percentage of all training images (I only want to take the training images because my validation and test dataset should only include \"high quality\" data), and create augmented images from them. I repeat this process for each augmentation function I have. In the end I concatenate everything and use preprocessing again because I unfortunately can't control ML.NET's `Key<T>` type otherwise. It is really important to configure the `keyOrdinality` parameter of `MapValueToKey` to work consistently between different sorted datasets."
   ]
  },
  {
   "cell_type": "code",
   "execution_count": 1,
   "metadata": {},
   "source": [
    "#!fsharp\n",
    "let randomlyAugment (augmentationBase: ImageDataAfterPreprocessing seq) (percentage: float) (augmentation: byte[] -> byte[]) =\n",
    "    let randomIndexesToAugment =\n",
    "        let n = Seq.length augmentationBase\n",
    "        Seq.init (int ((float n) * percentage)) (fun _ -> rnd.Next(0, n - 1))\n",
    "\n",
    "    let pick (idxs: int seq) (s: seq<'a>) =\n",
    "        let arr = Array.ofSeq s\n",
    "        seq { for idx in idxs -> arr.[idx] }\n",
    "\n",
    "    let augmentedImages =\n",
    "        augmentationBase\n",
    "        |> pick randomIndexesToAugment\n",
    "        |> Seq.map (fun img -> { img with Image = augmentation img.Image })\n",
    "\n",
    "    augmentedImages\n",
    "\n",
    "let preprocessedImagesTrainSet = mlContext.Data.CreateEnumerable<ImageDataAfterPreprocessing>(trainSet, reuseRowObject = false)\n",
    "\n",
    "let augmentedImages =\n",
    "    [ turnRight; turnLeft; flipHorizontally; grayScale ]\n",
    "    |> Seq.map (randomlyAugment preprocessedImagesTrainSet 0.1)\n",
    "    |> Seq.concat\n",
    "\n",
    "// hacky hacky hack because Key Column types in ML.NET are weird\n",
    "let postAugmentationPipeline =\n",
    "    mlContext.Transforms.Conversion.MapValueToKey(inputColumnName = \"Label\",\n",
    "                                                  outputColumnName = \"LabelAsKey\",\n",
    "                                                  // super important to use `keyOrdinality` consistently\n",
    "                                                  // otherwise you kill your network performance\n",
    "                                                  keyOrdinality = ValueToKeyMappingEstimator.KeyOrdinality.ByValue)\n",
    "\n",
    "let augmentedTrain =\n",
    "    Seq.concat [ preprocessedImagesTrainSet; augmentedImages ]\n",
    "    |> fun dataset -> mlContext.Data.LoadFromEnumerable(dataset)\n",
    "    |> fun dv -> mlContext.Data.ShuffleRows(dv)\n",
    "    |> fun dv -> postAugmentationPipeline.Fit(dv).Transform(dv)"
   ],
   "outputs": []
  },
  {
   "cell_type": "markdown",
   "metadata": {},
   "source": [
    "Training an image classifier using transfer-learning needs a bit of configuration. Most parameters are pretty conventional. You specify the column of your \"features\" (the data important to train - in our case the raw image bytes), the label (to give the network a ground truth), additional data for validation, the used network architecture (we prepared all our data for Inception V3) and some other parameters.\n",
    "\n",
    "Having all of this specified we can create the training pipeline and fit the model to our training data."
   ]
  },
  {
   "cell_type": "code",
   "execution_count": 1,
   "metadata": {},
   "source": [
    "#!fsharp\n",
    "let imageClassifierOptions =\n",
    "    ImageClassificationTrainer.Options(FeatureColumnName = \"Image\",\n",
    "                                       LabelColumnName = \"LabelAsKey\",\n",
    "                                       ValidationSet = validationSet,\n",
    "                                       Arch = ImageClassificationTrainer.Architecture.InceptionV3,\n",
    "                                       TestOnTrainSet = false,\n",
    "                                       ReuseTrainSetBottleneckCachedValues = false,\n",
    "                                       ReuseValidationSetBottleneckCachedValues = false,\n",
    "                                       MetricsCallback = (fun metrics -> display $\"%A{metrics}\" |> ignore),\n",
    "                                       WorkspacePath = workspaceDir)\n",
    "\n",
    "let trainingPipeline =\n",
    "    EstimatorChain()\n",
    "        .Append(mlContext.MulticlassClassification.Trainers.ImageClassification(imageClassifierOptions))\n",
    "        .Append(mlContext.Transforms.Conversion.MapKeyToValue(\"PredictedLabel\", \"PredictedLabel\"))\n",
    "\n",
    "let trainedModel = trainingPipeline.Fit augmentedTrain"
   ],
   "outputs": [
    {
     "output_type": "execute_result",
     "data": {
      "text/plain": "Saver not created because there are no variables in the graph to restore\r\n"
     },
     "execution_count": 1,
     "metadata": {}
    },
    {
     "output_type": "execute_result",
     "data": {
      "text/plain": "Phase: Bottleneck Computation, Dataset used: Validation, Image Index:   1"
     },
     "execution_count": 1,
     "metadata": {}
    },
    {
     "output_type": "execute_result",
     "data": {
      "text/plain": "Phase: Bottleneck Computation, Dataset used: Validation, Image Index:   2"
     },
     "execution_count": 1,
     "metadata": {}
    },
    {
     "output_type": "execute_result",
     "data": {
      "text/plain": "Phase: Bottleneck Computation, Dataset used: Validation, Image Index:   3"
     },
     "execution_count": 1,
     "metadata": {}
    },
    {
     "output_type": "execute_result",
     "data": {
      "text/plain": "Phase: Bottleneck Computation, Dataset used: Validation, Image Index:   4"
     },
     "execution_count": 1,
     "metadata": {}
    },
    {
     "output_type": "execute_result",
     "data": {
      "text/plain": "Phase: Bottleneck Computation, Dataset used: Validation, Image Index:   5"
     },
     "execution_count": 1,
     "metadata": {}
    },
    {
     "output_type": "execute_result",
     "data": {
      "text/plain": "Phase: Bottleneck Computation, Dataset used: Validation, Image Index:   6"
     },
     "execution_count": 1,
     "metadata": {}
    },
    {
     "output_type": "execute_result",
     "data": {
      "text/plain": "Phase: Bottleneck Computation, Dataset used: Validation, Image Index:   7"
     },
     "execution_count": 1,
     "metadata": {}
    },
    {
     "output_type": "execute_result",
     "data": {
      "text/plain": "Phase: Bottleneck Computation, Dataset used: Validation, Image Index:   8"
     },
     "execution_count": 1,
     "metadata": {}
    },
    {
     "output_type": "execute_result",
     "data": {
      "text/plain": "Phase: Bottleneck Computation, Dataset used: Validation, Image Index:   9"
     },
     "execution_count": 1,
     "metadata": {}
    },
    {
     "output_type": "execute_result",
     "data": {
      "text/plain": "Phase: Bottleneck Computation, Dataset used: Validation, Image Index:  10"
     },
     "execution_count": 1,
     "metadata": {}
    },
    {
     "output_type": "execute_result",
     "data": {
      "text/plain": "Phase: Bottleneck Computation, Dataset used: Validation, Image Index:  11"
     },
     "execution_count": 1,
     "metadata": {}
    },
    {
     "output_type": "execute_result",
     "data": {
      "text/plain": "Phase: Bottleneck Computation, Dataset used: Validation, Image Index:  12"
     },
     "execution_count": 1,
     "metadata": {}
    },
    {
     "output_type": "execute_result",
     "data": {
      "text/plain": "Phase: Bottleneck Computation, Dataset used: Validation, Image Index:  13"
     },
     "execution_count": 1,
     "metadata": {}
    },
    {
     "output_type": "execute_result",
     "data": {
      "text/plain": "Phase: Bottleneck Computation, Dataset used: Validation, Image Index:  14"
     },
     "execution_count": 1,
     "metadata": {}
    },
    {
     "output_type": "execute_result",
     "data": {
      "text/plain": "Phase: Bottleneck Computation, Dataset used: Validation, Image Index:  15"
     },
     "execution_count": 1,
     "metadata": {}
    },
    {
     "output_type": "execute_result",
     "data": {
      "text/plain": "Phase: Bottleneck Computation, Dataset used: Validation, Image Index:  16"
     },
     "execution_count": 1,
     "metadata": {}
    },
    {
     "output_type": "execute_result",
     "data": {
      "text/plain": "Phase: Bottleneck Computation, Dataset used: Validation, Image Index:  17"
     },
     "execution_count": 1,
     "metadata": {}
    },
    {
     "output_type": "execute_result",
     "data": {
      "text/plain": "Phase: Bottleneck Computation, Dataset used: Validation, Image Index:  18"
     },
     "execution_count": 1,
     "metadata": {}
    },
    {
     "output_type": "execute_result",
     "data": {
      "text/plain": "Phase: Bottleneck Computation, Dataset used: Validation, Image Index:  19"
     },
     "execution_count": 1,
     "metadata": {}
    },
    {
     "output_type": "execute_result",
     "data": {
      "text/plain": "Phase: Bottleneck Computation, Dataset used: Validation, Image Index:  20"
     },
     "execution_count": 1,
     "metadata": {}
    },
    {
     "output_type": "execute_result",
     "data": {
      "text/plain": "Phase: Bottleneck Computation, Dataset used: Validation, Image Index:  21"
     },
     "execution_count": 1,
     "metadata": {}
    },
    {
     "output_type": "execute_result",
     "data": {
      "text/plain": "Phase: Bottleneck Computation, Dataset used: Validation, Image Index:  22"
     },
     "execution_count": 1,
     "metadata": {}
    },
    {
     "output_type": "execute_result",
     "data": {
      "text/plain": "Phase: Bottleneck Computation, Dataset used: Validation, Image Index:  23"
     },
     "execution_count": 1,
     "metadata": {}
    },
    {
     "output_type": "execute_result",
     "data": {
      "text/plain": "Phase: Bottleneck Computation, Dataset used: Validation, Image Index:  24"
     },
     "execution_count": 1,
     "metadata": {}
    },
    {
     "output_type": "execute_result",
     "data": {
      "text/plain": "Phase: Bottleneck Computation, Dataset used: Validation, Image Index:  25"
     },
     "execution_count": 1,
     "metadata": {}
    },
    {
     "output_type": "execute_result",
     "data": {
      "text/plain": "Phase: Bottleneck Computation, Dataset used: Validation, Image Index:  26"
     },
     "execution_count": 1,
     "metadata": {}
    },
    {
     "output_type": "execute_result",
     "data": {
      "text/plain": "Phase: Bottleneck Computation, Dataset used: Validation, Image Index:  27"
     },
     "execution_count": 1,
     "metadata": {}
    },
    {
     "output_type": "execute_result",
     "data": {
      "text/plain": "Phase: Bottleneck Computation, Dataset used: Validation, Image Index:  28"
     },
     "execution_count": 1,
     "metadata": {}
    },
    {
     "output_type": "execute_result",
     "data": {
      "text/plain": "Phase: Bottleneck Computation, Dataset used: Validation, Image Index:  29"
     },
     "execution_count": 1,
     "metadata": {}
    },
    {
     "output_type": "execute_result",
     "data": {
      "text/plain": "Phase: Bottleneck Computation, Dataset used: Validation, Image Index:  30"
     },
     "execution_count": 1,
     "metadata": {}
    },
    {
     "output_type": "execute_result",
     "data": {
      "text/plain": "Phase: Bottleneck Computation, Dataset used: Validation, Image Index:  31"
     },
     "execution_count": 1,
     "metadata": {}
    },
    {
     "output_type": "execute_result",
     "data": {
      "text/plain": "Phase: Bottleneck Computation, Dataset used: Validation, Image Index:  32"
     },
     "execution_count": 1,
     "metadata": {}
    },
    {
     "output_type": "execute_result",
     "data": {
      "text/plain": "Phase: Bottleneck Computation, Dataset used: Validation, Image Index:  33"
     },
     "execution_count": 1,
     "metadata": {}
    },
    {
     "output_type": "execute_result",
     "data": {
      "text/plain": "Phase: Bottleneck Computation, Dataset used: Validation, Image Index:  34"
     },
     "execution_count": 1,
     "metadata": {}
    },
    {
     "output_type": "execute_result",
     "data": {
      "text/plain": "Phase: Bottleneck Computation, Dataset used: Validation, Image Index:  35"
     },
     "execution_count": 1,
     "metadata": {}
    },
    {
     "output_type": "execute_result",
     "data": {
      "text/plain": "Phase: Bottleneck Computation, Dataset used: Validation, Image Index:  36"
     },
     "execution_count": 1,
     "metadata": {}
    },
    {
     "output_type": "execute_result",
     "data": {
      "text/plain": "Phase: Bottleneck Computation, Dataset used: Validation, Image Index:  37"
     },
     "execution_count": 1,
     "metadata": {}
    },
    {
     "output_type": "execute_result",
     "data": {
      "text/plain": "Phase: Bottleneck Computation, Dataset used: Validation, Image Index:  38"
     },
     "execution_count": 1,
     "metadata": {}
    },
    {
     "output_type": "execute_result",
     "data": {
      "text/plain": "Phase: Bottleneck Computation, Dataset used: Validation, Image Index:  39"
     },
     "execution_count": 1,
     "metadata": {}
    },
    {
     "output_type": "execute_result",
     "data": {
      "text/plain": "Phase: Bottleneck Computation, Dataset used: Validation, Image Index:  40"
     },
     "execution_count": 1,
     "metadata": {}
    },
    {
     "output_type": "execute_result",
     "data": {
      "text/plain": "Phase: Bottleneck Computation, Dataset used: Validation, Image Index:  41"
     },
     "execution_count": 1,
     "metadata": {}
    },
    {
     "output_type": "execute_result",
     "data": {
      "text/plain": "Phase: Bottleneck Computation, Dataset used: Validation, Image Index:  42"
     },
     "execution_count": 1,
     "metadata": {}
    },
    {
     "output_type": "execute_result",
     "data": {
      "text/plain": "Phase: Bottleneck Computation, Dataset used: Validation, Image Index:  43"
     },
     "execution_count": 1,
     "metadata": {}
    },
    {
     "output_type": "execute_result",
     "data": {
      "text/plain": "Phase: Bottleneck Computation, Dataset used: Validation, Image Index:  44"
     },
     "execution_count": 1,
     "metadata": {}
    },
    {
     "output_type": "execute_result",
     "data": {
      "text/plain": "Phase: Bottleneck Computation, Dataset used: Validation, Image Index:  45"
     },
     "execution_count": 1,
     "metadata": {}
    },
    {
     "output_type": "execute_result",
     "data": {
      "text/plain": "Phase: Bottleneck Computation, Dataset used: Validation, Image Index:  46"
     },
     "execution_count": 1,
     "metadata": {}
    },
    {
     "output_type": "execute_result",
     "data": {
      "text/plain": "Phase: Bottleneck Computation, Dataset used: Validation, Image Index:  47"
     },
     "execution_count": 1,
     "metadata": {}
    },
    {
     "output_type": "execute_result",
     "data": {
      "text/plain": "Phase: Bottleneck Computation, Dataset used: Validation, Image Index:  48"
     },
     "execution_count": 1,
     "metadata": {}
    },
    {
     "output_type": "execute_result",
     "data": {
      "text/plain": "Phase: Bottleneck Computation, Dataset used: Validation, Image Index:  49"
     },
     "execution_count": 1,
     "metadata": {}
    },
    {
     "output_type": "execute_result",
     "data": {
      "text/plain": "Phase: Bottleneck Computation, Dataset used: Validation, Image Index:  50"
     },
     "execution_count": 1,
     "metadata": {}
    },
    {
     "output_type": "execute_result",
     "data": {
      "text/plain": "Phase: Bottleneck Computation, Dataset used: Validation, Image Index:  51"
     },
     "execution_count": 1,
     "metadata": {}
    },
    {
     "output_type": "execute_result",
     "data": {
      "text/plain": "Phase: Bottleneck Computation, Dataset used: Validation, Image Index:  52"
     },
     "execution_count": 1,
     "metadata": {}
    },
    {
     "output_type": "execute_result",
     "data": {
      "text/plain": "Phase: Bottleneck Computation, Dataset used: Validation, Image Index:  53"
     },
     "execution_count": 1,
     "metadata": {}
    },
    {
     "output_type": "execute_result",
     "data": {
      "text/plain": "Phase: Bottleneck Computation, Dataset used: Validation, Image Index:  54"
     },
     "execution_count": 1,
     "metadata": {}
    },
    {
     "output_type": "execute_result",
     "data": {
      "text/plain": "Phase: Bottleneck Computation, Dataset used: Validation, Image Index:  55"
     },
     "execution_count": 1,
     "metadata": {}
    },
    {
     "output_type": "execute_result",
     "data": {
      "text/plain": "Phase: Bottleneck Computation, Dataset used: Validation, Image Index:  56"
     },
     "execution_count": 1,
     "metadata": {}
    },
    {
     "output_type": "execute_result",
     "data": {
      "text/plain": "Phase: Bottleneck Computation, Dataset used: Validation, Image Index:  57"
     },
     "execution_count": 1,
     "metadata": {}
    },
    {
     "output_type": "execute_result",
     "data": {
      "text/plain": "Phase: Bottleneck Computation, Dataset used: Validation, Image Index:  58"
     },
     "execution_count": 1,
     "metadata": {}
    },
    {
     "output_type": "execute_result",
     "data": {
      "text/plain": "Phase: Bottleneck Computation, Dataset used: Validation, Image Index:  59"
     },
     "execution_count": 1,
     "metadata": {}
    },
    {
     "output_type": "execute_result",
     "data": {
      "text/plain": "Phase: Bottleneck Computation, Dataset used: Validation, Image Index:  60"
     },
     "execution_count": 1,
     "metadata": {}
    },
    {
     "output_type": "execute_result",
     "data": {
      "text/plain": "Phase: Bottleneck Computation, Dataset used: Validation, Image Index:  61"
     },
     "execution_count": 1,
     "metadata": {}
    },
    {
     "output_type": "execute_result",
     "data": {
      "text/plain": "Phase: Bottleneck Computation, Dataset used: Validation, Image Index:  62"
     },
     "execution_count": 1,
     "metadata": {}
    },
    {
     "output_type": "execute_result",
     "data": {
      "text/plain": "Phase: Bottleneck Computation, Dataset used: Validation, Image Index:  63"
     },
     "execution_count": 1,
     "metadata": {}
    },
    {
     "output_type": "execute_result",
     "data": {
      "text/plain": "Phase: Bottleneck Computation, Dataset used: Validation, Image Index:  64"
     },
     "execution_count": 1,
     "metadata": {}
    },
    {
     "output_type": "execute_result",
     "data": {
      "text/plain": "Phase: Bottleneck Computation, Dataset used: Validation, Image Index:  65"
     },
     "execution_count": 1,
     "metadata": {}
    },
    {
     "output_type": "execute_result",
     "data": {
      "text/plain": "Phase: Bottleneck Computation, Dataset used: Validation, Image Index:  66"
     },
     "execution_count": 1,
     "metadata": {}
    },
    {
     "output_type": "execute_result",
     "data": {
      "text/plain": "Phase: Bottleneck Computation, Dataset used: Validation, Image Index:  67"
     },
     "execution_count": 1,
     "metadata": {}
    },
    {
     "output_type": "execute_result",
     "data": {
      "text/plain": "Phase: Bottleneck Computation, Dataset used: Validation, Image Index:  68"
     },
     "execution_count": 1,
     "metadata": {}
    },
    {
     "output_type": "execute_result",
     "data": {
      "text/plain": "Phase: Bottleneck Computation, Dataset used: Validation, Image Index:  69"
     },
     "execution_count": 1,
     "metadata": {}
    },
    {
     "output_type": "execute_result",
     "data": {
      "text/plain": "Phase: Bottleneck Computation, Dataset used: Validation, Image Index:  70"
     },
     "execution_count": 1,
     "metadata": {}
    },
    {
     "output_type": "execute_result",
     "data": {
      "text/plain": "Phase: Bottleneck Computation, Dataset used: Validation, Image Index:  71"
     },
     "execution_count": 1,
     "metadata": {}
    },
    {
     "output_type": "execute_result",
     "data": {
      "text/plain": "Phase: Bottleneck Computation, Dataset used: Validation, Image Index:  72"
     },
     "execution_count": 1,
     "metadata": {}
    },
    {
     "output_type": "execute_result",
     "data": {
      "text/plain": "Phase: Bottleneck Computation, Dataset used: Validation, Image Index:  73"
     },
     "execution_count": 1,
     "metadata": {}
    },
    {
     "output_type": "execute_result",
     "data": {
      "text/plain": "Phase: Bottleneck Computation, Dataset used: Validation, Image Index:  74"
     },
     "execution_count": 1,
     "metadata": {}
    },
    {
     "output_type": "execute_result",
     "data": {
      "text/plain": "Phase: Bottleneck Computation, Dataset used: Validation, Image Index:  75"
     },
     "execution_count": 1,
     "metadata": {}
    },
    {
     "output_type": "execute_result",
     "data": {
      "text/plain": "Phase: Bottleneck Computation, Dataset used: Validation, Image Index:  76"
     },
     "execution_count": 1,
     "metadata": {}
    },
    {
     "output_type": "execute_result",
     "data": {
      "text/plain": "Phase: Bottleneck Computation, Dataset used: Validation, Image Index:  77"
     },
     "execution_count": 1,
     "metadata": {}
    },
    {
     "output_type": "execute_result",
     "data": {
      "text/plain": "Phase: Bottleneck Computation, Dataset used: Validation, Image Index:  78"
     },
     "execution_count": 1,
     "metadata": {}
    },
    {
     "output_type": "execute_result",
     "data": {
      "text/plain": "Phase: Bottleneck Computation, Dataset used: Validation, Image Index:  79"
     },
     "execution_count": 1,
     "metadata": {}
    },
    {
     "output_type": "execute_result",
     "data": {
      "text/plain": "Phase: Bottleneck Computation, Dataset used: Validation, Image Index:  80"
     },
     "execution_count": 1,
     "metadata": {}
    },
    {
     "output_type": "execute_result",
     "data": {
      "text/plain": "Phase: Bottleneck Computation, Dataset used: Validation, Image Index:  81"
     },
     "execution_count": 1,
     "metadata": {}
    },
    {
     "output_type": "execute_result",
     "data": {
      "text/plain": "Phase: Bottleneck Computation, Dataset used: Validation, Image Index:  82"
     },
     "execution_count": 1,
     "metadata": {}
    },
    {
     "output_type": "execute_result",
     "data": {
      "text/plain": "Phase: Bottleneck Computation, Dataset used: Validation, Image Index:  83"
     },
     "execution_count": 1,
     "metadata": {}
    },
    {
     "output_type": "execute_result",
     "data": {
      "text/plain": "Phase: Bottleneck Computation, Dataset used: Validation, Image Index:  84"
     },
     "execution_count": 1,
     "metadata": {}
    },
    {
     "output_type": "execute_result",
     "data": {
      "text/plain": "Phase: Bottleneck Computation, Dataset used: Validation, Image Index:  85"
     },
     "execution_count": 1,
     "metadata": {}
    },
    {
     "output_type": "execute_result",
     "data": {
      "text/plain": "Phase: Bottleneck Computation, Dataset used: Validation, Image Index:  86"
     },
     "execution_count": 1,
     "metadata": {}
    },
    {
     "output_type": "execute_result",
     "data": {
      "text/plain": "Phase: Bottleneck Computation, Dataset used: Validation, Image Index:  87"
     },
     "execution_count": 1,
     "metadata": {}
    },
    {
     "output_type": "execute_result",
     "data": {
      "text/plain": "Phase: Bottleneck Computation, Dataset used: Validation, Image Index:  88"
     },
     "execution_count": 1,
     "metadata": {}
    },
    {
     "output_type": "execute_result",
     "data": {
      "text/plain": "Phase: Bottleneck Computation, Dataset used: Validation, Image Index:  89"
     },
     "execution_count": 1,
     "metadata": {}
    },
    {
     "output_type": "execute_result",
     "data": {
      "text/plain": "Phase: Bottleneck Computation, Dataset used: Validation, Image Index:  90"
     },
     "execution_count": 1,
     "metadata": {}
    },
    {
     "output_type": "execute_result",
     "data": {
      "text/plain": "Phase: Bottleneck Computation, Dataset used: Validation, Image Index:  91"
     },
     "execution_count": 1,
     "metadata": {}
    },
    {
     "output_type": "execute_result",
     "data": {
      "text/plain": "Phase: Bottleneck Computation, Dataset used: Validation, Image Index:  92"
     },
     "execution_count": 1,
     "metadata": {}
    },
    {
     "output_type": "execute_result",
     "data": {
      "text/plain": "Phase: Bottleneck Computation, Dataset used: Validation, Image Index:  93"
     },
     "execution_count": 1,
     "metadata": {}
    },
    {
     "output_type": "execute_result",
     "data": {
      "text/plain": "Phase: Bottleneck Computation, Dataset used: Validation, Image Index:  94"
     },
     "execution_count": 1,
     "metadata": {}
    },
    {
     "output_type": "execute_result",
     "data": {
      "text/plain": "Phase: Bottleneck Computation, Dataset used: Validation, Image Index:  95"
     },
     "execution_count": 1,
     "metadata": {}
    },
    {
     "output_type": "execute_result",
     "data": {
      "text/plain": "Phase: Bottleneck Computation, Dataset used: Validation, Image Index:  96"
     },
     "execution_count": 1,
     "metadata": {}
    },
    {
     "output_type": "execute_result",
     "data": {
      "text/plain": "Phase: Bottleneck Computation, Dataset used: Validation, Image Index:  97"
     },
     "execution_count": 1,
     "metadata": {}
    },
    {
     "output_type": "execute_result",
     "data": {
      "text/plain": "Phase: Bottleneck Computation, Dataset used: Validation, Image Index:  98"
     },
     "execution_count": 1,
     "metadata": {}
    },
    {
     "output_type": "execute_result",
     "data": {
      "text/plain": "Phase: Bottleneck Computation, Dataset used: Validation, Image Index:  99"
     },
     "execution_count": 1,
     "metadata": {}
    },
    {
     "output_type": "execute_result",
     "data": {
      "text/plain": "Phase: Bottleneck Computation, Dataset used: Validation, Image Index: 100"
     },
     "execution_count": 1,
     "metadata": {}
    },
    {
     "output_type": "execute_result",
     "data": {
      "text/plain": "Phase: Bottleneck Computation, Dataset used: Validation, Image Index: 101"
     },
     "execution_count": 1,
     "metadata": {}
    },
    {
     "output_type": "execute_result",
     "data": {
      "text/plain": "Phase: Bottleneck Computation, Dataset used: Validation, Image Index: 102"
     },
     "execution_count": 1,
     "metadata": {}
    },
    {
     "output_type": "execute_result",
     "data": {
      "text/plain": "Phase: Bottleneck Computation, Dataset used: Validation, Image Index: 103"
     },
     "execution_count": 1,
     "metadata": {}
    },
    {
     "output_type": "execute_result",
     "data": {
      "text/plain": "Phase: Bottleneck Computation, Dataset used: Validation, Image Index: 104"
     },
     "execution_count": 1,
     "metadata": {}
    },
    {
     "output_type": "execute_result",
     "data": {
      "text/plain": "Phase: Bottleneck Computation, Dataset used: Validation, Image Index: 105"
     },
     "execution_count": 1,
     "metadata": {}
    },
    {
     "output_type": "execute_result",
     "data": {
      "text/plain": "Phase: Bottleneck Computation, Dataset used: Validation, Image Index: 106"
     },
     "execution_count": 1,
     "metadata": {}
    },
    {
     "output_type": "execute_result",
     "data": {
      "text/plain": "Phase: Bottleneck Computation, Dataset used: Validation, Image Index: 107"
     },
     "execution_count": 1,
     "metadata": {}
    },
    {
     "output_type": "execute_result",
     "data": {
      "text/plain": "Phase: Bottleneck Computation, Dataset used: Validation, Image Index: 108"
     },
     "execution_count": 1,
     "metadata": {}
    },
    {
     "output_type": "execute_result",
     "data": {
      "text/plain": "Phase: Bottleneck Computation, Dataset used:      Train, Image Index:   1"
     },
     "execution_count": 1,
     "metadata": {}
    },
    {
     "output_type": "execute_result",
     "data": {
      "text/plain": "Phase: Bottleneck Computation, Dataset used:      Train, Image Index:   2"
     },
     "execution_count": 1,
     "metadata": {}
    },
    {
     "output_type": "execute_result",
     "data": {
      "text/plain": "Phase: Bottleneck Computation, Dataset used:      Train, Image Index:   3"
     },
     "execution_count": 1,
     "metadata": {}
    },
    {
     "output_type": "execute_result",
     "data": {
      "text/plain": "Phase: Bottleneck Computation, Dataset used:      Train, Image Index:   4"
     },
     "execution_count": 1,
     "metadata": {}
    },
    {
     "output_type": "execute_result",
     "data": {
      "text/plain": "Phase: Bottleneck Computation, Dataset used:      Train, Image Index:   5"
     },
     "execution_count": 1,
     "metadata": {}
    },
    {
     "output_type": "execute_result",
     "data": {
      "text/plain": "Phase: Bottleneck Computation, Dataset used:      Train, Image Index:   6"
     },
     "execution_count": 1,
     "metadata": {}
    },
    {
     "output_type": "execute_result",
     "data": {
      "text/plain": "Phase: Bottleneck Computation, Dataset used:      Train, Image Index:   7"
     },
     "execution_count": 1,
     "metadata": {}
    },
    {
     "output_type": "execute_result",
     "data": {
      "text/plain": "Phase: Bottleneck Computation, Dataset used:      Train, Image Index:   8"
     },
     "execution_count": 1,
     "metadata": {}
    },
    {
     "output_type": "execute_result",
     "data": {
      "text/plain": "Phase: Bottleneck Computation, Dataset used:      Train, Image Index:   9"
     },
     "execution_count": 1,
     "metadata": {}
    },
    {
     "output_type": "execute_result",
     "data": {
      "text/plain": "Phase: Bottleneck Computation, Dataset used:      Train, Image Index:  10"
     },
     "execution_count": 1,
     "metadata": {}
    },
    {
     "output_type": "execute_result",
     "data": {
      "text/plain": "Phase: Bottleneck Computation, Dataset used:      Train, Image Index:  11"
     },
     "execution_count": 1,
     "metadata": {}
    },
    {
     "output_type": "execute_result",
     "data": {
      "text/plain": "Phase: Bottleneck Computation, Dataset used:      Train, Image Index:  12"
     },
     "execution_count": 1,
     "metadata": {}
    },
    {
     "output_type": "execute_result",
     "data": {
      "text/plain": "Phase: Bottleneck Computation, Dataset used:      Train, Image Index:  13"
     },
     "execution_count": 1,
     "metadata": {}
    },
    {
     "output_type": "execute_result",
     "data": {
      "text/plain": "Phase: Bottleneck Computation, Dataset used:      Train, Image Index:  14"
     },
     "execution_count": 1,
     "metadata": {}
    },
    {
     "output_type": "execute_result",
     "data": {
      "text/plain": "Phase: Bottleneck Computation, Dataset used:      Train, Image Index:  15"
     },
     "execution_count": 1,
     "metadata": {}
    },
    {
     "output_type": "execute_result",
     "data": {
      "text/plain": "Phase: Bottleneck Computation, Dataset used:      Train, Image Index:  16"
     },
     "execution_count": 1,
     "metadata": {}
    },
    {
     "output_type": "execute_result",
     "data": {
      "text/plain": "Phase: Bottleneck Computation, Dataset used:      Train, Image Index:  17"
     },
     "execution_count": 1,
     "metadata": {}
    },
    {
     "output_type": "execute_result",
     "data": {
      "text/plain": "Phase: Bottleneck Computation, Dataset used:      Train, Image Index:  18"
     },
     "execution_count": 1,
     "metadata": {}
    },
    {
     "output_type": "execute_result",
     "data": {
      "text/plain": "Phase: Bottleneck Computation, Dataset used:      Train, Image Index:  19"
     },
     "execution_count": 1,
     "metadata": {}
    },
    {
     "output_type": "execute_result",
     "data": {
      "text/plain": "Phase: Bottleneck Computation, Dataset used:      Train, Image Index:  20"
     },
     "execution_count": 1,
     "metadata": {}
    },
    {
     "output_type": "execute_result",
     "data": {
      "text/plain": "Phase: Bottleneck Computation, Dataset used:      Train, Image Index:  21"
     },
     "execution_count": 1,
     "metadata": {}
    },
    {
     "output_type": "execute_result",
     "data": {
      "text/plain": "Phase: Bottleneck Computation, Dataset used:      Train, Image Index:  22"
     },
     "execution_count": 1,
     "metadata": {}
    },
    {
     "output_type": "execute_result",
     "data": {
      "text/plain": "Phase: Bottleneck Computation, Dataset used:      Train, Image Index:  23"
     },
     "execution_count": 1,
     "metadata": {}
    },
    {
     "output_type": "execute_result",
     "data": {
      "text/plain": "Phase: Bottleneck Computation, Dataset used:      Train, Image Index:  24"
     },
     "execution_count": 1,
     "metadata": {}
    },
    {
     "output_type": "execute_result",
     "data": {
      "text/plain": "Phase: Bottleneck Computation, Dataset used:      Train, Image Index:  25"
     },
     "execution_count": 1,
     "metadata": {}
    },
    {
     "output_type": "execute_result",
     "data": {
      "text/plain": "Phase: Bottleneck Computation, Dataset used:      Train, Image Index:  26"
     },
     "execution_count": 1,
     "metadata": {}
    },
    {
     "output_type": "execute_result",
     "data": {
      "text/plain": "Phase: Bottleneck Computation, Dataset used:      Train, Image Index:  27"
     },
     "execution_count": 1,
     "metadata": {}
    },
    {
     "output_type": "execute_result",
     "data": {
      "text/plain": "Phase: Bottleneck Computation, Dataset used:      Train, Image Index:  28"
     },
     "execution_count": 1,
     "metadata": {}
    },
    {
     "output_type": "execute_result",
     "data": {
      "text/plain": "Phase: Bottleneck Computation, Dataset used:      Train, Image Index:  29"
     },
     "execution_count": 1,
     "metadata": {}
    },
    {
     "output_type": "execute_result",
     "data": {
      "text/plain": "Phase: Bottleneck Computation, Dataset used:      Train, Image Index:  30"
     },
     "execution_count": 1,
     "metadata": {}
    },
    {
     "output_type": "execute_result",
     "data": {
      "text/plain": "Phase: Bottleneck Computation, Dataset used:      Train, Image Index:  31"
     },
     "execution_count": 1,
     "metadata": {}
    },
    {
     "output_type": "execute_result",
     "data": {
      "text/plain": "Phase: Bottleneck Computation, Dataset used:      Train, Image Index:  32"
     },
     "execution_count": 1,
     "metadata": {}
    },
    {
     "output_type": "execute_result",
     "data": {
      "text/plain": "Phase: Bottleneck Computation, Dataset used:      Train, Image Index:  33"
     },
     "execution_count": 1,
     "metadata": {}
    },
    {
     "output_type": "execute_result",
     "data": {
      "text/plain": "Phase: Bottleneck Computation, Dataset used:      Train, Image Index:  34"
     },
     "execution_count": 1,
     "metadata": {}
    },
    {
     "output_type": "execute_result",
     "data": {
      "text/plain": "Phase: Bottleneck Computation, Dataset used:      Train, Image Index:  35"
     },
     "execution_count": 1,
     "metadata": {}
    },
    {
     "output_type": "execute_result",
     "data": {
      "text/plain": "Phase: Bottleneck Computation, Dataset used:      Train, Image Index:  36"
     },
     "execution_count": 1,
     "metadata": {}
    },
    {
     "output_type": "execute_result",
     "data": {
      "text/plain": "Phase: Bottleneck Computation, Dataset used:      Train, Image Index:  37"
     },
     "execution_count": 1,
     "metadata": {}
    },
    {
     "output_type": "execute_result",
     "data": {
      "text/plain": "Phase: Bottleneck Computation, Dataset used:      Train, Image Index:  38"
     },
     "execution_count": 1,
     "metadata": {}
    },
    {
     "output_type": "execute_result",
     "data": {
      "text/plain": "Phase: Bottleneck Computation, Dataset used:      Train, Image Index:  39"
     },
     "execution_count": 1,
     "metadata": {}
    },
    {
     "output_type": "execute_result",
     "data": {
      "text/plain": "Phase: Bottleneck Computation, Dataset used:      Train, Image Index:  40"
     },
     "execution_count": 1,
     "metadata": {}
    },
    {
     "output_type": "execute_result",
     "data": {
      "text/plain": "Phase: Bottleneck Computation, Dataset used:      Train, Image Index:  41"
     },
     "execution_count": 1,
     "metadata": {}
    },
    {
     "output_type": "execute_result",
     "data": {
      "text/plain": "Phase: Bottleneck Computation, Dataset used:      Train, Image Index:  42"
     },
     "execution_count": 1,
     "metadata": {}
    },
    {
     "output_type": "execute_result",
     "data": {
      "text/plain": "Phase: Bottleneck Computation, Dataset used:      Train, Image Index:  43"
     },
     "execution_count": 1,
     "metadata": {}
    },
    {
     "output_type": "execute_result",
     "data": {
      "text/plain": "Phase: Bottleneck Computation, Dataset used:      Train, Image Index:  44"
     },
     "execution_count": 1,
     "metadata": {}
    },
    {
     "output_type": "execute_result",
     "data": {
      "text/plain": "Phase: Bottleneck Computation, Dataset used:      Train, Image Index:  45"
     },
     "execution_count": 1,
     "metadata": {}
    },
    {
     "output_type": "execute_result",
     "data": {
      "text/plain": "Phase: Bottleneck Computation, Dataset used:      Train, Image Index:  46"
     },
     "execution_count": 1,
     "metadata": {}
    },
    {
     "output_type": "execute_result",
     "data": {
      "text/plain": "Phase: Bottleneck Computation, Dataset used:      Train, Image Index:  47"
     },
     "execution_count": 1,
     "metadata": {}
    },
    {
     "output_type": "execute_result",
     "data": {
      "text/plain": "Phase: Bottleneck Computation, Dataset used:      Train, Image Index:  48"
     },
     "execution_count": 1,
     "metadata": {}
    },
    {
     "output_type": "execute_result",
     "data": {
      "text/plain": "Phase: Bottleneck Computation, Dataset used:      Train, Image Index:  49"
     },
     "execution_count": 1,
     "metadata": {}
    },
    {
     "output_type": "execute_result",
     "data": {
      "text/plain": "Phase: Bottleneck Computation, Dataset used:      Train, Image Index:  50"
     },
     "execution_count": 1,
     "metadata": {}
    },
    {
     "output_type": "execute_result",
     "data": {
      "text/plain": "Phase: Bottleneck Computation, Dataset used:      Train, Image Index:  51"
     },
     "execution_count": 1,
     "metadata": {}
    },
    {
     "output_type": "execute_result",
     "data": {
      "text/plain": "Phase: Bottleneck Computation, Dataset used:      Train, Image Index:  52"
     },
     "execution_count": 1,
     "metadata": {}
    },
    {
     "output_type": "execute_result",
     "data": {
      "text/plain": "Phase: Bottleneck Computation, Dataset used:      Train, Image Index:  53"
     },
     "execution_count": 1,
     "metadata": {}
    },
    {
     "output_type": "execute_result",
     "data": {
      "text/plain": "Phase: Bottleneck Computation, Dataset used:      Train, Image Index:  54"
     },
     "execution_count": 1,
     "metadata": {}
    },
    {
     "output_type": "execute_result",
     "data": {
      "text/plain": "Phase: Bottleneck Computation, Dataset used:      Train, Image Index:  55"
     },
     "execution_count": 1,
     "metadata": {}
    },
    {
     "output_type": "execute_result",
     "data": {
      "text/plain": "Phase: Bottleneck Computation, Dataset used:      Train, Image Index:  56"
     },
     "execution_count": 1,
     "metadata": {}
    },
    {
     "output_type": "execute_result",
     "data": {
      "text/plain": "Phase: Bottleneck Computation, Dataset used:      Train, Image Index:  57"
     },
     "execution_count": 1,
     "metadata": {}
    },
    {
     "output_type": "execute_result",
     "data": {
      "text/plain": "Phase: Bottleneck Computation, Dataset used:      Train, Image Index:  58"
     },
     "execution_count": 1,
     "metadata": {}
    },
    {
     "output_type": "execute_result",
     "data": {
      "text/plain": "Phase: Bottleneck Computation, Dataset used:      Train, Image Index:  59"
     },
     "execution_count": 1,
     "metadata": {}
    },
    {
     "output_type": "execute_result",
     "data": {
      "text/plain": "Phase: Bottleneck Computation, Dataset used:      Train, Image Index:  60"
     },
     "execution_count": 1,
     "metadata": {}
    },
    {
     "output_type": "execute_result",
     "data": {
      "text/plain": "Phase: Bottleneck Computation, Dataset used:      Train, Image Index:  61"
     },
     "execution_count": 1,
     "metadata": {}
    },
    {
     "output_type": "execute_result",
     "data": {
      "text/plain": "Phase: Bottleneck Computation, Dataset used:      Train, Image Index:  62"
     },
     "execution_count": 1,
     "metadata": {}
    },
    {
     "output_type": "execute_result",
     "data": {
      "text/plain": "Phase: Bottleneck Computation, Dataset used:      Train, Image Index:  63"
     },
     "execution_count": 1,
     "metadata": {}
    },
    {
     "output_type": "execute_result",
     "data": {
      "text/plain": "Phase: Bottleneck Computation, Dataset used:      Train, Image Index:  64"
     },
     "execution_count": 1,
     "metadata": {}
    },
    {
     "output_type": "execute_result",
     "data": {
      "text/plain": "Phase: Bottleneck Computation, Dataset used:      Train, Image Index:  65"
     },
     "execution_count": 1,
     "metadata": {}
    },
    {
     "output_type": "execute_result",
     "data": {
      "text/plain": "Phase: Bottleneck Computation, Dataset used:      Train, Image Index:  66"
     },
     "execution_count": 1,
     "metadata": {}
    },
    {
     "output_type": "execute_result",
     "data": {
      "text/plain": "Phase: Bottleneck Computation, Dataset used:      Train, Image Index:  67"
     },
     "execution_count": 1,
     "metadata": {}
    },
    {
     "output_type": "execute_result",
     "data": {
      "text/plain": "Phase: Bottleneck Computation, Dataset used:      Train, Image Index:  68"
     },
     "execution_count": 1,
     "metadata": {}
    },
    {
     "output_type": "execute_result",
     "data": {
      "text/plain": "Phase: Bottleneck Computation, Dataset used:      Train, Image Index:  69"
     },
     "execution_count": 1,
     "metadata": {}
    },
    {
     "output_type": "execute_result",
     "data": {
      "text/plain": "Phase: Bottleneck Computation, Dataset used:      Train, Image Index:  70"
     },
     "execution_count": 1,
     "metadata": {}
    },
    {
     "output_type": "execute_result",
     "data": {
      "text/plain": "Phase: Bottleneck Computation, Dataset used:      Train, Image Index:  71"
     },
     "execution_count": 1,
     "metadata": {}
    },
    {
     "output_type": "execute_result",
     "data": {
      "text/plain": "Phase: Bottleneck Computation, Dataset used:      Train, Image Index:  72"
     },
     "execution_count": 1,
     "metadata": {}
    },
    {
     "output_type": "execute_result",
     "data": {
      "text/plain": "Phase: Bottleneck Computation, Dataset used:      Train, Image Index:  73"
     },
     "execution_count": 1,
     "metadata": {}
    },
    {
     "output_type": "execute_result",
     "data": {
      "text/plain": "Phase: Bottleneck Computation, Dataset used:      Train, Image Index:  74"
     },
     "execution_count": 1,
     "metadata": {}
    },
    {
     "output_type": "execute_result",
     "data": {
      "text/plain": "Phase: Bottleneck Computation, Dataset used:      Train, Image Index:  75"
     },
     "execution_count": 1,
     "metadata": {}
    },
    {
     "output_type": "execute_result",
     "data": {
      "text/plain": "Phase: Bottleneck Computation, Dataset used:      Train, Image Index:  76"
     },
     "execution_count": 1,
     "metadata": {}
    },
    {
     "output_type": "execute_result",
     "data": {
      "text/plain": "Phase: Bottleneck Computation, Dataset used:      Train, Image Index:  77"
     },
     "execution_count": 1,
     "metadata": {}
    },
    {
     "output_type": "execute_result",
     "data": {
      "text/plain": "Phase: Bottleneck Computation, Dataset used:      Train, Image Index:  78"
     },
     "execution_count": 1,
     "metadata": {}
    },
    {
     "output_type": "execute_result",
     "data": {
      "text/plain": "Phase: Bottleneck Computation, Dataset used:      Train, Image Index:  79"
     },
     "execution_count": 1,
     "metadata": {}
    },
    {
     "output_type": "execute_result",
     "data": {
      "text/plain": "Phase: Bottleneck Computation, Dataset used:      Train, Image Index:  80"
     },
     "execution_count": 1,
     "metadata": {}
    },
    {
     "output_type": "execute_result",
     "data": {
      "text/plain": "Phase: Bottleneck Computation, Dataset used:      Train, Image Index:  81"
     },
     "execution_count": 1,
     "metadata": {}
    },
    {
     "output_type": "execute_result",
     "data": {
      "text/plain": "Phase: Bottleneck Computation, Dataset used:      Train, Image Index:  82"
     },
     "execution_count": 1,
     "metadata": {}
    },
    {
     "output_type": "execute_result",
     "data": {
      "text/plain": "Phase: Bottleneck Computation, Dataset used:      Train, Image Index:  83"
     },
     "execution_count": 1,
     "metadata": {}
    },
    {
     "output_type": "execute_result",
     "data": {
      "text/plain": "Phase: Bottleneck Computation, Dataset used:      Train, Image Index:  84"
     },
     "execution_count": 1,
     "metadata": {}
    },
    {
     "output_type": "execute_result",
     "data": {
      "text/plain": "Phase: Bottleneck Computation, Dataset used:      Train, Image Index:  85"
     },
     "execution_count": 1,
     "metadata": {}
    },
    {
     "output_type": "execute_result",
     "data": {
      "text/plain": "Phase: Bottleneck Computation, Dataset used:      Train, Image Index:  86"
     },
     "execution_count": 1,
     "metadata": {}
    },
    {
     "output_type": "execute_result",
     "data": {
      "text/plain": "Phase: Bottleneck Computation, Dataset used:      Train, Image Index:  87"
     },
     "execution_count": 1,
     "metadata": {}
    },
    {
     "output_type": "execute_result",
     "data": {
      "text/plain": "Phase: Bottleneck Computation, Dataset used:      Train, Image Index:  88"
     },
     "execution_count": 1,
     "metadata": {}
    },
    {
     "output_type": "execute_result",
     "data": {
      "text/plain": "Phase: Bottleneck Computation, Dataset used:      Train, Image Index:  89"
     },
     "execution_count": 1,
     "metadata": {}
    },
    {
     "output_type": "execute_result",
     "data": {
      "text/plain": "Phase: Bottleneck Computation, Dataset used:      Train, Image Index:  90"
     },
     "execution_count": 1,
     "metadata": {}
    },
    {
     "output_type": "execute_result",
     "data": {
      "text/plain": "Phase: Bottleneck Computation, Dataset used:      Train, Image Index:  91"
     },
     "execution_count": 1,
     "metadata": {}
    },
    {
     "output_type": "execute_result",
     "data": {
      "text/plain": "Phase: Bottleneck Computation, Dataset used:      Train, Image Index:  92"
     },
     "execution_count": 1,
     "metadata": {}
    },
    {
     "output_type": "execute_result",
     "data": {
      "text/plain": "Phase: Bottleneck Computation, Dataset used:      Train, Image Index:  93"
     },
     "execution_count": 1,
     "metadata": {}
    },
    {
     "output_type": "execute_result",
     "data": {
      "text/plain": "Phase: Bottleneck Computation, Dataset used:      Train, Image Index:  94"
     },
     "execution_count": 1,
     "metadata": {}
    },
    {
     "output_type": "execute_result",
     "data": {
      "text/plain": "Phase: Bottleneck Computation, Dataset used:      Train, Image Index:  95"
     },
     "execution_count": 1,
     "metadata": {}
    },
    {
     "output_type": "execute_result",
     "data": {
      "text/plain": "Phase: Bottleneck Computation, Dataset used:      Train, Image Index:  96"
     },
     "execution_count": 1,
     "metadata": {}
    },
    {
     "output_type": "execute_result",
     "data": {
      "text/plain": "Phase: Bottleneck Computation, Dataset used:      Train, Image Index:  97"
     },
     "execution_count": 1,
     "metadata": {}
    },
    {
     "output_type": "execute_result",
     "data": {
      "text/plain": "Phase: Bottleneck Computation, Dataset used:      Train, Image Index:  98"
     },
     "execution_count": 1,
     "metadata": {}
    },
    {
     "output_type": "execute_result",
     "data": {
      "text/plain": "Phase: Bottleneck Computation, Dataset used:      Train, Image Index:  99"
     },
     "execution_count": 1,
     "metadata": {}
    },
    {
     "output_type": "execute_result",
     "data": {
      "text/plain": "Phase: Bottleneck Computation, Dataset used:      Train, Image Index: 100"
     },
     "execution_count": 1,
     "metadata": {}
    },
    {
     "output_type": "execute_result",
     "data": {
      "text/plain": "Phase: Bottleneck Computation, Dataset used:      Train, Image Index: 101"
     },
     "execution_count": 1,
     "metadata": {}
    },
    {
     "output_type": "execute_result",
     "data": {
      "text/plain": "Phase: Bottleneck Computation, Dataset used:      Train, Image Index: 102"
     },
     "execution_count": 1,
     "metadata": {}
    },
    {
     "output_type": "execute_result",
     "data": {
      "text/plain": "Phase: Bottleneck Computation, Dataset used:      Train, Image Index: 103"
     },
     "execution_count": 1,
     "metadata": {}
    },
    {
     "output_type": "execute_result",
     "data": {
      "text/plain": "Phase: Bottleneck Computation, Dataset used:      Train, Image Index: 104"
     },
     "execution_count": 1,
     "metadata": {}
    },
    {
     "output_type": "execute_result",
     "data": {
      "text/plain": "Phase: Bottleneck Computation, Dataset used:      Train, Image Index: 105"
     },
     "execution_count": 1,
     "metadata": {}
    },
    {
     "output_type": "execute_result",
     "data": {
      "text/plain": "Phase: Bottleneck Computation, Dataset used:      Train, Image Index: 106"
     },
     "execution_count": 1,
     "metadata": {}
    },
    {
     "output_type": "execute_result",
     "data": {
      "text/plain": "Phase: Bottleneck Computation, Dataset used:      Train, Image Index: 107"
     },
     "execution_count": 1,
     "metadata": {}
    },
    {
     "output_type": "execute_result",
     "data": {
      "text/plain": "Phase: Bottleneck Computation, Dataset used:      Train, Image Index: 108"
     },
     "execution_count": 1,
     "metadata": {}
    },
    {
     "output_type": "execute_result",
     "data": {
      "text/plain": "Phase: Bottleneck Computation, Dataset used:      Train, Image Index: 109"
     },
     "execution_count": 1,
     "metadata": {}
    },
    {
     "output_type": "execute_result",
     "data": {
      "text/plain": "Phase: Bottleneck Computation, Dataset used:      Train, Image Index: 110"
     },
     "execution_count": 1,
     "metadata": {}
    },
    {
     "output_type": "execute_result",
     "data": {
      "text/plain": "Phase: Bottleneck Computation, Dataset used:      Train, Image Index: 111"
     },
     "execution_count": 1,
     "metadata": {}
    },
    {
     "output_type": "execute_result",
     "data": {
      "text/plain": "Phase: Bottleneck Computation, Dataset used:      Train, Image Index: 112"
     },
     "execution_count": 1,
     "metadata": {}
    },
    {
     "output_type": "execute_result",
     "data": {
      "text/plain": "Phase: Bottleneck Computation, Dataset used:      Train, Image Index: 113"
     },
     "execution_count": 1,
     "metadata": {}
    },
    {
     "output_type": "execute_result",
     "data": {
      "text/plain": "Phase: Bottleneck Computation, Dataset used:      Train, Image Index: 114"
     },
     "execution_count": 1,
     "metadata": {}
    },
    {
     "output_type": "execute_result",
     "data": {
      "text/plain": "Phase: Bottleneck Computation, Dataset used:      Train, Image Index: 115"
     },
     "execution_count": 1,
     "metadata": {}
    },
    {
     "output_type": "execute_result",
     "data": {
      "text/plain": "Phase: Bottleneck Computation, Dataset used:      Train, Image Index: 116"
     },
     "execution_count": 1,
     "metadata": {}
    },
    {
     "output_type": "execute_result",
     "data": {
      "text/plain": "Phase: Bottleneck Computation, Dataset used:      Train, Image Index: 117"
     },
     "execution_count": 1,
     "metadata": {}
    },
    {
     "output_type": "execute_result",
     "data": {
      "text/plain": "Phase: Bottleneck Computation, Dataset used:      Train, Image Index: 118"
     },
     "execution_count": 1,
     "metadata": {}
    },
    {
     "output_type": "execute_result",
     "data": {
      "text/plain": "Phase: Bottleneck Computation, Dataset used:      Train, Image Index: 119"
     },
     "execution_count": 1,
     "metadata": {}
    },
    {
     "output_type": "execute_result",
     "data": {
      "text/plain": "Phase: Bottleneck Computation, Dataset used:      Train, Image Index: 120"
     },
     "execution_count": 1,
     "metadata": {}
    },
    {
     "output_type": "execute_result",
     "data": {
      "text/plain": "Phase: Bottleneck Computation, Dataset used:      Train, Image Index: 121"
     },
     "execution_count": 1,
     "metadata": {}
    },
    {
     "output_type": "execute_result",
     "data": {
      "text/plain": "Phase: Bottleneck Computation, Dataset used:      Train, Image Index: 122"
     },
     "execution_count": 1,
     "metadata": {}
    },
    {
     "output_type": "execute_result",
     "data": {
      "text/plain": "Phase: Bottleneck Computation, Dataset used:      Train, Image Index: 123"
     },
     "execution_count": 1,
     "metadata": {}
    },
    {
     "output_type": "execute_result",
     "data": {
      "text/plain": "Phase: Bottleneck Computation, Dataset used:      Train, Image Index: 124"
     },
     "execution_count": 1,
     "metadata": {}
    },
    {
     "output_type": "execute_result",
     "data": {
      "text/plain": "Phase: Bottleneck Computation, Dataset used:      Train, Image Index: 125"
     },
     "execution_count": 1,
     "metadata": {}
    },
    {
     "output_type": "execute_result",
     "data": {
      "text/plain": "Phase: Bottleneck Computation, Dataset used:      Train, Image Index: 126"
     },
     "execution_count": 1,
     "metadata": {}
    },
    {
     "output_type": "execute_result",
     "data": {
      "text/plain": "Phase: Bottleneck Computation, Dataset used:      Train, Image Index: 127"
     },
     "execution_count": 1,
     "metadata": {}
    },
    {
     "output_type": "execute_result",
     "data": {
      "text/plain": "Phase: Bottleneck Computation, Dataset used:      Train, Image Index: 128"
     },
     "execution_count": 1,
     "metadata": {}
    },
    {
     "output_type": "execute_result",
     "data": {
      "text/plain": "Phase: Bottleneck Computation, Dataset used:      Train, Image Index: 129"
     },
     "execution_count": 1,
     "metadata": {}
    },
    {
     "output_type": "execute_result",
     "data": {
      "text/plain": "Phase: Bottleneck Computation, Dataset used:      Train, Image Index: 130"
     },
     "execution_count": 1,
     "metadata": {}
    },
    {
     "output_type": "execute_result",
     "data": {
      "text/plain": "Phase: Bottleneck Computation, Dataset used:      Train, Image Index: 131"
     },
     "execution_count": 1,
     "metadata": {}
    },
    {
     "output_type": "execute_result",
     "data": {
      "text/plain": "Phase: Bottleneck Computation, Dataset used:      Train, Image Index: 132"
     },
     "execution_count": 1,
     "metadata": {}
    },
    {
     "output_type": "execute_result",
     "data": {
      "text/plain": "Phase: Bottleneck Computation, Dataset used:      Train, Image Index: 133"
     },
     "execution_count": 1,
     "metadata": {}
    },
    {
     "output_type": "execute_result",
     "data": {
      "text/plain": "Phase: Bottleneck Computation, Dataset used:      Train, Image Index: 134"
     },
     "execution_count": 1,
     "metadata": {}
    },
    {
     "output_type": "execute_result",
     "data": {
      "text/plain": "Phase: Bottleneck Computation, Dataset used:      Train, Image Index: 135"
     },
     "execution_count": 1,
     "metadata": {}
    },
    {
     "output_type": "execute_result",
     "data": {
      "text/plain": "Phase: Bottleneck Computation, Dataset used:      Train, Image Index: 136"
     },
     "execution_count": 1,
     "metadata": {}
    },
    {
     "output_type": "execute_result",
     "data": {
      "text/plain": "Phase: Bottleneck Computation, Dataset used:      Train, Image Index: 137"
     },
     "execution_count": 1,
     "metadata": {}
    },
    {
     "output_type": "execute_result",
     "data": {
      "text/plain": "Phase: Bottleneck Computation, Dataset used:      Train, Image Index: 138"
     },
     "execution_count": 1,
     "metadata": {}
    },
    {
     "output_type": "execute_result",
     "data": {
      "text/plain": "Phase: Bottleneck Computation, Dataset used:      Train, Image Index: 139"
     },
     "execution_count": 1,
     "metadata": {}
    },
    {
     "output_type": "execute_result",
     "data": {
      "text/plain": "Phase: Bottleneck Computation, Dataset used:      Train, Image Index: 140"
     },
     "execution_count": 1,
     "metadata": {}
    },
    {
     "output_type": "execute_result",
     "data": {
      "text/plain": "Phase: Bottleneck Computation, Dataset used:      Train, Image Index: 141"
     },
     "execution_count": 1,
     "metadata": {}
    },
    {
     "output_type": "execute_result",
     "data": {
      "text/plain": "Phase: Bottleneck Computation, Dataset used:      Train, Image Index: 142"
     },
     "execution_count": 1,
     "metadata": {}
    },
    {
     "output_type": "execute_result",
     "data": {
      "text/plain": "Phase: Bottleneck Computation, Dataset used:      Train, Image Index: 143"
     },
     "execution_count": 1,
     "metadata": {}
    },
    {
     "output_type": "execute_result",
     "data": {
      "text/plain": "Phase: Bottleneck Computation, Dataset used:      Train, Image Index: 144"
     },
     "execution_count": 1,
     "metadata": {}
    },
    {
     "output_type": "execute_result",
     "data": {
      "text/plain": "Phase: Bottleneck Computation, Dataset used:      Train, Image Index: 145"
     },
     "execution_count": 1,
     "metadata": {}
    },
    {
     "output_type": "execute_result",
     "data": {
      "text/plain": "Phase: Bottleneck Computation, Dataset used:      Train, Image Index: 146"
     },
     "execution_count": 1,
     "metadata": {}
    },
    {
     "output_type": "execute_result",
     "data": {
      "text/plain": "Phase: Bottleneck Computation, Dataset used:      Train, Image Index: 147"
     },
     "execution_count": 1,
     "metadata": {}
    },
    {
     "output_type": "execute_result",
     "data": {
      "text/plain": "Phase: Bottleneck Computation, Dataset used:      Train, Image Index: 148"
     },
     "execution_count": 1,
     "metadata": {}
    },
    {
     "output_type": "execute_result",
     "data": {
      "text/plain": "Phase: Bottleneck Computation, Dataset used:      Train, Image Index: 149"
     },
     "execution_count": 1,
     "metadata": {}
    },
    {
     "output_type": "execute_result",
     "data": {
      "text/plain": "Phase: Bottleneck Computation, Dataset used:      Train, Image Index: 150"
     },
     "execution_count": 1,
     "metadata": {}
    },
    {
     "output_type": "execute_result",
     "data": {
      "text/plain": "Phase: Bottleneck Computation, Dataset used:      Train, Image Index: 151"
     },
     "execution_count": 1,
     "metadata": {}
    },
    {
     "output_type": "execute_result",
     "data": {
      "text/plain": "Phase: Bottleneck Computation, Dataset used:      Train, Image Index: 152"
     },
     "execution_count": 1,
     "metadata": {}
    },
    {
     "output_type": "execute_result",
     "data": {
      "text/plain": "Phase: Bottleneck Computation, Dataset used:      Train, Image Index: 153"
     },
     "execution_count": 1,
     "metadata": {}
    },
    {
     "output_type": "execute_result",
     "data": {
      "text/plain": "Phase: Bottleneck Computation, Dataset used:      Train, Image Index: 154"
     },
     "execution_count": 1,
     "metadata": {}
    },
    {
     "output_type": "execute_result",
     "data": {
      "text/plain": "Phase: Bottleneck Computation, Dataset used:      Train, Image Index: 155"
     },
     "execution_count": 1,
     "metadata": {}
    },
    {
     "output_type": "execute_result",
     "data": {
      "text/plain": "Phase: Bottleneck Computation, Dataset used:      Train, Image Index: 156"
     },
     "execution_count": 1,
     "metadata": {}
    },
    {
     "output_type": "execute_result",
     "data": {
      "text/plain": "Phase: Bottleneck Computation, Dataset used:      Train, Image Index: 157"
     },
     "execution_count": 1,
     "metadata": {}
    },
    {
     "output_type": "execute_result",
     "data": {
      "text/plain": "Phase: Bottleneck Computation, Dataset used:      Train, Image Index: 158"
     },
     "execution_count": 1,
     "metadata": {}
    },
    {
     "output_type": "execute_result",
     "data": {
      "text/plain": "Phase: Bottleneck Computation, Dataset used:      Train, Image Index: 159"
     },
     "execution_count": 1,
     "metadata": {}
    },
    {
     "output_type": "execute_result",
     "data": {
      "text/plain": "Phase: Bottleneck Computation, Dataset used:      Train, Image Index: 160"
     },
     "execution_count": 1,
     "metadata": {}
    },
    {
     "output_type": "execute_result",
     "data": {
      "text/plain": "Phase: Bottleneck Computation, Dataset used:      Train, Image Index: 161"
     },
     "execution_count": 1,
     "metadata": {}
    },
    {
     "output_type": "execute_result",
     "data": {
      "text/plain": "Phase: Bottleneck Computation, Dataset used:      Train, Image Index: 162"
     },
     "execution_count": 1,
     "metadata": {}
    },
    {
     "output_type": "execute_result",
     "data": {
      "text/plain": "Phase: Bottleneck Computation, Dataset used:      Train, Image Index: 163"
     },
     "execution_count": 1,
     "metadata": {}
    },
    {
     "output_type": "execute_result",
     "data": {
      "text/plain": "Phase: Bottleneck Computation, Dataset used:      Train, Image Index: 164"
     },
     "execution_count": 1,
     "metadata": {}
    },
    {
     "output_type": "execute_result",
     "data": {
      "text/plain": "Phase: Bottleneck Computation, Dataset used:      Train, Image Index: 165"
     },
     "execution_count": 1,
     "metadata": {}
    },
    {
     "output_type": "execute_result",
     "data": {
      "text/plain": "Phase: Bottleneck Computation, Dataset used:      Train, Image Index: 166"
     },
     "execution_count": 1,
     "metadata": {}
    },
    {
     "output_type": "execute_result",
     "data": {
      "text/plain": "Phase: Bottleneck Computation, Dataset used:      Train, Image Index: 167"
     },
     "execution_count": 1,
     "metadata": {}
    },
    {
     "output_type": "execute_result",
     "data": {
      "text/plain": "Phase: Bottleneck Computation, Dataset used:      Train, Image Index: 168"
     },
     "execution_count": 1,
     "metadata": {}
    },
    {
     "output_type": "execute_result",
     "data": {
      "text/plain": "Phase: Bottleneck Computation, Dataset used:      Train, Image Index: 169"
     },
     "execution_count": 1,
     "metadata": {}
    },
    {
     "output_type": "execute_result",
     "data": {
      "text/plain": "Phase: Bottleneck Computation, Dataset used:      Train, Image Index: 170"
     },
     "execution_count": 1,
     "metadata": {}
    },
    {
     "output_type": "execute_result",
     "data": {
      "text/plain": "Phase: Bottleneck Computation, Dataset used:      Train, Image Index: 171"
     },
     "execution_count": 1,
     "metadata": {}
    },
    {
     "output_type": "execute_result",
     "data": {
      "text/plain": "Phase: Bottleneck Computation, Dataset used:      Train, Image Index: 172"
     },
     "execution_count": 1,
     "metadata": {}
    },
    {
     "output_type": "execute_result",
     "data": {
      "text/plain": "Phase: Bottleneck Computation, Dataset used:      Train, Image Index: 173"
     },
     "execution_count": 1,
     "metadata": {}
    },
    {
     "output_type": "execute_result",
     "data": {
      "text/plain": "Phase: Bottleneck Computation, Dataset used:      Train, Image Index: 174"
     },
     "execution_count": 1,
     "metadata": {}
    },
    {
     "output_type": "execute_result",
     "data": {
      "text/plain": "Phase: Bottleneck Computation, Dataset used:      Train, Image Index: 175"
     },
     "execution_count": 1,
     "metadata": {}
    },
    {
     "output_type": "execute_result",
     "data": {
      "text/plain": "Phase: Bottleneck Computation, Dataset used:      Train, Image Index: 176"
     },
     "execution_count": 1,
     "metadata": {}
    },
    {
     "output_type": "execute_result",
     "data": {
      "text/plain": "Phase: Bottleneck Computation, Dataset used:      Train, Image Index: 177"
     },
     "execution_count": 1,
     "metadata": {}
    },
    {
     "output_type": "execute_result",
     "data": {
      "text/plain": "Phase: Bottleneck Computation, Dataset used:      Train, Image Index: 178"
     },
     "execution_count": 1,
     "metadata": {}
    },
    {
     "output_type": "execute_result",
     "data": {
      "text/plain": "Phase: Bottleneck Computation, Dataset used:      Train, Image Index: 179"
     },
     "execution_count": 1,
     "metadata": {}
    },
    {
     "output_type": "execute_result",
     "data": {
      "text/plain": "Phase: Bottleneck Computation, Dataset used:      Train, Image Index: 180"
     },
     "execution_count": 1,
     "metadata": {}
    },
    {
     "output_type": "execute_result",
     "data": {
      "text/plain": "Phase: Bottleneck Computation, Dataset used:      Train, Image Index: 181"
     },
     "execution_count": 1,
     "metadata": {}
    },
    {
     "output_type": "execute_result",
     "data": {
      "text/plain": "Phase: Bottleneck Computation, Dataset used:      Train, Image Index: 182"
     },
     "execution_count": 1,
     "metadata": {}
    },
    {
     "output_type": "execute_result",
     "data": {
      "text/plain": "Phase: Bottleneck Computation, Dataset used:      Train, Image Index: 183"
     },
     "execution_count": 1,
     "metadata": {}
    },
    {
     "output_type": "execute_result",
     "data": {
      "text/plain": "Phase: Bottleneck Computation, Dataset used:      Train, Image Index: 184"
     },
     "execution_count": 1,
     "metadata": {}
    },
    {
     "output_type": "execute_result",
     "data": {
      "text/plain": "Phase: Bottleneck Computation, Dataset used:      Train, Image Index: 185"
     },
     "execution_count": 1,
     "metadata": {}
    },
    {
     "output_type": "execute_result",
     "data": {
      "text/plain": "Phase: Bottleneck Computation, Dataset used:      Train, Image Index: 186"
     },
     "execution_count": 1,
     "metadata": {}
    },
    {
     "output_type": "execute_result",
     "data": {
      "text/plain": "Phase: Bottleneck Computation, Dataset used:      Train, Image Index: 187"
     },
     "execution_count": 1,
     "metadata": {}
    },
    {
     "output_type": "execute_result",
     "data": {
      "text/plain": "Phase: Bottleneck Computation, Dataset used:      Train, Image Index: 188"
     },
     "execution_count": 1,
     "metadata": {}
    },
    {
     "output_type": "execute_result",
     "data": {
      "text/plain": "Phase: Bottleneck Computation, Dataset used:      Train, Image Index: 189"
     },
     "execution_count": 1,
     "metadata": {}
    },
    {
     "output_type": "execute_result",
     "data": {
      "text/plain": "Phase: Bottleneck Computation, Dataset used:      Train, Image Index: 190"
     },
     "execution_count": 1,
     "metadata": {}
    },
    {
     "output_type": "execute_result",
     "data": {
      "text/plain": "Phase: Bottleneck Computation, Dataset used:      Train, Image Index: 191"
     },
     "execution_count": 1,
     "metadata": {}
    },
    {
     "output_type": "execute_result",
     "data": {
      "text/plain": "Phase: Bottleneck Computation, Dataset used:      Train, Image Index: 192"
     },
     "execution_count": 1,
     "metadata": {}
    },
    {
     "output_type": "execute_result",
     "data": {
      "text/plain": "Phase: Bottleneck Computation, Dataset used:      Train, Image Index: 193"
     },
     "execution_count": 1,
     "metadata": {}
    },
    {
     "output_type": "execute_result",
     "data": {
      "text/plain": "Phase: Bottleneck Computation, Dataset used:      Train, Image Index: 194"
     },
     "execution_count": 1,
     "metadata": {}
    },
    {
     "output_type": "execute_result",
     "data": {
      "text/plain": "Phase: Bottleneck Computation, Dataset used:      Train, Image Index: 195"
     },
     "execution_count": 1,
     "metadata": {}
    },
    {
     "output_type": "execute_result",
     "data": {
      "text/plain": "Phase: Bottleneck Computation, Dataset used:      Train, Image Index: 196"
     },
     "execution_count": 1,
     "metadata": {}
    },
    {
     "output_type": "execute_result",
     "data": {
      "text/plain": "Phase: Bottleneck Computation, Dataset used:      Train, Image Index: 197"
     },
     "execution_count": 1,
     "metadata": {}
    },
    {
     "output_type": "execute_result",
     "data": {
      "text/plain": "Phase: Bottleneck Computation, Dataset used:      Train, Image Index: 198"
     },
     "execution_count": 1,
     "metadata": {}
    },
    {
     "output_type": "execute_result",
     "data": {
      "text/plain": "Phase: Bottleneck Computation, Dataset used:      Train, Image Index: 199"
     },
     "execution_count": 1,
     "metadata": {}
    },
    {
     "output_type": "execute_result",
     "data": {
      "text/plain": "Phase: Bottleneck Computation, Dataset used:      Train, Image Index: 200"
     },
     "execution_count": 1,
     "metadata": {}
    },
    {
     "output_type": "execute_result",
     "data": {
      "text/plain": "Phase: Bottleneck Computation, Dataset used:      Train, Image Index: 201"
     },
     "execution_count": 1,
     "metadata": {}
    },
    {
     "output_type": "execute_result",
     "data": {
      "text/plain": "Phase: Bottleneck Computation, Dataset used:      Train, Image Index: 202"
     },
     "execution_count": 1,
     "metadata": {}
    },
    {
     "output_type": "execute_result",
     "data": {
      "text/plain": "Phase: Bottleneck Computation, Dataset used:      Train, Image Index: 203"
     },
     "execution_count": 1,
     "metadata": {}
    },
    {
     "output_type": "execute_result",
     "data": {
      "text/plain": "Phase: Bottleneck Computation, Dataset used:      Train, Image Index: 204"
     },
     "execution_count": 1,
     "metadata": {}
    },
    {
     "output_type": "execute_result",
     "data": {
      "text/plain": "Phase: Bottleneck Computation, Dataset used:      Train, Image Index: 205"
     },
     "execution_count": 1,
     "metadata": {}
    },
    {
     "output_type": "execute_result",
     "data": {
      "text/plain": "Phase: Bottleneck Computation, Dataset used:      Train, Image Index: 206"
     },
     "execution_count": 1,
     "metadata": {}
    },
    {
     "output_type": "execute_result",
     "data": {
      "text/plain": "Phase: Bottleneck Computation, Dataset used:      Train, Image Index: 207"
     },
     "execution_count": 1,
     "metadata": {}
    },
    {
     "output_type": "execute_result",
     "data": {
      "text/plain": "Phase: Bottleneck Computation, Dataset used:      Train, Image Index: 208"
     },
     "execution_count": 1,
     "metadata": {}
    },
    {
     "output_type": "execute_result",
     "data": {
      "text/plain": "Phase: Bottleneck Computation, Dataset used:      Train, Image Index: 209"
     },
     "execution_count": 1,
     "metadata": {}
    },
    {
     "output_type": "execute_result",
     "data": {
      "text/plain": "Phase: Bottleneck Computation, Dataset used:      Train, Image Index: 210"
     },
     "execution_count": 1,
     "metadata": {}
    },
    {
     "output_type": "execute_result",
     "data": {
      "text/plain": "Phase: Bottleneck Computation, Dataset used:      Train, Image Index: 211"
     },
     "execution_count": 1,
     "metadata": {}
    },
    {
     "output_type": "execute_result",
     "data": {
      "text/plain": "Phase: Bottleneck Computation, Dataset used:      Train, Image Index: 212"
     },
     "execution_count": 1,
     "metadata": {}
    },
    {
     "output_type": "execute_result",
     "data": {
      "text/plain": "Phase: Bottleneck Computation, Dataset used:      Train, Image Index: 213"
     },
     "execution_count": 1,
     "metadata": {}
    },
    {
     "output_type": "execute_result",
     "data": {
      "text/plain": "Phase: Bottleneck Computation, Dataset used:      Train, Image Index: 214"
     },
     "execution_count": 1,
     "metadata": {}
    },
    {
     "output_type": "execute_result",
     "data": {
      "text/plain": "Phase: Bottleneck Computation, Dataset used:      Train, Image Index: 215"
     },
     "execution_count": 1,
     "metadata": {}
    },
    {
     "output_type": "execute_result",
     "data": {
      "text/plain": "Phase: Bottleneck Computation, Dataset used:      Train, Image Index: 216"
     },
     "execution_count": 1,
     "metadata": {}
    },
    {
     "output_type": "execute_result",
     "data": {
      "text/plain": "Phase: Bottleneck Computation, Dataset used:      Train, Image Index: 217"
     },
     "execution_count": 1,
     "metadata": {}
    },
    {
     "output_type": "execute_result",
     "data": {
      "text/plain": "Phase: Bottleneck Computation, Dataset used:      Train, Image Index: 218"
     },
     "execution_count": 1,
     "metadata": {}
    },
    {
     "output_type": "execute_result",
     "data": {
      "text/plain": "Phase: Bottleneck Computation, Dataset used:      Train, Image Index: 219"
     },
     "execution_count": 1,
     "metadata": {}
    },
    {
     "output_type": "execute_result",
     "data": {
      "text/plain": "Phase: Bottleneck Computation, Dataset used:      Train, Image Index: 220"
     },
     "execution_count": 1,
     "metadata": {}
    },
    {
     "output_type": "execute_result",
     "data": {
      "text/plain": "Phase: Bottleneck Computation, Dataset used:      Train, Image Index: 221"
     },
     "execution_count": 1,
     "metadata": {}
    },
    {
     "output_type": "execute_result",
     "data": {
      "text/plain": "Phase: Bottleneck Computation, Dataset used:      Train, Image Index: 222"
     },
     "execution_count": 1,
     "metadata": {}
    },
    {
     "output_type": "execute_result",
     "data": {
      "text/plain": "Phase: Bottleneck Computation, Dataset used:      Train, Image Index: 223"
     },
     "execution_count": 1,
     "metadata": {}
    },
    {
     "output_type": "execute_result",
     "data": {
      "text/plain": "Phase: Bottleneck Computation, Dataset used:      Train, Image Index: 224"
     },
     "execution_count": 1,
     "metadata": {}
    },
    {
     "output_type": "execute_result",
     "data": {
      "text/plain": "Phase: Bottleneck Computation, Dataset used:      Train, Image Index: 225"
     },
     "execution_count": 1,
     "metadata": {}
    },
    {
     "output_type": "execute_result",
     "data": {
      "text/plain": "Phase: Bottleneck Computation, Dataset used:      Train, Image Index: 226"
     },
     "execution_count": 1,
     "metadata": {}
    },
    {
     "output_type": "execute_result",
     "data": {
      "text/plain": "Phase: Bottleneck Computation, Dataset used:      Train, Image Index: 227"
     },
     "execution_count": 1,
     "metadata": {}
    },
    {
     "output_type": "execute_result",
     "data": {
      "text/plain": "Phase: Bottleneck Computation, Dataset used:      Train, Image Index: 228"
     },
     "execution_count": 1,
     "metadata": {}
    },
    {
     "output_type": "execute_result",
     "data": {
      "text/plain": "Phase: Bottleneck Computation, Dataset used:      Train, Image Index: 229"
     },
     "execution_count": 1,
     "metadata": {}
    },
    {
     "output_type": "execute_result",
     "data": {
      "text/plain": "Phase: Bottleneck Computation, Dataset used:      Train, Image Index: 230"
     },
     "execution_count": 1,
     "metadata": {}
    },
    {
     "output_type": "execute_result",
     "data": {
      "text/plain": "Phase: Bottleneck Computation, Dataset used:      Train, Image Index: 231"
     },
     "execution_count": 1,
     "metadata": {}
    },
    {
     "output_type": "execute_result",
     "data": {
      "text/plain": "Phase: Bottleneck Computation, Dataset used:      Train, Image Index: 232"
     },
     "execution_count": 1,
     "metadata": {}
    },
    {
     "output_type": "execute_result",
     "data": {
      "text/plain": "Phase: Bottleneck Computation, Dataset used:      Train, Image Index: 233"
     },
     "execution_count": 1,
     "metadata": {}
    },
    {
     "output_type": "execute_result",
     "data": {
      "text/plain": "Phase: Bottleneck Computation, Dataset used:      Train, Image Index: 234"
     },
     "execution_count": 1,
     "metadata": {}
    },
    {
     "output_type": "execute_result",
     "data": {
      "text/plain": "Phase: Bottleneck Computation, Dataset used:      Train, Image Index: 235"
     },
     "execution_count": 1,
     "metadata": {}
    },
    {
     "output_type": "execute_result",
     "data": {
      "text/plain": "Phase: Bottleneck Computation, Dataset used:      Train, Image Index: 236"
     },
     "execution_count": 1,
     "metadata": {}
    },
    {
     "output_type": "execute_result",
     "data": {
      "text/plain": "Phase: Bottleneck Computation, Dataset used:      Train, Image Index: 237"
     },
     "execution_count": 1,
     "metadata": {}
    },
    {
     "output_type": "execute_result",
     "data": {
      "text/plain": "Phase: Bottleneck Computation, Dataset used:      Train, Image Index: 238"
     },
     "execution_count": 1,
     "metadata": {}
    },
    {
     "output_type": "execute_result",
     "data": {
      "text/plain": "Phase: Bottleneck Computation, Dataset used:      Train, Image Index: 239"
     },
     "execution_count": 1,
     "metadata": {}
    },
    {
     "output_type": "execute_result",
     "data": {
      "text/plain": "Phase: Bottleneck Computation, Dataset used:      Train, Image Index: 240"
     },
     "execution_count": 1,
     "metadata": {}
    },
    {
     "output_type": "execute_result",
     "data": {
      "text/plain": "Phase: Bottleneck Computation, Dataset used:      Train, Image Index: 241"
     },
     "execution_count": 1,
     "metadata": {}
    },
    {
     "output_type": "execute_result",
     "data": {
      "text/plain": "Phase: Bottleneck Computation, Dataset used:      Train, Image Index: 242"
     },
     "execution_count": 1,
     "metadata": {}
    },
    {
     "output_type": "execute_result",
     "data": {
      "text/plain": "Phase: Bottleneck Computation, Dataset used:      Train, Image Index: 243"
     },
     "execution_count": 1,
     "metadata": {}
    },
    {
     "output_type": "execute_result",
     "data": {
      "text/plain": "Phase: Bottleneck Computation, Dataset used:      Train, Image Index: 244"
     },
     "execution_count": 1,
     "metadata": {}
    },
    {
     "output_type": "execute_result",
     "data": {
      "text/plain": "Phase: Bottleneck Computation, Dataset used:      Train, Image Index: 245"
     },
     "execution_count": 1,
     "metadata": {}
    },
    {
     "output_type": "execute_result",
     "data": {
      "text/plain": "Phase: Bottleneck Computation, Dataset used:      Train, Image Index: 246"
     },
     "execution_count": 1,
     "metadata": {}
    },
    {
     "output_type": "execute_result",
     "data": {
      "text/plain": "Phase: Bottleneck Computation, Dataset used:      Train, Image Index: 247"
     },
     "execution_count": 1,
     "metadata": {}
    },
    {
     "output_type": "execute_result",
     "data": {
      "text/plain": "Phase: Bottleneck Computation, Dataset used:      Train, Image Index: 248"
     },
     "execution_count": 1,
     "metadata": {}
    },
    {
     "output_type": "execute_result",
     "data": {
      "text/plain": "Phase: Bottleneck Computation, Dataset used:      Train, Image Index: 249"
     },
     "execution_count": 1,
     "metadata": {}
    },
    {
     "output_type": "execute_result",
     "data": {
      "text/plain": "Phase: Bottleneck Computation, Dataset used:      Train, Image Index: 250"
     },
     "execution_count": 1,
     "metadata": {}
    },
    {
     "output_type": "execute_result",
     "data": {
      "text/plain": "Phase: Bottleneck Computation, Dataset used:      Train, Image Index: 251"
     },
     "execution_count": 1,
     "metadata": {}
    },
    {
     "output_type": "execute_result",
     "data": {
      "text/plain": "Phase: Bottleneck Computation, Dataset used:      Train, Image Index: 252"
     },
     "execution_count": 1,
     "metadata": {}
    },
    {
     "output_type": "execute_result",
     "data": {
      "text/plain": "Phase: Bottleneck Computation, Dataset used:      Train, Image Index: 253"
     },
     "execution_count": 1,
     "metadata": {}
    },
    {
     "output_type": "execute_result",
     "data": {
      "text/plain": "Phase: Bottleneck Computation, Dataset used:      Train, Image Index: 254"
     },
     "execution_count": 1,
     "metadata": {}
    },
    {
     "output_type": "execute_result",
     "data": {
      "text/plain": "Phase: Bottleneck Computation, Dataset used:      Train, Image Index: 255"
     },
     "execution_count": 1,
     "metadata": {}
    },
    {
     "output_type": "execute_result",
     "data": {
      "text/plain": "Phase: Bottleneck Computation, Dataset used:      Train, Image Index: 256"
     },
     "execution_count": 1,
     "metadata": {}
    },
    {
     "output_type": "execute_result",
     "data": {
      "text/plain": "Phase: Bottleneck Computation, Dataset used:      Train, Image Index: 257"
     },
     "execution_count": 1,
     "metadata": {}
    },
    {
     "output_type": "execute_result",
     "data": {
      "text/plain": "Phase: Bottleneck Computation, Dataset used:      Train, Image Index: 258"
     },
     "execution_count": 1,
     "metadata": {}
    },
    {
     "output_type": "execute_result",
     "data": {
      "text/plain": "Phase: Bottleneck Computation, Dataset used:      Train, Image Index: 259"
     },
     "execution_count": 1,
     "metadata": {}
    },
    {
     "output_type": "execute_result",
     "data": {
      "text/plain": "Phase: Bottleneck Computation, Dataset used:      Train, Image Index: 260"
     },
     "execution_count": 1,
     "metadata": {}
    },
    {
     "output_type": "execute_result",
     "data": {
      "text/plain": "Phase: Bottleneck Computation, Dataset used:      Train, Image Index: 261"
     },
     "execution_count": 1,
     "metadata": {}
    },
    {
     "output_type": "execute_result",
     "data": {
      "text/plain": "Phase: Bottleneck Computation, Dataset used:      Train, Image Index: 262"
     },
     "execution_count": 1,
     "metadata": {}
    },
    {
     "output_type": "execute_result",
     "data": {
      "text/plain": "Phase: Bottleneck Computation, Dataset used:      Train, Image Index: 263"
     },
     "execution_count": 1,
     "metadata": {}
    },
    {
     "output_type": "execute_result",
     "data": {
      "text/plain": "Phase: Bottleneck Computation, Dataset used:      Train, Image Index: 264"
     },
     "execution_count": 1,
     "metadata": {}
    },
    {
     "output_type": "execute_result",
     "data": {
      "text/plain": "Phase: Bottleneck Computation, Dataset used:      Train, Image Index: 265"
     },
     "execution_count": 1,
     "metadata": {}
    },
    {
     "output_type": "execute_result",
     "data": {
      "text/plain": "Phase: Bottleneck Computation, Dataset used:      Train, Image Index: 266"
     },
     "execution_count": 1,
     "metadata": {}
    },
    {
     "output_type": "execute_result",
     "data": {
      "text/plain": "Phase: Bottleneck Computation, Dataset used:      Train, Image Index: 267"
     },
     "execution_count": 1,
     "metadata": {}
    },
    {
     "output_type": "execute_result",
     "data": {
      "text/plain": "Phase: Bottleneck Computation, Dataset used:      Train, Image Index: 268"
     },
     "execution_count": 1,
     "metadata": {}
    },
    {
     "output_type": "execute_result",
     "data": {
      "text/plain": "Phase: Bottleneck Computation, Dataset used:      Train, Image Index: 269"
     },
     "execution_count": 1,
     "metadata": {}
    },
    {
     "output_type": "execute_result",
     "data": {
      "text/plain": "Phase: Bottleneck Computation, Dataset used:      Train, Image Index: 270"
     },
     "execution_count": 1,
     "metadata": {}
    },
    {
     "output_type": "execute_result",
     "data": {
      "text/plain": "Phase: Bottleneck Computation, Dataset used:      Train, Image Index: 271"
     },
     "execution_count": 1,
     "metadata": {}
    },
    {
     "output_type": "execute_result",
     "data": {
      "text/plain": "Phase: Bottleneck Computation, Dataset used:      Train, Image Index: 272"
     },
     "execution_count": 1,
     "metadata": {}
    },
    {
     "output_type": "execute_result",
     "data": {
      "text/plain": "Phase: Bottleneck Computation, Dataset used:      Train, Image Index: 273"
     },
     "execution_count": 1,
     "metadata": {}
    },
    {
     "output_type": "execute_result",
     "data": {
      "text/plain": "Phase: Bottleneck Computation, Dataset used:      Train, Image Index: 274"
     },
     "execution_count": 1,
     "metadata": {}
    },
    {
     "output_type": "execute_result",
     "data": {
      "text/plain": "Phase: Bottleneck Computation, Dataset used:      Train, Image Index: 275"
     },
     "execution_count": 1,
     "metadata": {}
    },
    {
     "output_type": "execute_result",
     "data": {
      "text/plain": "Phase: Bottleneck Computation, Dataset used:      Train, Image Index: 276"
     },
     "execution_count": 1,
     "metadata": {}
    },
    {
     "output_type": "execute_result",
     "data": {
      "text/plain": "Phase: Bottleneck Computation, Dataset used:      Train, Image Index: 277"
     },
     "execution_count": 1,
     "metadata": {}
    },
    {
     "output_type": "execute_result",
     "data": {
      "text/plain": "Phase: Bottleneck Computation, Dataset used:      Train, Image Index: 278"
     },
     "execution_count": 1,
     "metadata": {}
    },
    {
     "output_type": "execute_result",
     "data": {
      "text/plain": "Phase: Bottleneck Computation, Dataset used:      Train, Image Index: 279"
     },
     "execution_count": 1,
     "metadata": {}
    },
    {
     "output_type": "execute_result",
     "data": {
      "text/plain": "Phase: Bottleneck Computation, Dataset used:      Train, Image Index: 280"
     },
     "execution_count": 1,
     "metadata": {}
    },
    {
     "output_type": "execute_result",
     "data": {
      "text/plain": "Phase: Bottleneck Computation, Dataset used:      Train, Image Index: 281"
     },
     "execution_count": 1,
     "metadata": {}
    },
    {
     "output_type": "execute_result",
     "data": {
      "text/plain": "Phase: Bottleneck Computation, Dataset used:      Train, Image Index: 282"
     },
     "execution_count": 1,
     "metadata": {}
    },
    {
     "output_type": "execute_result",
     "data": {
      "text/plain": "Phase: Bottleneck Computation, Dataset used:      Train, Image Index: 283"
     },
     "execution_count": 1,
     "metadata": {}
    },
    {
     "output_type": "execute_result",
     "data": {
      "text/plain": "Phase: Bottleneck Computation, Dataset used:      Train, Image Index: 284"
     },
     "execution_count": 1,
     "metadata": {}
    },
    {
     "output_type": "execute_result",
     "data": {
      "text/plain": "Phase: Bottleneck Computation, Dataset used:      Train, Image Index: 285"
     },
     "execution_count": 1,
     "metadata": {}
    },
    {
     "output_type": "execute_result",
     "data": {
      "text/plain": "Phase: Bottleneck Computation, Dataset used:      Train, Image Index: 286"
     },
     "execution_count": 1,
     "metadata": {}
    },
    {
     "output_type": "execute_result",
     "data": {
      "text/plain": "Phase: Bottleneck Computation, Dataset used:      Train, Image Index: 287"
     },
     "execution_count": 1,
     "metadata": {}
    },
    {
     "output_type": "execute_result",
     "data": {
      "text/plain": "Phase: Bottleneck Computation, Dataset used:      Train, Image Index: 288"
     },
     "execution_count": 1,
     "metadata": {}
    },
    {
     "output_type": "execute_result",
     "data": {
      "text/plain": "Phase: Bottleneck Computation, Dataset used:      Train, Image Index: 289"
     },
     "execution_count": 1,
     "metadata": {}
    },
    {
     "output_type": "execute_result",
     "data": {
      "text/plain": "Phase: Bottleneck Computation, Dataset used:      Train, Image Index: 290"
     },
     "execution_count": 1,
     "metadata": {}
    },
    {
     "output_type": "execute_result",
     "data": {
      "text/plain": "Phase: Bottleneck Computation, Dataset used:      Train, Image Index: 291"
     },
     "execution_count": 1,
     "metadata": {}
    },
    {
     "output_type": "execute_result",
     "data": {
      "text/plain": "Phase: Bottleneck Computation, Dataset used:      Train, Image Index: 292"
     },
     "execution_count": 1,
     "metadata": {}
    },
    {
     "output_type": "execute_result",
     "data": {
      "text/plain": "Phase: Bottleneck Computation, Dataset used:      Train, Image Index: 293"
     },
     "execution_count": 1,
     "metadata": {}
    },
    {
     "output_type": "execute_result",
     "data": {
      "text/plain": "Phase: Bottleneck Computation, Dataset used:      Train, Image Index: 294"
     },
     "execution_count": 1,
     "metadata": {}
    },
    {
     "output_type": "execute_result",
     "data": {
      "text/plain": "Phase: Bottleneck Computation, Dataset used:      Train, Image Index: 295"
     },
     "execution_count": 1,
     "metadata": {}
    },
    {
     "output_type": "execute_result",
     "data": {
      "text/plain": "Phase: Bottleneck Computation, Dataset used:      Train, Image Index: 296"
     },
     "execution_count": 1,
     "metadata": {}
    },
    {
     "output_type": "execute_result",
     "data": {
      "text/plain": "Phase: Bottleneck Computation, Dataset used:      Train, Image Index: 297"
     },
     "execution_count": 1,
     "metadata": {}
    },
    {
     "output_type": "execute_result",
     "data": {
      "text/plain": "Phase: Bottleneck Computation, Dataset used:      Train, Image Index: 298"
     },
     "execution_count": 1,
     "metadata": {}
    },
    {
     "output_type": "execute_result",
     "data": {
      "text/plain": "Phase: Bottleneck Computation, Dataset used:      Train, Image Index: 299"
     },
     "execution_count": 1,
     "metadata": {}
    },
    {
     "output_type": "execute_result",
     "data": {
      "text/plain": "Phase: Bottleneck Computation, Dataset used:      Train, Image Index: 300"
     },
     "execution_count": 1,
     "metadata": {}
    },
    {
     "output_type": "execute_result",
     "data": {
      "text/plain": "Phase: Bottleneck Computation, Dataset used:      Train, Image Index: 301"
     },
     "execution_count": 1,
     "metadata": {}
    },
    {
     "output_type": "execute_result",
     "data": {
      "text/plain": "Phase: Bottleneck Computation, Dataset used:      Train, Image Index: 302"
     },
     "execution_count": 1,
     "metadata": {}
    },
    {
     "output_type": "execute_result",
     "data": {
      "text/plain": "Phase: Bottleneck Computation, Dataset used:      Train, Image Index: 303"
     },
     "execution_count": 1,
     "metadata": {}
    },
    {
     "output_type": "execute_result",
     "data": {
      "text/plain": "Phase: Bottleneck Computation, Dataset used:      Train, Image Index: 304"
     },
     "execution_count": 1,
     "metadata": {}
    },
    {
     "output_type": "execute_result",
     "data": {
      "text/plain": "Phase: Bottleneck Computation, Dataset used:      Train, Image Index: 305"
     },
     "execution_count": 1,
     "metadata": {}
    },
    {
     "output_type": "execute_result",
     "data": {
      "text/plain": "Phase: Bottleneck Computation, Dataset used:      Train, Image Index: 306"
     },
     "execution_count": 1,
     "metadata": {}
    },
    {
     "output_type": "execute_result",
     "data": {
      "text/plain": "Phase: Bottleneck Computation, Dataset used:      Train, Image Index: 307"
     },
     "execution_count": 1,
     "metadata": {}
    },
    {
     "output_type": "execute_result",
     "data": {
      "text/plain": "Phase: Bottleneck Computation, Dataset used:      Train, Image Index: 308"
     },
     "execution_count": 1,
     "metadata": {}
    },
    {
     "output_type": "execute_result",
     "data": {
      "text/plain": "Phase: Bottleneck Computation, Dataset used:      Train, Image Index: 309"
     },
     "execution_count": 1,
     "metadata": {}
    },
    {
     "output_type": "execute_result",
     "data": {
      "text/plain": "Phase: Bottleneck Computation, Dataset used:      Train, Image Index: 310"
     },
     "execution_count": 1,
     "metadata": {}
    },
    {
     "output_type": "execute_result",
     "data": {
      "text/plain": "Phase: Bottleneck Computation, Dataset used:      Train, Image Index: 311"
     },
     "execution_count": 1,
     "metadata": {}
    },
    {
     "output_type": "execute_result",
     "data": {
      "text/plain": "Phase: Bottleneck Computation, Dataset used:      Train, Image Index: 312"
     },
     "execution_count": 1,
     "metadata": {}
    },
    {
     "output_type": "execute_result",
     "data": {
      "text/plain": "Phase: Bottleneck Computation, Dataset used:      Train, Image Index: 313"
     },
     "execution_count": 1,
     "metadata": {}
    },
    {
     "output_type": "execute_result",
     "data": {
      "text/plain": "Phase: Bottleneck Computation, Dataset used:      Train, Image Index: 314"
     },
     "execution_count": 1,
     "metadata": {}
    },
    {
     "output_type": "execute_result",
     "data": {
      "text/plain": "Phase: Bottleneck Computation, Dataset used:      Train, Image Index: 315"
     },
     "execution_count": 1,
     "metadata": {}
    },
    {
     "output_type": "execute_result",
     "data": {
      "text/plain": "Phase: Bottleneck Computation, Dataset used:      Train, Image Index: 316"
     },
     "execution_count": 1,
     "metadata": {}
    },
    {
     "output_type": "execute_result",
     "data": {
      "text/plain": "Phase: Bottleneck Computation, Dataset used:      Train, Image Index: 317"
     },
     "execution_count": 1,
     "metadata": {}
    },
    {
     "output_type": "execute_result",
     "data": {
      "text/plain": "Phase: Bottleneck Computation, Dataset used:      Train, Image Index: 318"
     },
     "execution_count": 1,
     "metadata": {}
    },
    {
     "output_type": "execute_result",
     "data": {
      "text/plain": "Phase: Bottleneck Computation, Dataset used:      Train, Image Index: 319"
     },
     "execution_count": 1,
     "metadata": {}
    },
    {
     "output_type": "execute_result",
     "data": {
      "text/plain": "Phase: Bottleneck Computation, Dataset used:      Train, Image Index: 320"
     },
     "execution_count": 1,
     "metadata": {}
    },
    {
     "output_type": "execute_result",
     "data": {
      "text/plain": "Phase: Bottleneck Computation, Dataset used:      Train, Image Index: 321"
     },
     "execution_count": 1,
     "metadata": {}
    },
    {
     "output_type": "execute_result",
     "data": {
      "text/plain": "Phase: Bottleneck Computation, Dataset used:      Train, Image Index: 322"
     },
     "execution_count": 1,
     "metadata": {}
    },
    {
     "output_type": "execute_result",
     "data": {
      "text/plain": "Phase: Bottleneck Computation, Dataset used:      Train, Image Index: 323"
     },
     "execution_count": 1,
     "metadata": {}
    },
    {
     "output_type": "execute_result",
     "data": {
      "text/plain": "Phase: Bottleneck Computation, Dataset used:      Train, Image Index: 324"
     },
     "execution_count": 1,
     "metadata": {}
    },
    {
     "output_type": "execute_result",
     "data": {
      "text/plain": "Phase: Bottleneck Computation, Dataset used:      Train, Image Index: 325"
     },
     "execution_count": 1,
     "metadata": {}
    },
    {
     "output_type": "execute_result",
     "data": {
      "text/plain": "Phase: Bottleneck Computation, Dataset used:      Train, Image Index: 326"
     },
     "execution_count": 1,
     "metadata": {}
    },
    {
     "output_type": "execute_result",
     "data": {
      "text/plain": "Phase: Bottleneck Computation, Dataset used:      Train, Image Index: 327"
     },
     "execution_count": 1,
     "metadata": {}
    },
    {
     "output_type": "execute_result",
     "data": {
      "text/plain": "Phase: Bottleneck Computation, Dataset used:      Train, Image Index: 328"
     },
     "execution_count": 1,
     "metadata": {}
    },
    {
     "output_type": "execute_result",
     "data": {
      "text/plain": "Phase: Bottleneck Computation, Dataset used:      Train, Image Index: 329"
     },
     "execution_count": 1,
     "metadata": {}
    },
    {
     "output_type": "execute_result",
     "data": {
      "text/plain": "Phase: Bottleneck Computation, Dataset used:      Train, Image Index: 330"
     },
     "execution_count": 1,
     "metadata": {}
    },
    {
     "output_type": "execute_result",
     "data": {
      "text/plain": "Phase: Bottleneck Computation, Dataset used:      Train, Image Index: 331"
     },
     "execution_count": 1,
     "metadata": {}
    },
    {
     "output_type": "execute_result",
     "data": {
      "text/plain": "Phase: Bottleneck Computation, Dataset used:      Train, Image Index: 332"
     },
     "execution_count": 1,
     "metadata": {}
    },
    {
     "output_type": "execute_result",
     "data": {
      "text/plain": "Phase: Bottleneck Computation, Dataset used:      Train, Image Index: 333"
     },
     "execution_count": 1,
     "metadata": {}
    },
    {
     "output_type": "execute_result",
     "data": {
      "text/plain": "Phase: Bottleneck Computation, Dataset used:      Train, Image Index: 334"
     },
     "execution_count": 1,
     "metadata": {}
    },
    {
     "output_type": "execute_result",
     "data": {
      "text/plain": "Phase: Bottleneck Computation, Dataset used:      Train, Image Index: 335"
     },
     "execution_count": 1,
     "metadata": {}
    },
    {
     "output_type": "execute_result",
     "data": {
      "text/plain": "Phase: Bottleneck Computation, Dataset used:      Train, Image Index: 336"
     },
     "execution_count": 1,
     "metadata": {}
    },
    {
     "output_type": "execute_result",
     "data": {
      "text/plain": "Phase: Bottleneck Computation, Dataset used:      Train, Image Index: 337"
     },
     "execution_count": 1,
     "metadata": {}
    },
    {
     "output_type": "execute_result",
     "data": {
      "text/plain": "Phase: Bottleneck Computation, Dataset used:      Train, Image Index: 338"
     },
     "execution_count": 1,
     "metadata": {}
    },
    {
     "output_type": "execute_result",
     "data": {
      "text/plain": "Phase: Bottleneck Computation, Dataset used:      Train, Image Index: 339"
     },
     "execution_count": 1,
     "metadata": {}
    },
    {
     "output_type": "execute_result",
     "data": {
      "text/plain": "Phase: Bottleneck Computation, Dataset used:      Train, Image Index: 340"
     },
     "execution_count": 1,
     "metadata": {}
    },
    {
     "output_type": "execute_result",
     "data": {
      "text/plain": "Phase: Bottleneck Computation, Dataset used:      Train, Image Index: 341"
     },
     "execution_count": 1,
     "metadata": {}
    },
    {
     "output_type": "execute_result",
     "data": {
      "text/plain": "Phase: Bottleneck Computation, Dataset used:      Train, Image Index: 342"
     },
     "execution_count": 1,
     "metadata": {}
    },
    {
     "output_type": "execute_result",
     "data": {
      "text/plain": "Phase: Bottleneck Computation, Dataset used:      Train, Image Index: 343"
     },
     "execution_count": 1,
     "metadata": {}
    },
    {
     "output_type": "execute_result",
     "data": {
      "text/plain": "Phase: Bottleneck Computation, Dataset used:      Train, Image Index: 344"
     },
     "execution_count": 1,
     "metadata": {}
    },
    {
     "output_type": "execute_result",
     "data": {
      "text/plain": "Phase: Bottleneck Computation, Dataset used:      Train, Image Index: 345"
     },
     "execution_count": 1,
     "metadata": {}
    },
    {
     "output_type": "execute_result",
     "data": {
      "text/plain": "Phase: Bottleneck Computation, Dataset used:      Train, Image Index: 346"
     },
     "execution_count": 1,
     "metadata": {}
    },
    {
     "output_type": "execute_result",
     "data": {
      "text/plain": "Phase: Bottleneck Computation, Dataset used:      Train, Image Index: 347"
     },
     "execution_count": 1,
     "metadata": {}
    },
    {
     "output_type": "execute_result",
     "data": {
      "text/plain": "Phase: Bottleneck Computation, Dataset used:      Train, Image Index: 348"
     },
     "execution_count": 1,
     "metadata": {}
    },
    {
     "output_type": "execute_result",
     "data": {
      "text/plain": "Phase: Bottleneck Computation, Dataset used:      Train, Image Index: 349"
     },
     "execution_count": 1,
     "metadata": {}
    },
    {
     "output_type": "execute_result",
     "data": {
      "text/plain": "Phase: Bottleneck Computation, Dataset used:      Train, Image Index: 350"
     },
     "execution_count": 1,
     "metadata": {}
    },
    {
     "output_type": "execute_result",
     "data": {
      "text/plain": "Phase: Bottleneck Computation, Dataset used:      Train, Image Index: 351"
     },
     "execution_count": 1,
     "metadata": {}
    },
    {
     "output_type": "execute_result",
     "data": {
      "text/plain": "Phase: Bottleneck Computation, Dataset used:      Train, Image Index: 352"
     },
     "execution_count": 1,
     "metadata": {}
    },
    {
     "output_type": "execute_result",
     "data": {
      "text/plain": "Phase: Bottleneck Computation, Dataset used:      Train, Image Index: 353"
     },
     "execution_count": 1,
     "metadata": {}
    },
    {
     "output_type": "execute_result",
     "data": {
      "text/plain": "Phase: Bottleneck Computation, Dataset used:      Train, Image Index: 354"
     },
     "execution_count": 1,
     "metadata": {}
    },
    {
     "output_type": "execute_result",
     "data": {
      "text/plain": "Phase: Bottleneck Computation, Dataset used:      Train, Image Index: 355"
     },
     "execution_count": 1,
     "metadata": {}
    },
    {
     "output_type": "execute_result",
     "data": {
      "text/plain": "Phase: Bottleneck Computation, Dataset used:      Train, Image Index: 356"
     },
     "execution_count": 1,
     "metadata": {}
    },
    {
     "output_type": "execute_result",
     "data": {
      "text/plain": "Phase: Bottleneck Computation, Dataset used:      Train, Image Index: 357"
     },
     "execution_count": 1,
     "metadata": {}
    },
    {
     "output_type": "execute_result",
     "data": {
      "text/plain": "Phase: Bottleneck Computation, Dataset used:      Train, Image Index: 358"
     },
     "execution_count": 1,
     "metadata": {}
    },
    {
     "output_type": "execute_result",
     "data": {
      "text/plain": "Phase: Bottleneck Computation, Dataset used:      Train, Image Index: 359"
     },
     "execution_count": 1,
     "metadata": {}
    },
    {
     "output_type": "execute_result",
     "data": {
      "text/plain": "Phase: Bottleneck Computation, Dataset used:      Train, Image Index: 360"
     },
     "execution_count": 1,
     "metadata": {}
    },
    {
     "output_type": "execute_result",
     "data": {
      "text/plain": "Phase: Bottleneck Computation, Dataset used:      Train, Image Index: 361"
     },
     "execution_count": 1,
     "metadata": {}
    },
    {
     "output_type": "execute_result",
     "data": {
      "text/plain": "Phase: Bottleneck Computation, Dataset used:      Train, Image Index: 362"
     },
     "execution_count": 1,
     "metadata": {}
    },
    {
     "output_type": "execute_result",
     "data": {
      "text/plain": "Phase: Bottleneck Computation, Dataset used:      Train, Image Index: 363"
     },
     "execution_count": 1,
     "metadata": {}
    },
    {
     "output_type": "execute_result",
     "data": {
      "text/plain": "Phase: Bottleneck Computation, Dataset used:      Train, Image Index: 364"
     },
     "execution_count": 1,
     "metadata": {}
    },
    {
     "output_type": "execute_result",
     "data": {
      "text/plain": "Phase: Bottleneck Computation, Dataset used:      Train, Image Index: 365"
     },
     "execution_count": 1,
     "metadata": {}
    },
    {
     "output_type": "execute_result",
     "data": {
      "text/plain": "Phase: Bottleneck Computation, Dataset used:      Train, Image Index: 366"
     },
     "execution_count": 1,
     "metadata": {}
    },
    {
     "output_type": "execute_result",
     "data": {
      "text/plain": "Phase: Bottleneck Computation, Dataset used:      Train, Image Index: 367"
     },
     "execution_count": 1,
     "metadata": {}
    },
    {
     "output_type": "execute_result",
     "data": {
      "text/plain": "Phase: Bottleneck Computation, Dataset used:      Train, Image Index: 368"
     },
     "execution_count": 1,
     "metadata": {}
    },
    {
     "output_type": "execute_result",
     "data": {
      "text/plain": "Phase: Bottleneck Computation, Dataset used:      Train, Image Index: 369"
     },
     "execution_count": 1,
     "metadata": {}
    },
    {
     "output_type": "execute_result",
     "data": {
      "text/plain": "Phase: Bottleneck Computation, Dataset used:      Train, Image Index: 370"
     },
     "execution_count": 1,
     "metadata": {}
    },
    {
     "output_type": "execute_result",
     "data": {
      "text/plain": "Phase: Bottleneck Computation, Dataset used:      Train, Image Index: 371"
     },
     "execution_count": 1,
     "metadata": {}
    },
    {
     "output_type": "execute_result",
     "data": {
      "text/plain": "Phase: Bottleneck Computation, Dataset used:      Train, Image Index: 372"
     },
     "execution_count": 1,
     "metadata": {}
    },
    {
     "output_type": "execute_result",
     "data": {
      "text/plain": "Phase: Bottleneck Computation, Dataset used:      Train, Image Index: 373"
     },
     "execution_count": 1,
     "metadata": {}
    },
    {
     "output_type": "execute_result",
     "data": {
      "text/plain": "Phase: Bottleneck Computation, Dataset used:      Train, Image Index: 374"
     },
     "execution_count": 1,
     "metadata": {}
    },
    {
     "output_type": "execute_result",
     "data": {
      "text/plain": "Phase: Bottleneck Computation, Dataset used:      Train, Image Index: 375"
     },
     "execution_count": 1,
     "metadata": {}
    },
    {
     "output_type": "execute_result",
     "data": {
      "text/plain": "Phase: Bottleneck Computation, Dataset used:      Train, Image Index: 376"
     },
     "execution_count": 1,
     "metadata": {}
    },
    {
     "output_type": "execute_result",
     "data": {
      "text/plain": "Phase: Bottleneck Computation, Dataset used:      Train, Image Index: 377"
     },
     "execution_count": 1,
     "metadata": {}
    },
    {
     "output_type": "execute_result",
     "data": {
      "text/plain": "Phase: Bottleneck Computation, Dataset used:      Train, Image Index: 378"
     },
     "execution_count": 1,
     "metadata": {}
    },
    {
     "output_type": "execute_result",
     "data": {
      "text/plain": "Phase: Bottleneck Computation, Dataset used:      Train, Image Index: 379"
     },
     "execution_count": 1,
     "metadata": {}
    },
    {
     "output_type": "execute_result",
     "data": {
      "text/plain": "Phase: Bottleneck Computation, Dataset used:      Train, Image Index: 380"
     },
     "execution_count": 1,
     "metadata": {}
    },
    {
     "output_type": "execute_result",
     "data": {
      "text/plain": "Phase: Bottleneck Computation, Dataset used:      Train, Image Index: 381"
     },
     "execution_count": 1,
     "metadata": {}
    },
    {
     "output_type": "execute_result",
     "data": {
      "text/plain": "Phase: Bottleneck Computation, Dataset used:      Train, Image Index: 382"
     },
     "execution_count": 1,
     "metadata": {}
    },
    {
     "output_type": "execute_result",
     "data": {
      "text/plain": "Phase: Bottleneck Computation, Dataset used:      Train, Image Index: 383"
     },
     "execution_count": 1,
     "metadata": {}
    },
    {
     "output_type": "execute_result",
     "data": {
      "text/plain": "Phase: Bottleneck Computation, Dataset used:      Train, Image Index: 384"
     },
     "execution_count": 1,
     "metadata": {}
    },
    {
     "output_type": "execute_result",
     "data": {
      "text/plain": "Phase: Bottleneck Computation, Dataset used:      Train, Image Index: 385"
     },
     "execution_count": 1,
     "metadata": {}
    },
    {
     "output_type": "execute_result",
     "data": {
      "text/plain": "Phase: Bottleneck Computation, Dataset used:      Train, Image Index: 386"
     },
     "execution_count": 1,
     "metadata": {}
    },
    {
     "output_type": "execute_result",
     "data": {
      "text/plain": "Phase: Bottleneck Computation, Dataset used:      Train, Image Index: 387"
     },
     "execution_count": 1,
     "metadata": {}
    },
    {
     "output_type": "execute_result",
     "data": {
      "text/plain": "Phase: Bottleneck Computation, Dataset used:      Train, Image Index: 388"
     },
     "execution_count": 1,
     "metadata": {}
    },
    {
     "output_type": "execute_result",
     "data": {
      "text/plain": "Phase: Bottleneck Computation, Dataset used:      Train, Image Index: 389"
     },
     "execution_count": 1,
     "metadata": {}
    },
    {
     "output_type": "execute_result",
     "data": {
      "text/plain": "Phase: Bottleneck Computation, Dataset used:      Train, Image Index: 390"
     },
     "execution_count": 1,
     "metadata": {}
    },
    {
     "output_type": "execute_result",
     "data": {
      "text/plain": "Phase: Bottleneck Computation, Dataset used:      Train, Image Index: 391"
     },
     "execution_count": 1,
     "metadata": {}
    },
    {
     "output_type": "execute_result",
     "data": {
      "text/plain": "Phase: Bottleneck Computation, Dataset used:      Train, Image Index: 392"
     },
     "execution_count": 1,
     "metadata": {}
    },
    {
     "output_type": "execute_result",
     "data": {
      "text/plain": "Phase: Bottleneck Computation, Dataset used:      Train, Image Index: 393"
     },
     "execution_count": 1,
     "metadata": {}
    },
    {
     "output_type": "execute_result",
     "data": {
      "text/plain": "Phase: Bottleneck Computation, Dataset used:      Train, Image Index: 394"
     },
     "execution_count": 1,
     "metadata": {}
    },
    {
     "output_type": "execute_result",
     "data": {
      "text/plain": "Phase: Bottleneck Computation, Dataset used:      Train, Image Index: 395"
     },
     "execution_count": 1,
     "metadata": {}
    },
    {
     "output_type": "execute_result",
     "data": {
      "text/plain": "Phase: Bottleneck Computation, Dataset used:      Train, Image Index: 396"
     },
     "execution_count": 1,
     "metadata": {}
    },
    {
     "output_type": "execute_result",
     "data": {
      "text/plain": "Phase: Bottleneck Computation, Dataset used:      Train, Image Index: 397"
     },
     "execution_count": 1,
     "metadata": {}
    },
    {
     "output_type": "execute_result",
     "data": {
      "text/plain": "Phase: Bottleneck Computation, Dataset used:      Train, Image Index: 398"
     },
     "execution_count": 1,
     "metadata": {}
    },
    {
     "output_type": "execute_result",
     "data": {
      "text/plain": "Phase: Bottleneck Computation, Dataset used:      Train, Image Index: 399"
     },
     "execution_count": 1,
     "metadata": {}
    },
    {
     "output_type": "execute_result",
     "data": {
      "text/plain": "Phase: Bottleneck Computation, Dataset used:      Train, Image Index: 400"
     },
     "execution_count": 1,
     "metadata": {}
    },
    {
     "output_type": "execute_result",
     "data": {
      "text/plain": "Phase: Bottleneck Computation, Dataset used:      Train, Image Index: 401"
     },
     "execution_count": 1,
     "metadata": {}
    },
    {
     "output_type": "execute_result",
     "data": {
      "text/plain": "Phase: Bottleneck Computation, Dataset used:      Train, Image Index: 402"
     },
     "execution_count": 1,
     "metadata": {}
    },
    {
     "output_type": "execute_result",
     "data": {
      "text/plain": "Phase: Bottleneck Computation, Dataset used:      Train, Image Index: 403"
     },
     "execution_count": 1,
     "metadata": {}
    },
    {
     "output_type": "execute_result",
     "data": {
      "text/plain": "Phase: Bottleneck Computation, Dataset used:      Train, Image Index: 404"
     },
     "execution_count": 1,
     "metadata": {}
    },
    {
     "output_type": "execute_result",
     "data": {
      "text/plain": "Phase: Bottleneck Computation, Dataset used:      Train, Image Index: 405"
     },
     "execution_count": 1,
     "metadata": {}
    },
    {
     "output_type": "execute_result",
     "data": {
      "text/plain": "Phase: Bottleneck Computation, Dataset used:      Train, Image Index: 406"
     },
     "execution_count": 1,
     "metadata": {}
    },
    {
     "output_type": "execute_result",
     "data": {
      "text/plain": "Phase: Bottleneck Computation, Dataset used:      Train, Image Index: 407"
     },
     "execution_count": 1,
     "metadata": {}
    },
    {
     "output_type": "execute_result",
     "data": {
      "text/plain": "Phase: Bottleneck Computation, Dataset used:      Train, Image Index: 408"
     },
     "execution_count": 1,
     "metadata": {}
    },
    {
     "output_type": "execute_result",
     "data": {
      "text/plain": "Phase: Bottleneck Computation, Dataset used:      Train, Image Index: 409"
     },
     "execution_count": 1,
     "metadata": {}
    },
    {
     "output_type": "execute_result",
     "data": {
      "text/plain": "Phase: Bottleneck Computation, Dataset used:      Train, Image Index: 410"
     },
     "execution_count": 1,
     "metadata": {}
    },
    {
     "output_type": "execute_result",
     "data": {
      "text/plain": "Phase: Bottleneck Computation, Dataset used:      Train, Image Index: 411"
     },
     "execution_count": 1,
     "metadata": {}
    },
    {
     "output_type": "execute_result",
     "data": {
      "text/plain": "Phase: Bottleneck Computation, Dataset used:      Train, Image Index: 412"
     },
     "execution_count": 1,
     "metadata": {}
    },
    {
     "output_type": "execute_result",
     "data": {
      "text/plain": "Phase: Bottleneck Computation, Dataset used:      Train, Image Index: 413"
     },
     "execution_count": 1,
     "metadata": {}
    },
    {
     "output_type": "execute_result",
     "data": {
      "text/plain": "Phase: Bottleneck Computation, Dataset used:      Train, Image Index: 414"
     },
     "execution_count": 1,
     "metadata": {}
    },
    {
     "output_type": "execute_result",
     "data": {
      "text/plain": "Phase: Bottleneck Computation, Dataset used:      Train, Image Index: 415"
     },
     "execution_count": 1,
     "metadata": {}
    },
    {
     "output_type": "execute_result",
     "data": {
      "text/plain": "Phase: Bottleneck Computation, Dataset used:      Train, Image Index: 416"
     },
     "execution_count": 1,
     "metadata": {}
    },
    {
     "output_type": "execute_result",
     "data": {
      "text/plain": "Phase: Bottleneck Computation, Dataset used:      Train, Image Index: 417"
     },
     "execution_count": 1,
     "metadata": {}
    },
    {
     "output_type": "execute_result",
     "data": {
      "text/plain": "Phase: Bottleneck Computation, Dataset used:      Train, Image Index: 418"
     },
     "execution_count": 1,
     "metadata": {}
    },
    {
     "output_type": "execute_result",
     "data": {
      "text/plain": "Phase: Bottleneck Computation, Dataset used:      Train, Image Index: 419"
     },
     "execution_count": 1,
     "metadata": {}
    },
    {
     "output_type": "execute_result",
     "data": {
      "text/plain": "Phase: Bottleneck Computation, Dataset used:      Train, Image Index: 420"
     },
     "execution_count": 1,
     "metadata": {}
    },
    {
     "output_type": "execute_result",
     "data": {
      "text/plain": "Phase: Bottleneck Computation, Dataset used:      Train, Image Index: 421"
     },
     "execution_count": 1,
     "metadata": {}
    },
    {
     "output_type": "execute_result",
     "data": {
      "text/plain": "Phase: Bottleneck Computation, Dataset used:      Train, Image Index: 422"
     },
     "execution_count": 1,
     "metadata": {}
    },
    {
     "output_type": "execute_result",
     "data": {
      "text/plain": "Phase: Bottleneck Computation, Dataset used:      Train, Image Index: 423"
     },
     "execution_count": 1,
     "metadata": {}
    },
    {
     "output_type": "execute_result",
     "data": {
      "text/plain": "Phase: Bottleneck Computation, Dataset used:      Train, Image Index: 424"
     },
     "execution_count": 1,
     "metadata": {}
    },
    {
     "output_type": "execute_result",
     "data": {
      "text/plain": "Phase: Bottleneck Computation, Dataset used:      Train, Image Index: 425"
     },
     "execution_count": 1,
     "metadata": {}
    },
    {
     "output_type": "execute_result",
     "data": {
      "text/plain": "Phase: Bottleneck Computation, Dataset used:      Train, Image Index: 426"
     },
     "execution_count": 1,
     "metadata": {}
    },
    {
     "output_type": "execute_result",
     "data": {
      "text/plain": "Phase: Bottleneck Computation, Dataset used:      Train, Image Index: 427"
     },
     "execution_count": 1,
     "metadata": {}
    },
    {
     "output_type": "execute_result",
     "data": {
      "text/plain": "Phase: Bottleneck Computation, Dataset used:      Train, Image Index: 428"
     },
     "execution_count": 1,
     "metadata": {}
    },
    {
     "output_type": "execute_result",
     "data": {
      "text/plain": "Phase: Bottleneck Computation, Dataset used:      Train, Image Index: 429"
     },
     "execution_count": 1,
     "metadata": {}
    },
    {
     "output_type": "execute_result",
     "data": {
      "text/plain": "Phase: Bottleneck Computation, Dataset used:      Train, Image Index: 430"
     },
     "execution_count": 1,
     "metadata": {}
    },
    {
     "output_type": "execute_result",
     "data": {
      "text/plain": "Phase: Bottleneck Computation, Dataset used:      Train, Image Index: 431"
     },
     "execution_count": 1,
     "metadata": {}
    },
    {
     "output_type": "execute_result",
     "data": {
      "text/plain": "Phase: Bottleneck Computation, Dataset used:      Train, Image Index: 432"
     },
     "execution_count": 1,
     "metadata": {}
    },
    {
     "output_type": "execute_result",
     "data": {
      "text/plain": "Phase: Bottleneck Computation, Dataset used:      Train, Image Index: 433"
     },
     "execution_count": 1,
     "metadata": {}
    },
    {
     "output_type": "execute_result",
     "data": {
      "text/plain": "Phase: Bottleneck Computation, Dataset used:      Train, Image Index: 434"
     },
     "execution_count": 1,
     "metadata": {}
    },
    {
     "output_type": "execute_result",
     "data": {
      "text/plain": "Phase: Bottleneck Computation, Dataset used:      Train, Image Index: 435"
     },
     "execution_count": 1,
     "metadata": {}
    },
    {
     "output_type": "execute_result",
     "data": {
      "text/plain": "Phase: Bottleneck Computation, Dataset used:      Train, Image Index: 436"
     },
     "execution_count": 1,
     "metadata": {}
    },
    {
     "output_type": "execute_result",
     "data": {
      "text/plain": "Phase: Bottleneck Computation, Dataset used:      Train, Image Index: 437"
     },
     "execution_count": 1,
     "metadata": {}
    },
    {
     "output_type": "execute_result",
     "data": {
      "text/plain": "Phase: Bottleneck Computation, Dataset used:      Train, Image Index: 438"
     },
     "execution_count": 1,
     "metadata": {}
    },
    {
     "output_type": "execute_result",
     "data": {
      "text/plain": "Phase: Bottleneck Computation, Dataset used:      Train, Image Index: 439"
     },
     "execution_count": 1,
     "metadata": {}
    },
    {
     "output_type": "execute_result",
     "data": {
      "text/plain": "Phase: Bottleneck Computation, Dataset used:      Train, Image Index: 440"
     },
     "execution_count": 1,
     "metadata": {}
    },
    {
     "output_type": "execute_result",
     "data": {
      "text/plain": "Phase: Bottleneck Computation, Dataset used:      Train, Image Index: 441"
     },
     "execution_count": 1,
     "metadata": {}
    },
    {
     "output_type": "execute_result",
     "data": {
      "text/plain": "Phase: Bottleneck Computation, Dataset used:      Train, Image Index: 442"
     },
     "execution_count": 1,
     "metadata": {}
    },
    {
     "output_type": "execute_result",
     "data": {
      "text/plain": "Phase: Bottleneck Computation, Dataset used:      Train, Image Index: 443"
     },
     "execution_count": 1,
     "metadata": {}
    },
    {
     "output_type": "execute_result",
     "data": {
      "text/plain": "Phase: Bottleneck Computation, Dataset used:      Train, Image Index: 444"
     },
     "execution_count": 1,
     "metadata": {}
    },
    {
     "output_type": "execute_result",
     "data": {
      "text/plain": "Phase: Bottleneck Computation, Dataset used:      Train, Image Index: 445"
     },
     "execution_count": 1,
     "metadata": {}
    },
    {
     "output_type": "execute_result",
     "data": {
      "text/plain": "Phase: Bottleneck Computation, Dataset used:      Train, Image Index: 446"
     },
     "execution_count": 1,
     "metadata": {}
    },
    {
     "output_type": "execute_result",
     "data": {
      "text/plain": "Phase: Bottleneck Computation, Dataset used:      Train, Image Index: 447"
     },
     "execution_count": 1,
     "metadata": {}
    },
    {
     "output_type": "execute_result",
     "data": {
      "text/plain": "Phase: Bottleneck Computation, Dataset used:      Train, Image Index: 448"
     },
     "execution_count": 1,
     "metadata": {}
    },
    {
     "output_type": "execute_result",
     "data": {
      "text/plain": "Phase: Bottleneck Computation, Dataset used:      Train, Image Index: 449"
     },
     "execution_count": 1,
     "metadata": {}
    },
    {
     "output_type": "execute_result",
     "data": {
      "text/plain": "Phase: Bottleneck Computation, Dataset used:      Train, Image Index: 450"
     },
     "execution_count": 1,
     "metadata": {}
    },
    {
     "output_type": "execute_result",
     "data": {
      "text/plain": "Phase: Bottleneck Computation, Dataset used:      Train, Image Index: 451"
     },
     "execution_count": 1,
     "metadata": {}
    },
    {
     "output_type": "execute_result",
     "data": {
      "text/plain": "Phase: Bottleneck Computation, Dataset used:      Train, Image Index: 452"
     },
     "execution_count": 1,
     "metadata": {}
    },
    {
     "output_type": "execute_result",
     "data": {
      "text/plain": "Phase: Bottleneck Computation, Dataset used:      Train, Image Index: 453"
     },
     "execution_count": 1,
     "metadata": {}
    },
    {
     "output_type": "execute_result",
     "data": {
      "text/plain": "Phase: Bottleneck Computation, Dataset used:      Train, Image Index: 454"
     },
     "execution_count": 1,
     "metadata": {}
    },
    {
     "output_type": "execute_result",
     "data": {
      "text/plain": "Phase: Bottleneck Computation, Dataset used:      Train, Image Index: 455"
     },
     "execution_count": 1,
     "metadata": {}
    },
    {
     "output_type": "execute_result",
     "data": {
      "text/plain": "Phase: Bottleneck Computation, Dataset used:      Train, Image Index: 456"
     },
     "execution_count": 1,
     "metadata": {}
    },
    {
     "output_type": "execute_result",
     "data": {
      "text/plain": "Phase: Bottleneck Computation, Dataset used:      Train, Image Index: 457"
     },
     "execution_count": 1,
     "metadata": {}
    },
    {
     "output_type": "execute_result",
     "data": {
      "text/plain": "Phase: Bottleneck Computation, Dataset used:      Train, Image Index: 458"
     },
     "execution_count": 1,
     "metadata": {}
    },
    {
     "output_type": "execute_result",
     "data": {
      "text/plain": "Phase: Bottleneck Computation, Dataset used:      Train, Image Index: 459"
     },
     "execution_count": 1,
     "metadata": {}
    },
    {
     "output_type": "execute_result",
     "data": {
      "text/plain": "Phase: Bottleneck Computation, Dataset used:      Train, Image Index: 460"
     },
     "execution_count": 1,
     "metadata": {}
    },
    {
     "output_type": "execute_result",
     "data": {
      "text/plain": "Phase: Bottleneck Computation, Dataset used:      Train, Image Index: 461"
     },
     "execution_count": 1,
     "metadata": {}
    },
    {
     "output_type": "execute_result",
     "data": {
      "text/plain": "Phase: Bottleneck Computation, Dataset used:      Train, Image Index: 462"
     },
     "execution_count": 1,
     "metadata": {}
    },
    {
     "output_type": "execute_result",
     "data": {
      "text/plain": "Phase: Bottleneck Computation, Dataset used:      Train, Image Index: 463"
     },
     "execution_count": 1,
     "metadata": {}
    },
    {
     "output_type": "execute_result",
     "data": {
      "text/plain": "Phase: Bottleneck Computation, Dataset used:      Train, Image Index: 464"
     },
     "execution_count": 1,
     "metadata": {}
    },
    {
     "output_type": "execute_result",
     "data": {
      "text/plain": "Phase: Bottleneck Computation, Dataset used:      Train, Image Index: 465"
     },
     "execution_count": 1,
     "metadata": {}
    },
    {
     "output_type": "execute_result",
     "data": {
      "text/plain": "Phase: Bottleneck Computation, Dataset used:      Train, Image Index: 466"
     },
     "execution_count": 1,
     "metadata": {}
    },
    {
     "output_type": "execute_result",
     "data": {
      "text/plain": "Phase: Bottleneck Computation, Dataset used:      Train, Image Index: 467"
     },
     "execution_count": 1,
     "metadata": {}
    },
    {
     "output_type": "execute_result",
     "data": {
      "text/plain": "Phase: Bottleneck Computation, Dataset used:      Train, Image Index: 468"
     },
     "execution_count": 1,
     "metadata": {}
    },
    {
     "output_type": "execute_result",
     "data": {
      "text/plain": "Phase: Bottleneck Computation, Dataset used:      Train, Image Index: 469"
     },
     "execution_count": 1,
     "metadata": {}
    },
    {
     "output_type": "execute_result",
     "data": {
      "text/plain": "Phase: Bottleneck Computation, Dataset used:      Train, Image Index: 470"
     },
     "execution_count": 1,
     "metadata": {}
    },
    {
     "output_type": "execute_result",
     "data": {
      "text/plain": "Phase: Bottleneck Computation, Dataset used:      Train, Image Index: 471"
     },
     "execution_count": 1,
     "metadata": {}
    },
    {
     "output_type": "execute_result",
     "data": {
      "text/plain": "Phase: Bottleneck Computation, Dataset used:      Train, Image Index: 472"
     },
     "execution_count": 1,
     "metadata": {}
    },
    {
     "output_type": "execute_result",
     "data": {
      "text/plain": "Phase: Bottleneck Computation, Dataset used:      Train, Image Index: 473"
     },
     "execution_count": 1,
     "metadata": {}
    },
    {
     "output_type": "execute_result",
     "data": {
      "text/plain": "Phase: Bottleneck Computation, Dataset used:      Train, Image Index: 474"
     },
     "execution_count": 1,
     "metadata": {}
    },
    {
     "output_type": "execute_result",
     "data": {
      "text/plain": "Phase: Bottleneck Computation, Dataset used:      Train, Image Index: 475"
     },
     "execution_count": 1,
     "metadata": {}
    },
    {
     "output_type": "execute_result",
     "data": {
      "text/plain": "Phase: Bottleneck Computation, Dataset used:      Train, Image Index: 476"
     },
     "execution_count": 1,
     "metadata": {}
    },
    {
     "output_type": "execute_result",
     "data": {
      "text/plain": "Phase: Bottleneck Computation, Dataset used:      Train, Image Index: 477"
     },
     "execution_count": 1,
     "metadata": {}
    },
    {
     "output_type": "execute_result",
     "data": {
      "text/plain": "Phase: Bottleneck Computation, Dataset used:      Train, Image Index: 478"
     },
     "execution_count": 1,
     "metadata": {}
    },
    {
     "output_type": "execute_result",
     "data": {
      "text/plain": "Phase: Bottleneck Computation, Dataset used:      Train, Image Index: 479"
     },
     "execution_count": 1,
     "metadata": {}
    },
    {
     "output_type": "execute_result",
     "data": {
      "text/plain": "Phase: Bottleneck Computation, Dataset used:      Train, Image Index: 480"
     },
     "execution_count": 1,
     "metadata": {}
    },
    {
     "output_type": "execute_result",
     "data": {
      "text/plain": "Phase: Bottleneck Computation, Dataset used:      Train, Image Index: 481"
     },
     "execution_count": 1,
     "metadata": {}
    },
    {
     "output_type": "execute_result",
     "data": {
      "text/plain": "Phase: Bottleneck Computation, Dataset used:      Train, Image Index: 482"
     },
     "execution_count": 1,
     "metadata": {}
    },
    {
     "output_type": "execute_result",
     "data": {
      "text/plain": "Phase: Bottleneck Computation, Dataset used:      Train, Image Index: 483"
     },
     "execution_count": 1,
     "metadata": {}
    },
    {
     "output_type": "execute_result",
     "data": {
      "text/plain": "Phase: Bottleneck Computation, Dataset used:      Train, Image Index: 484"
     },
     "execution_count": 1,
     "metadata": {}
    },
    {
     "output_type": "execute_result",
     "data": {
      "text/plain": "Phase: Bottleneck Computation, Dataset used:      Train, Image Index: 485"
     },
     "execution_count": 1,
     "metadata": {}
    },
    {
     "output_type": "execute_result",
     "data": {
      "text/plain": "Phase: Bottleneck Computation, Dataset used:      Train, Image Index: 486"
     },
     "execution_count": 1,
     "metadata": {}
    },
    {
     "output_type": "execute_result",
     "data": {
      "text/plain": "Phase: Bottleneck Computation, Dataset used:      Train, Image Index: 487"
     },
     "execution_count": 1,
     "metadata": {}
    },
    {
     "output_type": "execute_result",
     "data": {
      "text/plain": "Phase: Bottleneck Computation, Dataset used:      Train, Image Index: 488"
     },
     "execution_count": 1,
     "metadata": {}
    },
    {
     "output_type": "execute_result",
     "data": {
      "text/plain": "Phase: Bottleneck Computation, Dataset used:      Train, Image Index: 489"
     },
     "execution_count": 1,
     "metadata": {}
    },
    {
     "output_type": "execute_result",
     "data": {
      "text/plain": "Phase: Bottleneck Computation, Dataset used:      Train, Image Index: 490"
     },
     "execution_count": 1,
     "metadata": {}
    },
    {
     "output_type": "execute_result",
     "data": {
      "text/plain": "Phase: Bottleneck Computation, Dataset used:      Train, Image Index: 491"
     },
     "execution_count": 1,
     "metadata": {}
    },
    {
     "output_type": "execute_result",
     "data": {
      "text/plain": "Phase: Bottleneck Computation, Dataset used:      Train, Image Index: 492"
     },
     "execution_count": 1,
     "metadata": {}
    },
    {
     "output_type": "execute_result",
     "data": {
      "text/plain": "Phase: Bottleneck Computation, Dataset used:      Train, Image Index: 493"
     },
     "execution_count": 1,
     "metadata": {}
    },
    {
     "output_type": "execute_result",
     "data": {
      "text/plain": "Phase: Bottleneck Computation, Dataset used:      Train, Image Index: 494"
     },
     "execution_count": 1,
     "metadata": {}
    },
    {
     "output_type": "execute_result",
     "data": {
      "text/plain": "Phase: Bottleneck Computation, Dataset used:      Train, Image Index: 495"
     },
     "execution_count": 1,
     "metadata": {}
    },
    {
     "output_type": "execute_result",
     "data": {
      "text/plain": "Phase: Bottleneck Computation, Dataset used:      Train, Image Index: 496"
     },
     "execution_count": 1,
     "metadata": {}
    },
    {
     "output_type": "execute_result",
     "data": {
      "text/plain": "Phase: Bottleneck Computation, Dataset used:      Train, Image Index: 497"
     },
     "execution_count": 1,
     "metadata": {}
    },
    {
     "output_type": "execute_result",
     "data": {
      "text/plain": "Phase: Bottleneck Computation, Dataset used:      Train, Image Index: 498"
     },
     "execution_count": 1,
     "metadata": {}
    },
    {
     "output_type": "execute_result",
     "data": {
      "text/plain": "Phase: Bottleneck Computation, Dataset used:      Train, Image Index: 499"
     },
     "execution_count": 1,
     "metadata": {}
    },
    {
     "output_type": "execute_result",
     "data": {
      "text/plain": "Phase: Bottleneck Computation, Dataset used:      Train, Image Index: 500"
     },
     "execution_count": 1,
     "metadata": {}
    },
    {
     "output_type": "execute_result",
     "data": {
      "text/plain": "Phase: Bottleneck Computation, Dataset used:      Train, Image Index: 501"
     },
     "execution_count": 1,
     "metadata": {}
    },
    {
     "output_type": "execute_result",
     "data": {
      "text/plain": "Phase: Bottleneck Computation, Dataset used:      Train, Image Index: 502"
     },
     "execution_count": 1,
     "metadata": {}
    },
    {
     "output_type": "execute_result",
     "data": {
      "text/plain": "Phase: Bottleneck Computation, Dataset used:      Train, Image Index: 503"
     },
     "execution_count": 1,
     "metadata": {}
    },
    {
     "output_type": "execute_result",
     "data": {
      "text/plain": "Phase: Bottleneck Computation, Dataset used:      Train, Image Index: 504"
     },
     "execution_count": 1,
     "metadata": {}
    },
    {
     "output_type": "execute_result",
     "data": {
      "text/plain": "Phase: Bottleneck Computation, Dataset used:      Train, Image Index: 505"
     },
     "execution_count": 1,
     "metadata": {}
    },
    {
     "output_type": "execute_result",
     "data": {
      "text/plain": "Phase: Bottleneck Computation, Dataset used:      Train, Image Index: 506"
     },
     "execution_count": 1,
     "metadata": {}
    },
    {
     "output_type": "execute_result",
     "data": {
      "text/plain": "Phase: Bottleneck Computation, Dataset used:      Train, Image Index: 507"
     },
     "execution_count": 1,
     "metadata": {}
    },
    {
     "output_type": "execute_result",
     "data": {
      "text/plain": "Phase: Bottleneck Computation, Dataset used:      Train, Image Index: 508"
     },
     "execution_count": 1,
     "metadata": {}
    },
    {
     "output_type": "execute_result",
     "data": {
      "text/plain": "Phase: Bottleneck Computation, Dataset used:      Train, Image Index: 509"
     },
     "execution_count": 1,
     "metadata": {}
    },
    {
     "output_type": "execute_result",
     "data": {
      "text/plain": "Phase: Bottleneck Computation, Dataset used:      Train, Image Index: 510"
     },
     "execution_count": 1,
     "metadata": {}
    },
    {
     "output_type": "execute_result",
     "data": {
      "text/plain": "Phase: Bottleneck Computation, Dataset used:      Train, Image Index: 511"
     },
     "execution_count": 1,
     "metadata": {}
    },
    {
     "output_type": "execute_result",
     "data": {
      "text/plain": "Phase: Bottleneck Computation, Dataset used:      Train, Image Index: 512"
     },
     "execution_count": 1,
     "metadata": {}
    },
    {
     "output_type": "execute_result",
     "data": {
      "text/plain": "Phase: Bottleneck Computation, Dataset used:      Train, Image Index: 513"
     },
     "execution_count": 1,
     "metadata": {}
    },
    {
     "output_type": "execute_result",
     "data": {
      "text/plain": "Phase: Bottleneck Computation, Dataset used:      Train, Image Index: 514"
     },
     "execution_count": 1,
     "metadata": {}
    },
    {
     "output_type": "execute_result",
     "data": {
      "text/plain": "Phase: Bottleneck Computation, Dataset used:      Train, Image Index: 515"
     },
     "execution_count": 1,
     "metadata": {}
    },
    {
     "output_type": "execute_result",
     "data": {
      "text/plain": "Phase: Bottleneck Computation, Dataset used:      Train, Image Index: 516"
     },
     "execution_count": 1,
     "metadata": {}
    },
    {
     "output_type": "execute_result",
     "data": {
      "text/plain": "Phase: Bottleneck Computation, Dataset used:      Train, Image Index: 517"
     },
     "execution_count": 1,
     "metadata": {}
    },
    {
     "output_type": "execute_result",
     "data": {
      "text/plain": "Phase: Bottleneck Computation, Dataset used:      Train, Image Index: 518"
     },
     "execution_count": 1,
     "metadata": {}
    },
    {
     "output_type": "execute_result",
     "data": {
      "text/plain": "Phase: Bottleneck Computation, Dataset used:      Train, Image Index: 519"
     },
     "execution_count": 1,
     "metadata": {}
    },
    {
     "output_type": "execute_result",
     "data": {
      "text/plain": "Phase: Bottleneck Computation, Dataset used:      Train, Image Index: 520"
     },
     "execution_count": 1,
     "metadata": {}
    },
    {
     "output_type": "execute_result",
     "data": {
      "text/plain": "Phase: Bottleneck Computation, Dataset used:      Train, Image Index: 521"
     },
     "execution_count": 1,
     "metadata": {}
    },
    {
     "output_type": "execute_result",
     "data": {
      "text/plain": "Phase: Bottleneck Computation, Dataset used:      Train, Image Index: 522"
     },
     "execution_count": 1,
     "metadata": {}
    },
    {
     "output_type": "execute_result",
     "data": {
      "text/plain": "Phase: Bottleneck Computation, Dataset used:      Train, Image Index: 523"
     },
     "execution_count": 1,
     "metadata": {}
    },
    {
     "output_type": "execute_result",
     "data": {
      "text/plain": "Phase: Bottleneck Computation, Dataset used:      Train, Image Index: 524"
     },
     "execution_count": 1,
     "metadata": {}
    },
    {
     "output_type": "execute_result",
     "data": {
      "text/plain": "Phase: Bottleneck Computation, Dataset used:      Train, Image Index: 525"
     },
     "execution_count": 1,
     "metadata": {}
    },
    {
     "output_type": "execute_result",
     "data": {
      "text/plain": "Phase: Bottleneck Computation, Dataset used:      Train, Image Index: 526"
     },
     "execution_count": 1,
     "metadata": {}
    },
    {
     "output_type": "execute_result",
     "data": {
      "text/plain": "Phase: Bottleneck Computation, Dataset used:      Train, Image Index: 527"
     },
     "execution_count": 1,
     "metadata": {}
    },
    {
     "output_type": "execute_result",
     "data": {
      "text/plain": "Phase: Bottleneck Computation, Dataset used:      Train, Image Index: 528"
     },
     "execution_count": 1,
     "metadata": {}
    },
    {
     "output_type": "execute_result",
     "data": {
      "text/plain": "Phase: Bottleneck Computation, Dataset used:      Train, Image Index: 529"
     },
     "execution_count": 1,
     "metadata": {}
    },
    {
     "output_type": "execute_result",
     "data": {
      "text/plain": "Phase: Bottleneck Computation, Dataset used:      Train, Image Index: 530"
     },
     "execution_count": 1,
     "metadata": {}
    },
    {
     "output_type": "execute_result",
     "data": {
      "text/plain": "Phase: Bottleneck Computation, Dataset used:      Train, Image Index: 531"
     },
     "execution_count": 1,
     "metadata": {}
    },
    {
     "output_type": "execute_result",
     "data": {
      "text/plain": "Phase: Bottleneck Computation, Dataset used:      Train, Image Index: 532"
     },
     "execution_count": 1,
     "metadata": {}
    },
    {
     "output_type": "execute_result",
     "data": {
      "text/plain": "Phase: Bottleneck Computation, Dataset used:      Train, Image Index: 533"
     },
     "execution_count": 1,
     "metadata": {}
    },
    {
     "output_type": "execute_result",
     "data": {
      "text/plain": "Phase: Bottleneck Computation, Dataset used:      Train, Image Index: 534"
     },
     "execution_count": 1,
     "metadata": {}
    },
    {
     "output_type": "execute_result",
     "data": {
      "text/plain": "Phase: Bottleneck Computation, Dataset used:      Train, Image Index: 535"
     },
     "execution_count": 1,
     "metadata": {}
    },
    {
     "output_type": "execute_result",
     "data": {
      "text/plain": "Phase: Bottleneck Computation, Dataset used:      Train, Image Index: 536"
     },
     "execution_count": 1,
     "metadata": {}
    },
    {
     "output_type": "execute_result",
     "data": {
      "text/plain": "Phase: Bottleneck Computation, Dataset used:      Train, Image Index: 537"
     },
     "execution_count": 1,
     "metadata": {}
    },
    {
     "output_type": "execute_result",
     "data": {
      "text/plain": "Phase: Bottleneck Computation, Dataset used:      Train, Image Index: 538"
     },
     "execution_count": 1,
     "metadata": {}
    },
    {
     "output_type": "execute_result",
     "data": {
      "text/plain": "Phase: Bottleneck Computation, Dataset used:      Train, Image Index: 539"
     },
     "execution_count": 1,
     "metadata": {}
    },
    {
     "output_type": "execute_result",
     "data": {
      "text/plain": "Phase: Bottleneck Computation, Dataset used:      Train, Image Index: 540"
     },
     "execution_count": 1,
     "metadata": {}
    },
    {
     "output_type": "execute_result",
     "data": {
      "text/plain": "Phase: Bottleneck Computation, Dataset used:      Train, Image Index: 541"
     },
     "execution_count": 1,
     "metadata": {}
    },
    {
     "output_type": "execute_result",
     "data": {
      "text/plain": "Phase: Bottleneck Computation, Dataset used:      Train, Image Index: 542"
     },
     "execution_count": 1,
     "metadata": {}
    },
    {
     "output_type": "execute_result",
     "data": {
      "text/plain": "Phase: Bottleneck Computation, Dataset used:      Train, Image Index: 543"
     },
     "execution_count": 1,
     "metadata": {}
    },
    {
     "output_type": "execute_result",
     "data": {
      "text/plain": "Phase: Bottleneck Computation, Dataset used:      Train, Image Index: 544"
     },
     "execution_count": 1,
     "metadata": {}
    },
    {
     "output_type": "execute_result",
     "data": {
      "text/plain": "Phase: Bottleneck Computation, Dataset used:      Train, Image Index: 545"
     },
     "execution_count": 1,
     "metadata": {}
    },
    {
     "output_type": "execute_result",
     "data": {
      "text/plain": "Phase: Bottleneck Computation, Dataset used:      Train, Image Index: 546"
     },
     "execution_count": 1,
     "metadata": {}
    },
    {
     "output_type": "execute_result",
     "data": {
      "text/plain": "Phase: Bottleneck Computation, Dataset used:      Train, Image Index: 547"
     },
     "execution_count": 1,
     "metadata": {}
    },
    {
     "output_type": "execute_result",
     "data": {
      "text/plain": "Phase: Bottleneck Computation, Dataset used:      Train, Image Index: 548"
     },
     "execution_count": 1,
     "metadata": {}
    },
    {
     "output_type": "execute_result",
     "data": {
      "text/plain": "Phase: Bottleneck Computation, Dataset used:      Train, Image Index: 549"
     },
     "execution_count": 1,
     "metadata": {}
    },
    {
     "output_type": "execute_result",
     "data": {
      "text/plain": "Phase: Bottleneck Computation, Dataset used:      Train, Image Index: 550"
     },
     "execution_count": 1,
     "metadata": {}
    },
    {
     "output_type": "execute_result",
     "data": {
      "text/plain": "Phase: Bottleneck Computation, Dataset used:      Train, Image Index: 551"
     },
     "execution_count": 1,
     "metadata": {}
    },
    {
     "output_type": "execute_result",
     "data": {
      "text/plain": "Phase: Bottleneck Computation, Dataset used:      Train, Image Index: 552"
     },
     "execution_count": 1,
     "metadata": {}
    },
    {
     "output_type": "execute_result",
     "data": {
      "text/plain": "Phase: Bottleneck Computation, Dataset used:      Train, Image Index: 553"
     },
     "execution_count": 1,
     "metadata": {}
    },
    {
     "output_type": "execute_result",
     "data": {
      "text/plain": "Phase: Bottleneck Computation, Dataset used:      Train, Image Index: 554"
     },
     "execution_count": 1,
     "metadata": {}
    },
    {
     "output_type": "execute_result",
     "data": {
      "text/plain": "Phase: Bottleneck Computation, Dataset used:      Train, Image Index: 555"
     },
     "execution_count": 1,
     "metadata": {}
    },
    {
     "output_type": "execute_result",
     "data": {
      "text/plain": "Phase: Bottleneck Computation, Dataset used:      Train, Image Index: 556"
     },
     "execution_count": 1,
     "metadata": {}
    },
    {
     "output_type": "execute_result",
     "data": {
      "text/plain": "Phase: Bottleneck Computation, Dataset used:      Train, Image Index: 557"
     },
     "execution_count": 1,
     "metadata": {}
    },
    {
     "output_type": "execute_result",
     "data": {
      "text/plain": "Phase: Bottleneck Computation, Dataset used:      Train, Image Index: 558"
     },
     "execution_count": 1,
     "metadata": {}
    },
    {
     "output_type": "execute_result",
     "data": {
      "text/plain": "Phase: Bottleneck Computation, Dataset used:      Train, Image Index: 559"
     },
     "execution_count": 1,
     "metadata": {}
    },
    {
     "output_type": "execute_result",
     "data": {
      "text/plain": "Phase: Bottleneck Computation, Dataset used:      Train, Image Index: 560"
     },
     "execution_count": 1,
     "metadata": {}
    },
    {
     "output_type": "execute_result",
     "data": {
      "text/plain": "Phase: Bottleneck Computation, Dataset used:      Train, Image Index: 561"
     },
     "execution_count": 1,
     "metadata": {}
    },
    {
     "output_type": "execute_result",
     "data": {
      "text/plain": "Phase: Bottleneck Computation, Dataset used:      Train, Image Index: 562"
     },
     "execution_count": 1,
     "metadata": {}
    },
    {
     "output_type": "execute_result",
     "data": {
      "text/plain": "Phase: Bottleneck Computation, Dataset used:      Train, Image Index: 563"
     },
     "execution_count": 1,
     "metadata": {}
    },
    {
     "output_type": "execute_result",
     "data": {
      "text/plain": "Phase: Bottleneck Computation, Dataset used:      Train, Image Index: 564"
     },
     "execution_count": 1,
     "metadata": {}
    },
    {
     "output_type": "execute_result",
     "data": {
      "text/plain": "Phase: Bottleneck Computation, Dataset used:      Train, Image Index: 565"
     },
     "execution_count": 1,
     "metadata": {}
    },
    {
     "output_type": "execute_result",
     "data": {
      "text/plain": "Phase: Bottleneck Computation, Dataset used:      Train, Image Index: 566"
     },
     "execution_count": 1,
     "metadata": {}
    },
    {
     "output_type": "execute_result",
     "data": {
      "text/plain": "Phase: Bottleneck Computation, Dataset used:      Train, Image Index: 567"
     },
     "execution_count": 1,
     "metadata": {}
    },
    {
     "output_type": "execute_result",
     "data": {
      "text/plain": "Phase: Bottleneck Computation, Dataset used:      Train, Image Index: 568"
     },
     "execution_count": 1,
     "metadata": {}
    },
    {
     "output_type": "execute_result",
     "data": {
      "text/plain": "Phase: Bottleneck Computation, Dataset used:      Train, Image Index: 569"
     },
     "execution_count": 1,
     "metadata": {}
    },
    {
     "output_type": "execute_result",
     "data": {
      "text/plain": "Phase: Bottleneck Computation, Dataset used:      Train, Image Index: 570"
     },
     "execution_count": 1,
     "metadata": {}
    },
    {
     "output_type": "execute_result",
     "data": {
      "text/plain": "Phase: Bottleneck Computation, Dataset used:      Train, Image Index: 571"
     },
     "execution_count": 1,
     "metadata": {}
    },
    {
     "output_type": "execute_result",
     "data": {
      "text/plain": "Phase: Bottleneck Computation, Dataset used:      Train, Image Index: 572"
     },
     "execution_count": 1,
     "metadata": {}
    },
    {
     "output_type": "execute_result",
     "data": {
      "text/plain": "Phase: Bottleneck Computation, Dataset used:      Train, Image Index: 573"
     },
     "execution_count": 1,
     "metadata": {}
    },
    {
     "output_type": "execute_result",
     "data": {
      "text/plain": "Phase: Bottleneck Computation, Dataset used:      Train, Image Index: 574"
     },
     "execution_count": 1,
     "metadata": {}
    },
    {
     "output_type": "execute_result",
     "data": {
      "text/plain": "Phase: Bottleneck Computation, Dataset used:      Train, Image Index: 575"
     },
     "execution_count": 1,
     "metadata": {}
    },
    {
     "output_type": "execute_result",
     "data": {
      "text/plain": "Phase: Bottleneck Computation, Dataset used:      Train, Image Index: 576"
     },
     "execution_count": 1,
     "metadata": {}
    },
    {
     "output_type": "execute_result",
     "data": {
      "text/plain": "Phase: Bottleneck Computation, Dataset used:      Train, Image Index: 577"
     },
     "execution_count": 1,
     "metadata": {}
    },
    {
     "output_type": "execute_result",
     "data": {
      "text/plain": "Phase: Bottleneck Computation, Dataset used:      Train, Image Index: 578"
     },
     "execution_count": 1,
     "metadata": {}
    },
    {
     "output_type": "execute_result",
     "data": {
      "text/plain": "Phase: Bottleneck Computation, Dataset used:      Train, Image Index: 579"
     },
     "execution_count": 1,
     "metadata": {}
    },
    {
     "output_type": "execute_result",
     "data": {
      "text/plain": "Phase: Bottleneck Computation, Dataset used:      Train, Image Index: 580"
     },
     "execution_count": 1,
     "metadata": {}
    },
    {
     "output_type": "execute_result",
     "data": {
      "text/plain": "Phase: Bottleneck Computation, Dataset used:      Train, Image Index: 581"
     },
     "execution_count": 1,
     "metadata": {}
    },
    {
     "output_type": "execute_result",
     "data": {
      "text/plain": "Phase: Bottleneck Computation, Dataset used:      Train, Image Index: 582"
     },
     "execution_count": 1,
     "metadata": {}
    },
    {
     "output_type": "execute_result",
     "data": {
      "text/plain": "Phase: Bottleneck Computation, Dataset used:      Train, Image Index: 583"
     },
     "execution_count": 1,
     "metadata": {}
    },
    {
     "output_type": "execute_result",
     "data": {
      "text/plain": "Phase: Bottleneck Computation, Dataset used:      Train, Image Index: 584"
     },
     "execution_count": 1,
     "metadata": {}
    },
    {
     "output_type": "execute_result",
     "data": {
      "text/plain": "Phase: Bottleneck Computation, Dataset used:      Train, Image Index: 585"
     },
     "execution_count": 1,
     "metadata": {}
    },
    {
     "output_type": "execute_result",
     "data": {
      "text/plain": "Phase: Bottleneck Computation, Dataset used:      Train, Image Index: 586"
     },
     "execution_count": 1,
     "metadata": {}
    },
    {
     "output_type": "execute_result",
     "data": {
      "text/plain": "Phase: Bottleneck Computation, Dataset used:      Train, Image Index: 587"
     },
     "execution_count": 1,
     "metadata": {}
    },
    {
     "output_type": "execute_result",
     "data": {
      "text/plain": "Phase: Bottleneck Computation, Dataset used:      Train, Image Index: 588"
     },
     "execution_count": 1,
     "metadata": {}
    },
    {
     "output_type": "execute_result",
     "data": {
      "text/plain": "Phase: Bottleneck Computation, Dataset used:      Train, Image Index: 589"
     },
     "execution_count": 1,
     "metadata": {}
    },
    {
     "output_type": "execute_result",
     "data": {
      "text/plain": "Phase: Bottleneck Computation, Dataset used:      Train, Image Index: 590"
     },
     "execution_count": 1,
     "metadata": {}
    },
    {
     "output_type": "execute_result",
     "data": {
      "text/plain": "Phase: Bottleneck Computation, Dataset used:      Train, Image Index: 591"
     },
     "execution_count": 1,
     "metadata": {}
    },
    {
     "output_type": "execute_result",
     "data": {
      "text/plain": "Phase: Bottleneck Computation, Dataset used:      Train, Image Index: 592"
     },
     "execution_count": 1,
     "metadata": {}
    },
    {
     "output_type": "execute_result",
     "data": {
      "text/plain": "Phase: Bottleneck Computation, Dataset used:      Train, Image Index: 593"
     },
     "execution_count": 1,
     "metadata": {}
    },
    {
     "output_type": "execute_result",
     "data": {
      "text/plain": "Phase: Bottleneck Computation, Dataset used:      Train, Image Index: 594"
     },
     "execution_count": 1,
     "metadata": {}
    },
    {
     "output_type": "execute_result",
     "data": {
      "text/plain": "Phase: Bottleneck Computation, Dataset used:      Train, Image Index: 595"
     },
     "execution_count": 1,
     "metadata": {}
    },
    {
     "output_type": "execute_result",
     "data": {
      "text/plain": "Phase: Bottleneck Computation, Dataset used:      Train, Image Index: 596"
     },
     "execution_count": 1,
     "metadata": {}
    },
    {
     "output_type": "execute_result",
     "data": {
      "text/plain": "Phase: Bottleneck Computation, Dataset used:      Train, Image Index: 597"
     },
     "execution_count": 1,
     "metadata": {}
    },
    {
     "output_type": "execute_result",
     "data": {
      "text/plain": "Phase: Bottleneck Computation, Dataset used:      Train, Image Index: 598"
     },
     "execution_count": 1,
     "metadata": {}
    },
    {
     "output_type": "execute_result",
     "data": {
      "text/plain": "Phase: Bottleneck Computation, Dataset used:      Train, Image Index: 599"
     },
     "execution_count": 1,
     "metadata": {}
    },
    {
     "output_type": "execute_result",
     "data": {
      "text/plain": "Phase: Bottleneck Computation, Dataset used:      Train, Image Index: 600"
     },
     "execution_count": 1,
     "metadata": {}
    },
    {
     "output_type": "execute_result",
     "data": {
      "text/plain": "Phase: Bottleneck Computation, Dataset used:      Train, Image Index: 601"
     },
     "execution_count": 1,
     "metadata": {}
    },
    {
     "output_type": "execute_result",
     "data": {
      "text/plain": "Phase: Bottleneck Computation, Dataset used:      Train, Image Index: 602"
     },
     "execution_count": 1,
     "metadata": {}
    },
    {
     "output_type": "execute_result",
     "data": {
      "text/plain": "Phase: Bottleneck Computation, Dataset used:      Train, Image Index: 603"
     },
     "execution_count": 1,
     "metadata": {}
    },
    {
     "output_type": "execute_result",
     "data": {
      "text/plain": "Phase: Bottleneck Computation, Dataset used:      Train, Image Index: 604"
     },
     "execution_count": 1,
     "metadata": {}
    },
    {
     "output_type": "execute_result",
     "data": {
      "text/plain": "Phase: Bottleneck Computation, Dataset used:      Train, Image Index: 605"
     },
     "execution_count": 1,
     "metadata": {}
    },
    {
     "output_type": "execute_result",
     "data": {
      "text/plain": "Phase: Bottleneck Computation, Dataset used:      Train, Image Index: 606"
     },
     "execution_count": 1,
     "metadata": {}
    },
    {
     "output_type": "execute_result",
     "data": {
      "text/plain": "Phase: Bottleneck Computation, Dataset used:      Train, Image Index: 607"
     },
     "execution_count": 1,
     "metadata": {}
    },
    {
     "output_type": "execute_result",
     "data": {
      "text/plain": "Phase: Bottleneck Computation, Dataset used:      Train, Image Index: 608"
     },
     "execution_count": 1,
     "metadata": {}
    },
    {
     "output_type": "execute_result",
     "data": {
      "text/plain": "Phase: Bottleneck Computation, Dataset used:      Train, Image Index: 609"
     },
     "execution_count": 1,
     "metadata": {}
    },
    {
     "output_type": "execute_result",
     "data": {
      "text/plain": "Phase: Bottleneck Computation, Dataset used:      Train, Image Index: 610"
     },
     "execution_count": 1,
     "metadata": {}
    },
    {
     "output_type": "execute_result",
     "data": {
      "text/plain": "Phase: Bottleneck Computation, Dataset used:      Train, Image Index: 611"
     },
     "execution_count": 1,
     "metadata": {}
    },
    {
     "output_type": "execute_result",
     "data": {
      "text/plain": "Phase: Bottleneck Computation, Dataset used:      Train, Image Index: 612"
     },
     "execution_count": 1,
     "metadata": {}
    },
    {
     "output_type": "execute_result",
     "data": {
      "text/plain": "Phase: Bottleneck Computation, Dataset used:      Train, Image Index: 613"
     },
     "execution_count": 1,
     "metadata": {}
    },
    {
     "output_type": "execute_result",
     "data": {
      "text/plain": "Phase: Bottleneck Computation, Dataset used:      Train, Image Index: 614"
     },
     "execution_count": 1,
     "metadata": {}
    },
    {
     "output_type": "execute_result",
     "data": {
      "text/plain": "Phase: Bottleneck Computation, Dataset used:      Train, Image Index: 615"
     },
     "execution_count": 1,
     "metadata": {}
    },
    {
     "output_type": "execute_result",
     "data": {
      "text/plain": "Phase: Bottleneck Computation, Dataset used:      Train, Image Index: 616"
     },
     "execution_count": 1,
     "metadata": {}
    },
    {
     "output_type": "execute_result",
     "data": {
      "text/plain": "Phase: Bottleneck Computation, Dataset used:      Train, Image Index: 617"
     },
     "execution_count": 1,
     "metadata": {}
    },
    {
     "output_type": "execute_result",
     "data": {
      "text/plain": "Phase: Bottleneck Computation, Dataset used:      Train, Image Index: 618"
     },
     "execution_count": 1,
     "metadata": {}
    },
    {
     "output_type": "execute_result",
     "data": {
      "text/plain": "Phase: Bottleneck Computation, Dataset used:      Train, Image Index: 619"
     },
     "execution_count": 1,
     "metadata": {}
    },
    {
     "output_type": "execute_result",
     "data": {
      "text/plain": "Phase: Bottleneck Computation, Dataset used:      Train, Image Index: 620"
     },
     "execution_count": 1,
     "metadata": {}
    },
    {
     "output_type": "execute_result",
     "data": {
      "text/plain": "Phase: Bottleneck Computation, Dataset used:      Train, Image Index: 621"
     },
     "execution_count": 1,
     "metadata": {}
    },
    {
     "output_type": "execute_result",
     "data": {
      "text/plain": "Phase: Bottleneck Computation, Dataset used:      Train, Image Index: 622"
     },
     "execution_count": 1,
     "metadata": {}
    },
    {
     "output_type": "execute_result",
     "data": {
      "text/plain": "Phase: Bottleneck Computation, Dataset used:      Train, Image Index: 623"
     },
     "execution_count": 1,
     "metadata": {}
    },
    {
     "output_type": "execute_result",
     "data": {
      "text/plain": "Phase: Bottleneck Computation, Dataset used:      Train, Image Index: 624"
     },
     "execution_count": 1,
     "metadata": {}
    },
    {
     "output_type": "execute_result",
     "data": {
      "text/plain": "Phase: Bottleneck Computation, Dataset used:      Train, Image Index: 625"
     },
     "execution_count": 1,
     "metadata": {}
    },
    {
     "output_type": "execute_result",
     "data": {
      "text/plain": "Phase: Bottleneck Computation, Dataset used:      Train, Image Index: 626"
     },
     "execution_count": 1,
     "metadata": {}
    },
    {
     "output_type": "execute_result",
     "data": {
      "text/plain": "Phase: Bottleneck Computation, Dataset used:      Train, Image Index: 627"
     },
     "execution_count": 1,
     "metadata": {}
    },
    {
     "output_type": "execute_result",
     "data": {
      "text/plain": "Phase: Bottleneck Computation, Dataset used:      Train, Image Index: 628"
     },
     "execution_count": 1,
     "metadata": {}
    },
    {
     "output_type": "execute_result",
     "data": {
      "text/plain": "Phase: Bottleneck Computation, Dataset used:      Train, Image Index: 629"
     },
     "execution_count": 1,
     "metadata": {}
    },
    {
     "output_type": "execute_result",
     "data": {
      "text/plain": "Phase: Bottleneck Computation, Dataset used:      Train, Image Index: 630"
     },
     "execution_count": 1,
     "metadata": {}
    },
    {
     "output_type": "execute_result",
     "data": {
      "text/plain": "Phase: Bottleneck Computation, Dataset used:      Train, Image Index: 631"
     },
     "execution_count": 1,
     "metadata": {}
    },
    {
     "output_type": "execute_result",
     "data": {
      "text/plain": "Phase: Bottleneck Computation, Dataset used:      Train, Image Index: 632"
     },
     "execution_count": 1,
     "metadata": {}
    },
    {
     "output_type": "execute_result",
     "data": {
      "text/plain": "Phase: Bottleneck Computation, Dataset used:      Train, Image Index: 633"
     },
     "execution_count": 1,
     "metadata": {}
    },
    {
     "output_type": "execute_result",
     "data": {
      "text/plain": "Phase: Bottleneck Computation, Dataset used:      Train, Image Index: 634"
     },
     "execution_count": 1,
     "metadata": {}
    },
    {
     "output_type": "execute_result",
     "data": {
      "text/plain": "Phase: Bottleneck Computation, Dataset used:      Train, Image Index: 635"
     },
     "execution_count": 1,
     "metadata": {}
    },
    {
     "output_type": "execute_result",
     "data": {
      "text/plain": "Phase: Bottleneck Computation, Dataset used:      Train, Image Index: 636"
     },
     "execution_count": 1,
     "metadata": {}
    },
    {
     "output_type": "execute_result",
     "data": {
      "text/plain": "Phase: Bottleneck Computation, Dataset used:      Train, Image Index: 637"
     },
     "execution_count": 1,
     "metadata": {}
    },
    {
     "output_type": "execute_result",
     "data": {
      "text/plain": "Phase: Bottleneck Computation, Dataset used:      Train, Image Index: 638"
     },
     "execution_count": 1,
     "metadata": {}
    },
    {
     "output_type": "execute_result",
     "data": {
      "text/plain": "Phase: Bottleneck Computation, Dataset used:      Train, Image Index: 639"
     },
     "execution_count": 1,
     "metadata": {}
    },
    {
     "output_type": "execute_result",
     "data": {
      "text/plain": "Phase: Bottleneck Computation, Dataset used:      Train, Image Index: 640"
     },
     "execution_count": 1,
     "metadata": {}
    },
    {
     "output_type": "execute_result",
     "data": {
      "text/plain": "Phase: Bottleneck Computation, Dataset used:      Train, Image Index: 641"
     },
     "execution_count": 1,
     "metadata": {}
    },
    {
     "output_type": "execute_result",
     "data": {
      "text/plain": "Phase: Bottleneck Computation, Dataset used:      Train, Image Index: 642"
     },
     "execution_count": 1,
     "metadata": {}
    },
    {
     "output_type": "execute_result",
     "data": {
      "text/plain": "Phase: Bottleneck Computation, Dataset used:      Train, Image Index: 643"
     },
     "execution_count": 1,
     "metadata": {}
    },
    {
     "output_type": "execute_result",
     "data": {
      "text/plain": "Phase: Bottleneck Computation, Dataset used:      Train, Image Index: 644"
     },
     "execution_count": 1,
     "metadata": {}
    },
    {
     "output_type": "execute_result",
     "data": {
      "text/plain": "Phase: Bottleneck Computation, Dataset used:      Train, Image Index: 645"
     },
     "execution_count": 1,
     "metadata": {}
    },
    {
     "output_type": "execute_result",
     "data": {
      "text/plain": "Phase: Bottleneck Computation, Dataset used:      Train, Image Index: 646"
     },
     "execution_count": 1,
     "metadata": {}
    },
    {
     "output_type": "execute_result",
     "data": {
      "text/plain": "Phase: Bottleneck Computation, Dataset used:      Train, Image Index: 647"
     },
     "execution_count": 1,
     "metadata": {}
    },
    {
     "output_type": "execute_result",
     "data": {
      "text/plain": "Phase: Bottleneck Computation, Dataset used:      Train, Image Index: 648"
     },
     "execution_count": 1,
     "metadata": {}
    },
    {
     "output_type": "execute_result",
     "data": {
      "text/plain": "Phase: Bottleneck Computation, Dataset used:      Train, Image Index: 649"
     },
     "execution_count": 1,
     "metadata": {}
    },
    {
     "output_type": "execute_result",
     "data": {
      "text/plain": "Phase: Bottleneck Computation, Dataset used:      Train, Image Index: 650"
     },
     "execution_count": 1,
     "metadata": {}
    },
    {
     "output_type": "execute_result",
     "data": {
      "text/plain": "Phase: Bottleneck Computation, Dataset used:      Train, Image Index: 651"
     },
     "execution_count": 1,
     "metadata": {}
    },
    {
     "output_type": "execute_result",
     "data": {
      "text/plain": "Phase: Bottleneck Computation, Dataset used:      Train, Image Index: 652"
     },
     "execution_count": 1,
     "metadata": {}
    },
    {
     "output_type": "execute_result",
     "data": {
      "text/plain": "Phase: Bottleneck Computation, Dataset used:      Train, Image Index: 653"
     },
     "execution_count": 1,
     "metadata": {}
    },
    {
     "output_type": "execute_result",
     "data": {
      "text/plain": "Phase: Bottleneck Computation, Dataset used:      Train, Image Index: 654"
     },
     "execution_count": 1,
     "metadata": {}
    },
    {
     "output_type": "execute_result",
     "data": {
      "text/plain": "Phase: Bottleneck Computation, Dataset used:      Train, Image Index: 655"
     },
     "execution_count": 1,
     "metadata": {}
    },
    {
     "output_type": "execute_result",
     "data": {
      "text/plain": "Phase: Bottleneck Computation, Dataset used:      Train, Image Index: 656"
     },
     "execution_count": 1,
     "metadata": {}
    },
    {
     "output_type": "execute_result",
     "data": {
      "text/plain": "Phase: Bottleneck Computation, Dataset used:      Train, Image Index: 657"
     },
     "execution_count": 1,
     "metadata": {}
    },
    {
     "output_type": "execute_result",
     "data": {
      "text/plain": "Phase: Bottleneck Computation, Dataset used:      Train, Image Index: 658"
     },
     "execution_count": 1,
     "metadata": {}
    },
    {
     "output_type": "execute_result",
     "data": {
      "text/plain": "Phase: Bottleneck Computation, Dataset used:      Train, Image Index: 659"
     },
     "execution_count": 1,
     "metadata": {}
    },
    {
     "output_type": "execute_result",
     "data": {
      "text/plain": "Phase: Bottleneck Computation, Dataset used:      Train, Image Index: 660"
     },
     "execution_count": 1,
     "metadata": {}
    },
    {
     "output_type": "execute_result",
     "data": {
      "text/plain": "Phase: Bottleneck Computation, Dataset used:      Train, Image Index: 661"
     },
     "execution_count": 1,
     "metadata": {}
    },
    {
     "output_type": "execute_result",
     "data": {
      "text/plain": "Phase: Bottleneck Computation, Dataset used:      Train, Image Index: 662"
     },
     "execution_count": 1,
     "metadata": {}
    },
    {
     "output_type": "execute_result",
     "data": {
      "text/plain": "Phase: Bottleneck Computation, Dataset used:      Train, Image Index: 663"
     },
     "execution_count": 1,
     "metadata": {}
    },
    {
     "output_type": "execute_result",
     "data": {
      "text/plain": "Phase: Bottleneck Computation, Dataset used:      Train, Image Index: 664"
     },
     "execution_count": 1,
     "metadata": {}
    },
    {
     "output_type": "execute_result",
     "data": {
      "text/plain": "Phase: Bottleneck Computation, Dataset used:      Train, Image Index: 665"
     },
     "execution_count": 1,
     "metadata": {}
    },
    {
     "output_type": "execute_result",
     "data": {
      "text/plain": "Phase: Bottleneck Computation, Dataset used:      Train, Image Index: 666"
     },
     "execution_count": 1,
     "metadata": {}
    },
    {
     "output_type": "execute_result",
     "data": {
      "text/plain": "Phase: Bottleneck Computation, Dataset used:      Train, Image Index: 667"
     },
     "execution_count": 1,
     "metadata": {}
    },
    {
     "output_type": "execute_result",
     "data": {
      "text/plain": "Phase: Bottleneck Computation, Dataset used:      Train, Image Index: 668"
     },
     "execution_count": 1,
     "metadata": {}
    },
    {
     "output_type": "execute_result",
     "data": {
      "text/plain": "Phase: Bottleneck Computation, Dataset used:      Train, Image Index: 669"
     },
     "execution_count": 1,
     "metadata": {}
    },
    {
     "output_type": "execute_result",
     "data": {
      "text/plain": "Phase: Bottleneck Computation, Dataset used:      Train, Image Index: 670"
     },
     "execution_count": 1,
     "metadata": {}
    },
    {
     "output_type": "execute_result",
     "data": {
      "text/plain": "Phase: Bottleneck Computation, Dataset used:      Train, Image Index: 671"
     },
     "execution_count": 1,
     "metadata": {}
    },
    {
     "output_type": "execute_result",
     "data": {
      "text/plain": "Phase: Bottleneck Computation, Dataset used:      Train, Image Index: 672"
     },
     "execution_count": 1,
     "metadata": {}
    },
    {
     "output_type": "execute_result",
     "data": {
      "text/plain": "Phase: Bottleneck Computation, Dataset used:      Train, Image Index: 673"
     },
     "execution_count": 1,
     "metadata": {}
    },
    {
     "output_type": "execute_result",
     "data": {
      "text/plain": "Phase: Bottleneck Computation, Dataset used:      Train, Image Index: 674"
     },
     "execution_count": 1,
     "metadata": {}
    },
    {
     "output_type": "execute_result",
     "data": {
      "text/plain": "Phase: Bottleneck Computation, Dataset used:      Train, Image Index: 675"
     },
     "execution_count": 1,
     "metadata": {}
    },
    {
     "output_type": "execute_result",
     "data": {
      "text/plain": "Phase: Bottleneck Computation, Dataset used:      Train, Image Index: 676"
     },
     "execution_count": 1,
     "metadata": {}
    },
    {
     "output_type": "execute_result",
     "data": {
      "text/plain": "Phase: Bottleneck Computation, Dataset used:      Train, Image Index: 677"
     },
     "execution_count": 1,
     "metadata": {}
    },
    {
     "output_type": "execute_result",
     "data": {
      "text/plain": "Phase: Bottleneck Computation, Dataset used:      Train, Image Index: 678"
     },
     "execution_count": 1,
     "metadata": {}
    },
    {
     "output_type": "execute_result",
     "data": {
      "text/plain": "Phase: Bottleneck Computation, Dataset used:      Train, Image Index: 679"
     },
     "execution_count": 1,
     "metadata": {}
    },
    {
     "output_type": "execute_result",
     "data": {
      "text/plain": "Phase: Bottleneck Computation, Dataset used:      Train, Image Index: 680"
     },
     "execution_count": 1,
     "metadata": {}
    },
    {
     "output_type": "execute_result",
     "data": {
      "text/plain": "Phase: Bottleneck Computation, Dataset used:      Train, Image Index: 681"
     },
     "execution_count": 1,
     "metadata": {}
    },
    {
     "output_type": "execute_result",
     "data": {
      "text/plain": "Phase: Bottleneck Computation, Dataset used:      Train, Image Index: 682"
     },
     "execution_count": 1,
     "metadata": {}
    },
    {
     "output_type": "execute_result",
     "data": {
      "text/plain": "Phase: Bottleneck Computation, Dataset used:      Train, Image Index: 683"
     },
     "execution_count": 1,
     "metadata": {}
    },
    {
     "output_type": "execute_result",
     "data": {
      "text/plain": "Phase: Bottleneck Computation, Dataset used:      Train, Image Index: 684"
     },
     "execution_count": 1,
     "metadata": {}
    },
    {
     "output_type": "execute_result",
     "data": {
      "text/plain": "Phase: Bottleneck Computation, Dataset used:      Train, Image Index: 685"
     },
     "execution_count": 1,
     "metadata": {}
    },
    {
     "output_type": "execute_result",
     "data": {
      "text/plain": "Phase: Bottleneck Computation, Dataset used:      Train, Image Index: 686"
     },
     "execution_count": 1,
     "metadata": {}
    },
    {
     "output_type": "execute_result",
     "data": {
      "text/plain": "Phase: Bottleneck Computation, Dataset used:      Train, Image Index: 687"
     },
     "execution_count": 1,
     "metadata": {}
    },
    {
     "output_type": "execute_result",
     "data": {
      "text/plain": "Phase: Bottleneck Computation, Dataset used:      Train, Image Index: 688"
     },
     "execution_count": 1,
     "metadata": {}
    },
    {
     "output_type": "execute_result",
     "data": {
      "text/plain": "Phase: Bottleneck Computation, Dataset used:      Train, Image Index: 689"
     },
     "execution_count": 1,
     "metadata": {}
    },
    {
     "output_type": "execute_result",
     "data": {
      "text/plain": "Phase: Bottleneck Computation, Dataset used:      Train, Image Index: 690"
     },
     "execution_count": 1,
     "metadata": {}
    },
    {
     "output_type": "execute_result",
     "data": {
      "text/plain": "Phase: Bottleneck Computation, Dataset used:      Train, Image Index: 691"
     },
     "execution_count": 1,
     "metadata": {}
    },
    {
     "output_type": "execute_result",
     "data": {
      "text/plain": "Phase: Bottleneck Computation, Dataset used:      Train, Image Index: 692"
     },
     "execution_count": 1,
     "metadata": {}
    },
    {
     "output_type": "execute_result",
     "data": {
      "text/plain": "Phase: Bottleneck Computation, Dataset used:      Train, Image Index: 693"
     },
     "execution_count": 1,
     "metadata": {}
    },
    {
     "output_type": "execute_result",
     "data": {
      "text/plain": "Phase: Bottleneck Computation, Dataset used:      Train, Image Index: 694"
     },
     "execution_count": 1,
     "metadata": {}
    },
    {
     "output_type": "execute_result",
     "data": {
      "text/plain": "Phase: Bottleneck Computation, Dataset used:      Train, Image Index: 695"
     },
     "execution_count": 1,
     "metadata": {}
    },
    {
     "output_type": "execute_result",
     "data": {
      "text/plain": "Phase: Bottleneck Computation, Dataset used:      Train, Image Index: 696"
     },
     "execution_count": 1,
     "metadata": {}
    },
    {
     "output_type": "execute_result",
     "data": {
      "text/plain": "Phase: Bottleneck Computation, Dataset used:      Train, Image Index: 697"
     },
     "execution_count": 1,
     "metadata": {}
    },
    {
     "output_type": "execute_result",
     "data": {
      "text/plain": "Phase: Bottleneck Computation, Dataset used:      Train, Image Index: 698"
     },
     "execution_count": 1,
     "metadata": {}
    },
    {
     "output_type": "execute_result",
     "data": {
      "text/plain": "Phase: Bottleneck Computation, Dataset used:      Train, Image Index: 699"
     },
     "execution_count": 1,
     "metadata": {}
    },
    {
     "output_type": "execute_result",
     "data": {
      "text/plain": "Phase: Bottleneck Computation, Dataset used:      Train, Image Index: 700"
     },
     "execution_count": 1,
     "metadata": {}
    },
    {
     "output_type": "execute_result",
     "data": {
      "text/plain": "Phase: Bottleneck Computation, Dataset used:      Train, Image Index: 701"
     },
     "execution_count": 1,
     "metadata": {}
    },
    {
     "output_type": "execute_result",
     "data": {
      "text/plain": "Phase: Bottleneck Computation, Dataset used:      Train, Image Index: 702"
     },
     "execution_count": 1,
     "metadata": {}
    },
    {
     "output_type": "execute_result",
     "data": {
      "text/plain": "Phase: Bottleneck Computation, Dataset used:      Train, Image Index: 703"
     },
     "execution_count": 1,
     "metadata": {}
    },
    {
     "output_type": "execute_result",
     "data": {
      "text/plain": "Phase: Bottleneck Computation, Dataset used:      Train, Image Index: 704"
     },
     "execution_count": 1,
     "metadata": {}
    },
    {
     "output_type": "execute_result",
     "data": {
      "text/plain": "Phase: Training, Dataset used: Validation, Batch Processed Count:  11, Epoch:   0, Accuracy: 0,99090904, Cross-Entropy: 0,09007562"
     },
     "execution_count": 1,
     "metadata": {}
    },
    {
     "output_type": "execute_result",
     "data": {
      "text/plain": "Phase: Training, Dataset used: Validation, Batch Processed Count:  11, Epoch:   1, Accuracy: 0,99090904, Cross-Entropy: 0,07418651"
     },
     "execution_count": 1,
     "metadata": {}
    },
    {
     "output_type": "execute_result",
     "data": {
      "text/plain": "Phase: Training, Dataset used: Validation, Batch Processed Count:  11, Epoch:   2, Accuracy: 0,99090904, Cross-Entropy: 0,06746171"
     },
     "execution_count": 1,
     "metadata": {}
    },
    {
     "output_type": "execute_result",
     "data": {
      "text/plain": "Phase: Training, Dataset used: Validation, Batch Processed Count:  11, Epoch:   3, Accuracy: 0,99090904, Cross-Entropy: 0,06364318"
     },
     "execution_count": 1,
     "metadata": {}
    },
    {
     "output_type": "execute_result",
     "data": {
      "text/plain": "Phase: Training, Dataset used: Validation, Batch Processed Count:  11, Epoch:   4, Accuracy: 0,99090904, Cross-Entropy: 0,06129028"
     },
     "execution_count": 1,
     "metadata": {}
    },
    {
     "output_type": "execute_result",
     "data": {
      "text/plain": "Phase: Training, Dataset used: Validation, Batch Processed Count:  11, Epoch:   5, Accuracy: 0,99090904, Cross-Entropy: 0,05995512"
     },
     "execution_count": 1,
     "metadata": {}
    },
    {
     "output_type": "execute_result",
     "data": {
      "text/plain": "Phase: Training, Dataset used: Validation, Batch Processed Count:  11, Epoch:   6, Accuracy: 0,99090904, Cross-Entropy: 0,05906782"
     },
     "execution_count": 1,
     "metadata": {}
    },
    {
     "output_type": "execute_result",
     "data": {
      "text/plain": "Phase: Training, Dataset used: Validation, Batch Processed Count:  11, Epoch:   7, Accuracy: 0,99090904, Cross-Entropy: 0,05853746"
     },
     "execution_count": 1,
     "metadata": {}
    },
    {
     "output_type": "execute_result",
     "data": {
      "text/plain": "Phase: Training, Dataset used: Validation, Batch Processed Count:  11, Epoch:   8, Accuracy: 0,99090904, Cross-Entropy: 0,058167096"
     },
     "execution_count": 1,
     "metadata": {}
    },
    {
     "output_type": "execute_result",
     "data": {
      "text/plain": "Phase: Training, Dataset used: Validation, Batch Processed Count:  11, Epoch:   9, Accuracy: 0,99090904, Cross-Entropy: 0,057942584"
     },
     "execution_count": 1,
     "metadata": {}
    },
    {
     "output_type": "execute_result",
     "data": {
      "text/plain": "Phase: Training, Dataset used: Validation, Batch Processed Count:  11, Epoch:  10, Accuracy: 0,99090904, Cross-Entropy: 0,057786062"
     },
     "execution_count": 1,
     "metadata": {}
    },
    {
     "output_type": "execute_result",
     "data": {
      "text/plain": "Phase: Training, Dataset used: Validation, Batch Processed Count:  11, Epoch:  11, Accuracy: 0,99090904, Cross-Entropy: 0,05769856"
     },
     "execution_count": 1,
     "metadata": {}
    },
    {
     "output_type": "execute_result",
     "data": {
      "text/plain": "Phase: Training, Dataset used: Validation, Batch Processed Count:  11, Epoch:  12, Accuracy: 0,99090904, Cross-Entropy: 0,05764294"
     },
     "execution_count": 1,
     "metadata": {}
    },
    {
     "output_type": "execute_result",
     "data": {
      "text/plain": "Phase: Training, Dataset used: Validation, Batch Processed Count:  11, Epoch:  13, Accuracy: 0,99090904, Cross-Entropy: 0,057623636"
     },
     "execution_count": 1,
     "metadata": {}
    },
    {
     "output_type": "execute_result",
     "data": {
      "text/plain": "Phase: Training, Dataset used: Validation, Batch Processed Count:  11, Epoch:  14, Accuracy: 0,99090904, Cross-Entropy: 0,057619873"
     },
     "execution_count": 1,
     "metadata": {}
    },
    {
     "output_type": "execute_result",
     "data": {
      "text/plain": "Phase: Training, Dataset used: Validation, Batch Processed Count:  11, Epoch:  15, Accuracy: 0,99090904, Cross-Entropy: 0,057636634"
     },
     "execution_count": 1,
     "metadata": {}
    },
    {
     "output_type": "execute_result",
     "data": {
      "text/plain": "Phase: Training, Dataset used: Validation, Batch Processed Count:  11, Epoch:  16, Accuracy: 0,99090904, Cross-Entropy: 0,057660703"
     },
     "execution_count": 1,
     "metadata": {}
    },
    {
     "output_type": "execute_result",
     "data": {
      "text/plain": "Phase: Training, Dataset used: Validation, Batch Processed Count:  11, Epoch:  17, Accuracy: 0,99090904, Cross-Entropy: 0,057696927"
     },
     "execution_count": 1,
     "metadata": {}
    },
    {
     "output_type": "execute_result",
     "data": {
      "text/plain": "Phase: Training, Dataset used: Validation, Batch Processed Count:  11, Epoch:  18, Accuracy: 0,99090904, Cross-Entropy: 0,057736132"
     },
     "execution_count": 1,
     "metadata": {}
    },
    {
     "output_type": "execute_result",
     "data": {
      "text/plain": "Phase: Training, Dataset used: Validation, Batch Processed Count:  11, Epoch:  19, Accuracy: 0,99090904, Cross-Entropy: 0,05778272"
     },
     "execution_count": 1,
     "metadata": {}
    },
    {
     "output_type": "execute_result",
     "data": {
      "text/plain": "Phase: Training, Dataset used: Validation, Batch Processed Count:  11, Epoch:  20, Accuracy: 0,99090904, Cross-Entropy: 0,05782988"
     },
     "execution_count": 1,
     "metadata": {}
    },
    {
     "output_type": "execute_result",
     "data": {
      "text/plain": "Saver not created because there are no variables in the graph to restore\r\n"
     },
     "execution_count": 1,
     "metadata": {}
    },
    {
     "output_type": "execute_result",
     "data": {
      "text/plain": "Restoring parameters from C:\\Users\\grego\\source\\repos\\IsItKrampus.NET\\workspace\\custom_retrained_model_based_on_inception_v3.meta\r\n"
     },
     "execution_count": 1,
     "metadata": {}
    },
    {
     "output_type": "execute_result",
     "data": {
      "text/plain": "Froze 2 variables. \r\n"
     },
     "execution_count": 1,
     "metadata": {}
    },
    {
     "output_type": "execute_result",
     "data": {
      "text/plain": "Converted 2 variables to const ops. \r\n"
     },
     "execution_count": 1,
     "metadata": {}
    }
   ]
  },
  {
   "cell_type": "markdown",
   "metadata": {},
   "source": [
    "If you want to get metrics on how well your network performs you can evaluate on one of your data sets (best would be something you didn't use during the training - in our case the test set). Just be aware, that you can basically \"spend\" your training set if you check too often without substantially changing your methods and/or dataset. You really don't want to overfit your test data."
   ]
  },
  {
   "cell_type": "code",
   "execution_count": 1,
   "metadata": {},
   "source": [
    "#!fsharp\n",
    "let predictions = trainedModel.Transform testSet\n",
    "let metrics = mlContext.MulticlassClassification.Evaluate(predictions, labelColumnName = \"LabelAsKey\")\n",
    "\n",
    "metrics"
   ],
   "outputs": [
    {
     "output_type": "execute_result",
     "data": {
      "text/html": "<table><thead><tr><th>LogLoss</th><th>LogLossReduction</th><th>MacroAccuracy</th><th>MicroAccuracy</th><th>TopKAccuracy</th><th>TopKPredictionCount</th><th>TopKAccuracyForAllK</th><th>PerClassLogLoss</th><th>ConfusionMatrix</th></tr></thead><tbody><tr><td><div class=\"dni-plaintext\">0.059051582379639034</div></td><td><div class=\"dni-plaintext\">0.9460550732886102</div></td><td><div class=\"dni-plaintext\">0.9736388272973638</div></td><td><div class=\"dni-plaintext\">0.9732142857142857</div></td><td><div class=\"dni-plaintext\">0</div></td><td><div class=\"dni-plaintext\">0</div></td><td><div class=\"dni-plaintext\">&lt;null&gt;</div></td><td><div class=\"dni-plaintext\">[ 0.003121420450103318, 0.0790081083835244, 0.09866153956639831 ]</div></td><td><div class=\"dni-plaintext\">Microsoft.ML.Data.ConfusionMatrix</div></td></tr></tbody></table>"
     },
     "execution_count": 1,
     "metadata": {}
    }
   ]
  },
  {
   "cell_type": "markdown",
   "metadata": {},
   "source": [
    "If you're already taking a look at the evaluation you can additionally peek at all incorrect predictions. There might be mislabeled images or maybe an obvious pattern, that shows how the network generalized a wrong way to classify images. You can use this knowledge to add more data or more augmentation functions."
   ]
  },
  {
   "cell_type": "code",
   "execution_count": 1,
   "metadata": {},
   "source": [
    "#!fsharp\n",
    "let wronglyPredictedOutputs =\n",
    "    mlContext.Data.CreateEnumerable<ModelOutput>(predictions, reuseRowObject = false)\n",
    "    |> Seq.filter (fun output -> output.Label <> output.PredictedLabel)\n",
    "    |> Seq.toList\n",
    "\n",
    "wronglyPredictedOutputs"
   ],
   "outputs": [
    {
     "output_type": "execute_result",
     "data": {
      "text/html": "<table><thead><tr><th><i>index</i></th><th>Image</th><th>Label</th><th>PredictedLabel</th></tr></thead><tbody><tr><td>0</td><td><div class=\"dni-plaintext\">[ 255, 216, 255, 224, 0, 16, 74, 70, 73, 70, 0, 1, 1, 0, 0, 1, 0, 1, 0, 0 ... (34839 more) ]</div></td><td><div class=\"dni-plaintext\">Santa</div></td><td><div class=\"dni-plaintext\">Other</div></td></tr><tr><td>1</td><td><div class=\"dni-plaintext\">[ 255, 216, 255, 224, 0, 16, 74, 70, 73, 70, 0, 1, 1, 1, 0, 96, 0, 96, 0, 0 ... (16181 more) ]</div></td><td><div class=\"dni-plaintext\">Other</div></td><td><div class=\"dni-plaintext\">Santa</div></td></tr><tr><td>2</td><td><div class=\"dni-plaintext\">[ 255, 216, 255, 224, 0, 16, 74, 70, 73, 70, 0, 1, 1, 1, 0, 72, 0, 72, 0, 0 ... (9968 more) ]</div></td><td><div class=\"dni-plaintext\">Other</div></td><td><div class=\"dni-plaintext\">Krampus</div></td></tr></tbody></table>"
     },
     "execution_count": 1,
     "metadata": {}
    }
   ]
  },
  {
   "cell_type": "code",
   "execution_count": 1,
   "metadata": {},
   "source": [
    "#!fsharp\n",
    "let wronglyPredictedBase64 = Convert.ToBase64String wronglyPredictedOutputs.[2].Image\n",
    "DisplayFunctions.HTML$\"<img src=\\\"data:image/png;base64,{wronglyPredictedBase64}\\\"></img>\""
   ],
   "outputs": [
    {
     "output_type": "execute_result",
     "data": {
      "text/html": "<img src=\"data:image/png;base64,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\"></img>"
     },
     "execution_count": 1,
     "metadata": {}
    }
   ]
  },
  {
   "cell_type": "markdown",
   "metadata": {},
   "source": [
    "To use it in other applications we can save the model as a zip."
   ]
  },
  {
   "cell_type": "code",
   "execution_count": 1,
   "metadata": {},
   "source": [
    "#!fsharp\n",
    "let modelDir = Path.Combine(projectRoot, \"models\")\n",
    "let modelPath = Path.Combine(modelDir, \"model.zip\")\n",
    "mlContext.Model.Save(trainedModel, preProcessedData.Schema, modelPath)"
   ],
   "outputs": []
  },
  {
   "cell_type": "markdown",
   "metadata": {},
   "source": [
    "Loading the model and using it in a prediction engine (a type, that makes it easy to get typed, single predictions) is relatively stright forward."
   ]
  },
  {
   "cell_type": "code",
   "execution_count": 1,
   "metadata": {},
   "source": [
    "#!fsharp\n",
    "let mutable predictionPipelineSchema : DataViewSchema = null\n",
    "let loadedModel = mlContext.Model.Load(modelPath, &predictionPipelineSchema)\n",
    "\n",
    "let predictionEngine = mlContext.Model.CreatePredictionEngine<ModelInput, ModelOutput>(loadedModel)"
   ],
   "outputs": []
  },
  {
   "cell_type": "markdown",
   "metadata": {},
   "source": [
    "The following code shows how you can play around with the model. Just pick a random image, grab its bytes and try out the prediction engine."
   ]
  },
  {
   "cell_type": "code",
   "execution_count": 1,
   "metadata": {},
   "source": [
    "#!fsharp\n",
    "let getRandom (a: 'a array) =\n",
    "    let rnd = System.Random()\n",
    "    let idx = rnd.Next(0, Array.length a - 1)\n",
    "    a.[idx]\n",
    "\n",
    "let image =\n",
    "    loadImagesFromPreparedDir()\n",
    "    |> getRandom\n",
    "    |> fun i -> Path.Combine(prepDir, i.ImagePath)\n",
    "    |> File.ReadAllBytes\n",
    "\n",
    "let base64 = Convert.ToBase64String image\n",
    "\n",
    "let input : ModelInput =\n",
    "    { Image = image\n",
    "      Label = null }\n",
    "\n",
    "let output = predictionEngine.Predict input\n",
    "\n",
    "display $\"Let me see. This could be {output.PredictedLabel}.\"\n",
    "DisplayFunctions.HTML $\"<img src=\\\"data:image/png;base64,{base64}\\\"></img>\""
   ],
   "outputs": [
    {
     "output_type": "execute_result",
     "data": {
      "text/plain": "Let me see. This could be Krampus."
     },
     "execution_count": 1,
     "metadata": {}
    },
    {
     "output_type": "execute_result",
     "data": {
      "text/html": "<img src=\"data:image/png;base64,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\"></img>"
     },
     "execution_count": 1,
     "metadata": {}
    }
   ]
  }
 ],
 "metadata": {
  "kernelspec": {
   "display_name": ".NET (C#)",
   "language": "C#",
   "name": ".net-csharp"
  },
  "language_info": {
   "file_extension": ".cs",
   "mimetype": "text/x-csharp",
   "name": "C#",
   "pygments_lexer": "csharp",
   "version": "8.0"
  }
 },
 "nbformat": 4,
 "nbformat_minor": 4
}