{
 "cells": [
  {
   "cell_type": "code",
   "execution_count": 1,
   "metadata": {},
   "source": [
    "#!fsharp\n",
    "#r \"nuget: Microsoft.ML.ImageAnalytics, 1.5.2\"\n",
    "#r \"nuget: Microsoft.ML.Vision, 1.5.2\"\n",
    "#r \"nuget: SciSharp.TensorFlow.Redist, 2.3.1\"\n",
    "#r \"nuget: SixLabors.ImageSharp, 1.0.2\"\n",
    "#r \"nuget: MLOps.NET, 1.3.0\"\n",
    "#r \"nuget: MLOps.NET.SQLite, 1.3.0\""
   ],
   "outputs": [
    {
     "output_type": "execute_result",
     "data": {
      "text/plain": "Installed package MLOps.NET.SQLite version 1.3.0"
     },
     "execution_count": 1,
     "metadata": {}
    },
    {
     "output_type": "execute_result",
     "data": {
      "text/plain": "Installed package SixLabors.ImageSharp version 1.0.2"
     },
     "execution_count": 1,
     "metadata": {}
    },
    {
     "output_type": "execute_result",
     "data": {
      "text/plain": "Installed package SciSharp.TensorFlow.Redist version 2.3.1"
     },
     "execution_count": 1,
     "metadata": {}
    },
    {
     "output_type": "execute_result",
     "data": {
      "text/plain": "Installed package MLOps.NET version 1.3.0"
     },
     "execution_count": 1,
     "metadata": {}
    },
    {
     "output_type": "execute_result",
     "data": {
      "text/plain": "Installed package Microsoft.ML.Vision version 1.5.2"
     },
     "execution_count": 1,
     "metadata": {}
    },
    {
     "output_type": "execute_result",
     "data": {
      "text/plain": "Installed package Microsoft.ML.ImageAnalytics version 1.5.2"
     },
     "execution_count": 1,
     "metadata": {}
    }
   ]
  },
  {
   "cell_type": "code",
   "execution_count": 1,
   "metadata": {},
   "source": [
    "#!fsharp\n",
    "open System\n",
    "open System.IO\n",
    "open Microsoft.ML\n",
    "open Microsoft.ML.Vision\n",
    "open Microsoft.ML.Transforms\n",
    "open Microsoft.ML.Data\n",
    "open SixLabors.ImageSharp\n",
    "open SixLabors.ImageSharp.Processing\n",
    "open Microsoft.DotNet.Interactive.FSharp.FSharpKernelHelpers"
   ],
   "outputs": []
  },
  {
   "cell_type": "code",
   "execution_count": 1,
   "metadata": {},
   "source": [
    "#!fsharp\n",
    "type ImageData =\n",
    "    { ImagePath: string\n",
    "      Label: string }\n",
    "\n",
    "[<CLIMutable>]\n",
    "type ImageDataAfterPreprocessing =\n",
    "  { ImagePath: string\n",
    "    Image: byte[]\n",
    "    Label: string\n",
    "    LabelAsKey: UInt32 }\n",
    "\n",
    "[<CLIMutable>]\n",
    "type ModelInput =\n",
    "    { Image: byte[]\n",
    "      Label: string }\n",
    "\n",
    "[<CLIMutable>]\n",
    "type ModelOutput =\n",
    "    { Image: byte[]\n",
    "      Label: string\n",
    "      PredictedLabel: string }"
   ],
   "outputs": []
  },
  {
   "cell_type": "code",
   "execution_count": 1,
   "metadata": {},
   "source": [
    "#!fsharp\n",
    "[<Literal>]\n",
    "let projectRoot = @\"C:\\Users\\grego\\source\\repos\\IsItKrampus.NET\"\n",
    "\n",
    "let dataDir = Path.Combine(projectRoot, \"data\")\n",
    "let prepDir = Path.Combine(dataDir, \"prepared\")\n",
    "let workspaceDir = Path.Combine(projectRoot, \"workspace\")"
   ],
   "outputs": []
  },
  {
   "cell_type": "code",
   "execution_count": 1,
   "metadata": {},
   "source": [
    "#!fsharp\n",
    "// I want to seed my global MLContext\n",
    "// and my global uniform random generator\n",
    "// to have at least some reproducibility\n",
    "let mlContext = MLContext(1)\n",
    "let rnd = Random(1)"
   ],
   "outputs": []
  },
  {
   "cell_type": "code",
   "execution_count": 1,
   "metadata": {},
   "source": [
    "#!fsharp\n",
    "let loadImagesFromPreparedDir () =\n",
    "    File.ReadAllLines (Path.Combine(dataDir, \"image_prep.csv\"))\n",
    "    |> Array.skip 1\n",
    "    |> Array.map (fun line ->\n",
    "        let parts = line.Split(',')\n",
    "        (parts.[0], parts.[1], bool.Parse parts.[6]))\n",
    "    |> Array.filter (fun (_, _, isIncluded) -> isIncluded)\n",
    "    |> Array.map (fun (fileName, label, _) ->\n",
    "        { ImagePath = fileName\n",
    "          Label = label })"
   ],
   "outputs": []
  },
  {
   "cell_type": "code",
   "execution_count": 1,
   "metadata": {},
   "source": [
    "#!fsharp\n",
    "let imageData = mlContext.Data.LoadFromEnumerable(loadImagesFromPreparedDir())\n",
    "let shuffledData = mlContext.Data.ShuffleRows(imageData)"
   ],
   "outputs": []
  },
  {
   "cell_type": "code",
   "execution_count": 1,
   "metadata": {},
   "source": [
    "#!fsharp\n",
    "let preprocessingPipeline =\n",
    "    EstimatorChain()\n",
    "        .Append(mlContext.Transforms.Conversion.MapValueToKey(inputColumnName = \"Label\",\n",
    "                                                  outputColumnName = \"LabelAsKey\",\n",
    "                                                  keyOrdinality = ValueToKeyMappingEstimator.KeyOrdinality.ByValue))\n",
    "        .Append(mlContext.Transforms\n",
    "            .LoadRawImageBytes(outputColumnName = \"Image\",\n",
    "                               imageFolder = prepDir,\n",
    "                               inputColumnName = \"ImagePath\"))"
   ],
   "outputs": []
  },
  {
   "cell_type": "code",
   "execution_count": 1,
   "metadata": {},
   "source": [
    "#!fsharp\n",
    "let preProcessedData =\n",
    "    preprocessingPipeline.Fit(shuffledData)\n",
    "        .Transform(shuffledData)"
   ],
   "outputs": []
  },
  {
   "cell_type": "code",
   "execution_count": 1,
   "metadata": {},
   "source": [
    "#!fsharp\n",
    "let trainSplit = mlContext.Data.TrainTestSplit(data = preProcessedData, testFraction = 0.3)\n",
    "// I need a bigger test fraction because my dataset is relatively small\n",
    "let validationTestSplit = mlContext.Data.TrainTestSplit(trainSplit.TestSet, testFraction = 0.5)\n",
    "\n",
    "let trainSet = trainSplit.TrainSet;\n",
    "let validationSet = validationTestSplit.TrainSet\n",
    "let testSet = validationTestSplit.TestSet"
   ],
   "outputs": []
  },
  {
   "cell_type": "code",
   "execution_count": 1,
   "metadata": {},
   "source": [
    "#!fsharp\n",
    "let preprocessedImagesTrainSet = mlContext.Data.CreateEnumerable<ImageDataAfterPreprocessing>(trainSet, reuseRowObject = false)\n",
    "\n",
    "preprocessedImagesTrainSet\n",
    "|> Seq.head\n",
    "|> fun img -> Convert.ToBase64String img.Image\n",
    "|> ((sprintf \"<img src=\\\"data:image/png;base64,%s\\\"></img>\") >> DisplayFunctions.HTML)"
   ],
   "outputs": [
    {
     "output_type": "execute_result",
     "data": {
      "text/html": "<img src=\"data:image/png;base64,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\"></img>"
     },
     "execution_count": 1,
     "metadata": {}
    }
   ]
  },
  {
   "cell_type": "code",
   "execution_count": 1,
   "metadata": {},
   "source": [
    "#!fsharp\n",
    "let imgBytes =\n",
    "    preprocessedImagesTrainSet\n",
    "    |> Seq.head\n",
    "    |> fun img -> img.Image\n",
    "\n",
    "let turnRight (imgBytes: byte[]) =\n",
    "    use img = Image.Load(imgBytes)\n",
    "\n",
    "    let newImage = img.Clone(fun img -> img.Rotate(90f) |> ignore)\n",
    "\n",
    "    use ms = new MemoryStream()\n",
    "    newImage.SaveAsJpeg(ms)\n",
    "\n",
    "    ms.ToArray()\n",
    "\n",
    "let turnLeft (imgBytes: byte[]) =\n",
    "    use img = Image.Load(imgBytes)\n",
    "\n",
    "    let newImage = img.Clone(fun img -> img.Rotate(-90f) |> ignore)\n",
    "\n",
    "    use ms = new MemoryStream()\n",
    "    newImage.SaveAsJpeg(ms)\n",
    "\n",
    "    ms.ToArray()\n",
    "\n",
    "let flipHorizontally (imgBytes: byte[]) =\n",
    "    use img = Image.Load(imgBytes)\n",
    "\n",
    "    let newImage = img.Clone(fun img -> img.RotateFlip(RotateMode.None, FlipMode.Horizontal) |> ignore)\n",
    "\n",
    "    use ms = new MemoryStream()\n",
    "    newImage.SaveAsJpeg(ms)\n",
    "\n",
    "    ms.ToArray()\n",
    "\n",
    "let grayScale (imgBytes: byte[]) =\n",
    "    use img = Image.Load(imgBytes)\n",
    "\n",
    "    let newImage = img.Clone(fun img -> img.Grayscale() |> ignore)\n",
    "\n",
    "    use ms = new MemoryStream()\n",
    "    newImage.SaveAsJpeg(ms)\n",
    "\n",
    "    ms.ToArray()\n",
    "\n",
    "\n",
    "grayScale imgBytes\n",
    "|> fun img -> Convert.ToBase64String img\n",
    "|> ((sprintf \"<img src=\\\"data:image/png;base64,%s\\\"></img>\") >> DisplayFunctions.HTML)"
   ],
   "outputs": [
    {
     "output_type": "execute_result",
     "data": {
      "text/html": "<img src=\"data:image/png;base64,/9j/4AAQSkZJRgABAQEBLAEsAAD/2wCEAAgGBgcGBQgHBwcJCQgKDBQNDAsLDBkSEw8UHRofHh0aHBwgJC4nICIsIxwcKDcpLDAxNDQ0Hyc5PTgyPC4zNDIBCQkJDAsMGA0NGDIhHCEyMjIyMjIyMjIyMjIyMjIyMjIyMjIyMjIyMjIyMjIyMjIyMjIyMjIyMjIyMjIyMjIyMv/AABEIASsBKwMBIgACEQEDEQH/xAGiAAABBQEBAQEBAQAAAAAAAAAAAQIDBAUGBwgJCgsQAAIBAwMCBAMFBQQEAAABfQECAwAEEQUSITFBBhNRYQcicRQygZGhCCNCscEVUtHwJDNicoIJChYXGBkaJSYnKCkqNDU2Nzg5OkNERUZHSElKU1RVVldYWVpjZGVmZ2hpanN0dXZ3eHl6g4SFhoeIiYqSk5SVlpeYmZqio6Slpqeoqaqys7S1tre4ubrCw8TFxsfIycrS09TV1tfY2drh4uPk5ebn6Onq8fLz9PX29/j5+gEAAwEBAQEBAQEBAQAAAAAAAAECAwQFBgcICQoLEQACAQIEBAMEBwUEBAABAncAAQIDEQQFITEGEkFRB2FxEyIygQgUQpGhscEJIzNS8BVictEKFiQ04SXxFxgZGiYnKCkqNTY3ODk6Q0RFRkdISUpTVFVWV1hZWmNkZWZnaGlqc3R1dnd4eXqCg4SFhoeIiYqSk5SVlpeYmZqio6Slpqeoqaqys7S1tre4ubrCw8TFxsfIycrS09TV1tfY2dri4+Tl5ufo6ery8/T19vf4+fr/2gAMAwEAAhEDEQA/APBaKKSgBetXrU7MoOv8R/pVRf3a7v4j93296ntDgmgD0f4a27S6tJJj5VWvQr/5ZSBXK/C+HFvPKRya6rUCPMagCCMbnFTFthqtbON3WnSSDcaAMXxhbfa9BuUAyduRXh+MNj0Ne76y4Omy+6kV4VMMXDj/AGjQAjEE8Vb0qPzr+Jcd6pmtbw1H5mtQL/tCgD6E0iEWuhQRgYwgrndVk/eN9a6nzBHp6KOy1w2sXO2UnPegCe1kygHbtU1yPMspVPdTWdYzhhg81dkmXyWyegoA8Vv08u9lX0Y1W71oa3j+1Z8f3jWf3oAkXrSA4DUq9ab3oAeo4rpba4DeHAncNXMk4GK1LSQ/2c6ds0AegeCvnMEZOB1r2Dw8PL1CVR93ANeN+C5Furq2ji4KD5q9t8PxDMkmOScUAdC5+Ws2Y7n3Hp/D/jV6T5vl/hHX/CqFznrQBMAPKrxr42sRptsmMgyda9jhbdDXmfxdsRc+HZXxkxncKAPnxfvUp+9TV+9T2oAQdaO9A6UL1oAcT8tC8jFK+MDFNXjmgCI8Gig8nNCjLAUAemaApXw/ZoerHIroizA1g6QuIrC37BQa1ricJcOp6g0AeM05FHLN90fqfSkRS5x09T6UOwOAOFHSgBGYsxJ6mrFn/rcetVqsWX/Hyv1oA9p+H7CHTHGOTWvez5dsmsTwVuksplUcLV+6ilZ2BbGaAI7K4L3jR7uBVyb5c85rGtYpI9QYA54rWkD4xQBR1Jt2ny/Q14pdgfbJQP7xr2nUhiwlLcAKa8WuiDdykdNxoAhPU1u+EF3eILcf7QrBY84ra8LMV1yDb97cKAPepWdrXKgniuA155PO2hT1r0raI9NUd9vNcLq2GuTmgDMsTKMYB5qxdPKkZODwM1ftEXYOKZfKDG49RQB5NqzB7+SRfuk/kfSqPert+PK1CeNvulufb3qmylHwaAHA80h65opaAG5q/ayYgdPWqAFWYc4NAHqvwwswYp7gjnoK9n8P5+x8feJ/L3ryn4cRiPQ3c969Z8OjGnqe5oA1mAVcDpVC66GtBzxWfcng0AFocx4rkfiDAJvD12uM/uzXV2bcEVh+LY/N0q4T1Qj9KAPlIDEhHoac3WnyrsuZVPZyKYaAG0q0lKvWgBXpBSv1pF60AQnqasWMRmvIox3YVAwwxrc8J2oudZjyMheaAPQdBtzLqqqRxGlWL1UF7Lx/FWl4dtgk9xLj2FYepXO3Upxjo1AHlLfIuwdf4j/Soqc3BNBUgKT3GaAG1Ysv+PuMerAUltay3UqxxKWZiBxW/a+H7q1P2iSJXRTksGyRj2FAHqfgeDydJlduNzYzU97PGs0hLr0riYPEM0diIobgiNWKshHX0I/z2qI3cmz9w7zqV2uSMFTnr/8AX96AOqXULVLtJDIqryCT2rWMyuxAIOBniuAvbljbqHTDDP3h/C2cfWrmi6s9r5QnVjHyhfOduOmfwNAHTavF5ul3CjqUNeFygrM6nqGNe9XTq9q46Aqa8L1FNmozr6OaAKorpPBUBm8Q2+B0YVzldx8N7cSa5Ex7NQB7Re/u7ID/AGa4HUfmn/Gu/wBU/wCPYj2rz6+OLrHvQBatVIiFF0u5DUtqV8oVHdHCmgDybX4/L1eYepzWenzjYfvD7v8AhWz4pTbqhPqKw160AL3p/AU0hJJyepoPSgBFqeH5sADknFV1qeB9jZoA928B23l6Ii/7NekeG332RT+6cV5Z4M1dLjSFEY2lVwa9R8MRGPTwx5LnNAG1Ipx1rOuVIBwc1pynisu5PWgCK1baxzWf4gw9lKP9k1qW4V1yetYniVzBp80i84U8UAfL1+uzUrlfSQ/zqqTVi9l86/nkxjc5P61WIoAKVfvCm09etABJ1pF60snWmjg0AI/3zXZ+ArYNJPMR0GK4tvvV6P4Dg2aVNKR944oA9B0aMR6e7nua4XU5gdSuD/t139uvk6PknHy5rynULovqE7Z6uaAOIk/1jfWrdvZy3jIijgD7x7VTblj9a6DRUkhgDkZ3MCMjt60AbWmaTBZB/IY3DLxIGG0n6YJ/WtF9VmsoGiiWAx/wqUwRjuCO9ZN7dqIylsEJ/wCWg6MTVe2DSZSaUOrHJy/b/PvQBGb2M3nmogiYj5lXGD74PStaC0U2sjTyyRq653AYZR2YY6gfhVK8ghtiPLttz4+bkEfXINX9D1Uwhra4gzFggEtgDP8AL60AVXg1NoUMT/ao0+6zHcQfbvg46VBLeNDbNbuhiJO5gemfatSTzIoWNogSUHCx/wB/29zXN6nqr6ltaWEJcRccLjI96AOi0jxJ5Ua20k5RBnDMNxx6VxusSb9SmbAwWyOOKfFMZPvhc+tTTRx3URWRhHIuNjkdfY0AY1ekfC2MHUdx7AmvOCNrEeleifDUssz7fvEcUAesapcRrCckV57qcqm44IzmuxvbCWaIl3OK4PVrB47n5H70Aa9m48sZNJduCp+YcVn28c/l434ptzFP5DfPzQBxXijDXSt7Vz61ta8HSVVfk1irQA9RlwD0JqTYuMkHpnGajQ/vF+tS/wAB4x8nrnt/+qgBDEoyOeuM5/z7UkfWpSPnJz/Fjpn0qOEbpAPU0Aeu+C4RDpCkdxzXtWgrt0yL6V494WGzR0BHpXsmirjS4f8AdFAF2Q8Vl3XQ1pydKzLrvQBBZvyVrG8XybNGuj6If5Vp2zYuCKw/Hj7PDt23+waAPmaU5nkPqxqM09z+8b60w0AJSikpRQA5zmmUrU2gBG5avVfCcXleHY+PvGvK1GXA969l0eDydGsY/wC8AaAOk1CTydEP+5Xjl3Lm6k/3q9X8Ty+To5AOOMV47PL+/f60AZdraveXiQx9WNdLeXMVuPJhONqBcEfe6ZP/ANasgRvpcifNiZwGOB90HkVDJIWYBjnAwT1oAuzTx5aSEkSH8qgMxO2QZAPDY6g+v0qBFZWJU8en+FPh+eUrkBj0HrQBfgnbzcqxJPYGr6Ssk5ZpDKHHBIGT/wDX9qpw2qzxMIyVuI+dp71LJNFNAsiqFnX5XG7Gcf1oAnubvzLcP5jCRPusTnPsawZ5pJJmdjyepz1q9cXscxyoKSdJFJ4b3p9ppL3HmNlUdEL7ScYHXvQBlKFAKYyXbOMdKsLmTdG+OBgZ9R2p20MyowxhhlupaqMhaGYgc4oAhuI/LlK9utehfDqNl1C354YEkV5/L8wRsckYzXpvw4g338L9ljJoA9Ovh/o5HtXAapGRP+Neg3nMRFcJqgH2g/WgCFTthHFOkUGHpTo8GPB9KVseUaAPOvFceLhG7ciubNdb4rTdCHA6NXJGgCRP9Yv1qXtjoSuMEjrj/wCtUJUjGe4zTaALXBYt2z1yPb/Clshm6j+tVqsWmRMrDseaAPbvD0Q/sTd7V61o3GlQZ/uCvKPD3OgR9sgV6towP9mQgnoooAtSsAKzJ+a05VXFZs4AzQBQjO27xXP/ABDfHhi6/wB2tkSn7cFPSub+JEwHhmdc8kUAfOz9T9aZTyM5puOaAEopcUBTQAhpKUimmgCzp8JuL+GIdWcV7hBEqyWcA/gUZryDwrD52v24I6NmvZLAB9UJ7KKAKfjSQJp23PNeRSuPNb616p44YfZxXlEpHmt9aAJb/wDeytgbWzzj6dKpEMq8/Srd1MfPLMQynrt4OKg8qRnwjK2eee4oAbuD/WrdrBHcN5bn5v4T0INNhtFYjergnsMfzzirkEEJOxtwI5GQFb6e/wCFAEsyzW0aszYlj6MOCR7+orMcmedn/vfeFbEsVzKqRs6tn5RuYc/QnrXSeEvA76lciSQAIrc7hx/9egDjodJuZJFAjMoYcMvPH0q/Pa6tZQCKSOfbyF3p0HpyM4r6EtPCFrFaJHCkauOrKnA/A9K5rxvol9p2nJLZWhu41++e+T3IoA8TnjaDa23LR7cj0OPSs2QYjJ6s3NdJqVnfpE73cP2cyEYj7n61gSR5kaMngYANAFdmH2MLx97Iz1r1X4YqFncHqIhXlhj+VR15r1L4fv5eqSjoPKFAHoN4+EINcRfKZL5geldLrOqW0Aw0qg/WuPudasxIX8welAEsakOYz+FK8RRGGTVL+27RcvuyaoXfieIL8qmgDL8TRgWLE+tcagAG9hwOg9TW/rOqLfx7AcL1PtXPO248DAHAHpQApJYkk5NJ3opKAFqa3JWZSPWoKmh5cUAe2aDeR/2JaqnPQH2r1/ST/oERH92vEfDERTRYn5OSOK9v0f8A5BsJ9VFAE8prOufumtKUVnTjrQBgPII79M9zXEfFa/2WCwKep5rtNT+Vww6g15N8S7w3E6rnoOlAHnLHimd6U000AFOBpuaKAHNzzTDxTieKaaAOq8BweZrRkI4Rc16npKkyyyeprzz4fw4jup8dsA16Vpy+Va7j1PNAHKeNrkcR5rzCV/3rfWu88Zzh7pvYV56zZYmgC9HaSXc8SRAkuCeR0A6nNSfZNh8stnHQg9DXp/w70WBdVspZgCr2DOAT0LcfyqPxJpVs10LeKFVKyFmYDrmgDhorO4uoVRkc/N1J6mtWz8H3RXLxsMnAU4JzXpGi6HbpDGXjDMMYNdPBYwIQSgyDmgDzvRvAc5ukZyxUMDnd3/KvUtE8M2mnDfktJjHU4qeIKijaAAOmKvW7ktyaANAFUXaBgYqrcgOhU459amc8VWYhuvSgDyH4g2hN+LhsBI12rgdyc15pfWAQCXA3M2SoH8vzr1jxw/2nWVtgV2hSSG6ZwcVw+o2Mk6xwxxkcFvx//Uf0oA49LQnO0k4PHuK7vSEmtJY7q35zHhhXPNaGGCUmMEYPB7Z5BH612Gg2krWafN1QUAZWrz25/wBJmYs7HGzPSufeW0ZsH16VteIbX7PKWZc1zUSK9z04oAtyKpU+UmBjrWfqUMiWayA/MxxgVtOqpD7GqviECLS1xwx/QUAcnK3GwHI7n1NRUtJQAtJS0UAFSwH5wfeoqlh4kGfWgD2jw2N+l2cS9WYV7RaL5FtGP4cDPsa8P8Jz+X9iY/d4r26GUNboeoIoAmlIArPkOc1LJLg7Dn2PrVWV8A0AYGsgsCBXiHjmUtqpjz0r3LUWWTI714b46hMWuMT0NAHHEGm45qYFc4NNJUGgCPFFOLDFJgGgBDTTTiKAMsB70Aem+DLbydBDY5lau5b91agZ6Cue8PW4TSLGPGMjNbepOI4GB4wOKAPM/FU4e5kI+lcZiuh16QvI+PWsPyl/ik2t3GOlAHrvw71KOe80rZwfswhIz0Kgg9fp+ta2toG1aY5U/PyfWvKfD+o3GnWMNzbMVliuioI7BlH+BrqbO5urmdriVydxyc0Aer6IiyW6r7Vsi2YduR1rivDesr5JV2UFDg813Ed0slmsikbsce9AEcO8kjjFalvGV5LfpWLDdKGLCtCG9V84OCOtAGmSTnBz+FULgurcis3U/FmnaQMTSqXPRc81Fp3iSz1pCYJATnle4oA868ZM8filgxKq0O9Se5HGP1qxE9rcWhuIypYoGB9MAf411viLw7b65aPuT/SUUmFx1BFec+HlZIpVcgFC0ZXPQ45H+fSgCOK1N1NcJs3LtOQe4wc49x/jXQ6Nb+Rpy55IXrUGj2kdzcS3F2sotDGdoiGGdj6H2rVigMAeEElOqFhyVPSgDkvEOH3AjmuTaHyrsYGNwrqvEiMjE9RmsGdfmgmP3R1PtQBHMSIfmHORge9UvEcgawRc5Oea0bpPPK7eMkYrA8RHbsSgDAoopKAFooooAKfH94UynIcMPrQB6/oEYbRrNx94MK9x0zH9nxf7orw7wu6yWdhDnkkHFe3accWaD0FAD5gGBGOexqo4V1ORz3FWZarSD+IdR+tAGDqkOASvFeaePdBlms/tYXcVHJr1q8QOh7g1z1/Ct1p89vIM/KRQB82ty2KQ1av4fs+p3EX91yKrGgBtKKQ0lAD+1LbKZbyJP7zAU0dK0/Ddr9r162THG4E0Aey6bD5f2WMD7qCk12TbG4PTFW7Zdk446CsnxJLi3ck4AHagDzDVJAJHfrydv+NYLOdx5rT1KQu7E+tZVAG1pLRiwnT5vNE6MeeNuGH8zXY6JqNrGvlTOBnk57VwcGYr5wp+U5zT3dowZC2MngUAep2HlfapZYLiNo2U7vm79jW1Y+JxBo6xSON6ZUc+hrxRJ723A2FgGGRg9asafc3l9qUNs0j7mcKAT60AexR+KYY42leUBSO571zuufE91ha2sI2D4IMh4wa2tR8CeVodsQGZj94E5rgp9FS31ZYp03YYHGOCv+IoAq6drMc979o1eSa5J/5Z7sD+fNem6Pf6ZPBFNpbeWVPzBeD+IrnJ/B1jquoR3ELMtu2NygHJ6ZAH9c967fw98PU0yRZEmJV+WjYZIHYZoA6vT5DNbI56mvLvEEBsPEN7BH8v2h1K4Hck/wCNetR2y2sYjQYArhPFNpHN4u0kkDEkyhvbmgDotD0iO20pSeQ/T2qhfI0UhDnJ28fmasaNe3VsLuzviW8h2ZCB/BnIxWLrWtWY1GdFnX90oBye+M/1oA5XxGWcMAuSawflktVi9P51sXN/Fdgup+U96zmEYkBXHJoAqW5GSrdVrnPEjf6Sg9q6CX93dMR0Ncz4gk334UfwrQBkmkpTSUALRSUUALTl6j60lKvWgD1nwjERdafjn5M17dYviED2rxjwEfNubUnkLGK9ktjhBQBZkIqI9Ke3zUm3igChcLjP909fY1gXkZVmPYiumnA2kGsK9jOMfkfWgD528WwfZvEt0vZmzWNXT/EFAniR8d1FcxnigBp60lKetIKAHfw11Xw/tfO1wynogrmIbd7q4jgjIDOcDJ4r0L4bWhWK4nYc7sUAegRHLsa5XxVOBAw59q6VGKxOc9643xZJmE9s0AeeXjZY1Qq3cn5qqUAdHdrapMAke2Q9Pf3qFbUyOvGRVaeQtc+YZN5LZzXTaTbLctGD+NAEdppqRp5pQ7l5GTmqWhxMPFFrM463APP1r0JNLiS2JVc4XPNcjZws3iSBVHJmGB+NAH0e8Iks4lIz8lc1rXg2z1MrcKoimHde9dHFKPs0Oc8IBQJ0Yc+lAGBoXhx7E7ZJQwU11scCRrwfxqBVBUH+Kkd2UHnigCO8IOQK4DxBKG8V6TCOf36ucdsHnNdtNLxk15zr0gk8V2wQgtuTjPPJwRQB293PAkgvVZHh2+XKq8kDu30r5h1bUJ7jU7q5WRws8rNjPqeP0xX0L451CHRvBWoatbjbJPF9kRFHAZ/lGfpzXzjnMfKnIHI7/SgB9vq9zDHs3kjoM1sWWtxum2Xhh0rnJVjABQ9ewpikgjFAHZvcLJHuBya5nWG3XxPtVq1vD5WG7Vm3svnXBYUAQGkpTSUALRRRQAoFPjUGQA9zUY609ThhQB7D4KieDULeOPlCgr16EMqivKfhyPtDJKedqAV67FjaDQA8McVG7t6VKSMVGRk0AV5HyDkVlXzfJ/Wtlk9qz7yIGNuKAPn/AOJSj/hIEcfxJzXH46V2vxNj26zG3qtcUv3c0AMbg0qKzsFVSWJwAB1oPrWrpUEtrcxTzxtFHMrLFKw4ViODQA63snVTD5TRalCwmQN/y0UdhXqPhizW30t50GFnPmr9DzXlE95dxyRWswP2m3lyspPzAenuK90sGEfhy2MkIK7R5kfQox7j60AV2O2Js9K4fxZJlQtdxdeWIyImZkxnLDBFcB4nOW60AcRcdTVOrVyeTVWgC6WJJJ9c11/hy4BliBPXFcg4wpY1taBcYCc8qaAPV7idF01jkZK1yHhNBP4rE742Anbn1qS/1OQ2ZQEgkYrkY9Xn0m+WSFidpzigD6jJja3iAYAlcn2rntdluFjjuNPYStESXVT95a8nuPHV3qOmrbGRog2BIqsQWXuM9s13HgrWtEsdHaOIFAz5O9s4z/KgDsNC1hNQtEfPbB9q2yMrxzx+dcXm1tb83mntmGY5kiHRW9RXQxapAtqZZWCADPXOaAK+r3kdrGFcnc5wAP1NeVaxqkcU1vcltssEm4sOec5B+hrqfEmpRySG5id9yuBhh9z1Uj3zXmmsSoEZR1ycD1HpQBufEjxjZ61odtp1hIN0zrPcqOiOo4wffOa8wd2RFdh83QipZwdzE5wBw1UXdnPOPoKAFBz+JpFBznFSQwPMSEUnHpSiQJlWHIoAdvwh7VVbrTi25s0h60AJ2ooooAKKKKAFHWnDrTadQB7D8J5t0bLnvXssedorwT4V3nk6iYj3r3mGQMooAmC5pGGKfTHNAELvVO7cCFj7VLI2GrP1OTbauQe1AHhHxKuBNrgUH7origxxiuh8aXAuNekx/DxWJaWst5OIogM4ySxwFHqaAJLa1aSJ7p8CCEgtu/i5+6PetW6u2hv3F0xm068UFSOir2I9CKRpRAy6VfRJFbsgAkTn5u0marwr5TS6NfnahbMUn9xuxHsaANSz09tQ1O2tpSGvICGSQf8ALeLsfqK9iuXYW9uRw7xlXGOo6Zx/npXlfg20uGvfLukZXsZAYZO/PVR6jvXpV7M7L5jMS2OpoArXUipbsAea8516cyTkE9K7S8uP3Tc9q8/1dt0rNQBzdy2ZSKgqSX75+tR0AX7j5YwO+BU+kyeVcYPQ81C7CS52kEr7VZiia3G9WGw9CaAN2+vT9l2qo34656VzoiM1yu4/ePU+lTzXO5cgcKMY+tV7UST3CRKNpJwN1AFg4S4kXhSpGPpVy2mKRttkwAynitnTfBst5Pma+iTcMZVcn9aTUfBwsmKRX/nNyRsHH40AaVrrN3HZqI7koAuXUjPHTNXLLX5TAsZuDI6sGVQMg4/p0rjhJc20CpIxYLkYA9B6+v8AhT7eUlt8W7kfMB2oA6m/1d7q9EgGAV/egKecDp9a5e9mE9xMgHyhSVIPUetW57/yrR2jJVmHOScqayAwkGM/PyV+mOf1oAx7t380o2Bjg+pqKGF55VjiQsxOABXcaJ4Qs9d03z/NZJkba4/lXaaL4R03SVDLH5kv99hQBz3h3wsNO0a5nu1/fyJkD+6MV5teLtuJB/tGvoS5t91lMB12GvAdRiZLyYEdHNAFMUh60opp60AHaijtRQAtFIKdigBMUtP20hoA7DwDL5OrpIG6HkV73a6rEYgdwBHvXy3Y6hLYTiSJiCK3Y/GuoqxPmnGOmaAPpGPWYGOPMGfrS/2pFI5UOvHvXzfF4xvd2WmcfjV7TPFN6t6bgXDMpPIJoA9/eVWwQRWTrcwSxfB7GuGj8c42lzx9abq3i2OfS5nDjO0gDNAHlmsO1zrM+0FmaTAA71ct7F9PLw3hVYbtPKMqNny264NVrIOs39q8SJDNmRB94A/xVJJZyrefZftIFlct5wlY8MOufrQBLPo2pTQRQSy2+IsiIGQZbPYVCg/tG0a0n+S9tgfLZ+Nyjqp9xTv7IPmS26yH7YmJICDxInt71DrYJu4t+03AiUTlem//ABxigDU8L6/LDqUQu52aNRtXPavTlv4LpREHBJGRzXhYVl+YcVs6brs1vIu5zgdDmgD0XU02xOQa4W/bcWHetNfEP2iIpI2cjrWXNskcsGzmgDnZQdxqOrt5CY3PpVSgCzu+bPTvkVI13JIwBOSBjjrVbrSdGzQBpw/vGXzCOuMenvWpbQRcOsZXDY3Z4rEtpeVDHPtWos+EzkAjpjoKALE9y1s7r5rFsqcFj7VpWOpgquPm2g8k9Oa5SV3llc7txyTzUsE0kS54/wBkkdDQBtX8itM7ruK/xA/rjFV418vbjAB7A9vb/PWohcI6hgDnHr+n86SWbFpGSw2knBx0oAjmnZlbLg8Yz0/yetGjBpb4qWJzG4Of901SlfLHLAgHjPNWdOmZJ2kAO7BUceooA39G1O50O3t5IjuU4EqH+Lrx7H3r1XT5or60huYG3RyqGU143NIoij4bLPnk9sV2fw711FlOj3B27yXtye57r/WgDu/J3qyHuK8T8VaRLYatOGQ7GYkHFe9BVDVzviTSra+tX8xAWxwcUAfPsibWOKiIrT1S2+y30kXYGqiRmRgoHJoAr9qKvf2XdM5VYmPGc1TdCjlSMEcUANHWnDk1qabo097C0u0hB0PrU40CfdjaaAMikrXbQp16A1QubOS2++DQBTYc02pCM1GRQAtSxTyRAhWxmoqKAJ/tcxGN5q5pitf3XkzSMY1UuYweXx/CKzKdFI8MyyRsVdTkEdjQBvR3MIQ6haQLE0XyXNt2ZDxmpPJgMa2hfNjcnfayn/lk/wDdNL9ri+wy6jbW0bzOyrcowyFHrj0JppltLeE7gzaddqWVB1ikHp+NAEV5HPaaRDHdgrOkxEODyExzz6Z6Vk7mA3Ede5qQ3spjKMxcHoWOSKgkkLjmgBGkLcdqZ3padtDJlRyv3h/WgBFldehNSi7kXvUFFAEz3DSfe5qHAoooAXNLuJpOKUcmgCaI7T61dhmwr5H8JH6VQTHJNSqfLGccZxQBMjDzfmPDA81MJPlyQSrZwPwqlgl8k4XGc+1PErOSR0A4FAExl2lcZx3FTzTK9tsJGAwbIHHSqIJVM4B71IrbVZSM0ARMTswMYzWrYxnG4Sqpxu69/T61lx5LYK9K2rTAAJgDchyRkfKOooAfeysJ44vMVwgPTt0H8hUUTtG6yRuyOh3Iw6g+1V0czSySDoTx9KsDj096APSLD4hxvZQi8gIuMbXZeAT6/jU0/i23uomVISTj1rzMHg55B4P0qtPFcR/PBK+D0AY80AW9WsLnUdVkEEQDfeILUyz0K9huVMkS9f7wrPlupFWN1llWbo5yaiN7d53faJv++jQB6Pa+XDEN8C56H5hXMatY6Suq7n3LvOSoOa577ddY/wCPiU/8CNXdLjkvr4tIzPtUnLc0AdHa+KLC1Q2xtdsafdx3qaDxbpTpmWFkbOMYrjRGr3uyViiEnLVDJt3YXJAPXHWgDux4l0Usflb8qytS1LSbyNgqNk9OK5iMgEkg/lT2dScgHj2oAryJ852AkZ4pphk/ump2IBGCfel38HMh9qAKphcfwmkMMg/hNW0ZS5Dy/Lj9aaxJX7/NAFQqVOD1owRgkcHpUoXcxLH5R1NNkbc2Tx6D0oAs2V49jciQDfGw2yIejKeoqXUJhcvHDaxMtrECIxjk56k1RjKmRd3TPNbttd28bLkrtHqKAMMxyDqjflTdj/3DXVXF5ZSFcMmO/FVLqe1ZcQsoP0oAwTG46ofyoXcjAgVekcvx5i4qBlUrkyDIoAgdcYZR8p/T2plTqwGVY/Kev+NRsNrYOPr60AMpdpPODVi1gN1OsYI5NdSsOlwKImOWXgmgDje1OzgYpKAeRQA9TxVk5kWNFHQ5NVl4Jqzv2JkjLsOfYUAOmXCCNTkDrjuaIFOD34wRUILMQSep6VIkjCUc8ZwB6DFAFp1Ta6k4I4X36VWKlWZCQOMEU+SXdhSeMDkUGBvMUcDcBg9qAFiiVipORzyauTy+RbNsmbcSY1XGDt9f/rVYh8xIGdjGVx5OSBn8P8ao3cvn3ES7VVUUDCjGfc+9AEkShYhjsKk3EAHj86BwMAfnTTggdcj2oABJwevSlif5NpPB6H0NRBsyY7U1W4+8M0ATPGsgww+b1qvNG6JjAK+oqwCZF/2gPzFOUHoehoAy+QMDFbPhuZlvZEIHzIR0qs1srSqw4XPIrsbXQIYrMXkA+YLk0AZN9psZt2cKM4zXNEypFu2/JnAOK7qFRdKsI53nFRale+HdP0S60uVS16k4ZCB+f9aAOENw/oPypv2hvQflVkXlmZvmh+Sun0rRdK1aHMEg39170AccZmI6D8qjLE13914NhjAKnjvUc3g2OS03xfeoA4LFO8pvl4+90rXufDt3C5+Q4FZ84MKiIn5xw3t7UAQOwwFX7o7+p9ajPNWrGBLi5VHcKCe9d1Z+Cre7tRIjA/SgDzzpTmDqillIVvukjr9K9Dl8DW8MMksjbVjBJNQT6vouvaTo2hJa+VNZl1M2AN2f8igDgcmkr0iPwPZn70gz9aoah4PigG+NsgdaAOFoHJrszoWnrYszOBIB0zXLXcccUmEOeaAK7gKxApVO9dh+8Pun+lLcBfN+U5GBUZoAu6T/AMf4HfBrQckOc+tUdOYNfRvnDdG9/etCSNvMbjvQBg0uaKVF3Hk4A5J9KAFTj942MDoD3NOVy2Se461G7bjwMDoB6UgPyjHWgCcHK5z0NKSA5PFQoxXJoByxB/CgCztJIX14FW4WAQ+ZHuHQexqijEEcnrwBWjFGyp83X09KAH/eIGMVWyDdMxHA4FWA+0k5AwKrRDIOT1oAtBsr1yKGOVyAahyVPWiViF60AEYy5Pbmrug6NdeIdZtdMtAPNnfG5vuoOpY+wGTVKIqoBY4Hc1t+H9Vj0XTtUmVmF5dQG0hZTgorEF2/FQV/GgC7rlzodvcf2XodnEbaE7G1Ofc00zDq4AICr6DHSsV1ZSVwBtO0gdAf8PSq6SoeOOKvfa1a1aEwpucplyOcKCOD2zkZ/wB0UAV9w54xjrW9ofiBtP8A9GuVMls/Hun+IrBZe+QQeh9qTP6UAb765p2m3rzQksecD0rhbyc3d5NO3WRy1ad1arcqWB2yDofX61kSI8LlHGCKAEAq/o+pSaZqEU0bHAPI9RWeDS9OaAPbUlF3ZrL/AAsoNFjPGkEhkYBF5Oa5my1kR+GoMN84XBrm7zV7owSgyMsbdcUAXfEHitpp3S0ULGMqp9feuOZmZixOSeSaGcuxJ/L0pKAAMQcg4Nd98PtdaK4mtbmUeUF3AselcDinpK8edjEZ9KAPQ/FPjeC4tbixtBneNpevPIpGhkWSNiGU5Bpmc0UAaB1rUS+77VJn61sab4mnEEkNy2/I4JrmO1KDigC3dahLNI3zkAnpVNmLHJ5pCc0lAC5pKWkoAkgcpcRspwQa6vykbncBmuTi/wBcn+8K9EgsrB4I2e7KsVGR6UAeeBSxAA5NLJhRsU5Hc+pp+PLX/bYfkKjPWgBmKVRxS96khUeaQQGwCcHvQAxBlgKmMJyMBs5wOKaAouiqcrnArXjhAbcck+/agCC2tDH87nL9varXbjFOI7c0Hn8aAKNzwuP73FIh420tzzcBcdBmkGN3OKAEc9s0jSfKMngUj8uMdDTJoy2GH3R1FACIWuJADwnYVPOOVIJ24wPwplv8oZzV2VVl0SCdV+aKV45Tn1wVP8x+FAFSM7WFXQ2RzVBSd1XEbAyaAJVbKhScDt9aQttyCOc4x3pjMO/SlX96u5vvKPzFADhkct+VQTxpOpRhg9j6GpJJOP61Dy2TQBkFSrEHqOKXqKkuhtuX9+ajBoA6PT4pDYxoc4NUtaIREjXpn8/etGxvALJVONwGG9vasbUZRc3HynIWgDPFHepMc0mNvWgBh6UgoY5ooAMUUtGOM0AOxxTTS7qbQAUUUUALRiijNACocSqfQ110bho1I7iuOzVlNQnRQobgUABycsTk03bUmOBRigBm2pWgyobHB7ngU08CrEbL9nAJbcDwO2KAHWcAi+dh856ewrRTpVFXq0jcUASM20UigsAT096ODkkcfWo5JMKcdMUAVZwDcsQfamnGcUifMST3oY88UAITz0/KgNhfXsabmkJyCM0ATHCQEDvTYJ2hVwQGRxhkPQ06KLzpYIC20SOF3emTivef+FI+G72yhktb6/gdkHzB1cH3wR/WgDwqaERXAweGVXHPTIzS54Ar1W3+DTaq+oG21sRGyuDaKJYM7wqjDEg8Zz6V5zr+gX3hzWZtK1BAs0WDvU5V1PRlPoaAM9fm5OcdqXftIYHmmlwAR6VCZMDFAEsjgscDGaXdtAA7022RppVJ4ycCr8+lXSXKIfLO9/LUq4IDeh9KAMK8GZ8+oqJW2HOOe31rVudLnktluEMeArEKWwzAdSB6VjmgCaO4kRGQHhqRDtHPWoh1p3WgB7HjNMJyvvSN0FOXpQA0rikPFOJyaaetABT/AOCmU4nigBtFFFABRRRQAvam0p6UlABS4pKM0AXcc0GpZwFkOBjgfyqI/doAaTxSo2BTW6UgoAso1WYmzVBatQ0AW5DhRiq0z4hI7nirTdKpTdU+poAF4TNNYZ9qcPSlIzj60ARbcf40ADOPSnn73403+P8A4FQA5mZdhXOQRj619D+FPGEFjoNv/bMr2U0USkx3ClWIxwQDXlngiGKPRNZ1cRIb60tw9vKyhvLb1APGffFcdqV9dX97JLd3Es0jNyzsSTQB9GeD/GuiXM2qqb6NGnvnljV8jcmFAOe2cGvPvjfd21x4i0xoSC4tDuI7jecf1rydJXhZZInZHB4ZTgitPVpHuYLGeZi8rRYZj3waAM9pN5wKmjh5DN+VAUKowAKsxgbKAHRELNF2O9f5itpo2tbxQ+0ma/LrtOeMHr6HnpXOqT9rhGf4x/MVtRc3sn/YS/o1AFOX7Sws5LaISMltJuBPRSzAmudH3a6MH/StP/69Jf8A2eubH3aAFpRTRThQAN90UdqRulK1ACd6Sg0UAFFLSUAFFFFABSgUlOHSgBDTacaaetABRRRQB//Z\"></img>"
     },
     "execution_count": 1,
     "metadata": {}
    }
   ]
  },
  {
   "cell_type": "code",
   "execution_count": 1,
   "metadata": {},
   "source": [
    "#!fsharp\n",
    "let randomlyAugment (augmentationBase: ImageDataAfterPreprocessing seq) (percentage: float) (augmentation: byte[] -> byte[]) =\n",
    "    let randomIndexesToAugment =\n",
    "        let n = Seq.length augmentationBase\n",
    "        Seq.init (int ((float n) * percentage)) (fun _ -> rnd.Next(0, n - 1))\n",
    "\n",
    "    let pick (idxs: int seq) (s: seq<'a>) =\n",
    "        let arr = Array.ofSeq s\n",
    "        seq { for idx in idxs -> arr.[idx] }\n",
    "\n",
    "    let augmentedImages =\n",
    "        augmentationBase\n",
    "        |> pick randomIndexesToAugment\n",
    "        |> Seq.map (fun img -> { img with Image = augmentation img.Image })\n",
    "\n",
    "    augmentedImages\n",
    "\n",
    "let augmentedImages =\n",
    "    [ turnRight; turnLeft; flipHorizontally; grayScale ]\n",
    "    |> Seq.map (randomlyAugment preprocessedImagesTrainSet 0.1)\n",
    "    |> Seq.concat\n",
    "\n",
    "// hacky hacky hack because Key Column types in ML.NET are weird\n",
    "let postAugmentationPipeline =\n",
    "    mlContext.Transforms.Conversion.MapValueToKey(inputColumnName = \"Label\",\n",
    "                                                  outputColumnName = \"LabelAsKey\",\n",
    "                                                  // super important to use `keyOrdinality` consistently\n",
    "                                                  // otherwise you kill your network performance\n",
    "                                                  keyOrdinality = ValueToKeyMappingEstimator.KeyOrdinality.ByValue)\n",
    "\n",
    "let augmentedTrain =\n",
    "    Seq.concat [ preprocessedImagesTrainSet; augmentedImages ]\n",
    "    |> fun dataset -> mlContext.Data.LoadFromEnumerable(dataset)\n",
    "    |> fun dv -> mlContext.Data.ShuffleRows(dv)\n",
    "    |> fun dv -> postAugmentationPipeline.Fit(dv).Transform(dv)"
   ],
   "outputs": []
  },
  {
   "cell_type": "code",
   "execution_count": 1,
   "metadata": {},
   "source": [
    "#!fsharp\n",
    "let bla =\n",
    "    mlContext.Data.CreateEnumerable<ImageDataAfterPreprocessing>(augmentedTrain, reuseRowObject = false)"
   ],
   "outputs": []
  },
  {
   "cell_type": "code",
   "execution_count": 1,
   "metadata": {},
   "source": [
    "#!fsharp\n",
    "bla\n",
    "|> Seq.skip 12\n",
    "|> Seq.head\n",
    "|> fun img ->\n",
    "    display img |> ignore\n",
    "    Convert.ToBase64String img.Image\n",
    "|> ((sprintf \"<img src=\\\"data:image/png;base64,%s\\\"></img>\") >> DisplayFunctions.HTML)"
   ],
   "outputs": [
    {
     "output_type": "execute_result",
     "data": {
      "text/html": "<table><thead><tr><th>ImagePath</th><th>Image</th><th>Label</th><th>LabelAsKey</th></tr></thead><tbody><tr><td><div class=\"dni-plaintext\">dc1fc1f7-15c6-4b4a-a315-4c7842081dea.jpg</div></td><td><div class=\"dni-plaintext\">[ 255, 216, 255, 224, 0, 16, 74, 70, 73, 70, 0, 1, 1, 1, 0, 96, 0, 96, 0, 0 ... (20425 more) ]</div></td><td><div class=\"dni-plaintext\">Other</div></td><td><div class=\"dni-plaintext\">2</div></td></tr></tbody></table>"
     },
     "execution_count": 1,
     "metadata": {}
    },
    {
     "output_type": "execute_result",
     "data": {
      "text/html": "<img src=\"data:image/png;base64,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\"></img>"
     },
     "execution_count": 1,
     "metadata": {}
    }
   ]
  },
  {
   "cell_type": "code",
   "execution_count": 1,
   "metadata": {},
   "source": [
    "#!fsharp\n",
    "let imageClassifierOptions =\n",
    "    ImageClassificationTrainer.Options(FeatureColumnName = \"Image\",\n",
    "                                       LabelColumnName = \"LabelAsKey\",\n",
    "                                       ValidationSet = validationSet,\n",
    "                                       Arch = ImageClassificationTrainer.Architecture.InceptionV3,\n",
    "                                       TestOnTrainSet = false,\n",
    "                                       ReuseTrainSetBottleneckCachedValues = false,\n",
    "                                       ReuseValidationSetBottleneckCachedValues = false,\n",
    "                                       Epoch = 400,\n",
    "                                       MetricsCallback = (fun metrics -> display $\"%A{metrics}\" |> ignore),\n",
    "                                       WorkspacePath = workspaceDir)"
   ],
   "outputs": []
  },
  {
   "cell_type": "code",
   "execution_count": 1,
   "metadata": {},
   "source": [
    "#!fsharp\n",
    "let trainingPipeline =\n",
    "    EstimatorChain()\n",
    "        .Append(mlContext.MulticlassClassification.Trainers.ImageClassification(imageClassifierOptions))\n",
    "        .Append(mlContext.Transforms.Conversion.MapKeyToValue(\"PredictedLabel\", \"PredictedLabel\"))"
   ],
   "outputs": []
  },
  {
   "cell_type": "code",
   "execution_count": 1,
   "metadata": {},
   "source": [
    "#!fsharp\n",
    "let trainedModel = trainingPipeline.Fit augmentedTrain"
   ],
   "outputs": [
    {
     "output_type": "execute_result",
     "data": {
      "text/plain": "Saver not created because there are no variables in the graph to restore\r\n"
     },
     "execution_count": 1,
     "metadata": {}
    },
    {
     "output_type": "execute_result",
     "data": {
      "text/plain": "Phase: Bottleneck Computation, Dataset used: Validation, Image Index:   1"
     },
     "execution_count": 1,
     "metadata": {}
    },
    {
     "output_type": "execute_result",
     "data": {
      "text/plain": "Phase: Bottleneck Computation, Dataset used: Validation, Image Index:   2"
     },
     "execution_count": 1,
     "metadata": {}
    },
    {
     "output_type": "execute_result",
     "data": {
      "text/plain": "Phase: Bottleneck Computation, Dataset used: Validation, Image Index:   3"
     },
     "execution_count": 1,
     "metadata": {}
    },
    {
     "output_type": "execute_result",
     "data": {
      "text/plain": "Phase: Bottleneck Computation, Dataset used: Validation, Image Index:   4"
     },
     "execution_count": 1,
     "metadata": {}
    },
    {
     "output_type": "execute_result",
     "data": {
      "text/plain": "Phase: Bottleneck Computation, Dataset used: Validation, Image Index:   5"
     },
     "execution_count": 1,
     "metadata": {}
    },
    {
     "output_type": "execute_result",
     "data": {
      "text/plain": "Phase: Bottleneck Computation, Dataset used: Validation, Image Index:   6"
     },
     "execution_count": 1,
     "metadata": {}
    },
    {
     "output_type": "execute_result",
     "data": {
      "text/plain": "Phase: Bottleneck Computation, Dataset used: Validation, Image Index:   7"
     },
     "execution_count": 1,
     "metadata": {}
    },
    {
     "output_type": "execute_result",
     "data": {
      "text/plain": "Phase: Bottleneck Computation, Dataset used: Validation, Image Index:   8"
     },
     "execution_count": 1,
     "metadata": {}
    },
    {
     "output_type": "execute_result",
     "data": {
      "text/plain": "Phase: Bottleneck Computation, Dataset used: Validation, Image Index:   9"
     },
     "execution_count": 1,
     "metadata": {}
    },
    {
     "output_type": "execute_result",
     "data": {
      "text/plain": "Phase: Bottleneck Computation, Dataset used: Validation, Image Index:  10"
     },
     "execution_count": 1,
     "metadata": {}
    },
    {
     "output_type": "execute_result",
     "data": {
      "text/plain": "Phase: Bottleneck Computation, Dataset used: Validation, Image Index:  11"
     },
     "execution_count": 1,
     "metadata": {}
    },
    {
     "output_type": "execute_result",
     "data": {
      "text/plain": "Phase: Bottleneck Computation, Dataset used: Validation, Image Index:  12"
     },
     "execution_count": 1,
     "metadata": {}
    },
    {
     "output_type": "execute_result",
     "data": {
      "text/plain": "Phase: Bottleneck Computation, Dataset used: Validation, Image Index:  13"
     },
     "execution_count": 1,
     "metadata": {}
    },
    {
     "output_type": "execute_result",
     "data": {
      "text/plain": "Phase: Bottleneck Computation, Dataset used: Validation, Image Index:  14"
     },
     "execution_count": 1,
     "metadata": {}
    },
    {
     "output_type": "execute_result",
     "data": {
      "text/plain": "Phase: Bottleneck Computation, Dataset used: Validation, Image Index:  15"
     },
     "execution_count": 1,
     "metadata": {}
    },
    {
     "output_type": "execute_result",
     "data": {
      "text/plain": "Phase: Bottleneck Computation, Dataset used: Validation, Image Index:  16"
     },
     "execution_count": 1,
     "metadata": {}
    },
    {
     "output_type": "execute_result",
     "data": {
      "text/plain": "Phase: Bottleneck Computation, Dataset used: Validation, Image Index:  17"
     },
     "execution_count": 1,
     "metadata": {}
    },
    {
     "output_type": "execute_result",
     "data": {
      "text/plain": "Phase: Bottleneck Computation, Dataset used: Validation, Image Index:  18"
     },
     "execution_count": 1,
     "metadata": {}
    },
    {
     "output_type": "execute_result",
     "data": {
      "text/plain": "Phase: Bottleneck Computation, Dataset used: Validation, Image Index:  19"
     },
     "execution_count": 1,
     "metadata": {}
    },
    {
     "output_type": "execute_result",
     "data": {
      "text/plain": "Phase: Bottleneck Computation, Dataset used: Validation, Image Index:  20"
     },
     "execution_count": 1,
     "metadata": {}
    },
    {
     "output_type": "execute_result",
     "data": {
      "text/plain": "Phase: Bottleneck Computation, Dataset used: Validation, Image Index:  21"
     },
     "execution_count": 1,
     "metadata": {}
    },
    {
     "output_type": "execute_result",
     "data": {
      "text/plain": "Phase: Bottleneck Computation, Dataset used: Validation, Image Index:  22"
     },
     "execution_count": 1,
     "metadata": {}
    },
    {
     "output_type": "execute_result",
     "data": {
      "text/plain": "Phase: Bottleneck Computation, Dataset used: Validation, Image Index:  23"
     },
     "execution_count": 1,
     "metadata": {}
    },
    {
     "output_type": "execute_result",
     "data": {
      "text/plain": "Phase: Bottleneck Computation, Dataset used: Validation, Image Index:  24"
     },
     "execution_count": 1,
     "metadata": {}
    },
    {
     "output_type": "execute_result",
     "data": {
      "text/plain": "Phase: Bottleneck Computation, Dataset used: Validation, Image Index:  25"
     },
     "execution_count": 1,
     "metadata": {}
    },
    {
     "output_type": "execute_result",
     "data": {
      "text/plain": "Phase: Bottleneck Computation, Dataset used: Validation, Image Index:  26"
     },
     "execution_count": 1,
     "metadata": {}
    },
    {
     "output_type": "execute_result",
     "data": {
      "text/plain": "Phase: Bottleneck Computation, Dataset used: Validation, Image Index:  27"
     },
     "execution_count": 1,
     "metadata": {}
    },
    {
     "output_type": "execute_result",
     "data": {
      "text/plain": "Phase: Bottleneck Computation, Dataset used: Validation, Image Index:  28"
     },
     "execution_count": 1,
     "metadata": {}
    },
    {
     "output_type": "execute_result",
     "data": {
      "text/plain": "Phase: Bottleneck Computation, Dataset used: Validation, Image Index:  29"
     },
     "execution_count": 1,
     "metadata": {}
    },
    {
     "output_type": "execute_result",
     "data": {
      "text/plain": "Phase: Bottleneck Computation, Dataset used: Validation, Image Index:  30"
     },
     "execution_count": 1,
     "metadata": {}
    },
    {
     "output_type": "execute_result",
     "data": {
      "text/plain": "Phase: Bottleneck Computation, Dataset used: Validation, Image Index:  31"
     },
     "execution_count": 1,
     "metadata": {}
    },
    {
     "output_type": "execute_result",
     "data": {
      "text/plain": "Phase: Bottleneck Computation, Dataset used: Validation, Image Index:  32"
     },
     "execution_count": 1,
     "metadata": {}
    },
    {
     "output_type": "execute_result",
     "data": {
      "text/plain": "Phase: Bottleneck Computation, Dataset used: Validation, Image Index:  33"
     },
     "execution_count": 1,
     "metadata": {}
    },
    {
     "output_type": "execute_result",
     "data": {
      "text/plain": "Phase: Bottleneck Computation, Dataset used: Validation, Image Index:  34"
     },
     "execution_count": 1,
     "metadata": {}
    },
    {
     "output_type": "execute_result",
     "data": {
      "text/plain": "Phase: Bottleneck Computation, Dataset used: Validation, Image Index:  35"
     },
     "execution_count": 1,
     "metadata": {}
    },
    {
     "output_type": "execute_result",
     "data": {
      "text/plain": "Phase: Bottleneck Computation, Dataset used: Validation, Image Index:  36"
     },
     "execution_count": 1,
     "metadata": {}
    },
    {
     "output_type": "execute_result",
     "data": {
      "text/plain": "Phase: Bottleneck Computation, Dataset used: Validation, Image Index:  37"
     },
     "execution_count": 1,
     "metadata": {}
    },
    {
     "output_type": "execute_result",
     "data": {
      "text/plain": "Phase: Bottleneck Computation, Dataset used: Validation, Image Index:  38"
     },
     "execution_count": 1,
     "metadata": {}
    },
    {
     "output_type": "execute_result",
     "data": {
      "text/plain": "Phase: Bottleneck Computation, Dataset used: Validation, Image Index:  39"
     },
     "execution_count": 1,
     "metadata": {}
    },
    {
     "output_type": "execute_result",
     "data": {
      "text/plain": "Phase: Bottleneck Computation, Dataset used: Validation, Image Index:  40"
     },
     "execution_count": 1,
     "metadata": {}
    },
    {
     "output_type": "execute_result",
     "data": {
      "text/plain": "Phase: Bottleneck Computation, Dataset used: Validation, Image Index:  41"
     },
     "execution_count": 1,
     "metadata": {}
    },
    {
     "output_type": "execute_result",
     "data": {
      "text/plain": "Phase: Bottleneck Computation, Dataset used: Validation, Image Index:  42"
     },
     "execution_count": 1,
     "metadata": {}
    },
    {
     "output_type": "execute_result",
     "data": {
      "text/plain": "Phase: Bottleneck Computation, Dataset used: Validation, Image Index:  43"
     },
     "execution_count": 1,
     "metadata": {}
    },
    {
     "output_type": "execute_result",
     "data": {
      "text/plain": "Phase: Bottleneck Computation, Dataset used: Validation, Image Index:  44"
     },
     "execution_count": 1,
     "metadata": {}
    },
    {
     "output_type": "execute_result",
     "data": {
      "text/plain": "Phase: Bottleneck Computation, Dataset used: Validation, Image Index:  45"
     },
     "execution_count": 1,
     "metadata": {}
    },
    {
     "output_type": "execute_result",
     "data": {
      "text/plain": "Phase: Bottleneck Computation, Dataset used: Validation, Image Index:  46"
     },
     "execution_count": 1,
     "metadata": {}
    },
    {
     "output_type": "execute_result",
     "data": {
      "text/plain": "Phase: Bottleneck Computation, Dataset used: Validation, Image Index:  47"
     },
     "execution_count": 1,
     "metadata": {}
    },
    {
     "output_type": "execute_result",
     "data": {
      "text/plain": "Phase: Bottleneck Computation, Dataset used: Validation, Image Index:  48"
     },
     "execution_count": 1,
     "metadata": {}
    },
    {
     "output_type": "execute_result",
     "data": {
      "text/plain": "Phase: Bottleneck Computation, Dataset used: Validation, Image Index:  49"
     },
     "execution_count": 1,
     "metadata": {}
    },
    {
     "output_type": "execute_result",
     "data": {
      "text/plain": "Phase: Bottleneck Computation, Dataset used: Validation, Image Index:  50"
     },
     "execution_count": 1,
     "metadata": {}
    },
    {
     "output_type": "execute_result",
     "data": {
      "text/plain": "Phase: Bottleneck Computation, Dataset used: Validation, Image Index:  51"
     },
     "execution_count": 1,
     "metadata": {}
    },
    {
     "output_type": "execute_result",
     "data": {
      "text/plain": "Phase: Bottleneck Computation, Dataset used: Validation, Image Index:  52"
     },
     "execution_count": 1,
     "metadata": {}
    },
    {
     "output_type": "execute_result",
     "data": {
      "text/plain": "Phase: Bottleneck Computation, Dataset used: Validation, Image Index:  53"
     },
     "execution_count": 1,
     "metadata": {}
    },
    {
     "output_type": "execute_result",
     "data": {
      "text/plain": "Phase: Bottleneck Computation, Dataset used: Validation, Image Index:  54"
     },
     "execution_count": 1,
     "metadata": {}
    },
    {
     "output_type": "execute_result",
     "data": {
      "text/plain": "Phase: Bottleneck Computation, Dataset used: Validation, Image Index:  55"
     },
     "execution_count": 1,
     "metadata": {}
    },
    {
     "output_type": "execute_result",
     "data": {
      "text/plain": "Phase: Bottleneck Computation, Dataset used: Validation, Image Index:  56"
     },
     "execution_count": 1,
     "metadata": {}
    },
    {
     "output_type": "execute_result",
     "data": {
      "text/plain": "Phase: Bottleneck Computation, Dataset used: Validation, Image Index:  57"
     },
     "execution_count": 1,
     "metadata": {}
    },
    {
     "output_type": "execute_result",
     "data": {
      "text/plain": "Phase: Bottleneck Computation, Dataset used: Validation, Image Index:  58"
     },
     "execution_count": 1,
     "metadata": {}
    },
    {
     "output_type": "execute_result",
     "data": {
      "text/plain": "Phase: Bottleneck Computation, Dataset used: Validation, Image Index:  59"
     },
     "execution_count": 1,
     "metadata": {}
    },
    {
     "output_type": "execute_result",
     "data": {
      "text/plain": "Phase: Bottleneck Computation, Dataset used: Validation, Image Index:  60"
     },
     "execution_count": 1,
     "metadata": {}
    },
    {
     "output_type": "execute_result",
     "data": {
      "text/plain": "Phase: Bottleneck Computation, Dataset used: Validation, Image Index:  61"
     },
     "execution_count": 1,
     "metadata": {}
    },
    {
     "output_type": "execute_result",
     "data": {
      "text/plain": "Phase: Bottleneck Computation, Dataset used: Validation, Image Index:  62"
     },
     "execution_count": 1,
     "metadata": {}
    },
    {
     "output_type": "execute_result",
     "data": {
      "text/plain": "Phase: Bottleneck Computation, Dataset used: Validation, Image Index:  63"
     },
     "execution_count": 1,
     "metadata": {}
    },
    {
     "output_type": "execute_result",
     "data": {
      "text/plain": "Phase: Bottleneck Computation, Dataset used: Validation, Image Index:  64"
     },
     "execution_count": 1,
     "metadata": {}
    },
    {
     "output_type": "execute_result",
     "data": {
      "text/plain": "Phase: Bottleneck Computation, Dataset used: Validation, Image Index:  65"
     },
     "execution_count": 1,
     "metadata": {}
    },
    {
     "output_type": "execute_result",
     "data": {
      "text/plain": "Phase: Bottleneck Computation, Dataset used: Validation, Image Index:  66"
     },
     "execution_count": 1,
     "metadata": {}
    },
    {
     "output_type": "execute_result",
     "data": {
      "text/plain": "Phase: Bottleneck Computation, Dataset used: Validation, Image Index:  67"
     },
     "execution_count": 1,
     "metadata": {}
    },
    {
     "output_type": "execute_result",
     "data": {
      "text/plain": "Phase: Bottleneck Computation, Dataset used: Validation, Image Index:  68"
     },
     "execution_count": 1,
     "metadata": {}
    },
    {
     "output_type": "execute_result",
     "data": {
      "text/plain": "Phase: Bottleneck Computation, Dataset used: Validation, Image Index:  69"
     },
     "execution_count": 1,
     "metadata": {}
    },
    {
     "output_type": "execute_result",
     "data": {
      "text/plain": "Phase: Bottleneck Computation, Dataset used: Validation, Image Index:  70"
     },
     "execution_count": 1,
     "metadata": {}
    },
    {
     "output_type": "execute_result",
     "data": {
      "text/plain": "Phase: Bottleneck Computation, Dataset used: Validation, Image Index:  71"
     },
     "execution_count": 1,
     "metadata": {}
    },
    {
     "output_type": "execute_result",
     "data": {
      "text/plain": "Phase: Bottleneck Computation, Dataset used: Validation, Image Index:  72"
     },
     "execution_count": 1,
     "metadata": {}
    },
    {
     "output_type": "execute_result",
     "data": {
      "text/plain": "Phase: Bottleneck Computation, Dataset used: Validation, Image Index:  73"
     },
     "execution_count": 1,
     "metadata": {}
    },
    {
     "output_type": "execute_result",
     "data": {
      "text/plain": "Phase: Bottleneck Computation, Dataset used: Validation, Image Index:  74"
     },
     "execution_count": 1,
     "metadata": {}
    },
    {
     "output_type": "execute_result",
     "data": {
      "text/plain": "Phase: Bottleneck Computation, Dataset used: Validation, Image Index:  75"
     },
     "execution_count": 1,
     "metadata": {}
    },
    {
     "output_type": "execute_result",
     "data": {
      "text/plain": "Phase: Bottleneck Computation, Dataset used: Validation, Image Index:  76"
     },
     "execution_count": 1,
     "metadata": {}
    },
    {
     "output_type": "execute_result",
     "data": {
      "text/plain": "Phase: Bottleneck Computation, Dataset used: Validation, Image Index:  77"
     },
     "execution_count": 1,
     "metadata": {}
    },
    {
     "output_type": "execute_result",
     "data": {
      "text/plain": "Phase: Bottleneck Computation, Dataset used: Validation, Image Index:  78"
     },
     "execution_count": 1,
     "metadata": {}
    },
    {
     "output_type": "execute_result",
     "data": {
      "text/plain": "Phase: Bottleneck Computation, Dataset used: Validation, Image Index:  79"
     },
     "execution_count": 1,
     "metadata": {}
    },
    {
     "output_type": "execute_result",
     "data": {
      "text/plain": "Phase: Bottleneck Computation, Dataset used: Validation, Image Index:  80"
     },
     "execution_count": 1,
     "metadata": {}
    },
    {
     "output_type": "execute_result",
     "data": {
      "text/plain": "Phase: Bottleneck Computation, Dataset used: Validation, Image Index:  81"
     },
     "execution_count": 1,
     "metadata": {}
    },
    {
     "output_type": "execute_result",
     "data": {
      "text/plain": "Phase: Bottleneck Computation, Dataset used: Validation, Image Index:  82"
     },
     "execution_count": 1,
     "metadata": {}
    },
    {
     "output_type": "execute_result",
     "data": {
      "text/plain": "Phase: Bottleneck Computation, Dataset used: Validation, Image Index:  83"
     },
     "execution_count": 1,
     "metadata": {}
    },
    {
     "output_type": "execute_result",
     "data": {
      "text/plain": "Phase: Bottleneck Computation, Dataset used: Validation, Image Index:  84"
     },
     "execution_count": 1,
     "metadata": {}
    },
    {
     "output_type": "execute_result",
     "data": {
      "text/plain": "Phase: Bottleneck Computation, Dataset used: Validation, Image Index:  85"
     },
     "execution_count": 1,
     "metadata": {}
    },
    {
     "output_type": "execute_result",
     "data": {
      "text/plain": "Phase: Bottleneck Computation, Dataset used: Validation, Image Index:  86"
     },
     "execution_count": 1,
     "metadata": {}
    },
    {
     "output_type": "execute_result",
     "data": {
      "text/plain": "Phase: Bottleneck Computation, Dataset used: Validation, Image Index:  87"
     },
     "execution_count": 1,
     "metadata": {}
    },
    {
     "output_type": "execute_result",
     "data": {
      "text/plain": "Phase: Bottleneck Computation, Dataset used: Validation, Image Index:  88"
     },
     "execution_count": 1,
     "metadata": {}
    },
    {
     "output_type": "execute_result",
     "data": {
      "text/plain": "Phase: Bottleneck Computation, Dataset used: Validation, Image Index:  89"
     },
     "execution_count": 1,
     "metadata": {}
    },
    {
     "output_type": "execute_result",
     "data": {
      "text/plain": "Phase: Bottleneck Computation, Dataset used: Validation, Image Index:  90"
     },
     "execution_count": 1,
     "metadata": {}
    },
    {
     "output_type": "execute_result",
     "data": {
      "text/plain": "Phase: Bottleneck Computation, Dataset used: Validation, Image Index:  91"
     },
     "execution_count": 1,
     "metadata": {}
    },
    {
     "output_type": "execute_result",
     "data": {
      "text/plain": "Phase: Bottleneck Computation, Dataset used:      Train, Image Index:   1"
     },
     "execution_count": 1,
     "metadata": {}
    },
    {
     "output_type": "execute_result",
     "data": {
      "text/plain": "Phase: Bottleneck Computation, Dataset used:      Train, Image Index:   2"
     },
     "execution_count": 1,
     "metadata": {}
    },
    {
     "output_type": "execute_result",
     "data": {
      "text/plain": "Phase: Bottleneck Computation, Dataset used:      Train, Image Index:   3"
     },
     "execution_count": 1,
     "metadata": {}
    },
    {
     "output_type": "execute_result",
     "data": {
      "text/plain": "Phase: Bottleneck Computation, Dataset used:      Train, Image Index:   4"
     },
     "execution_count": 1,
     "metadata": {}
    },
    {
     "output_type": "execute_result",
     "data": {
      "text/plain": "Phase: Bottleneck Computation, Dataset used:      Train, Image Index:   5"
     },
     "execution_count": 1,
     "metadata": {}
    },
    {
     "output_type": "execute_result",
     "data": {
      "text/plain": "Phase: Bottleneck Computation, Dataset used:      Train, Image Index:   6"
     },
     "execution_count": 1,
     "metadata": {}
    },
    {
     "output_type": "execute_result",
     "data": {
      "text/plain": "Phase: Bottleneck Computation, Dataset used:      Train, Image Index:   7"
     },
     "execution_count": 1,
     "metadata": {}
    },
    {
     "output_type": "execute_result",
     "data": {
      "text/plain": "Phase: Bottleneck Computation, Dataset used:      Train, Image Index:   8"
     },
     "execution_count": 1,
     "metadata": {}
    },
    {
     "output_type": "execute_result",
     "data": {
      "text/plain": "Phase: Bottleneck Computation, Dataset used:      Train, Image Index:   9"
     },
     "execution_count": 1,
     "metadata": {}
    },
    {
     "output_type": "execute_result",
     "data": {
      "text/plain": "Phase: Bottleneck Computation, Dataset used:      Train, Image Index:  10"
     },
     "execution_count": 1,
     "metadata": {}
    },
    {
     "output_type": "execute_result",
     "data": {
      "text/plain": "Phase: Bottleneck Computation, Dataset used:      Train, Image Index:  11"
     },
     "execution_count": 1,
     "metadata": {}
    },
    {
     "output_type": "execute_result",
     "data": {
      "text/plain": "Phase: Bottleneck Computation, Dataset used:      Train, Image Index:  12"
     },
     "execution_count": 1,
     "metadata": {}
    },
    {
     "output_type": "execute_result",
     "data": {
      "text/plain": "Phase: Bottleneck Computation, Dataset used:      Train, Image Index:  13"
     },
     "execution_count": 1,
     "metadata": {}
    },
    {
     "output_type": "execute_result",
     "data": {
      "text/plain": "Phase: Bottleneck Computation, Dataset used:      Train, Image Index:  14"
     },
     "execution_count": 1,
     "metadata": {}
    },
    {
     "output_type": "execute_result",
     "data": {
      "text/plain": "Phase: Bottleneck Computation, Dataset used:      Train, Image Index:  15"
     },
     "execution_count": 1,
     "metadata": {}
    },
    {
     "output_type": "execute_result",
     "data": {
      "text/plain": "Phase: Bottleneck Computation, Dataset used:      Train, Image Index:  16"
     },
     "execution_count": 1,
     "metadata": {}
    },
    {
     "output_type": "execute_result",
     "data": {
      "text/plain": "Phase: Bottleneck Computation, Dataset used:      Train, Image Index:  17"
     },
     "execution_count": 1,
     "metadata": {}
    },
    {
     "output_type": "execute_result",
     "data": {
      "text/plain": "Phase: Bottleneck Computation, Dataset used:      Train, Image Index:  18"
     },
     "execution_count": 1,
     "metadata": {}
    },
    {
     "output_type": "execute_result",
     "data": {
      "text/plain": "Phase: Bottleneck Computation, Dataset used:      Train, Image Index:  19"
     },
     "execution_count": 1,
     "metadata": {}
    },
    {
     "output_type": "execute_result",
     "data": {
      "text/plain": "Phase: Bottleneck Computation, Dataset used:      Train, Image Index:  20"
     },
     "execution_count": 1,
     "metadata": {}
    },
    {
     "output_type": "execute_result",
     "data": {
      "text/plain": "Phase: Bottleneck Computation, Dataset used:      Train, Image Index:  21"
     },
     "execution_count": 1,
     "metadata": {}
    },
    {
     "output_type": "execute_result",
     "data": {
      "text/plain": "Phase: Bottleneck Computation, Dataset used:      Train, Image Index:  22"
     },
     "execution_count": 1,
     "metadata": {}
    },
    {
     "output_type": "execute_result",
     "data": {
      "text/plain": "Phase: Bottleneck Computation, Dataset used:      Train, Image Index:  23"
     },
     "execution_count": 1,
     "metadata": {}
    },
    {
     "output_type": "execute_result",
     "data": {
      "text/plain": "Phase: Bottleneck Computation, Dataset used:      Train, Image Index:  24"
     },
     "execution_count": 1,
     "metadata": {}
    },
    {
     "output_type": "execute_result",
     "data": {
      "text/plain": "Phase: Bottleneck Computation, Dataset used:      Train, Image Index:  25"
     },
     "execution_count": 1,
     "metadata": {}
    },
    {
     "output_type": "execute_result",
     "data": {
      "text/plain": "Phase: Bottleneck Computation, Dataset used:      Train, Image Index:  26"
     },
     "execution_count": 1,
     "metadata": {}
    },
    {
     "output_type": "execute_result",
     "data": {
      "text/plain": "Phase: Bottleneck Computation, Dataset used:      Train, Image Index:  27"
     },
     "execution_count": 1,
     "metadata": {}
    },
    {
     "output_type": "execute_result",
     "data": {
      "text/plain": "Phase: Bottleneck Computation, Dataset used:      Train, Image Index:  28"
     },
     "execution_count": 1,
     "metadata": {}
    },
    {
     "output_type": "execute_result",
     "data": {
      "text/plain": "Phase: Bottleneck Computation, Dataset used:      Train, Image Index:  29"
     },
     "execution_count": 1,
     "metadata": {}
    },
    {
     "output_type": "execute_result",
     "data": {
      "text/plain": "Phase: Bottleneck Computation, Dataset used:      Train, Image Index:  30"
     },
     "execution_count": 1,
     "metadata": {}
    },
    {
     "output_type": "execute_result",
     "data": {
      "text/plain": "Phase: Bottleneck Computation, Dataset used:      Train, Image Index:  31"
     },
     "execution_count": 1,
     "metadata": {}
    },
    {
     "output_type": "execute_result",
     "data": {
      "text/plain": "Phase: Bottleneck Computation, Dataset used:      Train, Image Index:  32"
     },
     "execution_count": 1,
     "metadata": {}
    },
    {
     "output_type": "execute_result",
     "data": {
      "text/plain": "Phase: Bottleneck Computation, Dataset used:      Train, Image Index:  33"
     },
     "execution_count": 1,
     "metadata": {}
    },
    {
     "output_type": "execute_result",
     "data": {
      "text/plain": "Phase: Bottleneck Computation, Dataset used:      Train, Image Index:  34"
     },
     "execution_count": 1,
     "metadata": {}
    },
    {
     "output_type": "execute_result",
     "data": {
      "text/plain": "Phase: Bottleneck Computation, Dataset used:      Train, Image Index:  35"
     },
     "execution_count": 1,
     "metadata": {}
    },
    {
     "output_type": "execute_result",
     "data": {
      "text/plain": "Phase: Bottleneck Computation, Dataset used:      Train, Image Index:  36"
     },
     "execution_count": 1,
     "metadata": {}
    },
    {
     "output_type": "execute_result",
     "data": {
      "text/plain": "Phase: Bottleneck Computation, Dataset used:      Train, Image Index:  37"
     },
     "execution_count": 1,
     "metadata": {}
    },
    {
     "output_type": "execute_result",
     "data": {
      "text/plain": "Phase: Bottleneck Computation, Dataset used:      Train, Image Index:  38"
     },
     "execution_count": 1,
     "metadata": {}
    },
    {
     "output_type": "execute_result",
     "data": {
      "text/plain": "Phase: Bottleneck Computation, Dataset used:      Train, Image Index:  39"
     },
     "execution_count": 1,
     "metadata": {}
    },
    {
     "output_type": "execute_result",
     "data": {
      "text/plain": "Phase: Bottleneck Computation, Dataset used:      Train, Image Index:  40"
     },
     "execution_count": 1,
     "metadata": {}
    },
    {
     "output_type": "execute_result",
     "data": {
      "text/plain": "Phase: Bottleneck Computation, Dataset used:      Train, Image Index:  41"
     },
     "execution_count": 1,
     "metadata": {}
    },
    {
     "output_type": "execute_result",
     "data": {
      "text/plain": "Phase: Bottleneck Computation, Dataset used:      Train, Image Index:  42"
     },
     "execution_count": 1,
     "metadata": {}
    },
    {
     "output_type": "execute_result",
     "data": {
      "text/plain": "Phase: Bottleneck Computation, Dataset used:      Train, Image Index:  43"
     },
     "execution_count": 1,
     "metadata": {}
    },
    {
     "output_type": "execute_result",
     "data": {
      "text/plain": "Phase: Bottleneck Computation, Dataset used:      Train, Image Index:  44"
     },
     "execution_count": 1,
     "metadata": {}
    },
    {
     "output_type": "execute_result",
     "data": {
      "text/plain": "Phase: Bottleneck Computation, Dataset used:      Train, Image Index:  45"
     },
     "execution_count": 1,
     "metadata": {}
    },
    {
     "output_type": "execute_result",
     "data": {
      "text/plain": "Phase: Bottleneck Computation, Dataset used:      Train, Image Index:  46"
     },
     "execution_count": 1,
     "metadata": {}
    },
    {
     "output_type": "execute_result",
     "data": {
      "text/plain": "Phase: Bottleneck Computation, Dataset used:      Train, Image Index:  47"
     },
     "execution_count": 1,
     "metadata": {}
    },
    {
     "output_type": "execute_result",
     "data": {
      "text/plain": "Phase: Bottleneck Computation, Dataset used:      Train, Image Index:  48"
     },
     "execution_count": 1,
     "metadata": {}
    },
    {
     "output_type": "execute_result",
     "data": {
      "text/plain": "Phase: Bottleneck Computation, Dataset used:      Train, Image Index:  49"
     },
     "execution_count": 1,
     "metadata": {}
    },
    {
     "output_type": "execute_result",
     "data": {
      "text/plain": "Phase: Bottleneck Computation, Dataset used:      Train, Image Index:  50"
     },
     "execution_count": 1,
     "metadata": {}
    },
    {
     "output_type": "execute_result",
     "data": {
      "text/plain": "Phase: Bottleneck Computation, Dataset used:      Train, Image Index:  51"
     },
     "execution_count": 1,
     "metadata": {}
    },
    {
     "output_type": "execute_result",
     "data": {
      "text/plain": "Phase: Bottleneck Computation, Dataset used:      Train, Image Index:  52"
     },
     "execution_count": 1,
     "metadata": {}
    },
    {
     "output_type": "execute_result",
     "data": {
      "text/plain": "Phase: Bottleneck Computation, Dataset used:      Train, Image Index:  53"
     },
     "execution_count": 1,
     "metadata": {}
    },
    {
     "output_type": "execute_result",
     "data": {
      "text/plain": "Phase: Bottleneck Computation, Dataset used:      Train, Image Index:  54"
     },
     "execution_count": 1,
     "metadata": {}
    },
    {
     "output_type": "execute_result",
     "data": {
      "text/plain": "Phase: Bottleneck Computation, Dataset used:      Train, Image Index:  55"
     },
     "execution_count": 1,
     "metadata": {}
    },
    {
     "output_type": "execute_result",
     "data": {
      "text/plain": "Phase: Bottleneck Computation, Dataset used:      Train, Image Index:  56"
     },
     "execution_count": 1,
     "metadata": {}
    },
    {
     "output_type": "execute_result",
     "data": {
      "text/plain": "Phase: Bottleneck Computation, Dataset used:      Train, Image Index:  57"
     },
     "execution_count": 1,
     "metadata": {}
    },
    {
     "output_type": "execute_result",
     "data": {
      "text/plain": "Phase: Bottleneck Computation, Dataset used:      Train, Image Index:  58"
     },
     "execution_count": 1,
     "metadata": {}
    },
    {
     "output_type": "execute_result",
     "data": {
      "text/plain": "Phase: Bottleneck Computation, Dataset used:      Train, Image Index:  59"
     },
     "execution_count": 1,
     "metadata": {}
    },
    {
     "output_type": "execute_result",
     "data": {
      "text/plain": "Phase: Bottleneck Computation, Dataset used:      Train, Image Index:  60"
     },
     "execution_count": 1,
     "metadata": {}
    },
    {
     "output_type": "execute_result",
     "data": {
      "text/plain": "Phase: Bottleneck Computation, Dataset used:      Train, Image Index:  61"
     },
     "execution_count": 1,
     "metadata": {}
    },
    {
     "output_type": "execute_result",
     "data": {
      "text/plain": "Phase: Bottleneck Computation, Dataset used:      Train, Image Index:  62"
     },
     "execution_count": 1,
     "metadata": {}
    },
    {
     "output_type": "execute_result",
     "data": {
      "text/plain": "Phase: Bottleneck Computation, Dataset used:      Train, Image Index:  63"
     },
     "execution_count": 1,
     "metadata": {}
    },
    {
     "output_type": "execute_result",
     "data": {
      "text/plain": "Phase: Bottleneck Computation, Dataset used:      Train, Image Index:  64"
     },
     "execution_count": 1,
     "metadata": {}
    },
    {
     "output_type": "execute_result",
     "data": {
      "text/plain": "Phase: Bottleneck Computation, Dataset used:      Train, Image Index:  65"
     },
     "execution_count": 1,
     "metadata": {}
    },
    {
     "output_type": "execute_result",
     "data": {
      "text/plain": "Phase: Bottleneck Computation, Dataset used:      Train, Image Index:  66"
     },
     "execution_count": 1,
     "metadata": {}
    },
    {
     "output_type": "execute_result",
     "data": {
      "text/plain": "Phase: Bottleneck Computation, Dataset used:      Train, Image Index:  67"
     },
     "execution_count": 1,
     "metadata": {}
    },
    {
     "output_type": "execute_result",
     "data": {
      "text/plain": "Phase: Bottleneck Computation, Dataset used:      Train, Image Index:  68"
     },
     "execution_count": 1,
     "metadata": {}
    },
    {
     "output_type": "execute_result",
     "data": {
      "text/plain": "Phase: Bottleneck Computation, Dataset used:      Train, Image Index:  69"
     },
     "execution_count": 1,
     "metadata": {}
    },
    {
     "output_type": "execute_result",
     "data": {
      "text/plain": "Phase: Bottleneck Computation, Dataset used:      Train, Image Index:  70"
     },
     "execution_count": 1,
     "metadata": {}
    },
    {
     "output_type": "execute_result",
     "data": {
      "text/plain": "Phase: Bottleneck Computation, Dataset used:      Train, Image Index:  71"
     },
     "execution_count": 1,
     "metadata": {}
    },
    {
     "output_type": "execute_result",
     "data": {
      "text/plain": "Phase: Bottleneck Computation, Dataset used:      Train, Image Index:  72"
     },
     "execution_count": 1,
     "metadata": {}
    },
    {
     "output_type": "execute_result",
     "data": {
      "text/plain": "Phase: Bottleneck Computation, Dataset used:      Train, Image Index:  73"
     },
     "execution_count": 1,
     "metadata": {}
    },
    {
     "output_type": "execute_result",
     "data": {
      "text/plain": "Phase: Bottleneck Computation, Dataset used:      Train, Image Index:  74"
     },
     "execution_count": 1,
     "metadata": {}
    },
    {
     "output_type": "execute_result",
     "data": {
      "text/plain": "Phase: Bottleneck Computation, Dataset used:      Train, Image Index:  75"
     },
     "execution_count": 1,
     "metadata": {}
    },
    {
     "output_type": "execute_result",
     "data": {
      "text/plain": "Phase: Bottleneck Computation, Dataset used:      Train, Image Index:  76"
     },
     "execution_count": 1,
     "metadata": {}
    },
    {
     "output_type": "execute_result",
     "data": {
      "text/plain": "Phase: Bottleneck Computation, Dataset used:      Train, Image Index:  77"
     },
     "execution_count": 1,
     "metadata": {}
    },
    {
     "output_type": "execute_result",
     "data": {
      "text/plain": "Phase: Bottleneck Computation, Dataset used:      Train, Image Index:  78"
     },
     "execution_count": 1,
     "metadata": {}
    },
    {
     "output_type": "execute_result",
     "data": {
      "text/plain": "Phase: Bottleneck Computation, Dataset used:      Train, Image Index:  79"
     },
     "execution_count": 1,
     "metadata": {}
    },
    {
     "output_type": "execute_result",
     "data": {
      "text/plain": "Phase: Bottleneck Computation, Dataset used:      Train, Image Index:  80"
     },
     "execution_count": 1,
     "metadata": {}
    },
    {
     "output_type": "execute_result",
     "data": {
      "text/plain": "Phase: Bottleneck Computation, Dataset used:      Train, Image Index:  81"
     },
     "execution_count": 1,
     "metadata": {}
    },
    {
     "output_type": "execute_result",
     "data": {
      "text/plain": "Phase: Bottleneck Computation, Dataset used:      Train, Image Index:  82"
     },
     "execution_count": 1,
     "metadata": {}
    },
    {
     "output_type": "execute_result",
     "data": {
      "text/plain": "Phase: Bottleneck Computation, Dataset used:      Train, Image Index:  83"
     },
     "execution_count": 1,
     "metadata": {}
    },
    {
     "output_type": "execute_result",
     "data": {
      "text/plain": "Phase: Bottleneck Computation, Dataset used:      Train, Image Index:  84"
     },
     "execution_count": 1,
     "metadata": {}
    },
    {
     "output_type": "execute_result",
     "data": {
      "text/plain": "Phase: Bottleneck Computation, Dataset used:      Train, Image Index:  85"
     },
     "execution_count": 1,
     "metadata": {}
    },
    {
     "output_type": "execute_result",
     "data": {
      "text/plain": "Phase: Bottleneck Computation, Dataset used:      Train, Image Index:  86"
     },
     "execution_count": 1,
     "metadata": {}
    },
    {
     "output_type": "execute_result",
     "data": {
      "text/plain": "Phase: Bottleneck Computation, Dataset used:      Train, Image Index:  87"
     },
     "execution_count": 1,
     "metadata": {}
    },
    {
     "output_type": "execute_result",
     "data": {
      "text/plain": "Phase: Bottleneck Computation, Dataset used:      Train, Image Index:  88"
     },
     "execution_count": 1,
     "metadata": {}
    },
    {
     "output_type": "execute_result",
     "data": {
      "text/plain": "Phase: Bottleneck Computation, Dataset used:      Train, Image Index:  89"
     },
     "execution_count": 1,
     "metadata": {}
    },
    {
     "output_type": "execute_result",
     "data": {
      "text/plain": "Phase: Bottleneck Computation, Dataset used:      Train, Image Index:  90"
     },
     "execution_count": 1,
     "metadata": {}
    },
    {
     "output_type": "execute_result",
     "data": {
      "text/plain": "Phase: Bottleneck Computation, Dataset used:      Train, Image Index:  91"
     },
     "execution_count": 1,
     "metadata": {}
    },
    {
     "output_type": "execute_result",
     "data": {
      "text/plain": "Phase: Bottleneck Computation, Dataset used:      Train, Image Index:  92"
     },
     "execution_count": 1,
     "metadata": {}
    },
    {
     "output_type": "execute_result",
     "data": {
      "text/plain": "Phase: Bottleneck Computation, Dataset used:      Train, Image Index:  93"
     },
     "execution_count": 1,
     "metadata": {}
    },
    {
     "output_type": "execute_result",
     "data": {
      "text/plain": "Phase: Bottleneck Computation, Dataset used:      Train, Image Index:  94"
     },
     "execution_count": 1,
     "metadata": {}
    },
    {
     "output_type": "execute_result",
     "data": {
      "text/plain": "Phase: Bottleneck Computation, Dataset used:      Train, Image Index:  95"
     },
     "execution_count": 1,
     "metadata": {}
    },
    {
     "output_type": "execute_result",
     "data": {
      "text/plain": "Phase: Bottleneck Computation, Dataset used:      Train, Image Index:  96"
     },
     "execution_count": 1,
     "metadata": {}
    },
    {
     "output_type": "execute_result",
     "data": {
      "text/plain": "Phase: Bottleneck Computation, Dataset used:      Train, Image Index:  97"
     },
     "execution_count": 1,
     "metadata": {}
    },
    {
     "output_type": "execute_result",
     "data": {
      "text/plain": "Phase: Bottleneck Computation, Dataset used:      Train, Image Index:  98"
     },
     "execution_count": 1,
     "metadata": {}
    },
    {
     "output_type": "execute_result",
     "data": {
      "text/plain": "Phase: Bottleneck Computation, Dataset used:      Train, Image Index:  99"
     },
     "execution_count": 1,
     "metadata": {}
    },
    {
     "output_type": "execute_result",
     "data": {
      "text/plain": "Phase: Bottleneck Computation, Dataset used:      Train, Image Index: 100"
     },
     "execution_count": 1,
     "metadata": {}
    },
    {
     "output_type": "execute_result",
     "data": {
      "text/plain": "Phase: Bottleneck Computation, Dataset used:      Train, Image Index: 101"
     },
     "execution_count": 1,
     "metadata": {}
    },
    {
     "output_type": "execute_result",
     "data": {
      "text/plain": "Phase: Bottleneck Computation, Dataset used:      Train, Image Index: 102"
     },
     "execution_count": 1,
     "metadata": {}
    },
    {
     "output_type": "execute_result",
     "data": {
      "text/plain": "Phase: Bottleneck Computation, Dataset used:      Train, Image Index: 103"
     },
     "execution_count": 1,
     "metadata": {}
    },
    {
     "output_type": "execute_result",
     "data": {
      "text/plain": "Phase: Bottleneck Computation, Dataset used:      Train, Image Index: 104"
     },
     "execution_count": 1,
     "metadata": {}
    },
    {
     "output_type": "execute_result",
     "data": {
      "text/plain": "Phase: Bottleneck Computation, Dataset used:      Train, Image Index: 105"
     },
     "execution_count": 1,
     "metadata": {}
    },
    {
     "output_type": "execute_result",
     "data": {
      "text/plain": "Phase: Bottleneck Computation, Dataset used:      Train, Image Index: 106"
     },
     "execution_count": 1,
     "metadata": {}
    },
    {
     "output_type": "execute_result",
     "data": {
      "text/plain": "Phase: Bottleneck Computation, Dataset used:      Train, Image Index: 107"
     },
     "execution_count": 1,
     "metadata": {}
    },
    {
     "output_type": "execute_result",
     "data": {
      "text/plain": "Phase: Bottleneck Computation, Dataset used:      Train, Image Index: 108"
     },
     "execution_count": 1,
     "metadata": {}
    },
    {
     "output_type": "execute_result",
     "data": {
      "text/plain": "Phase: Bottleneck Computation, Dataset used:      Train, Image Index: 109"
     },
     "execution_count": 1,
     "metadata": {}
    },
    {
     "output_type": "execute_result",
     "data": {
      "text/plain": "Phase: Bottleneck Computation, Dataset used:      Train, Image Index: 110"
     },
     "execution_count": 1,
     "metadata": {}
    },
    {
     "output_type": "execute_result",
     "data": {
      "text/plain": "Phase: Bottleneck Computation, Dataset used:      Train, Image Index: 111"
     },
     "execution_count": 1,
     "metadata": {}
    },
    {
     "output_type": "execute_result",
     "data": {
      "text/plain": "Phase: Bottleneck Computation, Dataset used:      Train, Image Index: 112"
     },
     "execution_count": 1,
     "metadata": {}
    },
    {
     "output_type": "execute_result",
     "data": {
      "text/plain": "Phase: Bottleneck Computation, Dataset used:      Train, Image Index: 113"
     },
     "execution_count": 1,
     "metadata": {}
    },
    {
     "output_type": "execute_result",
     "data": {
      "text/plain": "Phase: Bottleneck Computation, Dataset used:      Train, Image Index: 114"
     },
     "execution_count": 1,
     "metadata": {}
    },
    {
     "output_type": "execute_result",
     "data": {
      "text/plain": "Phase: Bottleneck Computation, Dataset used:      Train, Image Index: 115"
     },
     "execution_count": 1,
     "metadata": {}
    },
    {
     "output_type": "execute_result",
     "data": {
      "text/plain": "Phase: Bottleneck Computation, Dataset used:      Train, Image Index: 116"
     },
     "execution_count": 1,
     "metadata": {}
    },
    {
     "output_type": "execute_result",
     "data": {
      "text/plain": "Phase: Bottleneck Computation, Dataset used:      Train, Image Index: 117"
     },
     "execution_count": 1,
     "metadata": {}
    },
    {
     "output_type": "execute_result",
     "data": {
      "text/plain": "Phase: Bottleneck Computation, Dataset used:      Train, Image Index: 118"
     },
     "execution_count": 1,
     "metadata": {}
    },
    {
     "output_type": "execute_result",
     "data": {
      "text/plain": "Phase: Bottleneck Computation, Dataset used:      Train, Image Index: 119"
     },
     "execution_count": 1,
     "metadata": {}
    },
    {
     "output_type": "execute_result",
     "data": {
      "text/plain": "Phase: Bottleneck Computation, Dataset used:      Train, Image Index: 120"
     },
     "execution_count": 1,
     "metadata": {}
    },
    {
     "output_type": "execute_result",
     "data": {
      "text/plain": "Phase: Bottleneck Computation, Dataset used:      Train, Image Index: 121"
     },
     "execution_count": 1,
     "metadata": {}
    },
    {
     "output_type": "execute_result",
     "data": {
      "text/plain": "Phase: Bottleneck Computation, Dataset used:      Train, Image Index: 122"
     },
     "execution_count": 1,
     "metadata": {}
    },
    {
     "output_type": "execute_result",
     "data": {
      "text/plain": "Phase: Bottleneck Computation, Dataset used:      Train, Image Index: 123"
     },
     "execution_count": 1,
     "metadata": {}
    },
    {
     "output_type": "execute_result",
     "data": {
      "text/plain": "Phase: Bottleneck Computation, Dataset used:      Train, Image Index: 124"
     },
     "execution_count": 1,
     "metadata": {}
    },
    {
     "output_type": "execute_result",
     "data": {
      "text/plain": "Phase: Bottleneck Computation, Dataset used:      Train, Image Index: 125"
     },
     "execution_count": 1,
     "metadata": {}
    },
    {
     "output_type": "execute_result",
     "data": {
      "text/plain": "Phase: Bottleneck Computation, Dataset used:      Train, Image Index: 126"
     },
     "execution_count": 1,
     "metadata": {}
    },
    {
     "output_type": "execute_result",
     "data": {
      "text/plain": "Phase: Bottleneck Computation, Dataset used:      Train, Image Index: 127"
     },
     "execution_count": 1,
     "metadata": {}
    },
    {
     "output_type": "execute_result",
     "data": {
      "text/plain": "Phase: Bottleneck Computation, Dataset used:      Train, Image Index: 128"
     },
     "execution_count": 1,
     "metadata": {}
    },
    {
     "output_type": "execute_result",
     "data": {
      "text/plain": "Phase: Bottleneck Computation, Dataset used:      Train, Image Index: 129"
     },
     "execution_count": 1,
     "metadata": {}
    },
    {
     "output_type": "execute_result",
     "data": {
      "text/plain": "Phase: Bottleneck Computation, Dataset used:      Train, Image Index: 130"
     },
     "execution_count": 1,
     "metadata": {}
    },
    {
     "output_type": "execute_result",
     "data": {
      "text/plain": "Phase: Bottleneck Computation, Dataset used:      Train, Image Index: 131"
     },
     "execution_count": 1,
     "metadata": {}
    },
    {
     "output_type": "execute_result",
     "data": {
      "text/plain": "Phase: Bottleneck Computation, Dataset used:      Train, Image Index: 132"
     },
     "execution_count": 1,
     "metadata": {}
    },
    {
     "output_type": "execute_result",
     "data": {
      "text/plain": "Phase: Bottleneck Computation, Dataset used:      Train, Image Index: 133"
     },
     "execution_count": 1,
     "metadata": {}
    },
    {
     "output_type": "execute_result",
     "data": {
      "text/plain": "Phase: Bottleneck Computation, Dataset used:      Train, Image Index: 134"
     },
     "execution_count": 1,
     "metadata": {}
    },
    {
     "output_type": "execute_result",
     "data": {
      "text/plain": "Phase: Bottleneck Computation, Dataset used:      Train, Image Index: 135"
     },
     "execution_count": 1,
     "metadata": {}
    },
    {
     "output_type": "execute_result",
     "data": {
      "text/plain": "Phase: Bottleneck Computation, Dataset used:      Train, Image Index: 136"
     },
     "execution_count": 1,
     "metadata": {}
    },
    {
     "output_type": "execute_result",
     "data": {
      "text/plain": "Phase: Bottleneck Computation, Dataset used:      Train, Image Index: 137"
     },
     "execution_count": 1,
     "metadata": {}
    },
    {
     "output_type": "execute_result",
     "data": {
      "text/plain": "Phase: Bottleneck Computation, Dataset used:      Train, Image Index: 138"
     },
     "execution_count": 1,
     "metadata": {}
    },
    {
     "output_type": "execute_result",
     "data": {
      "text/plain": "Phase: Bottleneck Computation, Dataset used:      Train, Image Index: 139"
     },
     "execution_count": 1,
     "metadata": {}
    },
    {
     "output_type": "execute_result",
     "data": {
      "text/plain": "Phase: Bottleneck Computation, Dataset used:      Train, Image Index: 140"
     },
     "execution_count": 1,
     "metadata": {}
    },
    {
     "output_type": "execute_result",
     "data": {
      "text/plain": "Phase: Bottleneck Computation, Dataset used:      Train, Image Index: 141"
     },
     "execution_count": 1,
     "metadata": {}
    },
    {
     "output_type": "execute_result",
     "data": {
      "text/plain": "Phase: Bottleneck Computation, Dataset used:      Train, Image Index: 142"
     },
     "execution_count": 1,
     "metadata": {}
    },
    {
     "output_type": "execute_result",
     "data": {
      "text/plain": "Phase: Bottleneck Computation, Dataset used:      Train, Image Index: 143"
     },
     "execution_count": 1,
     "metadata": {}
    },
    {
     "output_type": "execute_result",
     "data": {
      "text/plain": "Phase: Bottleneck Computation, Dataset used:      Train, Image Index: 144"
     },
     "execution_count": 1,
     "metadata": {}
    },
    {
     "output_type": "execute_result",
     "data": {
      "text/plain": "Phase: Bottleneck Computation, Dataset used:      Train, Image Index: 145"
     },
     "execution_count": 1,
     "metadata": {}
    },
    {
     "output_type": "execute_result",
     "data": {
      "text/plain": "Phase: Bottleneck Computation, Dataset used:      Train, Image Index: 146"
     },
     "execution_count": 1,
     "metadata": {}
    },
    {
     "output_type": "execute_result",
     "data": {
      "text/plain": "Phase: Bottleneck Computation, Dataset used:      Train, Image Index: 147"
     },
     "execution_count": 1,
     "metadata": {}
    },
    {
     "output_type": "execute_result",
     "data": {
      "text/plain": "Phase: Bottleneck Computation, Dataset used:      Train, Image Index: 148"
     },
     "execution_count": 1,
     "metadata": {}
    },
    {
     "output_type": "execute_result",
     "data": {
      "text/plain": "Phase: Bottleneck Computation, Dataset used:      Train, Image Index: 149"
     },
     "execution_count": 1,
     "metadata": {}
    },
    {
     "output_type": "execute_result",
     "data": {
      "text/plain": "Phase: Bottleneck Computation, Dataset used:      Train, Image Index: 150"
     },
     "execution_count": 1,
     "metadata": {}
    },
    {
     "output_type": "execute_result",
     "data": {
      "text/plain": "Phase: Bottleneck Computation, Dataset used:      Train, Image Index: 151"
     },
     "execution_count": 1,
     "metadata": {}
    },
    {
     "output_type": "execute_result",
     "data": {
      "text/plain": "Phase: Bottleneck Computation, Dataset used:      Train, Image Index: 152"
     },
     "execution_count": 1,
     "metadata": {}
    },
    {
     "output_type": "execute_result",
     "data": {
      "text/plain": "Phase: Bottleneck Computation, Dataset used:      Train, Image Index: 153"
     },
     "execution_count": 1,
     "metadata": {}
    },
    {
     "output_type": "execute_result",
     "data": {
      "text/plain": "Phase: Bottleneck Computation, Dataset used:      Train, Image Index: 154"
     },
     "execution_count": 1,
     "metadata": {}
    },
    {
     "output_type": "execute_result",
     "data": {
      "text/plain": "Phase: Bottleneck Computation, Dataset used:      Train, Image Index: 155"
     },
     "execution_count": 1,
     "metadata": {}
    },
    {
     "output_type": "execute_result",
     "data": {
      "text/plain": "Phase: Bottleneck Computation, Dataset used:      Train, Image Index: 156"
     },
     "execution_count": 1,
     "metadata": {}
    },
    {
     "output_type": "execute_result",
     "data": {
      "text/plain": "Phase: Bottleneck Computation, Dataset used:      Train, Image Index: 157"
     },
     "execution_count": 1,
     "metadata": {}
    },
    {
     "output_type": "execute_result",
     "data": {
      "text/plain": "Phase: Bottleneck Computation, Dataset used:      Train, Image Index: 158"
     },
     "execution_count": 1,
     "metadata": {}
    },
    {
     "output_type": "execute_result",
     "data": {
      "text/plain": "Phase: Bottleneck Computation, Dataset used:      Train, Image Index: 159"
     },
     "execution_count": 1,
     "metadata": {}
    },
    {
     "output_type": "execute_result",
     "data": {
      "text/plain": "Phase: Bottleneck Computation, Dataset used:      Train, Image Index: 160"
     },
     "execution_count": 1,
     "metadata": {}
    },
    {
     "output_type": "execute_result",
     "data": {
      "text/plain": "Phase: Bottleneck Computation, Dataset used:      Train, Image Index: 161"
     },
     "execution_count": 1,
     "metadata": {}
    },
    {
     "output_type": "execute_result",
     "data": {
      "text/plain": "Phase: Bottleneck Computation, Dataset used:      Train, Image Index: 162"
     },
     "execution_count": 1,
     "metadata": {}
    },
    {
     "output_type": "execute_result",
     "data": {
      "text/plain": "Phase: Bottleneck Computation, Dataset used:      Train, Image Index: 163"
     },
     "execution_count": 1,
     "metadata": {}
    },
    {
     "output_type": "execute_result",
     "data": {
      "text/plain": "Phase: Bottleneck Computation, Dataset used:      Train, Image Index: 164"
     },
     "execution_count": 1,
     "metadata": {}
    },
    {
     "output_type": "execute_result",
     "data": {
      "text/plain": "Phase: Bottleneck Computation, Dataset used:      Train, Image Index: 165"
     },
     "execution_count": 1,
     "metadata": {}
    },
    {
     "output_type": "execute_result",
     "data": {
      "text/plain": "Phase: Bottleneck Computation, Dataset used:      Train, Image Index: 166"
     },
     "execution_count": 1,
     "metadata": {}
    },
    {
     "output_type": "execute_result",
     "data": {
      "text/plain": "Phase: Bottleneck Computation, Dataset used:      Train, Image Index: 167"
     },
     "execution_count": 1,
     "metadata": {}
    },
    {
     "output_type": "execute_result",
     "data": {
      "text/plain": "Phase: Bottleneck Computation, Dataset used:      Train, Image Index: 168"
     },
     "execution_count": 1,
     "metadata": {}
    },
    {
     "output_type": "execute_result",
     "data": {
      "text/plain": "Phase: Bottleneck Computation, Dataset used:      Train, Image Index: 169"
     },
     "execution_count": 1,
     "metadata": {}
    },
    {
     "output_type": "execute_result",
     "data": {
      "text/plain": "Phase: Bottleneck Computation, Dataset used:      Train, Image Index: 170"
     },
     "execution_count": 1,
     "metadata": {}
    },
    {
     "output_type": "execute_result",
     "data": {
      "text/plain": "Phase: Bottleneck Computation, Dataset used:      Train, Image Index: 171"
     },
     "execution_count": 1,
     "metadata": {}
    },
    {
     "output_type": "execute_result",
     "data": {
      "text/plain": "Phase: Bottleneck Computation, Dataset used:      Train, Image Index: 172"
     },
     "execution_count": 1,
     "metadata": {}
    },
    {
     "output_type": "execute_result",
     "data": {
      "text/plain": "Phase: Bottleneck Computation, Dataset used:      Train, Image Index: 173"
     },
     "execution_count": 1,
     "metadata": {}
    },
    {
     "output_type": "execute_result",
     "data": {
      "text/plain": "Phase: Bottleneck Computation, Dataset used:      Train, Image Index: 174"
     },
     "execution_count": 1,
     "metadata": {}
    },
    {
     "output_type": "execute_result",
     "data": {
      "text/plain": "Phase: Bottleneck Computation, Dataset used:      Train, Image Index: 175"
     },
     "execution_count": 1,
     "metadata": {}
    },
    {
     "output_type": "execute_result",
     "data": {
      "text/plain": "Phase: Bottleneck Computation, Dataset used:      Train, Image Index: 176"
     },
     "execution_count": 1,
     "metadata": {}
    },
    {
     "output_type": "execute_result",
     "data": {
      "text/plain": "Phase: Bottleneck Computation, Dataset used:      Train, Image Index: 177"
     },
     "execution_count": 1,
     "metadata": {}
    },
    {
     "output_type": "execute_result",
     "data": {
      "text/plain": "Phase: Bottleneck Computation, Dataset used:      Train, Image Index: 178"
     },
     "execution_count": 1,
     "metadata": {}
    },
    {
     "output_type": "execute_result",
     "data": {
      "text/plain": "Phase: Bottleneck Computation, Dataset used:      Train, Image Index: 179"
     },
     "execution_count": 1,
     "metadata": {}
    },
    {
     "output_type": "execute_result",
     "data": {
      "text/plain": "Phase: Bottleneck Computation, Dataset used:      Train, Image Index: 180"
     },
     "execution_count": 1,
     "metadata": {}
    },
    {
     "output_type": "execute_result",
     "data": {
      "text/plain": "Phase: Bottleneck Computation, Dataset used:      Train, Image Index: 181"
     },
     "execution_count": 1,
     "metadata": {}
    },
    {
     "output_type": "execute_result",
     "data": {
      "text/plain": "Phase: Bottleneck Computation, Dataset used:      Train, Image Index: 182"
     },
     "execution_count": 1,
     "metadata": {}
    },
    {
     "output_type": "execute_result",
     "data": {
      "text/plain": "Phase: Bottleneck Computation, Dataset used:      Train, Image Index: 183"
     },
     "execution_count": 1,
     "metadata": {}
    },
    {
     "output_type": "execute_result",
     "data": {
      "text/plain": "Phase: Bottleneck Computation, Dataset used:      Train, Image Index: 184"
     },
     "execution_count": 1,
     "metadata": {}
    },
    {
     "output_type": "execute_result",
     "data": {
      "text/plain": "Phase: Bottleneck Computation, Dataset used:      Train, Image Index: 185"
     },
     "execution_count": 1,
     "metadata": {}
    },
    {
     "output_type": "execute_result",
     "data": {
      "text/plain": "Phase: Bottleneck Computation, Dataset used:      Train, Image Index: 186"
     },
     "execution_count": 1,
     "metadata": {}
    },
    {
     "output_type": "execute_result",
     "data": {
      "text/plain": "Phase: Bottleneck Computation, Dataset used:      Train, Image Index: 187"
     },
     "execution_count": 1,
     "metadata": {}
    },
    {
     "output_type": "execute_result",
     "data": {
      "text/plain": "Phase: Bottleneck Computation, Dataset used:      Train, Image Index: 188"
     },
     "execution_count": 1,
     "metadata": {}
    },
    {
     "output_type": "execute_result",
     "data": {
      "text/plain": "Phase: Bottleneck Computation, Dataset used:      Train, Image Index: 189"
     },
     "execution_count": 1,
     "metadata": {}
    },
    {
     "output_type": "execute_result",
     "data": {
      "text/plain": "Phase: Bottleneck Computation, Dataset used:      Train, Image Index: 190"
     },
     "execution_count": 1,
     "metadata": {}
    },
    {
     "output_type": "execute_result",
     "data": {
      "text/plain": "Phase: Bottleneck Computation, Dataset used:      Train, Image Index: 191"
     },
     "execution_count": 1,
     "metadata": {}
    },
    {
     "output_type": "execute_result",
     "data": {
      "text/plain": "Phase: Bottleneck Computation, Dataset used:      Train, Image Index: 192"
     },
     "execution_count": 1,
     "metadata": {}
    },
    {
     "output_type": "execute_result",
     "data": {
      "text/plain": "Phase: Bottleneck Computation, Dataset used:      Train, Image Index: 193"
     },
     "execution_count": 1,
     "metadata": {}
    },
    {
     "output_type": "execute_result",
     "data": {
      "text/plain": "Phase: Bottleneck Computation, Dataset used:      Train, Image Index: 194"
     },
     "execution_count": 1,
     "metadata": {}
    },
    {
     "output_type": "execute_result",
     "data": {
      "text/plain": "Phase: Bottleneck Computation, Dataset used:      Train, Image Index: 195"
     },
     "execution_count": 1,
     "metadata": {}
    },
    {
     "output_type": "execute_result",
     "data": {
      "text/plain": "Phase: Bottleneck Computation, Dataset used:      Train, Image Index: 196"
     },
     "execution_count": 1,
     "metadata": {}
    },
    {
     "output_type": "execute_result",
     "data": {
      "text/plain": "Phase: Bottleneck Computation, Dataset used:      Train, Image Index: 197"
     },
     "execution_count": 1,
     "metadata": {}
    },
    {
     "output_type": "execute_result",
     "data": {
      "text/plain": "Phase: Bottleneck Computation, Dataset used:      Train, Image Index: 198"
     },
     "execution_count": 1,
     "metadata": {}
    },
    {
     "output_type": "execute_result",
     "data": {
      "text/plain": "Phase: Bottleneck Computation, Dataset used:      Train, Image Index: 199"
     },
     "execution_count": 1,
     "metadata": {}
    },
    {
     "output_type": "execute_result",
     "data": {
      "text/plain": "Phase: Bottleneck Computation, Dataset used:      Train, Image Index: 200"
     },
     "execution_count": 1,
     "metadata": {}
    },
    {
     "output_type": "execute_result",
     "data": {
      "text/plain": "Phase: Bottleneck Computation, Dataset used:      Train, Image Index: 201"
     },
     "execution_count": 1,
     "metadata": {}
    },
    {
     "output_type": "execute_result",
     "data": {
      "text/plain": "Phase: Bottleneck Computation, Dataset used:      Train, Image Index: 202"
     },
     "execution_count": 1,
     "metadata": {}
    },
    {
     "output_type": "execute_result",
     "data": {
      "text/plain": "Phase: Bottleneck Computation, Dataset used:      Train, Image Index: 203"
     },
     "execution_count": 1,
     "metadata": {}
    },
    {
     "output_type": "execute_result",
     "data": {
      "text/plain": "Phase: Bottleneck Computation, Dataset used:      Train, Image Index: 204"
     },
     "execution_count": 1,
     "metadata": {}
    },
    {
     "output_type": "execute_result",
     "data": {
      "text/plain": "Phase: Bottleneck Computation, Dataset used:      Train, Image Index: 205"
     },
     "execution_count": 1,
     "metadata": {}
    },
    {
     "output_type": "execute_result",
     "data": {
      "text/plain": "Phase: Bottleneck Computation, Dataset used:      Train, Image Index: 206"
     },
     "execution_count": 1,
     "metadata": {}
    },
    {
     "output_type": "execute_result",
     "data": {
      "text/plain": "Phase: Bottleneck Computation, Dataset used:      Train, Image Index: 207"
     },
     "execution_count": 1,
     "metadata": {}
    },
    {
     "output_type": "execute_result",
     "data": {
      "text/plain": "Phase: Bottleneck Computation, Dataset used:      Train, Image Index: 208"
     },
     "execution_count": 1,
     "metadata": {}
    },
    {
     "output_type": "execute_result",
     "data": {
      "text/plain": "Phase: Bottleneck Computation, Dataset used:      Train, Image Index: 209"
     },
     "execution_count": 1,
     "metadata": {}
    },
    {
     "output_type": "execute_result",
     "data": {
      "text/plain": "Phase: Bottleneck Computation, Dataset used:      Train, Image Index: 210"
     },
     "execution_count": 1,
     "metadata": {}
    },
    {
     "output_type": "execute_result",
     "data": {
      "text/plain": "Phase: Bottleneck Computation, Dataset used:      Train, Image Index: 211"
     },
     "execution_count": 1,
     "metadata": {}
    },
    {
     "output_type": "execute_result",
     "data": {
      "text/plain": "Phase: Bottleneck Computation, Dataset used:      Train, Image Index: 212"
     },
     "execution_count": 1,
     "metadata": {}
    },
    {
     "output_type": "execute_result",
     "data": {
      "text/plain": "Phase: Bottleneck Computation, Dataset used:      Train, Image Index: 213"
     },
     "execution_count": 1,
     "metadata": {}
    },
    {
     "output_type": "execute_result",
     "data": {
      "text/plain": "Phase: Bottleneck Computation, Dataset used:      Train, Image Index: 214"
     },
     "execution_count": 1,
     "metadata": {}
    },
    {
     "output_type": "execute_result",
     "data": {
      "text/plain": "Phase: Bottleneck Computation, Dataset used:      Train, Image Index: 215"
     },
     "execution_count": 1,
     "metadata": {}
    },
    {
     "output_type": "execute_result",
     "data": {
      "text/plain": "Phase: Bottleneck Computation, Dataset used:      Train, Image Index: 216"
     },
     "execution_count": 1,
     "metadata": {}
    },
    {
     "output_type": "execute_result",
     "data": {
      "text/plain": "Phase: Bottleneck Computation, Dataset used:      Train, Image Index: 217"
     },
     "execution_count": 1,
     "metadata": {}
    },
    {
     "output_type": "execute_result",
     "data": {
      "text/plain": "Phase: Bottleneck Computation, Dataset used:      Train, Image Index: 218"
     },
     "execution_count": 1,
     "metadata": {}
    },
    {
     "output_type": "execute_result",
     "data": {
      "text/plain": "Phase: Bottleneck Computation, Dataset used:      Train, Image Index: 219"
     },
     "execution_count": 1,
     "metadata": {}
    },
    {
     "output_type": "execute_result",
     "data": {
      "text/plain": "Phase: Bottleneck Computation, Dataset used:      Train, Image Index: 220"
     },
     "execution_count": 1,
     "metadata": {}
    },
    {
     "output_type": "execute_result",
     "data": {
      "text/plain": "Phase: Bottleneck Computation, Dataset used:      Train, Image Index: 221"
     },
     "execution_count": 1,
     "metadata": {}
    },
    {
     "output_type": "execute_result",
     "data": {
      "text/plain": "Phase: Bottleneck Computation, Dataset used:      Train, Image Index: 222"
     },
     "execution_count": 1,
     "metadata": {}
    },
    {
     "output_type": "execute_result",
     "data": {
      "text/plain": "Phase: Bottleneck Computation, Dataset used:      Train, Image Index: 223"
     },
     "execution_count": 1,
     "metadata": {}
    },
    {
     "output_type": "execute_result",
     "data": {
      "text/plain": "Phase: Bottleneck Computation, Dataset used:      Train, Image Index: 224"
     },
     "execution_count": 1,
     "metadata": {}
    },
    {
     "output_type": "execute_result",
     "data": {
      "text/plain": "Phase: Bottleneck Computation, Dataset used:      Train, Image Index: 225"
     },
     "execution_count": 1,
     "metadata": {}
    },
    {
     "output_type": "execute_result",
     "data": {
      "text/plain": "Phase: Bottleneck Computation, Dataset used:      Train, Image Index: 226"
     },
     "execution_count": 1,
     "metadata": {}
    },
    {
     "output_type": "execute_result",
     "data": {
      "text/plain": "Phase: Bottleneck Computation, Dataset used:      Train, Image Index: 227"
     },
     "execution_count": 1,
     "metadata": {}
    },
    {
     "output_type": "execute_result",
     "data": {
      "text/plain": "Phase: Bottleneck Computation, Dataset used:      Train, Image Index: 228"
     },
     "execution_count": 1,
     "metadata": {}
    },
    {
     "output_type": "execute_result",
     "data": {
      "text/plain": "Phase: Bottleneck Computation, Dataset used:      Train, Image Index: 229"
     },
     "execution_count": 1,
     "metadata": {}
    },
    {
     "output_type": "execute_result",
     "data": {
      "text/plain": "Phase: Bottleneck Computation, Dataset used:      Train, Image Index: 230"
     },
     "execution_count": 1,
     "metadata": {}
    },
    {
     "output_type": "execute_result",
     "data": {
      "text/plain": "Phase: Bottleneck Computation, Dataset used:      Train, Image Index: 231"
     },
     "execution_count": 1,
     "metadata": {}
    },
    {
     "output_type": "execute_result",
     "data": {
      "text/plain": "Phase: Bottleneck Computation, Dataset used:      Train, Image Index: 232"
     },
     "execution_count": 1,
     "metadata": {}
    },
    {
     "output_type": "execute_result",
     "data": {
      "text/plain": "Phase: Bottleneck Computation, Dataset used:      Train, Image Index: 233"
     },
     "execution_count": 1,
     "metadata": {}
    },
    {
     "output_type": "execute_result",
     "data": {
      "text/plain": "Phase: Bottleneck Computation, Dataset used:      Train, Image Index: 234"
     },
     "execution_count": 1,
     "metadata": {}
    },
    {
     "output_type": "execute_result",
     "data": {
      "text/plain": "Phase: Bottleneck Computation, Dataset used:      Train, Image Index: 235"
     },
     "execution_count": 1,
     "metadata": {}
    },
    {
     "output_type": "execute_result",
     "data": {
      "text/plain": "Phase: Bottleneck Computation, Dataset used:      Train, Image Index: 236"
     },
     "execution_count": 1,
     "metadata": {}
    },
    {
     "output_type": "execute_result",
     "data": {
      "text/plain": "Phase: Bottleneck Computation, Dataset used:      Train, Image Index: 237"
     },
     "execution_count": 1,
     "metadata": {}
    },
    {
     "output_type": "execute_result",
     "data": {
      "text/plain": "Phase: Bottleneck Computation, Dataset used:      Train, Image Index: 238"
     },
     "execution_count": 1,
     "metadata": {}
    },
    {
     "output_type": "execute_result",
     "data": {
      "text/plain": "Phase: Bottleneck Computation, Dataset used:      Train, Image Index: 239"
     },
     "execution_count": 1,
     "metadata": {}
    },
    {
     "output_type": "execute_result",
     "data": {
      "text/plain": "Phase: Bottleneck Computation, Dataset used:      Train, Image Index: 240"
     },
     "execution_count": 1,
     "metadata": {}
    },
    {
     "output_type": "execute_result",
     "data": {
      "text/plain": "Phase: Bottleneck Computation, Dataset used:      Train, Image Index: 241"
     },
     "execution_count": 1,
     "metadata": {}
    },
    {
     "output_type": "execute_result",
     "data": {
      "text/plain": "Phase: Bottleneck Computation, Dataset used:      Train, Image Index: 242"
     },
     "execution_count": 1,
     "metadata": {}
    },
    {
     "output_type": "execute_result",
     "data": {
      "text/plain": "Phase: Bottleneck Computation, Dataset used:      Train, Image Index: 243"
     },
     "execution_count": 1,
     "metadata": {}
    },
    {
     "output_type": "execute_result",
     "data": {
      "text/plain": "Phase: Bottleneck Computation, Dataset used:      Train, Image Index: 244"
     },
     "execution_count": 1,
     "metadata": {}
    },
    {
     "output_type": "execute_result",
     "data": {
      "text/plain": "Phase: Bottleneck Computation, Dataset used:      Train, Image Index: 245"
     },
     "execution_count": 1,
     "metadata": {}
    },
    {
     "output_type": "execute_result",
     "data": {
      "text/plain": "Phase: Bottleneck Computation, Dataset used:      Train, Image Index: 246"
     },
     "execution_count": 1,
     "metadata": {}
    },
    {
     "output_type": "execute_result",
     "data": {
      "text/plain": "Phase: Bottleneck Computation, Dataset used:      Train, Image Index: 247"
     },
     "execution_count": 1,
     "metadata": {}
    },
    {
     "output_type": "execute_result",
     "data": {
      "text/plain": "Phase: Bottleneck Computation, Dataset used:      Train, Image Index: 248"
     },
     "execution_count": 1,
     "metadata": {}
    },
    {
     "output_type": "execute_result",
     "data": {
      "text/plain": "Phase: Bottleneck Computation, Dataset used:      Train, Image Index: 249"
     },
     "execution_count": 1,
     "metadata": {}
    },
    {
     "output_type": "execute_result",
     "data": {
      "text/plain": "Phase: Bottleneck Computation, Dataset used:      Train, Image Index: 250"
     },
     "execution_count": 1,
     "metadata": {}
    },
    {
     "output_type": "execute_result",
     "data": {
      "text/plain": "Phase: Bottleneck Computation, Dataset used:      Train, Image Index: 251"
     },
     "execution_count": 1,
     "metadata": {}
    },
    {
     "output_type": "execute_result",
     "data": {
      "text/plain": "Phase: Bottleneck Computation, Dataset used:      Train, Image Index: 252"
     },
     "execution_count": 1,
     "metadata": {}
    },
    {
     "output_type": "execute_result",
     "data": {
      "text/plain": "Phase: Bottleneck Computation, Dataset used:      Train, Image Index: 253"
     },
     "execution_count": 1,
     "metadata": {}
    },
    {
     "output_type": "execute_result",
     "data": {
      "text/plain": "Phase: Bottleneck Computation, Dataset used:      Train, Image Index: 254"
     },
     "execution_count": 1,
     "metadata": {}
    },
    {
     "output_type": "execute_result",
     "data": {
      "text/plain": "Phase: Bottleneck Computation, Dataset used:      Train, Image Index: 255"
     },
     "execution_count": 1,
     "metadata": {}
    },
    {
     "output_type": "execute_result",
     "data": {
      "text/plain": "Phase: Bottleneck Computation, Dataset used:      Train, Image Index: 256"
     },
     "execution_count": 1,
     "metadata": {}
    },
    {
     "output_type": "execute_result",
     "data": {
      "text/plain": "Phase: Bottleneck Computation, Dataset used:      Train, Image Index: 257"
     },
     "execution_count": 1,
     "metadata": {}
    },
    {
     "output_type": "execute_result",
     "data": {
      "text/plain": "Phase: Bottleneck Computation, Dataset used:      Train, Image Index: 258"
     },
     "execution_count": 1,
     "metadata": {}
    },
    {
     "output_type": "execute_result",
     "data": {
      "text/plain": "Phase: Bottleneck Computation, Dataset used:      Train, Image Index: 259"
     },
     "execution_count": 1,
     "metadata": {}
    },
    {
     "output_type": "execute_result",
     "data": {
      "text/plain": "Phase: Bottleneck Computation, Dataset used:      Train, Image Index: 260"
     },
     "execution_count": 1,
     "metadata": {}
    },
    {
     "output_type": "execute_result",
     "data": {
      "text/plain": "Phase: Bottleneck Computation, Dataset used:      Train, Image Index: 261"
     },
     "execution_count": 1,
     "metadata": {}
    },
    {
     "output_type": "execute_result",
     "data": {
      "text/plain": "Phase: Bottleneck Computation, Dataset used:      Train, Image Index: 262"
     },
     "execution_count": 1,
     "metadata": {}
    },
    {
     "output_type": "execute_result",
     "data": {
      "text/plain": "Phase: Bottleneck Computation, Dataset used:      Train, Image Index: 263"
     },
     "execution_count": 1,
     "metadata": {}
    },
    {
     "output_type": "execute_result",
     "data": {
      "text/plain": "Phase: Bottleneck Computation, Dataset used:      Train, Image Index: 264"
     },
     "execution_count": 1,
     "metadata": {}
    },
    {
     "output_type": "execute_result",
     "data": {
      "text/plain": "Phase: Bottleneck Computation, Dataset used:      Train, Image Index: 265"
     },
     "execution_count": 1,
     "metadata": {}
    },
    {
     "output_type": "execute_result",
     "data": {
      "text/plain": "Phase: Bottleneck Computation, Dataset used:      Train, Image Index: 266"
     },
     "execution_count": 1,
     "metadata": {}
    },
    {
     "output_type": "execute_result",
     "data": {
      "text/plain": "Phase: Bottleneck Computation, Dataset used:      Train, Image Index: 267"
     },
     "execution_count": 1,
     "metadata": {}
    },
    {
     "output_type": "execute_result",
     "data": {
      "text/plain": "Phase: Bottleneck Computation, Dataset used:      Train, Image Index: 268"
     },
     "execution_count": 1,
     "metadata": {}
    },
    {
     "output_type": "execute_result",
     "data": {
      "text/plain": "Phase: Bottleneck Computation, Dataset used:      Train, Image Index: 269"
     },
     "execution_count": 1,
     "metadata": {}
    },
    {
     "output_type": "execute_result",
     "data": {
      "text/plain": "Phase: Bottleneck Computation, Dataset used:      Train, Image Index: 270"
     },
     "execution_count": 1,
     "metadata": {}
    },
    {
     "output_type": "execute_result",
     "data": {
      "text/plain": "Phase: Bottleneck Computation, Dataset used:      Train, Image Index: 271"
     },
     "execution_count": 1,
     "metadata": {}
    },
    {
     "output_type": "execute_result",
     "data": {
      "text/plain": "Phase: Bottleneck Computation, Dataset used:      Train, Image Index: 272"
     },
     "execution_count": 1,
     "metadata": {}
    },
    {
     "output_type": "execute_result",
     "data": {
      "text/plain": "Phase: Bottleneck Computation, Dataset used:      Train, Image Index: 273"
     },
     "execution_count": 1,
     "metadata": {}
    },
    {
     "output_type": "execute_result",
     "data": {
      "text/plain": "Phase: Bottleneck Computation, Dataset used:      Train, Image Index: 274"
     },
     "execution_count": 1,
     "metadata": {}
    },
    {
     "output_type": "execute_result",
     "data": {
      "text/plain": "Phase: Bottleneck Computation, Dataset used:      Train, Image Index: 275"
     },
     "execution_count": 1,
     "metadata": {}
    },
    {
     "output_type": "execute_result",
     "data": {
      "text/plain": "Phase: Bottleneck Computation, Dataset used:      Train, Image Index: 276"
     },
     "execution_count": 1,
     "metadata": {}
    },
    {
     "output_type": "execute_result",
     "data": {
      "text/plain": "Phase: Bottleneck Computation, Dataset used:      Train, Image Index: 277"
     },
     "execution_count": 1,
     "metadata": {}
    },
    {
     "output_type": "execute_result",
     "data": {
      "text/plain": "Phase: Bottleneck Computation, Dataset used:      Train, Image Index: 278"
     },
     "execution_count": 1,
     "metadata": {}
    },
    {
     "output_type": "execute_result",
     "data": {
      "text/plain": "Phase: Bottleneck Computation, Dataset used:      Train, Image Index: 279"
     },
     "execution_count": 1,
     "metadata": {}
    },
    {
     "output_type": "execute_result",
     "data": {
      "text/plain": "Phase: Bottleneck Computation, Dataset used:      Train, Image Index: 280"
     },
     "execution_count": 1,
     "metadata": {}
    },
    {
     "output_type": "execute_result",
     "data": {
      "text/plain": "Phase: Bottleneck Computation, Dataset used:      Train, Image Index: 281"
     },
     "execution_count": 1,
     "metadata": {}
    },
    {
     "output_type": "execute_result",
     "data": {
      "text/plain": "Phase: Bottleneck Computation, Dataset used:      Train, Image Index: 282"
     },
     "execution_count": 1,
     "metadata": {}
    },
    {
     "output_type": "execute_result",
     "data": {
      "text/plain": "Phase: Bottleneck Computation, Dataset used:      Train, Image Index: 283"
     },
     "execution_count": 1,
     "metadata": {}
    },
    {
     "output_type": "execute_result",
     "data": {
      "text/plain": "Phase: Bottleneck Computation, Dataset used:      Train, Image Index: 284"
     },
     "execution_count": 1,
     "metadata": {}
    },
    {
     "output_type": "execute_result",
     "data": {
      "text/plain": "Phase: Bottleneck Computation, Dataset used:      Train, Image Index: 285"
     },
     "execution_count": 1,
     "metadata": {}
    },
    {
     "output_type": "execute_result",
     "data": {
      "text/plain": "Phase: Bottleneck Computation, Dataset used:      Train, Image Index: 286"
     },
     "execution_count": 1,
     "metadata": {}
    },
    {
     "output_type": "execute_result",
     "data": {
      "text/plain": "Phase: Bottleneck Computation, Dataset used:      Train, Image Index: 287"
     },
     "execution_count": 1,
     "metadata": {}
    },
    {
     "output_type": "execute_result",
     "data": {
      "text/plain": "Phase: Bottleneck Computation, Dataset used:      Train, Image Index: 288"
     },
     "execution_count": 1,
     "metadata": {}
    },
    {
     "output_type": "execute_result",
     "data": {
      "text/plain": "Phase: Bottleneck Computation, Dataset used:      Train, Image Index: 289"
     },
     "execution_count": 1,
     "metadata": {}
    },
    {
     "output_type": "execute_result",
     "data": {
      "text/plain": "Phase: Bottleneck Computation, Dataset used:      Train, Image Index: 290"
     },
     "execution_count": 1,
     "metadata": {}
    },
    {
     "output_type": "execute_result",
     "data": {
      "text/plain": "Phase: Bottleneck Computation, Dataset used:      Train, Image Index: 291"
     },
     "execution_count": 1,
     "metadata": {}
    },
    {
     "output_type": "execute_result",
     "data": {
      "text/plain": "Phase: Bottleneck Computation, Dataset used:      Train, Image Index: 292"
     },
     "execution_count": 1,
     "metadata": {}
    },
    {
     "output_type": "execute_result",
     "data": {
      "text/plain": "Phase: Bottleneck Computation, Dataset used:      Train, Image Index: 293"
     },
     "execution_count": 1,
     "metadata": {}
    },
    {
     "output_type": "execute_result",
     "data": {
      "text/plain": "Phase: Bottleneck Computation, Dataset used:      Train, Image Index: 294"
     },
     "execution_count": 1,
     "metadata": {}
    },
    {
     "output_type": "execute_result",
     "data": {
      "text/plain": "Phase: Bottleneck Computation, Dataset used:      Train, Image Index: 295"
     },
     "execution_count": 1,
     "metadata": {}
    },
    {
     "output_type": "execute_result",
     "data": {
      "text/plain": "Phase: Bottleneck Computation, Dataset used:      Train, Image Index: 296"
     },
     "execution_count": 1,
     "metadata": {}
    },
    {
     "output_type": "execute_result",
     "data": {
      "text/plain": "Phase: Bottleneck Computation, Dataset used:      Train, Image Index: 297"
     },
     "execution_count": 1,
     "metadata": {}
    },
    {
     "output_type": "execute_result",
     "data": {
      "text/plain": "Phase: Bottleneck Computation, Dataset used:      Train, Image Index: 298"
     },
     "execution_count": 1,
     "metadata": {}
    },
    {
     "output_type": "execute_result",
     "data": {
      "text/plain": "Phase: Bottleneck Computation, Dataset used:      Train, Image Index: 299"
     },
     "execution_count": 1,
     "metadata": {}
    },
    {
     "output_type": "execute_result",
     "data": {
      "text/plain": "Phase: Bottleneck Computation, Dataset used:      Train, Image Index: 300"
     },
     "execution_count": 1,
     "metadata": {}
    },
    {
     "output_type": "execute_result",
     "data": {
      "text/plain": "Phase: Bottleneck Computation, Dataset used:      Train, Image Index: 301"
     },
     "execution_count": 1,
     "metadata": {}
    },
    {
     "output_type": "execute_result",
     "data": {
      "text/plain": "Phase: Bottleneck Computation, Dataset used:      Train, Image Index: 302"
     },
     "execution_count": 1,
     "metadata": {}
    },
    {
     "output_type": "execute_result",
     "data": {
      "text/plain": "Phase: Bottleneck Computation, Dataset used:      Train, Image Index: 303"
     },
     "execution_count": 1,
     "metadata": {}
    },
    {
     "output_type": "execute_result",
     "data": {
      "text/plain": "Phase: Bottleneck Computation, Dataset used:      Train, Image Index: 304"
     },
     "execution_count": 1,
     "metadata": {}
    },
    {
     "output_type": "execute_result",
     "data": {
      "text/plain": "Phase: Bottleneck Computation, Dataset used:      Train, Image Index: 305"
     },
     "execution_count": 1,
     "metadata": {}
    },
    {
     "output_type": "execute_result",
     "data": {
      "text/plain": "Phase: Bottleneck Computation, Dataset used:      Train, Image Index: 306"
     },
     "execution_count": 1,
     "metadata": {}
    },
    {
     "output_type": "execute_result",
     "data": {
      "text/plain": "Phase: Bottleneck Computation, Dataset used:      Train, Image Index: 307"
     },
     "execution_count": 1,
     "metadata": {}
    },
    {
     "output_type": "execute_result",
     "data": {
      "text/plain": "Phase: Bottleneck Computation, Dataset used:      Train, Image Index: 308"
     },
     "execution_count": 1,
     "metadata": {}
    },
    {
     "output_type": "execute_result",
     "data": {
      "text/plain": "Phase: Bottleneck Computation, Dataset used:      Train, Image Index: 309"
     },
     "execution_count": 1,
     "metadata": {}
    },
    {
     "output_type": "execute_result",
     "data": {
      "text/plain": "Phase: Bottleneck Computation, Dataset used:      Train, Image Index: 310"
     },
     "execution_count": 1,
     "metadata": {}
    },
    {
     "output_type": "execute_result",
     "data": {
      "text/plain": "Phase: Bottleneck Computation, Dataset used:      Train, Image Index: 311"
     },
     "execution_count": 1,
     "metadata": {}
    },
    {
     "output_type": "execute_result",
     "data": {
      "text/plain": "Phase: Bottleneck Computation, Dataset used:      Train, Image Index: 312"
     },
     "execution_count": 1,
     "metadata": {}
    },
    {
     "output_type": "execute_result",
     "data": {
      "text/plain": "Phase: Bottleneck Computation, Dataset used:      Train, Image Index: 313"
     },
     "execution_count": 1,
     "metadata": {}
    },
    {
     "output_type": "execute_result",
     "data": {
      "text/plain": "Phase: Bottleneck Computation, Dataset used:      Train, Image Index: 314"
     },
     "execution_count": 1,
     "metadata": {}
    },
    {
     "output_type": "execute_result",
     "data": {
      "text/plain": "Phase: Bottleneck Computation, Dataset used:      Train, Image Index: 315"
     },
     "execution_count": 1,
     "metadata": {}
    },
    {
     "output_type": "execute_result",
     "data": {
      "text/plain": "Phase: Bottleneck Computation, Dataset used:      Train, Image Index: 316"
     },
     "execution_count": 1,
     "metadata": {}
    },
    {
     "output_type": "execute_result",
     "data": {
      "text/plain": "Phase: Bottleneck Computation, Dataset used:      Train, Image Index: 317"
     },
     "execution_count": 1,
     "metadata": {}
    },
    {
     "output_type": "execute_result",
     "data": {
      "text/plain": "Phase: Bottleneck Computation, Dataset used:      Train, Image Index: 318"
     },
     "execution_count": 1,
     "metadata": {}
    },
    {
     "output_type": "execute_result",
     "data": {
      "text/plain": "Phase: Bottleneck Computation, Dataset used:      Train, Image Index: 319"
     },
     "execution_count": 1,
     "metadata": {}
    },
    {
     "output_type": "execute_result",
     "data": {
      "text/plain": "Phase: Bottleneck Computation, Dataset used:      Train, Image Index: 320"
     },
     "execution_count": 1,
     "metadata": {}
    },
    {
     "output_type": "execute_result",
     "data": {
      "text/plain": "Phase: Bottleneck Computation, Dataset used:      Train, Image Index: 321"
     },
     "execution_count": 1,
     "metadata": {}
    },
    {
     "output_type": "execute_result",
     "data": {
      "text/plain": "Phase: Bottleneck Computation, Dataset used:      Train, Image Index: 322"
     },
     "execution_count": 1,
     "metadata": {}
    },
    {
     "output_type": "execute_result",
     "data": {
      "text/plain": "Phase: Bottleneck Computation, Dataset used:      Train, Image Index: 323"
     },
     "execution_count": 1,
     "metadata": {}
    },
    {
     "output_type": "execute_result",
     "data": {
      "text/plain": "Phase: Bottleneck Computation, Dataset used:      Train, Image Index: 324"
     },
     "execution_count": 1,
     "metadata": {}
    },
    {
     "output_type": "execute_result",
     "data": {
      "text/plain": "Phase: Bottleneck Computation, Dataset used:      Train, Image Index: 325"
     },
     "execution_count": 1,
     "metadata": {}
    },
    {
     "output_type": "execute_result",
     "data": {
      "text/plain": "Phase: Bottleneck Computation, Dataset used:      Train, Image Index: 326"
     },
     "execution_count": 1,
     "metadata": {}
    },
    {
     "output_type": "execute_result",
     "data": {
      "text/plain": "Phase: Bottleneck Computation, Dataset used:      Train, Image Index: 327"
     },
     "execution_count": 1,
     "metadata": {}
    },
    {
     "output_type": "execute_result",
     "data": {
      "text/plain": "Phase: Bottleneck Computation, Dataset used:      Train, Image Index: 328"
     },
     "execution_count": 1,
     "metadata": {}
    },
    {
     "output_type": "execute_result",
     "data": {
      "text/plain": "Phase: Bottleneck Computation, Dataset used:      Train, Image Index: 329"
     },
     "execution_count": 1,
     "metadata": {}
    },
    {
     "output_type": "execute_result",
     "data": {
      "text/plain": "Phase: Bottleneck Computation, Dataset used:      Train, Image Index: 330"
     },
     "execution_count": 1,
     "metadata": {}
    },
    {
     "output_type": "execute_result",
     "data": {
      "text/plain": "Phase: Bottleneck Computation, Dataset used:      Train, Image Index: 331"
     },
     "execution_count": 1,
     "metadata": {}
    },
    {
     "output_type": "execute_result",
     "data": {
      "text/plain": "Phase: Bottleneck Computation, Dataset used:      Train, Image Index: 332"
     },
     "execution_count": 1,
     "metadata": {}
    },
    {
     "output_type": "execute_result",
     "data": {
      "text/plain": "Phase: Bottleneck Computation, Dataset used:      Train, Image Index: 333"
     },
     "execution_count": 1,
     "metadata": {}
    },
    {
     "output_type": "execute_result",
     "data": {
      "text/plain": "Phase: Bottleneck Computation, Dataset used:      Train, Image Index: 334"
     },
     "execution_count": 1,
     "metadata": {}
    },
    {
     "output_type": "execute_result",
     "data": {
      "text/plain": "Phase: Bottleneck Computation, Dataset used:      Train, Image Index: 335"
     },
     "execution_count": 1,
     "metadata": {}
    },
    {
     "output_type": "execute_result",
     "data": {
      "text/plain": "Phase: Bottleneck Computation, Dataset used:      Train, Image Index: 336"
     },
     "execution_count": 1,
     "metadata": {}
    },
    {
     "output_type": "execute_result",
     "data": {
      "text/plain": "Phase: Bottleneck Computation, Dataset used:      Train, Image Index: 337"
     },
     "execution_count": 1,
     "metadata": {}
    },
    {
     "output_type": "execute_result",
     "data": {
      "text/plain": "Phase: Bottleneck Computation, Dataset used:      Train, Image Index: 338"
     },
     "execution_count": 1,
     "metadata": {}
    },
    {
     "output_type": "execute_result",
     "data": {
      "text/plain": "Phase: Bottleneck Computation, Dataset used:      Train, Image Index: 339"
     },
     "execution_count": 1,
     "metadata": {}
    },
    {
     "output_type": "execute_result",
     "data": {
      "text/plain": "Phase: Bottleneck Computation, Dataset used:      Train, Image Index: 340"
     },
     "execution_count": 1,
     "metadata": {}
    },
    {
     "output_type": "execute_result",
     "data": {
      "text/plain": "Phase: Bottleneck Computation, Dataset used:      Train, Image Index: 341"
     },
     "execution_count": 1,
     "metadata": {}
    },
    {
     "output_type": "execute_result",
     "data": {
      "text/plain": "Phase: Bottleneck Computation, Dataset used:      Train, Image Index: 342"
     },
     "execution_count": 1,
     "metadata": {}
    },
    {
     "output_type": "execute_result",
     "data": {
      "text/plain": "Phase: Bottleneck Computation, Dataset used:      Train, Image Index: 343"
     },
     "execution_count": 1,
     "metadata": {}
    },
    {
     "output_type": "execute_result",
     "data": {
      "text/plain": "Phase: Bottleneck Computation, Dataset used:      Train, Image Index: 344"
     },
     "execution_count": 1,
     "metadata": {}
    },
    {
     "output_type": "execute_result",
     "data": {
      "text/plain": "Phase: Bottleneck Computation, Dataset used:      Train, Image Index: 345"
     },
     "execution_count": 1,
     "metadata": {}
    },
    {
     "output_type": "execute_result",
     "data": {
      "text/plain": "Phase: Bottleneck Computation, Dataset used:      Train, Image Index: 346"
     },
     "execution_count": 1,
     "metadata": {}
    },
    {
     "output_type": "execute_result",
     "data": {
      "text/plain": "Phase: Bottleneck Computation, Dataset used:      Train, Image Index: 347"
     },
     "execution_count": 1,
     "metadata": {}
    },
    {
     "output_type": "execute_result",
     "data": {
      "text/plain": "Phase: Bottleneck Computation, Dataset used:      Train, Image Index: 348"
     },
     "execution_count": 1,
     "metadata": {}
    },
    {
     "output_type": "execute_result",
     "data": {
      "text/plain": "Phase: Bottleneck Computation, Dataset used:      Train, Image Index: 349"
     },
     "execution_count": 1,
     "metadata": {}
    },
    {
     "output_type": "execute_result",
     "data": {
      "text/plain": "Phase: Bottleneck Computation, Dataset used:      Train, Image Index: 350"
     },
     "execution_count": 1,
     "metadata": {}
    },
    {
     "output_type": "execute_result",
     "data": {
      "text/plain": "Phase: Bottleneck Computation, Dataset used:      Train, Image Index: 351"
     },
     "execution_count": 1,
     "metadata": {}
    },
    {
     "output_type": "execute_result",
     "data": {
      "text/plain": "Phase: Bottleneck Computation, Dataset used:      Train, Image Index: 352"
     },
     "execution_count": 1,
     "metadata": {}
    },
    {
     "output_type": "execute_result",
     "data": {
      "text/plain": "Phase: Bottleneck Computation, Dataset used:      Train, Image Index: 353"
     },
     "execution_count": 1,
     "metadata": {}
    },
    {
     "output_type": "execute_result",
     "data": {
      "text/plain": "Phase: Bottleneck Computation, Dataset used:      Train, Image Index: 354"
     },
     "execution_count": 1,
     "metadata": {}
    },
    {
     "output_type": "execute_result",
     "data": {
      "text/plain": "Phase: Bottleneck Computation, Dataset used:      Train, Image Index: 355"
     },
     "execution_count": 1,
     "metadata": {}
    },
    {
     "output_type": "execute_result",
     "data": {
      "text/plain": "Phase: Bottleneck Computation, Dataset used:      Train, Image Index: 356"
     },
     "execution_count": 1,
     "metadata": {}
    },
    {
     "output_type": "execute_result",
     "data": {
      "text/plain": "Phase: Bottleneck Computation, Dataset used:      Train, Image Index: 357"
     },
     "execution_count": 1,
     "metadata": {}
    },
    {
     "output_type": "execute_result",
     "data": {
      "text/plain": "Phase: Bottleneck Computation, Dataset used:      Train, Image Index: 358"
     },
     "execution_count": 1,
     "metadata": {}
    },
    {
     "output_type": "execute_result",
     "data": {
      "text/plain": "Phase: Bottleneck Computation, Dataset used:      Train, Image Index: 359"
     },
     "execution_count": 1,
     "metadata": {}
    },
    {
     "output_type": "execute_result",
     "data": {
      "text/plain": "Phase: Bottleneck Computation, Dataset used:      Train, Image Index: 360"
     },
     "execution_count": 1,
     "metadata": {}
    },
    {
     "output_type": "execute_result",
     "data": {
      "text/plain": "Phase: Bottleneck Computation, Dataset used:      Train, Image Index: 361"
     },
     "execution_count": 1,
     "metadata": {}
    },
    {
     "output_type": "execute_result",
     "data": {
      "text/plain": "Phase: Bottleneck Computation, Dataset used:      Train, Image Index: 362"
     },
     "execution_count": 1,
     "metadata": {}
    },
    {
     "output_type": "execute_result",
     "data": {
      "text/plain": "Phase: Bottleneck Computation, Dataset used:      Train, Image Index: 363"
     },
     "execution_count": 1,
     "metadata": {}
    },
    {
     "output_type": "execute_result",
     "data": {
      "text/plain": "Phase: Bottleneck Computation, Dataset used:      Train, Image Index: 364"
     },
     "execution_count": 1,
     "metadata": {}
    },
    {
     "output_type": "execute_result",
     "data": {
      "text/plain": "Phase: Bottleneck Computation, Dataset used:      Train, Image Index: 365"
     },
     "execution_count": 1,
     "metadata": {}
    },
    {
     "output_type": "execute_result",
     "data": {
      "text/plain": "Phase: Bottleneck Computation, Dataset used:      Train, Image Index: 366"
     },
     "execution_count": 1,
     "metadata": {}
    },
    {
     "output_type": "execute_result",
     "data": {
      "text/plain": "Phase: Bottleneck Computation, Dataset used:      Train, Image Index: 367"
     },
     "execution_count": 1,
     "metadata": {}
    },
    {
     "output_type": "execute_result",
     "data": {
      "text/plain": "Phase: Bottleneck Computation, Dataset used:      Train, Image Index: 368"
     },
     "execution_count": 1,
     "metadata": {}
    },
    {
     "output_type": "execute_result",
     "data": {
      "text/plain": "Phase: Bottleneck Computation, Dataset used:      Train, Image Index: 369"
     },
     "execution_count": 1,
     "metadata": {}
    },
    {
     "output_type": "execute_result",
     "data": {
      "text/plain": "Phase: Bottleneck Computation, Dataset used:      Train, Image Index: 370"
     },
     "execution_count": 1,
     "metadata": {}
    },
    {
     "output_type": "execute_result",
     "data": {
      "text/plain": "Phase: Bottleneck Computation, Dataset used:      Train, Image Index: 371"
     },
     "execution_count": 1,
     "metadata": {}
    },
    {
     "output_type": "execute_result",
     "data": {
      "text/plain": "Phase: Bottleneck Computation, Dataset used:      Train, Image Index: 372"
     },
     "execution_count": 1,
     "metadata": {}
    },
    {
     "output_type": "execute_result",
     "data": {
      "text/plain": "Phase: Bottleneck Computation, Dataset used:      Train, Image Index: 373"
     },
     "execution_count": 1,
     "metadata": {}
    },
    {
     "output_type": "execute_result",
     "data": {
      "text/plain": "Phase: Bottleneck Computation, Dataset used:      Train, Image Index: 374"
     },
     "execution_count": 1,
     "metadata": {}
    },
    {
     "output_type": "execute_result",
     "data": {
      "text/plain": "Phase: Bottleneck Computation, Dataset used:      Train, Image Index: 375"
     },
     "execution_count": 1,
     "metadata": {}
    },
    {
     "output_type": "execute_result",
     "data": {
      "text/plain": "Phase: Bottleneck Computation, Dataset used:      Train, Image Index: 376"
     },
     "execution_count": 1,
     "metadata": {}
    },
    {
     "output_type": "execute_result",
     "data": {
      "text/plain": "Phase: Bottleneck Computation, Dataset used:      Train, Image Index: 377"
     },
     "execution_count": 1,
     "metadata": {}
    },
    {
     "output_type": "execute_result",
     "data": {
      "text/plain": "Phase: Bottleneck Computation, Dataset used:      Train, Image Index: 378"
     },
     "execution_count": 1,
     "metadata": {}
    },
    {
     "output_type": "execute_result",
     "data": {
      "text/plain": "Phase: Bottleneck Computation, Dataset used:      Train, Image Index: 379"
     },
     "execution_count": 1,
     "metadata": {}
    },
    {
     "output_type": "execute_result",
     "data": {
      "text/plain": "Phase: Bottleneck Computation, Dataset used:      Train, Image Index: 380"
     },
     "execution_count": 1,
     "metadata": {}
    },
    {
     "output_type": "execute_result",
     "data": {
      "text/plain": "Phase: Bottleneck Computation, Dataset used:      Train, Image Index: 381"
     },
     "execution_count": 1,
     "metadata": {}
    },
    {
     "output_type": "execute_result",
     "data": {
      "text/plain": "Phase: Bottleneck Computation, Dataset used:      Train, Image Index: 382"
     },
     "execution_count": 1,
     "metadata": {}
    },
    {
     "output_type": "execute_result",
     "data": {
      "text/plain": "Phase: Bottleneck Computation, Dataset used:      Train, Image Index: 383"
     },
     "execution_count": 1,
     "metadata": {}
    },
    {
     "output_type": "execute_result",
     "data": {
      "text/plain": "Phase: Bottleneck Computation, Dataset used:      Train, Image Index: 384"
     },
     "execution_count": 1,
     "metadata": {}
    },
    {
     "output_type": "execute_result",
     "data": {
      "text/plain": "Phase: Bottleneck Computation, Dataset used:      Train, Image Index: 385"
     },
     "execution_count": 1,
     "metadata": {}
    },
    {
     "output_type": "execute_result",
     "data": {
      "text/plain": "Phase: Bottleneck Computation, Dataset used:      Train, Image Index: 386"
     },
     "execution_count": 1,
     "metadata": {}
    },
    {
     "output_type": "execute_result",
     "data": {
      "text/plain": "Phase: Bottleneck Computation, Dataset used:      Train, Image Index: 387"
     },
     "execution_count": 1,
     "metadata": {}
    },
    {
     "output_type": "execute_result",
     "data": {
      "text/plain": "Phase: Bottleneck Computation, Dataset used:      Train, Image Index: 388"
     },
     "execution_count": 1,
     "metadata": {}
    },
    {
     "output_type": "execute_result",
     "data": {
      "text/plain": "Phase: Bottleneck Computation, Dataset used:      Train, Image Index: 389"
     },
     "execution_count": 1,
     "metadata": {}
    },
    {
     "output_type": "execute_result",
     "data": {
      "text/plain": "Phase: Bottleneck Computation, Dataset used:      Train, Image Index: 390"
     },
     "execution_count": 1,
     "metadata": {}
    },
    {
     "output_type": "execute_result",
     "data": {
      "text/plain": "Phase: Bottleneck Computation, Dataset used:      Train, Image Index: 391"
     },
     "execution_count": 1,
     "metadata": {}
    },
    {
     "output_type": "execute_result",
     "data": {
      "text/plain": "Phase: Bottleneck Computation, Dataset used:      Train, Image Index: 392"
     },
     "execution_count": 1,
     "metadata": {}
    },
    {
     "output_type": "execute_result",
     "data": {
      "text/plain": "Phase: Bottleneck Computation, Dataset used:      Train, Image Index: 393"
     },
     "execution_count": 1,
     "metadata": {}
    },
    {
     "output_type": "execute_result",
     "data": {
      "text/plain": "Phase: Bottleneck Computation, Dataset used:      Train, Image Index: 394"
     },
     "execution_count": 1,
     "metadata": {}
    },
    {
     "output_type": "execute_result",
     "data": {
      "text/plain": "Phase: Bottleneck Computation, Dataset used:      Train, Image Index: 395"
     },
     "execution_count": 1,
     "metadata": {}
    },
    {
     "output_type": "execute_result",
     "data": {
      "text/plain": "Phase: Bottleneck Computation, Dataset used:      Train, Image Index: 396"
     },
     "execution_count": 1,
     "metadata": {}
    },
    {
     "output_type": "execute_result",
     "data": {
      "text/plain": "Phase: Bottleneck Computation, Dataset used:      Train, Image Index: 397"
     },
     "execution_count": 1,
     "metadata": {}
    },
    {
     "output_type": "execute_result",
     "data": {
      "text/plain": "Phase: Bottleneck Computation, Dataset used:      Train, Image Index: 398"
     },
     "execution_count": 1,
     "metadata": {}
    },
    {
     "output_type": "execute_result",
     "data": {
      "text/plain": "Phase: Bottleneck Computation, Dataset used:      Train, Image Index: 399"
     },
     "execution_count": 1,
     "metadata": {}
    },
    {
     "output_type": "execute_result",
     "data": {
      "text/plain": "Phase: Bottleneck Computation, Dataset used:      Train, Image Index: 400"
     },
     "execution_count": 1,
     "metadata": {}
    },
    {
     "output_type": "execute_result",
     "data": {
      "text/plain": "Phase: Bottleneck Computation, Dataset used:      Train, Image Index: 401"
     },
     "execution_count": 1,
     "metadata": {}
    },
    {
     "output_type": "execute_result",
     "data": {
      "text/plain": "Phase: Bottleneck Computation, Dataset used:      Train, Image Index: 402"
     },
     "execution_count": 1,
     "metadata": {}
    },
    {
     "output_type": "execute_result",
     "data": {
      "text/plain": "Phase: Bottleneck Computation, Dataset used:      Train, Image Index: 403"
     },
     "execution_count": 1,
     "metadata": {}
    },
    {
     "output_type": "execute_result",
     "data": {
      "text/plain": "Phase: Bottleneck Computation, Dataset used:      Train, Image Index: 404"
     },
     "execution_count": 1,
     "metadata": {}
    },
    {
     "output_type": "execute_result",
     "data": {
      "text/plain": "Phase: Bottleneck Computation, Dataset used:      Train, Image Index: 405"
     },
     "execution_count": 1,
     "metadata": {}
    },
    {
     "output_type": "execute_result",
     "data": {
      "text/plain": "Phase: Bottleneck Computation, Dataset used:      Train, Image Index: 406"
     },
     "execution_count": 1,
     "metadata": {}
    },
    {
     "output_type": "execute_result",
     "data": {
      "text/plain": "Phase: Bottleneck Computation, Dataset used:      Train, Image Index: 407"
     },
     "execution_count": 1,
     "metadata": {}
    },
    {
     "output_type": "execute_result",
     "data": {
      "text/plain": "Phase: Bottleneck Computation, Dataset used:      Train, Image Index: 408"
     },
     "execution_count": 1,
     "metadata": {}
    },
    {
     "output_type": "execute_result",
     "data": {
      "text/plain": "Phase: Bottleneck Computation, Dataset used:      Train, Image Index: 409"
     },
     "execution_count": 1,
     "metadata": {}
    },
    {
     "output_type": "execute_result",
     "data": {
      "text/plain": "Phase: Bottleneck Computation, Dataset used:      Train, Image Index: 410"
     },
     "execution_count": 1,
     "metadata": {}
    },
    {
     "output_type": "execute_result",
     "data": {
      "text/plain": "Phase: Bottleneck Computation, Dataset used:      Train, Image Index: 411"
     },
     "execution_count": 1,
     "metadata": {}
    },
    {
     "output_type": "execute_result",
     "data": {
      "text/plain": "Phase: Bottleneck Computation, Dataset used:      Train, Image Index: 412"
     },
     "execution_count": 1,
     "metadata": {}
    },
    {
     "output_type": "execute_result",
     "data": {
      "text/plain": "Phase: Bottleneck Computation, Dataset used:      Train, Image Index: 413"
     },
     "execution_count": 1,
     "metadata": {}
    },
    {
     "output_type": "execute_result",
     "data": {
      "text/plain": "Phase: Bottleneck Computation, Dataset used:      Train, Image Index: 414"
     },
     "execution_count": 1,
     "metadata": {}
    },
    {
     "output_type": "execute_result",
     "data": {
      "text/plain": "Phase: Bottleneck Computation, Dataset used:      Train, Image Index: 415"
     },
     "execution_count": 1,
     "metadata": {}
    },
    {
     "output_type": "execute_result",
     "data": {
      "text/plain": "Phase: Bottleneck Computation, Dataset used:      Train, Image Index: 416"
     },
     "execution_count": 1,
     "metadata": {}
    },
    {
     "output_type": "execute_result",
     "data": {
      "text/plain": "Phase: Bottleneck Computation, Dataset used:      Train, Image Index: 417"
     },
     "execution_count": 1,
     "metadata": {}
    },
    {
     "output_type": "execute_result",
     "data": {
      "text/plain": "Phase: Bottleneck Computation, Dataset used:      Train, Image Index: 418"
     },
     "execution_count": 1,
     "metadata": {}
    },
    {
     "output_type": "execute_result",
     "data": {
      "text/plain": "Phase: Bottleneck Computation, Dataset used:      Train, Image Index: 419"
     },
     "execution_count": 1,
     "metadata": {}
    },
    {
     "output_type": "execute_result",
     "data": {
      "text/plain": "Phase: Bottleneck Computation, Dataset used:      Train, Image Index: 420"
     },
     "execution_count": 1,
     "metadata": {}
    },
    {
     "output_type": "execute_result",
     "data": {
      "text/plain": "Phase: Bottleneck Computation, Dataset used:      Train, Image Index: 421"
     },
     "execution_count": 1,
     "metadata": {}
    },
    {
     "output_type": "execute_result",
     "data": {
      "text/plain": "Phase: Bottleneck Computation, Dataset used:      Train, Image Index: 422"
     },
     "execution_count": 1,
     "metadata": {}
    },
    {
     "output_type": "execute_result",
     "data": {
      "text/plain": "Phase: Bottleneck Computation, Dataset used:      Train, Image Index: 423"
     },
     "execution_count": 1,
     "metadata": {}
    },
    {
     "output_type": "execute_result",
     "data": {
      "text/plain": "Phase: Bottleneck Computation, Dataset used:      Train, Image Index: 424"
     },
     "execution_count": 1,
     "metadata": {}
    },
    {
     "output_type": "execute_result",
     "data": {
      "text/plain": "Phase: Bottleneck Computation, Dataset used:      Train, Image Index: 425"
     },
     "execution_count": 1,
     "metadata": {}
    },
    {
     "output_type": "execute_result",
     "data": {
      "text/plain": "Phase: Bottleneck Computation, Dataset used:      Train, Image Index: 426"
     },
     "execution_count": 1,
     "metadata": {}
    },
    {
     "output_type": "execute_result",
     "data": {
      "text/plain": "Phase: Bottleneck Computation, Dataset used:      Train, Image Index: 427"
     },
     "execution_count": 1,
     "metadata": {}
    },
    {
     "output_type": "execute_result",
     "data": {
      "text/plain": "Phase: Bottleneck Computation, Dataset used:      Train, Image Index: 428"
     },
     "execution_count": 1,
     "metadata": {}
    },
    {
     "output_type": "execute_result",
     "data": {
      "text/plain": "Phase: Bottleneck Computation, Dataset used:      Train, Image Index: 429"
     },
     "execution_count": 1,
     "metadata": {}
    },
    {
     "output_type": "execute_result",
     "data": {
      "text/plain": "Phase: Bottleneck Computation, Dataset used:      Train, Image Index: 430"
     },
     "execution_count": 1,
     "metadata": {}
    },
    {
     "output_type": "execute_result",
     "data": {
      "text/plain": "Phase: Bottleneck Computation, Dataset used:      Train, Image Index: 431"
     },
     "execution_count": 1,
     "metadata": {}
    },
    {
     "output_type": "execute_result",
     "data": {
      "text/plain": "Phase: Bottleneck Computation, Dataset used:      Train, Image Index: 432"
     },
     "execution_count": 1,
     "metadata": {}
    },
    {
     "output_type": "execute_result",
     "data": {
      "text/plain": "Phase: Bottleneck Computation, Dataset used:      Train, Image Index: 433"
     },
     "execution_count": 1,
     "metadata": {}
    },
    {
     "output_type": "execute_result",
     "data": {
      "text/plain": "Phase: Bottleneck Computation, Dataset used:      Train, Image Index: 434"
     },
     "execution_count": 1,
     "metadata": {}
    },
    {
     "output_type": "execute_result",
     "data": {
      "text/plain": "Phase: Bottleneck Computation, Dataset used:      Train, Image Index: 435"
     },
     "execution_count": 1,
     "metadata": {}
    },
    {
     "output_type": "execute_result",
     "data": {
      "text/plain": "Phase: Bottleneck Computation, Dataset used:      Train, Image Index: 436"
     },
     "execution_count": 1,
     "metadata": {}
    },
    {
     "output_type": "execute_result",
     "data": {
      "text/plain": "Phase: Bottleneck Computation, Dataset used:      Train, Image Index: 437"
     },
     "execution_count": 1,
     "metadata": {}
    },
    {
     "output_type": "execute_result",
     "data": {
      "text/plain": "Phase: Bottleneck Computation, Dataset used:      Train, Image Index: 438"
     },
     "execution_count": 1,
     "metadata": {}
    },
    {
     "output_type": "execute_result",
     "data": {
      "text/plain": "Phase: Bottleneck Computation, Dataset used:      Train, Image Index: 439"
     },
     "execution_count": 1,
     "metadata": {}
    },
    {
     "output_type": "execute_result",
     "data": {
      "text/plain": "Phase: Bottleneck Computation, Dataset used:      Train, Image Index: 440"
     },
     "execution_count": 1,
     "metadata": {}
    },
    {
     "output_type": "execute_result",
     "data": {
      "text/plain": "Phase: Bottleneck Computation, Dataset used:      Train, Image Index: 441"
     },
     "execution_count": 1,
     "metadata": {}
    },
    {
     "output_type": "execute_result",
     "data": {
      "text/plain": "Phase: Bottleneck Computation, Dataset used:      Train, Image Index: 442"
     },
     "execution_count": 1,
     "metadata": {}
    },
    {
     "output_type": "execute_result",
     "data": {
      "text/plain": "Phase: Bottleneck Computation, Dataset used:      Train, Image Index: 443"
     },
     "execution_count": 1,
     "metadata": {}
    },
    {
     "output_type": "execute_result",
     "data": {
      "text/plain": "Phase: Bottleneck Computation, Dataset used:      Train, Image Index: 444"
     },
     "execution_count": 1,
     "metadata": {}
    },
    {
     "output_type": "execute_result",
     "data": {
      "text/plain": "Phase: Bottleneck Computation, Dataset used:      Train, Image Index: 445"
     },
     "execution_count": 1,
     "metadata": {}
    },
    {
     "output_type": "execute_result",
     "data": {
      "text/plain": "Phase: Bottleneck Computation, Dataset used:      Train, Image Index: 446"
     },
     "execution_count": 1,
     "metadata": {}
    },
    {
     "output_type": "execute_result",
     "data": {
      "text/plain": "Phase: Bottleneck Computation, Dataset used:      Train, Image Index: 447"
     },
     "execution_count": 1,
     "metadata": {}
    },
    {
     "output_type": "execute_result",
     "data": {
      "text/plain": "Phase: Bottleneck Computation, Dataset used:      Train, Image Index: 448"
     },
     "execution_count": 1,
     "metadata": {}
    },
    {
     "output_type": "execute_result",
     "data": {
      "text/plain": "Phase: Bottleneck Computation, Dataset used:      Train, Image Index: 449"
     },
     "execution_count": 1,
     "metadata": {}
    },
    {
     "output_type": "execute_result",
     "data": {
      "text/plain": "Phase: Bottleneck Computation, Dataset used:      Train, Image Index: 450"
     },
     "execution_count": 1,
     "metadata": {}
    },
    {
     "output_type": "execute_result",
     "data": {
      "text/plain": "Phase: Bottleneck Computation, Dataset used:      Train, Image Index: 451"
     },
     "execution_count": 1,
     "metadata": {}
    },
    {
     "output_type": "execute_result",
     "data": {
      "text/plain": "Phase: Bottleneck Computation, Dataset used:      Train, Image Index: 452"
     },
     "execution_count": 1,
     "metadata": {}
    },
    {
     "output_type": "execute_result",
     "data": {
      "text/plain": "Phase: Bottleneck Computation, Dataset used:      Train, Image Index: 453"
     },
     "execution_count": 1,
     "metadata": {}
    },
    {
     "output_type": "execute_result",
     "data": {
      "text/plain": "Phase: Bottleneck Computation, Dataset used:      Train, Image Index: 454"
     },
     "execution_count": 1,
     "metadata": {}
    },
    {
     "output_type": "execute_result",
     "data": {
      "text/plain": "Phase: Bottleneck Computation, Dataset used:      Train, Image Index: 455"
     },
     "execution_count": 1,
     "metadata": {}
    },
    {
     "output_type": "execute_result",
     "data": {
      "text/plain": "Phase: Bottleneck Computation, Dataset used:      Train, Image Index: 456"
     },
     "execution_count": 1,
     "metadata": {}
    },
    {
     "output_type": "execute_result",
     "data": {
      "text/plain": "Phase: Bottleneck Computation, Dataset used:      Train, Image Index: 457"
     },
     "execution_count": 1,
     "metadata": {}
    },
    {
     "output_type": "execute_result",
     "data": {
      "text/plain": "Phase: Bottleneck Computation, Dataset used:      Train, Image Index: 458"
     },
     "execution_count": 1,
     "metadata": {}
    },
    {
     "output_type": "execute_result",
     "data": {
      "text/plain": "Phase: Bottleneck Computation, Dataset used:      Train, Image Index: 459"
     },
     "execution_count": 1,
     "metadata": {}
    },
    {
     "output_type": "execute_result",
     "data": {
      "text/plain": "Phase: Bottleneck Computation, Dataset used:      Train, Image Index: 460"
     },
     "execution_count": 1,
     "metadata": {}
    },
    {
     "output_type": "execute_result",
     "data": {
      "text/plain": "Phase: Bottleneck Computation, Dataset used:      Train, Image Index: 461"
     },
     "execution_count": 1,
     "metadata": {}
    },
    {
     "output_type": "execute_result",
     "data": {
      "text/plain": "Phase: Bottleneck Computation, Dataset used:      Train, Image Index: 462"
     },
     "execution_count": 1,
     "metadata": {}
    },
    {
     "output_type": "execute_result",
     "data": {
      "text/plain": "Phase: Bottleneck Computation, Dataset used:      Train, Image Index: 463"
     },
     "execution_count": 1,
     "metadata": {}
    },
    {
     "output_type": "execute_result",
     "data": {
      "text/plain": "Phase: Bottleneck Computation, Dataset used:      Train, Image Index: 464"
     },
     "execution_count": 1,
     "metadata": {}
    },
    {
     "output_type": "execute_result",
     "data": {
      "text/plain": "Phase: Bottleneck Computation, Dataset used:      Train, Image Index: 465"
     },
     "execution_count": 1,
     "metadata": {}
    },
    {
     "output_type": "execute_result",
     "data": {
      "text/plain": "Phase: Bottleneck Computation, Dataset used:      Train, Image Index: 466"
     },
     "execution_count": 1,
     "metadata": {}
    },
    {
     "output_type": "execute_result",
     "data": {
      "text/plain": "Phase: Bottleneck Computation, Dataset used:      Train, Image Index: 467"
     },
     "execution_count": 1,
     "metadata": {}
    },
    {
     "output_type": "execute_result",
     "data": {
      "text/plain": "Phase: Bottleneck Computation, Dataset used:      Train, Image Index: 468"
     },
     "execution_count": 1,
     "metadata": {}
    },
    {
     "output_type": "execute_result",
     "data": {
      "text/plain": "Phase: Bottleneck Computation, Dataset used:      Train, Image Index: 469"
     },
     "execution_count": 1,
     "metadata": {}
    },
    {
     "output_type": "execute_result",
     "data": {
      "text/plain": "Phase: Bottleneck Computation, Dataset used:      Train, Image Index: 470"
     },
     "execution_count": 1,
     "metadata": {}
    },
    {
     "output_type": "execute_result",
     "data": {
      "text/plain": "Phase: Bottleneck Computation, Dataset used:      Train, Image Index: 471"
     },
     "execution_count": 1,
     "metadata": {}
    },
    {
     "output_type": "execute_result",
     "data": {
      "text/plain": "Phase: Bottleneck Computation, Dataset used:      Train, Image Index: 472"
     },
     "execution_count": 1,
     "metadata": {}
    },
    {
     "output_type": "execute_result",
     "data": {
      "text/plain": "Phase: Bottleneck Computation, Dataset used:      Train, Image Index: 473"
     },
     "execution_count": 1,
     "metadata": {}
    },
    {
     "output_type": "execute_result",
     "data": {
      "text/plain": "Phase: Bottleneck Computation, Dataset used:      Train, Image Index: 474"
     },
     "execution_count": 1,
     "metadata": {}
    },
    {
     "output_type": "execute_result",
     "data": {
      "text/plain": "Phase: Bottleneck Computation, Dataset used:      Train, Image Index: 475"
     },
     "execution_count": 1,
     "metadata": {}
    },
    {
     "output_type": "execute_result",
     "data": {
      "text/plain": "Phase: Bottleneck Computation, Dataset used:      Train, Image Index: 476"
     },
     "execution_count": 1,
     "metadata": {}
    },
    {
     "output_type": "execute_result",
     "data": {
      "text/plain": "Phase: Bottleneck Computation, Dataset used:      Train, Image Index: 477"
     },
     "execution_count": 1,
     "metadata": {}
    },
    {
     "output_type": "execute_result",
     "data": {
      "text/plain": "Phase: Bottleneck Computation, Dataset used:      Train, Image Index: 478"
     },
     "execution_count": 1,
     "metadata": {}
    },
    {
     "output_type": "execute_result",
     "data": {
      "text/plain": "Phase: Bottleneck Computation, Dataset used:      Train, Image Index: 479"
     },
     "execution_count": 1,
     "metadata": {}
    },
    {
     "output_type": "execute_result",
     "data": {
      "text/plain": "Phase: Bottleneck Computation, Dataset used:      Train, Image Index: 480"
     },
     "execution_count": 1,
     "metadata": {}
    },
    {
     "output_type": "execute_result",
     "data": {
      "text/plain": "Phase: Bottleneck Computation, Dataset used:      Train, Image Index: 481"
     },
     "execution_count": 1,
     "metadata": {}
    },
    {
     "output_type": "execute_result",
     "data": {
      "text/plain": "Phase: Bottleneck Computation, Dataset used:      Train, Image Index: 482"
     },
     "execution_count": 1,
     "metadata": {}
    },
    {
     "output_type": "execute_result",
     "data": {
      "text/plain": "Phase: Bottleneck Computation, Dataset used:      Train, Image Index: 483"
     },
     "execution_count": 1,
     "metadata": {}
    },
    {
     "output_type": "execute_result",
     "data": {
      "text/plain": "Phase: Bottleneck Computation, Dataset used:      Train, Image Index: 484"
     },
     "execution_count": 1,
     "metadata": {}
    },
    {
     "output_type": "execute_result",
     "data": {
      "text/plain": "Phase: Bottleneck Computation, Dataset used:      Train, Image Index: 485"
     },
     "execution_count": 1,
     "metadata": {}
    },
    {
     "output_type": "execute_result",
     "data": {
      "text/plain": "Phase: Bottleneck Computation, Dataset used:      Train, Image Index: 486"
     },
     "execution_count": 1,
     "metadata": {}
    },
    {
     "output_type": "execute_result",
     "data": {
      "text/plain": "Phase: Bottleneck Computation, Dataset used:      Train, Image Index: 487"
     },
     "execution_count": 1,
     "metadata": {}
    },
    {
     "output_type": "execute_result",
     "data": {
      "text/plain": "Phase: Bottleneck Computation, Dataset used:      Train, Image Index: 488"
     },
     "execution_count": 1,
     "metadata": {}
    },
    {
     "output_type": "execute_result",
     "data": {
      "text/plain": "Phase: Bottleneck Computation, Dataset used:      Train, Image Index: 489"
     },
     "execution_count": 1,
     "metadata": {}
    },
    {
     "output_type": "execute_result",
     "data": {
      "text/plain": "Phase: Bottleneck Computation, Dataset used:      Train, Image Index: 490"
     },
     "execution_count": 1,
     "metadata": {}
    },
    {
     "output_type": "execute_result",
     "data": {
      "text/plain": "Phase: Bottleneck Computation, Dataset used:      Train, Image Index: 491"
     },
     "execution_count": 1,
     "metadata": {}
    },
    {
     "output_type": "execute_result",
     "data": {
      "text/plain": "Phase: Bottleneck Computation, Dataset used:      Train, Image Index: 492"
     },
     "execution_count": 1,
     "metadata": {}
    },
    {
     "output_type": "execute_result",
     "data": {
      "text/plain": "Phase: Bottleneck Computation, Dataset used:      Train, Image Index: 493"
     },
     "execution_count": 1,
     "metadata": {}
    },
    {
     "output_type": "execute_result",
     "data": {
      "text/plain": "Phase: Bottleneck Computation, Dataset used:      Train, Image Index: 494"
     },
     "execution_count": 1,
     "metadata": {}
    },
    {
     "output_type": "execute_result",
     "data": {
      "text/plain": "Phase: Bottleneck Computation, Dataset used:      Train, Image Index: 495"
     },
     "execution_count": 1,
     "metadata": {}
    },
    {
     "output_type": "execute_result",
     "data": {
      "text/plain": "Phase: Bottleneck Computation, Dataset used:      Train, Image Index: 496"
     },
     "execution_count": 1,
     "metadata": {}
    },
    {
     "output_type": "execute_result",
     "data": {
      "text/plain": "Phase: Bottleneck Computation, Dataset used:      Train, Image Index: 497"
     },
     "execution_count": 1,
     "metadata": {}
    },
    {
     "output_type": "execute_result",
     "data": {
      "text/plain": "Phase: Bottleneck Computation, Dataset used:      Train, Image Index: 498"
     },
     "execution_count": 1,
     "metadata": {}
    },
    {
     "output_type": "execute_result",
     "data": {
      "text/plain": "Phase: Bottleneck Computation, Dataset used:      Train, Image Index: 499"
     },
     "execution_count": 1,
     "metadata": {}
    },
    {
     "output_type": "execute_result",
     "data": {
      "text/plain": "Phase: Bottleneck Computation, Dataset used:      Train, Image Index: 500"
     },
     "execution_count": 1,
     "metadata": {}
    },
    {
     "output_type": "execute_result",
     "data": {
      "text/plain": "Phase: Bottleneck Computation, Dataset used:      Train, Image Index: 501"
     },
     "execution_count": 1,
     "metadata": {}
    },
    {
     "output_type": "execute_result",
     "data": {
      "text/plain": "Phase: Bottleneck Computation, Dataset used:      Train, Image Index: 502"
     },
     "execution_count": 1,
     "metadata": {}
    },
    {
     "output_type": "execute_result",
     "data": {
      "text/plain": "Phase: Bottleneck Computation, Dataset used:      Train, Image Index: 503"
     },
     "execution_count": 1,
     "metadata": {}
    },
    {
     "output_type": "execute_result",
     "data": {
      "text/plain": "Phase: Bottleneck Computation, Dataset used:      Train, Image Index: 504"
     },
     "execution_count": 1,
     "metadata": {}
    },
    {
     "output_type": "execute_result",
     "data": {
      "text/plain": "Phase: Bottleneck Computation, Dataset used:      Train, Image Index: 505"
     },
     "execution_count": 1,
     "metadata": {}
    },
    {
     "output_type": "execute_result",
     "data": {
      "text/plain": "Phase: Bottleneck Computation, Dataset used:      Train, Image Index: 506"
     },
     "execution_count": 1,
     "metadata": {}
    },
    {
     "output_type": "execute_result",
     "data": {
      "text/plain": "Phase: Bottleneck Computation, Dataset used:      Train, Image Index: 507"
     },
     "execution_count": 1,
     "metadata": {}
    },
    {
     "output_type": "execute_result",
     "data": {
      "text/plain": "Phase: Bottleneck Computation, Dataset used:      Train, Image Index: 508"
     },
     "execution_count": 1,
     "metadata": {}
    },
    {
     "output_type": "execute_result",
     "data": {
      "text/plain": "Phase: Bottleneck Computation, Dataset used:      Train, Image Index: 509"
     },
     "execution_count": 1,
     "metadata": {}
    },
    {
     "output_type": "execute_result",
     "data": {
      "text/plain": "Phase: Bottleneck Computation, Dataset used:      Train, Image Index: 510"
     },
     "execution_count": 1,
     "metadata": {}
    },
    {
     "output_type": "execute_result",
     "data": {
      "text/plain": "Phase: Bottleneck Computation, Dataset used:      Train, Image Index: 511"
     },
     "execution_count": 1,
     "metadata": {}
    },
    {
     "output_type": "execute_result",
     "data": {
      "text/plain": "Phase: Bottleneck Computation, Dataset used:      Train, Image Index: 512"
     },
     "execution_count": 1,
     "metadata": {}
    },
    {
     "output_type": "execute_result",
     "data": {
      "text/plain": "Phase: Bottleneck Computation, Dataset used:      Train, Image Index: 513"
     },
     "execution_count": 1,
     "metadata": {}
    },
    {
     "output_type": "execute_result",
     "data": {
      "text/plain": "Phase: Bottleneck Computation, Dataset used:      Train, Image Index: 514"
     },
     "execution_count": 1,
     "metadata": {}
    },
    {
     "output_type": "execute_result",
     "data": {
      "text/plain": "Phase: Bottleneck Computation, Dataset used:      Train, Image Index: 515"
     },
     "execution_count": 1,
     "metadata": {}
    },
    {
     "output_type": "execute_result",
     "data": {
      "text/plain": "Phase: Bottleneck Computation, Dataset used:      Train, Image Index: 516"
     },
     "execution_count": 1,
     "metadata": {}
    },
    {
     "output_type": "execute_result",
     "data": {
      "text/plain": "Phase: Bottleneck Computation, Dataset used:      Train, Image Index: 517"
     },
     "execution_count": 1,
     "metadata": {}
    },
    {
     "output_type": "execute_result",
     "data": {
      "text/plain": "Phase: Bottleneck Computation, Dataset used:      Train, Image Index: 518"
     },
     "execution_count": 1,
     "metadata": {}
    },
    {
     "output_type": "execute_result",
     "data": {
      "text/plain": "Phase: Bottleneck Computation, Dataset used:      Train, Image Index: 519"
     },
     "execution_count": 1,
     "metadata": {}
    },
    {
     "output_type": "execute_result",
     "data": {
      "text/plain": "Phase: Bottleneck Computation, Dataset used:      Train, Image Index: 520"
     },
     "execution_count": 1,
     "metadata": {}
    },
    {
     "output_type": "execute_result",
     "data": {
      "text/plain": "Phase: Bottleneck Computation, Dataset used:      Train, Image Index: 521"
     },
     "execution_count": 1,
     "metadata": {}
    },
    {
     "output_type": "execute_result",
     "data": {
      "text/plain": "Phase: Bottleneck Computation, Dataset used:      Train, Image Index: 522"
     },
     "execution_count": 1,
     "metadata": {}
    },
    {
     "output_type": "execute_result",
     "data": {
      "text/plain": "Phase: Bottleneck Computation, Dataset used:      Train, Image Index: 523"
     },
     "execution_count": 1,
     "metadata": {}
    },
    {
     "output_type": "execute_result",
     "data": {
      "text/plain": "Phase: Bottleneck Computation, Dataset used:      Train, Image Index: 524"
     },
     "execution_count": 1,
     "metadata": {}
    },
    {
     "output_type": "execute_result",
     "data": {
      "text/plain": "Phase: Bottleneck Computation, Dataset used:      Train, Image Index: 525"
     },
     "execution_count": 1,
     "metadata": {}
    },
    {
     "output_type": "execute_result",
     "data": {
      "text/plain": "Phase: Bottleneck Computation, Dataset used:      Train, Image Index: 526"
     },
     "execution_count": 1,
     "metadata": {}
    },
    {
     "output_type": "execute_result",
     "data": {
      "text/plain": "Phase: Bottleneck Computation, Dataset used:      Train, Image Index: 527"
     },
     "execution_count": 1,
     "metadata": {}
    },
    {
     "output_type": "execute_result",
     "data": {
      "text/plain": "Phase: Bottleneck Computation, Dataset used:      Train, Image Index: 528"
     },
     "execution_count": 1,
     "metadata": {}
    },
    {
     "output_type": "execute_result",
     "data": {
      "text/plain": "Phase: Bottleneck Computation, Dataset used:      Train, Image Index: 529"
     },
     "execution_count": 1,
     "metadata": {}
    },
    {
     "output_type": "execute_result",
     "data": {
      "text/plain": "Phase: Bottleneck Computation, Dataset used:      Train, Image Index: 530"
     },
     "execution_count": 1,
     "metadata": {}
    },
    {
     "output_type": "execute_result",
     "data": {
      "text/plain": "Phase: Bottleneck Computation, Dataset used:      Train, Image Index: 531"
     },
     "execution_count": 1,
     "metadata": {}
    },
    {
     "output_type": "execute_result",
     "data": {
      "text/plain": "Phase: Bottleneck Computation, Dataset used:      Train, Image Index: 532"
     },
     "execution_count": 1,
     "metadata": {}
    },
    {
     "output_type": "execute_result",
     "data": {
      "text/plain": "Phase: Bottleneck Computation, Dataset used:      Train, Image Index: 533"
     },
     "execution_count": 1,
     "metadata": {}
    },
    {
     "output_type": "execute_result",
     "data": {
      "text/plain": "Phase: Bottleneck Computation, Dataset used:      Train, Image Index: 534"
     },
     "execution_count": 1,
     "metadata": {}
    },
    {
     "output_type": "execute_result",
     "data": {
      "text/plain": "Phase: Bottleneck Computation, Dataset used:      Train, Image Index: 535"
     },
     "execution_count": 1,
     "metadata": {}
    },
    {
     "output_type": "execute_result",
     "data": {
      "text/plain": "Phase: Bottleneck Computation, Dataset used:      Train, Image Index: 536"
     },
     "execution_count": 1,
     "metadata": {}
    },
    {
     "output_type": "execute_result",
     "data": {
      "text/plain": "Phase: Bottleneck Computation, Dataset used:      Train, Image Index: 537"
     },
     "execution_count": 1,
     "metadata": {}
    },
    {
     "output_type": "execute_result",
     "data": {
      "text/plain": "Phase: Bottleneck Computation, Dataset used:      Train, Image Index: 538"
     },
     "execution_count": 1,
     "metadata": {}
    },
    {
     "output_type": "execute_result",
     "data": {
      "text/plain": "Phase: Bottleneck Computation, Dataset used:      Train, Image Index: 539"
     },
     "execution_count": 1,
     "metadata": {}
    },
    {
     "output_type": "execute_result",
     "data": {
      "text/plain": "Phase: Bottleneck Computation, Dataset used:      Train, Image Index: 540"
     },
     "execution_count": 1,
     "metadata": {}
    },
    {
     "output_type": "execute_result",
     "data": {
      "text/plain": "Phase: Bottleneck Computation, Dataset used:      Train, Image Index: 541"
     },
     "execution_count": 1,
     "metadata": {}
    },
    {
     "output_type": "execute_result",
     "data": {
      "text/plain": "Phase: Bottleneck Computation, Dataset used:      Train, Image Index: 542"
     },
     "execution_count": 1,
     "metadata": {}
    },
    {
     "output_type": "execute_result",
     "data": {
      "text/plain": "Phase: Bottleneck Computation, Dataset used:      Train, Image Index: 543"
     },
     "execution_count": 1,
     "metadata": {}
    },
    {
     "output_type": "execute_result",
     "data": {
      "text/plain": "Phase: Bottleneck Computation, Dataset used:      Train, Image Index: 544"
     },
     "execution_count": 1,
     "metadata": {}
    },
    {
     "output_type": "execute_result",
     "data": {
      "text/plain": "Phase: Bottleneck Computation, Dataset used:      Train, Image Index: 545"
     },
     "execution_count": 1,
     "metadata": {}
    },
    {
     "output_type": "execute_result",
     "data": {
      "text/plain": "Phase: Bottleneck Computation, Dataset used:      Train, Image Index: 546"
     },
     "execution_count": 1,
     "metadata": {}
    },
    {
     "output_type": "execute_result",
     "data": {
      "text/plain": "Phase: Bottleneck Computation, Dataset used:      Train, Image Index: 547"
     },
     "execution_count": 1,
     "metadata": {}
    },
    {
     "output_type": "execute_result",
     "data": {
      "text/plain": "Phase: Bottleneck Computation, Dataset used:      Train, Image Index: 548"
     },
     "execution_count": 1,
     "metadata": {}
    },
    {
     "output_type": "execute_result",
     "data": {
      "text/plain": "Phase: Bottleneck Computation, Dataset used:      Train, Image Index: 549"
     },
     "execution_count": 1,
     "metadata": {}
    },
    {
     "output_type": "execute_result",
     "data": {
      "text/plain": "Phase: Bottleneck Computation, Dataset used:      Train, Image Index: 550"
     },
     "execution_count": 1,
     "metadata": {}
    },
    {
     "output_type": "execute_result",
     "data": {
      "text/plain": "Phase: Bottleneck Computation, Dataset used:      Train, Image Index: 551"
     },
     "execution_count": 1,
     "metadata": {}
    },
    {
     "output_type": "execute_result",
     "data": {
      "text/plain": "Phase: Bottleneck Computation, Dataset used:      Train, Image Index: 552"
     },
     "execution_count": 1,
     "metadata": {}
    },
    {
     "output_type": "execute_result",
     "data": {
      "text/plain": "Phase: Bottleneck Computation, Dataset used:      Train, Image Index: 553"
     },
     "execution_count": 1,
     "metadata": {}
    },
    {
     "output_type": "execute_result",
     "data": {
      "text/plain": "Phase: Bottleneck Computation, Dataset used:      Train, Image Index: 554"
     },
     "execution_count": 1,
     "metadata": {}
    },
    {
     "output_type": "execute_result",
     "data": {
      "text/plain": "Phase: Bottleneck Computation, Dataset used:      Train, Image Index: 555"
     },
     "execution_count": 1,
     "metadata": {}
    },
    {
     "output_type": "execute_result",
     "data": {
      "text/plain": "Phase: Bottleneck Computation, Dataset used:      Train, Image Index: 556"
     },
     "execution_count": 1,
     "metadata": {}
    },
    {
     "output_type": "execute_result",
     "data": {
      "text/plain": "Phase: Bottleneck Computation, Dataset used:      Train, Image Index: 557"
     },
     "execution_count": 1,
     "metadata": {}
    },
    {
     "output_type": "execute_result",
     "data": {
      "text/plain": "Phase: Bottleneck Computation, Dataset used:      Train, Image Index: 558"
     },
     "execution_count": 1,
     "metadata": {}
    },
    {
     "output_type": "execute_result",
     "data": {
      "text/plain": "Phase: Bottleneck Computation, Dataset used:      Train, Image Index: 559"
     },
     "execution_count": 1,
     "metadata": {}
    },
    {
     "output_type": "execute_result",
     "data": {
      "text/plain": "Phase: Bottleneck Computation, Dataset used:      Train, Image Index: 560"
     },
     "execution_count": 1,
     "metadata": {}
    },
    {
     "output_type": "execute_result",
     "data": {
      "text/plain": "Phase: Bottleneck Computation, Dataset used:      Train, Image Index: 561"
     },
     "execution_count": 1,
     "metadata": {}
    },
    {
     "output_type": "execute_result",
     "data": {
      "text/plain": "Phase: Bottleneck Computation, Dataset used:      Train, Image Index: 562"
     },
     "execution_count": 1,
     "metadata": {}
    },
    {
     "output_type": "execute_result",
     "data": {
      "text/plain": "Phase: Bottleneck Computation, Dataset used:      Train, Image Index: 563"
     },
     "execution_count": 1,
     "metadata": {}
    },
    {
     "output_type": "execute_result",
     "data": {
      "text/plain": "Phase: Bottleneck Computation, Dataset used:      Train, Image Index: 564"
     },
     "execution_count": 1,
     "metadata": {}
    },
    {
     "output_type": "execute_result",
     "data": {
      "text/plain": "Phase: Bottleneck Computation, Dataset used:      Train, Image Index: 565"
     },
     "execution_count": 1,
     "metadata": {}
    },
    {
     "output_type": "execute_result",
     "data": {
      "text/plain": "Phase: Bottleneck Computation, Dataset used:      Train, Image Index: 566"
     },
     "execution_count": 1,
     "metadata": {}
    },
    {
     "output_type": "execute_result",
     "data": {
      "text/plain": "Phase: Bottleneck Computation, Dataset used:      Train, Image Index: 567"
     },
     "execution_count": 1,
     "metadata": {}
    },
    {
     "output_type": "execute_result",
     "data": {
      "text/plain": "Phase: Bottleneck Computation, Dataset used:      Train, Image Index: 568"
     },
     "execution_count": 1,
     "metadata": {}
    },
    {
     "output_type": "execute_result",
     "data": {
      "text/plain": "Phase: Bottleneck Computation, Dataset used:      Train, Image Index: 569"
     },
     "execution_count": 1,
     "metadata": {}
    },
    {
     "output_type": "execute_result",
     "data": {
      "text/plain": "Phase: Bottleneck Computation, Dataset used:      Train, Image Index: 570"
     },
     "execution_count": 1,
     "metadata": {}
    },
    {
     "output_type": "execute_result",
     "data": {
      "text/plain": "Phase: Bottleneck Computation, Dataset used:      Train, Image Index: 571"
     },
     "execution_count": 1,
     "metadata": {}
    },
    {
     "output_type": "execute_result",
     "data": {
      "text/plain": "Phase: Bottleneck Computation, Dataset used:      Train, Image Index: 572"
     },
     "execution_count": 1,
     "metadata": {}
    },
    {
     "output_type": "execute_result",
     "data": {
      "text/plain": "Phase: Bottleneck Computation, Dataset used:      Train, Image Index: 573"
     },
     "execution_count": 1,
     "metadata": {}
    },
    {
     "output_type": "execute_result",
     "data": {
      "text/plain": "Phase: Bottleneck Computation, Dataset used:      Train, Image Index: 574"
     },
     "execution_count": 1,
     "metadata": {}
    },
    {
     "output_type": "execute_result",
     "data": {
      "text/plain": "Phase: Bottleneck Computation, Dataset used:      Train, Image Index: 575"
     },
     "execution_count": 1,
     "metadata": {}
    },
    {
     "output_type": "execute_result",
     "data": {
      "text/plain": "Phase: Bottleneck Computation, Dataset used:      Train, Image Index: 576"
     },
     "execution_count": 1,
     "metadata": {}
    },
    {
     "output_type": "execute_result",
     "data": {
      "text/plain": "Phase: Bottleneck Computation, Dataset used:      Train, Image Index: 577"
     },
     "execution_count": 1,
     "metadata": {}
    },
    {
     "output_type": "execute_result",
     "data": {
      "text/plain": "Phase: Bottleneck Computation, Dataset used:      Train, Image Index: 578"
     },
     "execution_count": 1,
     "metadata": {}
    },
    {
     "output_type": "execute_result",
     "data": {
      "text/plain": "Phase: Bottleneck Computation, Dataset used:      Train, Image Index: 579"
     },
     "execution_count": 1,
     "metadata": {}
    },
    {
     "output_type": "execute_result",
     "data": {
      "text/plain": "Phase: Bottleneck Computation, Dataset used:      Train, Image Index: 580"
     },
     "execution_count": 1,
     "metadata": {}
    },
    {
     "output_type": "execute_result",
     "data": {
      "text/plain": "Phase: Bottleneck Computation, Dataset used:      Train, Image Index: 581"
     },
     "execution_count": 1,
     "metadata": {}
    },
    {
     "output_type": "execute_result",
     "data": {
      "text/plain": "Phase: Bottleneck Computation, Dataset used:      Train, Image Index: 582"
     },
     "execution_count": 1,
     "metadata": {}
    },
    {
     "output_type": "execute_result",
     "data": {
      "text/plain": "Phase: Bottleneck Computation, Dataset used:      Train, Image Index: 583"
     },
     "execution_count": 1,
     "metadata": {}
    },
    {
     "output_type": "execute_result",
     "data": {
      "text/plain": "Phase: Bottleneck Computation, Dataset used:      Train, Image Index: 584"
     },
     "execution_count": 1,
     "metadata": {}
    },
    {
     "output_type": "execute_result",
     "data": {
      "text/plain": "Phase: Bottleneck Computation, Dataset used:      Train, Image Index: 585"
     },
     "execution_count": 1,
     "metadata": {}
    },
    {
     "output_type": "execute_result",
     "data": {
      "text/plain": "Phase: Bottleneck Computation, Dataset used:      Train, Image Index: 586"
     },
     "execution_count": 1,
     "metadata": {}
    },
    {
     "output_type": "execute_result",
     "data": {
      "text/plain": "Phase: Bottleneck Computation, Dataset used:      Train, Image Index: 587"
     },
     "execution_count": 1,
     "metadata": {}
    },
    {
     "output_type": "execute_result",
     "data": {
      "text/plain": "Phase: Bottleneck Computation, Dataset used:      Train, Image Index: 588"
     },
     "execution_count": 1,
     "metadata": {}
    },
    {
     "output_type": "execute_result",
     "data": {
      "text/plain": "Phase: Bottleneck Computation, Dataset used:      Train, Image Index: 589"
     },
     "execution_count": 1,
     "metadata": {}
    },
    {
     "output_type": "execute_result",
     "data": {
      "text/plain": "Phase: Bottleneck Computation, Dataset used:      Train, Image Index: 590"
     },
     "execution_count": 1,
     "metadata": {}
    },
    {
     "output_type": "execute_result",
     "data": {
      "text/plain": "Phase: Bottleneck Computation, Dataset used:      Train, Image Index: 591"
     },
     "execution_count": 1,
     "metadata": {}
    },
    {
     "output_type": "execute_result",
     "data": {
      "text/plain": "Phase: Bottleneck Computation, Dataset used:      Train, Image Index: 592"
     },
     "execution_count": 1,
     "metadata": {}
    },
    {
     "output_type": "execute_result",
     "data": {
      "text/plain": "Phase: Bottleneck Computation, Dataset used:      Train, Image Index: 593"
     },
     "execution_count": 1,
     "metadata": {}
    },
    {
     "output_type": "execute_result",
     "data": {
      "text/plain": "Phase: Bottleneck Computation, Dataset used:      Train, Image Index: 594"
     },
     "execution_count": 1,
     "metadata": {}
    },
    {
     "output_type": "execute_result",
     "data": {
      "text/plain": "Phase: Bottleneck Computation, Dataset used:      Train, Image Index: 595"
     },
     "execution_count": 1,
     "metadata": {}
    },
    {
     "output_type": "execute_result",
     "data": {
      "text/plain": "Phase: Bottleneck Computation, Dataset used:      Train, Image Index: 596"
     },
     "execution_count": 1,
     "metadata": {}
    },
    {
     "output_type": "execute_result",
     "data": {
      "text/plain": "Phase: Bottleneck Computation, Dataset used:      Train, Image Index: 597"
     },
     "execution_count": 1,
     "metadata": {}
    },
    {
     "output_type": "execute_result",
     "data": {
      "text/plain": "Phase: Bottleneck Computation, Dataset used:      Train, Image Index: 598"
     },
     "execution_count": 1,
     "metadata": {}
    },
    {
     "output_type": "execute_result",
     "data": {
      "text/plain": "Phase: Bottleneck Computation, Dataset used:      Train, Image Index: 599"
     },
     "execution_count": 1,
     "metadata": {}
    },
    {
     "output_type": "execute_result",
     "data": {
      "text/plain": "Phase: Bottleneck Computation, Dataset used:      Train, Image Index: 600"
     },
     "execution_count": 1,
     "metadata": {}
    },
    {
     "output_type": "execute_result",
     "data": {
      "text/plain": "Phase: Bottleneck Computation, Dataset used:      Train, Image Index: 601"
     },
     "execution_count": 1,
     "metadata": {}
    },
    {
     "output_type": "execute_result",
     "data": {
      "text/plain": "Phase: Bottleneck Computation, Dataset used:      Train, Image Index: 602"
     },
     "execution_count": 1,
     "metadata": {}
    },
    {
     "output_type": "execute_result",
     "data": {
      "text/plain": "Phase: Bottleneck Computation, Dataset used:      Train, Image Index: 603"
     },
     "execution_count": 1,
     "metadata": {}
    },
    {
     "output_type": "execute_result",
     "data": {
      "text/plain": "Phase: Bottleneck Computation, Dataset used:      Train, Image Index: 604"
     },
     "execution_count": 1,
     "metadata": {}
    },
    {
     "output_type": "execute_result",
     "data": {
      "text/plain": "Phase: Training, Dataset used: Validation, Batch Processed Count:  10, Epoch:   0, Accuracy:       0,98, Cross-Entropy: 0,08957331"
     },
     "execution_count": 1,
     "metadata": {}
    },
    {
     "output_type": "execute_result",
     "data": {
      "text/plain": "Phase: Training, Dataset used: Validation, Batch Processed Count:  10, Epoch:   1, Accuracy: 0,98999995, Cross-Entropy: 0,068147734"
     },
     "execution_count": 1,
     "metadata": {}
    },
    {
     "output_type": "execute_result",
     "data": {
      "text/plain": "Phase: Training, Dataset used: Validation, Batch Processed Count:  10, Epoch:   2, Accuracy: 0,98999995, Cross-Entropy: 0,058538467"
     },
     "execution_count": 1,
     "metadata": {}
    },
    {
     "output_type": "execute_result",
     "data": {
      "text/plain": "Phase: Training, Dataset used: Validation, Batch Processed Count:  10, Epoch:   3, Accuracy: 0,98999995, Cross-Entropy: 0,052599818"
     },
     "execution_count": 1,
     "metadata": {}
    },
    {
     "output_type": "execute_result",
     "data": {
      "text/plain": "Phase: Training, Dataset used: Validation, Batch Processed Count:  10, Epoch:   4, Accuracy: 0,98999995, Cross-Entropy: 0,048582446"
     },
     "execution_count": 1,
     "metadata": {}
    },
    {
     "output_type": "execute_result",
     "data": {
      "text/plain": "Phase: Training, Dataset used: Validation, Batch Processed Count:  10, Epoch:   5, Accuracy: 0,98999995, Cross-Entropy: 0,04592009"
     },
     "execution_count": 1,
     "metadata": {}
    },
    {
     "output_type": "execute_result",
     "data": {
      "text/plain": "Phase: Training, Dataset used: Validation, Batch Processed Count:  10, Epoch:   6, Accuracy: 0,98999995, Cross-Entropy: 0,04412596"
     },
     "execution_count": 1,
     "metadata": {}
    },
    {
     "output_type": "execute_result",
     "data": {
      "text/plain": "Phase: Training, Dataset used: Validation, Batch Processed Count:  10, Epoch:   7, Accuracy: 0,98999995, Cross-Entropy: 0,042835794"
     },
     "execution_count": 1,
     "metadata": {}
    },
    {
     "output_type": "execute_result",
     "data": {
      "text/plain": "Phase: Training, Dataset used: Validation, Batch Processed Count:  10, Epoch:   8, Accuracy: 0,98999995, Cross-Entropy: 0,04195297"
     },
     "execution_count": 1,
     "metadata": {}
    },
    {
     "output_type": "execute_result",
     "data": {
      "text/plain": "Phase: Training, Dataset used: Validation, Batch Processed Count:  10, Epoch:   9, Accuracy: 0,98999995, Cross-Entropy: 0,04124478"
     },
     "execution_count": 1,
     "metadata": {}
    },
    {
     "output_type": "execute_result",
     "data": {
      "text/plain": "Phase: Training, Dataset used: Validation, Batch Processed Count:  10, Epoch:  10, Accuracy: 0,98999995, Cross-Entropy: 0,040759552"
     },
     "execution_count": 1,
     "metadata": {}
    },
    {
     "output_type": "execute_result",
     "data": {
      "text/plain": "Phase: Training, Dataset used: Validation, Batch Processed Count:  10, Epoch:  11, Accuracy: 0,98999995, Cross-Entropy: 0,04033129"
     },
     "execution_count": 1,
     "metadata": {}
    },
    {
     "output_type": "execute_result",
     "data": {
      "text/plain": "Phase: Training, Dataset used: Validation, Batch Processed Count:  10, Epoch:  12, Accuracy: 0,98999995, Cross-Entropy: 0,040041648"
     },
     "execution_count": 1,
     "metadata": {}
    },
    {
     "output_type": "execute_result",
     "data": {
      "text/plain": "Phase: Training, Dataset used: Validation, Batch Processed Count:  10, Epoch:  13, Accuracy: 0,98999995, Cross-Entropy: 0,039764993"
     },
     "execution_count": 1,
     "metadata": {}
    },
    {
     "output_type": "execute_result",
     "data": {
      "text/plain": "Phase: Training, Dataset used: Validation, Batch Processed Count:  10, Epoch:  14, Accuracy: 0,98999995, Cross-Entropy: 0,039581873"
     },
     "execution_count": 1,
     "metadata": {}
    },
    {
     "output_type": "execute_result",
     "data": {
      "text/plain": "Phase: Training, Dataset used: Validation, Batch Processed Count:  10, Epoch:  15, Accuracy: 0,98999995, Cross-Entropy: 0,03939499"
     },
     "execution_count": 1,
     "metadata": {}
    },
    {
     "output_type": "execute_result",
     "data": {
      "text/plain": "Phase: Training, Dataset used: Validation, Batch Processed Count:  10, Epoch:  16, Accuracy: 0,98999995, Cross-Entropy: 0,039274693"
     },
     "execution_count": 1,
     "metadata": {}
    },
    {
     "output_type": "execute_result",
     "data": {
      "text/plain": "Phase: Training, Dataset used: Validation, Batch Processed Count:  10, Epoch:  17, Accuracy: 0,98999995, Cross-Entropy:  0,0391445"
     },
     "execution_count": 1,
     "metadata": {}
    },
    {
     "output_type": "execute_result",
     "data": {
      "text/plain": "Phase: Training, Dataset used: Validation, Batch Processed Count:  10, Epoch:  18, Accuracy: 0,98999995, Cross-Entropy: 0,03906349"
     },
     "execution_count": 1,
     "metadata": {}
    },
    {
     "output_type": "execute_result",
     "data": {
      "text/plain": "Phase: Training, Dataset used: Validation, Batch Processed Count:  10, Epoch:  19, Accuracy: 0,98999995, Cross-Entropy: 0,038970903"
     },
     "execution_count": 1,
     "metadata": {}
    },
    {
     "output_type": "execute_result",
     "data": {
      "text/plain": "Phase: Training, Dataset used: Validation, Batch Processed Count:  10, Epoch:  20, Accuracy: 0,98999995, Cross-Entropy:  0,0389156"
     },
     "execution_count": 1,
     "metadata": {}
    },
    {
     "output_type": "execute_result",
     "data": {
      "text/plain": "Saver not created because there are no variables in the graph to restore\r\n"
     },
     "execution_count": 1,
     "metadata": {}
    },
    {
     "output_type": "execute_result",
     "data": {
      "text/plain": "Restoring parameters from C:\\Users\\grego\\source\\repos\\IsItKrampus.NET\\workspace\\custom_retrained_model_based_on_inception_v3.meta\r\n"
     },
     "execution_count": 1,
     "metadata": {}
    },
    {
     "output_type": "execute_result",
     "data": {
      "text/plain": "Froze 2 variables.\r\n"
     },
     "execution_count": 1,
     "metadata": {}
    },
    {
     "output_type": "execute_result",
     "data": {
      "text/plain": "Converted 2 variables to const ops.\r\n"
     },
     "execution_count": 1,
     "metadata": {}
    }
   ]
  },
  {
   "cell_type": "code",
   "execution_count": 1,
   "metadata": {},
   "source": [
    "#!fsharp\n",
    "let predictions = trainedModel.Transform testSet"
   ],
   "outputs": []
  },
  {
   "cell_type": "code",
   "execution_count": 1,
   "metadata": {},
   "source": [
    "#!fsharp\n",
    "let metrics = mlContext.MulticlassClassification.Evaluate(predictions, labelColumnName = \"LabelAsKey\")"
   ],
   "outputs": []
  },
  {
   "cell_type": "code",
   "execution_count": 1,
   "metadata": {},
   "source": [
    "#!fsharp\n",
    "display $\"Micro Accuracy: %f{metrics.MicroAccuracy} Macro Accuracy: %f{metrics.MacroAccuracy} Log Loss: %f{metrics.LogLoss}\""
   ],
   "outputs": [
    {
     "output_type": "execute_result",
     "data": {
      "text/plain": "Micro Accuracy: 0.978261 Macro Accuracy: 0.978836 Log Loss: 0.067393"
     },
     "execution_count": 1,
     "metadata": {}
    }
   ]
  },
  {
   "cell_type": "code",
   "execution_count": 1,
   "metadata": {},
   "source": [
    "#!fsharp\n",
    "metrics"
   ],
   "outputs": [
    {
     "output_type": "execute_result",
     "data": {
      "text/html": "<table><thead><tr><th>LogLoss</th><th>LogLossReduction</th><th>MacroAccuracy</th><th>MicroAccuracy</th><th>TopKAccuracy</th><th>TopKPredictionCount</th><th>PerClassLogLoss</th><th>ConfusionMatrix</th></tr></thead><tbody><tr><td><div class=\"dni-plaintext\">0.06739343047686716</div></td><td><div class=\"dni-plaintext\">0.9382416280797873</div></td><td><div class=\"dni-plaintext\">0.978835978835979</div></td><td><div class=\"dni-plaintext\">0.9782608695652174</div></td><td><div class=\"dni-plaintext\">0</div></td><td><div class=\"dni-plaintext\">0</div></td><td><div class=\"dni-plaintext\">[ 0.1278741993931759, 0.05377732730981245, 0.003248545037239239 ]</div></td><td><div class=\"dni-plaintext\">Microsoft.ML.Data.ConfusionMatrix</div></td></tr></tbody></table>"
     },
     "execution_count": 1,
     "metadata": {}
    }
   ]
  },
  {
   "cell_type": "code",
   "execution_count": 1,
   "metadata": {},
   "source": [
    "#!fsharp\n",
    "let wronglyPredictedOutputs =\n",
    "    mlContext.Data.CreateEnumerable<ModelOutput>(predictions, reuseRowObject = false)\n",
    "    |> Seq.filter (fun output -> output.Label <> output.PredictedLabel)\n",
    "    |> Seq.toList"
   ],
   "outputs": []
  },
  {
   "cell_type": "code",
   "execution_count": 1,
   "metadata": {},
   "source": [
    "#!fsharp\n",
    "display wronglyPredictedOutputs\n",
    "\n",
    "let wronglyPredictedBase64 = Convert.ToBase64String wronglyPredictedOutputs.[1].Image\n",
    "DisplayFunctions.HTML$\"<img src=\\\"data:image/png;base64,{wronglyPredictedBase64}\\\"></img>\""
   ],
   "outputs": [
    {
     "output_type": "execute_result",
     "data": {
      "text/html": "<table><thead><tr><th><i>index</i></th><th>Image</th><th>Label</th><th>PredictedLabel</th></tr></thead><tbody><tr><td>0</td><td><div class=\"dni-plaintext\">[ 255, 216, 255, 224, 0, 16, 74, 70, 73, 70, 0, 1, 1, 0, 0, 1, 0, 1, 0, 0 ... (15290 more) ]</div></td><td><div class=\"dni-plaintext\">Other</div></td><td><div class=\"dni-plaintext\">Krampus</div></td></tr><tr><td>1</td><td><div class=\"dni-plaintext\">[ 255, 216, 255, 224, 0, 16, 74, 70, 73, 70, 0, 1, 1, 1, 1, 44, 1, 44, 0, 0 ... (31489 more) ]</div></td><td><div class=\"dni-plaintext\">Krampus</div></td><td><div class=\"dni-plaintext\">Other</div></td></tr></tbody></table>"
     },
     "execution_count": 1,
     "metadata": {}
    },
    {
     "output_type": "execute_result",
     "data": {
      "text/html": "<img src=\"data:image/png;base64,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\"></img>"
     },
     "execution_count": 1,
     "metadata": {}
    }
   ]
  },
  {
   "cell_type": "code",
   "execution_count": 1,
   "metadata": {},
   "source": [
    "#!fsharp\n",
    "open MLOps.NET\n",
    "open MLOps.NET.SQLite\n",
    "open MLOps.NET.Storage\n",
    "open MLOps.NET.Extensions\n",
    "\n",
    "let dbFolder = Path.Combine(projectRoot, \"data\", \"mlops-data\")\n",
    "let modelRepo = Path.Combine(dbFolder, \"model-repo\")\n",
    "let dbFile = Path.Combine(dbFolder, \"localmlops.db\")\n",
    "\n",
    "[<Literal>]\n",
    "let experimentName = \"IsItKrampus.NET\"\n",
    "\n",
    "let mlOps =\n",
    "    MLOpsBuilder()\n",
    "        .UseSQLite(dbFile)\n",
    "        .UseLocalFileModelRepository(modelRepo)\n",
    "        .Build()"
   ],
   "outputs": []
  },
  {
   "cell_type": "code",
   "execution_count": 1,
   "metadata": {},
   "source": [
    "#!fsharp\n",
    "open System.Threading.Tasks\n",
    "\n",
    "let doSync (task: Task<'a>) =\n",
    "    task\n",
    "    |> Async.AwaitTask\n",
    "    |> Async.RunSynchronously\n",
    "\n",
    "let doSyncUnit (task: Task) =\n",
    "    task\n",
    "    |> Async.AwaitTask\n",
    "    |> Async.RunSynchronously"
   ],
   "outputs": []
  },
  {
   "cell_type": "code",
   "execution_count": 1,
   "metadata": {},
   "source": [
    "#!fsharp\n",
    "let run =\n",
    "    mlOps.LifeCycle.CreateRunAsync(experimentName)\n",
    "    |> doSync"
   ],
   "outputs": []
  },
  {
   "cell_type": "code",
   "execution_count": 1,
   "metadata": {},
   "source": [
    "#!fsharp\n",
    "let modelDir = Path.Combine(projectRoot, \"models\")\n",
    "let modelPath = Path.Combine(modelDir, \"model.zip\")\n",
    "mlContext.Model.Save(trainedModel, preProcessedData.Schema, modelPath)"
   ],
   "outputs": []
  },
  {
   "cell_type": "code",
   "execution_count": 1,
   "metadata": {},
   "source": [
    "#!fsharp\n",
    "mlOps.Data.LogDataAsync(run.RunId, imageData)\n",
    "|> doSyncUnit\n",
    "\n",
    "mlOps.Training.LogHyperParametersAsync(run.RunId, trainedModel)\n",
    "|> doSyncUnit\n",
    "\n",
    "mlOps.Evaluation.LogConfusionMatrixAsync(run.RunId, metrics.ConfusionMatrix)\n",
    "|> doSyncUnit\n",
    "\n",
    "mlOps.Evaluation.LogMetricsAsync(run.RunId, metrics)\n",
    "|> doSyncUnit"
   ],
   "outputs": []
  },
  {
   "cell_type": "code",
   "execution_count": 1,
   "metadata": {},
   "source": [
    "#!fsharp\n",
    "let runArtifact =\n",
    "    mlOps.Model.UploadAsync(run.RunId, Path.Combine(modelPath))\n",
    "    |> doSync\n",
    "\n",
    "let registeredModel =\n",
    "    mlOps.Model.RegisterModel(run.ExperimentId, runArtifact.RunArtifactId, \"@GBeyerle\")\n",
    "    |> doSync"
   ],
   "outputs": []
  },
  {
   "cell_type": "code",
   "execution_count": 1,
   "metadata": {},
   "source": [
    "#!fsharp\n",
    "let mutable predictionPipelineSchema : DataViewSchema = null\n",
    "let loadedModel = mlContext.Model.Load(modelPath, &predictionPipelineSchema)"
   ],
   "outputs": []
  },
  {
   "cell_type": "code",
   "execution_count": 1,
   "metadata": {},
   "source": [
    "#!fsharp\n",
    "let predictionEngine = mlContext.Model.CreatePredictionEngine<ModelInput, ModelOutput>(loadedModel)"
   ],
   "outputs": []
  },
  {
   "cell_type": "code",
   "execution_count": 1,
   "metadata": {},
   "source": [
    "#!fsharp\n",
    "let getRandom (a: 'a array) =\n",
    "    let rnd = System.Random()\n",
    "    let idx = rnd.Next(0, Array.length a - 1)\n",
    "    a.[idx]\n",
    "\n",
    "let image =\n",
    "    loadImagesFromPreparedDir()\n",
    "    |> getRandom\n",
    "    |> fun i -> Path.Combine(prepDir, i.ImagePath)\n",
    "    |> File.ReadAllBytes\n",
    "\n",
    "let base64 = Convert.ToBase64String image\n",
    "\n",
    "DisplayFunctions.HTML $\"<img src=\\\"data:image/png;base64,{base64}\\\"></img>\""
   ],
   "outputs": [
    {
     "output_type": "execute_result",
     "data": {
      "text/html": "<img src=\"data:image/png;base64,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\"></img>"
     },
     "execution_count": 1,
     "metadata": {}
    }
   ]
  },
  {
   "cell_type": "code",
   "execution_count": 1,
   "metadata": {},
   "source": [
    "#!fsharp\n",
    "let input : ModelInput =\n",
    "    { Image = image\n",
    "      Label = null }\n",
    "\n",
    "let output = predictionEngine.Predict input\n",
    "\n",
    "output"
   ],
   "outputs": [
    {
     "output_type": "execute_result",
     "data": {
      "text/html": "<table><thead><tr><th>Image</th><th>Label</th><th>PredictedLabel</th></tr></thead><tbody><tr><td><div class=\"dni-plaintext\">[ 255, 216, 255, 224, 0, 16, 74, 70, 73, 70, 0, 1, 1, 0, 0, 1, 0, 1, 0, 0 ... (31871 more) ]</div></td><td></td><td><div class=\"dni-plaintext\">Krampus</div></td></tr></tbody></table>"
     },
     "execution_count": 1,
     "metadata": {}
    }
   ]
  }
 ],
 "metadata": {
  "kernelspec": {
   "display_name": ".NET (C#)",
   "language": "C#",
   "name": ".net-csharp"
  },
  "language_info": {
   "file_extension": ".cs",
   "mimetype": "text/x-csharp",
   "name": "C#",
   "pygments_lexer": "csharp",
   "version": "8.0"
  }
 },
 "nbformat": 4,
 "nbformat_minor": 4
}