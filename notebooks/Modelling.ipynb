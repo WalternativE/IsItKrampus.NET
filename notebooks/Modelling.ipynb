{
 "cells": [
  {
   "cell_type": "code",
   "execution_count": 1,
   "metadata": {},
   "outputs": [
    {
     "data": {
      "text/plain": "Installed package SciSharp.TensorFlow.Redist version 2.3.1"
     },
     "execution_count": 1,
     "metadata": {},
     "output_type": "execute_result"
    },
    {
     "data": {
      "text/plain": "Installed package MLOps.NET version 1.3.0"
     },
     "execution_count": 1,
     "metadata": {},
     "output_type": "execute_result"
    },
    {
     "data": {
      "text/plain": "Installed package SixLabors.ImageSharp version 1.0.2"
     },
     "execution_count": 1,
     "metadata": {},
     "output_type": "execute_result"
    },
    {
     "data": {
      "text/plain": "Installed package Microsoft.ML.Vision version 1.5.4"
     },
     "execution_count": 1,
     "metadata": {},
     "output_type": "execute_result"
    },
    {
     "data": {
      "text/plain": "Installed package Microsoft.ML.ImageAnalytics version 1.5.4"
     },
     "execution_count": 1,
     "metadata": {},
     "output_type": "execute_result"
    },
    {
     "data": {
      "text/plain": "Installed package MLOps.NET.SQLite version 1.3.0"
     },
     "execution_count": 1,
     "metadata": {},
     "output_type": "execute_result"
    }
   ],
   "source": [
    "#!fsharp\n",
    "#r \"nuget: Microsoft.ML.ImageAnalytics, 1.5.4\"\n",
    "#r \"nuget: Microsoft.ML.Vision, 1.5.4\"\n",
    "#r \"nuget: SciSharp.TensorFlow.Redist, 2.3.1\"\n",
    "#r \"nuget: SixLabors.ImageSharp, 1.0.2\"\n",
    "#r \"nuget: MLOps.NET, 1.3.0\"\n",
    "#r \"nuget: MLOps.NET.SQLite, 1.3.0\""
   ]
  },
  {
   "cell_type": "code",
   "execution_count": 1,
   "metadata": {},
   "outputs": [],
   "source": [
    "#!fsharp\n",
    "open System\n",
    "open System.IO\n",
    "open Microsoft.ML\n",
    "open Microsoft.ML.Vision\n",
    "open Microsoft.ML.Transforms\n",
    "open Microsoft.ML.Data\n",
    "open SixLabors.ImageSharp\n",
    "open SixLabors.ImageSharp.Processing\n",
    "open Microsoft.DotNet.Interactive.FSharp.FSharpKernelHelpers"
   ]
  },
  {
   "cell_type": "code",
   "execution_count": 1,
   "metadata": {},
   "outputs": [],
   "source": [
    "#!fsharp\r\n",
    "type ImageData =\r\n",
    "    { ImagePath: string\r\n",
    "      Label: string }\r\n",
    "\r\n",
    "[<CLIMutable>]\r\n",
    "type ImageDataAfterPreprocessing =\r\n",
    "  { ImagePath: string\r\n",
    "    Image: byte[]\r\n",
    "    Label: string\r\n",
    "    LabelAsKey: UInt32 }\r\n",
    "\r\n",
    "[<CLIMutable>]\r\n",
    "type ModelInput =\r\n",
    "    { Image: byte[]\r\n",
    "      Label: string }\r\n",
    "\r\n",
    "[<CLIMutable>]\r\n",
    "type ModelOutput =\r\n",
    "    { Image: byte[]\r\n",
    "      Label: string\r\n",
    "      PredictedLabel: string }"
   ]
  },
  {
   "cell_type": "code",
   "execution_count": 1,
   "metadata": {},
   "outputs": [],
   "source": [
    "#!fsharp\n",
    "[<Literal>]\n",
    "let projectRoot = @\"C:\\Users\\grego\\source\\repos\\IsItKrampus.NET\"\n",
    "\n",
    "let dataDir = Path.Combine(projectRoot, \"data\")\n",
    "let prepDir = Path.Combine(dataDir, \"prepared\")\n",
    "let workspaceDir = Path.Combine(projectRoot, \"workspace\")"
   ]
  },
  {
   "cell_type": "code",
   "execution_count": 1,
   "metadata": {},
   "outputs": [],
   "source": [
    "#!fsharp\n",
    "// I want to seed my global MLContext\n",
    "// and my global uniform random generator\n",
    "// to have at least some reproducibility\n",
    "let mlContext = MLContext(1)\n",
    "let rnd = Random(1)"
   ]
  },
  {
   "cell_type": "code",
   "execution_count": 1,
   "metadata": {},
   "outputs": [],
   "source": [
    "#!fsharp\n",
    "let loadImagesFromPreparedDir () =\n",
    "    File.ReadAllLines (Path.Combine(dataDir, \"image_prep.csv\"))\n",
    "    |> Array.skip 1\n",
    "    |> Array.map (fun line ->\n",
    "        let parts = line.Split(',')\n",
    "        (parts.[0], parts.[1], bool.Parse parts.[6]))\n",
    "    |> Array.filter (fun (_, _, isIncluded) -> isIncluded)\n",
    "    |> Array.map (fun (fileName, label, _) ->\n",
    "        { ImagePath = fileName\n",
    "          Label = label })"
   ]
  },
  {
   "cell_type": "code",
   "execution_count": 1,
   "metadata": {},
   "outputs": [],
   "source": [
    "#!fsharp\n",
    "let imageData = mlContext.Data.LoadFromEnumerable(loadImagesFromPreparedDir())\n",
    "let shuffledData = mlContext.Data.ShuffleRows(imageData)"
   ]
  },
  {
   "cell_type": "code",
   "execution_count": 1,
   "metadata": {},
   "outputs": [],
   "source": [
    "#!fsharp\n",
    "let preprocessingPipeline =\n",
    "    EstimatorChain()\n",
    "        .Append(mlContext.Transforms.Conversion.MapValueToKey(inputColumnName = \"Label\",\n",
    "                                                  outputColumnName = \"LabelAsKey\",\n",
    "                                                  keyOrdinality = ValueToKeyMappingEstimator.KeyOrdinality.ByValue))\n",
    "        .Append(mlContext.Transforms\n",
    "            .LoadRawImageBytes(outputColumnName = \"Image\",\n",
    "                               imageFolder = prepDir,\n",
    "                               inputColumnName = \"ImagePath\"))"
   ]
  },
  {
   "cell_type": "code",
   "execution_count": 1,
   "metadata": {},
   "outputs": [],
   "source": [
    "#!fsharp\n",
    "let preProcessedData =\n",
    "    preprocessingPipeline.Fit(shuffledData)\n",
    "        .Transform(shuffledData)"
   ]
  },
  {
   "cell_type": "code",
   "execution_count": 1,
   "metadata": {},
   "outputs": [],
   "source": [
    "#!fsharp\n",
    "let trainSplit = mlContext.Data.TrainTestSplit(data = preProcessedData, testFraction = 0.3)\n",
    "// I need a bigger test fraction because my dataset is relatively small\n",
    "let validationTestSplit = mlContext.Data.TrainTestSplit(trainSplit.TestSet, testFraction = 0.5)\n",
    "\n",
    "let trainSet = trainSplit.TrainSet;\n",
    "let validationSet = validationTestSplit.TrainSet\n",
    "let testSet = validationTestSplit.TestSet"
   ]
  },
  {
   "cell_type": "code",
   "execution_count": 1,
   "metadata": {},
   "outputs": [
    {
     "data": {
      "text/html": "<img src=\"data:image/png;base64,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\"></img>"
     },
     "execution_count": 1,
     "metadata": {},
     "output_type": "execute_result"
    }
   ],
   "source": [
    "#!fsharp\n",
    "let preprocessedImagesTrainSet = mlContext.Data.CreateEnumerable<ImageDataAfterPreprocessing>(trainSet, reuseRowObject = false)\n",
    "\n",
    "preprocessedImagesTrainSet\n",
    "|> Seq.head\n",
    "|> fun img -> Convert.ToBase64String img.Image\n",
    "|> ((sprintf \"<img src=\\\"data:image/png;base64,%s\\\"></img>\") >> DisplayFunctions.HTML)"
   ]
  },
  {
   "cell_type": "code",
   "execution_count": 1,
   "metadata": {},
   "outputs": [
    {
     "data": {
      "text/html": "<img src=\"data:image/png;base64,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\"></img>"
     },
     "execution_count": 1,
     "metadata": {},
     "output_type": "execute_result"
    }
   ],
   "source": [
    "#!fsharp\n",
    "let imgBytes =\n",
    "    preprocessedImagesTrainSet\n",
    "    |> Seq.head\n",
    "    |> fun img -> img.Image\n",
    "\n",
    "let turnRight (imgBytes: byte[]) =\n",
    "    use img = Image.Load(imgBytes)\n",
    "\n",
    "    let newImage = img.Clone(fun img -> img.Rotate(90f) |> ignore)\n",
    "\n",
    "    use ms = new MemoryStream()\n",
    "    newImage.SaveAsJpeg(ms)\n",
    "\n",
    "    ms.ToArray()\n",
    "\n",
    "let turnLeft (imgBytes: byte[]) =\n",
    "    use img = Image.Load(imgBytes)\n",
    "\n",
    "    let newImage = img.Clone(fun img -> img.Rotate(-90f) |> ignore)\n",
    "\n",
    "    use ms = new MemoryStream()\n",
    "    newImage.SaveAsJpeg(ms)\n",
    "\n",
    "    ms.ToArray()\n",
    "\n",
    "let flipHorizontally (imgBytes: byte[]) =\n",
    "    use img = Image.Load(imgBytes)\n",
    "\n",
    "    let newImage = img.Clone(fun img -> img.RotateFlip(RotateMode.None, FlipMode.Horizontal) |> ignore)\n",
    "\n",
    "    use ms = new MemoryStream()\n",
    "    newImage.SaveAsJpeg(ms)\n",
    "\n",
    "    ms.ToArray()\n",
    "\n",
    "let grayScale (imgBytes: byte[]) =\n",
    "    use img = Image.Load(imgBytes)\n",
    "\n",
    "    let newImage = img.Clone(fun img -> img.Grayscale() |> ignore)\n",
    "\n",
    "    use ms = new MemoryStream()\n",
    "    newImage.SaveAsJpeg(ms)\n",
    "\n",
    "    ms.ToArray()\n",
    "\n",
    "\n",
    "grayScale imgBytes\n",
    "|> fun img -> Convert.ToBase64String img\n",
    "|> ((sprintf \"<img src=\\\"data:image/png;base64,%s\\\"></img>\") >> DisplayFunctions.HTML)"
   ]
  },
  {
   "cell_type": "code",
   "execution_count": 1,
   "metadata": {},
   "outputs": [],
   "source": [
    "#!fsharp\n",
    "let randomlyAugment (augmentationBase: ImageDataAfterPreprocessing seq) (percentage: float) (augmentation: byte[] -> byte[]) =\n",
    "    let randomIndexesToAugment =\n",
    "        let n = Seq.length augmentationBase\n",
    "        Seq.init (int ((float n) * percentage)) (fun _ -> rnd.Next(0, n - 1))\n",
    "\n",
    "    let pick (idxs: int seq) (s: seq<'a>) =\n",
    "        let arr = Array.ofSeq s\n",
    "        seq { for idx in idxs -> arr.[idx] }\n",
    "\n",
    "    let augmentedImages =\n",
    "        augmentationBase\n",
    "        |> pick randomIndexesToAugment\n",
    "        |> Seq.map (fun img -> { img with Image = augmentation img.Image })\n",
    "\n",
    "    augmentedImages\n",
    "\n",
    "let augmentedImages =\n",
    "    [ turnRight; turnLeft; flipHorizontally; grayScale ]\n",
    "    |> Seq.map (randomlyAugment preprocessedImagesTrainSet 0.1)\n",
    "    |> Seq.concat\n",
    "\n",
    "// hacky hacky hack because Key Column types in ML.NET are weird\n",
    "let postAugmentationPipeline =\n",
    "    mlContext.Transforms.Conversion.MapValueToKey(inputColumnName = \"Label\",\n",
    "                                                  outputColumnName = \"LabelAsKey\",\n",
    "                                                  // super important to use `keyOrdinality` consistently\n",
    "                                                  // otherwise you kill your network performance\n",
    "                                                  keyOrdinality = ValueToKeyMappingEstimator.KeyOrdinality.ByValue)\n",
    "\n",
    "let augmentedTrain =\n",
    "    Seq.concat [ preprocessedImagesTrainSet; augmentedImages ]\n",
    "    |> fun dataset -> mlContext.Data.LoadFromEnumerable(dataset)\n",
    "    |> fun dv -> mlContext.Data.ShuffleRows(dv)\n",
    "    |> fun dv -> postAugmentationPipeline.Fit(dv).Transform(dv)"
   ]
  },
  {
   "cell_type": "code",
   "execution_count": 1,
   "metadata": {},
   "outputs": [],
   "source": [
    "#!fsharp\n",
    "let imageClassifierOptions =\n",
    "    ImageClassificationTrainer.Options(FeatureColumnName = \"Image\",\n",
    "                                       LabelColumnName = \"LabelAsKey\",\n",
    "                                       ValidationSet = validationSet,\n",
    "                                       Arch = ImageClassificationTrainer.Architecture.InceptionV3,\n",
    "                                       TestOnTrainSet = false,\n",
    "                                       ReuseTrainSetBottleneckCachedValues = false,\n",
    "                                       ReuseValidationSetBottleneckCachedValues = false,\n",
    "                                       Epoch = 400,\n",
    "                                       MetricsCallback = (fun metrics -> display $\"%A{metrics}\" |> ignore),\n",
    "                                       WorkspacePath = workspaceDir)"
   ]
  },
  {
   "cell_type": "code",
   "execution_count": 1,
   "metadata": {},
   "outputs": [],
   "source": [
    "#!fsharp\n",
    "let trainingPipeline =\n",
    "    EstimatorChain()\n",
    "        .Append(mlContext.MulticlassClassification.Trainers.ImageClassification(imageClassifierOptions))\n",
    "        .Append(mlContext.Transforms.Conversion.MapKeyToValue(\"PredictedLabel\", \"PredictedLabel\"))"
   ]
  },
  {
   "cell_type": "code",
   "execution_count": 1,
   "metadata": {},
   "outputs": [
    {
     "data": {
      "text/plain": "Saver not created because there are no variables in the graph to restore\r\n"
     },
     "execution_count": 1,
     "metadata": {},
     "output_type": "execute_result"
    },
    {
     "data": {
      "text/plain": "Phase: Bottleneck Computation, Dataset used: Validation, Image Index:   1"
     },
     "execution_count": 1,
     "metadata": {},
     "output_type": "execute_result"
    },
    {
     "data": {
      "text/plain": "Phase: Bottleneck Computation, Dataset used: Validation, Image Index:   2"
     },
     "execution_count": 1,
     "metadata": {},
     "output_type": "execute_result"
    },
    {
     "data": {
      "text/plain": "Phase: Bottleneck Computation, Dataset used: Validation, Image Index:   3"
     },
     "execution_count": 1,
     "metadata": {},
     "output_type": "execute_result"
    },
    {
     "data": {
      "text/plain": "Phase: Bottleneck Computation, Dataset used: Validation, Image Index:   4"
     },
     "execution_count": 1,
     "metadata": {},
     "output_type": "execute_result"
    },
    {
     "data": {
      "text/plain": "Phase: Bottleneck Computation, Dataset used: Validation, Image Index:   5"
     },
     "execution_count": 1,
     "metadata": {},
     "output_type": "execute_result"
    },
    {
     "data": {
      "text/plain": "Phase: Bottleneck Computation, Dataset used: Validation, Image Index:   6"
     },
     "execution_count": 1,
     "metadata": {},
     "output_type": "execute_result"
    },
    {
     "data": {
      "text/plain": "Phase: Bottleneck Computation, Dataset used: Validation, Image Index:   7"
     },
     "execution_count": 1,
     "metadata": {},
     "output_type": "execute_result"
    },
    {
     "data": {
      "text/plain": "Phase: Bottleneck Computation, Dataset used: Validation, Image Index:   8"
     },
     "execution_count": 1,
     "metadata": {},
     "output_type": "execute_result"
    },
    {
     "data": {
      "text/plain": "Phase: Bottleneck Computation, Dataset used: Validation, Image Index:   9"
     },
     "execution_count": 1,
     "metadata": {},
     "output_type": "execute_result"
    },
    {
     "data": {
      "text/plain": "Phase: Bottleneck Computation, Dataset used: Validation, Image Index:  10"
     },
     "execution_count": 1,
     "metadata": {},
     "output_type": "execute_result"
    },
    {
     "data": {
      "text/plain": "Phase: Bottleneck Computation, Dataset used: Validation, Image Index:  11"
     },
     "execution_count": 1,
     "metadata": {},
     "output_type": "execute_result"
    },
    {
     "data": {
      "text/plain": "Phase: Bottleneck Computation, Dataset used: Validation, Image Index:  12"
     },
     "execution_count": 1,
     "metadata": {},
     "output_type": "execute_result"
    },
    {
     "data": {
      "text/plain": "Phase: Bottleneck Computation, Dataset used: Validation, Image Index:  13"
     },
     "execution_count": 1,
     "metadata": {},
     "output_type": "execute_result"
    },
    {
     "data": {
      "text/plain": "Phase: Bottleneck Computation, Dataset used: Validation, Image Index:  14"
     },
     "execution_count": 1,
     "metadata": {},
     "output_type": "execute_result"
    },
    {
     "data": {
      "text/plain": "Phase: Bottleneck Computation, Dataset used: Validation, Image Index:  15"
     },
     "execution_count": 1,
     "metadata": {},
     "output_type": "execute_result"
    },
    {
     "data": {
      "text/plain": "Phase: Bottleneck Computation, Dataset used: Validation, Image Index:  16"
     },
     "execution_count": 1,
     "metadata": {},
     "output_type": "execute_result"
    },
    {
     "data": {
      "text/plain": "Phase: Bottleneck Computation, Dataset used: Validation, Image Index:  17"
     },
     "execution_count": 1,
     "metadata": {},
     "output_type": "execute_result"
    },
    {
     "data": {
      "text/plain": "Phase: Bottleneck Computation, Dataset used: Validation, Image Index:  18"
     },
     "execution_count": 1,
     "metadata": {},
     "output_type": "execute_result"
    },
    {
     "data": {
      "text/plain": "Phase: Bottleneck Computation, Dataset used: Validation, Image Index:  19"
     },
     "execution_count": 1,
     "metadata": {},
     "output_type": "execute_result"
    },
    {
     "data": {
      "text/plain": "Phase: Bottleneck Computation, Dataset used: Validation, Image Index:  20"
     },
     "execution_count": 1,
     "metadata": {},
     "output_type": "execute_result"
    },
    {
     "data": {
      "text/plain": "Phase: Bottleneck Computation, Dataset used: Validation, Image Index:  21"
     },
     "execution_count": 1,
     "metadata": {},
     "output_type": "execute_result"
    },
    {
     "data": {
      "text/plain": "Phase: Bottleneck Computation, Dataset used: Validation, Image Index:  22"
     },
     "execution_count": 1,
     "metadata": {},
     "output_type": "execute_result"
    },
    {
     "data": {
      "text/plain": "Phase: Bottleneck Computation, Dataset used: Validation, Image Index:  23"
     },
     "execution_count": 1,
     "metadata": {},
     "output_type": "execute_result"
    },
    {
     "data": {
      "text/plain": "Phase: Bottleneck Computation, Dataset used: Validation, Image Index:  24"
     },
     "execution_count": 1,
     "metadata": {},
     "output_type": "execute_result"
    },
    {
     "data": {
      "text/plain": "Phase: Bottleneck Computation, Dataset used: Validation, Image Index:  25"
     },
     "execution_count": 1,
     "metadata": {},
     "output_type": "execute_result"
    },
    {
     "data": {
      "text/plain": "Phase: Bottleneck Computation, Dataset used: Validation, Image Index:  26"
     },
     "execution_count": 1,
     "metadata": {},
     "output_type": "execute_result"
    },
    {
     "data": {
      "text/plain": "Phase: Bottleneck Computation, Dataset used: Validation, Image Index:  27"
     },
     "execution_count": 1,
     "metadata": {},
     "output_type": "execute_result"
    },
    {
     "data": {
      "text/plain": "Phase: Bottleneck Computation, Dataset used: Validation, Image Index:  28"
     },
     "execution_count": 1,
     "metadata": {},
     "output_type": "execute_result"
    },
    {
     "data": {
      "text/plain": "Phase: Bottleneck Computation, Dataset used: Validation, Image Index:  29"
     },
     "execution_count": 1,
     "metadata": {},
     "output_type": "execute_result"
    },
    {
     "data": {
      "text/plain": "Phase: Bottleneck Computation, Dataset used: Validation, Image Index:  30"
     },
     "execution_count": 1,
     "metadata": {},
     "output_type": "execute_result"
    },
    {
     "data": {
      "text/plain": "Phase: Bottleneck Computation, Dataset used: Validation, Image Index:  31"
     },
     "execution_count": 1,
     "metadata": {},
     "output_type": "execute_result"
    },
    {
     "data": {
      "text/plain": "Phase: Bottleneck Computation, Dataset used: Validation, Image Index:  32"
     },
     "execution_count": 1,
     "metadata": {},
     "output_type": "execute_result"
    },
    {
     "data": {
      "text/plain": "Phase: Bottleneck Computation, Dataset used: Validation, Image Index:  33"
     },
     "execution_count": 1,
     "metadata": {},
     "output_type": "execute_result"
    },
    {
     "data": {
      "text/plain": "Phase: Bottleneck Computation, Dataset used: Validation, Image Index:  34"
     },
     "execution_count": 1,
     "metadata": {},
     "output_type": "execute_result"
    },
    {
     "data": {
      "text/plain": "Phase: Bottleneck Computation, Dataset used: Validation, Image Index:  35"
     },
     "execution_count": 1,
     "metadata": {},
     "output_type": "execute_result"
    },
    {
     "data": {
      "text/plain": "Phase: Bottleneck Computation, Dataset used: Validation, Image Index:  36"
     },
     "execution_count": 1,
     "metadata": {},
     "output_type": "execute_result"
    },
    {
     "data": {
      "text/plain": "Phase: Bottleneck Computation, Dataset used: Validation, Image Index:  37"
     },
     "execution_count": 1,
     "metadata": {},
     "output_type": "execute_result"
    },
    {
     "data": {
      "text/plain": "Phase: Bottleneck Computation, Dataset used: Validation, Image Index:  38"
     },
     "execution_count": 1,
     "metadata": {},
     "output_type": "execute_result"
    },
    {
     "data": {
      "text/plain": "Phase: Bottleneck Computation, Dataset used: Validation, Image Index:  39"
     },
     "execution_count": 1,
     "metadata": {},
     "output_type": "execute_result"
    },
    {
     "data": {
      "text/plain": "Phase: Bottleneck Computation, Dataset used: Validation, Image Index:  40"
     },
     "execution_count": 1,
     "metadata": {},
     "output_type": "execute_result"
    },
    {
     "data": {
      "text/plain": "Phase: Bottleneck Computation, Dataset used: Validation, Image Index:  41"
     },
     "execution_count": 1,
     "metadata": {},
     "output_type": "execute_result"
    },
    {
     "data": {
      "text/plain": "Phase: Bottleneck Computation, Dataset used: Validation, Image Index:  42"
     },
     "execution_count": 1,
     "metadata": {},
     "output_type": "execute_result"
    },
    {
     "data": {
      "text/plain": "Phase: Bottleneck Computation, Dataset used: Validation, Image Index:  43"
     },
     "execution_count": 1,
     "metadata": {},
     "output_type": "execute_result"
    },
    {
     "data": {
      "text/plain": "Phase: Bottleneck Computation, Dataset used: Validation, Image Index:  44"
     },
     "execution_count": 1,
     "metadata": {},
     "output_type": "execute_result"
    },
    {
     "data": {
      "text/plain": "Phase: Bottleneck Computation, Dataset used: Validation, Image Index:  45"
     },
     "execution_count": 1,
     "metadata": {},
     "output_type": "execute_result"
    },
    {
     "data": {
      "text/plain": "Phase: Bottleneck Computation, Dataset used: Validation, Image Index:  46"
     },
     "execution_count": 1,
     "metadata": {},
     "output_type": "execute_result"
    },
    {
     "data": {
      "text/plain": "Phase: Bottleneck Computation, Dataset used: Validation, Image Index:  47"
     },
     "execution_count": 1,
     "metadata": {},
     "output_type": "execute_result"
    },
    {
     "data": {
      "text/plain": "Phase: Bottleneck Computation, Dataset used: Validation, Image Index:  48"
     },
     "execution_count": 1,
     "metadata": {},
     "output_type": "execute_result"
    },
    {
     "data": {
      "text/plain": "Phase: Bottleneck Computation, Dataset used: Validation, Image Index:  49"
     },
     "execution_count": 1,
     "metadata": {},
     "output_type": "execute_result"
    },
    {
     "data": {
      "text/plain": "Phase: Bottleneck Computation, Dataset used: Validation, Image Index:  50"
     },
     "execution_count": 1,
     "metadata": {},
     "output_type": "execute_result"
    },
    {
     "data": {
      "text/plain": "Phase: Bottleneck Computation, Dataset used: Validation, Image Index:  51"
     },
     "execution_count": 1,
     "metadata": {},
     "output_type": "execute_result"
    },
    {
     "data": {
      "text/plain": "Phase: Bottleneck Computation, Dataset used: Validation, Image Index:  52"
     },
     "execution_count": 1,
     "metadata": {},
     "output_type": "execute_result"
    },
    {
     "data": {
      "text/plain": "Phase: Bottleneck Computation, Dataset used: Validation, Image Index:  53"
     },
     "execution_count": 1,
     "metadata": {},
     "output_type": "execute_result"
    },
    {
     "data": {
      "text/plain": "Phase: Bottleneck Computation, Dataset used: Validation, Image Index:  54"
     },
     "execution_count": 1,
     "metadata": {},
     "output_type": "execute_result"
    },
    {
     "data": {
      "text/plain": "Phase: Bottleneck Computation, Dataset used: Validation, Image Index:  55"
     },
     "execution_count": 1,
     "metadata": {},
     "output_type": "execute_result"
    },
    {
     "data": {
      "text/plain": "Phase: Bottleneck Computation, Dataset used: Validation, Image Index:  56"
     },
     "execution_count": 1,
     "metadata": {},
     "output_type": "execute_result"
    },
    {
     "data": {
      "text/plain": "Phase: Bottleneck Computation, Dataset used: Validation, Image Index:  57"
     },
     "execution_count": 1,
     "metadata": {},
     "output_type": "execute_result"
    },
    {
     "data": {
      "text/plain": "Phase: Bottleneck Computation, Dataset used: Validation, Image Index:  58"
     },
     "execution_count": 1,
     "metadata": {},
     "output_type": "execute_result"
    },
    {
     "data": {
      "text/plain": "Phase: Bottleneck Computation, Dataset used: Validation, Image Index:  59"
     },
     "execution_count": 1,
     "metadata": {},
     "output_type": "execute_result"
    },
    {
     "data": {
      "text/plain": "Phase: Bottleneck Computation, Dataset used: Validation, Image Index:  60"
     },
     "execution_count": 1,
     "metadata": {},
     "output_type": "execute_result"
    },
    {
     "data": {
      "text/plain": "Phase: Bottleneck Computation, Dataset used: Validation, Image Index:  61"
     },
     "execution_count": 1,
     "metadata": {},
     "output_type": "execute_result"
    },
    {
     "data": {
      "text/plain": "Phase: Bottleneck Computation, Dataset used: Validation, Image Index:  62"
     },
     "execution_count": 1,
     "metadata": {},
     "output_type": "execute_result"
    },
    {
     "data": {
      "text/plain": "Phase: Bottleneck Computation, Dataset used: Validation, Image Index:  63"
     },
     "execution_count": 1,
     "metadata": {},
     "output_type": "execute_result"
    },
    {
     "data": {
      "text/plain": "Phase: Bottleneck Computation, Dataset used: Validation, Image Index:  64"
     },
     "execution_count": 1,
     "metadata": {},
     "output_type": "execute_result"
    },
    {
     "data": {
      "text/plain": "Phase: Bottleneck Computation, Dataset used: Validation, Image Index:  65"
     },
     "execution_count": 1,
     "metadata": {},
     "output_type": "execute_result"
    },
    {
     "data": {
      "text/plain": "Phase: Bottleneck Computation, Dataset used: Validation, Image Index:  66"
     },
     "execution_count": 1,
     "metadata": {},
     "output_type": "execute_result"
    },
    {
     "data": {
      "text/plain": "Phase: Bottleneck Computation, Dataset used: Validation, Image Index:  67"
     },
     "execution_count": 1,
     "metadata": {},
     "output_type": "execute_result"
    },
    {
     "data": {
      "text/plain": "Phase: Bottleneck Computation, Dataset used: Validation, Image Index:  68"
     },
     "execution_count": 1,
     "metadata": {},
     "output_type": "execute_result"
    },
    {
     "data": {
      "text/plain": "Phase: Bottleneck Computation, Dataset used: Validation, Image Index:  69"
     },
     "execution_count": 1,
     "metadata": {},
     "output_type": "execute_result"
    },
    {
     "data": {
      "text/plain": "Phase: Bottleneck Computation, Dataset used: Validation, Image Index:  70"
     },
     "execution_count": 1,
     "metadata": {},
     "output_type": "execute_result"
    },
    {
     "data": {
      "text/plain": "Phase: Bottleneck Computation, Dataset used: Validation, Image Index:  71"
     },
     "execution_count": 1,
     "metadata": {},
     "output_type": "execute_result"
    },
    {
     "data": {
      "text/plain": "Phase: Bottleneck Computation, Dataset used: Validation, Image Index:  72"
     },
     "execution_count": 1,
     "metadata": {},
     "output_type": "execute_result"
    },
    {
     "data": {
      "text/plain": "Phase: Bottleneck Computation, Dataset used: Validation, Image Index:  73"
     },
     "execution_count": 1,
     "metadata": {},
     "output_type": "execute_result"
    },
    {
     "data": {
      "text/plain": "Phase: Bottleneck Computation, Dataset used: Validation, Image Index:  74"
     },
     "execution_count": 1,
     "metadata": {},
     "output_type": "execute_result"
    },
    {
     "data": {
      "text/plain": "Phase: Bottleneck Computation, Dataset used: Validation, Image Index:  75"
     },
     "execution_count": 1,
     "metadata": {},
     "output_type": "execute_result"
    },
    {
     "data": {
      "text/plain": "Phase: Bottleneck Computation, Dataset used: Validation, Image Index:  76"
     },
     "execution_count": 1,
     "metadata": {},
     "output_type": "execute_result"
    },
    {
     "data": {
      "text/plain": "Phase: Bottleneck Computation, Dataset used: Validation, Image Index:  77"
     },
     "execution_count": 1,
     "metadata": {},
     "output_type": "execute_result"
    },
    {
     "data": {
      "text/plain": "Phase: Bottleneck Computation, Dataset used: Validation, Image Index:  78"
     },
     "execution_count": 1,
     "metadata": {},
     "output_type": "execute_result"
    },
    {
     "data": {
      "text/plain": "Phase: Bottleneck Computation, Dataset used: Validation, Image Index:  79"
     },
     "execution_count": 1,
     "metadata": {},
     "output_type": "execute_result"
    },
    {
     "data": {
      "text/plain": "Phase: Bottleneck Computation, Dataset used: Validation, Image Index:  80"
     },
     "execution_count": 1,
     "metadata": {},
     "output_type": "execute_result"
    },
    {
     "data": {
      "text/plain": "Phase: Bottleneck Computation, Dataset used: Validation, Image Index:  81"
     },
     "execution_count": 1,
     "metadata": {},
     "output_type": "execute_result"
    },
    {
     "data": {
      "text/plain": "Phase: Bottleneck Computation, Dataset used: Validation, Image Index:  82"
     },
     "execution_count": 1,
     "metadata": {},
     "output_type": "execute_result"
    },
    {
     "data": {
      "text/plain": "Phase: Bottleneck Computation, Dataset used: Validation, Image Index:  83"
     },
     "execution_count": 1,
     "metadata": {},
     "output_type": "execute_result"
    },
    {
     "data": {
      "text/plain": "Phase: Bottleneck Computation, Dataset used: Validation, Image Index:  84"
     },
     "execution_count": 1,
     "metadata": {},
     "output_type": "execute_result"
    },
    {
     "data": {
      "text/plain": "Phase: Bottleneck Computation, Dataset used: Validation, Image Index:  85"
     },
     "execution_count": 1,
     "metadata": {},
     "output_type": "execute_result"
    },
    {
     "data": {
      "text/plain": "Phase: Bottleneck Computation, Dataset used: Validation, Image Index:  86"
     },
     "execution_count": 1,
     "metadata": {},
     "output_type": "execute_result"
    },
    {
     "data": {
      "text/plain": "Phase: Bottleneck Computation, Dataset used: Validation, Image Index:  87"
     },
     "execution_count": 1,
     "metadata": {},
     "output_type": "execute_result"
    },
    {
     "data": {
      "text/plain": "Phase: Bottleneck Computation, Dataset used: Validation, Image Index:  88"
     },
     "execution_count": 1,
     "metadata": {},
     "output_type": "execute_result"
    },
    {
     "data": {
      "text/plain": "Phase: Bottleneck Computation, Dataset used: Validation, Image Index:  89"
     },
     "execution_count": 1,
     "metadata": {},
     "output_type": "execute_result"
    },
    {
     "data": {
      "text/plain": "Phase: Bottleneck Computation, Dataset used: Validation, Image Index:  90"
     },
     "execution_count": 1,
     "metadata": {},
     "output_type": "execute_result"
    },
    {
     "data": {
      "text/plain": "Phase: Bottleneck Computation, Dataset used: Validation, Image Index:  91"
     },
     "execution_count": 1,
     "metadata": {},
     "output_type": "execute_result"
    },
    {
     "data": {
      "text/plain": "Phase: Bottleneck Computation, Dataset used:      Train, Image Index:   1"
     },
     "execution_count": 1,
     "metadata": {},
     "output_type": "execute_result"
    },
    {
     "data": {
      "text/plain": "Phase: Bottleneck Computation, Dataset used:      Train, Image Index:   2"
     },
     "execution_count": 1,
     "metadata": {},
     "output_type": "execute_result"
    },
    {
     "data": {
      "text/plain": "Phase: Bottleneck Computation, Dataset used:      Train, Image Index:   3"
     },
     "execution_count": 1,
     "metadata": {},
     "output_type": "execute_result"
    },
    {
     "data": {
      "text/plain": "Phase: Bottleneck Computation, Dataset used:      Train, Image Index:   4"
     },
     "execution_count": 1,
     "metadata": {},
     "output_type": "execute_result"
    },
    {
     "data": {
      "text/plain": "Phase: Bottleneck Computation, Dataset used:      Train, Image Index:   5"
     },
     "execution_count": 1,
     "metadata": {},
     "output_type": "execute_result"
    },
    {
     "data": {
      "text/plain": "Phase: Bottleneck Computation, Dataset used:      Train, Image Index:   6"
     },
     "execution_count": 1,
     "metadata": {},
     "output_type": "execute_result"
    },
    {
     "data": {
      "text/plain": "Phase: Bottleneck Computation, Dataset used:      Train, Image Index:   7"
     },
     "execution_count": 1,
     "metadata": {},
     "output_type": "execute_result"
    },
    {
     "data": {
      "text/plain": "Phase: Bottleneck Computation, Dataset used:      Train, Image Index:   8"
     },
     "execution_count": 1,
     "metadata": {},
     "output_type": "execute_result"
    },
    {
     "data": {
      "text/plain": "Phase: Bottleneck Computation, Dataset used:      Train, Image Index:   9"
     },
     "execution_count": 1,
     "metadata": {},
     "output_type": "execute_result"
    },
    {
     "data": {
      "text/plain": "Phase: Bottleneck Computation, Dataset used:      Train, Image Index:  10"
     },
     "execution_count": 1,
     "metadata": {},
     "output_type": "execute_result"
    },
    {
     "data": {
      "text/plain": "Phase: Bottleneck Computation, Dataset used:      Train, Image Index:  11"
     },
     "execution_count": 1,
     "metadata": {},
     "output_type": "execute_result"
    },
    {
     "data": {
      "text/plain": "Phase: Bottleneck Computation, Dataset used:      Train, Image Index:  12"
     },
     "execution_count": 1,
     "metadata": {},
     "output_type": "execute_result"
    },
    {
     "data": {
      "text/plain": "Phase: Bottleneck Computation, Dataset used:      Train, Image Index:  13"
     },
     "execution_count": 1,
     "metadata": {},
     "output_type": "execute_result"
    },
    {
     "data": {
      "text/plain": "Phase: Bottleneck Computation, Dataset used:      Train, Image Index:  14"
     },
     "execution_count": 1,
     "metadata": {},
     "output_type": "execute_result"
    },
    {
     "data": {
      "text/plain": "Phase: Bottleneck Computation, Dataset used:      Train, Image Index:  15"
     },
     "execution_count": 1,
     "metadata": {},
     "output_type": "execute_result"
    },
    {
     "data": {
      "text/plain": "Phase: Bottleneck Computation, Dataset used:      Train, Image Index:  16"
     },
     "execution_count": 1,
     "metadata": {},
     "output_type": "execute_result"
    },
    {
     "data": {
      "text/plain": "Phase: Bottleneck Computation, Dataset used:      Train, Image Index:  17"
     },
     "execution_count": 1,
     "metadata": {},
     "output_type": "execute_result"
    },
    {
     "data": {
      "text/plain": "Phase: Bottleneck Computation, Dataset used:      Train, Image Index:  18"
     },
     "execution_count": 1,
     "metadata": {},
     "output_type": "execute_result"
    },
    {
     "data": {
      "text/plain": "Phase: Bottleneck Computation, Dataset used:      Train, Image Index:  19"
     },
     "execution_count": 1,
     "metadata": {},
     "output_type": "execute_result"
    },
    {
     "data": {
      "text/plain": "Phase: Bottleneck Computation, Dataset used:      Train, Image Index:  20"
     },
     "execution_count": 1,
     "metadata": {},
     "output_type": "execute_result"
    },
    {
     "data": {
      "text/plain": "Phase: Bottleneck Computation, Dataset used:      Train, Image Index:  21"
     },
     "execution_count": 1,
     "metadata": {},
     "output_type": "execute_result"
    },
    {
     "data": {
      "text/plain": "Phase: Bottleneck Computation, Dataset used:      Train, Image Index:  22"
     },
     "execution_count": 1,
     "metadata": {},
     "output_type": "execute_result"
    },
    {
     "data": {
      "text/plain": "Phase: Bottleneck Computation, Dataset used:      Train, Image Index:  23"
     },
     "execution_count": 1,
     "metadata": {},
     "output_type": "execute_result"
    },
    {
     "data": {
      "text/plain": "Phase: Bottleneck Computation, Dataset used:      Train, Image Index:  24"
     },
     "execution_count": 1,
     "metadata": {},
     "output_type": "execute_result"
    },
    {
     "data": {
      "text/plain": "Phase: Bottleneck Computation, Dataset used:      Train, Image Index:  25"
     },
     "execution_count": 1,
     "metadata": {},
     "output_type": "execute_result"
    },
    {
     "data": {
      "text/plain": "Phase: Bottleneck Computation, Dataset used:      Train, Image Index:  26"
     },
     "execution_count": 1,
     "metadata": {},
     "output_type": "execute_result"
    },
    {
     "data": {
      "text/plain": "Phase: Bottleneck Computation, Dataset used:      Train, Image Index:  27"
     },
     "execution_count": 1,
     "metadata": {},
     "output_type": "execute_result"
    },
    {
     "data": {
      "text/plain": "Phase: Bottleneck Computation, Dataset used:      Train, Image Index:  28"
     },
     "execution_count": 1,
     "metadata": {},
     "output_type": "execute_result"
    },
    {
     "data": {
      "text/plain": "Phase: Bottleneck Computation, Dataset used:      Train, Image Index:  29"
     },
     "execution_count": 1,
     "metadata": {},
     "output_type": "execute_result"
    },
    {
     "data": {
      "text/plain": "Phase: Bottleneck Computation, Dataset used:      Train, Image Index:  30"
     },
     "execution_count": 1,
     "metadata": {},
     "output_type": "execute_result"
    },
    {
     "data": {
      "text/plain": "Phase: Bottleneck Computation, Dataset used:      Train, Image Index:  31"
     },
     "execution_count": 1,
     "metadata": {},
     "output_type": "execute_result"
    },
    {
     "data": {
      "text/plain": "Phase: Bottleneck Computation, Dataset used:      Train, Image Index:  32"
     },
     "execution_count": 1,
     "metadata": {},
     "output_type": "execute_result"
    },
    {
     "data": {
      "text/plain": "Phase: Bottleneck Computation, Dataset used:      Train, Image Index:  33"
     },
     "execution_count": 1,
     "metadata": {},
     "output_type": "execute_result"
    },
    {
     "data": {
      "text/plain": "Phase: Bottleneck Computation, Dataset used:      Train, Image Index:  34"
     },
     "execution_count": 1,
     "metadata": {},
     "output_type": "execute_result"
    },
    {
     "data": {
      "text/plain": "Phase: Bottleneck Computation, Dataset used:      Train, Image Index:  35"
     },
     "execution_count": 1,
     "metadata": {},
     "output_type": "execute_result"
    },
    {
     "data": {
      "text/plain": "Phase: Bottleneck Computation, Dataset used:      Train, Image Index:  36"
     },
     "execution_count": 1,
     "metadata": {},
     "output_type": "execute_result"
    },
    {
     "data": {
      "text/plain": "Phase: Bottleneck Computation, Dataset used:      Train, Image Index:  37"
     },
     "execution_count": 1,
     "metadata": {},
     "output_type": "execute_result"
    },
    {
     "data": {
      "text/plain": "Phase: Bottleneck Computation, Dataset used:      Train, Image Index:  38"
     },
     "execution_count": 1,
     "metadata": {},
     "output_type": "execute_result"
    },
    {
     "data": {
      "text/plain": "Phase: Bottleneck Computation, Dataset used:      Train, Image Index:  39"
     },
     "execution_count": 1,
     "metadata": {},
     "output_type": "execute_result"
    },
    {
     "data": {
      "text/plain": "Phase: Bottleneck Computation, Dataset used:      Train, Image Index:  40"
     },
     "execution_count": 1,
     "metadata": {},
     "output_type": "execute_result"
    },
    {
     "data": {
      "text/plain": "Phase: Bottleneck Computation, Dataset used:      Train, Image Index:  41"
     },
     "execution_count": 1,
     "metadata": {},
     "output_type": "execute_result"
    },
    {
     "data": {
      "text/plain": "Phase: Bottleneck Computation, Dataset used:      Train, Image Index:  42"
     },
     "execution_count": 1,
     "metadata": {},
     "output_type": "execute_result"
    },
    {
     "data": {
      "text/plain": "Phase: Bottleneck Computation, Dataset used:      Train, Image Index:  43"
     },
     "execution_count": 1,
     "metadata": {},
     "output_type": "execute_result"
    },
    {
     "data": {
      "text/plain": "Phase: Bottleneck Computation, Dataset used:      Train, Image Index:  44"
     },
     "execution_count": 1,
     "metadata": {},
     "output_type": "execute_result"
    },
    {
     "data": {
      "text/plain": "Phase: Bottleneck Computation, Dataset used:      Train, Image Index:  45"
     },
     "execution_count": 1,
     "metadata": {},
     "output_type": "execute_result"
    },
    {
     "data": {
      "text/plain": "Phase: Bottleneck Computation, Dataset used:      Train, Image Index:  46"
     },
     "execution_count": 1,
     "metadata": {},
     "output_type": "execute_result"
    },
    {
     "data": {
      "text/plain": "Phase: Bottleneck Computation, Dataset used:      Train, Image Index:  47"
     },
     "execution_count": 1,
     "metadata": {},
     "output_type": "execute_result"
    },
    {
     "data": {
      "text/plain": "Phase: Bottleneck Computation, Dataset used:      Train, Image Index:  48"
     },
     "execution_count": 1,
     "metadata": {},
     "output_type": "execute_result"
    },
    {
     "data": {
      "text/plain": "Phase: Bottleneck Computation, Dataset used:      Train, Image Index:  49"
     },
     "execution_count": 1,
     "metadata": {},
     "output_type": "execute_result"
    },
    {
     "data": {
      "text/plain": "Phase: Bottleneck Computation, Dataset used:      Train, Image Index:  50"
     },
     "execution_count": 1,
     "metadata": {},
     "output_type": "execute_result"
    },
    {
     "data": {
      "text/plain": "Phase: Bottleneck Computation, Dataset used:      Train, Image Index:  51"
     },
     "execution_count": 1,
     "metadata": {},
     "output_type": "execute_result"
    },
    {
     "data": {
      "text/plain": "Phase: Bottleneck Computation, Dataset used:      Train, Image Index:  52"
     },
     "execution_count": 1,
     "metadata": {},
     "output_type": "execute_result"
    },
    {
     "data": {
      "text/plain": "Phase: Bottleneck Computation, Dataset used:      Train, Image Index:  53"
     },
     "execution_count": 1,
     "metadata": {},
     "output_type": "execute_result"
    },
    {
     "data": {
      "text/plain": "Phase: Bottleneck Computation, Dataset used:      Train, Image Index:  54"
     },
     "execution_count": 1,
     "metadata": {},
     "output_type": "execute_result"
    },
    {
     "data": {
      "text/plain": "Phase: Bottleneck Computation, Dataset used:      Train, Image Index:  55"
     },
     "execution_count": 1,
     "metadata": {},
     "output_type": "execute_result"
    },
    {
     "data": {
      "text/plain": "Phase: Bottleneck Computation, Dataset used:      Train, Image Index:  56"
     },
     "execution_count": 1,
     "metadata": {},
     "output_type": "execute_result"
    },
    {
     "data": {
      "text/plain": "Phase: Bottleneck Computation, Dataset used:      Train, Image Index:  57"
     },
     "execution_count": 1,
     "metadata": {},
     "output_type": "execute_result"
    },
    {
     "data": {
      "text/plain": "Phase: Bottleneck Computation, Dataset used:      Train, Image Index:  58"
     },
     "execution_count": 1,
     "metadata": {},
     "output_type": "execute_result"
    },
    {
     "data": {
      "text/plain": "Phase: Bottleneck Computation, Dataset used:      Train, Image Index:  59"
     },
     "execution_count": 1,
     "metadata": {},
     "output_type": "execute_result"
    },
    {
     "data": {
      "text/plain": "Phase: Bottleneck Computation, Dataset used:      Train, Image Index:  60"
     },
     "execution_count": 1,
     "metadata": {},
     "output_type": "execute_result"
    },
    {
     "data": {
      "text/plain": "Phase: Bottleneck Computation, Dataset used:      Train, Image Index:  61"
     },
     "execution_count": 1,
     "metadata": {},
     "output_type": "execute_result"
    },
    {
     "data": {
      "text/plain": "Phase: Bottleneck Computation, Dataset used:      Train, Image Index:  62"
     },
     "execution_count": 1,
     "metadata": {},
     "output_type": "execute_result"
    },
    {
     "data": {
      "text/plain": "Phase: Bottleneck Computation, Dataset used:      Train, Image Index:  63"
     },
     "execution_count": 1,
     "metadata": {},
     "output_type": "execute_result"
    },
    {
     "data": {
      "text/plain": "Phase: Bottleneck Computation, Dataset used:      Train, Image Index:  64"
     },
     "execution_count": 1,
     "metadata": {},
     "output_type": "execute_result"
    },
    {
     "data": {
      "text/plain": "Phase: Bottleneck Computation, Dataset used:      Train, Image Index:  65"
     },
     "execution_count": 1,
     "metadata": {},
     "output_type": "execute_result"
    },
    {
     "data": {
      "text/plain": "Phase: Bottleneck Computation, Dataset used:      Train, Image Index:  66"
     },
     "execution_count": 1,
     "metadata": {},
     "output_type": "execute_result"
    },
    {
     "data": {
      "text/plain": "Phase: Bottleneck Computation, Dataset used:      Train, Image Index:  67"
     },
     "execution_count": 1,
     "metadata": {},
     "output_type": "execute_result"
    },
    {
     "data": {
      "text/plain": "Phase: Bottleneck Computation, Dataset used:      Train, Image Index:  68"
     },
     "execution_count": 1,
     "metadata": {},
     "output_type": "execute_result"
    },
    {
     "data": {
      "text/plain": "Phase: Bottleneck Computation, Dataset used:      Train, Image Index:  69"
     },
     "execution_count": 1,
     "metadata": {},
     "output_type": "execute_result"
    },
    {
     "data": {
      "text/plain": "Phase: Bottleneck Computation, Dataset used:      Train, Image Index:  70"
     },
     "execution_count": 1,
     "metadata": {},
     "output_type": "execute_result"
    },
    {
     "data": {
      "text/plain": "Phase: Bottleneck Computation, Dataset used:      Train, Image Index:  71"
     },
     "execution_count": 1,
     "metadata": {},
     "output_type": "execute_result"
    },
    {
     "data": {
      "text/plain": "Phase: Bottleneck Computation, Dataset used:      Train, Image Index:  72"
     },
     "execution_count": 1,
     "metadata": {},
     "output_type": "execute_result"
    },
    {
     "data": {
      "text/plain": "Phase: Bottleneck Computation, Dataset used:      Train, Image Index:  73"
     },
     "execution_count": 1,
     "metadata": {},
     "output_type": "execute_result"
    },
    {
     "data": {
      "text/plain": "Phase: Bottleneck Computation, Dataset used:      Train, Image Index:  74"
     },
     "execution_count": 1,
     "metadata": {},
     "output_type": "execute_result"
    },
    {
     "data": {
      "text/plain": "Phase: Bottleneck Computation, Dataset used:      Train, Image Index:  75"
     },
     "execution_count": 1,
     "metadata": {},
     "output_type": "execute_result"
    },
    {
     "data": {
      "text/plain": "Phase: Bottleneck Computation, Dataset used:      Train, Image Index:  76"
     },
     "execution_count": 1,
     "metadata": {},
     "output_type": "execute_result"
    },
    {
     "data": {
      "text/plain": "Phase: Bottleneck Computation, Dataset used:      Train, Image Index:  77"
     },
     "execution_count": 1,
     "metadata": {},
     "output_type": "execute_result"
    },
    {
     "data": {
      "text/plain": "Phase: Bottleneck Computation, Dataset used:      Train, Image Index:  78"
     },
     "execution_count": 1,
     "metadata": {},
     "output_type": "execute_result"
    },
    {
     "data": {
      "text/plain": "Phase: Bottleneck Computation, Dataset used:      Train, Image Index:  79"
     },
     "execution_count": 1,
     "metadata": {},
     "output_type": "execute_result"
    },
    {
     "data": {
      "text/plain": "Phase: Bottleneck Computation, Dataset used:      Train, Image Index:  80"
     },
     "execution_count": 1,
     "metadata": {},
     "output_type": "execute_result"
    },
    {
     "data": {
      "text/plain": "Phase: Bottleneck Computation, Dataset used:      Train, Image Index:  81"
     },
     "execution_count": 1,
     "metadata": {},
     "output_type": "execute_result"
    },
    {
     "data": {
      "text/plain": "Phase: Bottleneck Computation, Dataset used:      Train, Image Index:  82"
     },
     "execution_count": 1,
     "metadata": {},
     "output_type": "execute_result"
    },
    {
     "data": {
      "text/plain": "Phase: Bottleneck Computation, Dataset used:      Train, Image Index:  83"
     },
     "execution_count": 1,
     "metadata": {},
     "output_type": "execute_result"
    },
    {
     "data": {
      "text/plain": "Phase: Bottleneck Computation, Dataset used:      Train, Image Index:  84"
     },
     "execution_count": 1,
     "metadata": {},
     "output_type": "execute_result"
    },
    {
     "data": {
      "text/plain": "Phase: Bottleneck Computation, Dataset used:      Train, Image Index:  85"
     },
     "execution_count": 1,
     "metadata": {},
     "output_type": "execute_result"
    },
    {
     "data": {
      "text/plain": "Phase: Bottleneck Computation, Dataset used:      Train, Image Index:  86"
     },
     "execution_count": 1,
     "metadata": {},
     "output_type": "execute_result"
    },
    {
     "data": {
      "text/plain": "Phase: Bottleneck Computation, Dataset used:      Train, Image Index:  87"
     },
     "execution_count": 1,
     "metadata": {},
     "output_type": "execute_result"
    },
    {
     "data": {
      "text/plain": "Phase: Bottleneck Computation, Dataset used:      Train, Image Index:  88"
     },
     "execution_count": 1,
     "metadata": {},
     "output_type": "execute_result"
    },
    {
     "data": {
      "text/plain": "Phase: Bottleneck Computation, Dataset used:      Train, Image Index:  89"
     },
     "execution_count": 1,
     "metadata": {},
     "output_type": "execute_result"
    },
    {
     "data": {
      "text/plain": "Phase: Bottleneck Computation, Dataset used:      Train, Image Index:  90"
     },
     "execution_count": 1,
     "metadata": {},
     "output_type": "execute_result"
    },
    {
     "data": {
      "text/plain": "Phase: Bottleneck Computation, Dataset used:      Train, Image Index:  91"
     },
     "execution_count": 1,
     "metadata": {},
     "output_type": "execute_result"
    },
    {
     "data": {
      "text/plain": "Phase: Bottleneck Computation, Dataset used:      Train, Image Index:  92"
     },
     "execution_count": 1,
     "metadata": {},
     "output_type": "execute_result"
    },
    {
     "data": {
      "text/plain": "Phase: Bottleneck Computation, Dataset used:      Train, Image Index:  93"
     },
     "execution_count": 1,
     "metadata": {},
     "output_type": "execute_result"
    },
    {
     "data": {
      "text/plain": "Phase: Bottleneck Computation, Dataset used:      Train, Image Index:  94"
     },
     "execution_count": 1,
     "metadata": {},
     "output_type": "execute_result"
    },
    {
     "data": {
      "text/plain": "Phase: Bottleneck Computation, Dataset used:      Train, Image Index:  95"
     },
     "execution_count": 1,
     "metadata": {},
     "output_type": "execute_result"
    },
    {
     "data": {
      "text/plain": "Phase: Bottleneck Computation, Dataset used:      Train, Image Index:  96"
     },
     "execution_count": 1,
     "metadata": {},
     "output_type": "execute_result"
    },
    {
     "data": {
      "text/plain": "Phase: Bottleneck Computation, Dataset used:      Train, Image Index:  97"
     },
     "execution_count": 1,
     "metadata": {},
     "output_type": "execute_result"
    },
    {
     "data": {
      "text/plain": "Phase: Bottleneck Computation, Dataset used:      Train, Image Index:  98"
     },
     "execution_count": 1,
     "metadata": {},
     "output_type": "execute_result"
    },
    {
     "data": {
      "text/plain": "Phase: Bottleneck Computation, Dataset used:      Train, Image Index:  99"
     },
     "execution_count": 1,
     "metadata": {},
     "output_type": "execute_result"
    },
    {
     "data": {
      "text/plain": "Phase: Bottleneck Computation, Dataset used:      Train, Image Index: 100"
     },
     "execution_count": 1,
     "metadata": {},
     "output_type": "execute_result"
    },
    {
     "data": {
      "text/plain": "Phase: Bottleneck Computation, Dataset used:      Train, Image Index: 101"
     },
     "execution_count": 1,
     "metadata": {},
     "output_type": "execute_result"
    },
    {
     "data": {
      "text/plain": "Phase: Bottleneck Computation, Dataset used:      Train, Image Index: 102"
     },
     "execution_count": 1,
     "metadata": {},
     "output_type": "execute_result"
    },
    {
     "data": {
      "text/plain": "Phase: Bottleneck Computation, Dataset used:      Train, Image Index: 103"
     },
     "execution_count": 1,
     "metadata": {},
     "output_type": "execute_result"
    },
    {
     "data": {
      "text/plain": "Phase: Bottleneck Computation, Dataset used:      Train, Image Index: 104"
     },
     "execution_count": 1,
     "metadata": {},
     "output_type": "execute_result"
    },
    {
     "data": {
      "text/plain": "Phase: Bottleneck Computation, Dataset used:      Train, Image Index: 105"
     },
     "execution_count": 1,
     "metadata": {},
     "output_type": "execute_result"
    },
    {
     "data": {
      "text/plain": "Phase: Bottleneck Computation, Dataset used:      Train, Image Index: 106"
     },
     "execution_count": 1,
     "metadata": {},
     "output_type": "execute_result"
    },
    {
     "data": {
      "text/plain": "Phase: Bottleneck Computation, Dataset used:      Train, Image Index: 107"
     },
     "execution_count": 1,
     "metadata": {},
     "output_type": "execute_result"
    },
    {
     "data": {
      "text/plain": "Phase: Bottleneck Computation, Dataset used:      Train, Image Index: 108"
     },
     "execution_count": 1,
     "metadata": {},
     "output_type": "execute_result"
    },
    {
     "data": {
      "text/plain": "Phase: Bottleneck Computation, Dataset used:      Train, Image Index: 109"
     },
     "execution_count": 1,
     "metadata": {},
     "output_type": "execute_result"
    },
    {
     "data": {
      "text/plain": "Phase: Bottleneck Computation, Dataset used:      Train, Image Index: 110"
     },
     "execution_count": 1,
     "metadata": {},
     "output_type": "execute_result"
    },
    {
     "data": {
      "text/plain": "Phase: Bottleneck Computation, Dataset used:      Train, Image Index: 111"
     },
     "execution_count": 1,
     "metadata": {},
     "output_type": "execute_result"
    },
    {
     "data": {
      "text/plain": "Phase: Bottleneck Computation, Dataset used:      Train, Image Index: 112"
     },
     "execution_count": 1,
     "metadata": {},
     "output_type": "execute_result"
    },
    {
     "data": {
      "text/plain": "Phase: Bottleneck Computation, Dataset used:      Train, Image Index: 113"
     },
     "execution_count": 1,
     "metadata": {},
     "output_type": "execute_result"
    },
    {
     "data": {
      "text/plain": "Phase: Bottleneck Computation, Dataset used:      Train, Image Index: 114"
     },
     "execution_count": 1,
     "metadata": {},
     "output_type": "execute_result"
    },
    {
     "data": {
      "text/plain": "Phase: Bottleneck Computation, Dataset used:      Train, Image Index: 115"
     },
     "execution_count": 1,
     "metadata": {},
     "output_type": "execute_result"
    },
    {
     "data": {
      "text/plain": "Phase: Bottleneck Computation, Dataset used:      Train, Image Index: 116"
     },
     "execution_count": 1,
     "metadata": {},
     "output_type": "execute_result"
    },
    {
     "data": {
      "text/plain": "Phase: Bottleneck Computation, Dataset used:      Train, Image Index: 117"
     },
     "execution_count": 1,
     "metadata": {},
     "output_type": "execute_result"
    },
    {
     "data": {
      "text/plain": "Phase: Bottleneck Computation, Dataset used:      Train, Image Index: 118"
     },
     "execution_count": 1,
     "metadata": {},
     "output_type": "execute_result"
    },
    {
     "data": {
      "text/plain": "Phase: Bottleneck Computation, Dataset used:      Train, Image Index: 119"
     },
     "execution_count": 1,
     "metadata": {},
     "output_type": "execute_result"
    },
    {
     "data": {
      "text/plain": "Phase: Bottleneck Computation, Dataset used:      Train, Image Index: 120"
     },
     "execution_count": 1,
     "metadata": {},
     "output_type": "execute_result"
    },
    {
     "data": {
      "text/plain": "Phase: Bottleneck Computation, Dataset used:      Train, Image Index: 121"
     },
     "execution_count": 1,
     "metadata": {},
     "output_type": "execute_result"
    },
    {
     "data": {
      "text/plain": "Phase: Bottleneck Computation, Dataset used:      Train, Image Index: 122"
     },
     "execution_count": 1,
     "metadata": {},
     "output_type": "execute_result"
    },
    {
     "data": {
      "text/plain": "Phase: Bottleneck Computation, Dataset used:      Train, Image Index: 123"
     },
     "execution_count": 1,
     "metadata": {},
     "output_type": "execute_result"
    },
    {
     "data": {
      "text/plain": "Phase: Bottleneck Computation, Dataset used:      Train, Image Index: 124"
     },
     "execution_count": 1,
     "metadata": {},
     "output_type": "execute_result"
    },
    {
     "data": {
      "text/plain": "Phase: Bottleneck Computation, Dataset used:      Train, Image Index: 125"
     },
     "execution_count": 1,
     "metadata": {},
     "output_type": "execute_result"
    },
    {
     "data": {
      "text/plain": "Phase: Bottleneck Computation, Dataset used:      Train, Image Index: 126"
     },
     "execution_count": 1,
     "metadata": {},
     "output_type": "execute_result"
    },
    {
     "data": {
      "text/plain": "Phase: Bottleneck Computation, Dataset used:      Train, Image Index: 127"
     },
     "execution_count": 1,
     "metadata": {},
     "output_type": "execute_result"
    },
    {
     "data": {
      "text/plain": "Phase: Bottleneck Computation, Dataset used:      Train, Image Index: 128"
     },
     "execution_count": 1,
     "metadata": {},
     "output_type": "execute_result"
    },
    {
     "data": {
      "text/plain": "Phase: Bottleneck Computation, Dataset used:      Train, Image Index: 129"
     },
     "execution_count": 1,
     "metadata": {},
     "output_type": "execute_result"
    },
    {
     "data": {
      "text/plain": "Phase: Bottleneck Computation, Dataset used:      Train, Image Index: 130"
     },
     "execution_count": 1,
     "metadata": {},
     "output_type": "execute_result"
    },
    {
     "data": {
      "text/plain": "Phase: Bottleneck Computation, Dataset used:      Train, Image Index: 131"
     },
     "execution_count": 1,
     "metadata": {},
     "output_type": "execute_result"
    },
    {
     "data": {
      "text/plain": "Phase: Bottleneck Computation, Dataset used:      Train, Image Index: 132"
     },
     "execution_count": 1,
     "metadata": {},
     "output_type": "execute_result"
    },
    {
     "data": {
      "text/plain": "Phase: Bottleneck Computation, Dataset used:      Train, Image Index: 133"
     },
     "execution_count": 1,
     "metadata": {},
     "output_type": "execute_result"
    },
    {
     "data": {
      "text/plain": "Phase: Bottleneck Computation, Dataset used:      Train, Image Index: 134"
     },
     "execution_count": 1,
     "metadata": {},
     "output_type": "execute_result"
    },
    {
     "data": {
      "text/plain": "Phase: Bottleneck Computation, Dataset used:      Train, Image Index: 135"
     },
     "execution_count": 1,
     "metadata": {},
     "output_type": "execute_result"
    },
    {
     "data": {
      "text/plain": "Phase: Bottleneck Computation, Dataset used:      Train, Image Index: 136"
     },
     "execution_count": 1,
     "metadata": {},
     "output_type": "execute_result"
    },
    {
     "data": {
      "text/plain": "Phase: Bottleneck Computation, Dataset used:      Train, Image Index: 137"
     },
     "execution_count": 1,
     "metadata": {},
     "output_type": "execute_result"
    },
    {
     "data": {
      "text/plain": "Phase: Bottleneck Computation, Dataset used:      Train, Image Index: 138"
     },
     "execution_count": 1,
     "metadata": {},
     "output_type": "execute_result"
    },
    {
     "data": {
      "text/plain": "Phase: Bottleneck Computation, Dataset used:      Train, Image Index: 139"
     },
     "execution_count": 1,
     "metadata": {},
     "output_type": "execute_result"
    },
    {
     "data": {
      "text/plain": "Phase: Bottleneck Computation, Dataset used:      Train, Image Index: 140"
     },
     "execution_count": 1,
     "metadata": {},
     "output_type": "execute_result"
    },
    {
     "data": {
      "text/plain": "Phase: Bottleneck Computation, Dataset used:      Train, Image Index: 141"
     },
     "execution_count": 1,
     "metadata": {},
     "output_type": "execute_result"
    },
    {
     "data": {
      "text/plain": "Phase: Bottleneck Computation, Dataset used:      Train, Image Index: 142"
     },
     "execution_count": 1,
     "metadata": {},
     "output_type": "execute_result"
    },
    {
     "data": {
      "text/plain": "Phase: Bottleneck Computation, Dataset used:      Train, Image Index: 143"
     },
     "execution_count": 1,
     "metadata": {},
     "output_type": "execute_result"
    },
    {
     "data": {
      "text/plain": "Phase: Bottleneck Computation, Dataset used:      Train, Image Index: 144"
     },
     "execution_count": 1,
     "metadata": {},
     "output_type": "execute_result"
    },
    {
     "data": {
      "text/plain": "Phase: Bottleneck Computation, Dataset used:      Train, Image Index: 145"
     },
     "execution_count": 1,
     "metadata": {},
     "output_type": "execute_result"
    },
    {
     "data": {
      "text/plain": "Phase: Bottleneck Computation, Dataset used:      Train, Image Index: 146"
     },
     "execution_count": 1,
     "metadata": {},
     "output_type": "execute_result"
    },
    {
     "data": {
      "text/plain": "Phase: Bottleneck Computation, Dataset used:      Train, Image Index: 147"
     },
     "execution_count": 1,
     "metadata": {},
     "output_type": "execute_result"
    },
    {
     "data": {
      "text/plain": "Phase: Bottleneck Computation, Dataset used:      Train, Image Index: 148"
     },
     "execution_count": 1,
     "metadata": {},
     "output_type": "execute_result"
    },
    {
     "data": {
      "text/plain": "Phase: Bottleneck Computation, Dataset used:      Train, Image Index: 149"
     },
     "execution_count": 1,
     "metadata": {},
     "output_type": "execute_result"
    },
    {
     "data": {
      "text/plain": "Phase: Bottleneck Computation, Dataset used:      Train, Image Index: 150"
     },
     "execution_count": 1,
     "metadata": {},
     "output_type": "execute_result"
    },
    {
     "data": {
      "text/plain": "Phase: Bottleneck Computation, Dataset used:      Train, Image Index: 151"
     },
     "execution_count": 1,
     "metadata": {},
     "output_type": "execute_result"
    },
    {
     "data": {
      "text/plain": "Phase: Bottleneck Computation, Dataset used:      Train, Image Index: 152"
     },
     "execution_count": 1,
     "metadata": {},
     "output_type": "execute_result"
    },
    {
     "data": {
      "text/plain": "Phase: Bottleneck Computation, Dataset used:      Train, Image Index: 153"
     },
     "execution_count": 1,
     "metadata": {},
     "output_type": "execute_result"
    },
    {
     "data": {
      "text/plain": "Phase: Bottleneck Computation, Dataset used:      Train, Image Index: 154"
     },
     "execution_count": 1,
     "metadata": {},
     "output_type": "execute_result"
    },
    {
     "data": {
      "text/plain": "Phase: Bottleneck Computation, Dataset used:      Train, Image Index: 155"
     },
     "execution_count": 1,
     "metadata": {},
     "output_type": "execute_result"
    },
    {
     "data": {
      "text/plain": "Phase: Bottleneck Computation, Dataset used:      Train, Image Index: 156"
     },
     "execution_count": 1,
     "metadata": {},
     "output_type": "execute_result"
    },
    {
     "data": {
      "text/plain": "Phase: Bottleneck Computation, Dataset used:      Train, Image Index: 157"
     },
     "execution_count": 1,
     "metadata": {},
     "output_type": "execute_result"
    },
    {
     "data": {
      "text/plain": "Phase: Bottleneck Computation, Dataset used:      Train, Image Index: 158"
     },
     "execution_count": 1,
     "metadata": {},
     "output_type": "execute_result"
    },
    {
     "data": {
      "text/plain": "Phase: Bottleneck Computation, Dataset used:      Train, Image Index: 159"
     },
     "execution_count": 1,
     "metadata": {},
     "output_type": "execute_result"
    },
    {
     "data": {
      "text/plain": "Phase: Bottleneck Computation, Dataset used:      Train, Image Index: 160"
     },
     "execution_count": 1,
     "metadata": {},
     "output_type": "execute_result"
    },
    {
     "data": {
      "text/plain": "Phase: Bottleneck Computation, Dataset used:      Train, Image Index: 161"
     },
     "execution_count": 1,
     "metadata": {},
     "output_type": "execute_result"
    },
    {
     "data": {
      "text/plain": "Phase: Bottleneck Computation, Dataset used:      Train, Image Index: 162"
     },
     "execution_count": 1,
     "metadata": {},
     "output_type": "execute_result"
    },
    {
     "data": {
      "text/plain": "Phase: Bottleneck Computation, Dataset used:      Train, Image Index: 163"
     },
     "execution_count": 1,
     "metadata": {},
     "output_type": "execute_result"
    },
    {
     "data": {
      "text/plain": "Phase: Bottleneck Computation, Dataset used:      Train, Image Index: 164"
     },
     "execution_count": 1,
     "metadata": {},
     "output_type": "execute_result"
    },
    {
     "data": {
      "text/plain": "Phase: Bottleneck Computation, Dataset used:      Train, Image Index: 165"
     },
     "execution_count": 1,
     "metadata": {},
     "output_type": "execute_result"
    },
    {
     "data": {
      "text/plain": "Phase: Bottleneck Computation, Dataset used:      Train, Image Index: 166"
     },
     "execution_count": 1,
     "metadata": {},
     "output_type": "execute_result"
    },
    {
     "data": {
      "text/plain": "Phase: Bottleneck Computation, Dataset used:      Train, Image Index: 167"
     },
     "execution_count": 1,
     "metadata": {},
     "output_type": "execute_result"
    },
    {
     "data": {
      "text/plain": "Phase: Bottleneck Computation, Dataset used:      Train, Image Index: 168"
     },
     "execution_count": 1,
     "metadata": {},
     "output_type": "execute_result"
    },
    {
     "data": {
      "text/plain": "Phase: Bottleneck Computation, Dataset used:      Train, Image Index: 169"
     },
     "execution_count": 1,
     "metadata": {},
     "output_type": "execute_result"
    },
    {
     "data": {
      "text/plain": "Phase: Bottleneck Computation, Dataset used:      Train, Image Index: 170"
     },
     "execution_count": 1,
     "metadata": {},
     "output_type": "execute_result"
    },
    {
     "data": {
      "text/plain": "Phase: Bottleneck Computation, Dataset used:      Train, Image Index: 171"
     },
     "execution_count": 1,
     "metadata": {},
     "output_type": "execute_result"
    },
    {
     "data": {
      "text/plain": "Phase: Bottleneck Computation, Dataset used:      Train, Image Index: 172"
     },
     "execution_count": 1,
     "metadata": {},
     "output_type": "execute_result"
    },
    {
     "data": {
      "text/plain": "Phase: Bottleneck Computation, Dataset used:      Train, Image Index: 173"
     },
     "execution_count": 1,
     "metadata": {},
     "output_type": "execute_result"
    },
    {
     "data": {
      "text/plain": "Phase: Bottleneck Computation, Dataset used:      Train, Image Index: 174"
     },
     "execution_count": 1,
     "metadata": {},
     "output_type": "execute_result"
    },
    {
     "data": {
      "text/plain": "Phase: Bottleneck Computation, Dataset used:      Train, Image Index: 175"
     },
     "execution_count": 1,
     "metadata": {},
     "output_type": "execute_result"
    },
    {
     "data": {
      "text/plain": "Phase: Bottleneck Computation, Dataset used:      Train, Image Index: 176"
     },
     "execution_count": 1,
     "metadata": {},
     "output_type": "execute_result"
    },
    {
     "data": {
      "text/plain": "Phase: Bottleneck Computation, Dataset used:      Train, Image Index: 177"
     },
     "execution_count": 1,
     "metadata": {},
     "output_type": "execute_result"
    },
    {
     "data": {
      "text/plain": "Phase: Bottleneck Computation, Dataset used:      Train, Image Index: 178"
     },
     "execution_count": 1,
     "metadata": {},
     "output_type": "execute_result"
    },
    {
     "data": {
      "text/plain": "Phase: Bottleneck Computation, Dataset used:      Train, Image Index: 179"
     },
     "execution_count": 1,
     "metadata": {},
     "output_type": "execute_result"
    },
    {
     "data": {
      "text/plain": "Phase: Bottleneck Computation, Dataset used:      Train, Image Index: 180"
     },
     "execution_count": 1,
     "metadata": {},
     "output_type": "execute_result"
    },
    {
     "data": {
      "text/plain": "Phase: Bottleneck Computation, Dataset used:      Train, Image Index: 181"
     },
     "execution_count": 1,
     "metadata": {},
     "output_type": "execute_result"
    },
    {
     "data": {
      "text/plain": "Phase: Bottleneck Computation, Dataset used:      Train, Image Index: 182"
     },
     "execution_count": 1,
     "metadata": {},
     "output_type": "execute_result"
    },
    {
     "data": {
      "text/plain": "Phase: Bottleneck Computation, Dataset used:      Train, Image Index: 183"
     },
     "execution_count": 1,
     "metadata": {},
     "output_type": "execute_result"
    },
    {
     "data": {
      "text/plain": "Phase: Bottleneck Computation, Dataset used:      Train, Image Index: 184"
     },
     "execution_count": 1,
     "metadata": {},
     "output_type": "execute_result"
    },
    {
     "data": {
      "text/plain": "Phase: Bottleneck Computation, Dataset used:      Train, Image Index: 185"
     },
     "execution_count": 1,
     "metadata": {},
     "output_type": "execute_result"
    },
    {
     "data": {
      "text/plain": "Phase: Bottleneck Computation, Dataset used:      Train, Image Index: 186"
     },
     "execution_count": 1,
     "metadata": {},
     "output_type": "execute_result"
    },
    {
     "data": {
      "text/plain": "Phase: Bottleneck Computation, Dataset used:      Train, Image Index: 187"
     },
     "execution_count": 1,
     "metadata": {},
     "output_type": "execute_result"
    },
    {
     "data": {
      "text/plain": "Phase: Bottleneck Computation, Dataset used:      Train, Image Index: 188"
     },
     "execution_count": 1,
     "metadata": {},
     "output_type": "execute_result"
    },
    {
     "data": {
      "text/plain": "Phase: Bottleneck Computation, Dataset used:      Train, Image Index: 189"
     },
     "execution_count": 1,
     "metadata": {},
     "output_type": "execute_result"
    },
    {
     "data": {
      "text/plain": "Phase: Bottleneck Computation, Dataset used:      Train, Image Index: 190"
     },
     "execution_count": 1,
     "metadata": {},
     "output_type": "execute_result"
    },
    {
     "data": {
      "text/plain": "Phase: Bottleneck Computation, Dataset used:      Train, Image Index: 191"
     },
     "execution_count": 1,
     "metadata": {},
     "output_type": "execute_result"
    },
    {
     "data": {
      "text/plain": "Phase: Bottleneck Computation, Dataset used:      Train, Image Index: 192"
     },
     "execution_count": 1,
     "metadata": {},
     "output_type": "execute_result"
    },
    {
     "data": {
      "text/plain": "Phase: Bottleneck Computation, Dataset used:      Train, Image Index: 193"
     },
     "execution_count": 1,
     "metadata": {},
     "output_type": "execute_result"
    },
    {
     "data": {
      "text/plain": "Phase: Bottleneck Computation, Dataset used:      Train, Image Index: 194"
     },
     "execution_count": 1,
     "metadata": {},
     "output_type": "execute_result"
    },
    {
     "data": {
      "text/plain": "Phase: Bottleneck Computation, Dataset used:      Train, Image Index: 195"
     },
     "execution_count": 1,
     "metadata": {},
     "output_type": "execute_result"
    },
    {
     "data": {
      "text/plain": "Phase: Bottleneck Computation, Dataset used:      Train, Image Index: 196"
     },
     "execution_count": 1,
     "metadata": {},
     "output_type": "execute_result"
    },
    {
     "data": {
      "text/plain": "Phase: Bottleneck Computation, Dataset used:      Train, Image Index: 197"
     },
     "execution_count": 1,
     "metadata": {},
     "output_type": "execute_result"
    },
    {
     "data": {
      "text/plain": "Phase: Bottleneck Computation, Dataset used:      Train, Image Index: 198"
     },
     "execution_count": 1,
     "metadata": {},
     "output_type": "execute_result"
    },
    {
     "data": {
      "text/plain": "Phase: Bottleneck Computation, Dataset used:      Train, Image Index: 199"
     },
     "execution_count": 1,
     "metadata": {},
     "output_type": "execute_result"
    },
    {
     "data": {
      "text/plain": "Phase: Bottleneck Computation, Dataset used:      Train, Image Index: 200"
     },
     "execution_count": 1,
     "metadata": {},
     "output_type": "execute_result"
    },
    {
     "data": {
      "text/plain": "Phase: Bottleneck Computation, Dataset used:      Train, Image Index: 201"
     },
     "execution_count": 1,
     "metadata": {},
     "output_type": "execute_result"
    },
    {
     "data": {
      "text/plain": "Phase: Bottleneck Computation, Dataset used:      Train, Image Index: 202"
     },
     "execution_count": 1,
     "metadata": {},
     "output_type": "execute_result"
    },
    {
     "data": {
      "text/plain": "Phase: Bottleneck Computation, Dataset used:      Train, Image Index: 203"
     },
     "execution_count": 1,
     "metadata": {},
     "output_type": "execute_result"
    },
    {
     "data": {
      "text/plain": "Phase: Bottleneck Computation, Dataset used:      Train, Image Index: 204"
     },
     "execution_count": 1,
     "metadata": {},
     "output_type": "execute_result"
    },
    {
     "data": {
      "text/plain": "Phase: Bottleneck Computation, Dataset used:      Train, Image Index: 205"
     },
     "execution_count": 1,
     "metadata": {},
     "output_type": "execute_result"
    },
    {
     "data": {
      "text/plain": "Phase: Bottleneck Computation, Dataset used:      Train, Image Index: 206"
     },
     "execution_count": 1,
     "metadata": {},
     "output_type": "execute_result"
    },
    {
     "data": {
      "text/plain": "Phase: Bottleneck Computation, Dataset used:      Train, Image Index: 207"
     },
     "execution_count": 1,
     "metadata": {},
     "output_type": "execute_result"
    },
    {
     "data": {
      "text/plain": "Phase: Bottleneck Computation, Dataset used:      Train, Image Index: 208"
     },
     "execution_count": 1,
     "metadata": {},
     "output_type": "execute_result"
    },
    {
     "data": {
      "text/plain": "Phase: Bottleneck Computation, Dataset used:      Train, Image Index: 209"
     },
     "execution_count": 1,
     "metadata": {},
     "output_type": "execute_result"
    },
    {
     "data": {
      "text/plain": "Phase: Bottleneck Computation, Dataset used:      Train, Image Index: 210"
     },
     "execution_count": 1,
     "metadata": {},
     "output_type": "execute_result"
    },
    {
     "data": {
      "text/plain": "Phase: Bottleneck Computation, Dataset used:      Train, Image Index: 211"
     },
     "execution_count": 1,
     "metadata": {},
     "output_type": "execute_result"
    },
    {
     "data": {
      "text/plain": "Phase: Bottleneck Computation, Dataset used:      Train, Image Index: 212"
     },
     "execution_count": 1,
     "metadata": {},
     "output_type": "execute_result"
    },
    {
     "data": {
      "text/plain": "Phase: Bottleneck Computation, Dataset used:      Train, Image Index: 213"
     },
     "execution_count": 1,
     "metadata": {},
     "output_type": "execute_result"
    },
    {
     "data": {
      "text/plain": "Phase: Bottleneck Computation, Dataset used:      Train, Image Index: 214"
     },
     "execution_count": 1,
     "metadata": {},
     "output_type": "execute_result"
    },
    {
     "data": {
      "text/plain": "Phase: Bottleneck Computation, Dataset used:      Train, Image Index: 215"
     },
     "execution_count": 1,
     "metadata": {},
     "output_type": "execute_result"
    },
    {
     "data": {
      "text/plain": "Phase: Bottleneck Computation, Dataset used:      Train, Image Index: 216"
     },
     "execution_count": 1,
     "metadata": {},
     "output_type": "execute_result"
    },
    {
     "data": {
      "text/plain": "Phase: Bottleneck Computation, Dataset used:      Train, Image Index: 217"
     },
     "execution_count": 1,
     "metadata": {},
     "output_type": "execute_result"
    },
    {
     "data": {
      "text/plain": "Phase: Bottleneck Computation, Dataset used:      Train, Image Index: 218"
     },
     "execution_count": 1,
     "metadata": {},
     "output_type": "execute_result"
    },
    {
     "data": {
      "text/plain": "Phase: Bottleneck Computation, Dataset used:      Train, Image Index: 219"
     },
     "execution_count": 1,
     "metadata": {},
     "output_type": "execute_result"
    },
    {
     "data": {
      "text/plain": "Phase: Bottleneck Computation, Dataset used:      Train, Image Index: 220"
     },
     "execution_count": 1,
     "metadata": {},
     "output_type": "execute_result"
    },
    {
     "data": {
      "text/plain": "Phase: Bottleneck Computation, Dataset used:      Train, Image Index: 221"
     },
     "execution_count": 1,
     "metadata": {},
     "output_type": "execute_result"
    },
    {
     "data": {
      "text/plain": "Phase: Bottleneck Computation, Dataset used:      Train, Image Index: 222"
     },
     "execution_count": 1,
     "metadata": {},
     "output_type": "execute_result"
    },
    {
     "data": {
      "text/plain": "Phase: Bottleneck Computation, Dataset used:      Train, Image Index: 223"
     },
     "execution_count": 1,
     "metadata": {},
     "output_type": "execute_result"
    },
    {
     "data": {
      "text/plain": "Phase: Bottleneck Computation, Dataset used:      Train, Image Index: 224"
     },
     "execution_count": 1,
     "metadata": {},
     "output_type": "execute_result"
    },
    {
     "data": {
      "text/plain": "Phase: Bottleneck Computation, Dataset used:      Train, Image Index: 225"
     },
     "execution_count": 1,
     "metadata": {},
     "output_type": "execute_result"
    },
    {
     "data": {
      "text/plain": "Phase: Bottleneck Computation, Dataset used:      Train, Image Index: 226"
     },
     "execution_count": 1,
     "metadata": {},
     "output_type": "execute_result"
    },
    {
     "data": {
      "text/plain": "Phase: Bottleneck Computation, Dataset used:      Train, Image Index: 227"
     },
     "execution_count": 1,
     "metadata": {},
     "output_type": "execute_result"
    },
    {
     "data": {
      "text/plain": "Phase: Bottleneck Computation, Dataset used:      Train, Image Index: 228"
     },
     "execution_count": 1,
     "metadata": {},
     "output_type": "execute_result"
    },
    {
     "data": {
      "text/plain": "Phase: Bottleneck Computation, Dataset used:      Train, Image Index: 229"
     },
     "execution_count": 1,
     "metadata": {},
     "output_type": "execute_result"
    },
    {
     "data": {
      "text/plain": "Phase: Bottleneck Computation, Dataset used:      Train, Image Index: 230"
     },
     "execution_count": 1,
     "metadata": {},
     "output_type": "execute_result"
    },
    {
     "data": {
      "text/plain": "Phase: Bottleneck Computation, Dataset used:      Train, Image Index: 231"
     },
     "execution_count": 1,
     "metadata": {},
     "output_type": "execute_result"
    },
    {
     "data": {
      "text/plain": "Phase: Bottleneck Computation, Dataset used:      Train, Image Index: 232"
     },
     "execution_count": 1,
     "metadata": {},
     "output_type": "execute_result"
    },
    {
     "data": {
      "text/plain": "Phase: Bottleneck Computation, Dataset used:      Train, Image Index: 233"
     },
     "execution_count": 1,
     "metadata": {},
     "output_type": "execute_result"
    },
    {
     "data": {
      "text/plain": "Phase: Bottleneck Computation, Dataset used:      Train, Image Index: 234"
     },
     "execution_count": 1,
     "metadata": {},
     "output_type": "execute_result"
    },
    {
     "data": {
      "text/plain": "Phase: Bottleneck Computation, Dataset used:      Train, Image Index: 235"
     },
     "execution_count": 1,
     "metadata": {},
     "output_type": "execute_result"
    },
    {
     "data": {
      "text/plain": "Phase: Bottleneck Computation, Dataset used:      Train, Image Index: 236"
     },
     "execution_count": 1,
     "metadata": {},
     "output_type": "execute_result"
    },
    {
     "data": {
      "text/plain": "Phase: Bottleneck Computation, Dataset used:      Train, Image Index: 237"
     },
     "execution_count": 1,
     "metadata": {},
     "output_type": "execute_result"
    },
    {
     "data": {
      "text/plain": "Phase: Bottleneck Computation, Dataset used:      Train, Image Index: 238"
     },
     "execution_count": 1,
     "metadata": {},
     "output_type": "execute_result"
    },
    {
     "data": {
      "text/plain": "Phase: Bottleneck Computation, Dataset used:      Train, Image Index: 239"
     },
     "execution_count": 1,
     "metadata": {},
     "output_type": "execute_result"
    },
    {
     "data": {
      "text/plain": "Phase: Bottleneck Computation, Dataset used:      Train, Image Index: 240"
     },
     "execution_count": 1,
     "metadata": {},
     "output_type": "execute_result"
    },
    {
     "data": {
      "text/plain": "Phase: Bottleneck Computation, Dataset used:      Train, Image Index: 241"
     },
     "execution_count": 1,
     "metadata": {},
     "output_type": "execute_result"
    },
    {
     "data": {
      "text/plain": "Phase: Bottleneck Computation, Dataset used:      Train, Image Index: 242"
     },
     "execution_count": 1,
     "metadata": {},
     "output_type": "execute_result"
    },
    {
     "data": {
      "text/plain": "Phase: Bottleneck Computation, Dataset used:      Train, Image Index: 243"
     },
     "execution_count": 1,
     "metadata": {},
     "output_type": "execute_result"
    },
    {
     "data": {
      "text/plain": "Phase: Bottleneck Computation, Dataset used:      Train, Image Index: 244"
     },
     "execution_count": 1,
     "metadata": {},
     "output_type": "execute_result"
    },
    {
     "data": {
      "text/plain": "Phase: Bottleneck Computation, Dataset used:      Train, Image Index: 245"
     },
     "execution_count": 1,
     "metadata": {},
     "output_type": "execute_result"
    },
    {
     "data": {
      "text/plain": "Phase: Bottleneck Computation, Dataset used:      Train, Image Index: 246"
     },
     "execution_count": 1,
     "metadata": {},
     "output_type": "execute_result"
    },
    {
     "data": {
      "text/plain": "Phase: Bottleneck Computation, Dataset used:      Train, Image Index: 247"
     },
     "execution_count": 1,
     "metadata": {},
     "output_type": "execute_result"
    },
    {
     "data": {
      "text/plain": "Phase: Bottleneck Computation, Dataset used:      Train, Image Index: 248"
     },
     "execution_count": 1,
     "metadata": {},
     "output_type": "execute_result"
    },
    {
     "data": {
      "text/plain": "Phase: Bottleneck Computation, Dataset used:      Train, Image Index: 249"
     },
     "execution_count": 1,
     "metadata": {},
     "output_type": "execute_result"
    },
    {
     "data": {
      "text/plain": "Phase: Bottleneck Computation, Dataset used:      Train, Image Index: 250"
     },
     "execution_count": 1,
     "metadata": {},
     "output_type": "execute_result"
    },
    {
     "data": {
      "text/plain": "Phase: Bottleneck Computation, Dataset used:      Train, Image Index: 251"
     },
     "execution_count": 1,
     "metadata": {},
     "output_type": "execute_result"
    },
    {
     "data": {
      "text/plain": "Phase: Bottleneck Computation, Dataset used:      Train, Image Index: 252"
     },
     "execution_count": 1,
     "metadata": {},
     "output_type": "execute_result"
    },
    {
     "data": {
      "text/plain": "Phase: Bottleneck Computation, Dataset used:      Train, Image Index: 253"
     },
     "execution_count": 1,
     "metadata": {},
     "output_type": "execute_result"
    },
    {
     "data": {
      "text/plain": "Phase: Bottleneck Computation, Dataset used:      Train, Image Index: 254"
     },
     "execution_count": 1,
     "metadata": {},
     "output_type": "execute_result"
    },
    {
     "data": {
      "text/plain": "Phase: Bottleneck Computation, Dataset used:      Train, Image Index: 255"
     },
     "execution_count": 1,
     "metadata": {},
     "output_type": "execute_result"
    },
    {
     "data": {
      "text/plain": "Phase: Bottleneck Computation, Dataset used:      Train, Image Index: 256"
     },
     "execution_count": 1,
     "metadata": {},
     "output_type": "execute_result"
    },
    {
     "data": {
      "text/plain": "Phase: Bottleneck Computation, Dataset used:      Train, Image Index: 257"
     },
     "execution_count": 1,
     "metadata": {},
     "output_type": "execute_result"
    },
    {
     "data": {
      "text/plain": "Phase: Bottleneck Computation, Dataset used:      Train, Image Index: 258"
     },
     "execution_count": 1,
     "metadata": {},
     "output_type": "execute_result"
    },
    {
     "data": {
      "text/plain": "Phase: Bottleneck Computation, Dataset used:      Train, Image Index: 259"
     },
     "execution_count": 1,
     "metadata": {},
     "output_type": "execute_result"
    },
    {
     "data": {
      "text/plain": "Phase: Bottleneck Computation, Dataset used:      Train, Image Index: 260"
     },
     "execution_count": 1,
     "metadata": {},
     "output_type": "execute_result"
    },
    {
     "data": {
      "text/plain": "Phase: Bottleneck Computation, Dataset used:      Train, Image Index: 261"
     },
     "execution_count": 1,
     "metadata": {},
     "output_type": "execute_result"
    },
    {
     "data": {
      "text/plain": "Phase: Bottleneck Computation, Dataset used:      Train, Image Index: 262"
     },
     "execution_count": 1,
     "metadata": {},
     "output_type": "execute_result"
    },
    {
     "data": {
      "text/plain": "Phase: Bottleneck Computation, Dataset used:      Train, Image Index: 263"
     },
     "execution_count": 1,
     "metadata": {},
     "output_type": "execute_result"
    },
    {
     "data": {
      "text/plain": "Phase: Bottleneck Computation, Dataset used:      Train, Image Index: 264"
     },
     "execution_count": 1,
     "metadata": {},
     "output_type": "execute_result"
    },
    {
     "data": {
      "text/plain": "Phase: Bottleneck Computation, Dataset used:      Train, Image Index: 265"
     },
     "execution_count": 1,
     "metadata": {},
     "output_type": "execute_result"
    },
    {
     "data": {
      "text/plain": "Phase: Bottleneck Computation, Dataset used:      Train, Image Index: 266"
     },
     "execution_count": 1,
     "metadata": {},
     "output_type": "execute_result"
    },
    {
     "data": {
      "text/plain": "Phase: Bottleneck Computation, Dataset used:      Train, Image Index: 267"
     },
     "execution_count": 1,
     "metadata": {},
     "output_type": "execute_result"
    },
    {
     "data": {
      "text/plain": "Phase: Bottleneck Computation, Dataset used:      Train, Image Index: 268"
     },
     "execution_count": 1,
     "metadata": {},
     "output_type": "execute_result"
    },
    {
     "data": {
      "text/plain": "Phase: Bottleneck Computation, Dataset used:      Train, Image Index: 269"
     },
     "execution_count": 1,
     "metadata": {},
     "output_type": "execute_result"
    },
    {
     "data": {
      "text/plain": "Phase: Bottleneck Computation, Dataset used:      Train, Image Index: 270"
     },
     "execution_count": 1,
     "metadata": {},
     "output_type": "execute_result"
    },
    {
     "data": {
      "text/plain": "Phase: Bottleneck Computation, Dataset used:      Train, Image Index: 271"
     },
     "execution_count": 1,
     "metadata": {},
     "output_type": "execute_result"
    },
    {
     "data": {
      "text/plain": "Phase: Bottleneck Computation, Dataset used:      Train, Image Index: 272"
     },
     "execution_count": 1,
     "metadata": {},
     "output_type": "execute_result"
    },
    {
     "data": {
      "text/plain": "Phase: Bottleneck Computation, Dataset used:      Train, Image Index: 273"
     },
     "execution_count": 1,
     "metadata": {},
     "output_type": "execute_result"
    },
    {
     "data": {
      "text/plain": "Phase: Bottleneck Computation, Dataset used:      Train, Image Index: 274"
     },
     "execution_count": 1,
     "metadata": {},
     "output_type": "execute_result"
    },
    {
     "data": {
      "text/plain": "Phase: Bottleneck Computation, Dataset used:      Train, Image Index: 275"
     },
     "execution_count": 1,
     "metadata": {},
     "output_type": "execute_result"
    },
    {
     "data": {
      "text/plain": "Phase: Bottleneck Computation, Dataset used:      Train, Image Index: 276"
     },
     "execution_count": 1,
     "metadata": {},
     "output_type": "execute_result"
    },
    {
     "data": {
      "text/plain": "Phase: Bottleneck Computation, Dataset used:      Train, Image Index: 277"
     },
     "execution_count": 1,
     "metadata": {},
     "output_type": "execute_result"
    },
    {
     "data": {
      "text/plain": "Phase: Bottleneck Computation, Dataset used:      Train, Image Index: 278"
     },
     "execution_count": 1,
     "metadata": {},
     "output_type": "execute_result"
    },
    {
     "data": {
      "text/plain": "Phase: Bottleneck Computation, Dataset used:      Train, Image Index: 279"
     },
     "execution_count": 1,
     "metadata": {},
     "output_type": "execute_result"
    },
    {
     "data": {
      "text/plain": "Phase: Bottleneck Computation, Dataset used:      Train, Image Index: 280"
     },
     "execution_count": 1,
     "metadata": {},
     "output_type": "execute_result"
    },
    {
     "data": {
      "text/plain": "Phase: Bottleneck Computation, Dataset used:      Train, Image Index: 281"
     },
     "execution_count": 1,
     "metadata": {},
     "output_type": "execute_result"
    },
    {
     "data": {
      "text/plain": "Phase: Bottleneck Computation, Dataset used:      Train, Image Index: 282"
     },
     "execution_count": 1,
     "metadata": {},
     "output_type": "execute_result"
    },
    {
     "data": {
      "text/plain": "Phase: Bottleneck Computation, Dataset used:      Train, Image Index: 283"
     },
     "execution_count": 1,
     "metadata": {},
     "output_type": "execute_result"
    },
    {
     "data": {
      "text/plain": "Phase: Bottleneck Computation, Dataset used:      Train, Image Index: 284"
     },
     "execution_count": 1,
     "metadata": {},
     "output_type": "execute_result"
    },
    {
     "data": {
      "text/plain": "Phase: Bottleneck Computation, Dataset used:      Train, Image Index: 285"
     },
     "execution_count": 1,
     "metadata": {},
     "output_type": "execute_result"
    },
    {
     "data": {
      "text/plain": "Phase: Bottleneck Computation, Dataset used:      Train, Image Index: 286"
     },
     "execution_count": 1,
     "metadata": {},
     "output_type": "execute_result"
    },
    {
     "data": {
      "text/plain": "Phase: Bottleneck Computation, Dataset used:      Train, Image Index: 287"
     },
     "execution_count": 1,
     "metadata": {},
     "output_type": "execute_result"
    },
    {
     "data": {
      "text/plain": "Phase: Bottleneck Computation, Dataset used:      Train, Image Index: 288"
     },
     "execution_count": 1,
     "metadata": {},
     "output_type": "execute_result"
    },
    {
     "data": {
      "text/plain": "Phase: Bottleneck Computation, Dataset used:      Train, Image Index: 289"
     },
     "execution_count": 1,
     "metadata": {},
     "output_type": "execute_result"
    },
    {
     "data": {
      "text/plain": "Phase: Bottleneck Computation, Dataset used:      Train, Image Index: 290"
     },
     "execution_count": 1,
     "metadata": {},
     "output_type": "execute_result"
    },
    {
     "data": {
      "text/plain": "Phase: Bottleneck Computation, Dataset used:      Train, Image Index: 291"
     },
     "execution_count": 1,
     "metadata": {},
     "output_type": "execute_result"
    },
    {
     "data": {
      "text/plain": "Phase: Bottleneck Computation, Dataset used:      Train, Image Index: 292"
     },
     "execution_count": 1,
     "metadata": {},
     "output_type": "execute_result"
    },
    {
     "data": {
      "text/plain": "Phase: Bottleneck Computation, Dataset used:      Train, Image Index: 293"
     },
     "execution_count": 1,
     "metadata": {},
     "output_type": "execute_result"
    },
    {
     "data": {
      "text/plain": "Phase: Bottleneck Computation, Dataset used:      Train, Image Index: 294"
     },
     "execution_count": 1,
     "metadata": {},
     "output_type": "execute_result"
    },
    {
     "data": {
      "text/plain": "Phase: Bottleneck Computation, Dataset used:      Train, Image Index: 295"
     },
     "execution_count": 1,
     "metadata": {},
     "output_type": "execute_result"
    },
    {
     "data": {
      "text/plain": "Phase: Bottleneck Computation, Dataset used:      Train, Image Index: 296"
     },
     "execution_count": 1,
     "metadata": {},
     "output_type": "execute_result"
    },
    {
     "data": {
      "text/plain": "Phase: Bottleneck Computation, Dataset used:      Train, Image Index: 297"
     },
     "execution_count": 1,
     "metadata": {},
     "output_type": "execute_result"
    },
    {
     "data": {
      "text/plain": "Phase: Bottleneck Computation, Dataset used:      Train, Image Index: 298"
     },
     "execution_count": 1,
     "metadata": {},
     "output_type": "execute_result"
    },
    {
     "data": {
      "text/plain": "Phase: Bottleneck Computation, Dataset used:      Train, Image Index: 299"
     },
     "execution_count": 1,
     "metadata": {},
     "output_type": "execute_result"
    },
    {
     "data": {
      "text/plain": "Phase: Bottleneck Computation, Dataset used:      Train, Image Index: 300"
     },
     "execution_count": 1,
     "metadata": {},
     "output_type": "execute_result"
    },
    {
     "data": {
      "text/plain": "Phase: Bottleneck Computation, Dataset used:      Train, Image Index: 301"
     },
     "execution_count": 1,
     "metadata": {},
     "output_type": "execute_result"
    },
    {
     "data": {
      "text/plain": "Phase: Bottleneck Computation, Dataset used:      Train, Image Index: 302"
     },
     "execution_count": 1,
     "metadata": {},
     "output_type": "execute_result"
    },
    {
     "data": {
      "text/plain": "Phase: Bottleneck Computation, Dataset used:      Train, Image Index: 303"
     },
     "execution_count": 1,
     "metadata": {},
     "output_type": "execute_result"
    },
    {
     "data": {
      "text/plain": "Phase: Bottleneck Computation, Dataset used:      Train, Image Index: 304"
     },
     "execution_count": 1,
     "metadata": {},
     "output_type": "execute_result"
    },
    {
     "data": {
      "text/plain": "Phase: Bottleneck Computation, Dataset used:      Train, Image Index: 305"
     },
     "execution_count": 1,
     "metadata": {},
     "output_type": "execute_result"
    },
    {
     "data": {
      "text/plain": "Phase: Bottleneck Computation, Dataset used:      Train, Image Index: 306"
     },
     "execution_count": 1,
     "metadata": {},
     "output_type": "execute_result"
    },
    {
     "data": {
      "text/plain": "Phase: Bottleneck Computation, Dataset used:      Train, Image Index: 307"
     },
     "execution_count": 1,
     "metadata": {},
     "output_type": "execute_result"
    },
    {
     "data": {
      "text/plain": "Phase: Bottleneck Computation, Dataset used:      Train, Image Index: 308"
     },
     "execution_count": 1,
     "metadata": {},
     "output_type": "execute_result"
    },
    {
     "data": {
      "text/plain": "Phase: Bottleneck Computation, Dataset used:      Train, Image Index: 309"
     },
     "execution_count": 1,
     "metadata": {},
     "output_type": "execute_result"
    },
    {
     "data": {
      "text/plain": "Phase: Bottleneck Computation, Dataset used:      Train, Image Index: 310"
     },
     "execution_count": 1,
     "metadata": {},
     "output_type": "execute_result"
    },
    {
     "data": {
      "text/plain": "Phase: Bottleneck Computation, Dataset used:      Train, Image Index: 311"
     },
     "execution_count": 1,
     "metadata": {},
     "output_type": "execute_result"
    },
    {
     "data": {
      "text/plain": "Phase: Bottleneck Computation, Dataset used:      Train, Image Index: 312"
     },
     "execution_count": 1,
     "metadata": {},
     "output_type": "execute_result"
    },
    {
     "data": {
      "text/plain": "Phase: Bottleneck Computation, Dataset used:      Train, Image Index: 313"
     },
     "execution_count": 1,
     "metadata": {},
     "output_type": "execute_result"
    },
    {
     "data": {
      "text/plain": "Phase: Bottleneck Computation, Dataset used:      Train, Image Index: 314"
     },
     "execution_count": 1,
     "metadata": {},
     "output_type": "execute_result"
    },
    {
     "data": {
      "text/plain": "Phase: Bottleneck Computation, Dataset used:      Train, Image Index: 315"
     },
     "execution_count": 1,
     "metadata": {},
     "output_type": "execute_result"
    },
    {
     "data": {
      "text/plain": "Phase: Bottleneck Computation, Dataset used:      Train, Image Index: 316"
     },
     "execution_count": 1,
     "metadata": {},
     "output_type": "execute_result"
    },
    {
     "data": {
      "text/plain": "Phase: Bottleneck Computation, Dataset used:      Train, Image Index: 317"
     },
     "execution_count": 1,
     "metadata": {},
     "output_type": "execute_result"
    },
    {
     "data": {
      "text/plain": "Phase: Bottleneck Computation, Dataset used:      Train, Image Index: 318"
     },
     "execution_count": 1,
     "metadata": {},
     "output_type": "execute_result"
    },
    {
     "data": {
      "text/plain": "Phase: Bottleneck Computation, Dataset used:      Train, Image Index: 319"
     },
     "execution_count": 1,
     "metadata": {},
     "output_type": "execute_result"
    },
    {
     "data": {
      "text/plain": "Phase: Bottleneck Computation, Dataset used:      Train, Image Index: 320"
     },
     "execution_count": 1,
     "metadata": {},
     "output_type": "execute_result"
    },
    {
     "data": {
      "text/plain": "Phase: Bottleneck Computation, Dataset used:      Train, Image Index: 321"
     },
     "execution_count": 1,
     "metadata": {},
     "output_type": "execute_result"
    },
    {
     "data": {
      "text/plain": "Phase: Bottleneck Computation, Dataset used:      Train, Image Index: 322"
     },
     "execution_count": 1,
     "metadata": {},
     "output_type": "execute_result"
    },
    {
     "data": {
      "text/plain": "Phase: Bottleneck Computation, Dataset used:      Train, Image Index: 323"
     },
     "execution_count": 1,
     "metadata": {},
     "output_type": "execute_result"
    },
    {
     "data": {
      "text/plain": "Phase: Bottleneck Computation, Dataset used:      Train, Image Index: 324"
     },
     "execution_count": 1,
     "metadata": {},
     "output_type": "execute_result"
    },
    {
     "data": {
      "text/plain": "Phase: Bottleneck Computation, Dataset used:      Train, Image Index: 325"
     },
     "execution_count": 1,
     "metadata": {},
     "output_type": "execute_result"
    },
    {
     "data": {
      "text/plain": "Phase: Bottleneck Computation, Dataset used:      Train, Image Index: 326"
     },
     "execution_count": 1,
     "metadata": {},
     "output_type": "execute_result"
    },
    {
     "data": {
      "text/plain": "Phase: Bottleneck Computation, Dataset used:      Train, Image Index: 327"
     },
     "execution_count": 1,
     "metadata": {},
     "output_type": "execute_result"
    },
    {
     "data": {
      "text/plain": "Phase: Bottleneck Computation, Dataset used:      Train, Image Index: 328"
     },
     "execution_count": 1,
     "metadata": {},
     "output_type": "execute_result"
    },
    {
     "data": {
      "text/plain": "Phase: Bottleneck Computation, Dataset used:      Train, Image Index: 329"
     },
     "execution_count": 1,
     "metadata": {},
     "output_type": "execute_result"
    },
    {
     "data": {
      "text/plain": "Phase: Bottleneck Computation, Dataset used:      Train, Image Index: 330"
     },
     "execution_count": 1,
     "metadata": {},
     "output_type": "execute_result"
    },
    {
     "data": {
      "text/plain": "Phase: Bottleneck Computation, Dataset used:      Train, Image Index: 331"
     },
     "execution_count": 1,
     "metadata": {},
     "output_type": "execute_result"
    },
    {
     "data": {
      "text/plain": "Phase: Bottleneck Computation, Dataset used:      Train, Image Index: 332"
     },
     "execution_count": 1,
     "metadata": {},
     "output_type": "execute_result"
    },
    {
     "data": {
      "text/plain": "Phase: Bottleneck Computation, Dataset used:      Train, Image Index: 333"
     },
     "execution_count": 1,
     "metadata": {},
     "output_type": "execute_result"
    },
    {
     "data": {
      "text/plain": "Phase: Bottleneck Computation, Dataset used:      Train, Image Index: 334"
     },
     "execution_count": 1,
     "metadata": {},
     "output_type": "execute_result"
    },
    {
     "data": {
      "text/plain": "Phase: Bottleneck Computation, Dataset used:      Train, Image Index: 335"
     },
     "execution_count": 1,
     "metadata": {},
     "output_type": "execute_result"
    },
    {
     "data": {
      "text/plain": "Phase: Bottleneck Computation, Dataset used:      Train, Image Index: 336"
     },
     "execution_count": 1,
     "metadata": {},
     "output_type": "execute_result"
    },
    {
     "data": {
      "text/plain": "Phase: Bottleneck Computation, Dataset used:      Train, Image Index: 337"
     },
     "execution_count": 1,
     "metadata": {},
     "output_type": "execute_result"
    },
    {
     "data": {
      "text/plain": "Phase: Bottleneck Computation, Dataset used:      Train, Image Index: 338"
     },
     "execution_count": 1,
     "metadata": {},
     "output_type": "execute_result"
    },
    {
     "data": {
      "text/plain": "Phase: Bottleneck Computation, Dataset used:      Train, Image Index: 339"
     },
     "execution_count": 1,
     "metadata": {},
     "output_type": "execute_result"
    },
    {
     "data": {
      "text/plain": "Phase: Bottleneck Computation, Dataset used:      Train, Image Index: 340"
     },
     "execution_count": 1,
     "metadata": {},
     "output_type": "execute_result"
    },
    {
     "data": {
      "text/plain": "Phase: Bottleneck Computation, Dataset used:      Train, Image Index: 341"
     },
     "execution_count": 1,
     "metadata": {},
     "output_type": "execute_result"
    },
    {
     "data": {
      "text/plain": "Phase: Bottleneck Computation, Dataset used:      Train, Image Index: 342"
     },
     "execution_count": 1,
     "metadata": {},
     "output_type": "execute_result"
    },
    {
     "data": {
      "text/plain": "Phase: Bottleneck Computation, Dataset used:      Train, Image Index: 343"
     },
     "execution_count": 1,
     "metadata": {},
     "output_type": "execute_result"
    },
    {
     "data": {
      "text/plain": "Phase: Bottleneck Computation, Dataset used:      Train, Image Index: 344"
     },
     "execution_count": 1,
     "metadata": {},
     "output_type": "execute_result"
    },
    {
     "data": {
      "text/plain": "Phase: Bottleneck Computation, Dataset used:      Train, Image Index: 345"
     },
     "execution_count": 1,
     "metadata": {},
     "output_type": "execute_result"
    },
    {
     "data": {
      "text/plain": "Phase: Bottleneck Computation, Dataset used:      Train, Image Index: 346"
     },
     "execution_count": 1,
     "metadata": {},
     "output_type": "execute_result"
    },
    {
     "data": {
      "text/plain": "Phase: Bottleneck Computation, Dataset used:      Train, Image Index: 347"
     },
     "execution_count": 1,
     "metadata": {},
     "output_type": "execute_result"
    },
    {
     "data": {
      "text/plain": "Phase: Bottleneck Computation, Dataset used:      Train, Image Index: 348"
     },
     "execution_count": 1,
     "metadata": {},
     "output_type": "execute_result"
    },
    {
     "data": {
      "text/plain": "Phase: Bottleneck Computation, Dataset used:      Train, Image Index: 349"
     },
     "execution_count": 1,
     "metadata": {},
     "output_type": "execute_result"
    },
    {
     "data": {
      "text/plain": "Phase: Bottleneck Computation, Dataset used:      Train, Image Index: 350"
     },
     "execution_count": 1,
     "metadata": {},
     "output_type": "execute_result"
    },
    {
     "data": {
      "text/plain": "Phase: Bottleneck Computation, Dataset used:      Train, Image Index: 351"
     },
     "execution_count": 1,
     "metadata": {},
     "output_type": "execute_result"
    },
    {
     "data": {
      "text/plain": "Phase: Bottleneck Computation, Dataset used:      Train, Image Index: 352"
     },
     "execution_count": 1,
     "metadata": {},
     "output_type": "execute_result"
    },
    {
     "data": {
      "text/plain": "Phase: Bottleneck Computation, Dataset used:      Train, Image Index: 353"
     },
     "execution_count": 1,
     "metadata": {},
     "output_type": "execute_result"
    },
    {
     "data": {
      "text/plain": "Phase: Bottleneck Computation, Dataset used:      Train, Image Index: 354"
     },
     "execution_count": 1,
     "metadata": {},
     "output_type": "execute_result"
    },
    {
     "data": {
      "text/plain": "Phase: Bottleneck Computation, Dataset used:      Train, Image Index: 355"
     },
     "execution_count": 1,
     "metadata": {},
     "output_type": "execute_result"
    },
    {
     "data": {
      "text/plain": "Phase: Bottleneck Computation, Dataset used:      Train, Image Index: 356"
     },
     "execution_count": 1,
     "metadata": {},
     "output_type": "execute_result"
    },
    {
     "data": {
      "text/plain": "Phase: Bottleneck Computation, Dataset used:      Train, Image Index: 357"
     },
     "execution_count": 1,
     "metadata": {},
     "output_type": "execute_result"
    },
    {
     "data": {
      "text/plain": "Phase: Bottleneck Computation, Dataset used:      Train, Image Index: 358"
     },
     "execution_count": 1,
     "metadata": {},
     "output_type": "execute_result"
    },
    {
     "data": {
      "text/plain": "Phase: Bottleneck Computation, Dataset used:      Train, Image Index: 359"
     },
     "execution_count": 1,
     "metadata": {},
     "output_type": "execute_result"
    },
    {
     "data": {
      "text/plain": "Phase: Bottleneck Computation, Dataset used:      Train, Image Index: 360"
     },
     "execution_count": 1,
     "metadata": {},
     "output_type": "execute_result"
    },
    {
     "data": {
      "text/plain": "Phase: Bottleneck Computation, Dataset used:      Train, Image Index: 361"
     },
     "execution_count": 1,
     "metadata": {},
     "output_type": "execute_result"
    },
    {
     "data": {
      "text/plain": "Phase: Bottleneck Computation, Dataset used:      Train, Image Index: 362"
     },
     "execution_count": 1,
     "metadata": {},
     "output_type": "execute_result"
    },
    {
     "data": {
      "text/plain": "Phase: Bottleneck Computation, Dataset used:      Train, Image Index: 363"
     },
     "execution_count": 1,
     "metadata": {},
     "output_type": "execute_result"
    },
    {
     "data": {
      "text/plain": "Phase: Bottleneck Computation, Dataset used:      Train, Image Index: 364"
     },
     "execution_count": 1,
     "metadata": {},
     "output_type": "execute_result"
    },
    {
     "data": {
      "text/plain": "Phase: Bottleneck Computation, Dataset used:      Train, Image Index: 365"
     },
     "execution_count": 1,
     "metadata": {},
     "output_type": "execute_result"
    },
    {
     "data": {
      "text/plain": "Phase: Bottleneck Computation, Dataset used:      Train, Image Index: 366"
     },
     "execution_count": 1,
     "metadata": {},
     "output_type": "execute_result"
    },
    {
     "data": {
      "text/plain": "Phase: Bottleneck Computation, Dataset used:      Train, Image Index: 367"
     },
     "execution_count": 1,
     "metadata": {},
     "output_type": "execute_result"
    },
    {
     "data": {
      "text/plain": "Phase: Bottleneck Computation, Dataset used:      Train, Image Index: 368"
     },
     "execution_count": 1,
     "metadata": {},
     "output_type": "execute_result"
    },
    {
     "data": {
      "text/plain": "Phase: Bottleneck Computation, Dataset used:      Train, Image Index: 369"
     },
     "execution_count": 1,
     "metadata": {},
     "output_type": "execute_result"
    },
    {
     "data": {
      "text/plain": "Phase: Bottleneck Computation, Dataset used:      Train, Image Index: 370"
     },
     "execution_count": 1,
     "metadata": {},
     "output_type": "execute_result"
    },
    {
     "data": {
      "text/plain": "Phase: Bottleneck Computation, Dataset used:      Train, Image Index: 371"
     },
     "execution_count": 1,
     "metadata": {},
     "output_type": "execute_result"
    },
    {
     "data": {
      "text/plain": "Phase: Bottleneck Computation, Dataset used:      Train, Image Index: 372"
     },
     "execution_count": 1,
     "metadata": {},
     "output_type": "execute_result"
    },
    {
     "data": {
      "text/plain": "Phase: Bottleneck Computation, Dataset used:      Train, Image Index: 373"
     },
     "execution_count": 1,
     "metadata": {},
     "output_type": "execute_result"
    },
    {
     "data": {
      "text/plain": "Phase: Bottleneck Computation, Dataset used:      Train, Image Index: 374"
     },
     "execution_count": 1,
     "metadata": {},
     "output_type": "execute_result"
    },
    {
     "data": {
      "text/plain": "Phase: Bottleneck Computation, Dataset used:      Train, Image Index: 375"
     },
     "execution_count": 1,
     "metadata": {},
     "output_type": "execute_result"
    },
    {
     "data": {
      "text/plain": "Phase: Bottleneck Computation, Dataset used:      Train, Image Index: 376"
     },
     "execution_count": 1,
     "metadata": {},
     "output_type": "execute_result"
    },
    {
     "data": {
      "text/plain": "Phase: Bottleneck Computation, Dataset used:      Train, Image Index: 377"
     },
     "execution_count": 1,
     "metadata": {},
     "output_type": "execute_result"
    },
    {
     "data": {
      "text/plain": "Phase: Bottleneck Computation, Dataset used:      Train, Image Index: 378"
     },
     "execution_count": 1,
     "metadata": {},
     "output_type": "execute_result"
    },
    {
     "data": {
      "text/plain": "Phase: Bottleneck Computation, Dataset used:      Train, Image Index: 379"
     },
     "execution_count": 1,
     "metadata": {},
     "output_type": "execute_result"
    },
    {
     "data": {
      "text/plain": "Phase: Bottleneck Computation, Dataset used:      Train, Image Index: 380"
     },
     "execution_count": 1,
     "metadata": {},
     "output_type": "execute_result"
    },
    {
     "data": {
      "text/plain": "Phase: Bottleneck Computation, Dataset used:      Train, Image Index: 381"
     },
     "execution_count": 1,
     "metadata": {},
     "output_type": "execute_result"
    },
    {
     "data": {
      "text/plain": "Phase: Bottleneck Computation, Dataset used:      Train, Image Index: 382"
     },
     "execution_count": 1,
     "metadata": {},
     "output_type": "execute_result"
    },
    {
     "data": {
      "text/plain": "Phase: Bottleneck Computation, Dataset used:      Train, Image Index: 383"
     },
     "execution_count": 1,
     "metadata": {},
     "output_type": "execute_result"
    },
    {
     "data": {
      "text/plain": "Phase: Bottleneck Computation, Dataset used:      Train, Image Index: 384"
     },
     "execution_count": 1,
     "metadata": {},
     "output_type": "execute_result"
    },
    {
     "data": {
      "text/plain": "Phase: Bottleneck Computation, Dataset used:      Train, Image Index: 385"
     },
     "execution_count": 1,
     "metadata": {},
     "output_type": "execute_result"
    },
    {
     "data": {
      "text/plain": "Phase: Bottleneck Computation, Dataset used:      Train, Image Index: 386"
     },
     "execution_count": 1,
     "metadata": {},
     "output_type": "execute_result"
    },
    {
     "data": {
      "text/plain": "Phase: Bottleneck Computation, Dataset used:      Train, Image Index: 387"
     },
     "execution_count": 1,
     "metadata": {},
     "output_type": "execute_result"
    },
    {
     "data": {
      "text/plain": "Phase: Bottleneck Computation, Dataset used:      Train, Image Index: 388"
     },
     "execution_count": 1,
     "metadata": {},
     "output_type": "execute_result"
    },
    {
     "data": {
      "text/plain": "Phase: Bottleneck Computation, Dataset used:      Train, Image Index: 389"
     },
     "execution_count": 1,
     "metadata": {},
     "output_type": "execute_result"
    },
    {
     "data": {
      "text/plain": "Phase: Bottleneck Computation, Dataset used:      Train, Image Index: 390"
     },
     "execution_count": 1,
     "metadata": {},
     "output_type": "execute_result"
    },
    {
     "data": {
      "text/plain": "Phase: Bottleneck Computation, Dataset used:      Train, Image Index: 391"
     },
     "execution_count": 1,
     "metadata": {},
     "output_type": "execute_result"
    },
    {
     "data": {
      "text/plain": "Phase: Bottleneck Computation, Dataset used:      Train, Image Index: 392"
     },
     "execution_count": 1,
     "metadata": {},
     "output_type": "execute_result"
    },
    {
     "data": {
      "text/plain": "Phase: Bottleneck Computation, Dataset used:      Train, Image Index: 393"
     },
     "execution_count": 1,
     "metadata": {},
     "output_type": "execute_result"
    },
    {
     "data": {
      "text/plain": "Phase: Bottleneck Computation, Dataset used:      Train, Image Index: 394"
     },
     "execution_count": 1,
     "metadata": {},
     "output_type": "execute_result"
    },
    {
     "data": {
      "text/plain": "Phase: Bottleneck Computation, Dataset used:      Train, Image Index: 395"
     },
     "execution_count": 1,
     "metadata": {},
     "output_type": "execute_result"
    },
    {
     "data": {
      "text/plain": "Phase: Bottleneck Computation, Dataset used:      Train, Image Index: 396"
     },
     "execution_count": 1,
     "metadata": {},
     "output_type": "execute_result"
    },
    {
     "data": {
      "text/plain": "Phase: Bottleneck Computation, Dataset used:      Train, Image Index: 397"
     },
     "execution_count": 1,
     "metadata": {},
     "output_type": "execute_result"
    },
    {
     "data": {
      "text/plain": "Phase: Bottleneck Computation, Dataset used:      Train, Image Index: 398"
     },
     "execution_count": 1,
     "metadata": {},
     "output_type": "execute_result"
    },
    {
     "data": {
      "text/plain": "Phase: Bottleneck Computation, Dataset used:      Train, Image Index: 399"
     },
     "execution_count": 1,
     "metadata": {},
     "output_type": "execute_result"
    },
    {
     "data": {
      "text/plain": "Phase: Bottleneck Computation, Dataset used:      Train, Image Index: 400"
     },
     "execution_count": 1,
     "metadata": {},
     "output_type": "execute_result"
    },
    {
     "data": {
      "text/plain": "Phase: Bottleneck Computation, Dataset used:      Train, Image Index: 401"
     },
     "execution_count": 1,
     "metadata": {},
     "output_type": "execute_result"
    },
    {
     "data": {
      "text/plain": "Phase: Bottleneck Computation, Dataset used:      Train, Image Index: 402"
     },
     "execution_count": 1,
     "metadata": {},
     "output_type": "execute_result"
    },
    {
     "data": {
      "text/plain": "Phase: Bottleneck Computation, Dataset used:      Train, Image Index: 403"
     },
     "execution_count": 1,
     "metadata": {},
     "output_type": "execute_result"
    },
    {
     "data": {
      "text/plain": "Phase: Bottleneck Computation, Dataset used:      Train, Image Index: 404"
     },
     "execution_count": 1,
     "metadata": {},
     "output_type": "execute_result"
    },
    {
     "data": {
      "text/plain": "Phase: Bottleneck Computation, Dataset used:      Train, Image Index: 405"
     },
     "execution_count": 1,
     "metadata": {},
     "output_type": "execute_result"
    },
    {
     "data": {
      "text/plain": "Phase: Bottleneck Computation, Dataset used:      Train, Image Index: 406"
     },
     "execution_count": 1,
     "metadata": {},
     "output_type": "execute_result"
    },
    {
     "data": {
      "text/plain": "Phase: Bottleneck Computation, Dataset used:      Train, Image Index: 407"
     },
     "execution_count": 1,
     "metadata": {},
     "output_type": "execute_result"
    },
    {
     "data": {
      "text/plain": "Phase: Bottleneck Computation, Dataset used:      Train, Image Index: 408"
     },
     "execution_count": 1,
     "metadata": {},
     "output_type": "execute_result"
    },
    {
     "data": {
      "text/plain": "Phase: Bottleneck Computation, Dataset used:      Train, Image Index: 409"
     },
     "execution_count": 1,
     "metadata": {},
     "output_type": "execute_result"
    },
    {
     "data": {
      "text/plain": "Phase: Bottleneck Computation, Dataset used:      Train, Image Index: 410"
     },
     "execution_count": 1,
     "metadata": {},
     "output_type": "execute_result"
    },
    {
     "data": {
      "text/plain": "Phase: Bottleneck Computation, Dataset used:      Train, Image Index: 411"
     },
     "execution_count": 1,
     "metadata": {},
     "output_type": "execute_result"
    },
    {
     "data": {
      "text/plain": "Phase: Bottleneck Computation, Dataset used:      Train, Image Index: 412"
     },
     "execution_count": 1,
     "metadata": {},
     "output_type": "execute_result"
    },
    {
     "data": {
      "text/plain": "Phase: Bottleneck Computation, Dataset used:      Train, Image Index: 413"
     },
     "execution_count": 1,
     "metadata": {},
     "output_type": "execute_result"
    },
    {
     "data": {
      "text/plain": "Phase: Bottleneck Computation, Dataset used:      Train, Image Index: 414"
     },
     "execution_count": 1,
     "metadata": {},
     "output_type": "execute_result"
    },
    {
     "data": {
      "text/plain": "Phase: Bottleneck Computation, Dataset used:      Train, Image Index: 415"
     },
     "execution_count": 1,
     "metadata": {},
     "output_type": "execute_result"
    },
    {
     "data": {
      "text/plain": "Phase: Bottleneck Computation, Dataset used:      Train, Image Index: 416"
     },
     "execution_count": 1,
     "metadata": {},
     "output_type": "execute_result"
    },
    {
     "data": {
      "text/plain": "Phase: Bottleneck Computation, Dataset used:      Train, Image Index: 417"
     },
     "execution_count": 1,
     "metadata": {},
     "output_type": "execute_result"
    },
    {
     "data": {
      "text/plain": "Phase: Bottleneck Computation, Dataset used:      Train, Image Index: 418"
     },
     "execution_count": 1,
     "metadata": {},
     "output_type": "execute_result"
    },
    {
     "data": {
      "text/plain": "Phase: Bottleneck Computation, Dataset used:      Train, Image Index: 419"
     },
     "execution_count": 1,
     "metadata": {},
     "output_type": "execute_result"
    },
    {
     "data": {
      "text/plain": "Phase: Bottleneck Computation, Dataset used:      Train, Image Index: 420"
     },
     "execution_count": 1,
     "metadata": {},
     "output_type": "execute_result"
    },
    {
     "data": {
      "text/plain": "Phase: Bottleneck Computation, Dataset used:      Train, Image Index: 421"
     },
     "execution_count": 1,
     "metadata": {},
     "output_type": "execute_result"
    },
    {
     "data": {
      "text/plain": "Phase: Bottleneck Computation, Dataset used:      Train, Image Index: 422"
     },
     "execution_count": 1,
     "metadata": {},
     "output_type": "execute_result"
    },
    {
     "data": {
      "text/plain": "Phase: Bottleneck Computation, Dataset used:      Train, Image Index: 423"
     },
     "execution_count": 1,
     "metadata": {},
     "output_type": "execute_result"
    },
    {
     "data": {
      "text/plain": "Phase: Bottleneck Computation, Dataset used:      Train, Image Index: 424"
     },
     "execution_count": 1,
     "metadata": {},
     "output_type": "execute_result"
    },
    {
     "data": {
      "text/plain": "Phase: Bottleneck Computation, Dataset used:      Train, Image Index: 425"
     },
     "execution_count": 1,
     "metadata": {},
     "output_type": "execute_result"
    },
    {
     "data": {
      "text/plain": "Phase: Bottleneck Computation, Dataset used:      Train, Image Index: 426"
     },
     "execution_count": 1,
     "metadata": {},
     "output_type": "execute_result"
    },
    {
     "data": {
      "text/plain": "Phase: Bottleneck Computation, Dataset used:      Train, Image Index: 427"
     },
     "execution_count": 1,
     "metadata": {},
     "output_type": "execute_result"
    },
    {
     "data": {
      "text/plain": "Phase: Bottleneck Computation, Dataset used:      Train, Image Index: 428"
     },
     "execution_count": 1,
     "metadata": {},
     "output_type": "execute_result"
    },
    {
     "data": {
      "text/plain": "Phase: Bottleneck Computation, Dataset used:      Train, Image Index: 429"
     },
     "execution_count": 1,
     "metadata": {},
     "output_type": "execute_result"
    },
    {
     "data": {
      "text/plain": "Phase: Bottleneck Computation, Dataset used:      Train, Image Index: 430"
     },
     "execution_count": 1,
     "metadata": {},
     "output_type": "execute_result"
    },
    {
     "data": {
      "text/plain": "Phase: Bottleneck Computation, Dataset used:      Train, Image Index: 431"
     },
     "execution_count": 1,
     "metadata": {},
     "output_type": "execute_result"
    },
    {
     "data": {
      "text/plain": "Phase: Bottleneck Computation, Dataset used:      Train, Image Index: 432"
     },
     "execution_count": 1,
     "metadata": {},
     "output_type": "execute_result"
    },
    {
     "data": {
      "text/plain": "Phase: Bottleneck Computation, Dataset used:      Train, Image Index: 433"
     },
     "execution_count": 1,
     "metadata": {},
     "output_type": "execute_result"
    },
    {
     "data": {
      "text/plain": "Phase: Bottleneck Computation, Dataset used:      Train, Image Index: 434"
     },
     "execution_count": 1,
     "metadata": {},
     "output_type": "execute_result"
    },
    {
     "data": {
      "text/plain": "Phase: Bottleneck Computation, Dataset used:      Train, Image Index: 435"
     },
     "execution_count": 1,
     "metadata": {},
     "output_type": "execute_result"
    },
    {
     "data": {
      "text/plain": "Phase: Bottleneck Computation, Dataset used:      Train, Image Index: 436"
     },
     "execution_count": 1,
     "metadata": {},
     "output_type": "execute_result"
    },
    {
     "data": {
      "text/plain": "Phase: Bottleneck Computation, Dataset used:      Train, Image Index: 437"
     },
     "execution_count": 1,
     "metadata": {},
     "output_type": "execute_result"
    },
    {
     "data": {
      "text/plain": "Phase: Bottleneck Computation, Dataset used:      Train, Image Index: 438"
     },
     "execution_count": 1,
     "metadata": {},
     "output_type": "execute_result"
    },
    {
     "data": {
      "text/plain": "Phase: Bottleneck Computation, Dataset used:      Train, Image Index: 439"
     },
     "execution_count": 1,
     "metadata": {},
     "output_type": "execute_result"
    },
    {
     "data": {
      "text/plain": "Phase: Bottleneck Computation, Dataset used:      Train, Image Index: 440"
     },
     "execution_count": 1,
     "metadata": {},
     "output_type": "execute_result"
    },
    {
     "data": {
      "text/plain": "Phase: Bottleneck Computation, Dataset used:      Train, Image Index: 441"
     },
     "execution_count": 1,
     "metadata": {},
     "output_type": "execute_result"
    },
    {
     "data": {
      "text/plain": "Phase: Bottleneck Computation, Dataset used:      Train, Image Index: 442"
     },
     "execution_count": 1,
     "metadata": {},
     "output_type": "execute_result"
    },
    {
     "data": {
      "text/plain": "Phase: Bottleneck Computation, Dataset used:      Train, Image Index: 443"
     },
     "execution_count": 1,
     "metadata": {},
     "output_type": "execute_result"
    },
    {
     "data": {
      "text/plain": "Phase: Bottleneck Computation, Dataset used:      Train, Image Index: 444"
     },
     "execution_count": 1,
     "metadata": {},
     "output_type": "execute_result"
    },
    {
     "data": {
      "text/plain": "Phase: Bottleneck Computation, Dataset used:      Train, Image Index: 445"
     },
     "execution_count": 1,
     "metadata": {},
     "output_type": "execute_result"
    },
    {
     "data": {
      "text/plain": "Phase: Bottleneck Computation, Dataset used:      Train, Image Index: 446"
     },
     "execution_count": 1,
     "metadata": {},
     "output_type": "execute_result"
    },
    {
     "data": {
      "text/plain": "Phase: Bottleneck Computation, Dataset used:      Train, Image Index: 447"
     },
     "execution_count": 1,
     "metadata": {},
     "output_type": "execute_result"
    },
    {
     "data": {
      "text/plain": "Phase: Bottleneck Computation, Dataset used:      Train, Image Index: 448"
     },
     "execution_count": 1,
     "metadata": {},
     "output_type": "execute_result"
    },
    {
     "data": {
      "text/plain": "Phase: Bottleneck Computation, Dataset used:      Train, Image Index: 449"
     },
     "execution_count": 1,
     "metadata": {},
     "output_type": "execute_result"
    },
    {
     "data": {
      "text/plain": "Phase: Bottleneck Computation, Dataset used:      Train, Image Index: 450"
     },
     "execution_count": 1,
     "metadata": {},
     "output_type": "execute_result"
    },
    {
     "data": {
      "text/plain": "Phase: Bottleneck Computation, Dataset used:      Train, Image Index: 451"
     },
     "execution_count": 1,
     "metadata": {},
     "output_type": "execute_result"
    },
    {
     "data": {
      "text/plain": "Phase: Bottleneck Computation, Dataset used:      Train, Image Index: 452"
     },
     "execution_count": 1,
     "metadata": {},
     "output_type": "execute_result"
    },
    {
     "data": {
      "text/plain": "Phase: Bottleneck Computation, Dataset used:      Train, Image Index: 453"
     },
     "execution_count": 1,
     "metadata": {},
     "output_type": "execute_result"
    },
    {
     "data": {
      "text/plain": "Phase: Bottleneck Computation, Dataset used:      Train, Image Index: 454"
     },
     "execution_count": 1,
     "metadata": {},
     "output_type": "execute_result"
    },
    {
     "data": {
      "text/plain": "Phase: Bottleneck Computation, Dataset used:      Train, Image Index: 455"
     },
     "execution_count": 1,
     "metadata": {},
     "output_type": "execute_result"
    },
    {
     "data": {
      "text/plain": "Phase: Bottleneck Computation, Dataset used:      Train, Image Index: 456"
     },
     "execution_count": 1,
     "metadata": {},
     "output_type": "execute_result"
    },
    {
     "data": {
      "text/plain": "Phase: Bottleneck Computation, Dataset used:      Train, Image Index: 457"
     },
     "execution_count": 1,
     "metadata": {},
     "output_type": "execute_result"
    },
    {
     "data": {
      "text/plain": "Phase: Bottleneck Computation, Dataset used:      Train, Image Index: 458"
     },
     "execution_count": 1,
     "metadata": {},
     "output_type": "execute_result"
    },
    {
     "data": {
      "text/plain": "Phase: Bottleneck Computation, Dataset used:      Train, Image Index: 459"
     },
     "execution_count": 1,
     "metadata": {},
     "output_type": "execute_result"
    },
    {
     "data": {
      "text/plain": "Phase: Bottleneck Computation, Dataset used:      Train, Image Index: 460"
     },
     "execution_count": 1,
     "metadata": {},
     "output_type": "execute_result"
    },
    {
     "data": {
      "text/plain": "Phase: Bottleneck Computation, Dataset used:      Train, Image Index: 461"
     },
     "execution_count": 1,
     "metadata": {},
     "output_type": "execute_result"
    },
    {
     "data": {
      "text/plain": "Phase: Bottleneck Computation, Dataset used:      Train, Image Index: 462"
     },
     "execution_count": 1,
     "metadata": {},
     "output_type": "execute_result"
    },
    {
     "data": {
      "text/plain": "Phase: Bottleneck Computation, Dataset used:      Train, Image Index: 463"
     },
     "execution_count": 1,
     "metadata": {},
     "output_type": "execute_result"
    },
    {
     "data": {
      "text/plain": "Phase: Bottleneck Computation, Dataset used:      Train, Image Index: 464"
     },
     "execution_count": 1,
     "metadata": {},
     "output_type": "execute_result"
    },
    {
     "data": {
      "text/plain": "Phase: Bottleneck Computation, Dataset used:      Train, Image Index: 465"
     },
     "execution_count": 1,
     "metadata": {},
     "output_type": "execute_result"
    },
    {
     "data": {
      "text/plain": "Phase: Bottleneck Computation, Dataset used:      Train, Image Index: 466"
     },
     "execution_count": 1,
     "metadata": {},
     "output_type": "execute_result"
    },
    {
     "data": {
      "text/plain": "Phase: Bottleneck Computation, Dataset used:      Train, Image Index: 467"
     },
     "execution_count": 1,
     "metadata": {},
     "output_type": "execute_result"
    },
    {
     "data": {
      "text/plain": "Phase: Bottleneck Computation, Dataset used:      Train, Image Index: 468"
     },
     "execution_count": 1,
     "metadata": {},
     "output_type": "execute_result"
    },
    {
     "data": {
      "text/plain": "Phase: Bottleneck Computation, Dataset used:      Train, Image Index: 469"
     },
     "execution_count": 1,
     "metadata": {},
     "output_type": "execute_result"
    },
    {
     "data": {
      "text/plain": "Phase: Bottleneck Computation, Dataset used:      Train, Image Index: 470"
     },
     "execution_count": 1,
     "metadata": {},
     "output_type": "execute_result"
    },
    {
     "data": {
      "text/plain": "Phase: Bottleneck Computation, Dataset used:      Train, Image Index: 471"
     },
     "execution_count": 1,
     "metadata": {},
     "output_type": "execute_result"
    },
    {
     "data": {
      "text/plain": "Phase: Bottleneck Computation, Dataset used:      Train, Image Index: 472"
     },
     "execution_count": 1,
     "metadata": {},
     "output_type": "execute_result"
    },
    {
     "data": {
      "text/plain": "Phase: Bottleneck Computation, Dataset used:      Train, Image Index: 473"
     },
     "execution_count": 1,
     "metadata": {},
     "output_type": "execute_result"
    },
    {
     "data": {
      "text/plain": "Phase: Bottleneck Computation, Dataset used:      Train, Image Index: 474"
     },
     "execution_count": 1,
     "metadata": {},
     "output_type": "execute_result"
    },
    {
     "data": {
      "text/plain": "Phase: Bottleneck Computation, Dataset used:      Train, Image Index: 475"
     },
     "execution_count": 1,
     "metadata": {},
     "output_type": "execute_result"
    },
    {
     "data": {
      "text/plain": "Phase: Bottleneck Computation, Dataset used:      Train, Image Index: 476"
     },
     "execution_count": 1,
     "metadata": {},
     "output_type": "execute_result"
    },
    {
     "data": {
      "text/plain": "Phase: Bottleneck Computation, Dataset used:      Train, Image Index: 477"
     },
     "execution_count": 1,
     "metadata": {},
     "output_type": "execute_result"
    },
    {
     "data": {
      "text/plain": "Phase: Bottleneck Computation, Dataset used:      Train, Image Index: 478"
     },
     "execution_count": 1,
     "metadata": {},
     "output_type": "execute_result"
    },
    {
     "data": {
      "text/plain": "Phase: Bottleneck Computation, Dataset used:      Train, Image Index: 479"
     },
     "execution_count": 1,
     "metadata": {},
     "output_type": "execute_result"
    },
    {
     "data": {
      "text/plain": "Phase: Bottleneck Computation, Dataset used:      Train, Image Index: 480"
     },
     "execution_count": 1,
     "metadata": {},
     "output_type": "execute_result"
    },
    {
     "data": {
      "text/plain": "Phase: Bottleneck Computation, Dataset used:      Train, Image Index: 481"
     },
     "execution_count": 1,
     "metadata": {},
     "output_type": "execute_result"
    },
    {
     "data": {
      "text/plain": "Phase: Bottleneck Computation, Dataset used:      Train, Image Index: 482"
     },
     "execution_count": 1,
     "metadata": {},
     "output_type": "execute_result"
    },
    {
     "data": {
      "text/plain": "Phase: Bottleneck Computation, Dataset used:      Train, Image Index: 483"
     },
     "execution_count": 1,
     "metadata": {},
     "output_type": "execute_result"
    },
    {
     "data": {
      "text/plain": "Phase: Bottleneck Computation, Dataset used:      Train, Image Index: 484"
     },
     "execution_count": 1,
     "metadata": {},
     "output_type": "execute_result"
    },
    {
     "data": {
      "text/plain": "Phase: Bottleneck Computation, Dataset used:      Train, Image Index: 485"
     },
     "execution_count": 1,
     "metadata": {},
     "output_type": "execute_result"
    },
    {
     "data": {
      "text/plain": "Phase: Bottleneck Computation, Dataset used:      Train, Image Index: 486"
     },
     "execution_count": 1,
     "metadata": {},
     "output_type": "execute_result"
    },
    {
     "data": {
      "text/plain": "Phase: Bottleneck Computation, Dataset used:      Train, Image Index: 487"
     },
     "execution_count": 1,
     "metadata": {},
     "output_type": "execute_result"
    },
    {
     "data": {
      "text/plain": "Phase: Bottleneck Computation, Dataset used:      Train, Image Index: 488"
     },
     "execution_count": 1,
     "metadata": {},
     "output_type": "execute_result"
    },
    {
     "data": {
      "text/plain": "Phase: Bottleneck Computation, Dataset used:      Train, Image Index: 489"
     },
     "execution_count": 1,
     "metadata": {},
     "output_type": "execute_result"
    },
    {
     "data": {
      "text/plain": "Phase: Bottleneck Computation, Dataset used:      Train, Image Index: 490"
     },
     "execution_count": 1,
     "metadata": {},
     "output_type": "execute_result"
    },
    {
     "data": {
      "text/plain": "Phase: Bottleneck Computation, Dataset used:      Train, Image Index: 491"
     },
     "execution_count": 1,
     "metadata": {},
     "output_type": "execute_result"
    },
    {
     "data": {
      "text/plain": "Phase: Bottleneck Computation, Dataset used:      Train, Image Index: 492"
     },
     "execution_count": 1,
     "metadata": {},
     "output_type": "execute_result"
    },
    {
     "data": {
      "text/plain": "Phase: Bottleneck Computation, Dataset used:      Train, Image Index: 493"
     },
     "execution_count": 1,
     "metadata": {},
     "output_type": "execute_result"
    },
    {
     "data": {
      "text/plain": "Phase: Bottleneck Computation, Dataset used:      Train, Image Index: 494"
     },
     "execution_count": 1,
     "metadata": {},
     "output_type": "execute_result"
    },
    {
     "data": {
      "text/plain": "Phase: Bottleneck Computation, Dataset used:      Train, Image Index: 495"
     },
     "execution_count": 1,
     "metadata": {},
     "output_type": "execute_result"
    },
    {
     "data": {
      "text/plain": "Phase: Bottleneck Computation, Dataset used:      Train, Image Index: 496"
     },
     "execution_count": 1,
     "metadata": {},
     "output_type": "execute_result"
    },
    {
     "data": {
      "text/plain": "Phase: Bottleneck Computation, Dataset used:      Train, Image Index: 497"
     },
     "execution_count": 1,
     "metadata": {},
     "output_type": "execute_result"
    },
    {
     "data": {
      "text/plain": "Phase: Bottleneck Computation, Dataset used:      Train, Image Index: 498"
     },
     "execution_count": 1,
     "metadata": {},
     "output_type": "execute_result"
    },
    {
     "data": {
      "text/plain": "Phase: Bottleneck Computation, Dataset used:      Train, Image Index: 499"
     },
     "execution_count": 1,
     "metadata": {},
     "output_type": "execute_result"
    },
    {
     "data": {
      "text/plain": "Phase: Bottleneck Computation, Dataset used:      Train, Image Index: 500"
     },
     "execution_count": 1,
     "metadata": {},
     "output_type": "execute_result"
    },
    {
     "data": {
      "text/plain": "Phase: Bottleneck Computation, Dataset used:      Train, Image Index: 501"
     },
     "execution_count": 1,
     "metadata": {},
     "output_type": "execute_result"
    },
    {
     "data": {
      "text/plain": "Phase: Bottleneck Computation, Dataset used:      Train, Image Index: 502"
     },
     "execution_count": 1,
     "metadata": {},
     "output_type": "execute_result"
    },
    {
     "data": {
      "text/plain": "Phase: Bottleneck Computation, Dataset used:      Train, Image Index: 503"
     },
     "execution_count": 1,
     "metadata": {},
     "output_type": "execute_result"
    },
    {
     "data": {
      "text/plain": "Phase: Bottleneck Computation, Dataset used:      Train, Image Index: 504"
     },
     "execution_count": 1,
     "metadata": {},
     "output_type": "execute_result"
    },
    {
     "data": {
      "text/plain": "Phase: Bottleneck Computation, Dataset used:      Train, Image Index: 505"
     },
     "execution_count": 1,
     "metadata": {},
     "output_type": "execute_result"
    },
    {
     "data": {
      "text/plain": "Phase: Bottleneck Computation, Dataset used:      Train, Image Index: 506"
     },
     "execution_count": 1,
     "metadata": {},
     "output_type": "execute_result"
    },
    {
     "data": {
      "text/plain": "Phase: Bottleneck Computation, Dataset used:      Train, Image Index: 507"
     },
     "execution_count": 1,
     "metadata": {},
     "output_type": "execute_result"
    },
    {
     "data": {
      "text/plain": "Phase: Bottleneck Computation, Dataset used:      Train, Image Index: 508"
     },
     "execution_count": 1,
     "metadata": {},
     "output_type": "execute_result"
    },
    {
     "data": {
      "text/plain": "Phase: Bottleneck Computation, Dataset used:      Train, Image Index: 509"
     },
     "execution_count": 1,
     "metadata": {},
     "output_type": "execute_result"
    },
    {
     "data": {
      "text/plain": "Phase: Bottleneck Computation, Dataset used:      Train, Image Index: 510"
     },
     "execution_count": 1,
     "metadata": {},
     "output_type": "execute_result"
    },
    {
     "data": {
      "text/plain": "Phase: Bottleneck Computation, Dataset used:      Train, Image Index: 511"
     },
     "execution_count": 1,
     "metadata": {},
     "output_type": "execute_result"
    },
    {
     "data": {
      "text/plain": "Phase: Bottleneck Computation, Dataset used:      Train, Image Index: 512"
     },
     "execution_count": 1,
     "metadata": {},
     "output_type": "execute_result"
    },
    {
     "data": {
      "text/plain": "Phase: Bottleneck Computation, Dataset used:      Train, Image Index: 513"
     },
     "execution_count": 1,
     "metadata": {},
     "output_type": "execute_result"
    },
    {
     "data": {
      "text/plain": "Phase: Bottleneck Computation, Dataset used:      Train, Image Index: 514"
     },
     "execution_count": 1,
     "metadata": {},
     "output_type": "execute_result"
    },
    {
     "data": {
      "text/plain": "Phase: Bottleneck Computation, Dataset used:      Train, Image Index: 515"
     },
     "execution_count": 1,
     "metadata": {},
     "output_type": "execute_result"
    },
    {
     "data": {
      "text/plain": "Phase: Bottleneck Computation, Dataset used:      Train, Image Index: 516"
     },
     "execution_count": 1,
     "metadata": {},
     "output_type": "execute_result"
    },
    {
     "data": {
      "text/plain": "Phase: Bottleneck Computation, Dataset used:      Train, Image Index: 517"
     },
     "execution_count": 1,
     "metadata": {},
     "output_type": "execute_result"
    },
    {
     "data": {
      "text/plain": "Phase: Bottleneck Computation, Dataset used:      Train, Image Index: 518"
     },
     "execution_count": 1,
     "metadata": {},
     "output_type": "execute_result"
    },
    {
     "data": {
      "text/plain": "Phase: Bottleneck Computation, Dataset used:      Train, Image Index: 519"
     },
     "execution_count": 1,
     "metadata": {},
     "output_type": "execute_result"
    },
    {
     "data": {
      "text/plain": "Phase: Bottleneck Computation, Dataset used:      Train, Image Index: 520"
     },
     "execution_count": 1,
     "metadata": {},
     "output_type": "execute_result"
    },
    {
     "data": {
      "text/plain": "Phase: Bottleneck Computation, Dataset used:      Train, Image Index: 521"
     },
     "execution_count": 1,
     "metadata": {},
     "output_type": "execute_result"
    },
    {
     "data": {
      "text/plain": "Phase: Bottleneck Computation, Dataset used:      Train, Image Index: 522"
     },
     "execution_count": 1,
     "metadata": {},
     "output_type": "execute_result"
    },
    {
     "data": {
      "text/plain": "Phase: Bottleneck Computation, Dataset used:      Train, Image Index: 523"
     },
     "execution_count": 1,
     "metadata": {},
     "output_type": "execute_result"
    },
    {
     "data": {
      "text/plain": "Phase: Bottleneck Computation, Dataset used:      Train, Image Index: 524"
     },
     "execution_count": 1,
     "metadata": {},
     "output_type": "execute_result"
    },
    {
     "data": {
      "text/plain": "Phase: Bottleneck Computation, Dataset used:      Train, Image Index: 525"
     },
     "execution_count": 1,
     "metadata": {},
     "output_type": "execute_result"
    },
    {
     "data": {
      "text/plain": "Phase: Bottleneck Computation, Dataset used:      Train, Image Index: 526"
     },
     "execution_count": 1,
     "metadata": {},
     "output_type": "execute_result"
    },
    {
     "data": {
      "text/plain": "Phase: Bottleneck Computation, Dataset used:      Train, Image Index: 527"
     },
     "execution_count": 1,
     "metadata": {},
     "output_type": "execute_result"
    },
    {
     "data": {
      "text/plain": "Phase: Bottleneck Computation, Dataset used:      Train, Image Index: 528"
     },
     "execution_count": 1,
     "metadata": {},
     "output_type": "execute_result"
    },
    {
     "data": {
      "text/plain": "Phase: Bottleneck Computation, Dataset used:      Train, Image Index: 529"
     },
     "execution_count": 1,
     "metadata": {},
     "output_type": "execute_result"
    },
    {
     "data": {
      "text/plain": "Phase: Bottleneck Computation, Dataset used:      Train, Image Index: 530"
     },
     "execution_count": 1,
     "metadata": {},
     "output_type": "execute_result"
    },
    {
     "data": {
      "text/plain": "Phase: Bottleneck Computation, Dataset used:      Train, Image Index: 531"
     },
     "execution_count": 1,
     "metadata": {},
     "output_type": "execute_result"
    },
    {
     "data": {
      "text/plain": "Phase: Bottleneck Computation, Dataset used:      Train, Image Index: 532"
     },
     "execution_count": 1,
     "metadata": {},
     "output_type": "execute_result"
    },
    {
     "data": {
      "text/plain": "Phase: Bottleneck Computation, Dataset used:      Train, Image Index: 533"
     },
     "execution_count": 1,
     "metadata": {},
     "output_type": "execute_result"
    },
    {
     "data": {
      "text/plain": "Phase: Bottleneck Computation, Dataset used:      Train, Image Index: 534"
     },
     "execution_count": 1,
     "metadata": {},
     "output_type": "execute_result"
    },
    {
     "data": {
      "text/plain": "Phase: Bottleneck Computation, Dataset used:      Train, Image Index: 535"
     },
     "execution_count": 1,
     "metadata": {},
     "output_type": "execute_result"
    },
    {
     "data": {
      "text/plain": "Phase: Bottleneck Computation, Dataset used:      Train, Image Index: 536"
     },
     "execution_count": 1,
     "metadata": {},
     "output_type": "execute_result"
    },
    {
     "data": {
      "text/plain": "Phase: Bottleneck Computation, Dataset used:      Train, Image Index: 537"
     },
     "execution_count": 1,
     "metadata": {},
     "output_type": "execute_result"
    },
    {
     "data": {
      "text/plain": "Phase: Bottleneck Computation, Dataset used:      Train, Image Index: 538"
     },
     "execution_count": 1,
     "metadata": {},
     "output_type": "execute_result"
    },
    {
     "data": {
      "text/plain": "Phase: Bottleneck Computation, Dataset used:      Train, Image Index: 539"
     },
     "execution_count": 1,
     "metadata": {},
     "output_type": "execute_result"
    },
    {
     "data": {
      "text/plain": "Phase: Bottleneck Computation, Dataset used:      Train, Image Index: 540"
     },
     "execution_count": 1,
     "metadata": {},
     "output_type": "execute_result"
    },
    {
     "data": {
      "text/plain": "Phase: Bottleneck Computation, Dataset used:      Train, Image Index: 541"
     },
     "execution_count": 1,
     "metadata": {},
     "output_type": "execute_result"
    },
    {
     "data": {
      "text/plain": "Phase: Bottleneck Computation, Dataset used:      Train, Image Index: 542"
     },
     "execution_count": 1,
     "metadata": {},
     "output_type": "execute_result"
    },
    {
     "data": {
      "text/plain": "Phase: Bottleneck Computation, Dataset used:      Train, Image Index: 543"
     },
     "execution_count": 1,
     "metadata": {},
     "output_type": "execute_result"
    },
    {
     "data": {
      "text/plain": "Phase: Bottleneck Computation, Dataset used:      Train, Image Index: 544"
     },
     "execution_count": 1,
     "metadata": {},
     "output_type": "execute_result"
    },
    {
     "data": {
      "text/plain": "Phase: Bottleneck Computation, Dataset used:      Train, Image Index: 545"
     },
     "execution_count": 1,
     "metadata": {},
     "output_type": "execute_result"
    },
    {
     "data": {
      "text/plain": "Phase: Bottleneck Computation, Dataset used:      Train, Image Index: 546"
     },
     "execution_count": 1,
     "metadata": {},
     "output_type": "execute_result"
    },
    {
     "data": {
      "text/plain": "Phase: Bottleneck Computation, Dataset used:      Train, Image Index: 547"
     },
     "execution_count": 1,
     "metadata": {},
     "output_type": "execute_result"
    },
    {
     "data": {
      "text/plain": "Phase: Bottleneck Computation, Dataset used:      Train, Image Index: 548"
     },
     "execution_count": 1,
     "metadata": {},
     "output_type": "execute_result"
    },
    {
     "data": {
      "text/plain": "Phase: Bottleneck Computation, Dataset used:      Train, Image Index: 549"
     },
     "execution_count": 1,
     "metadata": {},
     "output_type": "execute_result"
    },
    {
     "data": {
      "text/plain": "Phase: Bottleneck Computation, Dataset used:      Train, Image Index: 550"
     },
     "execution_count": 1,
     "metadata": {},
     "output_type": "execute_result"
    },
    {
     "data": {
      "text/plain": "Phase: Bottleneck Computation, Dataset used:      Train, Image Index: 551"
     },
     "execution_count": 1,
     "metadata": {},
     "output_type": "execute_result"
    },
    {
     "data": {
      "text/plain": "Phase: Bottleneck Computation, Dataset used:      Train, Image Index: 552"
     },
     "execution_count": 1,
     "metadata": {},
     "output_type": "execute_result"
    },
    {
     "data": {
      "text/plain": "Phase: Bottleneck Computation, Dataset used:      Train, Image Index: 553"
     },
     "execution_count": 1,
     "metadata": {},
     "output_type": "execute_result"
    },
    {
     "data": {
      "text/plain": "Phase: Bottleneck Computation, Dataset used:      Train, Image Index: 554"
     },
     "execution_count": 1,
     "metadata": {},
     "output_type": "execute_result"
    },
    {
     "data": {
      "text/plain": "Phase: Bottleneck Computation, Dataset used:      Train, Image Index: 555"
     },
     "execution_count": 1,
     "metadata": {},
     "output_type": "execute_result"
    },
    {
     "data": {
      "text/plain": "Phase: Bottleneck Computation, Dataset used:      Train, Image Index: 556"
     },
     "execution_count": 1,
     "metadata": {},
     "output_type": "execute_result"
    },
    {
     "data": {
      "text/plain": "Phase: Bottleneck Computation, Dataset used:      Train, Image Index: 557"
     },
     "execution_count": 1,
     "metadata": {},
     "output_type": "execute_result"
    },
    {
     "data": {
      "text/plain": "Phase: Bottleneck Computation, Dataset used:      Train, Image Index: 558"
     },
     "execution_count": 1,
     "metadata": {},
     "output_type": "execute_result"
    },
    {
     "data": {
      "text/plain": "Phase: Bottleneck Computation, Dataset used:      Train, Image Index: 559"
     },
     "execution_count": 1,
     "metadata": {},
     "output_type": "execute_result"
    },
    {
     "data": {
      "text/plain": "Phase: Bottleneck Computation, Dataset used:      Train, Image Index: 560"
     },
     "execution_count": 1,
     "metadata": {},
     "output_type": "execute_result"
    },
    {
     "data": {
      "text/plain": "Phase: Bottleneck Computation, Dataset used:      Train, Image Index: 561"
     },
     "execution_count": 1,
     "metadata": {},
     "output_type": "execute_result"
    },
    {
     "data": {
      "text/plain": "Phase: Bottleneck Computation, Dataset used:      Train, Image Index: 562"
     },
     "execution_count": 1,
     "metadata": {},
     "output_type": "execute_result"
    },
    {
     "data": {
      "text/plain": "Phase: Bottleneck Computation, Dataset used:      Train, Image Index: 563"
     },
     "execution_count": 1,
     "metadata": {},
     "output_type": "execute_result"
    },
    {
     "data": {
      "text/plain": "Phase: Bottleneck Computation, Dataset used:      Train, Image Index: 564"
     },
     "execution_count": 1,
     "metadata": {},
     "output_type": "execute_result"
    },
    {
     "data": {
      "text/plain": "Phase: Bottleneck Computation, Dataset used:      Train, Image Index: 565"
     },
     "execution_count": 1,
     "metadata": {},
     "output_type": "execute_result"
    },
    {
     "data": {
      "text/plain": "Phase: Bottleneck Computation, Dataset used:      Train, Image Index: 566"
     },
     "execution_count": 1,
     "metadata": {},
     "output_type": "execute_result"
    },
    {
     "data": {
      "text/plain": "Phase: Bottleneck Computation, Dataset used:      Train, Image Index: 567"
     },
     "execution_count": 1,
     "metadata": {},
     "output_type": "execute_result"
    },
    {
     "data": {
      "text/plain": "Phase: Bottleneck Computation, Dataset used:      Train, Image Index: 568"
     },
     "execution_count": 1,
     "metadata": {},
     "output_type": "execute_result"
    },
    {
     "data": {
      "text/plain": "Phase: Bottleneck Computation, Dataset used:      Train, Image Index: 569"
     },
     "execution_count": 1,
     "metadata": {},
     "output_type": "execute_result"
    },
    {
     "data": {
      "text/plain": "Phase: Bottleneck Computation, Dataset used:      Train, Image Index: 570"
     },
     "execution_count": 1,
     "metadata": {},
     "output_type": "execute_result"
    },
    {
     "data": {
      "text/plain": "Phase: Bottleneck Computation, Dataset used:      Train, Image Index: 571"
     },
     "execution_count": 1,
     "metadata": {},
     "output_type": "execute_result"
    },
    {
     "data": {
      "text/plain": "Phase: Bottleneck Computation, Dataset used:      Train, Image Index: 572"
     },
     "execution_count": 1,
     "metadata": {},
     "output_type": "execute_result"
    },
    {
     "data": {
      "text/plain": "Phase: Bottleneck Computation, Dataset used:      Train, Image Index: 573"
     },
     "execution_count": 1,
     "metadata": {},
     "output_type": "execute_result"
    },
    {
     "data": {
      "text/plain": "Phase: Bottleneck Computation, Dataset used:      Train, Image Index: 574"
     },
     "execution_count": 1,
     "metadata": {},
     "output_type": "execute_result"
    },
    {
     "data": {
      "text/plain": "Phase: Bottleneck Computation, Dataset used:      Train, Image Index: 575"
     },
     "execution_count": 1,
     "metadata": {},
     "output_type": "execute_result"
    },
    {
     "data": {
      "text/plain": "Phase: Bottleneck Computation, Dataset used:      Train, Image Index: 576"
     },
     "execution_count": 1,
     "metadata": {},
     "output_type": "execute_result"
    },
    {
     "data": {
      "text/plain": "Phase: Bottleneck Computation, Dataset used:      Train, Image Index: 577"
     },
     "execution_count": 1,
     "metadata": {},
     "output_type": "execute_result"
    },
    {
     "data": {
      "text/plain": "Phase: Bottleneck Computation, Dataset used:      Train, Image Index: 578"
     },
     "execution_count": 1,
     "metadata": {},
     "output_type": "execute_result"
    },
    {
     "data": {
      "text/plain": "Phase: Bottleneck Computation, Dataset used:      Train, Image Index: 579"
     },
     "execution_count": 1,
     "metadata": {},
     "output_type": "execute_result"
    },
    {
     "data": {
      "text/plain": "Phase: Bottleneck Computation, Dataset used:      Train, Image Index: 580"
     },
     "execution_count": 1,
     "metadata": {},
     "output_type": "execute_result"
    },
    {
     "data": {
      "text/plain": "Phase: Bottleneck Computation, Dataset used:      Train, Image Index: 581"
     },
     "execution_count": 1,
     "metadata": {},
     "output_type": "execute_result"
    },
    {
     "data": {
      "text/plain": "Phase: Bottleneck Computation, Dataset used:      Train, Image Index: 582"
     },
     "execution_count": 1,
     "metadata": {},
     "output_type": "execute_result"
    },
    {
     "data": {
      "text/plain": "Phase: Bottleneck Computation, Dataset used:      Train, Image Index: 583"
     },
     "execution_count": 1,
     "metadata": {},
     "output_type": "execute_result"
    },
    {
     "data": {
      "text/plain": "Phase: Bottleneck Computation, Dataset used:      Train, Image Index: 584"
     },
     "execution_count": 1,
     "metadata": {},
     "output_type": "execute_result"
    },
    {
     "data": {
      "text/plain": "Phase: Bottleneck Computation, Dataset used:      Train, Image Index: 585"
     },
     "execution_count": 1,
     "metadata": {},
     "output_type": "execute_result"
    },
    {
     "data": {
      "text/plain": "Phase: Bottleneck Computation, Dataset used:      Train, Image Index: 586"
     },
     "execution_count": 1,
     "metadata": {},
     "output_type": "execute_result"
    },
    {
     "data": {
      "text/plain": "Phase: Bottleneck Computation, Dataset used:      Train, Image Index: 587"
     },
     "execution_count": 1,
     "metadata": {},
     "output_type": "execute_result"
    },
    {
     "data": {
      "text/plain": "Phase: Bottleneck Computation, Dataset used:      Train, Image Index: 588"
     },
     "execution_count": 1,
     "metadata": {},
     "output_type": "execute_result"
    },
    {
     "data": {
      "text/plain": "Phase: Bottleneck Computation, Dataset used:      Train, Image Index: 589"
     },
     "execution_count": 1,
     "metadata": {},
     "output_type": "execute_result"
    },
    {
     "data": {
      "text/plain": "Phase: Bottleneck Computation, Dataset used:      Train, Image Index: 590"
     },
     "execution_count": 1,
     "metadata": {},
     "output_type": "execute_result"
    },
    {
     "data": {
      "text/plain": "Phase: Bottleneck Computation, Dataset used:      Train, Image Index: 591"
     },
     "execution_count": 1,
     "metadata": {},
     "output_type": "execute_result"
    },
    {
     "data": {
      "text/plain": "Phase: Bottleneck Computation, Dataset used:      Train, Image Index: 592"
     },
     "execution_count": 1,
     "metadata": {},
     "output_type": "execute_result"
    },
    {
     "data": {
      "text/plain": "Phase: Bottleneck Computation, Dataset used:      Train, Image Index: 593"
     },
     "execution_count": 1,
     "metadata": {},
     "output_type": "execute_result"
    },
    {
     "data": {
      "text/plain": "Phase: Bottleneck Computation, Dataset used:      Train, Image Index: 594"
     },
     "execution_count": 1,
     "metadata": {},
     "output_type": "execute_result"
    },
    {
     "data": {
      "text/plain": "Phase: Bottleneck Computation, Dataset used:      Train, Image Index: 595"
     },
     "execution_count": 1,
     "metadata": {},
     "output_type": "execute_result"
    },
    {
     "data": {
      "text/plain": "Phase: Bottleneck Computation, Dataset used:      Train, Image Index: 596"
     },
     "execution_count": 1,
     "metadata": {},
     "output_type": "execute_result"
    },
    {
     "data": {
      "text/plain": "Phase: Bottleneck Computation, Dataset used:      Train, Image Index: 597"
     },
     "execution_count": 1,
     "metadata": {},
     "output_type": "execute_result"
    },
    {
     "data": {
      "text/plain": "Phase: Bottleneck Computation, Dataset used:      Train, Image Index: 598"
     },
     "execution_count": 1,
     "metadata": {},
     "output_type": "execute_result"
    },
    {
     "data": {
      "text/plain": "Phase: Bottleneck Computation, Dataset used:      Train, Image Index: 599"
     },
     "execution_count": 1,
     "metadata": {},
     "output_type": "execute_result"
    },
    {
     "data": {
      "text/plain": "Phase: Bottleneck Computation, Dataset used:      Train, Image Index: 600"
     },
     "execution_count": 1,
     "metadata": {},
     "output_type": "execute_result"
    },
    {
     "data": {
      "text/plain": "Phase: Bottleneck Computation, Dataset used:      Train, Image Index: 601"
     },
     "execution_count": 1,
     "metadata": {},
     "output_type": "execute_result"
    },
    {
     "data": {
      "text/plain": "Phase: Bottleneck Computation, Dataset used:      Train, Image Index: 602"
     },
     "execution_count": 1,
     "metadata": {},
     "output_type": "execute_result"
    },
    {
     "data": {
      "text/plain": "Phase: Bottleneck Computation, Dataset used:      Train, Image Index: 603"
     },
     "execution_count": 1,
     "metadata": {},
     "output_type": "execute_result"
    },
    {
     "data": {
      "text/plain": "Phase: Bottleneck Computation, Dataset used:      Train, Image Index: 604"
     },
     "execution_count": 1,
     "metadata": {},
     "output_type": "execute_result"
    },
    {
     "data": {
      "text/plain": "Phase: Training, Dataset used: Validation, Batch Processed Count:  10, Epoch:   0, Accuracy:       0,98, Cross-Entropy: 0,08177142"
     },
     "execution_count": 1,
     "metadata": {},
     "output_type": "execute_result"
    },
    {
     "data": {
      "text/plain": "Phase: Training, Dataset used: Validation, Batch Processed Count:  10, Epoch:   1, Accuracy:       0,98, Cross-Entropy: 0,06405235"
     },
     "execution_count": 1,
     "metadata": {},
     "output_type": "execute_result"
    },
    {
     "data": {
      "text/plain": "Phase: Training, Dataset used: Validation, Batch Processed Count:  10, Epoch:   2, Accuracy:       0,98, Cross-Entropy: 0,05580454"
     },
     "execution_count": 1,
     "metadata": {},
     "output_type": "execute_result"
    },
    {
     "data": {
      "text/plain": "Phase: Training, Dataset used: Validation, Batch Processed Count:  10, Epoch:   3, Accuracy:       0,98, Cross-Entropy: 0,050581016"
     },
     "execution_count": 1,
     "metadata": {},
     "output_type": "execute_result"
    },
    {
     "data": {
      "text/plain": "Phase: Training, Dataset used: Validation, Batch Processed Count:  10, Epoch:   4, Accuracy:       0,98, Cross-Entropy: 0,046575394"
     },
     "execution_count": 1,
     "metadata": {},
     "output_type": "execute_result"
    },
    {
     "data": {
      "text/plain": "Phase: Training, Dataset used: Validation, Batch Processed Count:  10, Epoch:   5, Accuracy: 0,98999995, Cross-Entropy: 0,043892227"
     },
     "execution_count": 1,
     "metadata": {},
     "output_type": "execute_result"
    },
    {
     "data": {
      "text/plain": "Phase: Training, Dataset used: Validation, Batch Processed Count:  10, Epoch:   6, Accuracy: 0,98999995, Cross-Entropy: 0,041570388"
     },
     "execution_count": 1,
     "metadata": {},
     "output_type": "execute_result"
    },
    {
     "data": {
      "text/plain": "Phase: Training, Dataset used: Validation, Batch Processed Count:  10, Epoch:   7, Accuracy: 0,98999995, Cross-Entropy: 0,039993845"
     },
     "execution_count": 1,
     "metadata": {},
     "output_type": "execute_result"
    },
    {
     "data": {
      "text/plain": "Phase: Training, Dataset used: Validation, Batch Processed Count:  10, Epoch:   8, Accuracy: 0,98999995, Cross-Entropy: 0,038531356"
     },
     "execution_count": 1,
     "metadata": {},
     "output_type": "execute_result"
    },
    {
     "data": {
      "text/plain": "Phase: Training, Dataset used: Validation, Batch Processed Count:  10, Epoch:   9, Accuracy: 0,98999995, Cross-Entropy: 0,03751794"
     },
     "execution_count": 1,
     "metadata": {},
     "output_type": "execute_result"
    },
    {
     "data": {
      "text/plain": "Phase: Training, Dataset used: Validation, Batch Processed Count:  10, Epoch:  10, Accuracy: 0,98999995, Cross-Entropy: 0,036534872"
     },
     "execution_count": 1,
     "metadata": {},
     "output_type": "execute_result"
    },
    {
     "data": {
      "text/plain": "Phase: Training, Dataset used: Validation, Batch Processed Count:  10, Epoch:  11, Accuracy: 0,98999995, Cross-Entropy: 0,035837162"
     },
     "execution_count": 1,
     "metadata": {},
     "output_type": "execute_result"
    },
    {
     "data": {
      "text/plain": "Phase: Training, Dataset used: Validation, Batch Processed Count:  10, Epoch:  12, Accuracy: 0,98999995, Cross-Entropy: 0,035141144"
     },
     "execution_count": 1,
     "metadata": {},
     "output_type": "execute_result"
    },
    {
     "data": {
      "text/plain": "Phase: Training, Dataset used: Validation, Batch Processed Count:  10, Epoch:  13, Accuracy: 0,98999995, Cross-Entropy: 0,034635134"
     },
     "execution_count": 1,
     "metadata": {},
     "output_type": "execute_result"
    },
    {
     "data": {
      "text/plain": "Phase: Training, Dataset used: Validation, Batch Processed Count:  10, Epoch:  14, Accuracy: 0,98999995, Cross-Entropy: 0,034121715"
     },
     "execution_count": 1,
     "metadata": {},
     "output_type": "execute_result"
    },
    {
     "data": {
      "text/plain": "Phase: Training, Dataset used: Validation, Batch Processed Count:  10, Epoch:  15, Accuracy: 0,98999995, Cross-Entropy: 0,03373993"
     },
     "execution_count": 1,
     "metadata": {},
     "output_type": "execute_result"
    },
    {
     "data": {
      "text/plain": "Phase: Training, Dataset used: Validation, Batch Processed Count:  10, Epoch:  16, Accuracy: 0,98999995, Cross-Entropy: 0,033348672"
     },
     "execution_count": 1,
     "metadata": {},
     "output_type": "execute_result"
    },
    {
     "data": {
      "text/plain": "Phase: Training, Dataset used: Validation, Batch Processed Count:  10, Epoch:  17, Accuracy: 0,98999995, Cross-Entropy: 0,033051647"
     },
     "execution_count": 1,
     "metadata": {},
     "output_type": "execute_result"
    },
    {
     "data": {
      "text/plain": "Phase: Training, Dataset used: Validation, Batch Processed Count:  10, Epoch:  18, Accuracy: 0,98999995, Cross-Entropy: 0,032745622"
     },
     "execution_count": 1,
     "metadata": {},
     "output_type": "execute_result"
    },
    {
     "data": {
      "text/plain": "Phase: Training, Dataset used: Validation, Batch Processed Count:  10, Epoch:  19, Accuracy: 0,98999995, Cross-Entropy: 0,032508858"
     },
     "execution_count": 1,
     "metadata": {},
     "output_type": "execute_result"
    },
    {
     "data": {
      "text/plain": "Phase: Training, Dataset used: Validation, Batch Processed Count:  10, Epoch:  20, Accuracy: 0,98999995, Cross-Entropy: 0,032264266"
     },
     "execution_count": 1,
     "metadata": {},
     "output_type": "execute_result"
    },
    {
     "data": {
      "text/plain": "Saver not created because there are no variables in the graph to restore\r\n"
     },
     "execution_count": 1,
     "metadata": {},
     "output_type": "execute_result"
    },
    {
     "data": {
      "text/plain": "Restoring parameters from C:\\Users\\grego\\source\\repos\\IsItKrampus.NET\\workspace\\custom_retrained_model_based_on_inception_v3.meta\r\n"
     },
     "execution_count": 1,
     "metadata": {},
     "output_type": "execute_result"
    },
    {
     "data": {
      "text/plain": "Froze 2 variables. \r\n"
     },
     "execution_count": 1,
     "metadata": {},
     "output_type": "execute_result"
    },
    {
     "data": {
      "text/plain": "Converted 2 variables to const ops. \r\n"
     },
     "execution_count": 1,
     "metadata": {},
     "output_type": "execute_result"
    }
   ],
   "source": [
    "#!fsharp\n",
    "let trainedModel = trainingPipeline.Fit augmentedTrain"
   ]
  },
  {
   "cell_type": "code",
   "execution_count": 1,
   "metadata": {},
   "outputs": [],
   "source": [
    "#!fsharp\n",
    "let predictions = trainedModel.Transform testSet"
   ]
  },
  {
   "cell_type": "code",
   "execution_count": 1,
   "metadata": {},
   "outputs": [],
   "source": [
    "#!fsharp\n",
    "let metrics = mlContext.MulticlassClassification.Evaluate(predictions, labelColumnName = \"LabelAsKey\")"
   ]
  },
  {
   "cell_type": "code",
   "execution_count": 1,
   "metadata": {},
   "outputs": [
    {
     "data": {
      "text/plain": "Micro Accuracy: 0.989130 Macro Accuracy: 0.990741 Log Loss: 0.062684"
     },
     "execution_count": 1,
     "metadata": {},
     "output_type": "execute_result"
    }
   ],
   "source": [
    "#!fsharp\n",
    "display $\"Micro Accuracy: %f{metrics.MicroAccuracy} Macro Accuracy: %f{metrics.MacroAccuracy} Log Loss: %f{metrics.LogLoss}\""
   ]
  },
  {
   "cell_type": "code",
   "execution_count": 1,
   "metadata": {},
   "outputs": [
    {
     "data": {
      "text/html": "<table><thead><tr><th>LogLoss</th><th>LogLossReduction</th><th>MacroAccuracy</th><th>MicroAccuracy</th><th>TopKAccuracy</th><th>TopKPredictionCount</th><th>TopKAccuracyForAllK</th><th>PerClassLogLoss</th><th>ConfusionMatrix</th></tr></thead><tbody><tr><td><div class=\"dni-plaintext\">0.06268387941571936</div></td><td><div class=\"dni-plaintext\">0.9425573930431308</div></td><td><div class=\"dni-plaintext\">0.9907407407407408</div></td><td><div class=\"dni-plaintext\">0.9891304347826086</div></td><td><div class=\"dni-plaintext\">0</div></td><td><div class=\"dni-plaintext\">0</div></td><td><div class=\"dni-plaintext\">&lt;null&gt;</div></td><td><div class=\"dni-plaintext\">[ 0.13162625484969903, 0.03134339453446729, 0.0053841673104260785 ]</div></td><td><div class=\"dni-plaintext\">Microsoft.ML.Data.ConfusionMatrix</div></td></tr></tbody></table>"
     },
     "execution_count": 1,
     "metadata": {},
     "output_type": "execute_result"
    }
   ],
   "source": [
    "#!fsharp\n",
    "metrics"
   ]
  },
  {
   "cell_type": "code",
   "execution_count": 1,
   "metadata": {},
   "outputs": [],
   "source": [
    "#!fsharp\n",
    "let wronglyPredictedOutputs =\n",
    "    mlContext.Data.CreateEnumerable<ModelOutput>(predictions, reuseRowObject = false)\n",
    "    |> Seq.filter (fun output -> output.Label <> output.PredictedLabel)\n",
    "    |> Seq.toList"
   ]
  },
  {
   "cell_type": "code",
   "execution_count": 1,
   "metadata": {},
   "outputs": [
    {
     "data": {
      "text/html": "<table><thead><tr><th><i>index</i></th><th>Image</th><th>Label</th><th>PredictedLabel</th></tr></thead><tbody><tr><td>0</td><td><div class=\"dni-plaintext\">[ 255, 216, 255, 224, 0, 16, 74, 70, 73, 70, 0, 1, 1, 1, 1, 44, 1, 44, 0, 0 ... (31489 more) ]</div></td><td><div class=\"dni-plaintext\">Krampus</div></td><td><div class=\"dni-plaintext\">Other</div></td></tr></tbody></table>"
     },
     "execution_count": 1,
     "metadata": {},
     "output_type": "execute_result"
    },
    {
     "data": {
      "text/html": "<img src=\"data:image/png;base64,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\"></img>"
     },
     "execution_count": 1,
     "metadata": {},
     "output_type": "execute_result"
    }
   ],
   "source": [
    "#!fsharp\n",
    "display wronglyPredictedOutputs\n",
    "\n",
    "let wronglyPredictedBase64 = Convert.ToBase64String wronglyPredictedOutputs.[0].Image\n",
    "DisplayFunctions.HTML$\"<img src=\\\"data:image/png;base64,{wronglyPredictedBase64}\\\"></img>\""
   ]
  },
  {
   "cell_type": "code",
   "execution_count": 1,
   "metadata": {},
   "outputs": [],
   "source": [
    "#!fsharp\n",
    "open MLOps.NET\n",
    "open MLOps.NET.SQLite\n",
    "open MLOps.NET.Storage\n",
    "open MLOps.NET.Extensions\n",
    "\n",
    "let dbFolder = Path.Combine(projectRoot, \"data\", \"mlops-data\")\n",
    "let modelRepo = Path.Combine(dbFolder, \"model-repo\")\n",
    "let dbFile = Path.Combine(dbFolder, \"localmlops.db\")\n",
    "\n",
    "[<Literal>]\n",
    "let experimentName = \"IsItKrampus.NET\"\n",
    "\n",
    "let mlOps =\n",
    "    MLOpsBuilder()\n",
    "        .UseSQLite(dbFile)\n",
    "        .UseLocalFileModelRepository(modelRepo)\n",
    "        .Build()"
   ]
  },
  {
   "cell_type": "code",
   "execution_count": 1,
   "metadata": {},
   "outputs": [],
   "source": [
    "#!fsharp\n",
    "open System.Threading.Tasks\n",
    "\n",
    "let doSync (task: Task<'a>) =\n",
    "    task\n",
    "    |> Async.AwaitTask\n",
    "    |> Async.RunSynchronously\n",
    "\n",
    "let doSyncUnit (task: Task) =\n",
    "    task\n",
    "    |> Async.AwaitTask\n",
    "    |> Async.RunSynchronously"
   ]
  },
  {
   "cell_type": "code",
   "execution_count": 1,
   "metadata": {},
   "outputs": [],
   "source": [
    "#!fsharp\n",
    "let run =\n",
    "    mlOps.LifeCycle.CreateRunAsync(experimentName)\n",
    "    |> doSync"
   ]
  },
  {
   "cell_type": "code",
   "execution_count": 1,
   "metadata": {},
   "outputs": [],
   "source": [
    "#!fsharp\n",
    "let modelDir = Path.Combine(projectRoot, \"models\")\n",
    "let modelPath = Path.Combine(modelDir, \"model.zip\")\n",
    "mlContext.Model.Save(trainedModel, preProcessedData.Schema, modelPath)"
   ]
  },
  {
   "cell_type": "code",
   "execution_count": 1,
   "metadata": {},
   "outputs": [],
   "source": [
    "#!fsharp\n",
    "mlOps.Data.LogDataAsync(run.RunId, imageData)\n",
    "|> doSyncUnit\n",
    "\n",
    "mlOps.Training.LogHyperParametersAsync(run.RunId, trainedModel)\n",
    "|> doSyncUnit\n",
    "\n",
    "mlOps.Evaluation.LogConfusionMatrixAsync(run.RunId, metrics.ConfusionMatrix)\n",
    "|> doSyncUnit\n",
    "\n",
    "mlOps.Evaluation.LogMetricsAsync(run.RunId, metrics)\n",
    "|> doSyncUnit"
   ]
  },
  {
   "cell_type": "code",
   "execution_count": 1,
   "metadata": {},
   "outputs": [],
   "source": [
    "#!fsharp\n",
    "let runArtifact =\n",
    "    mlOps.Model.UploadAsync(run.RunId, Path.Combine(modelPath))\n",
    "    |> doSync\n",
    "\n",
    "let registeredModel =\n",
    "    mlOps.Model.RegisterModel(run.ExperimentId, runArtifact.RunArtifactId, \"@GBeyerle\")\n",
    "    |> doSync"
   ]
  },
  {
   "cell_type": "code",
   "execution_count": 1,
   "metadata": {},
   "outputs": [],
   "source": [
    "#!fsharp\n",
    "let mutable predictionPipelineSchema : DataViewSchema = null\n",
    "let loadedModel = mlContext.Model.Load(modelPath, &predictionPipelineSchema)"
   ]
  },
  {
   "cell_type": "code",
   "execution_count": 1,
   "metadata": {},
   "outputs": [],
   "source": [
    "#!fsharp\n",
    "let predictionEngine = mlContext.Model.CreatePredictionEngine<ModelInput, ModelOutput>(loadedModel)"
   ]
  },
  {
   "cell_type": "code",
   "execution_count": 1,
   "metadata": {},
   "outputs": [
    {
     "data": {
      "text/html": "<img src=\"data:image/png;base64,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\"></img>"
     },
     "execution_count": 1,
     "metadata": {},
     "output_type": "execute_result"
    }
   ],
   "source": [
    "#!fsharp\n",
    "let getRandom (a: 'a array) =\n",
    "    let rnd = System.Random()\n",
    "    let idx = rnd.Next(0, Array.length a - 1)\n",
    "    a.[idx]\n",
    "\n",
    "let image =\n",
    "    loadImagesFromPreparedDir()\n",
    "    |> getRandom\n",
    "    |> fun i -> Path.Combine(prepDir, i.ImagePath)\n",
    "    |> File.ReadAllBytes\n",
    "\n",
    "let base64 = Convert.ToBase64String image\n",
    "\n",
    "DisplayFunctions.HTML $\"<img src=\\\"data:image/png;base64,{base64}\\\"></img>\""
   ]
  },
  {
   "cell_type": "code",
   "execution_count": 1,
   "metadata": {},
   "outputs": [
    {
     "data": {
      "text/html": "<table><thead><tr><th>Image</th><th>Label</th><th>PredictedLabel</th></tr></thead><tbody><tr><td><div class=\"dni-plaintext\">[ 255, 216, 255, 224, 0, 16, 74, 70, 73, 70, 0, 1, 1, 1, 0, 96, 0, 96, 0, 0 ... (13856 more) ]</div></td><td></td><td><div class=\"dni-plaintext\">Other</div></td></tr></tbody></table>"
     },
     "execution_count": 1,
     "metadata": {},
     "output_type": "execute_result"
    }
   ],
   "source": [
    "#!fsharp\n",
    "let input : ModelInput =\n",
    "    { Image = image\n",
    "      Label = null }\n",
    "\n",
    "let output = predictionEngine.Predict input\n",
    "\n",
    "output"
   ]
  }
 ],
 "metadata": {
  "kernelspec": {
   "display_name": ".NET (C#)",
   "language": "C#",
   "name": ".net-csharp"
  },
  "language_info": {
   "file_extension": ".cs",
   "mimetype": "text/x-csharp",
   "name": "C#",
   "pygments_lexer": "csharp",
   "version": "8.0"
  }
 },
 "nbformat": 4,
 "nbformat_minor": 4
}